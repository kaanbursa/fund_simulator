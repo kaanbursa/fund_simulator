{
 "cells": [
  {
   "cell_type": "code",
   "execution_count": 1,
   "metadata": {},
   "outputs": [],
   "source": [
    "import pandas as pd\n",
    "import torch as th\n",
    "import os\n",
    "import re\n",
    "import yfinance as yf\n",
    "import numpy as np\n",
    "import warnings\n",
    "from stable_baselines3.common.noise import NormalActionNoise, OrnsteinUhlenbeckActionNoise\n",
    "warnings.filterwarnings('ignore')\n",
    "            \n",
    "import sys; sys.path.insert(0, '..')\n",
    "from model.models import run_ensemble_strategy, TrainerConfig, Trainer\n",
    "import data.preprocessing as pp\n",
    "from utils.utils_analyze import get_price, check_index_dim\n",
    "from utils.indicators import indicator_list, indicators_stock_stats\n",
    "from env.BaseEnv import EnvConfig\n",
    "from env.EnvStock_val import StockEnvValidation\n",
    "from env.EnvStock_train import StockEnvTrain\n",
    "from env.EnvStock_trade import StockEnvTrade\n",
    "from policy.Policies import MlActorCriticPolicy\n",
    "from config.config import indexes, ticker_list, category_dict, ticker_list_with_dict, tech_tickers\n",
    "%matplotlib inline\n",
    "%load_ext autoreload\n",
    "%autoreload 2"
   ]
  },
  {
   "cell_type": "markdown",
   "metadata": {},
   "source": [
    "### Do not Run these two cell if you do not want to preprocess data from the begining"
   ]
  },
  {
   "cell_type": "code",
   "execution_count": 16,
   "metadata": {},
   "outputs": [],
   "source": [
    "START_DATE = '2011-01-01'\n",
    "SEED = 42069\n",
    "NORNAMLIZE = True"
   ]
  },
  {
   "cell_type": "markdown",
   "metadata": {},
   "source": [
    "###  Run these two cell if you do not want to preprocess data from the begining"
   ]
  },
  {
   "cell_type": "code",
   "execution_count": 32,
   "metadata": {},
   "outputs": [],
   "source": [
    "SAC_PARAMS = {'gamma':0.995,\n",
    " 'learning_rate':0.016241092434986143,\n",
    " 'batch_size':64,\n",
    " 'buffer_size':1000000,\n",
    " 'learning_starts':10000,\n",
    " 'gradient_steps':8,\n",
    " 'ent_coef':'auto',\n",
    " 'tau':0.005,\n",
    " 'target_entropy':'auto',\n",
    " 'policy_kwargs':{'log_std_init': -3.3486909298160947,'net_arch': [256, 256] },\n",
    "    'use_sde': False,\n",
    " 'seed':42069,\n",
    "             \"device\":\"cuda\"}\n",
    "\n",
    "\n",
    "PPO_PARAMS =  {'n_steps': 512, 'batch_size': 64, 'gamma': 0.999, 'learning_rate': 0.03691157097485833, \n",
    "                                'ent_coef': 0.08932887565089782, \n",
    "                                'clip_range': 0.1, 'n_epochs': 5, \n",
    "                                'gae_lambda': 0.9, 'max_grad_norm': 0.8, 'vf_coef': 0.891060944163853, \n",
    "                                'policy_kwargs': {'net_arch': [{'pi': [256, 256], 'vf': [256, 256]}], \n",
    "              'activation_fn': th.nn.ReLU, 'ortho_init': False}, 'seed': 42069, \"device\":\"cuda\"}\n",
    "DATASET_VERSION = 'pretrainedTrial6'\n",
    "model = 'PPO'\n",
    "MODEL_NAME = f'jim_{model}-v31'\n",
    "POPULATION = 10\n",
    "TIME_INTERVAL = 5\n",
    "START_TRADE = '2011-01-01'\n",
    "policy_kwargs = dict(activation_fn=th.nn.ReLU,\n",
    "                     net_arch=[dict(pi=[256, 128, 64], vf=[256, 128])])\n",
    "TIME_FRAME = 0"
   ]
  },
  {
   "cell_type": "code",
   "execution_count": 34,
   "metadata": {},
   "outputs": [],
   "source": [
    "winner_params = {'n_steps':8,'batch_size':8,'gamma':0.95,'learning_rate':0.027651081986547765,\n",
    " 'ent_coef':0.009004220378275581,'clip_range':0.3,'n_epochs':1,'gae_lambda':0.95,'max_grad_norm':0.9,'vf_coef':0.9311987337638572,\n",
    " 'policy_kwargs':{'net_arch': [{'pi': [256, 256], 'vf': [256, 256]}], 'activation_fn': th.nn.Tanh, 'ortho_init': False},'seed':42069,'device':'cuda'}"
   ]
  },
  {
   "cell_type": "code",
   "execution_count": 35,
   "metadata": {},
   "outputs": [],
   "source": [
    "params = {'SAC':SAC_PARAMS, 'PPO':PPO_PARAMS}"
   ]
  },
  {
   "cell_type": "code",
   "execution_count": 36,
   "metadata": {},
   "outputs": [],
   "source": [
    "tconfig = TrainerConfig(start_date=START_TRADE,\n",
    "                        rebalance_window = 242,\n",
    "                        validation_window = 242,\n",
    "                        **{'hparams':winner_params},\n",
    "                        timesteps=50000,\n",
    "                       policy_kwargs = policy_kwargs,\n",
    "                       index_list = indexes)"
   ]
  },
  {
   "cell_type": "code",
   "execution_count": 37,
   "metadata": {},
   "outputs": [
    {
     "name": "stdout",
     "output_type": "stream",
     "text": [
      "Total number of stocks:   469\n",
      "GPU available\n"
     ]
    }
   ],
   "source": [
    "trainer = Trainer(model, 'MlpPolicy', \n",
    "                  StockEnvTrain, StockEnvValidation, StockEnvTrade, \n",
    "                  dataset_version=DATASET_VERSION, population=1,\n",
    "                     config = tconfig, model_name= MODEL_NAME, debug=False)"
   ]
  },
  {
   "cell_type": "code",
   "execution_count": null,
   "metadata": {},
   "outputs": [],
   "source": []
  },
  {
   "cell_type": "code",
   "execution_count": 38,
   "metadata": {
    "scrolled": true,
    "tags": []
   },
   "outputs": [
    {
     "name": "stderr",
     "output_type": "stream",
     "text": [
      "\u001b[34m\u001b[1mwandb\u001b[0m: wandb version 0.12.9 is available!  To upgrade, please run:\n",
      "\u001b[34m\u001b[1mwandb\u001b[0m:  $ pip install wandb --upgrade\n"
     ]
    },
    {
     "data": {
      "text/html": [
       "\n",
       "                    Syncing run <strong><a href=\"https://wandb.ai/kaanb/FundSimulator/runs/1oahagnb\" target=\"_blank\">dark-totem-981</a></strong> to <a href=\"https://wandb.ai/kaanb/FundSimulator\" target=\"_blank\">Weights & Biases</a> (<a href=\"https://docs.wandb.com/integrations/jupyter.html\" target=\"_blank\">docs</a>).<br/>\n",
       "\n",
       "                "
      ],
      "text/plain": [
       "<IPython.core.display.HTML object>"
      ]
     },
     "metadata": {},
     "output_type": "display_data"
    },
    {
     "data": {
      "text/html": [
       "<br/>Waiting for W&B process to finish, PID 5520... <strong style=\"color:green\">(success).</strong>"
      ],
      "text/plain": [
       "<IPython.core.display.HTML object>"
      ]
     },
     "metadata": {},
     "output_type": "display_data"
    },
    {
     "data": {
      "application/vnd.jupyter.widget-view+json": {
       "model_id": "",
       "version_major": 2,
       "version_minor": 0
      },
      "text/plain": [
       "VBox(children=(Label(value=' 0.00MB of 0.00MB uploaded (0.00MB deduped)\\r'), FloatProgress(value=1.0, max=1.0)…"
      ]
     },
     "metadata": {},
     "output_type": "display_data"
    },
    {
     "data": {
      "text/html": [
       "<style>\n",
       "    table.wandb td:nth-child(1) { padding: 0 10px; text-align: right }\n",
       "    .wandb-row { display: flex; flex-direction: row; flex-wrap: wrap; width: 100% }\n",
       "    .wandb-col { display: flex; flex-direction: column; flex-basis: 100%; flex: 1; padding: 10px; }\n",
       "    </style>\n",
       "<div class=\"wandb-row\"><div class=\"wandb-col\">\n",
       "</div><div class=\"wandb-col\">\n",
       "</div></div>\n",
       "Synced 5 W&B file(s), 0 media file(s), 0 artifact file(s) and 0 other file(s)\n",
       "<br/>Synced <strong style=\"color:#cdcd00\">dark-totem-981</strong>: <a href=\"https://wandb.ai/kaanb/FundSimulator/runs/1oahagnb\" target=\"_blank\">https://wandb.ai/kaanb/FundSimulator/runs/1oahagnb</a><br/>\n",
       "Find logs at: <code>.\\wandb\\run-20211217_124426-1oahagnb\\logs</code><br/>\n"
      ],
      "text/plain": [
       "<IPython.core.display.HTML object>"
      ]
     },
     "metadata": {},
     "output_type": "display_data"
    },
    {
     "name": "stdout",
     "output_type": "stream",
     "text": [
      "============================================\n",
      "======Model training from:  2011-01-01 to  2016-01-04T00:00:00.000000000\n",
      "======Training Agents with the population of 1========\n",
      "Training time  jim_PPO-v31 :  5.161948092778524  minutes\n",
      "======Recurrent PPO Validation from:  2016-01-04T00:00:00.000000000 to  2016-12-16T00:00:00.000000000\n",
      "-----------------\n",
      "Total Reward:  -1.2527346042916179\n",
      "Total Trades:  3940\n",
      "End total asset for validation 1114740.6625499846\n",
      "Mean Reward: 2.948597278111265\n",
      "STD reward: 1.7208016180661836\n",
      "-----------------\n",
      "Total reward at validation for Reccurent PPO -1.2527346042916179\n",
      "Sharpe Ratio:  0\n",
      "================================================================================\n",
      "Best params,  {'n_steps': 8, 'batch_size': 8, 'gamma': 0.95, 'learning_rate': 0.027651081986547765, 'ent_coef': 0.009004220378275581, 'clip_range': 0.3, 'n_epochs': 1, 'gae_lambda': 0.95, 'max_grad_norm': 0.9, 'vf_coef': 0.9311987337638572, 'policy_kwargs': {'net_arch': [{'pi': [256, 256], 'vf': [256, 256]}], 'activation_fn': <class 'torch.nn.modules.activation.Tanh'>, 'ortho_init': False}, 'seed': 42069, 'device': 'cuda'}\n",
      "================================================================================\n",
      "======Trading from:  2016-12-16T00:00:00.000000000 to  2017-09-07T00:00:00.000000000 Model is :  Rec_PPO\n",
      "180\n",
      "previous_total_asset:1000000\n",
      "end_total_asset:1112969.7936781154\n",
      "total_asset_change:112969.79367811535\n",
      "Total cash is: 1.6565347703257167$ and total holdings in stocks are 1112968.137143345$\n",
      "Buy & Hold strategy with previous total asset:  1111779.9384827751\n",
      "Total Cost:  1649.6506761073629\n",
      "Sum of rewards  -122188.69758392125\n",
      "Total trades:  223\n",
      "Total days in turbulance:  0\n",
      "Sharpe:  0.25023459208316673\n",
      "=============\n",
      "Total reward for the the window is -9.527522636111826\n",
      "=============\n"
     ]
    },
    {
     "name": "stderr",
     "output_type": "stream",
     "text": [
      "\u001b[34m\u001b[1mwandb\u001b[0m: wandb version 0.12.9 is available!  To upgrade, please run:\n",
      "\u001b[34m\u001b[1mwandb\u001b[0m:  $ pip install wandb --upgrade\n"
     ]
    },
    {
     "data": {
      "text/html": [
       "\n",
       "                    Syncing run <strong><a href=\"https://wandb.ai/kaanb/FundSimulator/runs/1yb4y8fu\" target=\"_blank\">stellar-wood-982</a></strong> to <a href=\"https://wandb.ai/kaanb/FundSimulator\" target=\"_blank\">Weights & Biases</a> (<a href=\"https://docs.wandb.com/integrations/jupyter.html\" target=\"_blank\">docs</a>).<br/>\n",
       "\n",
       "                "
      ],
      "text/plain": [
       "<IPython.core.display.HTML object>"
      ]
     },
     "metadata": {},
     "output_type": "display_data"
    },
    {
     "data": {
      "text/html": [
       "<br/>Waiting for W&B process to finish, PID 16008... <strong style=\"color:green\">(success).</strong>"
      ],
      "text/plain": [
       "<IPython.core.display.HTML object>"
      ]
     },
     "metadata": {},
     "output_type": "display_data"
    },
    {
     "data": {
      "application/vnd.jupyter.widget-view+json": {
       "model_id": "",
       "version_major": 2,
       "version_minor": 0
      },
      "text/plain": [
       "VBox(children=(Label(value=' 0.00MB of 0.00MB uploaded (0.00MB deduped)\\r'), FloatProgress(value=1.0, max=1.0)…"
      ]
     },
     "metadata": {},
     "output_type": "display_data"
    },
    {
     "data": {
      "text/html": [
       "<style>\n",
       "    table.wandb td:nth-child(1) { padding: 0 10px; text-align: right }\n",
       "    .wandb-row { display: flex; flex-direction: row; flex-wrap: wrap; width: 100% }\n",
       "    .wandb-col { display: flex; flex-direction: column; flex-basis: 100%; flex: 1; padding: 10px; }\n",
       "    </style>\n",
       "<div class=\"wandb-row\"><div class=\"wandb-col\">\n",
       "<h3>Run history:</h3><br/><table class=\"wandb\"><tr><td>date</td><td>▁</td></tr><tr><td>end_total_asset</td><td>▁</td></tr><tr><td>trade_reward</td><td>▁</td></tr></table><br/></div><div class=\"wandb-col\">\n",
       "<h3>Run summary:</h3><br/><table class=\"wandb\"><tr><td>date</td><td>1504742400000000000</td></tr><tr><td>end_total_asset</td><td>1112969.79368</td></tr><tr><td>trade_reward</td><td>0.1765</td></tr></table>\n",
       "</div></div>\n",
       "Synced 5 W&B file(s), 0 media file(s), 0 artifact file(s) and 0 other file(s)\n",
       "<br/>Synced <strong style=\"color:#cdcd00\">stellar-wood-982</strong>: <a href=\"https://wandb.ai/kaanb/FundSimulator/runs/1yb4y8fu\" target=\"_blank\">https://wandb.ai/kaanb/FundSimulator/runs/1yb4y8fu</a><br/>\n",
       "Find logs at: <code>.\\wandb\\run-20211217_124956-1yb4y8fu\\logs</code><br/>\n"
      ],
      "text/plain": [
       "<IPython.core.display.HTML object>"
      ]
     },
     "metadata": {},
     "output_type": "display_data"
    },
    {
     "name": "stdout",
     "output_type": "stream",
     "text": [
      "============================================\n",
      "======Model training from:  2011-01-01 to  2016-09-21T00:00:00.000000000\n",
      "======Training Agents with the population of 1========\n",
      "Training time  jim_PPO-v31 :  5.5763593475023905  minutes\n",
      "======Recurrent PPO Validation from:  2016-09-21T00:00:00.000000000 to  2017-09-07T00:00:00.000000000\n",
      "-----------------\n",
      "Total Reward:  0.08103596698492765\n",
      "Total Trades:  3996\n",
      "End total asset for validation 1177260.2103577538\n",
      "Mean Reward: -8.263389944983647\n",
      "STD reward: 3.2968650298190685\n",
      "-----------------\n",
      "Total reward at validation for Reccurent PPO 0.08103596698492765\n",
      "Sharpe Ratio:  0\n",
      "================================================================================\n",
      "Best params,  {'n_steps': 8, 'batch_size': 8, 'gamma': 0.95, 'learning_rate': 0.027651081986547765, 'ent_coef': 0.009004220378275581, 'clip_range': 0.3, 'n_epochs': 1, 'gae_lambda': 0.95, 'max_grad_norm': 0.9, 'vf_coef': 0.9311987337638572, 'policy_kwargs': {'net_arch': [{'pi': [256, 256], 'vf': [256, 256]}], 'activation_fn': <class 'torch.nn.modules.activation.Tanh'>, 'ortho_init': False}, 'seed': 42069, 'device': 'cuda'}\n",
      "================================================================================\n",
      "======Trading from:  2017-09-07T00:00:00.000000000 to  2018-05-29T00:00:00.000000000 Model is :  Rec_PPO\n",
      "603\n",
      "180\n",
      "Saving to  results/account_value_trade_main_jim_PPO-v31.csv\n",
      "previous_total_asset:1112969.7936781154\n",
      "end_total_asset:1299789.7413149024\n",
      "total_asset_change:186819.94763678708\n",
      "Total cash is: 24.23409209873111$ and total holdings in stocks are 1299765.5072228038$\n",
      "Buy & Hold strategy with previous total asset:  1273806.1133743431\n",
      "Total Cost:  7163.287281938259\n",
      "Sum of rewards  3786008.606232635\n",
      "Total trades:  889\n",
      "Total days in turbulance:  0\n",
      "Sharpe:  0.18266742798439883\n",
      "603\n",
      "=============\n",
      "Total reward for the the window is 13.874340359587222\n",
      "=============\n"
     ]
    },
    {
     "name": "stderr",
     "output_type": "stream",
     "text": [
      "\u001b[34m\u001b[1mwandb\u001b[0m: wandb version 0.12.9 is available!  To upgrade, please run:\n",
      "\u001b[34m\u001b[1mwandb\u001b[0m:  $ pip install wandb --upgrade\n"
     ]
    },
    {
     "data": {
      "text/html": [
       "\n",
       "                    Syncing run <strong><a href=\"https://wandb.ai/kaanb/FundSimulator/runs/3kxsjxz1\" target=\"_blank\">snowy-sponge-983</a></strong> to <a href=\"https://wandb.ai/kaanb/FundSimulator\" target=\"_blank\">Weights & Biases</a> (<a href=\"https://docs.wandb.com/integrations/jupyter.html\" target=\"_blank\">docs</a>).<br/>\n",
       "\n",
       "                "
      ],
      "text/plain": [
       "<IPython.core.display.HTML object>"
      ]
     },
     "metadata": {},
     "output_type": "display_data"
    },
    {
     "data": {
      "text/html": [
       "<br/>Waiting for W&B process to finish, PID 8908... <strong style=\"color:green\">(success).</strong>"
      ],
      "text/plain": [
       "<IPython.core.display.HTML object>"
      ]
     },
     "metadata": {},
     "output_type": "display_data"
    },
    {
     "data": {
      "application/vnd.jupyter.widget-view+json": {
       "model_id": "",
       "version_major": 2,
       "version_minor": 0
      },
      "text/plain": [
       "VBox(children=(Label(value=' 0.00MB of 0.00MB uploaded (0.00MB deduped)\\r'), FloatProgress(value=1.0, max=1.0)…"
      ]
     },
     "metadata": {},
     "output_type": "display_data"
    },
    {
     "data": {
      "text/html": [
       "<style>\n",
       "    table.wandb td:nth-child(1) { padding: 0 10px; text-align: right }\n",
       "    .wandb-row { display: flex; flex-direction: row; flex-wrap: wrap; width: 100% }\n",
       "    .wandb-col { display: flex; flex-direction: column; flex-basis: 100%; flex: 1; padding: 10px; }\n",
       "    </style>\n",
       "<div class=\"wandb-row\"><div class=\"wandb-col\">\n",
       "<h3>Run history:</h3><br/><table class=\"wandb\"><tr><td>date</td><td>▁</td></tr><tr><td>end_total_asset</td><td>▁</td></tr><tr><td>trade_reward</td><td>▁</td></tr></table><br/></div><div class=\"wandb-col\">\n",
       "<h3>Run summary:</h3><br/><table class=\"wandb\"><tr><td>date</td><td>1527552000000000000</td></tr><tr><td>end_total_asset</td><td>1299789.74131</td></tr><tr><td>trade_reward</td><td>0.07098</td></tr></table>\n",
       "</div></div>\n",
       "Synced 5 W&B file(s), 0 media file(s), 0 artifact file(s) and 0 other file(s)\n",
       "<br/>Synced <strong style=\"color:#cdcd00\">snowy-sponge-983</strong>: <a href=\"https://wandb.ai/kaanb/FundSimulator/runs/3kxsjxz1\" target=\"_blank\">https://wandb.ai/kaanb/FundSimulator/runs/3kxsjxz1</a><br/>\n",
       "Find logs at: <code>.\\wandb\\run-20211217_125551-3kxsjxz1\\logs</code><br/>\n"
      ],
      "text/plain": [
       "<IPython.core.display.HTML object>"
      ]
     },
     "metadata": {},
     "output_type": "display_data"
    },
    {
     "name": "stdout",
     "output_type": "stream",
     "text": [
      "============================================\n",
      "======Model training from:  2011-01-01 to  2017-06-12T00:00:00.000000000\n",
      "======Training Agents with the population of 1========\n",
      "Training time  jim_PPO-v31 :  5.553692507743835  minutes\n",
      "======Recurrent PPO Validation from:  2017-06-12T00:00:00.000000000 to  2018-05-29T00:00:00.000000000\n",
      "-----------------\n",
      "Total Reward:  -22.256062127649784\n",
      "Total Trades:  3750\n",
      "End total asset for validation 1104740.7340809056\n",
      "Mean Reward: -4.093841185292694\n",
      "STD reward: 0.2622352647454694\n",
      "-----------------\n",
      "Total reward at validation for Reccurent PPO -22.256062127649784\n",
      "Sharpe Ratio:  0\n",
      "================================================================================\n",
      "Best params,  {'n_steps': 8, 'batch_size': 8, 'gamma': 0.95, 'learning_rate': 0.027651081986547765, 'ent_coef': 0.009004220378275581, 'clip_range': 0.3, 'n_epochs': 1, 'gae_lambda': 0.95, 'max_grad_norm': 0.9, 'vf_coef': 0.9311987337638572, 'policy_kwargs': {'net_arch': [{'pi': [256, 256], 'vf': [256, 256]}], 'activation_fn': <class 'torch.nn.modules.activation.Tanh'>, 'ortho_init': False}, 'seed': 42069, 'device': 'cuda'}\n",
      "================================================================================\n",
      "======Trading from:  2018-05-29T00:00:00.000000000 to  2019-02-15T00:00:00.000000000 Model is :  Rec_PPO\n",
      "603\n",
      "180\n",
      "Saving to  results/account_value_trade_main_jim_PPO-v31.csv\n",
      "previous_total_asset:1299789.7413149024\n",
      "end_total_asset:1521288.5137489557\n",
      "total_asset_change:221498.77243405324\n",
      "Total cash is: 28.660310263306414$ and total holdings in stocks are 1521259.8534386924$\n",
      "Buy & Hold strategy with previous total asset:  1406516.6442569145\n",
      "Total Cost:  7210.488652602698\n",
      "Sum of rewards  -2573336.8900638977\n",
      "Total trades:  832\n",
      "Total days in turbulance:  0\n",
      "Sharpe:  0.18127519412014492\n",
      "603\n",
      "=============\n",
      "Total reward for the the window is -1.7644912218675017\n",
      "=============\n"
     ]
    },
    {
     "name": "stderr",
     "output_type": "stream",
     "text": [
      "\u001b[34m\u001b[1mwandb\u001b[0m: wandb version 0.12.9 is available!  To upgrade, please run:\n",
      "\u001b[34m\u001b[1mwandb\u001b[0m:  $ pip install wandb --upgrade\n"
     ]
    },
    {
     "data": {
      "text/html": [
       "\n",
       "                    Syncing run <strong><a href=\"https://wandb.ai/kaanb/FundSimulator/runs/z78ulzjm\" target=\"_blank\">likely-fire-984</a></strong> to <a href=\"https://wandb.ai/kaanb/FundSimulator\" target=\"_blank\">Weights & Biases</a> (<a href=\"https://docs.wandb.com/integrations/jupyter.html\" target=\"_blank\">docs</a>).<br/>\n",
       "\n",
       "                "
      ],
      "text/plain": [
       "<IPython.core.display.HTML object>"
      ]
     },
     "metadata": {},
     "output_type": "display_data"
    },
    {
     "data": {
      "text/html": [
       "<br/>Waiting for W&B process to finish, PID 20152... <strong style=\"color:green\">(success).</strong>"
      ],
      "text/plain": [
       "<IPython.core.display.HTML object>"
      ]
     },
     "metadata": {},
     "output_type": "display_data"
    },
    {
     "data": {
      "application/vnd.jupyter.widget-view+json": {
       "model_id": "",
       "version_major": 2,
       "version_minor": 0
      },
      "text/plain": [
       "VBox(children=(Label(value=' 0.00MB of 0.00MB uploaded (0.00MB deduped)\\r'), FloatProgress(value=1.0, max=1.0)…"
      ]
     },
     "metadata": {},
     "output_type": "display_data"
    },
    {
     "data": {
      "text/html": [
       "<style>\n",
       "    table.wandb td:nth-child(1) { padding: 0 10px; text-align: right }\n",
       "    .wandb-row { display: flex; flex-direction: row; flex-wrap: wrap; width: 100% }\n",
       "    .wandb-col { display: flex; flex-direction: column; flex-basis: 100%; flex: 1; padding: 10px; }\n",
       "    </style>\n",
       "<div class=\"wandb-row\"><div class=\"wandb-col\">\n",
       "<h3>Run history:</h3><br/><table class=\"wandb\"><tr><td>date</td><td>▁</td></tr><tr><td>end_total_asset</td><td>▁</td></tr><tr><td>trade_reward</td><td>▁</td></tr></table><br/></div><div class=\"wandb-col\">\n",
       "<h3>Run summary:</h3><br/><table class=\"wandb\"><tr><td>date</td><td>1550188800000000000</td></tr><tr><td>end_total_asset</td><td>1521288.51375</td></tr><tr><td>trade_reward</td><td>0.27084</td></tr></table>\n",
       "</div></div>\n",
       "Synced 5 W&B file(s), 0 media file(s), 0 artifact file(s) and 0 other file(s)\n",
       "<br/>Synced <strong style=\"color:#cdcd00\">likely-fire-984</strong>: <a href=\"https://wandb.ai/kaanb/FundSimulator/runs/z78ulzjm\" target=\"_blank\">https://wandb.ai/kaanb/FundSimulator/runs/z78ulzjm</a><br/>\n",
       "Find logs at: <code>.\\wandb\\run-20211217_130147-z78ulzjm\\logs</code><br/>\n"
      ],
      "text/plain": [
       "<IPython.core.display.HTML object>"
      ]
     },
     "metadata": {},
     "output_type": "display_data"
    },
    {
     "name": "stdout",
     "output_type": "stream",
     "text": [
      "============================================\n",
      "======Model training from:  2011-01-01 to  2018-03-01T00:00:00.000000000\n",
      "======Training Agents with the population of 1========\n",
      "Training time  jim_PPO-v31 :  6.459399664402008  minutes\n",
      "======Recurrent PPO Validation from:  2018-03-01T00:00:00.000000000 to  2019-02-15T00:00:00.000000000\n",
      "-----------------\n",
      "Total Reward:  -24.69371535629034\n",
      "Total Trades:  3454\n",
      "End total asset for validation 984964.6828098473\n",
      "Mean Reward: -3.5115389151498677\n",
      "STD reward: 0.4220369763460703\n",
      "-----------------\n",
      "Total reward at validation for Reccurent PPO -24.69371535629034\n",
      "Sharpe Ratio:  0\n",
      "================================================================================\n",
      "Best params,  {'n_steps': 8, 'batch_size': 8, 'gamma': 0.95, 'learning_rate': 0.027651081986547765, 'ent_coef': 0.009004220378275581, 'clip_range': 0.3, 'n_epochs': 1, 'gae_lambda': 0.95, 'max_grad_norm': 0.9, 'vf_coef': 0.9311987337638572, 'policy_kwargs': {'net_arch': [{'pi': [256, 256], 'vf': [256, 256]}], 'activation_fn': <class 'torch.nn.modules.activation.Tanh'>, 'ortho_init': False}, 'seed': 42069, 'device': 'cuda'}\n",
      "================================================================================\n",
      "======Trading from:  2019-02-15T00:00:00.000000000 to  2019-11-04T00:00:00.000000000 Model is :  Rec_PPO\n",
      "603\n",
      "180\n",
      "Saving to  results/account_value_trade_main_jim_PPO-v31.csv\n",
      "previous_total_asset:1521288.5137489557\n",
      "end_total_asset:1683155.4660900133\n",
      "total_asset_change:161866.9523410576\n",
      "Total cash is: 20.534970446396983$ and total holdings in stocks are 1683134.9311195668$\n",
      "Buy & Hold strategy with previous total asset:  1652188.1057194537\n",
      "Total Cost:  4631.51050598526\n",
      "Sum of rewards  -3592056.954487768\n",
      "Total trades:  529\n",
      "Total days in turbulance:  0\n",
      "Sharpe:  0.12673618118981192\n",
      "603\n",
      "=============\n",
      "Total reward for the the window is -7.333333374001086\n",
      "=============\n"
     ]
    },
    {
     "name": "stderr",
     "output_type": "stream",
     "text": [
      "\u001b[34m\u001b[1mwandb\u001b[0m: wandb version 0.12.9 is available!  To upgrade, please run:\n",
      "\u001b[34m\u001b[1mwandb\u001b[0m:  $ pip install wandb --upgrade\n"
     ]
    },
    {
     "data": {
      "text/html": [
       "\n",
       "                    Syncing run <strong><a href=\"https://wandb.ai/kaanb/FundSimulator/runs/3b72jhf1\" target=\"_blank\">dulcet-water-985</a></strong> to <a href=\"https://wandb.ai/kaanb/FundSimulator\" target=\"_blank\">Weights & Biases</a> (<a href=\"https://docs.wandb.com/integrations/jupyter.html\" target=\"_blank\">docs</a>).<br/>\n",
       "\n",
       "                "
      ],
      "text/plain": [
       "<IPython.core.display.HTML object>"
      ]
     },
     "metadata": {},
     "output_type": "display_data"
    },
    {
     "data": {
      "text/html": [
       "<br/>Waiting for W&B process to finish, PID 11608... <strong style=\"color:green\">(success).</strong>"
      ],
      "text/plain": [
       "<IPython.core.display.HTML object>"
      ]
     },
     "metadata": {},
     "output_type": "display_data"
    },
    {
     "data": {
      "application/vnd.jupyter.widget-view+json": {
       "model_id": "",
       "version_major": 2,
       "version_minor": 0
      },
      "text/plain": [
       "VBox(children=(Label(value=' 0.00MB of 0.00MB uploaded (0.00MB deduped)\\r'), FloatProgress(value=1.0, max=1.0)…"
      ]
     },
     "metadata": {},
     "output_type": "display_data"
    },
    {
     "data": {
      "text/html": [
       "<style>\n",
       "    table.wandb td:nth-child(1) { padding: 0 10px; text-align: right }\n",
       "    .wandb-row { display: flex; flex-direction: row; flex-wrap: wrap; width: 100% }\n",
       "    .wandb-col { display: flex; flex-direction: column; flex-basis: 100%; flex: 1; padding: 10px; }\n",
       "    </style>\n",
       "<div class=\"wandb-row\"><div class=\"wandb-col\">\n",
       "<h3>Run history:</h3><br/><table class=\"wandb\"><tr><td>date</td><td>▁</td></tr><tr><td>end_total_asset</td><td>▁</td></tr><tr><td>trade_reward</td><td>▁</td></tr></table><br/></div><div class=\"wandb-col\">\n",
       "<h3>Run summary:</h3><br/><table class=\"wandb\"><tr><td>date</td><td>1572825600000000000</td></tr><tr><td>end_total_asset</td><td>1683155.46609</td></tr><tr><td>trade_reward</td><td>0.10424</td></tr></table>\n",
       "</div></div>\n",
       "Synced 5 W&B file(s), 0 media file(s), 0 artifact file(s) and 0 other file(s)\n",
       "<br/>Synced <strong style=\"color:#cdcd00\">dulcet-water-985</strong>: <a href=\"https://wandb.ai/kaanb/FundSimulator/runs/3b72jhf1\" target=\"_blank\">https://wandb.ai/kaanb/FundSimulator/runs/3b72jhf1</a><br/>\n",
       "Find logs at: <code>.\\wandb\\run-20211217_130835-3b72jhf1\\logs</code><br/>\n"
      ],
      "text/plain": [
       "<IPython.core.display.HTML object>"
      ]
     },
     "metadata": {},
     "output_type": "display_data"
    },
    {
     "name": "stdout",
     "output_type": "stream",
     "text": [
      "============================================\n",
      "======Model training from:  2011-01-01 to  2018-11-15T00:00:00.000000000\n",
      "======Training Agents with the population of 1========\n",
      "Training time  jim_PPO-v31 :  6.446135632197062  minutes\n",
      "======Recurrent PPO Validation from:  2018-11-15T00:00:00.000000000 to  2019-11-04T00:00:00.000000000\n",
      "-----------------\n",
      "Total Reward:  20.322920036502182\n",
      "Total Trades:  2695\n",
      "End total asset for validation 1073568.7059230462\n",
      "Mean Reward: 7.08889589010505\n",
      "STD reward: 0.620421121933786\n",
      "-----------------\n",
      "Total reward at validation for Reccurent PPO 20.322920036502182\n",
      "Sharpe Ratio:  0\n",
      "================================================================================\n",
      "Best params,  {'n_steps': 8, 'batch_size': 8, 'gamma': 0.95, 'learning_rate': 0.027651081986547765, 'ent_coef': 0.009004220378275581, 'clip_range': 0.3, 'n_epochs': 1, 'gae_lambda': 0.95, 'max_grad_norm': 0.9, 'vf_coef': 0.9311987337638572, 'policy_kwargs': {'net_arch': [{'pi': [256, 256], 'vf': [256, 256]}], 'activation_fn': <class 'torch.nn.modules.activation.Tanh'>, 'ortho_init': False}, 'seed': 42069, 'device': 'cuda'}\n",
      "================================================================================\n",
      "======Trading from:  2019-11-04T00:00:00.000000000 to  2020-07-24T00:00:00.000000000 Model is :  Rec_PPO\n",
      "603\n",
      "180\n",
      "Saving to  results/account_value_trade_main_jim_PPO-v31.csv\n",
      "previous_total_asset:1683155.4660900133\n",
      "end_total_asset:1792121.7235864156\n",
      "total_asset_change:108966.25749640237\n",
      "Total cash is: 10.692164754344049$ and total holdings in stocks are 1792111.0314216614$\n",
      "Buy & Hold strategy with previous total asset:  1637825.2349544598\n",
      "Total Cost:  14199.274022784643\n",
      "Sum of rewards  13249457.418796474\n",
      "Total trades:  1668\n",
      "Total days in turbulance:  0\n",
      "Sharpe:  0.054601040074304504\n",
      "603\n",
      "=============\n",
      "Total reward for the the window is 17.967188003472984\n",
      "=============\n"
     ]
    },
    {
     "name": "stderr",
     "output_type": "stream",
     "text": [
      "\u001b[34m\u001b[1mwandb\u001b[0m: wandb version 0.12.9 is available!  To upgrade, please run:\n",
      "\u001b[34m\u001b[1mwandb\u001b[0m:  $ pip install wandb --upgrade\n"
     ]
    },
    {
     "data": {
      "text/html": [
       "\n",
       "                    Syncing run <strong><a href=\"https://wandb.ai/kaanb/FundSimulator/runs/2osxj0cx\" target=\"_blank\">fallen-lake-986</a></strong> to <a href=\"https://wandb.ai/kaanb/FundSimulator\" target=\"_blank\">Weights & Biases</a> (<a href=\"https://docs.wandb.com/integrations/jupyter.html\" target=\"_blank\">docs</a>).<br/>\n",
       "\n",
       "                "
      ],
      "text/plain": [
       "<IPython.core.display.HTML object>"
      ]
     },
     "metadata": {},
     "output_type": "display_data"
    },
    {
     "data": {
      "text/html": [
       "<br/>Waiting for W&B process to finish, PID 4576... <strong style=\"color:green\">(success).</strong>"
      ],
      "text/plain": [
       "<IPython.core.display.HTML object>"
      ]
     },
     "metadata": {},
     "output_type": "display_data"
    },
    {
     "data": {
      "application/vnd.jupyter.widget-view+json": {
       "model_id": "",
       "version_major": 2,
       "version_minor": 0
      },
      "text/plain": [
       "VBox(children=(Label(value=' 0.00MB of 0.00MB uploaded (0.00MB deduped)\\r'), FloatProgress(value=1.0, max=1.0)…"
      ]
     },
     "metadata": {},
     "output_type": "display_data"
    },
    {
     "data": {
      "text/html": [
       "<style>\n",
       "    table.wandb td:nth-child(1) { padding: 0 10px; text-align: right }\n",
       "    .wandb-row { display: flex; flex-direction: row; flex-wrap: wrap; width: 100% }\n",
       "    .wandb-col { display: flex; flex-direction: column; flex-basis: 100%; flex: 1; padding: 10px; }\n",
       "    </style>\n",
       "<div class=\"wandb-row\"><div class=\"wandb-col\">\n",
       "<h3>Run history:</h3><br/><table class=\"wandb\"><tr><td>date</td><td>▁</td></tr><tr><td>end_total_asset</td><td>▁</td></tr><tr><td>trade_reward</td><td>▁</td></tr></table><br/></div><div class=\"wandb-col\">\n",
       "<h3>Run summary:</h3><br/><table class=\"wandb\"><tr><td>date</td><td>1595548800000000000</td></tr><tr><td>end_total_asset</td><td>1792121.72359</td></tr><tr><td>trade_reward</td><td>0.10861</td></tr></table>\n",
       "</div></div>\n",
       "Synced 5 W&B file(s), 0 media file(s), 0 artifact file(s) and 0 other file(s)\n",
       "<br/>Synced <strong style=\"color:#cdcd00\">fallen-lake-986</strong>: <a href=\"https://wandb.ai/kaanb/FundSimulator/runs/2osxj0cx\" target=\"_blank\">https://wandb.ai/kaanb/FundSimulator/runs/2osxj0cx</a><br/>\n",
       "Find logs at: <code>.\\wandb\\run-20211217_131522-2osxj0cx\\logs</code><br/>\n"
      ],
      "text/plain": [
       "<IPython.core.display.HTML object>"
      ]
     },
     "metadata": {},
     "output_type": "display_data"
    },
    {
     "name": "stdout",
     "output_type": "stream",
     "text": [
      "============================================\n",
      "======Model training from:  2011-01-01 to  2019-08-08T00:00:00.000000000\n",
      "======Training Agents with the population of 1========\n",
      "Training time  jim_PPO-v31 :  6.667622709274292  minutes\n",
      "======Recurrent PPO Validation from:  2019-08-08T00:00:00.000000000 to  2020-07-24T00:00:00.000000000\n",
      "-----------------\n",
      "Total Reward:  -13.837684423429891\n",
      "Total Trades:  1889\n",
      "End total asset for validation 946679.2430480494\n",
      "Mean Reward: -2.4040049287257714\n",
      "STD reward: 0.3475872560284754\n",
      "-----------------\n",
      "Total reward at validation for Reccurent PPO -13.837684423429891\n",
      "Sharpe Ratio:  0\n",
      "================================================================================\n",
      "Best params,  {'n_steps': 8, 'batch_size': 8, 'gamma': 0.95, 'learning_rate': 0.027651081986547765, 'ent_coef': 0.009004220378275581, 'clip_range': 0.3, 'n_epochs': 1, 'gae_lambda': 0.95, 'max_grad_norm': 0.9, 'vf_coef': 0.9311987337638572, 'policy_kwargs': {'net_arch': [{'pi': [256, 256], 'vf': [256, 256]}], 'activation_fn': <class 'torch.nn.modules.activation.Tanh'>, 'ortho_init': False}, 'seed': 42069, 'device': 'cuda'}\n",
      "================================================================================\n",
      "======Trading from:  2020-07-24T00:00:00.000000000 to  2021-04-14T00:00:00.000000000 Model is :  Rec_PPO\n",
      "603\n",
      "180\n",
      "Saving to  results/account_value_trade_main_jim_PPO-v31.csv\n",
      "previous_total_asset:1792121.7235864156\n",
      "end_total_asset:2388473.4223075616\n",
      "total_asset_change:596351.698721146\n",
      "Total cash is: 10.239728520964597$ and total holdings in stocks are 2388463.1825790405$\n",
      "Buy & Hold strategy with previous total asset:  2312735.9404723556\n",
      "Total Cost:  3326.8687494049077\n",
      "Sum of rewards  532747.366980969\n",
      "Total trades:  340\n",
      "Total days in turbulance:  0\n",
      "Sharpe:  0.25902675118836904\n",
      "603\n",
      "=============\n",
      "Total reward for the the window is 9.062702406314202\n",
      "=============\n"
     ]
    },
    {
     "name": "stderr",
     "output_type": "stream",
     "text": [
      "\u001b[34m\u001b[1mwandb\u001b[0m: wandb version 0.12.9 is available!  To upgrade, please run:\n",
      "\u001b[34m\u001b[1mwandb\u001b[0m:  $ pip install wandb --upgrade\n"
     ]
    },
    {
     "data": {
      "text/html": [
       "\n",
       "                    Syncing run <strong><a href=\"https://wandb.ai/kaanb/FundSimulator/runs/3a6qyt68\" target=\"_blank\">cosmic-flower-987</a></strong> to <a href=\"https://wandb.ai/kaanb/FundSimulator\" target=\"_blank\">Weights & Biases</a> (<a href=\"https://docs.wandb.com/integrations/jupyter.html\" target=\"_blank\">docs</a>).<br/>\n",
       "\n",
       "                "
      ],
      "text/plain": [
       "<IPython.core.display.HTML object>"
      ]
     },
     "metadata": {},
     "output_type": "display_data"
    },
    {
     "data": {
      "text/html": [
       "<br/>Waiting for W&B process to finish, PID 15408... <strong style=\"color:green\">(success).</strong>"
      ],
      "text/plain": [
       "<IPython.core.display.HTML object>"
      ]
     },
     "metadata": {},
     "output_type": "display_data"
    },
    {
     "data": {
      "application/vnd.jupyter.widget-view+json": {
       "model_id": "",
       "version_major": 2,
       "version_minor": 0
      },
      "text/plain": [
       "VBox(children=(Label(value=' 0.00MB of 0.00MB uploaded (0.00MB deduped)\\r'), FloatProgress(value=1.0, max=1.0)…"
      ]
     },
     "metadata": {},
     "output_type": "display_data"
    },
    {
     "data": {
      "text/html": [
       "<style>\n",
       "    table.wandb td:nth-child(1) { padding: 0 10px; text-align: right }\n",
       "    .wandb-row { display: flex; flex-direction: row; flex-wrap: wrap; width: 100% }\n",
       "    .wandb-col { display: flex; flex-direction: column; flex-basis: 100%; flex: 1; padding: 10px; }\n",
       "    </style>\n",
       "<div class=\"wandb-row\"><div class=\"wandb-col\">\n",
       "<h3>Run history:</h3><br/><table class=\"wandb\"><tr><td>date</td><td>▁</td></tr><tr><td>end_total_asset</td><td>▁</td></tr><tr><td>trade_reward</td><td>▁</td></tr></table><br/></div><div class=\"wandb-col\">\n",
       "<h3>Run summary:</h3><br/><table class=\"wandb\"><tr><td>date</td><td>1618358400000000000</td></tr><tr><td>end_total_asset</td><td>2388473.42231</td></tr><tr><td>trade_reward</td><td>0.32416</td></tr></table>\n",
       "</div></div>\n",
       "Synced 5 W&B file(s), 0 media file(s), 0 artifact file(s) and 0 other file(s)\n",
       "<br/>Synced <strong style=\"color:#cdcd00\">cosmic-flower-987</strong>: <a href=\"https://wandb.ai/kaanb/FundSimulator/runs/3a6qyt68\" target=\"_blank\">https://wandb.ai/kaanb/FundSimulator/runs/3a6qyt68</a><br/>\n",
       "Find logs at: <code>.\\wandb\\run-20211217_132222-3a6qyt68\\logs</code><br/>\n"
      ],
      "text/plain": [
       "<IPython.core.display.HTML object>"
      ]
     },
     "metadata": {},
     "output_type": "display_data"
    },
    {
     "name": "stdout",
     "output_type": "stream",
     "text": [
      "Ensemble Strategy took:  37.92124247948329  minutes\n"
     ]
    }
   ],
   "source": [
    "trainer.train(dataset='datasets/downew30.csv', timesteps=50500, \n",
    "              load=False, model_to_load='model_to_load', normalize =NORNAMLIZE)"
   ]
  },
  {
   "cell_type": "code",
   "execution_count": 20,
   "metadata": {},
   "outputs": [],
   "source": [
    "\n",
    "pretrain_set = pd.read_csv('datasets/pretrain_set3.csv')\n",
    "pretrain_set['turbulence'] = 0"
   ]
  },
  {
   "cell_type": "code",
   "execution_count": null,
   "metadata": {},
   "outputs": [],
   "source": [
    "pretrain = trainer.pretrain(sn, '2011-05-01', START_TRADE, NORNAMLIZE)"
   ]
  },
  {
   "cell_type": "code",
   "execution_count": 67,
   "metadata": {},
   "outputs": [],
   "source": [
    "model_to_load = pretrain.split('/')[1]"
   ]
  },
  {
   "cell_type": "code",
   "execution_count": null,
   "metadata": {},
   "outputs": [],
   "source": [
    "trainer.cluster(False, period=365, number_of_clusters=5, stocks_per_cluster=5)"
   ]
  },
  {
   "cell_type": "code",
   "execution_count": 60,
   "metadata": {},
   "outputs": [],
   "source": [
    "m = pd.read_csv('./datasets/.csv')"
   ]
  },
  {
   "cell_type": "code",
   "execution_count": null,
   "metadata": {},
   "outputs": [],
   "source": []
  }
 ],
 "metadata": {
  "kernelspec": {
   "display_name": "Python 3 (ipykernel)",
   "language": "python",
   "name": "python3"
  },
  "language_info": {
   "codemirror_mode": {
    "name": "ipython",
    "version": 3
   },
   "file_extension": ".py",
   "mimetype": "text/x-python",
   "name": "python",
   "nbconvert_exporter": "python",
   "pygments_lexer": "ipython3",
   "version": "3.7.11"
  }
 },
 "nbformat": 4,
 "nbformat_minor": 4
}
