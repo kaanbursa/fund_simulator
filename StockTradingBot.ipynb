{
 "cells": [
  {
   "cell_type": "code",
   "execution_count": 1,
   "metadata": {},
   "outputs": [],
   "source": [
    "import pandas as pd\n",
    "import torch as th\n",
    "import os\n",
    "import re\n",
    "import yfinance as yf\n",
    "import numpy as np\n",
    "import warnings\n",
    "from stable_baselines3.common.noise import NormalActionNoise, OrnsteinUhlenbeckActionNoise\n",
    "warnings.filterwarnings('ignore')\n",
    "            \n",
    "import sys; sys.path.insert(0, '..')\n",
    "from model.models import run_ensemble_strategy, TrainerConfig, Trainer\n",
    "import data.preprocessing as pp\n",
    "from utils.utils_analyze import get_price, check_index_dim\n",
    "from utils.indicators import indicator_list, indicators_stock_stats\n",
    "from env.BaseEnv import EnvConfig\n",
    "from env.EnvStock_val import StockEnvValidation\n",
    "from env.EnvStock_train import StockEnvTrain\n",
    "from env.EnvStock_trade import StockEnvTrade\n",
    "from policy.Policies import MlActorCriticPolicy\n",
    "from config.config import indexes, ticker_list, category_dict, ticker_list_with_dict, tech_tickers\n",
    "%matplotlib inline\n",
    "%load_ext autoreload\n",
    "%autoreload 2"
   ]
  },
  {
   "cell_type": "markdown",
   "metadata": {},
   "source": [
    "### Do not Run these two cell if you do not want to preprocess data from the begining"
   ]
  },
  {
   "cell_type": "code",
   "execution_count": 2,
   "metadata": {},
   "outputs": [],
   "source": [
    "START_DATE = '2011-01-01'\n",
    "SEED = 59"
   ]
  },
  {
   "cell_type": "markdown",
   "metadata": {},
   "source": [
    "###  Run these two cell if you do not want to preprocess data from the begining"
   ]
  },
  {
   "cell_type": "code",
   "execution_count": 9,
   "metadata": {},
   "outputs": [],
   "source": [
    "ppohparamlist = [{\n",
    "    'ent_coef':0.005,\n",
    "    'learning_rate':0.0005,\n",
    "\n",
    "    },{\n",
    "    'ent_coef':0.01,\n",
    "    'learning_rate':0.00003,\n",
    "    'vf_coef':0.005,\n",
    "    'lam':0.90,\n",
    "    'gamma': 0.99,#discountfactor\n",
    "    'max_grad_norm':0.5,\n",
    "    'cliprange':0.2,\n",
    "    },{'gamma': 0.999,\n",
    " 'ent_coef': 1.005,\n",
    " 'cliprange': 0.4,\n",
    " 'lam': 0.92,\n",
    " 'max_grad_norm': 0.9,\n",
    " 'vf_coef': 0.257}\n",
    "\n",
    "]\n",
    "n_actions = 30\n",
    "ddpg = {\n",
    "    'action_noise' : NormalActionNoise(mean=np.zeros(n_actions), sigma=0.1 * np.ones(n_actions))\n",
    "}\n",
    "SAC_PARAMS = {\"batch_size\": 128,\n",
    "              \"buffer_size\": 100000,\"learning_rate\": 0.0001,\"learning_starts\": 100,\"ent_coef\": \"auto_0.1\",\"seed\":SEED,\n",
    "              \"device\":\"cuda\"}\n",
    "DATASET_VERSION = 'pretrainedTrial6'\n",
    "MODEL_NAME = 'jim_sac-v15'\n",
    "POPULATION = 1\n",
    "TIME_INTERVAL = 1\n",
    "START_TRADE = '2011-01-01'\n",
    "policy_kwargs = dict(activation_fn=th.nn.ReLU,\n",
    "                     net_arch=[dict(pi=[256, 128, 64], vf=[256, 128])])\n"
   ]
  },
  {
   "cell_type": "code",
   "execution_count": null,
   "metadata": {},
   "outputs": [],
   "source": []
  },
  {
   "cell_type": "code",
   "execution_count": 12,
   "metadata": {},
   "outputs": [],
   "source": [
    "tconfig = TrainerConfig(start_date=START_TRADE,\n",
    "                        rebalance_window=63,\n",
    "                        **{'hparams':SAC_PARAMS},\n",
    "                        timesteps=50000,\n",
    "                       #policy_kwargs = policy_kwargs,\n",
    "                       index_list = indexes)"
   ]
  },
  {
   "cell_type": "code",
   "execution_count": 13,
   "metadata": {},
   "outputs": [
    {
     "name": "stdout",
     "output_type": "stream",
     "text": [
      "Total number of stocks:   469\n",
      "GPU available\n"
     ]
    }
   ],
   "source": [
    "trainer = Trainer('SAC', 'MlpPolicy', \n",
    "                  StockEnvTrain, StockEnvValidation, StockEnvTrade, \n",
    "                  dataset_version=DATASET_VERSION, population=POPULATION,\n",
    "                     config = tconfig, model_name= MODEL_NAME, debug=False)"
   ]
  },
  {
   "cell_type": "code",
   "execution_count": 14,
   "metadata": {},
   "outputs": [],
   "source": [
    "NORNAMLIZE = False"
   ]
  },
  {
   "cell_type": "code",
   "execution_count": null,
   "metadata": {
    "tags": []
   },
   "outputs": [
    {
     "name": "stderr",
     "output_type": "stream",
     "text": [
      "\u001b[34m\u001b[1mwandb\u001b[0m: wandb version 0.12.7 is available!  To upgrade, please run:\n",
      "\u001b[34m\u001b[1mwandb\u001b[0m:  $ pip install wandb --upgrade\n"
     ]
    },
    {
     "data": {
      "text/html": [
       "\n",
       "                    Syncing run <strong><a href=\"https://wandb.ai/kaanb/FundSimulator/runs/2zkmx3bs\" target=\"_blank\">super-microwave-577</a></strong> to <a href=\"https://wandb.ai/kaanb/FundSimulator\" target=\"_blank\">Weights & Biases</a> (<a href=\"https://docs.wandb.com/integrations/jupyter.html\" target=\"_blank\">docs</a>).<br/>\n",
       "\n",
       "                "
      ],
      "text/plain": [
       "<IPython.core.display.HTML object>"
      ]
     },
     "metadata": {},
     "output_type": "display_data"
    },
    {
     "data": {
      "text/html": [
       "<br/>Waiting for W&B process to finish, PID 18368... <strong style=\"color:green\">(success).</strong>"
      ],
      "text/plain": [
       "<IPython.core.display.HTML object>"
      ]
     },
     "metadata": {},
     "output_type": "display_data"
    },
    {
     "data": {
      "application/vnd.jupyter.widget-view+json": {
       "model_id": "",
       "version_major": 2,
       "version_minor": 0
      },
      "text/plain": [
       "VBox(children=(Label(value=' 0.00MB of 0.00MB uploaded (0.00MB deduped)\\r'), FloatProgress(value=1.0, max=1.0)…"
      ]
     },
     "metadata": {},
     "output_type": "display_data"
    },
    {
     "data": {
      "text/html": [
       "<style>\n",
       "    table.wandb td:nth-child(1) { padding: 0 10px; text-align: right }\n",
       "    .wandb-row { display: flex; flex-direction: row; flex-wrap: wrap; width: 100% }\n",
       "    .wandb-col { display: flex; flex-direction: column; flex-basis: 100%; flex: 1; padding: 10px; }\n",
       "    </style>\n",
       "<div class=\"wandb-row\"><div class=\"wandb-col\">\n",
       "</div><div class=\"wandb-col\">\n",
       "</div></div>\n",
       "Synced 5 W&B file(s), 0 media file(s), 0 artifact file(s) and 0 other file(s)\n",
       "<br/>Synced <strong style=\"color:#cdcd00\">super-microwave-577</strong>: <a href=\"https://wandb.ai/kaanb/FundSimulator/runs/2zkmx3bs\" target=\"_blank\">https://wandb.ai/kaanb/FundSimulator/runs/2zkmx3bs</a><br/>\n",
       "Find logs at: <code>.\\wandb\\run-20211123_113427-2zkmx3bs\\logs</code><br/>\n"
      ],
      "text/plain": [
       "<IPython.core.display.HTML object>"
      ]
     },
     "metadata": {},
     "output_type": "display_data"
    },
    {
     "name": "stdout",
     "output_type": "stream",
     "text": [
      "============================================\n",
      "======Model training from:  2011-01-01 to  2016-01-04T00:00:00.000000000\n",
      "======Recurrent PPO Training for a population of 1========\n",
      "Training time  jim_sac-v15 :  13.771182239055634  minutes\n",
      "Best params,  {'batch_size': 128, 'buffer_size': 100000, 'learning_rate': 0.0001, 'learning_starts': 100, 'ent_coef': 'auto_0.1', 'seed': 59, 'device': 'cuda'}\n",
      "======Recurrent PPO Validation from:  2016-01-04T00:00:00.000000000 to  2016-04-05T00:00:00.000000000\n",
      "-----------------\n",
      "Total Reward:  -0.3838468076719437\n",
      "Total Trades:  1099\n",
      "Mean Reward: -0.3838468076719437\n",
      "STD reward: 0.0\n",
      "-----------------\n",
      "Total reward at validation for Reccurent PPO -0.3838468076719437\n",
      "Sharpe Ratio:  0\n",
      "======Trading from:  2016-04-05T00:00:00.000000000 to  2016-07-05T00:00:00.000000000 Model is :  Rec_PPO\n",
      "previous_total_asset:1000000\n",
      "end_total_asset:1027710.8889524653\n",
      "total_asset_change:27710.888952465262\n",
      "Total cash is: 20.916191311124294$ and total holdings in stocks are 1027689.9727611542$\n",
      "Buy & Hold strategy with previous total asset:  1027898.3818991127\n",
      "Total Cost:  1754.2336042213435\n",
      "Sum of rewards  -1754.233604221139\n",
      "Total trades:  288\n",
      "Total days in turbulance:  0\n",
      "Sharpe:  0.11176532243398413\n",
      "=============\n",
      "Total reward for the the window is -0.17590508921421133\n",
      "=============\n"
     ]
    },
    {
     "name": "stderr",
     "output_type": "stream",
     "text": [
      "\u001b[34m\u001b[1mwandb\u001b[0m: wandb version 0.12.7 is available!  To upgrade, please run:\n",
      "\u001b[34m\u001b[1mwandb\u001b[0m:  $ pip install wandb --upgrade\n"
     ]
    },
    {
     "data": {
      "text/html": [
       "\n",
       "                    Syncing run <strong><a href=\"https://wandb.ai/kaanb/FundSimulator/runs/2k2i1rnx\" target=\"_blank\">zesty-shape-578</a></strong> to <a href=\"https://wandb.ai/kaanb/FundSimulator\" target=\"_blank\">Weights & Biases</a> (<a href=\"https://docs.wandb.com/integrations/jupyter.html\" target=\"_blank\">docs</a>).<br/>\n",
       "\n",
       "                "
      ],
      "text/plain": [
       "<IPython.core.display.HTML object>"
      ]
     },
     "metadata": {},
     "output_type": "display_data"
    },
    {
     "data": {
      "text/html": [
       "<br/>Waiting for W&B process to finish, PID 18796... <strong style=\"color:green\">(success).</strong>"
      ],
      "text/plain": [
       "<IPython.core.display.HTML object>"
      ]
     },
     "metadata": {},
     "output_type": "display_data"
    },
    {
     "data": {
      "application/vnd.jupyter.widget-view+json": {
       "model_id": "",
       "version_major": 2,
       "version_minor": 0
      },
      "text/plain": [
       "VBox(children=(Label(value=' 0.00MB of 0.00MB uploaded (0.00MB deduped)\\r'), FloatProgress(value=1.0, max=1.0)…"
      ]
     },
     "metadata": {},
     "output_type": "display_data"
    },
    {
     "data": {
      "text/html": [
       "<style>\n",
       "    table.wandb td:nth-child(1) { padding: 0 10px; text-align: right }\n",
       "    .wandb-row { display: flex; flex-direction: row; flex-wrap: wrap; width: 100% }\n",
       "    .wandb-col { display: flex; flex-direction: column; flex-basis: 100%; flex: 1; padding: 10px; }\n",
       "    </style>\n",
       "<div class=\"wandb-row\"><div class=\"wandb-col\">\n",
       "<h3>Run history:</h3><br/><table class=\"wandb\"><tr><td>date</td><td>▁</td></tr><tr><td>end_total_asset</td><td>▁</td></tr><tr><td>trade_reward</td><td>▁</td></tr></table><br/></div><div class=\"wandb-col\">\n",
       "<h3>Run summary:</h3><br/><table class=\"wandb\"><tr><td>date</td><td>1467676800000000000</td></tr><tr><td>end_total_asset</td><td>1027710.88895</td></tr><tr><td>trade_reward</td><td>-0.00048</td></tr></table>\n",
       "</div></div>\n",
       "Synced 5 W&B file(s), 0 media file(s), 0 artifact file(s) and 0 other file(s)\n",
       "<br/>Synced <strong style=\"color:#cdcd00\">zesty-shape-578</strong>: <a href=\"https://wandb.ai/kaanb/FundSimulator/runs/2k2i1rnx\" target=\"_blank\">https://wandb.ai/kaanb/FundSimulator/runs/2k2i1rnx</a><br/>\n",
       "Find logs at: <code>.\\wandb\\run-20211123_114832-2k2i1rnx\\logs</code><br/>\n"
      ],
      "text/plain": [
       "<IPython.core.display.HTML object>"
      ]
     },
     "metadata": {},
     "output_type": "display_data"
    },
    {
     "name": "stdout",
     "output_type": "stream",
     "text": [
      "============================================\n",
      "======Model training from:  2011-01-01 to  2016-04-05T00:00:00.000000000\n",
      "======Recurrent PPO Training for a population of 1========\n",
      "Training time  jim_sac-v15 :  13.80377205212911  minutes\n",
      "Best params,  {'batch_size': 128, 'buffer_size': 100000, 'learning_rate': 0.0001, 'learning_starts': 100, 'ent_coef': 'auto_0.1', 'seed': 59, 'device': 'cuda'}\n",
      "======Recurrent PPO Validation from:  2016-04-05T00:00:00.000000000 to  2016-07-05T00:00:00.000000000\n",
      "-----------------\n",
      "Total Reward:  -0.17590508921421133\n",
      "Total Trades:  1317\n",
      "Mean Reward: -0.17590508921421133\n",
      "STD reward: 0.0\n",
      "-----------------\n",
      "Total reward at validation for Reccurent PPO -0.17590508921421133\n",
      "Sharpe Ratio:  0\n",
      "======Trading from:  2016-07-05T00:00:00.000000000 to  2016-10-03T00:00:00.000000000 Model is :  Rec_PPO\n",
      "Saving to  results/account_value_trade_main_jim_sac-v15.csv\n",
      "previous_total_asset:1027710.8889524653\n",
      "end_total_asset:1044025.636863087\n",
      "total_asset_change:16314.747910621692\n",
      "Total cash is: 4.375752781167694$ and total holdings in stocks are 1044021.2611103058$\n",
      "Buy & Hold strategy with previous total asset:  1066768.5675431704\n",
      "Total Cost:  250.05504882049559\n",
      "Sum of rewards  -250.05504882067908\n",
      "Total trades:  59\n",
      "Total days in turbulance:  0\n",
      "Sharpe:  0.044313909494668194\n",
      "=============\n",
      "Total reward for the the window is -0.20243105298141018\n",
      "=============\n"
     ]
    },
    {
     "name": "stderr",
     "output_type": "stream",
     "text": [
      "\u001b[34m\u001b[1mwandb\u001b[0m: wandb version 0.12.7 is available!  To upgrade, please run:\n",
      "\u001b[34m\u001b[1mwandb\u001b[0m:  $ pip install wandb --upgrade\n"
     ]
    },
    {
     "data": {
      "text/html": [
       "\n",
       "                    Syncing run <strong><a href=\"https://wandb.ai/kaanb/FundSimulator/runs/uhqnrt68\" target=\"_blank\">fragrant-planet-579</a></strong> to <a href=\"https://wandb.ai/kaanb/FundSimulator\" target=\"_blank\">Weights & Biases</a> (<a href=\"https://docs.wandb.com/integrations/jupyter.html\" target=\"_blank\">docs</a>).<br/>\n",
       "\n",
       "                "
      ],
      "text/plain": [
       "<IPython.core.display.HTML object>"
      ]
     },
     "metadata": {},
     "output_type": "display_data"
    },
    {
     "data": {
      "text/html": [
       "<br/>Waiting for W&B process to finish, PID 8352... <strong style=\"color:green\">(success).</strong>"
      ],
      "text/plain": [
       "<IPython.core.display.HTML object>"
      ]
     },
     "metadata": {},
     "output_type": "display_data"
    },
    {
     "data": {
      "application/vnd.jupyter.widget-view+json": {
       "model_id": "",
       "version_major": 2,
       "version_minor": 0
      },
      "text/plain": [
       "VBox(children=(Label(value=' 0.00MB of 0.00MB uploaded (0.00MB deduped)\\r'), FloatProgress(value=1.0, max=1.0)…"
      ]
     },
     "metadata": {},
     "output_type": "display_data"
    },
    {
     "data": {
      "text/html": [
       "<style>\n",
       "    table.wandb td:nth-child(1) { padding: 0 10px; text-align: right }\n",
       "    .wandb-row { display: flex; flex-direction: row; flex-wrap: wrap; width: 100% }\n",
       "    .wandb-col { display: flex; flex-direction: column; flex-basis: 100%; flex: 1; padding: 10px; }\n",
       "    </style>\n",
       "<div class=\"wandb-row\"><div class=\"wandb-col\">\n",
       "<h3>Run history:</h3><br/><table class=\"wandb\"><tr><td>date</td><td>▁</td></tr><tr><td>end_total_asset</td><td>▁</td></tr><tr><td>trade_reward</td><td>▁</td></tr></table><br/></div><div class=\"wandb-col\">\n",
       "<h3>Run summary:</h3><br/><table class=\"wandb\"><tr><td>date</td><td>1475452800000000000</td></tr><tr><td>end_total_asset</td><td>1044025.63686</td></tr><tr><td>trade_reward</td><td>-0.00152</td></tr></table>\n",
       "</div></div>\n",
       "Synced 5 W&B file(s), 0 media file(s), 0 artifact file(s) and 0 other file(s)\n",
       "<br/>Synced <strong style=\"color:#cdcd00\">fragrant-planet-579</strong>: <a href=\"https://wandb.ai/kaanb/FundSimulator/runs/uhqnrt68\" target=\"_blank\">https://wandb.ai/kaanb/FundSimulator/runs/uhqnrt68</a><br/>\n",
       "Find logs at: <code>.\\wandb\\run-20211123_120234-uhqnrt68\\logs</code><br/>\n"
      ],
      "text/plain": [
       "<IPython.core.display.HTML object>"
      ]
     },
     "metadata": {},
     "output_type": "display_data"
    },
    {
     "name": "stdout",
     "output_type": "stream",
     "text": [
      "============================================\n",
      "======Model training from:  2011-01-01 to  2016-07-05T00:00:00.000000000\n",
      "======Recurrent PPO Training for a population of 1========\n",
      "Training time  jim_sac-v15 :  13.640815166632335  minutes\n",
      "Best params,  {'batch_size': 128, 'buffer_size': 100000, 'learning_rate': 0.0001, 'learning_starts': 100, 'ent_coef': 'auto_0.1', 'seed': 59, 'device': 'cuda'}\n",
      "======Recurrent PPO Validation from:  2016-07-05T00:00:00.000000000 to  2016-10-03T00:00:00.000000000\n",
      "-----------------\n",
      "Total Reward:  -0.1462379633449018\n",
      "Total Trades:  1259\n",
      "Mean Reward: -0.1462379633449018\n",
      "STD reward: 0.0\n",
      "-----------------\n",
      "Total reward at validation for Reccurent PPO -0.1462379633449018\n",
      "Sharpe Ratio:  0\n",
      "======Trading from:  2016-10-03T00:00:00.000000000 to  2017-01-03T00:00:00.000000000 Model is :  Rec_PPO\n",
      "Saving to  results/account_value_trade_main_jim_sac-v15.csv\n",
      "previous_total_asset:1044025.636863087\n",
      "end_total_asset:1136394.18069422\n",
      "total_asset_change:92368.54383113293\n",
      "Total cash is: 21.03672373035579$ and total holdings in stocks are 1136373.1439704895$\n",
      "Buy & Hold strategy with previous total asset:  1115165.8903987552\n",
      "Total Cost:  345.07749149894727\n",
      "Sum of rewards  -345.0774914989015\n",
      "Total trades:  87\n",
      "Total days in turbulance:  0\n",
      "Sharpe:  0.5045290433563437\n",
      "=============\n",
      "Total reward for the the window is -0.23693880216046637\n",
      "=============\n"
     ]
    },
    {
     "name": "stderr",
     "output_type": "stream",
     "text": [
      "\u001b[34m\u001b[1mwandb\u001b[0m: wandb version 0.12.7 is available!  To upgrade, please run:\n",
      "\u001b[34m\u001b[1mwandb\u001b[0m:  $ pip install wandb --upgrade\n"
     ]
    },
    {
     "data": {
      "text/html": [
       "\n",
       "                    Syncing run <strong><a href=\"https://wandb.ai/kaanb/FundSimulator/runs/hpd16w0u\" target=\"_blank\">snowy-sun-580</a></strong> to <a href=\"https://wandb.ai/kaanb/FundSimulator\" target=\"_blank\">Weights & Biases</a> (<a href=\"https://docs.wandb.com/integrations/jupyter.html\" target=\"_blank\">docs</a>).<br/>\n",
       "\n",
       "                "
      ],
      "text/plain": [
       "<IPython.core.display.HTML object>"
      ]
     },
     "metadata": {},
     "output_type": "display_data"
    },
    {
     "data": {
      "text/html": [
       "<br/>Waiting for W&B process to finish, PID 3220... <strong style=\"color:green\">(success).</strong>"
      ],
      "text/plain": [
       "<IPython.core.display.HTML object>"
      ]
     },
     "metadata": {},
     "output_type": "display_data"
    },
    {
     "data": {
      "application/vnd.jupyter.widget-view+json": {
       "model_id": "",
       "version_major": 2,
       "version_minor": 0
      },
      "text/plain": [
       "VBox(children=(Label(value=' 0.00MB of 0.00MB uploaded (0.00MB deduped)\\r'), FloatProgress(value=1.0, max=1.0)…"
      ]
     },
     "metadata": {},
     "output_type": "display_data"
    },
    {
     "data": {
      "text/html": [
       "<style>\n",
       "    table.wandb td:nth-child(1) { padding: 0 10px; text-align: right }\n",
       "    .wandb-row { display: flex; flex-direction: row; flex-wrap: wrap; width: 100% }\n",
       "    .wandb-col { display: flex; flex-direction: column; flex-basis: 100%; flex: 1; padding: 10px; }\n",
       "    </style>\n",
       "<div class=\"wandb-row\"><div class=\"wandb-col\">\n",
       "<h3>Run history:</h3><br/><table class=\"wandb\"><tr><td>date</td><td>▁</td></tr><tr><td>end_total_asset</td><td>▁</td></tr><tr><td>trade_reward</td><td>▁</td></tr></table><br/></div><div class=\"wandb-col\">\n",
       "<h3>Run summary:</h3><br/><table class=\"wandb\"><tr><td>date</td><td>1483401600000000000</td></tr><tr><td>end_total_asset</td><td>1136394.18069</td></tr><tr><td>trade_reward</td><td>0.0</td></tr></table>\n",
       "</div></div>\n",
       "Synced 5 W&B file(s), 0 media file(s), 0 artifact file(s) and 0 other file(s)\n",
       "<br/>Synced <strong style=\"color:#cdcd00\">snowy-sun-580</strong>: <a href=\"https://wandb.ai/kaanb/FundSimulator/runs/hpd16w0u\" target=\"_blank\">https://wandb.ai/kaanb/FundSimulator/runs/hpd16w0u</a><br/>\n",
       "Find logs at: <code>.\\wandb\\run-20211123_121627-hpd16w0u\\logs</code><br/>\n"
      ],
      "text/plain": [
       "<IPython.core.display.HTML object>"
      ]
     },
     "metadata": {},
     "output_type": "display_data"
    },
    {
     "name": "stdout",
     "output_type": "stream",
     "text": [
      "============================================\n",
      "======Model training from:  2011-01-01 to  2016-10-03T00:00:00.000000000\n",
      "======Recurrent PPO Training for a population of 1========\n",
      "Training time  jim_sac-v15 :  13.598834455013275  minutes\n",
      "Best params,  {'batch_size': 128, 'buffer_size': 100000, 'learning_rate': 0.0001, 'learning_starts': 100, 'ent_coef': 'auto_0.1', 'seed': 59, 'device': 'cuda'}\n",
      "======Recurrent PPO Validation from:  2016-10-03T00:00:00.000000000 to  2017-01-03T00:00:00.000000000\n",
      "-----------------\n",
      "Total Reward:  -0.6308253923198208\n",
      "Total Trades:  1005\n",
      "Mean Reward: -0.6308253923198208\n",
      "STD reward: 0.0\n",
      "-----------------\n",
      "Total reward at validation for Reccurent PPO -0.6308253923198208\n",
      "Sharpe Ratio:  0\n",
      "======Trading from:  2017-01-03T00:00:00.000000000 to  2017-04-04T00:00:00.000000000 Model is :  Rec_PPO\n",
      "Saving to  results/account_value_trade_main_jim_sac-v15.csv\n",
      "previous_total_asset:1136394.18069422\n",
      "end_total_asset:1193959.6959078887\n",
      "total_asset_change:57565.51521366881\n",
      "Total cash is: 22.04806548146189$ and total holdings in stocks are 1193937.6478424072$\n",
      "Buy & Hold strategy with previous total asset:  1187973.425017521\n",
      "Total Cost:  260.4104569549561\n",
      "Sum of rewards  -260.41045695496723\n",
      "Total trades:  36\n",
      "Total days in turbulance:  0\n",
      "Sharpe:  0.399101754919607\n",
      "=============\n",
      "Total reward for the the window is -0.2629798479454166\n",
      "=============\n"
     ]
    },
    {
     "name": "stderr",
     "output_type": "stream",
     "text": [
      "\u001b[34m\u001b[1mwandb\u001b[0m: wandb version 0.12.7 is available!  To upgrade, please run:\n",
      "\u001b[34m\u001b[1mwandb\u001b[0m:  $ pip install wandb --upgrade\n"
     ]
    },
    {
     "data": {
      "text/html": [
       "\n",
       "                    Syncing run <strong><a href=\"https://wandb.ai/kaanb/FundSimulator/runs/1j8l3w2d\" target=\"_blank\">sage-silence-581</a></strong> to <a href=\"https://wandb.ai/kaanb/FundSimulator\" target=\"_blank\">Weights & Biases</a> (<a href=\"https://docs.wandb.com/integrations/jupyter.html\" target=\"_blank\">docs</a>).<br/>\n",
       "\n",
       "                "
      ],
      "text/plain": [
       "<IPython.core.display.HTML object>"
      ]
     },
     "metadata": {},
     "output_type": "display_data"
    },
    {
     "data": {
      "text/html": [
       "<br/>Waiting for W&B process to finish, PID 18364... <strong style=\"color:green\">(success).</strong>"
      ],
      "text/plain": [
       "<IPython.core.display.HTML object>"
      ]
     },
     "metadata": {},
     "output_type": "display_data"
    },
    {
     "data": {
      "application/vnd.jupyter.widget-view+json": {
       "model_id": "",
       "version_major": 2,
       "version_minor": 0
      },
      "text/plain": [
       "VBox(children=(Label(value=' 0.00MB of 0.00MB uploaded (0.00MB deduped)\\r'), FloatProgress(value=1.0, max=1.0)…"
      ]
     },
     "metadata": {},
     "output_type": "display_data"
    },
    {
     "data": {
      "text/html": [
       "<style>\n",
       "    table.wandb td:nth-child(1) { padding: 0 10px; text-align: right }\n",
       "    .wandb-row { display: flex; flex-direction: row; flex-wrap: wrap; width: 100% }\n",
       "    .wandb-col { display: flex; flex-direction: column; flex-basis: 100%; flex: 1; padding: 10px; }\n",
       "    </style>\n",
       "<div class=\"wandb-row\"><div class=\"wandb-col\">\n",
       "<h3>Run history:</h3><br/><table class=\"wandb\"><tr><td>date</td><td>▁</td></tr><tr><td>end_total_asset</td><td>▁</td></tr><tr><td>trade_reward</td><td>▁</td></tr></table><br/></div><div class=\"wandb-col\">\n",
       "<h3>Run summary:</h3><br/><table class=\"wandb\"><tr><td>date</td><td>1491264000000000000</td></tr><tr><td>end_total_asset</td><td>1193959.69591</td></tr><tr><td>trade_reward</td><td>0.0</td></tr></table>\n",
       "</div></div>\n",
       "Synced 5 W&B file(s), 0 media file(s), 0 artifact file(s) and 0 other file(s)\n",
       "<br/>Synced <strong style=\"color:#cdcd00\">sage-silence-581</strong>: <a href=\"https://wandb.ai/kaanb/FundSimulator/runs/1j8l3w2d\" target=\"_blank\">https://wandb.ai/kaanb/FundSimulator/runs/1j8l3w2d</a><br/>\n",
       "Find logs at: <code>.\\wandb\\run-20211123_123017-1j8l3w2d\\logs</code><br/>\n"
      ],
      "text/plain": [
       "<IPython.core.display.HTML object>"
      ]
     },
     "metadata": {},
     "output_type": "display_data"
    },
    {
     "name": "stdout",
     "output_type": "stream",
     "text": [
      "============================================\n",
      "======Model training from:  2011-01-01 to  2017-01-03T00:00:00.000000000\n",
      "======Recurrent PPO Training for a population of 1========\n",
      "Training time  jim_sac-v15 :  16.155133708318075  minutes\n",
      "Best params,  {'batch_size': 128, 'buffer_size': 100000, 'learning_rate': 0.0001, 'learning_starts': 100, 'ent_coef': 'auto_0.1', 'seed': 59, 'device': 'cuda'}\n",
      "======Recurrent PPO Validation from:  2017-01-03T00:00:00.000000000 to  2017-04-04T00:00:00.000000000\n",
      "-----------------\n",
      "Total Reward:  -0.1402339027049493\n",
      "Total Trades:  887\n",
      "Mean Reward: -0.1402339027049493\n",
      "STD reward: 0.0\n",
      "-----------------\n",
      "Total reward at validation for Reccurent PPO -0.1402339027049493\n",
      "Sharpe Ratio:  0\n",
      "======Trading from:  2017-04-04T00:00:00.000000000 to  2017-07-05T00:00:00.000000000 Model is :  Rec_PPO\n",
      "Saving to  results/account_value_trade_main_jim_sac-v15.csv\n",
      "previous_total_asset:1193959.6959078887\n",
      "end_total_asset:1282006.0025677513\n",
      "total_asset_change:88046.30665986263\n",
      "Total cash is: 9.295628053960044$ and total holdings in stocks are 1281996.7069396973$\n",
      "Buy & Hold strategy with previous total asset:  1233971.8960850358\n",
      "Total Cost:  356.32479841995223\n",
      "Sum of rewards  -356.32479841983877\n",
      "Total trades:  75\n",
      "Total days in turbulance:  0\n",
      "Sharpe:  0.5232085694274476\n",
      "=============\n",
      "Total reward for the the window is -0.302085259559135\n",
      "=============\n"
     ]
    },
    {
     "name": "stderr",
     "output_type": "stream",
     "text": [
      "\u001b[34m\u001b[1mwandb\u001b[0m: wandb version 0.12.7 is available!  To upgrade, please run:\n",
      "\u001b[34m\u001b[1mwandb\u001b[0m:  $ pip install wandb --upgrade\n"
     ]
    },
    {
     "data": {
      "text/html": [
       "\n",
       "                    Syncing run <strong><a href=\"https://wandb.ai/kaanb/FundSimulator/runs/1qqpt0an\" target=\"_blank\">splendid-monkey-582</a></strong> to <a href=\"https://wandb.ai/kaanb/FundSimulator\" target=\"_blank\">Weights & Biases</a> (<a href=\"https://docs.wandb.com/integrations/jupyter.html\" target=\"_blank\">docs</a>).<br/>\n",
       "\n",
       "                "
      ],
      "text/plain": [
       "<IPython.core.display.HTML object>"
      ]
     },
     "metadata": {},
     "output_type": "display_data"
    },
    {
     "data": {
      "text/html": [
       "<br/>Waiting for W&B process to finish, PID 1880... <strong style=\"color:green\">(success).</strong>"
      ],
      "text/plain": [
       "<IPython.core.display.HTML object>"
      ]
     },
     "metadata": {},
     "output_type": "display_data"
    },
    {
     "data": {
      "application/vnd.jupyter.widget-view+json": {
       "model_id": "",
       "version_major": 2,
       "version_minor": 0
      },
      "text/plain": [
       "VBox(children=(Label(value=' 0.00MB of 0.00MB uploaded (0.00MB deduped)\\r'), FloatProgress(value=1.0, max=1.0)…"
      ]
     },
     "metadata": {},
     "output_type": "display_data"
    },
    {
     "data": {
      "text/html": [
       "<style>\n",
       "    table.wandb td:nth-child(1) { padding: 0 10px; text-align: right }\n",
       "    .wandb-row { display: flex; flex-direction: row; flex-wrap: wrap; width: 100% }\n",
       "    .wandb-col { display: flex; flex-direction: column; flex-basis: 100%; flex: 1; padding: 10px; }\n",
       "    </style>\n",
       "<div class=\"wandb-row\"><div class=\"wandb-col\">\n",
       "<h3>Run history:</h3><br/><table class=\"wandb\"><tr><td>date</td><td>▁</td></tr><tr><td>end_total_asset</td><td>▁</td></tr><tr><td>trade_reward</td><td>▁</td></tr></table><br/></div><div class=\"wandb-col\">\n",
       "<h3>Run summary:</h3><br/><table class=\"wandb\"><tr><td>date</td><td>1499212800000000000</td></tr><tr><td>end_total_asset</td><td>1282006.00257</td></tr><tr><td>trade_reward</td><td>-0.00347</td></tr></table>\n",
       "</div></div>\n",
       "Synced 5 W&B file(s), 0 media file(s), 0 artifact file(s) and 0 other file(s)\n",
       "<br/>Synced <strong style=\"color:#cdcd00\">splendid-monkey-582</strong>: <a href=\"https://wandb.ai/kaanb/FundSimulator/runs/1qqpt0an\" target=\"_blank\">https://wandb.ai/kaanb/FundSimulator/runs/1qqpt0an</a><br/>\n",
       "Find logs at: <code>.\\wandb\\run-20211123_124642-1qqpt0an\\logs</code><br/>\n"
      ],
      "text/plain": [
       "<IPython.core.display.HTML object>"
      ]
     },
     "metadata": {},
     "output_type": "display_data"
    },
    {
     "name": "stdout",
     "output_type": "stream",
     "text": [
      "============================================\n",
      "======Model training from:  2011-01-01 to  2017-04-04T00:00:00.000000000\n",
      "======Recurrent PPO Training for a population of 1========\n",
      "Training time  jim_sac-v15 :  17.08381897608439  minutes\n",
      "Best params,  {'batch_size': 128, 'buffer_size': 100000, 'learning_rate': 0.0001, 'learning_starts': 100, 'ent_coef': 'auto_0.1', 'seed': 59, 'device': 'cuda'}\n",
      "======Recurrent PPO Validation from:  2017-04-04T00:00:00.000000000 to  2017-07-05T00:00:00.000000000\n",
      "-----------------\n",
      "Total Reward:  -0.1064594192430377\n",
      "Total Trades:  810\n",
      "Mean Reward: -0.1064594192430377\n",
      "STD reward: 0.0\n",
      "-----------------\n",
      "Total reward at validation for Reccurent PPO -0.1064594192430377\n",
      "Sharpe Ratio:  0\n",
      "======Trading from:  2017-07-05T00:00:00.000000000 to  2017-10-03T00:00:00.000000000 Model is :  Rec_PPO\n",
      "Saving to  results/account_value_trade_main_jim_sac-v15.csv\n",
      "previous_total_asset:1282006.0025677513\n",
      "end_total_asset:1313536.5030996918\n",
      "total_asset_change:31530.500531940488\n",
      "Total cash is: 0.1963904022043934$ and total holdings in stocks are 1313536.3067092896$\n",
      "Buy & Hold strategy with previous total asset:  1351717.2175755298\n",
      "Total Cost:  897.2970602226255\n",
      "Sum of rewards  -897.2970602225978\n",
      "Total trades:  140\n",
      "Total days in turbulance:  0\n",
      "Sharpe:  0.14988735391854988\n",
      "=============\n",
      "Total reward for the the window is -0.3918149653652563\n",
      "=============\n"
     ]
    },
    {
     "name": "stderr",
     "output_type": "stream",
     "text": [
      "\u001b[34m\u001b[1mwandb\u001b[0m: wandb version 0.12.7 is available!  To upgrade, please run:\n",
      "\u001b[34m\u001b[1mwandb\u001b[0m:  $ pip install wandb --upgrade\n"
     ]
    },
    {
     "data": {
      "text/html": [
       "\n",
       "                    Syncing run <strong><a href=\"https://wandb.ai/kaanb/FundSimulator/runs/3t6eali8\" target=\"_blank\">gallant-gorge-583</a></strong> to <a href=\"https://wandb.ai/kaanb/FundSimulator\" target=\"_blank\">Weights & Biases</a> (<a href=\"https://docs.wandb.com/integrations/jupyter.html\" target=\"_blank\">docs</a>).<br/>\n",
       "\n",
       "                "
      ],
      "text/plain": [
       "<IPython.core.display.HTML object>"
      ]
     },
     "metadata": {},
     "output_type": "display_data"
    },
    {
     "data": {
      "text/html": [
       "<br/>Waiting for W&B process to finish, PID 15072... <strong style=\"color:green\">(success).</strong>"
      ],
      "text/plain": [
       "<IPython.core.display.HTML object>"
      ]
     },
     "metadata": {},
     "output_type": "display_data"
    },
    {
     "data": {
      "application/vnd.jupyter.widget-view+json": {
       "model_id": "",
       "version_major": 2,
       "version_minor": 0
      },
      "text/plain": [
       "VBox(children=(Label(value=' 0.00MB of 0.00MB uploaded (0.00MB deduped)\\r'), FloatProgress(value=1.0, max=1.0)…"
      ]
     },
     "metadata": {},
     "output_type": "display_data"
    },
    {
     "data": {
      "text/html": [
       "<style>\n",
       "    table.wandb td:nth-child(1) { padding: 0 10px; text-align: right }\n",
       "    .wandb-row { display: flex; flex-direction: row; flex-wrap: wrap; width: 100% }\n",
       "    .wandb-col { display: flex; flex-direction: column; flex-basis: 100%; flex: 1; padding: 10px; }\n",
       "    </style>\n",
       "<div class=\"wandb-row\"><div class=\"wandb-col\">\n",
       "<h3>Run history:</h3><br/><table class=\"wandb\"><tr><td>date</td><td>▁</td></tr><tr><td>end_total_asset</td><td>▁</td></tr><tr><td>trade_reward</td><td>▁</td></tr></table><br/></div><div class=\"wandb-col\">\n",
       "<h3>Run summary:</h3><br/><table class=\"wandb\"><tr><td>date</td><td>1506988800000000000</td></tr><tr><td>end_total_asset</td><td>1313536.5031</td></tr><tr><td>trade_reward</td><td>0.0</td></tr></table>\n",
       "</div></div>\n",
       "Synced 5 W&B file(s), 0 media file(s), 0 artifact file(s) and 0 other file(s)\n",
       "<br/>Synced <strong style=\"color:#cdcd00\">gallant-gorge-583</strong>: <a href=\"https://wandb.ai/kaanb/FundSimulator/runs/3t6eali8\" target=\"_blank\">https://wandb.ai/kaanb/FundSimulator/runs/3t6eali8</a><br/>\n",
       "Find logs at: <code>.\\wandb\\run-20211123_130405-3t6eali8\\logs</code><br/>\n"
      ],
      "text/plain": [
       "<IPython.core.display.HTML object>"
      ]
     },
     "metadata": {},
     "output_type": "display_data"
    },
    {
     "name": "stdout",
     "output_type": "stream",
     "text": [
      "============================================\n",
      "======Model training from:  2011-01-01 to  2017-07-05T00:00:00.000000000\n",
      "======Recurrent PPO Training for a population of 1========\n",
      "Training time  jim_sac-v15 :  15.16965492963791  minutes\n",
      "Best params,  {'batch_size': 128, 'buffer_size': 100000, 'learning_rate': 0.0001, 'learning_starts': 100, 'ent_coef': 'auto_0.1', 'seed': 59, 'device': 'cuda'}\n",
      "======Recurrent PPO Validation from:  2017-07-05T00:00:00.000000000 to  2017-10-03T00:00:00.000000000\n",
      "-----------------\n",
      "Total Reward:  -0.5148336054010088\n",
      "Total Trades:  776\n",
      "Mean Reward: -0.5148336054010088\n",
      "STD reward: 0.0\n",
      "-----------------\n",
      "Total reward at validation for Reccurent PPO -0.5148336054010088\n",
      "Sharpe Ratio:  0\n",
      "======Trading from:  2017-10-03T00:00:00.000000000 to  2018-01-03T00:00:00.000000000 Model is :  Rec_PPO\n",
      "Saving to  results/account_value_trade_main_jim_sac-v15.csv\n",
      "previous_total_asset:1313536.5030996918\n",
      "end_total_asset:1415919.0318223212\n",
      "total_asset_change:102382.52872262942\n",
      "Total cash is: 4.164741632858252$ and total holdings in stocks are 1415914.8670806885$\n",
      "Buy & Hold strategy with previous total asset:  1441837.6083886204\n",
      "Total Cost:  536.8238889122009\n",
      "Sum of rewards  -536.8238889123313\n",
      "Total trades:  86\n",
      "Total days in turbulance:  0\n",
      "Sharpe:  0.53779303043391\n",
      "=============\n",
      "Total reward for the the window is -0.4454973548233738\n",
      "=============\n"
     ]
    },
    {
     "name": "stderr",
     "output_type": "stream",
     "text": [
      "\u001b[34m\u001b[1mwandb\u001b[0m: wandb version 0.12.7 is available!  To upgrade, please run:\n",
      "\u001b[34m\u001b[1mwandb\u001b[0m:  $ pip install wandb --upgrade\n"
     ]
    },
    {
     "data": {
      "text/html": [
       "\n",
       "                    Syncing run <strong><a href=\"https://wandb.ai/kaanb/FundSimulator/runs/2bb6ywfn\" target=\"_blank\">helpful-plant-584</a></strong> to <a href=\"https://wandb.ai/kaanb/FundSimulator\" target=\"_blank\">Weights & Biases</a> (<a href=\"https://docs.wandb.com/integrations/jupyter.html\" target=\"_blank\">docs</a>).<br/>\n",
       "\n",
       "                "
      ],
      "text/plain": [
       "<IPython.core.display.HTML object>"
      ]
     },
     "metadata": {},
     "output_type": "display_data"
    },
    {
     "data": {
      "text/html": [
       "<br/>Waiting for W&B process to finish, PID 22400... <strong style=\"color:green\">(success).</strong>"
      ],
      "text/plain": [
       "<IPython.core.display.HTML object>"
      ]
     },
     "metadata": {},
     "output_type": "display_data"
    },
    {
     "data": {
      "application/vnd.jupyter.widget-view+json": {
       "model_id": "",
       "version_major": 2,
       "version_minor": 0
      },
      "text/plain": [
       "VBox(children=(Label(value=' 0.00MB of 0.00MB uploaded (0.00MB deduped)\\r'), FloatProgress(value=1.0, max=1.0)…"
      ]
     },
     "metadata": {},
     "output_type": "display_data"
    },
    {
     "data": {
      "text/html": [
       "<style>\n",
       "    table.wandb td:nth-child(1) { padding: 0 10px; text-align: right }\n",
       "    .wandb-row { display: flex; flex-direction: row; flex-wrap: wrap; width: 100% }\n",
       "    .wandb-col { display: flex; flex-direction: column; flex-basis: 100%; flex: 1; padding: 10px; }\n",
       "    </style>\n",
       "<div class=\"wandb-row\"><div class=\"wandb-col\">\n",
       "<h3>Run history:</h3><br/><table class=\"wandb\"><tr><td>date</td><td>▁</td></tr><tr><td>end_total_asset</td><td>▁</td></tr><tr><td>trade_reward</td><td>▁</td></tr></table><br/></div><div class=\"wandb-col\">\n",
       "<h3>Run summary:</h3><br/><table class=\"wandb\"><tr><td>date</td><td>1514937600000000000</td></tr><tr><td>end_total_asset</td><td>1415919.03182</td></tr><tr><td>trade_reward</td><td>0.0</td></tr></table>\n",
       "</div></div>\n",
       "Synced 5 W&B file(s), 0 media file(s), 0 artifact file(s) and 0 other file(s)\n",
       "<br/>Synced <strong style=\"color:#cdcd00\">helpful-plant-584</strong>: <a href=\"https://wandb.ai/kaanb/FundSimulator/runs/2bb6ywfn\" target=\"_blank\">https://wandb.ai/kaanb/FundSimulator/runs/2bb6ywfn</a><br/>\n",
       "Find logs at: <code>.\\wandb\\run-20211123_131931-2bb6ywfn\\logs</code><br/>\n"
      ],
      "text/plain": [
       "<IPython.core.display.HTML object>"
      ]
     },
     "metadata": {},
     "output_type": "display_data"
    },
    {
     "name": "stdout",
     "output_type": "stream",
     "text": [
      "============================================\n",
      "======Model training from:  2011-01-01 to  2017-10-03T00:00:00.000000000\n",
      "======Recurrent PPO Training for a population of 1========\n",
      "Training time  jim_sac-v15 :  16.455179635683695  minutes\n",
      "Best params,  {'batch_size': 128, 'buffer_size': 100000, 'learning_rate': 0.0001, 'learning_starts': 100, 'ent_coef': 'auto_0.1', 'seed': 59, 'device': 'cuda'}\n",
      "======Recurrent PPO Validation from:  2017-10-03T00:00:00.000000000 to  2018-01-03T00:00:00.000000000\n",
      "-----------------\n",
      "Total Reward:  -0.5820802246837502\n",
      "Total Trades:  788\n",
      "Mean Reward: -0.5820802246837502\n",
      "STD reward: 0.0\n",
      "-----------------\n",
      "Total reward at validation for Reccurent PPO -0.5820802246837502\n",
      "Sharpe Ratio:  0\n",
      "======Trading from:  2018-01-03T00:00:00.000000000 to  2018-04-05T00:00:00.000000000 Model is :  Rec_PPO\n",
      "Saving to  results/account_value_trade_main_jim_sac-v15.csv\n",
      "previous_total_asset:1415919.0318223212\n",
      "end_total_asset:1349675.3070928846\n",
      "total_asset_change:-66243.72472943668\n",
      "Total cash is: 22.97739432185414$ and total holdings in stocks are 1349652.3296985626$\n",
      "Buy & Hold strategy with previous total asset:  1379517.422421653\n",
      "Total Cost:  299.9247378292083\n",
      "Sum of rewards  -299.9247378290165\n",
      "Total trades:  66\n",
      "Total days in turbulance:  0\n",
      "Sharpe:  -0.1382034444000637\n",
      "=============\n",
      "Total reward for the the window is -0.4754898288044842\n",
      "=============\n"
     ]
    },
    {
     "name": "stderr",
     "output_type": "stream",
     "text": [
      "\u001b[34m\u001b[1mwandb\u001b[0m: wandb version 0.12.7 is available!  To upgrade, please run:\n",
      "\u001b[34m\u001b[1mwandb\u001b[0m:  $ pip install wandb --upgrade\n"
     ]
    },
    {
     "data": {
      "text/html": [
       "\n",
       "                    Syncing run <strong><a href=\"https://wandb.ai/kaanb/FundSimulator/runs/1ypayujt\" target=\"_blank\">stellar-firefly-585</a></strong> to <a href=\"https://wandb.ai/kaanb/FundSimulator\" target=\"_blank\">Weights & Biases</a> (<a href=\"https://docs.wandb.com/integrations/jupyter.html\" target=\"_blank\">docs</a>).<br/>\n",
       "\n",
       "                "
      ],
      "text/plain": [
       "<IPython.core.display.HTML object>"
      ]
     },
     "metadata": {},
     "output_type": "display_data"
    },
    {
     "data": {
      "text/html": [
       "<br/>Waiting for W&B process to finish, PID 20720... <strong style=\"color:green\">(success).</strong>"
      ],
      "text/plain": [
       "<IPython.core.display.HTML object>"
      ]
     },
     "metadata": {},
     "output_type": "display_data"
    },
    {
     "data": {
      "application/vnd.jupyter.widget-view+json": {
       "model_id": "",
       "version_major": 2,
       "version_minor": 0
      },
      "text/plain": [
       "VBox(children=(Label(value=' 0.00MB of 0.00MB uploaded (0.00MB deduped)\\r'), FloatProgress(value=1.0, max=1.0)…"
      ]
     },
     "metadata": {},
     "output_type": "display_data"
    },
    {
     "data": {
      "text/html": [
       "<style>\n",
       "    table.wandb td:nth-child(1) { padding: 0 10px; text-align: right }\n",
       "    .wandb-row { display: flex; flex-direction: row; flex-wrap: wrap; width: 100% }\n",
       "    .wandb-col { display: flex; flex-direction: column; flex-basis: 100%; flex: 1; padding: 10px; }\n",
       "    </style>\n",
       "<div class=\"wandb-row\"><div class=\"wandb-col\">\n",
       "<h3>Run history:</h3><br/><table class=\"wandb\"><tr><td>date</td><td>▁</td></tr><tr><td>end_total_asset</td><td>▁</td></tr><tr><td>trade_reward</td><td>▁</td></tr></table><br/></div><div class=\"wandb-col\">\n",
       "<h3>Run summary:</h3><br/><table class=\"wandb\"><tr><td>date</td><td>1522886400000000000</td></tr><tr><td>end_total_asset</td><td>1349675.30709</td></tr><tr><td>trade_reward</td><td>0.0</td></tr></table>\n",
       "</div></div>\n",
       "Synced 5 W&B file(s), 0 media file(s), 0 artifact file(s) and 0 other file(s)\n",
       "<br/>Synced <strong style=\"color:#cdcd00\">stellar-firefly-585</strong>: <a href=\"https://wandb.ai/kaanb/FundSimulator/runs/1ypayujt\" target=\"_blank\">https://wandb.ai/kaanb/FundSimulator/runs/1ypayujt</a><br/>\n",
       "Find logs at: <code>.\\wandb\\run-20211123_133613-1ypayujt\\logs</code><br/>\n"
      ],
      "text/plain": [
       "<IPython.core.display.HTML object>"
      ]
     },
     "metadata": {},
     "output_type": "display_data"
    },
    {
     "name": "stdout",
     "output_type": "stream",
     "text": [
      "============================================\n",
      "======Model training from:  2011-01-01 to  2018-01-03T00:00:00.000000000\n",
      "======Recurrent PPO Training for a population of 1========\n",
      "Training time  jim_sac-v15 :  16.009589382012685  minutes\n",
      "Best params,  {'batch_size': 128, 'buffer_size': 100000, 'learning_rate': 0.0001, 'learning_starts': 100, 'ent_coef': 'auto_0.1', 'seed': 59, 'device': 'cuda'}\n",
      "======Recurrent PPO Validation from:  2018-01-03T00:00:00.000000000 to  2018-04-05T00:00:00.000000000\n",
      "-----------------\n",
      "Total Reward:  -0.5677090625977144\n",
      "Total Trades:  633\n",
      "Mean Reward: -0.5677090625977144\n",
      "STD reward: 0.0\n",
      "-----------------\n",
      "Total reward at validation for Reccurent PPO -0.5677090625977144\n",
      "Sharpe Ratio:  0\n",
      "======Trading from:  2018-04-05T00:00:00.000000000 to  2018-07-05T00:00:00.000000000 Model is :  Rec_PPO\n",
      "Saving to  results/account_value_trade_main_jim_sac-v15.csv\n",
      "previous_total_asset:1349675.3070928846\n",
      "end_total_asset:1329475.2247324681\n",
      "total_asset_change:-20200.082360416418\n",
      "Total cash is: 13.830689499356708$ and total holdings in stocks are 1329461.3940429688$\n",
      "Buy & Hold strategy with previous total asset:  1356844.306311654\n",
      "Total Cost:  878.0042449531555\n",
      "Sum of rewards  -878.0042449531611\n",
      "Total trades:  132\n",
      "Total days in turbulance:  0\n",
      "Sharpe:  -0.054666346189820365\n",
      "=============\n",
      "Total reward for the the window is -0.5632902534823643\n",
      "=============\n"
     ]
    },
    {
     "name": "stderr",
     "output_type": "stream",
     "text": [
      "\u001b[34m\u001b[1mwandb\u001b[0m: wandb version 0.12.7 is available!  To upgrade, please run:\n",
      "\u001b[34m\u001b[1mwandb\u001b[0m:  $ pip install wandb --upgrade\n"
     ]
    },
    {
     "data": {
      "text/html": [
       "\n",
       "                    Syncing run <strong><a href=\"https://wandb.ai/kaanb/FundSimulator/runs/162wkxzl\" target=\"_blank\">solar-eon-586</a></strong> to <a href=\"https://wandb.ai/kaanb/FundSimulator\" target=\"_blank\">Weights & Biases</a> (<a href=\"https://docs.wandb.com/integrations/jupyter.html\" target=\"_blank\">docs</a>).<br/>\n",
       "\n",
       "                "
      ],
      "text/plain": [
       "<IPython.core.display.HTML object>"
      ]
     },
     "metadata": {},
     "output_type": "display_data"
    },
    {
     "data": {
      "text/html": [
       "<br/>Waiting for W&B process to finish, PID 2768... <strong style=\"color:green\">(success).</strong>"
      ],
      "text/plain": [
       "<IPython.core.display.HTML object>"
      ]
     },
     "metadata": {},
     "output_type": "display_data"
    },
    {
     "data": {
      "application/vnd.jupyter.widget-view+json": {
       "model_id": "",
       "version_major": 2,
       "version_minor": 0
      },
      "text/plain": [
       "VBox(children=(Label(value=' 0.00MB of 0.00MB uploaded (0.00MB deduped)\\r'), FloatProgress(value=1.0, max=1.0)…"
      ]
     },
     "metadata": {},
     "output_type": "display_data"
    },
    {
     "data": {
      "text/html": [
       "<style>\n",
       "    table.wandb td:nth-child(1) { padding: 0 10px; text-align: right }\n",
       "    .wandb-row { display: flex; flex-direction: row; flex-wrap: wrap; width: 100% }\n",
       "    .wandb-col { display: flex; flex-direction: column; flex-basis: 100%; flex: 1; padding: 10px; }\n",
       "    </style>\n",
       "<div class=\"wandb-row\"><div class=\"wandb-col\">\n",
       "<h3>Run history:</h3><br/><table class=\"wandb\"><tr><td>date</td><td>▁</td></tr><tr><td>end_total_asset</td><td>▁</td></tr><tr><td>trade_reward</td><td>▁</td></tr></table><br/></div><div class=\"wandb-col\">\n",
       "<h3>Run summary:</h3><br/><table class=\"wandb\"><tr><td>date</td><td>1530748800000000000</td></tr><tr><td>end_total_asset</td><td>1329475.22473</td></tr><tr><td>trade_reward</td><td>0.0</td></tr></table>\n",
       "</div></div>\n",
       "Synced 5 W&B file(s), 0 media file(s), 0 artifact file(s) and 0 other file(s)\n",
       "<br/>Synced <strong style=\"color:#cdcd00\">solar-eon-586</strong>: <a href=\"https://wandb.ai/kaanb/FundSimulator/runs/162wkxzl\" target=\"_blank\">https://wandb.ai/kaanb/FundSimulator/runs/162wkxzl</a><br/>\n",
       "Find logs at: <code>.\\wandb\\run-20211123_135229-162wkxzl\\logs</code><br/>\n"
      ],
      "text/plain": [
       "<IPython.core.display.HTML object>"
      ]
     },
     "metadata": {},
     "output_type": "display_data"
    },
    {
     "name": "stdout",
     "output_type": "stream",
     "text": [
      "============================================\n",
      "======Model training from:  2011-01-01 to  2018-04-05T00:00:00.000000000\n",
      "======Recurrent PPO Training for a population of 1========\n",
      "Training time  jim_sac-v15 :  14.644107115268707  minutes\n",
      "Best params,  {'batch_size': 128, 'buffer_size': 100000, 'learning_rate': 0.0001, 'learning_starts': 100, 'ent_coef': 'auto_0.1', 'seed': 59, 'device': 'cuda'}\n",
      "======Recurrent PPO Validation from:  2018-04-05T00:00:00.000000000 to  2018-07-05T00:00:00.000000000\n",
      "-----------------\n",
      "Total Reward:  -0.3193640479585156\n",
      "Total Trades:  1009\n",
      "Mean Reward: -0.3193640479585156\n",
      "STD reward: 0.0\n",
      "-----------------\n",
      "Total reward at validation for Reccurent PPO -0.3193640479585156\n",
      "Sharpe Ratio:  0\n",
      "======Trading from:  2018-07-05T00:00:00.000000000 to  2018-10-03T00:00:00.000000000 Model is :  Rec_PPO\n",
      "Saving to  results/account_value_trade_main_jim_sac-v15.csv\n",
      "previous_total_asset:1329475.2247324681\n",
      "end_total_asset:1431098.4362993932\n",
      "total_asset_change:101623.21156692505\n",
      "Total cash is: 13.830689499356708$ and total holdings in stocks are 1431084.6056098938$\n",
      "Buy & Hold strategy with previous total asset:  1465479.3274617326\n",
      "Total Cost:  0.0\n",
      "Sum of rewards  0.0\n",
      "Total trades:  0\n",
      "Total days in turbulance:  0\n",
      "Sharpe:  0.4664224060139931\n",
      "=============\n",
      "Total reward for the the window is -0.5632902534823643\n",
      "=============\n"
     ]
    },
    {
     "name": "stderr",
     "output_type": "stream",
     "text": [
      "\u001b[34m\u001b[1mwandb\u001b[0m: wandb version 0.12.7 is available!  To upgrade, please run:\n",
      "\u001b[34m\u001b[1mwandb\u001b[0m:  $ pip install wandb --upgrade\n"
     ]
    },
    {
     "data": {
      "text/html": [
       "\n",
       "                    Syncing run <strong><a href=\"https://wandb.ai/kaanb/FundSimulator/runs/1vp9ql2z\" target=\"_blank\">laced-spaceship-587</a></strong> to <a href=\"https://wandb.ai/kaanb/FundSimulator\" target=\"_blank\">Weights & Biases</a> (<a href=\"https://docs.wandb.com/integrations/jupyter.html\" target=\"_blank\">docs</a>).<br/>\n",
       "\n",
       "                "
      ],
      "text/plain": [
       "<IPython.core.display.HTML object>"
      ]
     },
     "metadata": {},
     "output_type": "display_data"
    },
    {
     "data": {
      "text/html": [
       "<br/>Waiting for W&B process to finish, PID 5024... <strong style=\"color:green\">(success).</strong>"
      ],
      "text/plain": [
       "<IPython.core.display.HTML object>"
      ]
     },
     "metadata": {},
     "output_type": "display_data"
    },
    {
     "data": {
      "application/vnd.jupyter.widget-view+json": {
       "model_id": "",
       "version_major": 2,
       "version_minor": 0
      },
      "text/plain": [
       "VBox(children=(Label(value=' 0.00MB of 0.00MB uploaded (0.00MB deduped)\\r'), FloatProgress(value=1.0, max=1.0)…"
      ]
     },
     "metadata": {},
     "output_type": "display_data"
    },
    {
     "data": {
      "text/html": [
       "<style>\n",
       "    table.wandb td:nth-child(1) { padding: 0 10px; text-align: right }\n",
       "    .wandb-row { display: flex; flex-direction: row; flex-wrap: wrap; width: 100% }\n",
       "    .wandb-col { display: flex; flex-direction: column; flex-basis: 100%; flex: 1; padding: 10px; }\n",
       "    </style>\n",
       "<div class=\"wandb-row\"><div class=\"wandb-col\">\n",
       "<h3>Run history:</h3><br/><table class=\"wandb\"><tr><td>date</td><td>▁</td></tr><tr><td>end_total_asset</td><td>▁</td></tr><tr><td>trade_reward</td><td>▁</td></tr></table><br/></div><div class=\"wandb-col\">\n",
       "<h3>Run summary:</h3><br/><table class=\"wandb\"><tr><td>date</td><td>1538524800000000000</td></tr><tr><td>end_total_asset</td><td>1431098.4363</td></tr><tr><td>trade_reward</td><td>0.0</td></tr></table>\n",
       "</div></div>\n",
       "Synced 5 W&B file(s), 0 media file(s), 0 artifact file(s) and 0 other file(s)\n",
       "<br/>Synced <strong style=\"color:#cdcd00\">laced-spaceship-587</strong>: <a href=\"https://wandb.ai/kaanb/FundSimulator/runs/1vp9ql2z\" target=\"_blank\">https://wandb.ai/kaanb/FundSimulator/runs/1vp9ql2z</a><br/>\n",
       "Find logs at: <code>.\\wandb\\run-20211123_140724-1vp9ql2z\\logs</code><br/>\n"
      ],
      "text/plain": [
       "<IPython.core.display.HTML object>"
      ]
     },
     "metadata": {},
     "output_type": "display_data"
    },
    {
     "name": "stdout",
     "output_type": "stream",
     "text": [
      "============================================\n",
      "======Model training from:  2011-01-01 to  2018-07-05T00:00:00.000000000\n",
      "======Recurrent PPO Training for a population of 1========\n",
      "Training time  jim_sac-v15 :  14.307837371031443  minutes\n",
      "Best params,  {'batch_size': 128, 'buffer_size': 100000, 'learning_rate': 0.0001, 'learning_starts': 100, 'ent_coef': 'auto_0.1', 'seed': 59, 'device': 'cuda'}\n",
      "======Recurrent PPO Validation from:  2018-07-05T00:00:00.000000000 to  2018-10-03T00:00:00.000000000\n",
      "-----------------\n",
      "Total Reward:  -0.107474529533647\n",
      "Total Trades:  1074\n",
      "Mean Reward: -0.107474529533647\n",
      "STD reward: 0.0\n",
      "-----------------\n",
      "Total reward at validation for Reccurent PPO -0.107474529533647\n",
      "Sharpe Ratio:  0\n",
      "======Trading from:  2018-10-03T00:00:00.000000000 to  2019-01-04T00:00:00.000000000 Model is :  Rec_PPO\n",
      "Saving to  results/account_value_trade_main_jim_sac-v15.csv\n",
      "previous_total_asset:1431098.4362993932\n",
      "end_total_asset:1225390.1748491859\n",
      "total_asset_change:-205708.26145020733\n",
      "Total cash is: 15.251310977897802$ and total holdings in stocks are 1225374.923538208$\n",
      "Buy & Hold strategy with previous total asset:  1260841.2797932054\n",
      "Total Cost:  1475.8797677383416\n",
      "Sum of rewards  -2842.516798412893\n",
      "Total trades:  130\n",
      "Total days in turbulance:  30\n",
      "Sharpe:  -0.2867640632205371\n",
      "=============\n",
      "Total reward for the the window is -0.847541935397885\n",
      "=============\n"
     ]
    },
    {
     "name": "stderr",
     "output_type": "stream",
     "text": [
      "\u001b[34m\u001b[1mwandb\u001b[0m: wandb version 0.12.7 is available!  To upgrade, please run:\n",
      "\u001b[34m\u001b[1mwandb\u001b[0m:  $ pip install wandb --upgrade\n"
     ]
    },
    {
     "data": {
      "text/html": [
       "\n",
       "                    Syncing run <strong><a href=\"https://wandb.ai/kaanb/FundSimulator/runs/1svsib9d\" target=\"_blank\">fresh-sponge-588</a></strong> to <a href=\"https://wandb.ai/kaanb/FundSimulator\" target=\"_blank\">Weights & Biases</a> (<a href=\"https://docs.wandb.com/integrations/jupyter.html\" target=\"_blank\">docs</a>).<br/>\n",
       "\n",
       "                "
      ],
      "text/plain": [
       "<IPython.core.display.HTML object>"
      ]
     },
     "metadata": {},
     "output_type": "display_data"
    },
    {
     "data": {
      "text/html": [
       "<br/>Waiting for W&B process to finish, PID 21384... <strong style=\"color:green\">(success).</strong>"
      ],
      "text/plain": [
       "<IPython.core.display.HTML object>"
      ]
     },
     "metadata": {},
     "output_type": "display_data"
    },
    {
     "data": {
      "application/vnd.jupyter.widget-view+json": {
       "model_id": "",
       "version_major": 2,
       "version_minor": 0
      },
      "text/plain": [
       "VBox(children=(Label(value=' 0.00MB of 0.00MB uploaded (0.00MB deduped)\\r'), FloatProgress(value=1.0, max=1.0)…"
      ]
     },
     "metadata": {},
     "output_type": "display_data"
    },
    {
     "data": {
      "text/html": [
       "<style>\n",
       "    table.wandb td:nth-child(1) { padding: 0 10px; text-align: right }\n",
       "    .wandb-row { display: flex; flex-direction: row; flex-wrap: wrap; width: 100% }\n",
       "    .wandb-col { display: flex; flex-direction: column; flex-basis: 100%; flex: 1; padding: 10px; }\n",
       "    </style>\n",
       "<div class=\"wandb-row\"><div class=\"wandb-col\">\n",
       "<h3>Run history:</h3><br/><table class=\"wandb\"><tr><td>date</td><td>▁</td></tr><tr><td>end_total_asset</td><td>▁</td></tr><tr><td>trade_reward</td><td>▁</td></tr></table><br/></div><div class=\"wandb-col\">\n",
       "<h3>Run summary:</h3><br/><table class=\"wandb\"><tr><td>date</td><td>1546560000000000000</td></tr><tr><td>end_total_asset</td><td>1225390.17485</td></tr><tr><td>trade_reward</td><td>0.0</td></tr></table>\n",
       "</div></div>\n",
       "Synced 5 W&B file(s), 0 media file(s), 0 artifact file(s) and 0 other file(s)\n",
       "<br/>Synced <strong style=\"color:#cdcd00\">fresh-sponge-588</strong>: <a href=\"https://wandb.ai/kaanb/FundSimulator/runs/1svsib9d\" target=\"_blank\">https://wandb.ai/kaanb/FundSimulator/runs/1svsib9d</a><br/>\n",
       "Find logs at: <code>.\\wandb\\run-20211123_142157-1svsib9d\\logs</code><br/>\n"
      ],
      "text/plain": [
       "<IPython.core.display.HTML object>"
      ]
     },
     "metadata": {},
     "output_type": "display_data"
    },
    {
     "name": "stdout",
     "output_type": "stream",
     "text": [
      "============================================\n",
      "======Model training from:  2011-01-01 to  2018-10-03T00:00:00.000000000\n",
      "======Recurrent PPO Training for a population of 1========\n",
      "Training time  jim_sac-v15 :  14.245479464530945  minutes\n",
      "Best params,  {'batch_size': 128, 'buffer_size': 100000, 'learning_rate': 0.0001, 'learning_starts': 100, 'ent_coef': 'auto_0.1', 'seed': 59, 'device': 'cuda'}\n",
      "======Recurrent PPO Validation from:  2018-10-03T00:00:00.000000000 to  2019-01-04T00:00:00.000000000\n",
      "-----------------\n",
      "Total Reward:  -0.790873983874917\n",
      "Total Trades:  527\n",
      "Mean Reward: -0.790873983874917\n",
      "STD reward: 0.0\n",
      "-----------------\n",
      "Total reward at validation for Reccurent PPO -0.790873983874917\n",
      "Sharpe Ratio:  0\n",
      "======Trading from:  2019-01-04T00:00:00.000000000 to  2019-04-05T00:00:00.000000000 Model is :  Rec_PPO\n",
      "Saving to  results/account_value_trade_main_jim_sac-v15.csv\n",
      "previous_total_asset:1225390.1748491859\n",
      "end_total_asset:1458424.1493436967\n",
      "total_asset_change:233033.9744945108\n",
      "Total cash is: 3.0572034988872474$ and total holdings in stocks are 1458421.0921401978$\n",
      "Buy & Hold strategy with previous total asset:  1370814.5743674387\n",
      "Total Cost:  1595.406452602387\n",
      "Sum of rewards  -1595.4064526022412\n",
      "Total trades:  150\n",
      "Total days in turbulance:  0\n",
      "Sharpe:  0.6047101242838565\n",
      "=============\n",
      "Total reward for the the window is -1.007082581192435\n",
      "=============\n"
     ]
    },
    {
     "name": "stderr",
     "output_type": "stream",
     "text": [
      "\u001b[34m\u001b[1mwandb\u001b[0m: wandb version 0.12.7 is available!  To upgrade, please run:\n",
      "\u001b[34m\u001b[1mwandb\u001b[0m:  $ pip install wandb --upgrade\n"
     ]
    },
    {
     "data": {
      "text/html": [
       "\n",
       "                    Syncing run <strong><a href=\"https://wandb.ai/kaanb/FundSimulator/runs/1tbeidwp\" target=\"_blank\">swept-dew-589</a></strong> to <a href=\"https://wandb.ai/kaanb/FundSimulator\" target=\"_blank\">Weights & Biases</a> (<a href=\"https://docs.wandb.com/integrations/jupyter.html\" target=\"_blank\">docs</a>).<br/>\n",
       "\n",
       "                "
      ],
      "text/plain": [
       "<IPython.core.display.HTML object>"
      ]
     },
     "metadata": {},
     "output_type": "display_data"
    },
    {
     "data": {
      "text/html": [
       "<br/>Waiting for W&B process to finish, PID 22368... <strong style=\"color:green\">(success).</strong>"
      ],
      "text/plain": [
       "<IPython.core.display.HTML object>"
      ]
     },
     "metadata": {},
     "output_type": "display_data"
    },
    {
     "data": {
      "application/vnd.jupyter.widget-view+json": {
       "model_id": "",
       "version_major": 2,
       "version_minor": 0
      },
      "text/plain": [
       "VBox(children=(Label(value=' 0.00MB of 0.00MB uploaded (0.00MB deduped)\\r'), FloatProgress(value=1.0, max=1.0)…"
      ]
     },
     "metadata": {},
     "output_type": "display_data"
    },
    {
     "data": {
      "text/html": [
       "<style>\n",
       "    table.wandb td:nth-child(1) { padding: 0 10px; text-align: right }\n",
       "    .wandb-row { display: flex; flex-direction: row; flex-wrap: wrap; width: 100% }\n",
       "    .wandb-col { display: flex; flex-direction: column; flex-basis: 100%; flex: 1; padding: 10px; }\n",
       "    </style>\n",
       "<div class=\"wandb-row\"><div class=\"wandb-col\">\n",
       "<h3>Run history:</h3><br/><table class=\"wandb\"><tr><td>date</td><td>▁</td></tr><tr><td>end_total_asset</td><td>▁</td></tr><tr><td>trade_reward</td><td>▁</td></tr></table><br/></div><div class=\"wandb-col\">\n",
       "<h3>Run summary:</h3><br/><table class=\"wandb\"><tr><td>date</td><td>1554422400000000000</td></tr><tr><td>end_total_asset</td><td>1458424.14934</td></tr><tr><td>trade_reward</td><td>0.0</td></tr></table>\n",
       "</div></div>\n",
       "Synced 5 W&B file(s), 0 media file(s), 0 artifact file(s) and 0 other file(s)\n",
       "<br/>Synced <strong style=\"color:#cdcd00\">swept-dew-589</strong>: <a href=\"https://wandb.ai/kaanb/FundSimulator/runs/1tbeidwp\" target=\"_blank\">https://wandb.ai/kaanb/FundSimulator/runs/1tbeidwp</a><br/>\n",
       "Find logs at: <code>.\\wandb\\run-20211123_143625-1tbeidwp\\logs</code><br/>\n"
      ],
      "text/plain": [
       "<IPython.core.display.HTML object>"
      ]
     },
     "metadata": {},
     "output_type": "display_data"
    },
    {
     "name": "stdout",
     "output_type": "stream",
     "text": [
      "============================================\n",
      "======Model training from:  2011-01-01 to  2019-01-04T00:00:00.000000000\n",
      "======Recurrent PPO Training for a population of 1========\n",
      "Training time  jim_sac-v15 :  14.337661941846212  minutes\n",
      "Best params,  {'batch_size': 128, 'buffer_size': 100000, 'learning_rate': 0.0001, 'learning_starts': 100, 'ent_coef': 'auto_0.1', 'seed': 59, 'device': 'cuda'}\n",
      "======Recurrent PPO Validation from:  2019-01-04T00:00:00.000000000 to  2019-04-05T00:00:00.000000000\n",
      "-----------------\n",
      "Total Reward:  -0.5570712044018364\n",
      "Total Trades:  751\n",
      "Mean Reward: -0.5570712044018364\n",
      "STD reward: 0.0\n",
      "-----------------\n",
      "Total reward at validation for Reccurent PPO -0.5570712044018364\n",
      "Sharpe Ratio:  0\n",
      "======Trading from:  2019-04-05T00:00:00.000000000 to  2019-07-08T00:00:00.000000000 Model is :  Rec_PPO\n",
      "Saving to  results/account_value_trade_main_jim_sac-v15.csv\n",
      "previous_total_asset:1458424.1493436967\n",
      "end_total_asset:1483925.5736143354\n",
      "total_asset_change:25501.42427063873\n",
      "Total cash is: 45.77256224181535$ and total holdings in stocks are 1483879.8010520935$\n",
      "Buy & Hold strategy with previous total asset:  1510582.4275277124\n",
      "Total Cost:  2916.7099886093133\n",
      "Sum of rewards  -5136.111843100283\n",
      "Total trades:  274\n",
      "Total days in turbulance:  120\n",
      "Sharpe:  0.08665846442397283\n",
      "=============\n",
      "Total reward for the the window is -1.520693756488754\n",
      "=============\n"
     ]
    },
    {
     "name": "stderr",
     "output_type": "stream",
     "text": [
      "\u001b[34m\u001b[1mwandb\u001b[0m: wandb version 0.12.7 is available!  To upgrade, please run:\n",
      "\u001b[34m\u001b[1mwandb\u001b[0m:  $ pip install wandb --upgrade\n"
     ]
    },
    {
     "data": {
      "text/html": [
       "\n",
       "                    Syncing run <strong><a href=\"https://wandb.ai/kaanb/FundSimulator/runs/29bticwk\" target=\"_blank\">glamorous-eon-590</a></strong> to <a href=\"https://wandb.ai/kaanb/FundSimulator\" target=\"_blank\">Weights & Biases</a> (<a href=\"https://docs.wandb.com/integrations/jupyter.html\" target=\"_blank\">docs</a>).<br/>\n",
       "\n",
       "                "
      ],
      "text/plain": [
       "<IPython.core.display.HTML object>"
      ]
     },
     "metadata": {},
     "output_type": "display_data"
    },
    {
     "data": {
      "text/html": [
       "<br/>Waiting for W&B process to finish, PID 1324... <strong style=\"color:green\">(success).</strong>"
      ],
      "text/plain": [
       "<IPython.core.display.HTML object>"
      ]
     },
     "metadata": {},
     "output_type": "display_data"
    },
    {
     "data": {
      "application/vnd.jupyter.widget-view+json": {
       "model_id": "",
       "version_major": 2,
       "version_minor": 0
      },
      "text/plain": [
       "VBox(children=(Label(value=' 0.00MB of 0.00MB uploaded (0.00MB deduped)\\r'), FloatProgress(value=1.0, max=1.0)…"
      ]
     },
     "metadata": {},
     "output_type": "display_data"
    },
    {
     "data": {
      "text/html": [
       "<style>\n",
       "    table.wandb td:nth-child(1) { padding: 0 10px; text-align: right }\n",
       "    .wandb-row { display: flex; flex-direction: row; flex-wrap: wrap; width: 100% }\n",
       "    .wandb-col { display: flex; flex-direction: column; flex-basis: 100%; flex: 1; padding: 10px; }\n",
       "    </style>\n",
       "<div class=\"wandb-row\"><div class=\"wandb-col\">\n",
       "<h3>Run history:</h3><br/><table class=\"wandb\"><tr><td>date</td><td>▁</td></tr><tr><td>end_total_asset</td><td>▁</td></tr><tr><td>trade_reward</td><td>▁</td></tr></table><br/></div><div class=\"wandb-col\">\n",
       "<h3>Run summary:</h3><br/><table class=\"wandb\"><tr><td>date</td><td>1562544000000000000</td></tr><tr><td>end_total_asset</td><td>1483925.57361</td></tr><tr><td>trade_reward</td><td>0.0</td></tr></table>\n",
       "</div></div>\n",
       "Synced 5 W&B file(s), 0 media file(s), 0 artifact file(s) and 0 other file(s)\n",
       "<br/>Synced <strong style=\"color:#cdcd00\">glamorous-eon-590</strong>: <a href=\"https://wandb.ai/kaanb/FundSimulator/runs/29bticwk\" target=\"_blank\">https://wandb.ai/kaanb/FundSimulator/runs/29bticwk</a><br/>\n",
       "Find logs at: <code>.\\wandb\\run-20211123_145101-29bticwk\\logs</code><br/>\n"
      ],
      "text/plain": [
       "<IPython.core.display.HTML object>"
      ]
     },
     "metadata": {},
     "output_type": "display_data"
    },
    {
     "name": "stdout",
     "output_type": "stream",
     "text": [
      "============================================\n",
      "======Model training from:  2011-01-01 to  2019-04-05T00:00:00.000000000\n",
      "======Recurrent PPO Training for a population of 1========\n",
      "Training time  jim_sac-v15 :  14.320730837186177  minutes\n",
      "Best params,  {'batch_size': 128, 'buffer_size': 100000, 'learning_rate': 0.0001, 'learning_starts': 100, 'ent_coef': 'auto_0.1', 'seed': 59, 'device': 'cuda'}\n",
      "======Recurrent PPO Validation from:  2019-04-05T00:00:00.000000000 to  2019-07-08T00:00:00.000000000\n",
      "-----------------\n",
      "Total Reward:  -0.4233087543398142\n",
      "Total Trades:  403\n",
      "Mean Reward: -0.4233087543398142\n",
      "STD reward: 0.0\n",
      "-----------------\n",
      "Total reward at validation for Reccurent PPO -0.4233087543398142\n",
      "Sharpe Ratio:  0\n",
      "======Trading from:  2019-07-08T00:00:00.000000000 to  2019-10-04T00:00:00.000000000 Model is :  Rec_PPO\n",
      "Saving to  results/account_value_trade_main_jim_sac-v15.csv\n",
      "previous_total_asset:1483925.5736143354\n",
      "end_total_asset:1497879.3265794003\n",
      "total_asset_change:13953.752965064952\n",
      "Total cash is: 18.68962032445961$ and total holdings in stocks are 1497860.636959076$\n",
      "Buy & Hold strategy with previous total asset:  1447734.0036658521\n",
      "Total Cost:  1072.2002743759153\n",
      "Sum of rewards  -1072.2002743759658\n",
      "Total trades:  120\n",
      "Total days in turbulance:  0\n",
      "Sharpe:  0.010259392386683892\n",
      "=============\n",
      "Total reward for the the window is -1.6279137840263047\n",
      "=============\n"
     ]
    },
    {
     "name": "stderr",
     "output_type": "stream",
     "text": [
      "\u001b[34m\u001b[1mwandb\u001b[0m: wandb version 0.12.7 is available!  To upgrade, please run:\n",
      "\u001b[34m\u001b[1mwandb\u001b[0m:  $ pip install wandb --upgrade\n"
     ]
    },
    {
     "data": {
      "text/html": [
       "\n",
       "                    Syncing run <strong><a href=\"https://wandb.ai/kaanb/FundSimulator/runs/29n5w14s\" target=\"_blank\">leafy-river-591</a></strong> to <a href=\"https://wandb.ai/kaanb/FundSimulator\" target=\"_blank\">Weights & Biases</a> (<a href=\"https://docs.wandb.com/integrations/jupyter.html\" target=\"_blank\">docs</a>).<br/>\n",
       "\n",
       "                "
      ],
      "text/plain": [
       "<IPython.core.display.HTML object>"
      ]
     },
     "metadata": {},
     "output_type": "display_data"
    },
    {
     "data": {
      "text/html": [
       "<br/>Waiting for W&B process to finish, PID 7964... <strong style=\"color:green\">(success).</strong>"
      ],
      "text/plain": [
       "<IPython.core.display.HTML object>"
      ]
     },
     "metadata": {},
     "output_type": "display_data"
    },
    {
     "data": {
      "application/vnd.jupyter.widget-view+json": {
       "model_id": "",
       "version_major": 2,
       "version_minor": 0
      },
      "text/plain": [
       "VBox(children=(Label(value=' 0.00MB of 0.00MB uploaded (0.00MB deduped)\\r'), FloatProgress(value=1.0, max=1.0)…"
      ]
     },
     "metadata": {},
     "output_type": "display_data"
    },
    {
     "data": {
      "text/html": [
       "<style>\n",
       "    table.wandb td:nth-child(1) { padding: 0 10px; text-align: right }\n",
       "    .wandb-row { display: flex; flex-direction: row; flex-wrap: wrap; width: 100% }\n",
       "    .wandb-col { display: flex; flex-direction: column; flex-basis: 100%; flex: 1; padding: 10px; }\n",
       "    </style>\n",
       "<div class=\"wandb-row\"><div class=\"wandb-col\">\n",
       "<h3>Run history:</h3><br/><table class=\"wandb\"><tr><td>date</td><td>▁</td></tr><tr><td>end_total_asset</td><td>▁</td></tr><tr><td>trade_reward</td><td>▁</td></tr></table><br/></div><div class=\"wandb-col\">\n",
       "<h3>Run summary:</h3><br/><table class=\"wandb\"><tr><td>date</td><td>1570147200000000000</td></tr><tr><td>end_total_asset</td><td>1497879.32658</td></tr><tr><td>trade_reward</td><td>0.0</td></tr></table>\n",
       "</div></div>\n",
       "Synced 5 W&B file(s), 0 media file(s), 0 artifact file(s) and 0 other file(s)\n",
       "<br/>Synced <strong style=\"color:#cdcd00\">leafy-river-591</strong>: <a href=\"https://wandb.ai/kaanb/FundSimulator/runs/29n5w14s\" target=\"_blank\">https://wandb.ai/kaanb/FundSimulator/runs/29n5w14s</a><br/>\n",
       "Find logs at: <code>.\\wandb\\run-20211123_150535-29n5w14s\\logs</code><br/>\n"
      ],
      "text/plain": [
       "<IPython.core.display.HTML object>"
      ]
     },
     "metadata": {},
     "output_type": "display_data"
    },
    {
     "name": "stdout",
     "output_type": "stream",
     "text": [
      "============================================\n",
      "======Model training from:  2011-01-01 to  2019-07-08T00:00:00.000000000\n",
      "======Recurrent PPO Training for a population of 1========\n",
      "Training time  jim_sac-v15 :  14.33637929757436  minutes\n",
      "Best params,  {'batch_size': 128, 'buffer_size': 100000, 'learning_rate': 0.0001, 'learning_starts': 100, 'ent_coef': 'auto_0.1', 'seed': 59, 'device': 'cuda'}\n",
      "======Recurrent PPO Validation from:  2019-07-08T00:00:00.000000000 to  2019-10-04T00:00:00.000000000\n",
      "-----------------\n",
      "Total Reward:  -0.5970489699393511\n",
      "Total Trades:  677\n",
      "Mean Reward: -0.5970489699393511\n",
      "STD reward: 0.0\n",
      "-----------------\n",
      "Total reward at validation for Reccurent PPO -0.5970489699393511\n",
      "Sharpe Ratio:  0\n",
      "======Trading from:  2019-10-04T00:00:00.000000000 to  2020-01-06T00:00:00.000000000 Model is :  Rec_PPO\n",
      "Saving to  results/account_value_trade_main_jim_sac-v15.csv\n",
      "previous_total_asset:1497879.3265794003\n",
      "end_total_asset:1518362.671935053\n",
      "total_asset_change:20483.34535565274\n",
      "Total cash is: 29.81146142019827$ and total holdings in stocks are 1518332.8604736328$\n",
      "Buy & Hold strategy with previous total asset:  1620344.5527185597\n",
      "Total Cost:  2236.9200606346135\n",
      "Sum of rewards  -3899.5950702200644\n",
      "Total trades:  208\n",
      "Total days in turbulance:  270\n",
      "Sharpe:  0.12591116996340618\n",
      "=============\n",
      "Total reward for the the window is -2.017873293976436\n",
      "=============\n"
     ]
    },
    {
     "name": "stderr",
     "output_type": "stream",
     "text": [
      "\u001b[34m\u001b[1mwandb\u001b[0m: wandb version 0.12.7 is available!  To upgrade, please run:\n",
      "\u001b[34m\u001b[1mwandb\u001b[0m:  $ pip install wandb --upgrade\n"
     ]
    },
    {
     "data": {
      "text/html": [
       "\n",
       "                    Syncing run <strong><a href=\"https://wandb.ai/kaanb/FundSimulator/runs/3ktnq1vi\" target=\"_blank\">pretty-jazz-592</a></strong> to <a href=\"https://wandb.ai/kaanb/FundSimulator\" target=\"_blank\">Weights & Biases</a> (<a href=\"https://docs.wandb.com/integrations/jupyter.html\" target=\"_blank\">docs</a>).<br/>\n",
       "\n",
       "                "
      ],
      "text/plain": [
       "<IPython.core.display.HTML object>"
      ]
     },
     "metadata": {},
     "output_type": "display_data"
    },
    {
     "data": {
      "text/html": [
       "<br/>Waiting for W&B process to finish, PID 22496... <strong style=\"color:green\">(success).</strong>"
      ],
      "text/plain": [
       "<IPython.core.display.HTML object>"
      ]
     },
     "metadata": {},
     "output_type": "display_data"
    },
    {
     "data": {
      "application/vnd.jupyter.widget-view+json": {
       "model_id": "",
       "version_major": 2,
       "version_minor": 0
      },
      "text/plain": [
       "VBox(children=(Label(value=' 0.00MB of 0.00MB uploaded (0.00MB deduped)\\r'), FloatProgress(value=1.0, max=1.0)…"
      ]
     },
     "metadata": {},
     "output_type": "display_data"
    },
    {
     "data": {
      "text/html": [
       "<style>\n",
       "    table.wandb td:nth-child(1) { padding: 0 10px; text-align: right }\n",
       "    .wandb-row { display: flex; flex-direction: row; flex-wrap: wrap; width: 100% }\n",
       "    .wandb-col { display: flex; flex-direction: column; flex-basis: 100%; flex: 1; padding: 10px; }\n",
       "    </style>\n",
       "<div class=\"wandb-row\"><div class=\"wandb-col\">\n",
       "<h3>Run history:</h3><br/><table class=\"wandb\"><tr><td>date</td><td>▁</td></tr><tr><td>end_total_asset</td><td>▁</td></tr><tr><td>trade_reward</td><td>▁</td></tr></table><br/></div><div class=\"wandb-col\">\n",
       "<h3>Run summary:</h3><br/><table class=\"wandb\"><tr><td>date</td><td>1578268800000000000</td></tr><tr><td>end_total_asset</td><td>1518362.67194</td></tr><tr><td>trade_reward</td><td>0.0</td></tr></table>\n",
       "</div></div>\n",
       "Synced 5 W&B file(s), 0 media file(s), 0 artifact file(s) and 0 other file(s)\n",
       "<br/>Synced <strong style=\"color:#cdcd00\">pretty-jazz-592</strong>: <a href=\"https://wandb.ai/kaanb/FundSimulator/runs/3ktnq1vi\" target=\"_blank\">https://wandb.ai/kaanb/FundSimulator/runs/3ktnq1vi</a><br/>\n",
       "Find logs at: <code>.\\wandb\\run-20211123_152008-3ktnq1vi\\logs</code><br/>\n"
      ],
      "text/plain": [
       "<IPython.core.display.HTML object>"
      ]
     },
     "metadata": {},
     "output_type": "display_data"
    },
    {
     "name": "stdout",
     "output_type": "stream",
     "text": [
      "============================================\n",
      "======Model training from:  2011-01-01 to  2019-10-04T00:00:00.000000000\n",
      "======Recurrent PPO Training for a population of 1========\n",
      "Training time  jim_sac-v15 :  14.364959359169006  minutes\n",
      "Best params,  {'batch_size': 128, 'buffer_size': 100000, 'learning_rate': 0.0001, 'learning_starts': 100, 'ent_coef': 'auto_0.1', 'seed': 59, 'device': 'cuda'}\n",
      "======Recurrent PPO Validation from:  2019-10-04T00:00:00.000000000 to  2020-01-06T00:00:00.000000000\n",
      "-----------------\n",
      "Total Reward:  -0.8909768114594954\n",
      "Total Trades:  590\n",
      "Mean Reward: -0.8909768114594954\n",
      "STD reward: 0.0\n",
      "-----------------\n",
      "Total reward at validation for Reccurent PPO -0.8909768114594954\n",
      "Sharpe Ratio:  0\n",
      "======Trading from:  2020-01-06T00:00:00.000000000 to  2020-04-06T00:00:00.000000000 Model is :  Rec_PPO\n",
      "Saving to  results/account_value_trade_main_jim_sac-v15.csv\n",
      "previous_total_asset:1518362.671935053\n",
      "end_total_asset:1174662.906796241\n",
      "total_asset_change:-343699.76513881213\n",
      "Total cash is: 272657.93357541575$ and total holdings in stocks are 902004.9732208252$\n",
      "Buy & Hold strategy with previous total asset:  1145905.1951751509\n",
      "Total Cost:  3031.2584726181017\n",
      "Sum of rewards  -5771.302847094601\n",
      "Total trades:  305\n",
      "Total days in turbulance:  390\n",
      "Sharpe:  -0.3926112682524746\n",
      "=============\n",
      "Total reward for the the window is -2.608183646598036\n",
      "=============\n"
     ]
    },
    {
     "name": "stderr",
     "output_type": "stream",
     "text": [
      "\u001b[34m\u001b[1mwandb\u001b[0m: wandb version 0.12.7 is available!  To upgrade, please run:\n",
      "\u001b[34m\u001b[1mwandb\u001b[0m:  $ pip install wandb --upgrade\n"
     ]
    },
    {
     "data": {
      "text/html": [
       "\n",
       "                    Syncing run <strong><a href=\"https://wandb.ai/kaanb/FundSimulator/runs/l5y5mht8\" target=\"_blank\">super-firebrand-593</a></strong> to <a href=\"https://wandb.ai/kaanb/FundSimulator\" target=\"_blank\">Weights & Biases</a> (<a href=\"https://docs.wandb.com/integrations/jupyter.html\" target=\"_blank\">docs</a>).<br/>\n",
       "\n",
       "                "
      ],
      "text/plain": [
       "<IPython.core.display.HTML object>"
      ]
     },
     "metadata": {},
     "output_type": "display_data"
    },
    {
     "data": {
      "text/html": [
       "<br/>Waiting for W&B process to finish, PID 7740... <strong style=\"color:green\">(success).</strong>"
      ],
      "text/plain": [
       "<IPython.core.display.HTML object>"
      ]
     },
     "metadata": {},
     "output_type": "display_data"
    },
    {
     "data": {
      "application/vnd.jupyter.widget-view+json": {
       "model_id": "",
       "version_major": 2,
       "version_minor": 0
      },
      "text/plain": [
       "VBox(children=(Label(value=' 0.00MB of 0.00MB uploaded (0.00MB deduped)\\r'), FloatProgress(value=1.0, max=1.0)…"
      ]
     },
     "metadata": {},
     "output_type": "display_data"
    },
    {
     "data": {
      "text/html": [
       "<style>\n",
       "    table.wandb td:nth-child(1) { padding: 0 10px; text-align: right }\n",
       "    .wandb-row { display: flex; flex-direction: row; flex-wrap: wrap; width: 100% }\n",
       "    .wandb-col { display: flex; flex-direction: column; flex-basis: 100%; flex: 1; padding: 10px; }\n",
       "    </style>\n",
       "<div class=\"wandb-row\"><div class=\"wandb-col\">\n",
       "<h3>Run history:</h3><br/><table class=\"wandb\"><tr><td>date</td><td>▁</td></tr><tr><td>end_total_asset</td><td>▁</td></tr><tr><td>trade_reward</td><td>▁</td></tr></table><br/></div><div class=\"wandb-col\">\n",
       "<h3>Run summary:</h3><br/><table class=\"wandb\"><tr><td>date</td><td>1586131200000000000</td></tr><tr><td>end_total_asset</td><td>1174662.9068</td></tr><tr><td>trade_reward</td><td>-0.01318</td></tr></table>\n",
       "</div></div>\n",
       "Synced 5 W&B file(s), 0 media file(s), 0 artifact file(s) and 0 other file(s)\n",
       "<br/>Synced <strong style=\"color:#cdcd00\">super-firebrand-593</strong>: <a href=\"https://wandb.ai/kaanb/FundSimulator/runs/l5y5mht8\" target=\"_blank\">https://wandb.ai/kaanb/FundSimulator/runs/l5y5mht8</a><br/>\n",
       "Find logs at: <code>.\\wandb\\run-20211123_153445-l5y5mht8\\logs</code><br/>\n"
      ],
      "text/plain": [
       "<IPython.core.display.HTML object>"
      ]
     },
     "metadata": {},
     "output_type": "display_data"
    },
    {
     "name": "stdout",
     "output_type": "stream",
     "text": [
      "============================================\n",
      "======Model training from:  2011-01-01 to  2020-01-06T00:00:00.000000000\n",
      "======Recurrent PPO Training for a population of 1========\n"
     ]
    }
   ],
   "source": [
    "trainer.train(dataset='datasets/downew30.csv', timesteps=45500, load=False, model_to_load='model_to_load', normalize =NORNAMLIZE)"
   ]
  },
  {
   "cell_type": "code",
   "execution_count": 20,
   "metadata": {},
   "outputs": [],
   "source": [
    "\n",
    "pretrain_set = pd.read_csv('datasets/pretrain_set3.csv')\n",
    "pretrain_set['turbulence'] = 0"
   ]
  },
  {
   "cell_type": "code",
   "execution_count": null,
   "metadata": {},
   "outputs": [],
   "source": [
    "pretrain = trainer.pretrain(sn, '2011-05-01', START_TRADE, NORNAMLIZE)"
   ]
  },
  {
   "cell_type": "code",
   "execution_count": 67,
   "metadata": {},
   "outputs": [],
   "source": [
    "model_to_load = pretrain.split('/')[1]"
   ]
  },
  {
   "cell_type": "code",
   "execution_count": 16,
   "metadata": {},
   "outputs": [
    {
     "name": "stdout",
     "output_type": "stream",
     "text": [
      "Loading processed path\n",
      "============================================\n",
      "Stocks trading this period is  ['AIG' 'AIV' 'AXP' 'BAC' 'BAX' 'BK' 'BMY' 'COG' 'CSCO' 'CSX' 'HAL' 'JNJ'\n",
      " 'KO' 'LOW' 'MA' 'MSFT' 'NEM' 'NFLX' 'NVDA' 'PEP' 'PG' 'SCHW' 'UNH' 'USB'\n",
      " 'V']\n",
      "======Model training from:  2011-01-01 to  2012-05-07T00:00:00.000000000\n",
      "======Recurrent PPO Training for a population of 1========\n",
      "Training time  alameda-v9.1 :  6.870966609319051  minutes\n",
      "Best params,  {'ent_coef': 0.005}\n",
      "======Recurrent PPO Validation from:  2012-05-07T00:00:00.000000000 to  2012-08-06T00:00:00.000000000\n",
      "-----------------\n",
      "Total Reward:  430.2842980623245\n",
      "Total Trades:  876\n",
      "Mean Reward: 430.2842980623245\n",
      "STD reward: 0.0\n",
      "-----------------\n",
      "Total reward at validation for Reccurent PPO 430.2842980623245\n",
      "Sharpe Ratio:  0\n",
      "======Trading from:  2012-08-06T00:00:00.000000000 to  2012-11-06T00:00:00.000000000 Model is :  Rec_PPO\n",
      "Saving to  results/account_value_trade_main_alameda-v9.1.csv\n",
      "previous_total_asset:1000000\n",
      "end_total_asset:1011028.6612429218\n",
      "total_asset_change:11028.661242921837\n",
      "Total cash is: 0.04679532812098941$ and total holdings in stocks are 1011028.6144475937$\n",
      "Buy & Hold strategy with previous total asset:  1067106.8532507438\n",
      "Total Cost:  1607.2573569214358\n",
      "Total trades:  583\n",
      "Total days in turbulance:  0\n",
      "Sharpe:  0.05273744966877213\n",
      "=============\n",
      "Total reward for the the window is -335.4089117050171\n",
      "=============\n"
     ]
    },
    {
     "data": {
      "text/html": [
       "\n",
       "                    Syncing run <strong><a href=\"https://wandb.ai/kaanb/FundSimulator/runs/etbrnz21\" target=\"_blank\">apricot-cosmos-355</a></strong> to <a href=\"https://wandb.ai/kaanb/FundSimulator\" target=\"_blank\">Weights & Biases</a> (<a href=\"https://docs.wandb.com/integrations/jupyter.html\" target=\"_blank\">docs</a>).<br/>\n",
       "\n",
       "                "
      ],
      "text/plain": [
       "<IPython.core.display.HTML object>"
      ]
     },
     "metadata": {},
     "output_type": "display_data"
    },
    {
     "data": {
      "text/html": [
       "<br/>Waiting for W&B process to finish, PID 5128... <strong style=\"color:green\">(success).</strong>"
      ],
      "text/plain": [
       "<IPython.core.display.HTML object>"
      ]
     },
     "metadata": {},
     "output_type": "display_data"
    },
    {
     "data": {
      "application/vnd.jupyter.widget-view+json": {
       "model_id": "",
       "version_major": 2,
       "version_minor": 0
      },
      "text/plain": [
       "VBox(children=(Label(value=' 0.00MB of 0.00MB uploaded (0.00MB deduped)\\r'), FloatProgress(value=1.0, max=1.0)…"
      ]
     },
     "metadata": {},
     "output_type": "display_data"
    },
    {
     "data": {
      "text/html": [
       "<style>\n",
       "    table.wandb td:nth-child(1) { padding: 0 10px; text-align: right }\n",
       "    .wandb-row { display: flex; flex-direction: row; flex-wrap: wrap; width: 100% }\n",
       "    .wandb-col { display: flex; flex-direction: column; flex-basis: 100%; flex: 1; padding: 10px; }\n",
       "    </style>\n",
       "<div class=\"wandb-row\"><div class=\"wandb-col\">\n",
       "<h3>Run history:</h3><br/><table class=\"wandb\"><tr><td>date</td><td>▁</td></tr><tr><td>end_total_asset</td><td>▁</td></tr><tr><td>trade_reward</td><td>▁</td></tr></table><br/></div><div class=\"wandb-col\">\n",
       "<h3>Run summary:</h3><br/><table class=\"wandb\"><tr><td>date</td><td>1352160000000000000</td></tr><tr><td>end_total_asset</td><td>1011028.66124</td></tr><tr><td>trade_reward</td><td>-11.36495</td></tr></table>\n",
       "</div></div>\n",
       "Synced 5 W&B file(s), 0 media file(s), 0 artifact file(s) and 0 other file(s)\n",
       "<br/>Synced <strong style=\"color:#cdcd00\">apricot-cosmos-355</strong>: <a href=\"https://wandb.ai/kaanb/FundSimulator/runs/etbrnz21\" target=\"_blank\">https://wandb.ai/kaanb/FundSimulator/runs/etbrnz21</a><br/>\n",
       "Find logs at: <code>.\\wandb\\run-20211112_165935-etbrnz21\\logs</code><br/>\n"
      ],
      "text/plain": [
       "<IPython.core.display.HTML object>"
      ]
     },
     "metadata": {},
     "output_type": "display_data"
    },
    {
     "name": "stdout",
     "output_type": "stream",
     "text": [
      "============================================\n",
      "Stocks trading this period is  ['AMD' 'CAT' 'COG' 'CSCO' 'EW' 'EXC' 'GILD' 'GM' 'HIG' 'HPQ' 'INTC' 'KR'\n",
      " 'LLY' 'MDLZ' 'MNST' 'MRK' 'MRO' 'NEE' 'NEM' 'NFLX' 'T' 'TJX' 'TWX' 'WMT'\n",
      " 'WU']\n",
      "======Model training from:  2011-01-01 to  2012-08-06T00:00:00.000000000\n",
      "======Recurrent PPO Training for a population of 1========\n",
      "Training time  alameda-v9.1 :  6.742207300662995  minutes\n",
      "Best params,  {'ent_coef': 0.005}\n",
      "======Recurrent PPO Validation from:  2012-08-06T00:00:00.000000000 to  2012-11-06T00:00:00.000000000\n",
      "-----------------\n",
      "Total Reward:  -441.5967130661011\n",
      "Total Trades:  829\n",
      "Mean Reward: -441.5967130661011\n",
      "STD reward: 0.0\n",
      "-----------------\n",
      "Total reward at validation for Reccurent PPO -441.5967130661011\n",
      "Sharpe Ratio:  0\n",
      "======Trading from:  2012-11-06T00:00:00.000000000 to  2013-02-07T00:00:00.000000000 Model is :  Rec_PPO\n",
      "==============================\n",
      "Previously traded stocks are ['AMD' 'CAT' 'COG' 'CSCO' 'EW' 'EXC' 'GILD' 'GM' 'HIG' 'HPQ' 'INTC' 'KR'\n",
      " 'LLY' 'MDLZ' 'MNST' 'MRK' 'MRO' 'NEE' 'NEM' 'NFLX' 'T' 'TJX' 'TWX' 'WMT'\n",
      " 'WU']\n",
      "====Closing position changing stocks at day 2012-12-31 00:00:00====\n",
      "New stocks are ['AMD' 'CAT' 'COG' 'CSCO' 'EW' 'EXC' 'GILD' 'GM' 'HIG' 'HPQ' 'INTC' 'KR'\n",
      " 'LLY' 'MDLZ' 'MNST' 'MRK' 'MRO' 'NEE' 'NEM' 'NFLX' 'T' 'TJX' 'TWX' 'WMT'\n",
      " 'WU']\n",
      "Current dollar is 876103.3720475074\n",
      "==============================\n",
      "Saving to  results/account_value_trade_main_alameda-v9.1.csv\n",
      "previous_total_asset:1011028.6612429218\n",
      "end_total_asset:907601.7569397793\n",
      "total_asset_change:-103426.90430314257\n",
      "Total cash is: 296873.6889695034$ and total holdings in stocks are 610728.0679702759$\n",
      "Buy & Hold strategy with previous total asset:  1074567.9378414424\n",
      "Total Cost:  3242.3326326093693\n",
      "Total trades:  934\n",
      "Total days in turbulance:  0\n",
      "Sharpe:  -0.17325401620570266\n",
      "=============\n",
      "Total reward for the the window is -10948.430020794272\n",
      "=============\n"
     ]
    },
    {
     "data": {
      "text/html": [
       "\n",
       "                    Syncing run <strong><a href=\"https://wandb.ai/kaanb/FundSimulator/runs/2wshikmw\" target=\"_blank\">vivid-pine-356</a></strong> to <a href=\"https://wandb.ai/kaanb/FundSimulator\" target=\"_blank\">Weights & Biases</a> (<a href=\"https://docs.wandb.com/integrations/jupyter.html\" target=\"_blank\">docs</a>).<br/>\n",
       "\n",
       "                "
      ],
      "text/plain": [
       "<IPython.core.display.HTML object>"
      ]
     },
     "metadata": {},
     "output_type": "display_data"
    },
    {
     "data": {
      "text/html": [
       "<br/>Waiting for W&B process to finish, PID 18276... <strong style=\"color:green\">(success).</strong>"
      ],
      "text/plain": [
       "<IPython.core.display.HTML object>"
      ]
     },
     "metadata": {},
     "output_type": "display_data"
    },
    {
     "data": {
      "application/vnd.jupyter.widget-view+json": {
       "model_id": "",
       "version_major": 2,
       "version_minor": 0
      },
      "text/plain": [
       "VBox(children=(Label(value=' 0.00MB of 0.00MB uploaded (0.00MB deduped)\\r'), FloatProgress(value=1.0, max=1.0)…"
      ]
     },
     "metadata": {},
     "output_type": "display_data"
    },
    {
     "data": {
      "text/html": [
       "<style>\n",
       "    table.wandb td:nth-child(1) { padding: 0 10px; text-align: right }\n",
       "    .wandb-row { display: flex; flex-direction: row; flex-wrap: wrap; width: 100% }\n",
       "    .wandb-col { display: flex; flex-direction: column; flex-basis: 100%; flex: 1; padding: 10px; }\n",
       "    </style>\n",
       "<div class=\"wandb-row\"><div class=\"wandb-col\">\n",
       "<h3>Run history:</h3><br/><table class=\"wandb\"><tr><td>date</td><td>▁</td></tr><tr><td>end_total_asset</td><td>▁</td></tr><tr><td>trade_reward</td><td>▁</td></tr></table><br/></div><div class=\"wandb-col\">\n",
       "<h3>Run summary:</h3><br/><table class=\"wandb\"><tr><td>date</td><td>1360195200000000000</td></tr><tr><td>end_total_asset</td><td>907601.75694</td></tr><tr><td>trade_reward</td><td>-404.63809</td></tr></table>\n",
       "</div></div>\n",
       "Synced 5 W&B file(s), 0 media file(s), 0 artifact file(s) and 0 other file(s)\n",
       "<br/>Synced <strong style=\"color:#cdcd00\">vivid-pine-356</strong>: <a href=\"https://wandb.ai/kaanb/FundSimulator/runs/2wshikmw\" target=\"_blank\">https://wandb.ai/kaanb/FundSimulator/runs/2wshikmw</a><br/>\n",
       "Find logs at: <code>.\\wandb\\run-20211112_170635-2wshikmw\\logs</code><br/>\n"
      ],
      "text/plain": [
       "<IPython.core.display.HTML object>"
      ]
     },
     "metadata": {},
     "output_type": "display_data"
    },
    {
     "name": "stdout",
     "output_type": "stream",
     "text": [
      "============================================\n",
      "Stocks trading this period is  ['AMD' 'CAT' 'COG' 'CSCO' 'EW' 'EXC' 'GILD' 'GM' 'HIG' 'HPQ' 'INTC' 'KR'\n",
      " 'LLY' 'MDLZ' 'MNST' 'MRK' 'MRO' 'NEE' 'NEM' 'NFLX' 'T' 'TJX' 'TWX' 'WMT'\n",
      " 'WU']\n",
      "======Model training from:  2011-01-01 to  2012-11-06T00:00:00.000000000\n",
      "======Recurrent PPO Training for a population of 1========\n",
      "Training time  alameda-v9.1 :  5.894472555319468  minutes\n",
      "Best params,  {'ent_coef': 0.005}\n",
      "======Recurrent PPO Validation from:  2012-11-06T00:00:00.000000000 to  2013-02-07T00:00:00.000000000\n",
      "Closing positions\n",
      "Closing positions\n",
      "Closing positions\n",
      "Closing positions\n",
      "Closing positions\n",
      "Closing positions\n",
      "Closing positions\n",
      "Closing positions\n",
      "Closing positions\n",
      "Closing positions\n",
      "Closing positions\n",
      "-----------------\n",
      "Total Reward:  -11800.243874296546\n",
      "Total Trades:  477\n",
      "Mean Reward: -11800.243874296546\n",
      "STD reward: 0.0\n",
      "-----------------\n",
      "Total reward at validation for Reccurent PPO -11800.243874296546\n",
      "Sharpe Ratio:  0\n",
      "======Trading from:  2013-02-07T00:00:00.000000000 to  2013-05-09T00:00:00.000000000 Model is :  Rec_PPO\n",
      "Saving to  results/account_value_trade_main_alameda-v9.1.csv\n",
      "previous_total_asset:907601.7569397793\n",
      "end_total_asset:974183.1544793718\n",
      "total_asset_change:66581.39753959258\n",
      "Total cash is: 0.02263389765072432$ and total holdings in stocks are 974183.1318454742$\n",
      "Buy & Hold strategy with previous total asset:  1017603.4689640813\n",
      "Total Cost:  1467.5809622044567\n",
      "Total trades:  669\n",
      "Total days in turbulance:  0\n",
      "Sharpe:  0.24942947776235658\n",
      "=============\n",
      "Total reward for the the window is -11118.276287470479\n",
      "=============\n"
     ]
    },
    {
     "data": {
      "text/html": [
       "\n",
       "                    Syncing run <strong><a href=\"https://wandb.ai/kaanb/FundSimulator/runs/3u5qoo5i\" target=\"_blank\">genial-voice-357</a></strong> to <a href=\"https://wandb.ai/kaanb/FundSimulator\" target=\"_blank\">Weights & Biases</a> (<a href=\"https://docs.wandb.com/integrations/jupyter.html\" target=\"_blank\">docs</a>).<br/>\n",
       "\n",
       "                "
      ],
      "text/plain": [
       "<IPython.core.display.HTML object>"
      ]
     },
     "metadata": {},
     "output_type": "display_data"
    },
    {
     "data": {
      "text/html": [
       "<br/>Waiting for W&B process to finish, PID 9124... <strong style=\"color:green\">(success).</strong>"
      ],
      "text/plain": [
       "<IPython.core.display.HTML object>"
      ]
     },
     "metadata": {},
     "output_type": "display_data"
    },
    {
     "data": {
      "application/vnd.jupyter.widget-view+json": {
       "model_id": "",
       "version_major": 2,
       "version_minor": 0
      },
      "text/plain": [
       "VBox(children=(Label(value=' 0.00MB of 0.00MB uploaded (0.00MB deduped)\\r'), FloatProgress(value=1.0, max=1.0)…"
      ]
     },
     "metadata": {},
     "output_type": "display_data"
    },
    {
     "data": {
      "text/html": [
       "<style>\n",
       "    table.wandb td:nth-child(1) { padding: 0 10px; text-align: right }\n",
       "    .wandb-row { display: flex; flex-direction: row; flex-wrap: wrap; width: 100% }\n",
       "    .wandb-col { display: flex; flex-direction: column; flex-basis: 100%; flex: 1; padding: 10px; }\n",
       "    </style>\n",
       "<div class=\"wandb-row\"><div class=\"wandb-col\">\n",
       "<h3>Run history:</h3><br/><table class=\"wandb\"><tr><td>date</td><td>▁</td></tr><tr><td>end_total_asset</td><td>▁</td></tr><tr><td>trade_reward</td><td>▁</td></tr></table><br/></div><div class=\"wandb-col\">\n",
       "<h3>Run summary:</h3><br/><table class=\"wandb\"><tr><td>date</td><td>1368057600000000000</td></tr><tr><td>end_total_asset</td><td>974183.15448</td></tr><tr><td>trade_reward</td><td>-8.62177</td></tr></table>\n",
       "</div></div>\n",
       "Synced 5 W&B file(s), 0 media file(s), 0 artifact file(s) and 0 other file(s)\n",
       "<br/>Synced <strong style=\"color:#cdcd00\">genial-voice-357</strong>: <a href=\"https://wandb.ai/kaanb/FundSimulator/runs/3u5qoo5i\" target=\"_blank\">https://wandb.ai/kaanb/FundSimulator/runs/3u5qoo5i</a><br/>\n",
       "Find logs at: <code>.\\wandb\\run-20211112_171243-3u5qoo5i\\logs</code><br/>\n"
      ],
      "text/plain": [
       "<IPython.core.display.HTML object>"
      ]
     },
     "metadata": {},
     "output_type": "display_data"
    },
    {
     "name": "stdout",
     "output_type": "stream",
     "text": [
      "============================================\n",
      "Stocks trading this period is  ['AMD' 'CAT' 'COG' 'CSCO' 'EW' 'EXC' 'GILD' 'GM' 'HIG' 'HPQ' 'INTC' 'KR'\n",
      " 'LLY' 'MDLZ' 'MNST' 'MRK' 'MRO' 'NEE' 'NEM' 'NFLX' 'T' 'TJX' 'TWX' 'WMT'\n",
      " 'WU']\n",
      "======Model training from:  2011-01-01 to  2013-02-07T00:00:00.000000000\n",
      "======Recurrent PPO Training for a population of 1========\n",
      "Training time  alameda-v9.1 :  4.848424561818441  minutes\n",
      "Best params,  {'ent_coef': 0.005}\n",
      "======Recurrent PPO Validation from:  2013-02-07T00:00:00.000000000 to  2013-05-09T00:00:00.000000000\n",
      "-----------------\n",
      "Total Reward:  -405.509874522686\n",
      "Total Trades:  896\n",
      "Mean Reward: -405.509874522686\n",
      "STD reward: 0.0\n",
      "-----------------\n",
      "Total reward at validation for Reccurent PPO -405.509874522686\n",
      "Sharpe Ratio:  0\n",
      "======Trading from:  2013-05-09T00:00:00.000000000 to  2013-08-08T00:00:00.000000000 Model is :  Rec_PPO\n",
      "Saving to  results/account_value_trade_main_alameda-v9.1.csv\n",
      "previous_total_asset:974183.1544793718\n",
      "end_total_asset:1062899.4581436396\n",
      "total_asset_change:88716.30366426776\n",
      "Total cash is: 0.017221856063542873$ and total holdings in stocks are 1062899.4409217834$\n",
      "Buy & Hold strategy with previous total asset:  1029157.2487018387\n",
      "Total Cost:  1434.8772496576307\n",
      "Total trades:  649\n",
      "Total days in turbulance:  0\n",
      "Sharpe:  0.3064133127436987\n",
      "=============\n",
      "Total reward for the the window is -10926.465087917168\n",
      "=============\n"
     ]
    },
    {
     "data": {
      "text/html": [
       "\n",
       "                    Syncing run <strong><a href=\"https://wandb.ai/kaanb/FundSimulator/runs/2i1un39f\" target=\"_blank\">fresh-haze-358</a></strong> to <a href=\"https://wandb.ai/kaanb/FundSimulator\" target=\"_blank\">Weights & Biases</a> (<a href=\"https://docs.wandb.com/integrations/jupyter.html\" target=\"_blank\">docs</a>).<br/>\n",
       "\n",
       "                "
      ],
      "text/plain": [
       "<IPython.core.display.HTML object>"
      ]
     },
     "metadata": {},
     "output_type": "display_data"
    },
    {
     "data": {
      "text/html": [
       "<br/>Waiting for W&B process to finish, PID 16836... <strong style=\"color:green\">(success).</strong>"
      ],
      "text/plain": [
       "<IPython.core.display.HTML object>"
      ]
     },
     "metadata": {},
     "output_type": "display_data"
    },
    {
     "data": {
      "application/vnd.jupyter.widget-view+json": {
       "model_id": "",
       "version_major": 2,
       "version_minor": 0
      },
      "text/plain": [
       "VBox(children=(Label(value=' 0.00MB of 0.00MB uploaded (0.00MB deduped)\\r'), FloatProgress(value=1.0, max=1.0)…"
      ]
     },
     "metadata": {},
     "output_type": "display_data"
    },
    {
     "data": {
      "text/html": [
       "<style>\n",
       "    table.wandb td:nth-child(1) { padding: 0 10px; text-align: right }\n",
       "    .wandb-row { display: flex; flex-direction: row; flex-wrap: wrap; width: 100% }\n",
       "    .wandb-col { display: flex; flex-direction: column; flex-basis: 100%; flex: 1; padding: 10px; }\n",
       "    </style>\n",
       "<div class=\"wandb-row\"><div class=\"wandb-col\">\n",
       "<h3>Run history:</h3><br/><table class=\"wandb\"><tr><td>date</td><td>▁</td></tr><tr><td>end_total_asset</td><td>▁</td></tr><tr><td>trade_reward</td><td>▁</td></tr></table><br/></div><div class=\"wandb-col\">\n",
       "<h3>Run summary:</h3><br/><table class=\"wandb\"><tr><td>date</td><td>1375920000000000000</td></tr><tr><td>end_total_asset</td><td>1062899.45814</td></tr><tr><td>trade_reward</td><td>9.03454</td></tr></table>\n",
       "</div></div>\n",
       "Synced 5 W&B file(s), 0 media file(s), 0 artifact file(s) and 0 other file(s)\n",
       "<br/>Synced <strong style=\"color:#cdcd00\">fresh-haze-358</strong>: <a href=\"https://wandb.ai/kaanb/FundSimulator/runs/2i1un39f\" target=\"_blank\">https://wandb.ai/kaanb/FundSimulator/runs/2i1un39f</a><br/>\n",
       "Find logs at: <code>.\\wandb\\run-20211112_171747-2i1un39f\\logs</code><br/>\n"
      ],
      "text/plain": [
       "<IPython.core.display.HTML object>"
      ]
     },
     "metadata": {},
     "output_type": "display_data"
    },
    {
     "name": "stdout",
     "output_type": "stream",
     "text": [
      "============================================\n",
      "Stocks trading this period is  ['AMD' 'CAT' 'COG' 'CSCO' 'EW' 'EXC' 'GILD' 'GM' 'HIG' 'HPQ' 'INTC' 'KR'\n",
      " 'LLY' 'MDLZ' 'MNST' 'MRK' 'MRO' 'NEE' 'NEM' 'NFLX' 'T' 'TJX' 'TWX' 'WMT'\n",
      " 'WU']\n",
      "======Model training from:  2011-01-01 to  2013-05-09T00:00:00.000000000\n",
      "======Recurrent PPO Training for a population of 1========\n",
      "Training time  alameda-v9.1 :  4.8544598579406735  minutes\n",
      "Best params,  {'ent_coef': 0.005}\n",
      "======Recurrent PPO Validation from:  2013-05-09T00:00:00.000000000 to  2013-08-08T00:00:00.000000000\n",
      "-----------------\n",
      "Total Reward:  -350.1385256499052\n",
      "Total Trades:  900\n",
      "Mean Reward: -350.1385256499052\n",
      "STD reward: 0.0\n",
      "-----------------\n",
      "Total reward at validation for Reccurent PPO -350.1385256499052\n",
      "Sharpe Ratio:  0\n",
      "======Trading from:  2013-08-08T00:00:00.000000000 to  2013-11-06T00:00:00.000000000 Model is :  Rec_PPO\n",
      "Saving to  results/account_value_trade_main_alameda-v9.1.csv\n",
      "previous_total_asset:1062899.4581436396\n",
      "end_total_asset:1098738.0118334661\n",
      "total_asset_change:35838.55368982651\n",
      "Total cash is: 3.481708801778577$ and total holdings in stocks are 1098734.5301246643$\n",
      "Buy & Hold strategy with previous total asset:  1074976.29466309\n",
      "Total Cost:  1437.850418697833\n",
      "Total trades:  585\n",
      "Total days in turbulance:  0\n",
      "Sharpe:  0.11976670237593988\n",
      "=============\n",
      "Total reward for the the window is -10450.260163452942\n",
      "=============\n"
     ]
    },
    {
     "data": {
      "text/html": [
       "\n",
       "                    Syncing run <strong><a href=\"https://wandb.ai/kaanb/FundSimulator/runs/117uwv5d\" target=\"_blank\">revived-capybara-359</a></strong> to <a href=\"https://wandb.ai/kaanb/FundSimulator\" target=\"_blank\">Weights & Biases</a> (<a href=\"https://docs.wandb.com/integrations/jupyter.html\" target=\"_blank\">docs</a>).<br/>\n",
       "\n",
       "                "
      ],
      "text/plain": [
       "<IPython.core.display.HTML object>"
      ]
     },
     "metadata": {},
     "output_type": "display_data"
    },
    {
     "data": {
      "text/html": [
       "<br/>Waiting for W&B process to finish, PID 19844... <strong style=\"color:green\">(success).</strong>"
      ],
      "text/plain": [
       "<IPython.core.display.HTML object>"
      ]
     },
     "metadata": {},
     "output_type": "display_data"
    },
    {
     "data": {
      "application/vnd.jupyter.widget-view+json": {
       "model_id": "",
       "version_major": 2,
       "version_minor": 0
      },
      "text/plain": [
       "VBox(children=(Label(value=' 0.00MB of 0.00MB uploaded (0.00MB deduped)\\r'), FloatProgress(value=1.0, max=1.0)…"
      ]
     },
     "metadata": {},
     "output_type": "display_data"
    },
    {
     "data": {
      "text/html": [
       "<style>\n",
       "    table.wandb td:nth-child(1) { padding: 0 10px; text-align: right }\n",
       "    .wandb-row { display: flex; flex-direction: row; flex-wrap: wrap; width: 100% }\n",
       "    .wandb-col { display: flex; flex-direction: column; flex-basis: 100%; flex: 1; padding: 10px; }\n",
       "    </style>\n",
       "<div class=\"wandb-row\"><div class=\"wandb-col\">\n",
       "<h3>Run history:</h3><br/><table class=\"wandb\"><tr><td>date</td><td>▁</td></tr><tr><td>end_total_asset</td><td>▁</td></tr><tr><td>trade_reward</td><td>▁</td></tr></table><br/></div><div class=\"wandb-col\">\n",
       "<h3>Run summary:</h3><br/><table class=\"wandb\"><tr><td>date</td><td>1383696000000000000</td></tr><tr><td>end_total_asset</td><td>1098738.01183</td></tr><tr><td>trade_reward</td><td>4.5313</td></tr></table>\n",
       "</div></div>\n",
       "Synced 5 W&B file(s), 0 media file(s), 0 artifact file(s) and 0 other file(s)\n",
       "<br/>Synced <strong style=\"color:#cdcd00\">revived-capybara-359</strong>: <a href=\"https://wandb.ai/kaanb/FundSimulator/runs/117uwv5d\" target=\"_blank\">https://wandb.ai/kaanb/FundSimulator/runs/117uwv5d</a><br/>\n",
       "Find logs at: <code>.\\wandb\\run-20211112_172251-117uwv5d\\logs</code><br/>\n"
      ],
      "text/plain": [
       "<IPython.core.display.HTML object>"
      ]
     },
     "metadata": {},
     "output_type": "display_data"
    },
    {
     "name": "stdout",
     "output_type": "stream",
     "text": [
      "============================================\n",
      "Stocks trading this period is  ['AAPL' 'AIV' 'ATVI' 'BAX' 'C' 'CAT' 'CSCO' 'CTSH' 'DHI' 'EW' 'EXC' 'F'\n",
      " 'FB' 'FCX' 'HD' 'JNPR' 'LEN' 'MA' 'NEM' 'PEP' 'PM' 'T' 'TSLA' 'UAA' 'UNH']\n",
      "======Model training from:  2011-01-01 to  2013-08-08T00:00:00.000000000\n",
      "======Recurrent PPO Training for a population of 1========\n",
      "Training time  alameda-v9.1 :  4.836045253276825  minutes\n",
      "Best params,  {'ent_coef': 0.005}\n",
      "======Recurrent PPO Validation from:  2013-08-08T00:00:00.000000000 to  2013-11-06T00:00:00.000000000\n",
      "-----------------\n",
      "Total Reward:  214.9233240187168\n",
      "Total Trades:  1010\n",
      "Mean Reward: 214.9233240187168\n",
      "STD reward: 0.0\n",
      "-----------------\n",
      "Total reward at validation for Reccurent PPO 214.9233240187168\n",
      "Sharpe Ratio:  0\n",
      "======Trading from:  2013-11-06T00:00:00.000000000 to  2014-02-10T00:00:00.000000000 Model is :  Rec_PPO\n",
      "==============================\n",
      "Previously traded stocks are ['AAPL' 'AIV' 'ATVI' 'BAX' 'C' 'CAT' 'CSCO' 'CTSH' 'DHI' 'EW' 'EXC' 'F'\n",
      " 'FB' 'FCX' 'HD' 'JNPR' 'LEN' 'MA' 'NEM' 'PEP' 'PM' 'T' 'TSLA' 'UAA' 'UNH']\n",
      "====Closing position changing stocks at day 2013-12-31 00:00:00====\n",
      "New stocks are ['AAPL' 'AIV' 'ATVI' 'BAX' 'C' 'CAT' 'CSCO' 'CTSH' 'DHI' 'EW' 'EXC' 'F'\n",
      " 'FB' 'FCX' 'HD' 'JNPR' 'LEN' 'MA' 'NEM' 'PEP' 'PM' 'T' 'TSLA' 'UAA' 'UNH']\n",
      "Current dollar is 1527362.9598127943\n",
      "==============================\n",
      "Saving to  results/account_value_trade_main_alameda-v9.1.csv\n",
      "previous_total_asset:1098738.0118334661\n",
      "end_total_asset:1539328.7743599503\n",
      "total_asset_change:440590.7625264842\n",
      "Total cash is: 610695.0547249407$ and total holdings in stocks are 928633.7196350096$\n",
      "Buy & Hold strategy with previous total asset:  1138919.6184517958\n",
      "Total Cost:  3587.2727215559466\n",
      "Total trades:  744\n",
      "Total days in turbulance:  0\n",
      "Sharpe:  0.30506681504882255\n",
      "=============\n",
      "Total reward for the the window is -12731.567443653475\n",
      "=============\n"
     ]
    },
    {
     "data": {
      "text/html": [
       "\n",
       "                    Syncing run <strong><a href=\"https://wandb.ai/kaanb/FundSimulator/runs/r8vpcn8l\" target=\"_blank\">giddy-sea-360</a></strong> to <a href=\"https://wandb.ai/kaanb/FundSimulator\" target=\"_blank\">Weights & Biases</a> (<a href=\"https://docs.wandb.com/integrations/jupyter.html\" target=\"_blank\">docs</a>).<br/>\n",
       "\n",
       "                "
      ],
      "text/plain": [
       "<IPython.core.display.HTML object>"
      ]
     },
     "metadata": {},
     "output_type": "display_data"
    },
    {
     "data": {
      "text/html": [
       "<br/>Waiting for W&B process to finish, PID 13452... <strong style=\"color:green\">(success).</strong>"
      ],
      "text/plain": [
       "<IPython.core.display.HTML object>"
      ]
     },
     "metadata": {},
     "output_type": "display_data"
    },
    {
     "data": {
      "application/vnd.jupyter.widget-view+json": {
       "model_id": "",
       "version_major": 2,
       "version_minor": 0
      },
      "text/plain": [
       "VBox(children=(Label(value=' 0.00MB of 0.00MB uploaded (0.00MB deduped)\\r'), FloatProgress(value=1.0, max=1.0)…"
      ]
     },
     "metadata": {},
     "output_type": "display_data"
    },
    {
     "data": {
      "text/html": [
       "<style>\n",
       "    table.wandb td:nth-child(1) { padding: 0 10px; text-align: right }\n",
       "    .wandb-row { display: flex; flex-direction: row; flex-wrap: wrap; width: 100% }\n",
       "    .wandb-col { display: flex; flex-direction: column; flex-basis: 100%; flex: 1; padding: 10px; }\n",
       "    </style>\n",
       "<div class=\"wandb-row\"><div class=\"wandb-col\">\n",
       "<h3>Run history:</h3><br/><table class=\"wandb\"><tr><td>date</td><td>▁</td></tr><tr><td>end_total_asset</td><td>▁</td></tr><tr><td>trade_reward</td><td>▁</td></tr></table><br/></div><div class=\"wandb-col\">\n",
       "<h3>Run summary:</h3><br/><table class=\"wandb\"><tr><td>date</td><td>1391990400000000000</td></tr><tr><td>end_total_asset</td><td>1539328.77436</td></tr><tr><td>trade_reward</td><td>-79.69457</td></tr></table>\n",
       "</div></div>\n",
       "Synced 5 W&B file(s), 0 media file(s), 0 artifact file(s) and 0 other file(s)\n",
       "<br/>Synced <strong style=\"color:#cdcd00\">giddy-sea-360</strong>: <a href=\"https://wandb.ai/kaanb/FundSimulator/runs/r8vpcn8l\" target=\"_blank\">https://wandb.ai/kaanb/FundSimulator/runs/r8vpcn8l</a><br/>\n",
       "Find logs at: <code>.\\wandb\\run-20211112_172754-r8vpcn8l\\logs</code><br/>\n"
      ],
      "text/plain": [
       "<IPython.core.display.HTML object>"
      ]
     },
     "metadata": {},
     "output_type": "display_data"
    },
    {
     "name": "stdout",
     "output_type": "stream",
     "text": [
      "============================================\n",
      "Stocks trading this period is  ['AAPL' 'AIV' 'ATVI' 'BAX' 'C' 'CAT' 'CSCO' 'CTSH' 'DHI' 'EW' 'EXC' 'F'\n",
      " 'FB' 'FCX' 'HD' 'JNPR' 'LEN' 'MA' 'NEM' 'PEP' 'PM' 'T' 'TSLA' 'UAA' 'UNH']\n",
      "======Model training from:  2011-01-01 to  2013-11-06T00:00:00.000000000\n",
      "======Recurrent PPO Training for a population of 1========\n",
      "Training time  alameda-v9.1 :  4.796908024946848  minutes\n",
      "Best params,  {'ent_coef': 0.005}\n",
      "======Recurrent PPO Validation from:  2013-11-06T00:00:00.000000000 to  2014-02-10T00:00:00.000000000\n",
      "Closing positions\n",
      "Closing positions\n",
      "Closing positions\n",
      "Closing positions\n",
      "Closing positions\n",
      "Closing positions\n",
      "Closing positions\n",
      "Closing positions\n",
      "Closing positions\n",
      "Closing positions\n",
      "Closing positions\n",
      "-----------------\n",
      "Total Reward:  -2055.183910407126\n",
      "Total Trades:  807\n",
      "Mean Reward: -2055.183910407126\n",
      "STD reward: 0.0\n",
      "-----------------\n",
      "Total reward at validation for Reccurent PPO -2055.183910407126\n",
      "Sharpe Ratio:  0\n",
      "======Trading from:  2014-02-10T00:00:00.000000000 to  2014-05-12T00:00:00.000000000 Model is :  Rec_PPO\n",
      "Saving to  results/account_value_trade_main_alameda-v9.1.csv\n",
      "previous_total_asset:1539328.7743599503\n",
      "end_total_asset:1566817.7265872979\n",
      "total_asset_change:27488.95222734753\n",
      "Total cash is: 0.19312477346470924$ and total holdings in stocks are 1566817.5334625244$\n",
      "Buy & Hold strategy with previous total asset:  1605628.795102471\n",
      "Total Cost:  1934.751208073139\n",
      "Total trades:  639\n",
      "Total days in turbulance:  0\n",
      "Sharpe:  0.062343635517208354\n",
      "=============\n",
      "Total reward for the the window is -13036.20117169572\n",
      "=============\n"
     ]
    },
    {
     "data": {
      "text/html": [
       "\n",
       "                    Syncing run <strong><a href=\"https://wandb.ai/kaanb/FundSimulator/runs/24l53zzr\" target=\"_blank\">stoic-water-361</a></strong> to <a href=\"https://wandb.ai/kaanb/FundSimulator\" target=\"_blank\">Weights & Biases</a> (<a href=\"https://docs.wandb.com/integrations/jupyter.html\" target=\"_blank\">docs</a>).<br/>\n",
       "\n",
       "                "
      ],
      "text/plain": [
       "<IPython.core.display.HTML object>"
      ]
     },
     "metadata": {},
     "output_type": "display_data"
    },
    {
     "data": {
      "text/html": [
       "<br/>Waiting for W&B process to finish, PID 17512... <strong style=\"color:green\">(success).</strong>"
      ],
      "text/plain": [
       "<IPython.core.display.HTML object>"
      ]
     },
     "metadata": {},
     "output_type": "display_data"
    },
    {
     "data": {
      "application/vnd.jupyter.widget-view+json": {
       "model_id": "",
       "version_major": 2,
       "version_minor": 0
      },
      "text/plain": [
       "VBox(children=(Label(value=' 0.00MB of 0.00MB uploaded (0.00MB deduped)\\r'), FloatProgress(value=1.0, max=1.0)…"
      ]
     },
     "metadata": {},
     "output_type": "display_data"
    },
    {
     "data": {
      "text/html": [
       "<style>\n",
       "    table.wandb td:nth-child(1) { padding: 0 10px; text-align: right }\n",
       "    .wandb-row { display: flex; flex-direction: row; flex-wrap: wrap; width: 100% }\n",
       "    .wandb-col { display: flex; flex-direction: column; flex-basis: 100%; flex: 1; padding: 10px; }\n",
       "    </style>\n",
       "<div class=\"wandb-row\"><div class=\"wandb-col\">\n",
       "<h3>Run history:</h3><br/><table class=\"wandb\"><tr><td>date</td><td>▁</td></tr><tr><td>end_total_asset</td><td>▁</td></tr><tr><td>trade_reward</td><td>▁</td></tr></table><br/></div><div class=\"wandb-col\">\n",
       "<h3>Run summary:</h3><br/><table class=\"wandb\"><tr><td>date</td><td>1399852800000000000</td></tr><tr><td>end_total_asset</td><td>1566817.72659</td></tr><tr><td>trade_reward</td><td>-9.17004</td></tr></table>\n",
       "</div></div>\n",
       "Synced 5 W&B file(s), 0 media file(s), 0 artifact file(s) and 0 other file(s)\n",
       "<br/>Synced <strong style=\"color:#cdcd00\">stoic-water-361</strong>: <a href=\"https://wandb.ai/kaanb/FundSimulator/runs/24l53zzr\" target=\"_blank\">https://wandb.ai/kaanb/FundSimulator/runs/24l53zzr</a><br/>\n",
       "Find logs at: <code>.\\wandb\\run-20211112_173255-24l53zzr\\logs</code><br/>\n"
      ],
      "text/plain": [
       "<IPython.core.display.HTML object>"
      ]
     },
     "metadata": {},
     "output_type": "display_data"
    },
    {
     "name": "stdout",
     "output_type": "stream",
     "text": [
      "============================================\n",
      "Stocks trading this period is  ['AAPL' 'AIV' 'ATVI' 'BAX' 'C' 'CAT' 'CSCO' 'CTSH' 'DHI' 'EW' 'EXC' 'F'\n",
      " 'FB' 'FCX' 'HD' 'JNPR' 'LEN' 'MA' 'NEM' 'PEP' 'PM' 'T' 'TSLA' 'UAA' 'UNH']\n",
      "======Model training from:  2011-01-01 to  2014-02-10T00:00:00.000000000\n",
      "======Recurrent PPO Training for a population of 1========\n",
      "Training time  alameda-v9.1 :  4.990158251921335  minutes\n",
      "Best params,  {'ent_coef': 0.005}\n",
      "======Recurrent PPO Validation from:  2014-02-10T00:00:00.000000000 to  2014-05-12T00:00:00.000000000\n",
      "-----------------\n",
      "Total Reward:  -269.17291459441185\n",
      "Total Trades:  809\n",
      "Mean Reward: -269.17291459441185\n",
      "STD reward: 0.0\n",
      "-----------------\n",
      "Total reward at validation for Reccurent PPO -269.17291459441185\n",
      "Sharpe Ratio:  0\n",
      "======Trading from:  2014-05-12T00:00:00.000000000 to  2014-08-11T00:00:00.000000000 Model is :  Rec_PPO\n",
      "Saving to  results/account_value_trade_main_alameda-v9.1.csv\n",
      "previous_total_asset:1566817.7265872979\n",
      "end_total_asset:1705356.297121416\n",
      "total_asset_change:138538.57053411822\n",
      "Total cash is: 0.878418336952155$ and total holdings in stocks are 1705355.4187030792$\n",
      "Buy & Hold strategy with previous total asset:  1650268.1315991995\n",
      "Total Cost:  2375.9255272068995\n",
      "Total trades:  696\n",
      "Total days in turbulance:  0\n",
      "Sharpe:  0.3844912975945673\n",
      "=============\n",
      "Total reward for the the window is -12652.668709933292\n",
      "=============\n"
     ]
    },
    {
     "data": {
      "text/html": [
       "\n",
       "                    Syncing run <strong><a href=\"https://wandb.ai/kaanb/FundSimulator/runs/3134mhi9\" target=\"_blank\">dutiful-vortex-362</a></strong> to <a href=\"https://wandb.ai/kaanb/FundSimulator\" target=\"_blank\">Weights & Biases</a> (<a href=\"https://docs.wandb.com/integrations/jupyter.html\" target=\"_blank\">docs</a>).<br/>\n",
       "\n",
       "                "
      ],
      "text/plain": [
       "<IPython.core.display.HTML object>"
      ]
     },
     "metadata": {},
     "output_type": "display_data"
    },
    {
     "data": {
      "text/html": [
       "<br/>Waiting for W&B process to finish, PID 20744... <strong style=\"color:green\">(success).</strong>"
      ],
      "text/plain": [
       "<IPython.core.display.HTML object>"
      ]
     },
     "metadata": {},
     "output_type": "display_data"
    },
    {
     "data": {
      "application/vnd.jupyter.widget-view+json": {
       "model_id": "",
       "version_major": 2,
       "version_minor": 0
      },
      "text/plain": [
       "VBox(children=(Label(value=' 0.00MB of 0.00MB uploaded (0.00MB deduped)\\r'), FloatProgress(value=0.0, max=1.0)…"
      ]
     },
     "metadata": {},
     "output_type": "display_data"
    },
    {
     "data": {
      "text/html": [
       "<style>\n",
       "    table.wandb td:nth-child(1) { padding: 0 10px; text-align: right }\n",
       "    .wandb-row { display: flex; flex-direction: row; flex-wrap: wrap; width: 100% }\n",
       "    .wandb-col { display: flex; flex-direction: column; flex-basis: 100%; flex: 1; padding: 10px; }\n",
       "    </style>\n",
       "<div class=\"wandb-row\"><div class=\"wandb-col\">\n",
       "<h3>Run history:</h3><br/><table class=\"wandb\"><tr><td>date</td><td>▁</td></tr><tr><td>end_total_asset</td><td>▁</td></tr><tr><td>trade_reward</td><td>▁</td></tr></table><br/></div><div class=\"wandb-col\">\n",
       "<h3>Run summary:</h3><br/><table class=\"wandb\"><tr><td>date</td><td>1407715200000000000</td></tr><tr><td>end_total_asset</td><td>1705356.29712</td></tr><tr><td>trade_reward</td><td>9.61609</td></tr></table>\n",
       "</div></div>\n",
       "Synced 5 W&B file(s), 0 media file(s), 0 artifact file(s) and 0 other file(s)\n",
       "<br/>Synced <strong style=\"color:#cdcd00\">dutiful-vortex-362</strong>: <a href=\"https://wandb.ai/kaanb/FundSimulator/runs/3134mhi9\" target=\"_blank\">https://wandb.ai/kaanb/FundSimulator/runs/3134mhi9</a><br/>\n",
       "Find logs at: <code>.\\wandb\\run-20211112_173808-3134mhi9\\logs</code><br/>\n"
      ],
      "text/plain": [
       "<IPython.core.display.HTML object>"
      ]
     },
     "metadata": {},
     "output_type": "display_data"
    },
    {
     "name": "stdout",
     "output_type": "stream",
     "text": [
      "============================================\n",
      "Stocks trading this period is  ['AAPL' 'AIV' 'ATVI' 'BAX' 'C' 'CAT' 'CSCO' 'CTSH' 'DHI' 'EW' 'EXC' 'F'\n",
      " 'FB' 'FCX' 'HD' 'JNPR' 'LEN' 'MA' 'NEM' 'PEP' 'PM' 'T' 'TSLA' 'UAA' 'UNH']\n",
      "======Model training from:  2011-01-01 to  2014-05-12T00:00:00.000000000\n",
      "======Recurrent PPO Training for a population of 1========\n",
      "Training time  alameda-v9.1 :  4.977091892560323  minutes\n",
      "Best params,  {'ent_coef': 0.005}\n",
      "======Recurrent PPO Validation from:  2014-05-12T00:00:00.000000000 to  2014-08-11T00:00:00.000000000\n",
      "-----------------\n",
      "Total Reward:  -73.0325758755207\n",
      "Total Trades:  827\n",
      "Mean Reward: -73.0325758755207\n",
      "STD reward: 0.0\n",
      "-----------------\n",
      "Total reward at validation for Reccurent PPO -73.0325758755207\n",
      "Sharpe Ratio:  0\n",
      "======Trading from:  2014-08-11T00:00:00.000000000 to  2014-11-07T00:00:00.000000000 Model is :  Rec_PPO\n",
      "Saving to  results/account_value_trade_main_alameda-v9.1.csv\n",
      "previous_total_asset:1705356.297121416\n",
      "end_total_asset:1668663.7620708654\n",
      "total_asset_change:-36692.53505055071\n",
      "Total cash is: 1542266.883113117$ and total holdings in stocks are 126396.87895774841$\n",
      "Buy & Hold strategy with previous total asset:  1770622.0926491672\n",
      "Total Cost:  2010.2132175047389\n",
      "Total trades:  591\n",
      "Total days in turbulance:  125\n",
      "Sharpe:  -0.0841580142745919\n",
      "=============\n",
      "Total reward for the the window is -12631.676197580528\n",
      "=============\n"
     ]
    },
    {
     "data": {
      "text/html": [
       "\n",
       "                    Syncing run <strong><a href=\"https://wandb.ai/kaanb/FundSimulator/runs/d38qsqvf\" target=\"_blank\">dandy-darkness-363</a></strong> to <a href=\"https://wandb.ai/kaanb/FundSimulator\" target=\"_blank\">Weights & Biases</a> (<a href=\"https://docs.wandb.com/integrations/jupyter.html\" target=\"_blank\">docs</a>).<br/>\n",
       "\n",
       "                "
      ],
      "text/plain": [
       "<IPython.core.display.HTML object>"
      ]
     },
     "metadata": {},
     "output_type": "display_data"
    },
    {
     "data": {
      "text/html": [
       "<br/>Waiting for W&B process to finish, PID 20052... <strong style=\"color:green\">(success).</strong>"
      ],
      "text/plain": [
       "<IPython.core.display.HTML object>"
      ]
     },
     "metadata": {},
     "output_type": "display_data"
    },
    {
     "data": {
      "application/vnd.jupyter.widget-view+json": {
       "model_id": "",
       "version_major": 2,
       "version_minor": 0
      },
      "text/plain": [
       "VBox(children=(Label(value=' 0.00MB of 0.00MB uploaded (0.00MB deduped)\\r'), FloatProgress(value=1.0, max=1.0)…"
      ]
     },
     "metadata": {},
     "output_type": "display_data"
    },
    {
     "data": {
      "text/html": [
       "<style>\n",
       "    table.wandb td:nth-child(1) { padding: 0 10px; text-align: right }\n",
       "    .wandb-row { display: flex; flex-direction: row; flex-wrap: wrap; width: 100% }\n",
       "    .wandb-col { display: flex; flex-direction: column; flex-basis: 100%; flex: 1; padding: 10px; }\n",
       "    </style>\n",
       "<div class=\"wandb-row\"><div class=\"wandb-col\">\n",
       "<h3>Run history:</h3><br/><table class=\"wandb\"><tr><td>date</td><td>▁</td></tr><tr><td>end_total_asset</td><td>▁</td></tr><tr><td>trade_reward</td><td>▁</td></tr></table><br/></div><div class=\"wandb-col\">\n",
       "<h3>Run summary:</h3><br/><table class=\"wandb\"><tr><td>date</td><td>1415318400000000000</td></tr><tr><td>end_total_asset</td><td>1668663.76207</td></tr><tr><td>trade_reward</td><td>-20.58933</td></tr></table>\n",
       "</div></div>\n",
       "Synced 5 W&B file(s), 0 media file(s), 0 artifact file(s) and 0 other file(s)\n",
       "<br/>Synced <strong style=\"color:#cdcd00\">dandy-darkness-363</strong>: <a href=\"https://wandb.ai/kaanb/FundSimulator/runs/d38qsqvf\" target=\"_blank\">https://wandb.ai/kaanb/FundSimulator/runs/d38qsqvf</a><br/>\n",
       "Find logs at: <code>.\\wandb\\run-20211112_174320-d38qsqvf\\logs</code><br/>\n"
      ],
      "text/plain": [
       "<IPython.core.display.HTML object>"
      ]
     },
     "metadata": {},
     "output_type": "display_data"
    },
    {
     "name": "stdout",
     "output_type": "stream",
     "text": [
      "============================================\n",
      "Stocks trading this period is  ['AIG' 'AMD' 'BAX' 'COG' 'EXC' 'FB' 'FCX' 'GILD' 'GM' 'HAL' 'HD' 'INTC'\n",
      " 'JNPR' 'KEY' 'LOW' 'NEM' 'NFLX' 'NKE' 'PFE' 'TGT' 'TPR' 'UAA' 'WBA' 'WMB'\n",
      " 'WMT']\n",
      "======Model training from:  2011-01-01 to  2014-08-11T00:00:00.000000000\n",
      "======Recurrent PPO Training for a population of 1========\n",
      "Training time  alameda-v9.1 :  4.989830656846364  minutes\n",
      "Best params,  {'ent_coef': 0.005}\n",
      "======Recurrent PPO Validation from:  2014-08-11T00:00:00.000000000 to  2014-11-07T00:00:00.000000000\n",
      "-----------------\n",
      "Total Reward:  -177.38684077560902\n",
      "Total Trades:  816\n",
      "Mean Reward: -177.38684077560902\n",
      "STD reward: 0.0\n",
      "-----------------\n",
      "Total reward at validation for Reccurent PPO -177.38684077560902\n",
      "Sharpe Ratio:  0\n",
      "======Trading from:  2014-11-07T00:00:00.000000000 to  2015-02-11T00:00:00.000000000 Model is :  Rec_PPO\n",
      "==============================\n",
      "Previously traded stocks are ['AIG' 'AMD' 'BAX' 'COG' 'EXC' 'FB' 'FCX' 'GILD' 'GM' 'HAL' 'HD' 'INTC'\n",
      " 'JNPR' 'KEY' 'LOW' 'NEM' 'NFLX' 'NKE' 'PFE' 'TGT' 'TPR' 'UAA' 'WBA' 'WMB'\n",
      " 'WMT']\n",
      "====Closing position changing stocks at day 2014-12-31 00:00:00====\n",
      "New stocks are ['AIG' 'AMD' 'BAX' 'COG' 'EXC' 'FB' 'FCX' 'GILD' 'GM' 'HAL' 'HD' 'INTC'\n",
      " 'JNPR' 'KEY' 'LOW' 'NEM' 'NFLX' 'NKE' 'PFE' 'TGT' 'TPR' 'UAA' 'WBA' 'WMB'\n",
      " 'WMT']\n",
      "Current dollar is 1401901.9218779264\n",
      "==============================\n",
      "Saving to  results/account_value_trade_main_alameda-v9.1.csv\n",
      "previous_total_asset:1668663.7620708654\n",
      "end_total_asset:1427171.506463737\n",
      "total_asset_change:-241492.25560712838\n",
      "Total cash is: 494736.587487907$ and total holdings in stocks are 932434.9189758301$\n",
      "Buy & Hold strategy with previous total asset:  1721205.3359832277\n",
      "Total Cost:  4707.499661922454\n",
      "Total trades:  882\n",
      "Total days in turbulance:  0\n",
      "Sharpe:  -0.21394574232912358\n",
      "=============\n",
      "Total reward for the the window is -16093.584898024332\n",
      "=============\n"
     ]
    },
    {
     "data": {
      "text/html": [
       "\n",
       "                    Syncing run <strong><a href=\"https://wandb.ai/kaanb/FundSimulator/runs/3pwx2941\" target=\"_blank\">giddy-valley-364</a></strong> to <a href=\"https://wandb.ai/kaanb/FundSimulator\" target=\"_blank\">Weights & Biases</a> (<a href=\"https://docs.wandb.com/integrations/jupyter.html\" target=\"_blank\">docs</a>).<br/>\n",
       "\n",
       "                "
      ],
      "text/plain": [
       "<IPython.core.display.HTML object>"
      ]
     },
     "metadata": {},
     "output_type": "display_data"
    },
    {
     "data": {
      "text/html": [
       "<br/>Waiting for W&B process to finish, PID 6072... <strong style=\"color:green\">(success).</strong>"
      ],
      "text/plain": [
       "<IPython.core.display.HTML object>"
      ]
     },
     "metadata": {},
     "output_type": "display_data"
    },
    {
     "data": {
      "application/vnd.jupyter.widget-view+json": {
       "model_id": "",
       "version_major": 2,
       "version_minor": 0
      },
      "text/plain": [
       "VBox(children=(Label(value=' 0.00MB of 0.00MB uploaded (0.00MB deduped)\\r'), FloatProgress(value=1.0, max=1.0)…"
      ]
     },
     "metadata": {},
     "output_type": "display_data"
    },
    {
     "data": {
      "text/html": [
       "<style>\n",
       "    table.wandb td:nth-child(1) { padding: 0 10px; text-align: right }\n",
       "    .wandb-row { display: flex; flex-direction: row; flex-wrap: wrap; width: 100% }\n",
       "    .wandb-col { display: flex; flex-direction: column; flex-basis: 100%; flex: 1; padding: 10px; }\n",
       "    </style>\n",
       "<div class=\"wandb-row\"><div class=\"wandb-col\">\n",
       "<h3>Run history:</h3><br/><table class=\"wandb\"><tr><td>date</td><td>▁</td></tr><tr><td>end_total_asset</td><td>▁</td></tr><tr><td>trade_reward</td><td>▁</td></tr></table><br/></div><div class=\"wandb-col\">\n",
       "<h3>Run summary:</h3><br/><table class=\"wandb\"><tr><td>date</td><td>1423612800000000000</td></tr><tr><td>end_total_asset</td><td>1427171.50646</td></tr><tr><td>trade_reward</td><td>-127.32581</td></tr></table>\n",
       "</div></div>\n",
       "Synced 5 W&B file(s), 0 media file(s), 0 artifact file(s) and 0 other file(s)\n",
       "<br/>Synced <strong style=\"color:#cdcd00\">giddy-valley-364</strong>: <a href=\"https://wandb.ai/kaanb/FundSimulator/runs/3pwx2941\" target=\"_blank\">https://wandb.ai/kaanb/FundSimulator/runs/3pwx2941</a><br/>\n",
       "Find logs at: <code>.\\wandb\\run-20211112_174833-3pwx2941\\logs</code><br/>\n"
      ],
      "text/plain": [
       "<IPython.core.display.HTML object>"
      ]
     },
     "metadata": {},
     "output_type": "display_data"
    },
    {
     "name": "stdout",
     "output_type": "stream",
     "text": [
      "============================================\n",
      "Stocks trading this period is  ['AIG' 'AMD' 'BAX' 'COG' 'EXC' 'FB' 'FCX' 'GILD' 'GM' 'HAL' 'HD' 'INTC'\n",
      " 'JNPR' 'KEY' 'LOW' 'NEM' 'NFLX' 'NKE' 'PFE' 'TGT' 'TPR' 'UAA' 'WBA' 'WMB'\n",
      " 'WMT']\n",
      "======Model training from:  2011-01-01 to  2014-11-07T00:00:00.000000000\n",
      "======Recurrent PPO Training for a population of 1========\n",
      "Training time  alameda-v9.1 :  4.801564145088196  minutes\n",
      "Best params,  {'ent_coef': 0.005}\n",
      "======Recurrent PPO Validation from:  2014-11-07T00:00:00.000000000 to  2015-02-11T00:00:00.000000000\n",
      "Closing positions\n",
      "Closing positions\n",
      "Closing positions\n",
      "Closing positions\n",
      "Closing positions\n",
      "Closing positions\n",
      "Closing positions\n",
      "Closing positions\n",
      "Closing positions\n",
      "Closing positions\n",
      "Closing positions\n",
      "-----------------\n",
      "Total Reward:  30.845427215099335\n",
      "Total Trades:  844\n",
      "Mean Reward: 30.845427215099335\n",
      "STD reward: 0.0\n",
      "-----------------\n",
      "Total reward at validation for Reccurent PPO 30.845427215099335\n",
      "Sharpe Ratio:  0\n",
      "======Trading from:  2015-02-11T00:00:00.000000000 to  2015-05-13T00:00:00.000000000 Model is :  Rec_PPO\n",
      "Saving to  results/account_value_trade_main_alameda-v9.1.csv\n",
      "previous_total_asset:1427171.506463737\n",
      "end_total_asset:1507675.942281084\n",
      "total_asset_change:80504.43581734691\n",
      "Total cash is: 17.19423420891735$ and total holdings in stocks are 1507658.748046875$\n",
      "Buy & Hold strategy with previous total asset:  1507031.0110964626\n",
      "Total Cost:  2433.6696304225925\n",
      "Total trades:  687\n",
      "Total days in turbulance:  0\n",
      "Sharpe:  0.21176888666421445\n",
      "=============\n",
      "Total reward for the the window is -16102.106544270646\n",
      "=============\n"
     ]
    },
    {
     "data": {
      "text/html": [
       "\n",
       "                    Syncing run <strong><a href=\"https://wandb.ai/kaanb/FundSimulator/runs/3uzyvvxf\" target=\"_blank\">devout-monkey-365</a></strong> to <a href=\"https://wandb.ai/kaanb/FundSimulator\" target=\"_blank\">Weights & Biases</a> (<a href=\"https://docs.wandb.com/integrations/jupyter.html\" target=\"_blank\">docs</a>).<br/>\n",
       "\n",
       "                "
      ],
      "text/plain": [
       "<IPython.core.display.HTML object>"
      ]
     },
     "metadata": {},
     "output_type": "display_data"
    },
    {
     "data": {
      "text/html": [
       "<br/>Waiting for W&B process to finish, PID 14644... <strong style=\"color:green\">(success).</strong>"
      ],
      "text/plain": [
       "<IPython.core.display.HTML object>"
      ]
     },
     "metadata": {},
     "output_type": "display_data"
    },
    {
     "data": {
      "application/vnd.jupyter.widget-view+json": {
       "model_id": "",
       "version_major": 2,
       "version_minor": 0
      },
      "text/plain": [
       "VBox(children=(Label(value=' 0.00MB of 0.00MB uploaded (0.00MB deduped)\\r'), FloatProgress(value=1.0, max=1.0)…"
      ]
     },
     "metadata": {},
     "output_type": "display_data"
    },
    {
     "data": {
      "text/html": [
       "<style>\n",
       "    table.wandb td:nth-child(1) { padding: 0 10px; text-align: right }\n",
       "    .wandb-row { display: flex; flex-direction: row; flex-wrap: wrap; width: 100% }\n",
       "    .wandb-col { display: flex; flex-direction: column; flex-basis: 100%; flex: 1; padding: 10px; }\n",
       "    </style>\n",
       "<div class=\"wandb-row\"><div class=\"wandb-col\">\n",
       "<h3>Run history:</h3><br/><table class=\"wandb\"><tr><td>date</td><td>▁</td></tr><tr><td>end_total_asset</td><td>▁</td></tr><tr><td>trade_reward</td><td>▁</td></tr></table><br/></div><div class=\"wandb-col\">\n",
       "<h3>Run summary:</h3><br/><table class=\"wandb\"><tr><td>date</td><td>1431475200000000000</td></tr><tr><td>end_total_asset</td><td>1507675.94228</td></tr><tr><td>trade_reward</td><td>-0.46564</td></tr></table>\n",
       "</div></div>\n",
       "Synced 5 W&B file(s), 0 media file(s), 0 artifact file(s) and 0 other file(s)\n",
       "<br/>Synced <strong style=\"color:#cdcd00\">devout-monkey-365</strong>: <a href=\"https://wandb.ai/kaanb/FundSimulator/runs/3uzyvvxf\" target=\"_blank\">https://wandb.ai/kaanb/FundSimulator/runs/3uzyvvxf</a><br/>\n",
       "Find logs at: <code>.\\wandb\\run-20211112_175333-3uzyvvxf\\logs</code><br/>\n"
      ],
      "text/plain": [
       "<IPython.core.display.HTML object>"
      ]
     },
     "metadata": {},
     "output_type": "display_data"
    },
    {
     "name": "stdout",
     "output_type": "stream",
     "text": [
      "============================================\n",
      "Stocks trading this period is  ['AIG' 'AMD' 'BAX' 'COG' 'EXC' 'FB' 'FCX' 'GILD' 'GM' 'HAL' 'HD' 'INTC'\n",
      " 'JNPR' 'KEY' 'LOW' 'NEM' 'NFLX' 'NKE' 'PFE' 'TGT' 'TPR' 'UAA' 'WBA' 'WMB'\n",
      " 'WMT']\n",
      "======Model training from:  2011-01-01 to  2015-02-11T00:00:00.000000000\n",
      "======Recurrent PPO Training for a population of 1========\n",
      "Training time  alameda-v9.1 :  4.7786566893259685  minutes\n",
      "Best params,  {'ent_coef': 0.005}\n",
      "======Recurrent PPO Validation from:  2015-02-11T00:00:00.000000000 to  2015-05-13T00:00:00.000000000\n",
      "-----------------\n",
      "Total Reward:  -274.43213063664734\n",
      "Total Trades:  753\n",
      "Mean Reward: -274.43213063664734\n",
      "STD reward: 0.0\n",
      "-----------------\n",
      "Total reward at validation for Reccurent PPO -274.43213063664734\n",
      "Sharpe Ratio:  0\n",
      "======Trading from:  2015-05-13T00:00:00.000000000 to  2015-08-12T00:00:00.000000000 Model is :  Rec_PPO\n",
      "Saving to  results/account_value_trade_main_alameda-v9.1.csv\n",
      "previous_total_asset:1507675.942281084\n",
      "end_total_asset:1502794.3814589628\n",
      "total_asset_change:-4881.5608221211005\n",
      "Total cash is: 0.13132366023879882$ and total holdings in stocks are 1502794.2501353025$\n",
      "Buy & Hold strategy with previous total asset:  1483808.7306257985\n",
      "Total Cost:  1930.8768814722305\n",
      "Total trades:  556\n",
      "Total days in turbulance:  0\n",
      "Sharpe:  -0.0076446001894264325\n",
      "=============\n",
      "Total reward for the the window is -16287.56413919432\n",
      "=============\n"
     ]
    },
    {
     "data": {
      "text/html": [
       "\n",
       "                    Syncing run <strong><a href=\"https://wandb.ai/kaanb/FundSimulator/runs/37a1v7t2\" target=\"_blank\">ethereal-pine-366</a></strong> to <a href=\"https://wandb.ai/kaanb/FundSimulator\" target=\"_blank\">Weights & Biases</a> (<a href=\"https://docs.wandb.com/integrations/jupyter.html\" target=\"_blank\">docs</a>).<br/>\n",
       "\n",
       "                "
      ],
      "text/plain": [
       "<IPython.core.display.HTML object>"
      ]
     },
     "metadata": {},
     "output_type": "display_data"
    },
    {
     "data": {
      "text/html": [
       "<br/>Waiting for W&B process to finish, PID 21360... <strong style=\"color:green\">(success).</strong>"
      ],
      "text/plain": [
       "<IPython.core.display.HTML object>"
      ]
     },
     "metadata": {},
     "output_type": "display_data"
    },
    {
     "data": {
      "application/vnd.jupyter.widget-view+json": {
       "model_id": "",
       "version_major": 2,
       "version_minor": 0
      },
      "text/plain": [
       "VBox(children=(Label(value=' 0.00MB of 0.00MB uploaded (0.00MB deduped)\\r'), FloatProgress(value=1.0, max=1.0)…"
      ]
     },
     "metadata": {},
     "output_type": "display_data"
    },
    {
     "data": {
      "text/html": [
       "<style>\n",
       "    table.wandb td:nth-child(1) { padding: 0 10px; text-align: right }\n",
       "    .wandb-row { display: flex; flex-direction: row; flex-wrap: wrap; width: 100% }\n",
       "    .wandb-col { display: flex; flex-direction: column; flex-basis: 100%; flex: 1; padding: 10px; }\n",
       "    </style>\n",
       "<div class=\"wandb-row\"><div class=\"wandb-col\">\n",
       "<h3>Run history:</h3><br/><table class=\"wandb\"><tr><td>date</td><td>▁</td></tr><tr><td>end_total_asset</td><td>▁</td></tr><tr><td>trade_reward</td><td>▁</td></tr></table><br/></div><div class=\"wandb-col\">\n",
       "<h3>Run summary:</h3><br/><table class=\"wandb\"><tr><td>date</td><td>1439337600000000000</td></tr><tr><td>end_total_asset</td><td>1502794.38146</td></tr><tr><td>trade_reward</td><td>3.74511</td></tr></table>\n",
       "</div></div>\n",
       "Synced 5 W&B file(s), 0 media file(s), 0 artifact file(s) and 0 other file(s)\n",
       "<br/>Synced <strong style=\"color:#cdcd00\">ethereal-pine-366</strong>: <a href=\"https://wandb.ai/kaanb/FundSimulator/runs/37a1v7t2\" target=\"_blank\">https://wandb.ai/kaanb/FundSimulator/runs/37a1v7t2</a><br/>\n",
       "Find logs at: <code>.\\wandb\\run-20211112_175833-37a1v7t2\\logs</code><br/>\n"
      ],
      "text/plain": [
       "<IPython.core.display.HTML object>"
      ]
     },
     "metadata": {},
     "output_type": "display_data"
    },
    {
     "name": "stdout",
     "output_type": "stream",
     "text": [
      "============================================\n",
      "Stocks trading this period is  ['AIG' 'AMD' 'BAX' 'COG' 'EXC' 'FB' 'FCX' 'GILD' 'GM' 'HAL' 'HD' 'INTC'\n",
      " 'JNPR' 'KEY' 'LOW' 'NEM' 'NFLX' 'NKE' 'PFE' 'TGT' 'TPR' 'UAA' 'WBA' 'WMB'\n",
      " 'WMT']\n",
      "======Model training from:  2011-01-01 to  2015-05-13T00:00:00.000000000\n",
      "======Recurrent PPO Training for a population of 1========\n",
      "Training time  alameda-v9.1 :  4.820507045586904  minutes\n",
      "Best params,  {'ent_coef': 0.005}\n",
      "======Recurrent PPO Validation from:  2015-05-13T00:00:00.000000000 to  2015-08-12T00:00:00.000000000\n",
      "-----------------\n",
      "Total Reward:  79.99650172982365\n",
      "Total Trades:  894\n",
      "Mean Reward: 79.99650172982365\n",
      "STD reward: 0.0\n",
      "-----------------\n",
      "Total reward at validation for Reccurent PPO 79.99650172982365\n",
      "Sharpe Ratio:  0\n",
      "======Trading from:  2015-08-12T00:00:00.000000000 to  2015-11-10T00:00:00.000000000 Model is :  Rec_PPO\n",
      "Saving to  results/account_value_trade_main_alameda-v9.1.csv\n",
      "previous_total_asset:1502794.3814589628\n",
      "end_total_asset:1463305.9724019205\n",
      "total_asset_change:-39488.40905704233\n",
      "Total cash is: 852502.5366948282$ and total holdings in stocks are 610803.4357070923$\n",
      "Buy & Hold strategy with previous total asset:  1472772.9979598504\n",
      "Total Cost:  2989.453156634094\n",
      "Total trades:  672\n",
      "Total days in turbulance:  75\n",
      "Sharpe:  -0.05306900952163698\n",
      "=============\n",
      "Total reward for the the window is -16166.230900793802\n",
      "=============\n"
     ]
    },
    {
     "data": {
      "text/html": [
       "\n",
       "                    Syncing run <strong><a href=\"https://wandb.ai/kaanb/FundSimulator/runs/17twjnzm\" target=\"_blank\">restful-snowball-367</a></strong> to <a href=\"https://wandb.ai/kaanb/FundSimulator\" target=\"_blank\">Weights & Biases</a> (<a href=\"https://docs.wandb.com/integrations/jupyter.html\" target=\"_blank\">docs</a>).<br/>\n",
       "\n",
       "                "
      ],
      "text/plain": [
       "<IPython.core.display.HTML object>"
      ]
     },
     "metadata": {},
     "output_type": "display_data"
    },
    {
     "data": {
      "text/html": [
       "<br/>Waiting for W&B process to finish, PID 12108... <strong style=\"color:green\">(success).</strong>"
      ],
      "text/plain": [
       "<IPython.core.display.HTML object>"
      ]
     },
     "metadata": {},
     "output_type": "display_data"
    },
    {
     "data": {
      "application/vnd.jupyter.widget-view+json": {
       "model_id": "",
       "version_major": 2,
       "version_minor": 0
      },
      "text/plain": [
       "VBox(children=(Label(value=' 0.00MB of 0.00MB uploaded (0.00MB deduped)\\r'), FloatProgress(value=1.0, max=1.0)…"
      ]
     },
     "metadata": {},
     "output_type": "display_data"
    },
    {
     "data": {
      "text/html": [
       "<style>\n",
       "    table.wandb td:nth-child(1) { padding: 0 10px; text-align: right }\n",
       "    .wandb-row { display: flex; flex-direction: row; flex-wrap: wrap; width: 100% }\n",
       "    .wandb-col { display: flex; flex-direction: column; flex-basis: 100%; flex: 1; padding: 10px; }\n",
       "    </style>\n",
       "<div class=\"wandb-row\"><div class=\"wandb-col\">\n",
       "<h3>Run history:</h3><br/><table class=\"wandb\"><tr><td>date</td><td>▁</td></tr><tr><td>end_total_asset</td><td>▁</td></tr><tr><td>trade_reward</td><td>▁</td></tr></table><br/></div><div class=\"wandb-col\">\n",
       "<h3>Run summary:</h3><br/><table class=\"wandb\"><tr><td>date</td><td>1447113600000000000</td></tr><tr><td>end_total_asset</td><td>1463305.9724</td></tr><tr><td>trade_reward</td><td>-0.93852</td></tr></table>\n",
       "</div></div>\n",
       "Synced 5 W&B file(s), 0 media file(s), 0 artifact file(s) and 0 other file(s)\n",
       "<br/>Synced <strong style=\"color:#cdcd00\">restful-snowball-367</strong>: <a href=\"https://wandb.ai/kaanb/FundSimulator/runs/17twjnzm\" target=\"_blank\">https://wandb.ai/kaanb/FundSimulator/runs/17twjnzm</a><br/>\n",
       "Find logs at: <code>.\\wandb\\run-20211112_180334-17twjnzm\\logs</code><br/>\n"
      ],
      "text/plain": [
       "<IPython.core.display.HTML object>"
      ]
     },
     "metadata": {},
     "output_type": "display_data"
    },
    {
     "name": "stdout",
     "output_type": "stream",
     "text": [
      "============================================\n",
      "Stocks trading this period is  ['AAL' 'ABBV' 'AMAT' 'ATVI' 'FB' 'FCX' 'HPQ' 'KMI' 'LLY' 'M' 'MDLZ' 'MDT'\n",
      " 'MET' 'MS' 'MU' 'NFLX' 'NKE' 'NRG' 'NVDA' 'SBUX' 'SO' 'SYY' 'UAA' 'UAL'\n",
      " 'YUM']\n",
      "======Model training from:  2011-01-01 to  2015-08-12T00:00:00.000000000\n",
      "======Recurrent PPO Training for a population of 1========\n",
      "Training time  alameda-v9.1 :  4.799590567747752  minutes\n",
      "Best params,  {'ent_coef': 0.005}\n",
      "======Recurrent PPO Validation from:  2015-08-12T00:00:00.000000000 to  2015-11-10T00:00:00.000000000\n",
      "-----------------\n",
      "Total Reward:  299.1032600700855\n",
      "Total Trades:  966\n",
      "Mean Reward: 299.1032600700855\n",
      "STD reward: 0.0\n",
      "-----------------\n",
      "Total reward at validation for Reccurent PPO 299.1032600700855\n",
      "Sharpe Ratio:  0\n",
      "======Trading from:  2015-11-10T00:00:00.000000000 to  2016-02-12T00:00:00.000000000 Model is :  Rec_PPO\n",
      "==============================\n",
      "Previously traded stocks are ['AAL' 'ABBV' 'AMAT' 'ATVI' 'FB' 'FCX' 'HPQ' 'KMI' 'LLY' 'M' 'MDLZ' 'MDT'\n",
      " 'MET' 'MS' 'MU' 'NFLX' 'NKE' 'NRG' 'NVDA' 'SBUX' 'SO' 'SYY' 'UAA' 'UAL'\n",
      " 'YUM']\n",
      "====Closing position changing stocks at day 2015-12-31 00:00:00====\n",
      "New stocks are ['AAL' 'ABBV' 'AMAT' 'ATVI' 'FB' 'FCX' 'HPQ' 'KMI' 'LLY' 'M' 'MDLZ' 'MDT'\n",
      " 'MET' 'MS' 'MU' 'NFLX' 'NKE' 'NRG' 'NVDA' 'SBUX' 'SO' 'SYY' 'UAA' 'UAL'\n",
      " 'YUM']\n",
      "Current dollar is 1274177.0769414152\n",
      "==============================\n",
      "Saving to  results/account_value_trade_main_alameda-v9.1.csv\n",
      "previous_total_asset:1463305.9724019205\n",
      "end_total_asset:1190623.3041495762\n",
      "total_asset_change:-272682.66825234424\n",
      "Total cash is: 65836.00465960121$ and total holdings in stocks are 1124787.299489975$\n",
      "Buy & Hold strategy with previous total asset:  1338614.6907949203\n",
      "Total Cost:  4396.971734876156\n",
      "Total trades:  790\n",
      "Total days in turbulance:  0\n",
      "Sharpe:  -0.2977535538963288\n",
      "=============\n",
      "Total reward for the the window is -26877.811046838295\n",
      "=============\n"
     ]
    },
    {
     "data": {
      "text/html": [
       "\n",
       "                    Syncing run <strong><a href=\"https://wandb.ai/kaanb/FundSimulator/runs/3hyo6ks8\" target=\"_blank\">olive-sunset-368</a></strong> to <a href=\"https://wandb.ai/kaanb/FundSimulator\" target=\"_blank\">Weights & Biases</a> (<a href=\"https://docs.wandb.com/integrations/jupyter.html\" target=\"_blank\">docs</a>).<br/>\n",
       "\n",
       "                "
      ],
      "text/plain": [
       "<IPython.core.display.HTML object>"
      ]
     },
     "metadata": {},
     "output_type": "display_data"
    },
    {
     "data": {
      "text/html": [
       "<br/>Waiting for W&B process to finish, PID 2052... <strong style=\"color:green\">(success).</strong>"
      ],
      "text/plain": [
       "<IPython.core.display.HTML object>"
      ]
     },
     "metadata": {},
     "output_type": "display_data"
    },
    {
     "data": {
      "application/vnd.jupyter.widget-view+json": {
       "model_id": "",
       "version_major": 2,
       "version_minor": 0
      },
      "text/plain": [
       "VBox(children=(Label(value=' 0.00MB of 0.00MB uploaded (0.00MB deduped)\\r'), FloatProgress(value=1.0, max=1.0)…"
      ]
     },
     "metadata": {},
     "output_type": "display_data"
    },
    {
     "data": {
      "text/html": [
       "<style>\n",
       "    table.wandb td:nth-child(1) { padding: 0 10px; text-align: right }\n",
       "    .wandb-row { display: flex; flex-direction: row; flex-wrap: wrap; width: 100% }\n",
       "    .wandb-col { display: flex; flex-direction: column; flex-basis: 100%; flex: 1; padding: 10px; }\n",
       "    </style>\n",
       "<div class=\"wandb-row\"><div class=\"wandb-col\">\n",
       "<h3>Run history:</h3><br/><table class=\"wandb\"><tr><td>date</td><td>▁</td></tr><tr><td>end_total_asset</td><td>▁</td></tr><tr><td>trade_reward</td><td>▁</td></tr></table><br/></div><div class=\"wandb-col\">\n",
       "<h3>Run summary:</h3><br/><table class=\"wandb\"><tr><td>date</td><td>1455235200000000000</td></tr><tr><td>end_total_asset</td><td>1190623.30415</td></tr><tr><td>trade_reward</td><td>-330.14685</td></tr></table>\n",
       "</div></div>\n",
       "Synced 5 W&B file(s), 0 media file(s), 0 artifact file(s) and 0 other file(s)\n",
       "<br/>Synced <strong style=\"color:#cdcd00\">olive-sunset-368</strong>: <a href=\"https://wandb.ai/kaanb/FundSimulator/runs/3hyo6ks8\" target=\"_blank\">https://wandb.ai/kaanb/FundSimulator/runs/3hyo6ks8</a><br/>\n",
       "Find logs at: <code>.\\wandb\\run-20211112_180835-3hyo6ks8\\logs</code><br/>\n"
      ],
      "text/plain": [
       "<IPython.core.display.HTML object>"
      ]
     },
     "metadata": {},
     "output_type": "display_data"
    },
    {
     "name": "stdout",
     "output_type": "stream",
     "text": [
      "============================================\n",
      "Stocks trading this period is  ['AAL' 'ABBV' 'AMAT' 'ATVI' 'FB' 'FCX' 'HPQ' 'KMI' 'LLY' 'M' 'MDLZ' 'MDT'\n",
      " 'MET' 'MS' 'MU' 'NFLX' 'NKE' 'NRG' 'NVDA' 'SBUX' 'SO' 'SYY' 'UAA' 'UAL'\n",
      " 'YUM']\n",
      "======Model training from:  2011-01-01 to  2015-11-10T00:00:00.000000000\n",
      "======Recurrent PPO Training for a population of 1========\n",
      "Training time  alameda-v9.1 :  4.785110914707184  minutes\n",
      "Best params,  {'ent_coef': 0.005}\n",
      "======Recurrent PPO Validation from:  2015-11-10T00:00:00.000000000 to  2016-02-12T00:00:00.000000000\n",
      "Closing positions\n",
      "Closing positions\n",
      "Closing positions\n",
      "Closing positions\n",
      "Closing positions\n",
      "Closing positions\n",
      "Closing positions\n",
      "Closing positions\n",
      "Closing positions\n",
      "Closing positions\n",
      "Closing positions\n",
      "-----------------\n",
      "Total Reward:  -7878.404488876462\n",
      "Total Trades:  904\n",
      "Mean Reward: -7878.404488876462\n",
      "STD reward: 0.0\n",
      "-----------------\n",
      "Total reward at validation for Reccurent PPO -7878.404488876462\n",
      "Sharpe Ratio:  0\n",
      "======Trading from:  2016-02-12T00:00:00.000000000 to  2016-05-13T00:00:00.000000000 Model is :  Rec_PPO\n",
      "Saving to  results/account_value_trade_main_alameda-v9.1.csv\n",
      "previous_total_asset:1190623.3041495762\n",
      "end_total_asset:1319108.5515269595\n",
      "total_asset_change:128485.24737738329\n",
      "Total cash is: 6.09103196443445$ and total holdings in stocks are 1319102.4604949951$\n",
      "Buy & Hold strategy with previous total asset:  1382714.091286196\n",
      "Total Cost:  2515.2401495103827\n",
      "Total trades:  696\n",
      "Total days in turbulance:  0\n",
      "Sharpe:  0.31386191703900435\n",
      "=============\n",
      "Total reward for the the window is -27272.605689987075\n",
      "=============\n"
     ]
    },
    {
     "data": {
      "text/html": [
       "\n",
       "                    Syncing run <strong><a href=\"https://wandb.ai/kaanb/FundSimulator/runs/71xkct7j\" target=\"_blank\">hearty-wave-369</a></strong> to <a href=\"https://wandb.ai/kaanb/FundSimulator\" target=\"_blank\">Weights & Biases</a> (<a href=\"https://docs.wandb.com/integrations/jupyter.html\" target=\"_blank\">docs</a>).<br/>\n",
       "\n",
       "                "
      ],
      "text/plain": [
       "<IPython.core.display.HTML object>"
      ]
     },
     "metadata": {},
     "output_type": "display_data"
    },
    {
     "data": {
      "text/html": [
       "<br/>Waiting for W&B process to finish, PID 12328... <strong style=\"color:green\">(success).</strong>"
      ],
      "text/plain": [
       "<IPython.core.display.HTML object>"
      ]
     },
     "metadata": {},
     "output_type": "display_data"
    },
    {
     "data": {
      "application/vnd.jupyter.widget-view+json": {
       "model_id": "",
       "version_major": 2,
       "version_minor": 0
      },
      "text/plain": [
       "VBox(children=(Label(value=' 0.00MB of 0.00MB uploaded (0.00MB deduped)\\r'), FloatProgress(value=1.0, max=1.0)…"
      ]
     },
     "metadata": {},
     "output_type": "display_data"
    },
    {
     "data": {
      "text/html": [
       "<style>\n",
       "    table.wandb td:nth-child(1) { padding: 0 10px; text-align: right }\n",
       "    .wandb-row { display: flex; flex-direction: row; flex-wrap: wrap; width: 100% }\n",
       "    .wandb-col { display: flex; flex-direction: column; flex-basis: 100%; flex: 1; padding: 10px; }\n",
       "    </style>\n",
       "<div class=\"wandb-row\"><div class=\"wandb-col\">\n",
       "<h3>Run history:</h3><br/><table class=\"wandb\"><tr><td>date</td><td>▁</td></tr><tr><td>end_total_asset</td><td>▁</td></tr><tr><td>trade_reward</td><td>▁</td></tr></table><br/></div><div class=\"wandb-col\">\n",
       "<h3>Run summary:</h3><br/><table class=\"wandb\"><tr><td>date</td><td>1463097600000000000</td></tr><tr><td>end_total_asset</td><td>1319108.55153</td></tr><tr><td>trade_reward</td><td>-10.20489</td></tr></table>\n",
       "</div></div>\n",
       "Synced 5 W&B file(s), 0 media file(s), 0 artifact file(s) and 0 other file(s)\n",
       "<br/>Synced <strong style=\"color:#cdcd00\">hearty-wave-369</strong>: <a href=\"https://wandb.ai/kaanb/FundSimulator/runs/71xkct7j\" target=\"_blank\">https://wandb.ai/kaanb/FundSimulator/runs/71xkct7j</a><br/>\n",
       "Find logs at: <code>.\\wandb\\run-20211112_181336-71xkct7j\\logs</code><br/>\n"
      ],
      "text/plain": [
       "<IPython.core.display.HTML object>"
      ]
     },
     "metadata": {},
     "output_type": "display_data"
    },
    {
     "name": "stdout",
     "output_type": "stream",
     "text": [
      "============================================\n",
      "Stocks trading this period is  ['AAL' 'ABBV' 'AMAT' 'ATVI' 'FB' 'FCX' 'HPQ' 'KMI' 'LLY' 'M' 'MDLZ' 'MDT'\n",
      " 'MET' 'MS' 'MU' 'NFLX' 'NKE' 'NRG' 'NVDA' 'SBUX' 'SO' 'SYY' 'UAA' 'UAL'\n",
      " 'YUM']\n",
      "======Model training from:  2011-01-01 to  2016-02-12T00:00:00.000000000\n",
      "======Recurrent PPO Training for a population of 1========\n",
      "Training time  alameda-v9.1 :  4.784826767444611  minutes\n",
      "Best params,  {'ent_coef': 0.005}\n",
      "======Recurrent PPO Validation from:  2016-02-12T00:00:00.000000000 to  2016-05-13T00:00:00.000000000\n",
      "-----------------\n",
      "Total Reward:  -1831.2811770439148\n",
      "Total Trades:  1035\n",
      "Mean Reward: -1831.2811770439148\n",
      "STD reward: 0.0\n",
      "-----------------\n",
      "Total reward at validation for Reccurent PPO -1831.2811770439148\n",
      "Sharpe Ratio:  0\n",
      "======Trading from:  2016-05-13T00:00:00.000000000 to  2016-08-12T00:00:00.000000000 Model is :  Rec_PPO\n",
      "Saving to  results/account_value_trade_main_alameda-v9.1.csv\n",
      "previous_total_asset:1319108.5515269595\n",
      "end_total_asset:1448602.1985066377\n",
      "total_asset_change:129493.64697967819\n",
      "Total cash is: 3.3075583422060717$ and total holdings in stocks are 1448598.8909482956$\n",
      "Buy & Hold strategy with previous total asset:  1485136.680330889\n",
      "Total Cost:  1674.434157025335\n",
      "Total trades:  633\n",
      "Total days in turbulance:  0\n",
      "Sharpe:  0.17778003733451261\n",
      "=============\n",
      "Total reward for the the window is -27643.02524408279\n",
      "=============\n"
     ]
    },
    {
     "data": {
      "text/html": [
       "\n",
       "                    Syncing run <strong><a href=\"https://wandb.ai/kaanb/FundSimulator/runs/11uhigej\" target=\"_blank\">worthy-terrain-370</a></strong> to <a href=\"https://wandb.ai/kaanb/FundSimulator\" target=\"_blank\">Weights & Biases</a> (<a href=\"https://docs.wandb.com/integrations/jupyter.html\" target=\"_blank\">docs</a>).<br/>\n",
       "\n",
       "                "
      ],
      "text/plain": [
       "<IPython.core.display.HTML object>"
      ]
     },
     "metadata": {},
     "output_type": "display_data"
    },
    {
     "data": {
      "text/html": [
       "<br/>Waiting for W&B process to finish, PID 14804... <strong style=\"color:green\">(success).</strong>"
      ],
      "text/plain": [
       "<IPython.core.display.HTML object>"
      ]
     },
     "metadata": {},
     "output_type": "display_data"
    },
    {
     "data": {
      "application/vnd.jupyter.widget-view+json": {
       "model_id": "",
       "version_major": 2,
       "version_minor": 0
      },
      "text/plain": [
       "VBox(children=(Label(value=' 0.00MB of 0.00MB uploaded (0.00MB deduped)\\r'), FloatProgress(value=1.0, max=1.0)…"
      ]
     },
     "metadata": {},
     "output_type": "display_data"
    },
    {
     "data": {
      "text/html": [
       "<style>\n",
       "    table.wandb td:nth-child(1) { padding: 0 10px; text-align: right }\n",
       "    .wandb-row { display: flex; flex-direction: row; flex-wrap: wrap; width: 100% }\n",
       "    .wandb-col { display: flex; flex-direction: column; flex-basis: 100%; flex: 1; padding: 10px; }\n",
       "    </style>\n",
       "<div class=\"wandb-row\"><div class=\"wandb-col\">\n",
       "<h3>Run history:</h3><br/><table class=\"wandb\"><tr><td>date</td><td>▁</td></tr><tr><td>end_total_asset</td><td>▁</td></tr><tr><td>trade_reward</td><td>▁</td></tr></table><br/></div><div class=\"wandb-col\">\n",
       "<h3>Run summary:</h3><br/><table class=\"wandb\"><tr><td>date</td><td>1470960000000000000</td></tr><tr><td>end_total_asset</td><td>1448602.19851</td></tr><tr><td>trade_reward</td><td>-11.1306</td></tr></table>\n",
       "</div></div>\n",
       "Synced 5 W&B file(s), 0 media file(s), 0 artifact file(s) and 0 other file(s)\n",
       "<br/>Synced <strong style=\"color:#cdcd00\">worthy-terrain-370</strong>: <a href=\"https://wandb.ai/kaanb/FundSimulator/runs/11uhigej\" target=\"_blank\">https://wandb.ai/kaanb/FundSimulator/runs/11uhigej</a><br/>\n",
       "Find logs at: <code>.\\wandb\\run-20211112_181835-11uhigej\\logs</code><br/>\n"
      ],
      "text/plain": [
       "<IPython.core.display.HTML object>"
      ]
     },
     "metadata": {},
     "output_type": "display_data"
    },
    {
     "name": "stdout",
     "output_type": "stream",
     "text": [
      "============================================\n",
      "Stocks trading this period is  ['AAL' 'ABBV' 'AMAT' 'ATVI' 'FB' 'FCX' 'HPQ' 'KMI' 'LLY' 'M' 'MDLZ' 'MDT'\n",
      " 'MET' 'MS' 'MU' 'NFLX' 'NKE' 'NRG' 'NVDA' 'SBUX' 'SO' 'SYY' 'UAA' 'UAL'\n",
      " 'YUM']\n",
      "======Model training from:  2011-01-01 to  2016-05-13T00:00:00.000000000\n",
      "======Recurrent PPO Training for a population of 1========\n",
      "Training time  alameda-v9.1 :  4.788816873232523  minutes\n",
      "Best params,  {'ent_coef': 0.005}\n",
      "======Recurrent PPO Validation from:  2016-05-13T00:00:00.000000000 to  2016-08-12T00:00:00.000000000\n",
      "-----------------\n",
      "Total Reward:  -511.5073049068451\n",
      "Total Trades:  784\n",
      "Mean Reward: -511.5073049068451\n",
      "STD reward: 0.0\n",
      "-----------------\n",
      "Total reward at validation for Reccurent PPO -511.5073049068451\n",
      "Sharpe Ratio:  0\n",
      "======Trading from:  2016-08-12T00:00:00.000000000 to  2016-11-10T00:00:00.000000000 Model is :  Rec_PPO\n",
      "Saving to  results/account_value_trade_main_alameda-v9.1.csv\n",
      "previous_total_asset:1448602.1985066377\n",
      "end_total_asset:1541582.5078545103\n",
      "total_asset_change:92980.30934787262\n",
      "Total cash is: 1497351.5769539366$ and total holdings in stocks are 44230.93090057373$\n",
      "Buy & Hold strategy with previous total asset:  1522089.7697961708\n",
      "Total Cost:  2069.4669371337886\n",
      "Total trades:  667\n",
      "Total days in turbulance:  50\n",
      "Sharpe:  0.2460656097446542\n",
      "=============\n",
      "Total reward for the the window is -27031.241650904994\n",
      "=============\n"
     ]
    },
    {
     "data": {
      "text/html": [
       "\n",
       "                    Syncing run <strong><a href=\"https://wandb.ai/kaanb/FundSimulator/runs/i5zn0ve7\" target=\"_blank\">zany-capybara-371</a></strong> to <a href=\"https://wandb.ai/kaanb/FundSimulator\" target=\"_blank\">Weights & Biases</a> (<a href=\"https://docs.wandb.com/integrations/jupyter.html\" target=\"_blank\">docs</a>).<br/>\n",
       "\n",
       "                "
      ],
      "text/plain": [
       "<IPython.core.display.HTML object>"
      ]
     },
     "metadata": {},
     "output_type": "display_data"
    },
    {
     "data": {
      "text/html": [
       "<br/>Waiting for W&B process to finish, PID 20808... <strong style=\"color:green\">(success).</strong>"
      ],
      "text/plain": [
       "<IPython.core.display.HTML object>"
      ]
     },
     "metadata": {},
     "output_type": "display_data"
    },
    {
     "data": {
      "application/vnd.jupyter.widget-view+json": {
       "model_id": "",
       "version_major": 2,
       "version_minor": 0
      },
      "text/plain": [
       "VBox(children=(Label(value=' 0.00MB of 0.00MB uploaded (0.00MB deduped)\\r'), FloatProgress(value=1.0, max=1.0)…"
      ]
     },
     "metadata": {},
     "output_type": "display_data"
    },
    {
     "data": {
      "text/html": [
       "<style>\n",
       "    table.wandb td:nth-child(1) { padding: 0 10px; text-align: right }\n",
       "    .wandb-row { display: flex; flex-direction: row; flex-wrap: wrap; width: 100% }\n",
       "    .wandb-col { display: flex; flex-direction: column; flex-basis: 100%; flex: 1; padding: 10px; }\n",
       "    </style>\n",
       "<div class=\"wandb-row\"><div class=\"wandb-col\">\n",
       "<h3>Run history:</h3><br/><table class=\"wandb\"><tr><td>date</td><td>▁</td></tr><tr><td>end_total_asset</td><td>▁</td></tr><tr><td>trade_reward</td><td>▁</td></tr></table><br/></div><div class=\"wandb-col\">\n",
       "<h3>Run summary:</h3><br/><table class=\"wandb\"><tr><td>date</td><td>1478736000000000000</td></tr><tr><td>end_total_asset</td><td>1541582.50785</td></tr><tr><td>trade_reward</td><td>3.80327</td></tr></table>\n",
       "</div></div>\n",
       "Synced 5 W&B file(s), 0 media file(s), 0 artifact file(s) and 0 other file(s)\n",
       "<br/>Synced <strong style=\"color:#cdcd00\">zany-capybara-371</strong>: <a href=\"https://wandb.ai/kaanb/FundSimulator/runs/i5zn0ve7\" target=\"_blank\">https://wandb.ai/kaanb/FundSimulator/runs/i5zn0ve7</a><br/>\n",
       "Find logs at: <code>.\\wandb\\run-20211112_182334-i5zn0ve7\\logs</code><br/>\n"
      ],
      "text/plain": [
       "<IPython.core.display.HTML object>"
      ]
     },
     "metadata": {},
     "output_type": "display_data"
    },
    {
     "name": "stdout",
     "output_type": "stream",
     "text": [
      "============================================\n",
      "Stocks trading this period is  ['AAPL' 'BMY' 'BSX' 'CF' 'CFG' 'COTY' 'CRM' 'CTSH' 'CVS' 'EBAY' 'EW'\n",
      " 'GILD' 'KEY' 'KO' 'KR' 'MDT' 'MU' 'NFLX' 'NKE' 'NVDA' 'QCOM' 'STX' 'TGT'\n",
      " 'WMB' 'WY']\n",
      "======Model training from:  2011-01-01 to  2016-08-12T00:00:00.000000000\n",
      "======Recurrent PPO Training for a population of 1========\n",
      "Training time  alameda-v9.1 :  4.7836235642433165  minutes\n",
      "Best params,  {'ent_coef': 0.005}\n",
      "======Recurrent PPO Validation from:  2016-08-12T00:00:00.000000000 to  2016-11-10T00:00:00.000000000\n",
      "-----------------\n",
      "Total Reward:  -61.269029408693314\n",
      "Total Trades:  1170\n",
      "Mean Reward: -61.269029408693314\n",
      "STD reward: 0.0\n",
      "-----------------\n",
      "Total reward at validation for Reccurent PPO -61.269029408693314\n",
      "Sharpe Ratio:  0\n",
      "======Trading from:  2016-11-10T00:00:00.000000000 to  2017-02-14T00:00:00.000000000 Model is :  Rec_PPO\n",
      "==============================\n",
      "Previously traded stocks are ['AAPL' 'BMY' 'BSX' 'CF' 'CFG' 'COTY' 'CRM' 'CTSH' 'CVS' 'EBAY' 'EW'\n",
      " 'GILD' 'KEY' 'KO' 'KR' 'MDT' 'MU' 'NFLX' 'NKE' 'NVDA' 'QCOM' 'STX' 'TGT'\n",
      " 'WMB' 'WY']\n",
      "====Closing position changing stocks at day 2016-12-30 00:00:00====\n",
      "New stocks are ['AAPL' 'BMY' 'BSX' 'CF' 'CFG' 'COTY' 'CRM' 'CTSH' 'CVS' 'EBAY' 'EW'\n",
      " 'GILD' 'KEY' 'KO' 'KR' 'MDT' 'MU' 'NFLX' 'NKE' 'NVDA' 'QCOM' 'STX' 'TGT'\n",
      " 'WMB' 'WY']\n",
      "Current dollar is 1491366.2910641818\n",
      "==============================\n",
      "Saving to  results/account_value_trade_main_alameda-v9.1.csv\n",
      "previous_total_asset:1541582.5078545103\n",
      "end_total_asset:1531229.6104920919\n",
      "total_asset_change:-10352.897362418473\n",
      "Total cash is: 5.688838344252645$ and total holdings in stocks are 1531223.9216537476$\n",
      "Buy & Hold strategy with previous total asset:  1630320.3031339366\n",
      "Total Cost:  6186.650085161211\n",
      "Total trades:  1066\n",
      "Total days in turbulance:  150\n",
      "Sharpe:  -0.05467426428528721\n",
      "=============\n",
      "Total reward for the the window is -34722.481271113735\n",
      "=============\n"
     ]
    },
    {
     "data": {
      "text/html": [
       "\n",
       "                    Syncing run <strong><a href=\"https://wandb.ai/kaanb/FundSimulator/runs/2mjlaili\" target=\"_blank\">rosy-silence-372</a></strong> to <a href=\"https://wandb.ai/kaanb/FundSimulator\" target=\"_blank\">Weights & Biases</a> (<a href=\"https://docs.wandb.com/integrations/jupyter.html\" target=\"_blank\">docs</a>).<br/>\n",
       "\n",
       "                "
      ],
      "text/plain": [
       "<IPython.core.display.HTML object>"
      ]
     },
     "metadata": {},
     "output_type": "display_data"
    },
    {
     "data": {
      "text/html": [
       "<br/>Waiting for W&B process to finish, PID 19800... <strong style=\"color:green\">(success).</strong>"
      ],
      "text/plain": [
       "<IPython.core.display.HTML object>"
      ]
     },
     "metadata": {},
     "output_type": "display_data"
    },
    {
     "data": {
      "application/vnd.jupyter.widget-view+json": {
       "model_id": "",
       "version_major": 2,
       "version_minor": 0
      },
      "text/plain": [
       "VBox(children=(Label(value=' 0.00MB of 0.00MB uploaded (0.00MB deduped)\\r'), FloatProgress(value=1.0, max=1.0)…"
      ]
     },
     "metadata": {},
     "output_type": "display_data"
    },
    {
     "data": {
      "text/html": [
       "<style>\n",
       "    table.wandb td:nth-child(1) { padding: 0 10px; text-align: right }\n",
       "    .wandb-row { display: flex; flex-direction: row; flex-wrap: wrap; width: 100% }\n",
       "    .wandb-col { display: flex; flex-direction: column; flex-basis: 100%; flex: 1; padding: 10px; }\n",
       "    </style>\n",
       "<div class=\"wandb-row\"><div class=\"wandb-col\">\n",
       "<h3>Run history:</h3><br/><table class=\"wandb\"><tr><td>date</td><td>▁</td></tr><tr><td>end_total_asset</td><td>▁</td></tr><tr><td>trade_reward</td><td>▁</td></tr></table><br/></div><div class=\"wandb-col\">\n",
       "<h3>Run summary:</h3><br/><table class=\"wandb\"><tr><td>date</td><td>1487030400000000000</td></tr><tr><td>end_total_asset</td><td>1531229.61049</td></tr><tr><td>trade_reward</td><td>-245.80997</td></tr></table>\n",
       "</div></div>\n",
       "Synced 5 W&B file(s), 0 media file(s), 0 artifact file(s) and 0 other file(s)\n",
       "<br/>Synced <strong style=\"color:#cdcd00\">rosy-silence-372</strong>: <a href=\"https://wandb.ai/kaanb/FundSimulator/runs/2mjlaili\" target=\"_blank\">https://wandb.ai/kaanb/FundSimulator/runs/2mjlaili</a><br/>\n",
       "Find logs at: <code>.\\wandb\\run-20211112_182834-2mjlaili\\logs</code><br/>\n"
      ],
      "text/plain": [
       "<IPython.core.display.HTML object>"
      ]
     },
     "metadata": {},
     "output_type": "display_data"
    },
    {
     "name": "stdout",
     "output_type": "stream",
     "text": [
      "============================================\n",
      "Stocks trading this period is  ['AAPL' 'BMY' 'BSX' 'CF' 'CFG' 'COTY' 'CRM' 'CTSH' 'CVS' 'EBAY' 'EW'\n",
      " 'GILD' 'KEY' 'KO' 'KR' 'MDT' 'MU' 'NFLX' 'NKE' 'NVDA' 'QCOM' 'STX' 'TGT'\n",
      " 'WMB' 'WY']\n",
      "======Model training from:  2011-01-01 to  2016-11-10T00:00:00.000000000\n",
      "======Recurrent PPO Training for a population of 1========\n",
      "Training time  alameda-v9.1 :  4.803464790185292  minutes\n",
      "Best params,  {'ent_coef': 0.005}\n",
      "======Recurrent PPO Validation from:  2016-11-10T00:00:00.000000000 to  2017-02-14T00:00:00.000000000\n",
      "Closing positions\n",
      "Closing positions\n",
      "Closing positions\n",
      "Closing positions\n",
      "Closing positions\n",
      "Closing positions\n",
      "Closing positions\n",
      "Closing positions\n",
      "Closing positions\n",
      "Closing positions\n",
      "Closing positions\n",
      "-----------------\n",
      "Total Reward:  -6140.888118982315\n",
      "Total Trades:  969\n",
      "Mean Reward: -6140.988535165787\n",
      "STD reward: 0.0\n",
      "-----------------\n",
      "Total reward at validation for Reccurent PPO -6140.888118982315\n",
      "Sharpe Ratio:  0\n",
      "======Trading from:  2017-02-14T00:00:00.000000000 to  2017-05-16T00:00:00.000000000 Model is :  Rec_PPO\n",
      "Saving to  results/account_value_trade_main_alameda-v9.1.csv\n",
      "previous_total_asset:1531229.6104920919\n",
      "end_total_asset:1616223.8577841786\n",
      "total_asset_change:84994.24729208671\n",
      "Total cash is: 8.425310042168803$ and total holdings in stocks are 1616215.4324741364$\n",
      "Buy & Hold strategy with previous total asset:  1593543.6674955247\n",
      "Total Cost:  2730.1374783067713\n",
      "Total trades:  689\n",
      "Total days in turbulance:  0\n",
      "Sharpe:  0.31003667268589635\n",
      "=============\n",
      "Total reward for the the window is -34441.9372714418\n",
      "=============\n"
     ]
    },
    {
     "data": {
      "text/html": [
       "\n",
       "                    Syncing run <strong><a href=\"https://wandb.ai/kaanb/FundSimulator/runs/34ns0ywd\" target=\"_blank\">atomic-salad-373</a></strong> to <a href=\"https://wandb.ai/kaanb/FundSimulator\" target=\"_blank\">Weights & Biases</a> (<a href=\"https://docs.wandb.com/integrations/jupyter.html\" target=\"_blank\">docs</a>).<br/>\n",
       "\n",
       "                "
      ],
      "text/plain": [
       "<IPython.core.display.HTML object>"
      ]
     },
     "metadata": {},
     "output_type": "display_data"
    },
    {
     "data": {
      "text/html": [
       "<br/>Waiting for W&B process to finish, PID 20988... <strong style=\"color:green\">(success).</strong>"
      ],
      "text/plain": [
       "<IPython.core.display.HTML object>"
      ]
     },
     "metadata": {},
     "output_type": "display_data"
    },
    {
     "data": {
      "application/vnd.jupyter.widget-view+json": {
       "model_id": "",
       "version_major": 2,
       "version_minor": 0
      },
      "text/plain": [
       "VBox(children=(Label(value=' 0.00MB of 0.00MB uploaded (0.00MB deduped)\\r'), FloatProgress(value=1.0, max=1.0)…"
      ]
     },
     "metadata": {},
     "output_type": "display_data"
    },
    {
     "data": {
      "text/html": [
       "<style>\n",
       "    table.wandb td:nth-child(1) { padding: 0 10px; text-align: right }\n",
       "    .wandb-row { display: flex; flex-direction: row; flex-wrap: wrap; width: 100% }\n",
       "    .wandb-col { display: flex; flex-direction: column; flex-basis: 100%; flex: 1; padding: 10px; }\n",
       "    </style>\n",
       "<div class=\"wandb-row\"><div class=\"wandb-col\">\n",
       "<h3>Run history:</h3><br/><table class=\"wandb\"><tr><td>date</td><td>▁</td></tr><tr><td>end_total_asset</td><td>▁</td></tr><tr><td>trade_reward</td><td>▁</td></tr></table><br/></div><div class=\"wandb-col\">\n",
       "<h3>Run summary:</h3><br/><table class=\"wandb\"><tr><td>date</td><td>1494892800000000000</td></tr><tr><td>end_total_asset</td><td>1616223.85778</td></tr><tr><td>trade_reward</td><td>2.80685</td></tr></table>\n",
       "</div></div>\n",
       "Synced 5 W&B file(s), 0 media file(s), 0 artifact file(s) and 0 other file(s)\n",
       "<br/>Synced <strong style=\"color:#cdcd00\">atomic-salad-373</strong>: <a href=\"https://wandb.ai/kaanb/FundSimulator/runs/34ns0ywd\" target=\"_blank\">https://wandb.ai/kaanb/FundSimulator/runs/34ns0ywd</a><br/>\n",
       "Find logs at: <code>.\\wandb\\run-20211112_183335-34ns0ywd\\logs</code><br/>\n"
      ],
      "text/plain": [
       "<IPython.core.display.HTML object>"
      ]
     },
     "metadata": {},
     "output_type": "display_data"
    },
    {
     "name": "stdout",
     "output_type": "stream",
     "text": [
      "============================================\n",
      "Stocks trading this period is  ['AAPL' 'BMY' 'BSX' 'CF' 'CFG' 'COTY' 'CRM' 'CTSH' 'CVS' 'EBAY' 'EW'\n",
      " 'GILD' 'KEY' 'KO' 'KR' 'MDT' 'MU' 'NFLX' 'NKE' 'NVDA' 'QCOM' 'STX' 'TGT'\n",
      " 'WMB' 'WY']\n",
      "======Model training from:  2011-01-01 to  2017-02-14T00:00:00.000000000\n",
      "======Recurrent PPO Training for a population of 1========\n",
      "Training time  alameda-v9.1 :  4.819737307230631  minutes\n",
      "Best params,  {'ent_coef': 0.005}\n",
      "======Recurrent PPO Validation from:  2017-02-14T00:00:00.000000000 to  2017-05-16T00:00:00.000000000\n",
      "-----------------\n",
      "Total Reward:  -47.49638884840533\n",
      "Total Trades:  715\n",
      "Mean Reward: -47.49638884840533\n",
      "STD reward: 0.0\n",
      "-----------------\n",
      "Total reward at validation for Reccurent PPO -47.49638884840533\n",
      "Sharpe Ratio:  0\n",
      "======Trading from:  2017-05-16T00:00:00.000000000 to  2017-08-15T00:00:00.000000000 Model is :  Rec_PPO\n",
      "Saving to  results/account_value_trade_main_alameda-v9.1.csv\n",
      "previous_total_asset:1616223.8577841786\n",
      "end_total_asset:1715133.8748082188\n",
      "total_asset_change:98910.01702404022\n",
      "Total cash is: 4.863482382661008$ and total holdings in stocks are 1715129.0113258362$\n",
      "Buy & Hold strategy with previous total asset:  1646762.4839292911\n",
      "Total Cost:  2349.160269737244\n",
      "Total trades:  599\n",
      "Total days in turbulance:  0\n",
      "Sharpe:  0.23513520254261536\n",
      "=============\n",
      "Total reward for the the window is -34184.18724738574\n",
      "=============\n"
     ]
    },
    {
     "data": {
      "text/html": [
       "\n",
       "                    Syncing run <strong><a href=\"https://wandb.ai/kaanb/FundSimulator/runs/eut17znd\" target=\"_blank\">polar-smoke-374</a></strong> to <a href=\"https://wandb.ai/kaanb/FundSimulator\" target=\"_blank\">Weights & Biases</a> (<a href=\"https://docs.wandb.com/integrations/jupyter.html\" target=\"_blank\">docs</a>).<br/>\n",
       "\n",
       "                "
      ],
      "text/plain": [
       "<IPython.core.display.HTML object>"
      ]
     },
     "metadata": {},
     "output_type": "display_data"
    },
    {
     "data": {
      "text/html": [
       "<br/>Waiting for W&B process to finish, PID 19240... <strong style=\"color:green\">(success).</strong>"
      ],
      "text/plain": [
       "<IPython.core.display.HTML object>"
      ]
     },
     "metadata": {},
     "output_type": "display_data"
    },
    {
     "data": {
      "application/vnd.jupyter.widget-view+json": {
       "model_id": "",
       "version_major": 2,
       "version_minor": 0
      },
      "text/plain": [
       "VBox(children=(Label(value=' 0.00MB of 0.00MB uploaded (0.00MB deduped)\\r'), FloatProgress(value=1.0, max=1.0)…"
      ]
     },
     "metadata": {},
     "output_type": "display_data"
    },
    {
     "data": {
      "text/html": [
       "<style>\n",
       "    table.wandb td:nth-child(1) { padding: 0 10px; text-align: right }\n",
       "    .wandb-row { display: flex; flex-direction: row; flex-wrap: wrap; width: 100% }\n",
       "    .wandb-col { display: flex; flex-direction: column; flex-basis: 100%; flex: 1; padding: 10px; }\n",
       "    </style>\n",
       "<div class=\"wandb-row\"><div class=\"wandb-col\">\n",
       "<h3>Run history:</h3><br/><table class=\"wandb\"><tr><td>date</td><td>▁</td></tr><tr><td>end_total_asset</td><td>▁</td></tr><tr><td>trade_reward</td><td>▁</td></tr></table><br/></div><div class=\"wandb-col\">\n",
       "<h3>Run summary:</h3><br/><table class=\"wandb\"><tr><td>date</td><td>1502755200000000000</td></tr><tr><td>end_total_asset</td><td>1715133.87481</td></tr><tr><td>trade_reward</td><td>9.63469</td></tr></table>\n",
       "</div></div>\n",
       "Synced 5 W&B file(s), 0 media file(s), 0 artifact file(s) and 0 other file(s)\n",
       "<br/>Synced <strong style=\"color:#cdcd00\">polar-smoke-374</strong>: <a href=\"https://wandb.ai/kaanb/FundSimulator/runs/eut17znd\" target=\"_blank\">https://wandb.ai/kaanb/FundSimulator/runs/eut17znd</a><br/>\n",
       "Find logs at: <code>.\\wandb\\run-20211112_183838-eut17znd\\logs</code><br/>\n"
      ],
      "text/plain": [
       "<IPython.core.display.HTML object>"
      ]
     },
     "metadata": {},
     "output_type": "display_data"
    },
    {
     "name": "stdout",
     "output_type": "stream",
     "text": [
      "============================================\n",
      "Stocks trading this period is  ['AAPL' 'BMY' 'BSX' 'CF' 'CFG' 'COTY' 'CRM' 'CTSH' 'CVS' 'EBAY' 'EW'\n",
      " 'GILD' 'KEY' 'KO' 'KR' 'MDT' 'MU' 'NFLX' 'NKE' 'NVDA' 'QCOM' 'STX' 'TGT'\n",
      " 'WMB' 'WY']\n",
      "======Model training from:  2011-01-01 to  2017-05-16T00:00:00.000000000\n",
      "======Recurrent PPO Training for a population of 1========\n",
      "Training time  alameda-v9.1 :  4.843989837169647  minutes\n",
      "Best params,  {'ent_coef': 0.005}\n",
      "======Recurrent PPO Validation from:  2017-05-16T00:00:00.000000000 to  2017-08-15T00:00:00.000000000\n",
      "-----------------\n",
      "Total Reward:  -121.83725406974554\n",
      "Total Trades:  793\n",
      "Mean Reward: -121.83725406974554\n",
      "STD reward: 0.0\n",
      "-----------------\n",
      "Total reward at validation for Reccurent PPO -121.83725406974554\n",
      "Sharpe Ratio:  0\n",
      "======Trading from:  2017-08-15T00:00:00.000000000 to  2017-11-13T00:00:00.000000000 Model is :  Rec_PPO\n",
      "Saving to  results/account_value_trade_main_alameda-v9.1.csv\n",
      "previous_total_asset:1715133.8748082188\n",
      "end_total_asset:1820089.9636025962\n",
      "total_asset_change:104956.0887943774\n",
      "Total cash is: 1402367.2693963584$ and total holdings in stocks are 417722.6942062378$\n",
      "Buy & Hold strategy with previous total asset:  1843317.1515691443\n",
      "Total Cost:  3008.8651004466974\n",
      "Total trades:  781\n",
      "Total days in turbulance:  25\n",
      "Sharpe:  0.3469080081574602\n",
      "=============\n",
      "Total reward for the the window is -34049.653414284345\n",
      "=============\n"
     ]
    },
    {
     "data": {
      "text/html": [
       "\n",
       "                    Syncing run <strong><a href=\"https://wandb.ai/kaanb/FundSimulator/runs/3r28pz74\" target=\"_blank\">gentle-deluge-375</a></strong> to <a href=\"https://wandb.ai/kaanb/FundSimulator\" target=\"_blank\">Weights & Biases</a> (<a href=\"https://docs.wandb.com/integrations/jupyter.html\" target=\"_blank\">docs</a>).<br/>\n",
       "\n",
       "                "
      ],
      "text/plain": [
       "<IPython.core.display.HTML object>"
      ]
     },
     "metadata": {},
     "output_type": "display_data"
    },
    {
     "data": {
      "text/html": [
       "<br/>Waiting for W&B process to finish, PID 20784... <strong style=\"color:green\">(success).</strong>"
      ],
      "text/plain": [
       "<IPython.core.display.HTML object>"
      ]
     },
     "metadata": {},
     "output_type": "display_data"
    },
    {
     "data": {
      "application/vnd.jupyter.widget-view+json": {
       "model_id": "",
       "version_major": 2,
       "version_minor": 0
      },
      "text/plain": [
       "VBox(children=(Label(value=' 0.00MB of 0.00MB uploaded (0.00MB deduped)\\r'), FloatProgress(value=1.0, max=1.0)…"
      ]
     },
     "metadata": {},
     "output_type": "display_data"
    },
    {
     "data": {
      "text/html": [
       "<style>\n",
       "    table.wandb td:nth-child(1) { padding: 0 10px; text-align: right }\n",
       "    .wandb-row { display: flex; flex-direction: row; flex-wrap: wrap; width: 100% }\n",
       "    .wandb-col { display: flex; flex-direction: column; flex-basis: 100%; flex: 1; padding: 10px; }\n",
       "    </style>\n",
       "<div class=\"wandb-row\"><div class=\"wandb-col\">\n",
       "<h3>Run history:</h3><br/><table class=\"wandb\"><tr><td>date</td><td>▁</td></tr><tr><td>end_total_asset</td><td>▁</td></tr><tr><td>trade_reward</td><td>▁</td></tr></table><br/></div><div class=\"wandb-col\">\n",
       "<h3>Run summary:</h3><br/><table class=\"wandb\"><tr><td>date</td><td>1510531200000000000</td></tr><tr><td>end_total_asset</td><td>1820089.9636</td></tr><tr><td>trade_reward</td><td>-4.92759</td></tr></table>\n",
       "</div></div>\n",
       "Synced 5 W&B file(s), 0 media file(s), 0 artifact file(s) and 0 other file(s)\n",
       "<br/>Synced <strong style=\"color:#cdcd00\">gentle-deluge-375</strong>: <a href=\"https://wandb.ai/kaanb/FundSimulator/runs/3r28pz74\" target=\"_blank\">https://wandb.ai/kaanb/FundSimulator/runs/3r28pz74</a><br/>\n",
       "Find logs at: <code>.\\wandb\\run-20211112_184345-3r28pz74\\logs</code><br/>\n"
      ],
      "text/plain": [
       "<IPython.core.display.HTML object>"
      ]
     },
     "metadata": {},
     "output_type": "display_data"
    },
    {
     "name": "stdout",
     "output_type": "stream",
     "text": [
      "============================================\n",
      "Stocks trading this period is  ['ABBV' 'ATVI' 'BABA' 'CVX' 'EW' 'GE' 'GILD' 'GM' 'GPS' 'HAL' 'HBI' 'INTC'\n",
      " 'IPG' 'KR' 'MGM' 'MOS' 'MRK' 'NRG' 'NVDA' 'NWL' 'PYPL' 'RRC' 'SLB' 'TWX'\n",
      " 'WBA']\n",
      "======Model training from:  2011-01-01 to  2017-08-15T00:00:00.000000000\n",
      "======Recurrent PPO Training for a population of 1========\n",
      "Training time  alameda-v9.1 :  4.829336671034495  minutes\n",
      "Best params,  {'ent_coef': 0.005}\n",
      "======Recurrent PPO Validation from:  2017-08-15T00:00:00.000000000 to  2017-11-13T00:00:00.000000000\n",
      "-----------------\n",
      "Total Reward:  -188.49927212297916\n",
      "Total Trades:  782\n",
      "Mean Reward: -188.49927212297916\n",
      "STD reward: 0.0\n",
      "-----------------\n",
      "Total reward at validation for Reccurent PPO -188.49927212297916\n",
      "Sharpe Ratio:  0\n",
      "======Trading from:  2017-11-13T00:00:00.000000000 to  2018-02-15T00:00:00.000000000 Model is :  Rec_PPO\n",
      "==============================\n",
      "Previously traded stocks are ['AAPL' 'BMY' 'BSX' 'CF' 'CFG' 'COTY' 'CRM' 'CTSH' 'CVS' 'EBAY' 'EW'\n",
      " 'GILD' 'KEY' 'KO' 'KR' 'MDT' 'MU' 'NFLX' 'NKE' 'NVDA' 'QCOM' 'STX' 'TGT'\n",
      " 'WMB' 'WY']\n",
      "====Closing position changing stocks at day 2017-12-28 00:00:00====\n",
      "New stocks are ['ABBV' 'ATVI' 'BABA' 'CVX' 'EW' 'GE' 'GILD' 'GM' 'GPS' 'HAL' 'HBI' 'INTC'\n",
      " 'IPG' 'KR' 'MGM' 'MOS' 'MRK' 'NRG' 'NVDA' 'NWL' 'PYPL' 'RRC' 'SLB' 'TWX'\n",
      " 'WBA']\n",
      "Current dollar is 1825730.0983985495\n",
      "==============================\n",
      "Saving to  results/account_value_trade_main_alameda-v9.1.csv\n",
      "previous_total_asset:1820089.9636025962\n",
      "end_total_asset:1807423.9420180852\n",
      "total_asset_change:-12666.021584511036\n",
      "Total cash is: 76581.34729915197$ and total holdings in stocks are 1730842.594718933$\n",
      "Buy & Hold strategy with previous total asset:  1864846.5215782959\n",
      "Total Cost:  6444.138382911698\n",
      "Total trades:  934\n",
      "Total days in turbulance:  0\n",
      "Sharpe:  -0.10249901446375907\n",
      "=============\n",
      "Total reward for the the window is -42521.35939279711\n",
      "=============\n"
     ]
    },
    {
     "data": {
      "text/html": [
       "\n",
       "                    Syncing run <strong><a href=\"https://wandb.ai/kaanb/FundSimulator/runs/21vpxn50\" target=\"_blank\">revived-sky-376</a></strong> to <a href=\"https://wandb.ai/kaanb/FundSimulator\" target=\"_blank\">Weights & Biases</a> (<a href=\"https://docs.wandb.com/integrations/jupyter.html\" target=\"_blank\">docs</a>).<br/>\n",
       "\n",
       "                "
      ],
      "text/plain": [
       "<IPython.core.display.HTML object>"
      ]
     },
     "metadata": {},
     "output_type": "display_data"
    },
    {
     "data": {
      "text/html": [
       "<br/>Waiting for W&B process to finish, PID 11728... <strong style=\"color:green\">(success).</strong>"
      ],
      "text/plain": [
       "<IPython.core.display.HTML object>"
      ]
     },
     "metadata": {},
     "output_type": "display_data"
    },
    {
     "data": {
      "application/vnd.jupyter.widget-view+json": {
       "model_id": "",
       "version_major": 2,
       "version_minor": 0
      },
      "text/plain": [
       "VBox(children=(Label(value=' 0.00MB of 0.00MB uploaded (0.00MB deduped)\\r'), FloatProgress(value=1.0, max=1.0)…"
      ]
     },
     "metadata": {},
     "output_type": "display_data"
    },
    {
     "data": {
      "text/html": [
       "<style>\n",
       "    table.wandb td:nth-child(1) { padding: 0 10px; text-align: right }\n",
       "    .wandb-row { display: flex; flex-direction: row; flex-wrap: wrap; width: 100% }\n",
       "    .wandb-col { display: flex; flex-direction: column; flex-basis: 100%; flex: 1; padding: 10px; }\n",
       "    </style>\n",
       "<div class=\"wandb-row\"><div class=\"wandb-col\">\n",
       "<h3>Run history:</h3><br/><table class=\"wandb\"><tr><td>date</td><td>▁</td></tr><tr><td>end_total_asset</td><td>▁</td></tr><tr><td>trade_reward</td><td>▁</td></tr></table><br/></div><div class=\"wandb-col\">\n",
       "<h3>Run summary:</h3><br/><table class=\"wandb\"><tr><td>date</td><td>1518652800000000000</td></tr><tr><td>end_total_asset</td><td>1807423.94202</td></tr><tr><td>trade_reward</td><td>-250.26512</td></tr></table>\n",
       "</div></div>\n",
       "Synced 5 W&B file(s), 0 media file(s), 0 artifact file(s) and 0 other file(s)\n",
       "<br/>Synced <strong style=\"color:#cdcd00\">revived-sky-376</strong>: <a href=\"https://wandb.ai/kaanb/FundSimulator/runs/21vpxn50\" target=\"_blank\">https://wandb.ai/kaanb/FundSimulator/runs/21vpxn50</a><br/>\n",
       "Find logs at: <code>.\\wandb\\run-20211112_184857-21vpxn50\\logs</code><br/>\n"
      ],
      "text/plain": [
       "<IPython.core.display.HTML object>"
      ]
     },
     "metadata": {},
     "output_type": "display_data"
    },
    {
     "name": "stdout",
     "output_type": "stream",
     "text": [
      "============================================\n",
      "Stocks trading this period is  ['ABBV' 'ATVI' 'BABA' 'CVX' 'EW' 'GE' 'GILD' 'GM' 'GPS' 'HAL' 'HBI' 'INTC'\n",
      " 'IPG' 'KR' 'MGM' 'MOS' 'MRK' 'NRG' 'NVDA' 'NWL' 'PYPL' 'RRC' 'SLB' 'TWX'\n",
      " 'WBA']\n",
      "======Model training from:  2011-01-01 to  2017-11-13T00:00:00.000000000\n",
      "======Recurrent PPO Training for a population of 1========\n",
      "Training time  alameda-v9.1 :  4.834314147631328  minutes\n",
      "Best params,  {'ent_coef': 0.005}\n",
      "======Recurrent PPO Validation from:  2017-11-13T00:00:00.000000000 to  2018-02-15T00:00:00.000000000\n",
      "Closing positions\n",
      "Closing positions\n",
      "Closing positions\n",
      "Closing positions\n",
      "Closing positions\n",
      "Closing positions\n",
      "Closing positions\n",
      "Closing positions\n",
      "Closing positions\n",
      "Closing positions\n",
      "Closing positions\n",
      "-----------------\n",
      "Total Reward:  -4655.192156113684\n",
      "Total Trades:  889\n",
      "Mean Reward: -4655.192156113684\n",
      "STD reward: 0.0\n",
      "-----------------\n",
      "Total reward at validation for Reccurent PPO -4655.192156113684\n",
      "Sharpe Ratio:  0\n",
      "======Trading from:  2018-02-15T00:00:00.000000000 to  2018-05-17T00:00:00.000000000 Model is :  Rec_PPO\n",
      "Saving to  results/account_value_trade_main_alameda-v9.1.csv\n",
      "previous_total_asset:1807423.9420180852\n",
      "end_total_asset:1762535.674994722\n",
      "total_asset_change:-44888.26702336315\n",
      "Total cash is: 2.2135937362972733$ and total holdings in stocks are 1762533.4614009857$\n",
      "Buy & Hold strategy with previous total asset:  1838618.4050649828\n",
      "Total Cost:  2978.528496065138\n",
      "Total trades:  618\n",
      "Total days in turbulance:  0\n",
      "Sharpe:  -0.07429271119291253\n",
      "=============\n",
      "Total reward for the the window is -42656.35213649226\n",
      "=============\n"
     ]
    },
    {
     "data": {
      "text/html": [
       "\n",
       "                    Syncing run <strong><a href=\"https://wandb.ai/kaanb/FundSimulator/runs/3sf1rzxi\" target=\"_blank\">silvery-frost-377</a></strong> to <a href=\"https://wandb.ai/kaanb/FundSimulator\" target=\"_blank\">Weights & Biases</a> (<a href=\"https://docs.wandb.com/integrations/jupyter.html\" target=\"_blank\">docs</a>).<br/>\n",
       "\n",
       "                "
      ],
      "text/plain": [
       "<IPython.core.display.HTML object>"
      ]
     },
     "metadata": {},
     "output_type": "display_data"
    },
    {
     "data": {
      "text/html": [
       "<br/>Waiting for W&B process to finish, PID 18760... <strong style=\"color:green\">(success).</strong>"
      ],
      "text/plain": [
       "<IPython.core.display.HTML object>"
      ]
     },
     "metadata": {},
     "output_type": "display_data"
    },
    {
     "data": {
      "application/vnd.jupyter.widget-view+json": {
       "model_id": "",
       "version_major": 2,
       "version_minor": 0
      },
      "text/plain": [
       "VBox(children=(Label(value=' 0.00MB of 0.00MB uploaded (0.00MB deduped)\\r'), FloatProgress(value=1.0, max=1.0)…"
      ]
     },
     "metadata": {},
     "output_type": "display_data"
    },
    {
     "data": {
      "text/html": [
       "<style>\n",
       "    table.wandb td:nth-child(1) { padding: 0 10px; text-align: right }\n",
       "    .wandb-row { display: flex; flex-direction: row; flex-wrap: wrap; width: 100% }\n",
       "    .wandb-col { display: flex; flex-direction: column; flex-basis: 100%; flex: 1; padding: 10px; }\n",
       "    </style>\n",
       "<div class=\"wandb-row\"><div class=\"wandb-col\">\n",
       "<h3>Run history:</h3><br/><table class=\"wandb\"><tr><td>date</td><td>▁</td></tr><tr><td>end_total_asset</td><td>▁</td></tr><tr><td>trade_reward</td><td>▁</td></tr></table><br/></div><div class=\"wandb-col\">\n",
       "<h3>Run summary:</h3><br/><table class=\"wandb\"><tr><td>date</td><td>1526515200000000000</td></tr><tr><td>end_total_asset</td><td>1762535.67499</td></tr><tr><td>trade_reward</td><td>-19.21055</td></tr></table>\n",
       "</div></div>\n",
       "Synced 5 W&B file(s), 0 media file(s), 0 artifact file(s) and 0 other file(s)\n",
       "<br/>Synced <strong style=\"color:#cdcd00\">silvery-frost-377</strong>: <a href=\"https://wandb.ai/kaanb/FundSimulator/runs/3sf1rzxi\" target=\"_blank\">https://wandb.ai/kaanb/FundSimulator/runs/3sf1rzxi</a><br/>\n",
       "Find logs at: <code>.\\wandb\\run-20211112_185359-3sf1rzxi\\logs</code><br/>\n"
      ],
      "text/plain": [
       "<IPython.core.display.HTML object>"
      ]
     },
     "metadata": {},
     "output_type": "display_data"
    },
    {
     "name": "stdout",
     "output_type": "stream",
     "text": [
      "============================================\n",
      "Stocks trading this period is  ['ABBV' 'ATVI' 'BABA' 'CVX' 'EW' 'GE' 'GILD' 'GM' 'GPS' 'HAL' 'HBI' 'INTC'\n",
      " 'IPG' 'KR' 'MGM' 'MOS' 'MRK' 'NRG' 'NVDA' 'NWL' 'PYPL' 'RRC' 'SLB' 'TWX'\n",
      " 'WBA']\n",
      "======Model training from:  2011-01-01 to  2018-02-15T00:00:00.000000000\n",
      "======Recurrent PPO Training for a population of 1========\n",
      "Training time  alameda-v9.1 :  4.8638119777043665  minutes\n",
      "Best params,  {'ent_coef': 0.005}\n",
      "======Recurrent PPO Validation from:  2018-02-15T00:00:00.000000000 to  2018-05-17T00:00:00.000000000\n",
      "-----------------\n",
      "Total Reward:  -127.98914197087288\n",
      "Total Trades:  877\n",
      "Mean Reward: -127.98914197087288\n",
      "STD reward: 0.0\n",
      "-----------------\n",
      "Total reward at validation for Reccurent PPO -127.98914197087288\n",
      "Sharpe Ratio:  0\n",
      "======Trading from:  2018-05-17T00:00:00.000000000 to  2018-08-16T00:00:00.000000000 Model is :  Rec_PPO\n",
      "Saving to  results/account_value_trade_main_alameda-v9.1.csv\n",
      "previous_total_asset:1762535.674994722\n",
      "end_total_asset:1789612.4259363953\n",
      "total_asset_change:27076.750941673294\n",
      "Total cash is: 3.4779736344430194$ and total holdings in stocks are 1789608.947962761$\n",
      "Buy & Hold strategy with previous total asset:  1629365.8230158277\n",
      "Total Cost:  1514.7775550689703\n",
      "Total trades:  363\n",
      "Total days in turbulance:  0\n",
      "Sharpe:  0.10278188470622528\n",
      "=============\n",
      "Total reward for the the window is -41422.629331290256\n",
      "=============\n"
     ]
    },
    {
     "data": {
      "text/html": [
       "\n",
       "                    Syncing run <strong><a href=\"https://wandb.ai/kaanb/FundSimulator/runs/2gwudmwm\" target=\"_blank\">autumn-bush-378</a></strong> to <a href=\"https://wandb.ai/kaanb/FundSimulator\" target=\"_blank\">Weights & Biases</a> (<a href=\"https://docs.wandb.com/integrations/jupyter.html\" target=\"_blank\">docs</a>).<br/>\n",
       "\n",
       "                "
      ],
      "text/plain": [
       "<IPython.core.display.HTML object>"
      ]
     },
     "metadata": {},
     "output_type": "display_data"
    },
    {
     "data": {
      "text/html": [
       "<br/>Waiting for W&B process to finish, PID 2196... <strong style=\"color:green\">(success).</strong>"
      ],
      "text/plain": [
       "<IPython.core.display.HTML object>"
      ]
     },
     "metadata": {},
     "output_type": "display_data"
    },
    {
     "data": {
      "application/vnd.jupyter.widget-view+json": {
       "model_id": "",
       "version_major": 2,
       "version_minor": 0
      },
      "text/plain": [
       "VBox(children=(Label(value=' 0.00MB of 0.00MB uploaded (0.00MB deduped)\\r'), FloatProgress(value=1.0, max=1.0)…"
      ]
     },
     "metadata": {},
     "output_type": "display_data"
    },
    {
     "data": {
      "text/html": [
       "<style>\n",
       "    table.wandb td:nth-child(1) { padding: 0 10px; text-align: right }\n",
       "    .wandb-row { display: flex; flex-direction: row; flex-wrap: wrap; width: 100% }\n",
       "    .wandb-col { display: flex; flex-direction: column; flex-basis: 100%; flex: 1; padding: 10px; }\n",
       "    </style>\n",
       "<div class=\"wandb-row\"><div class=\"wandb-col\">\n",
       "<h3>Run history:</h3><br/><table class=\"wandb\"><tr><td>date</td><td>▁</td></tr><tr><td>end_total_asset</td><td>▁</td></tr><tr><td>trade_reward</td><td>▁</td></tr></table><br/></div><div class=\"wandb-col\">\n",
       "<h3>Run summary:</h3><br/><table class=\"wandb\"><tr><td>date</td><td>1534377600000000000</td></tr><tr><td>end_total_asset</td><td>1789612.42594</td></tr><tr><td>trade_reward</td><td>35.88841</td></tr></table>\n",
       "</div></div>\n",
       "Synced 5 W&B file(s), 0 media file(s), 0 artifact file(s) and 0 other file(s)\n",
       "<br/>Synced <strong style=\"color:#cdcd00\">autumn-bush-378</strong>: <a href=\"https://wandb.ai/kaanb/FundSimulator/runs/2gwudmwm\" target=\"_blank\">https://wandb.ai/kaanb/FundSimulator/runs/2gwudmwm</a><br/>\n",
       "Find logs at: <code>.\\wandb\\run-20211112_185904-2gwudmwm\\logs</code><br/>\n"
      ],
      "text/plain": [
       "<IPython.core.display.HTML object>"
      ]
     },
     "metadata": {},
     "output_type": "display_data"
    },
    {
     "name": "stdout",
     "output_type": "stream",
     "text": [
      "============================================\n",
      "Stocks trading this period is  ['ABBV' 'ATVI' 'BABA' 'CVX' 'EW' 'GE' 'GILD' 'GM' 'GPS' 'HAL' 'HBI' 'INTC'\n",
      " 'IPG' 'KR' 'MGM' 'MOS' 'MRK' 'NRG' 'NVDA' 'NWL' 'PYPL' 'RRC' 'SLB' 'TWX'\n",
      " 'WBA']\n",
      "======Model training from:  2011-01-01 to  2018-05-17T00:00:00.000000000\n",
      "======Recurrent PPO Training for a population of 1========\n",
      "Training time  alameda-v9.1 :  4.886348887284597  minutes\n",
      "Best params,  {'ent_coef': 0.005}\n",
      "======Recurrent PPO Validation from:  2018-05-17T00:00:00.000000000 to  2018-08-16T00:00:00.000000000\n",
      "-----------------\n",
      "Total Reward:  -1086.3767254799604\n",
      "Total Trades:  919\n",
      "Mean Reward: -1086.3767254799604\n",
      "STD reward: 0.0\n",
      "-----------------\n",
      "Total reward at validation for Reccurent PPO -1086.3767254799604\n",
      "Sharpe Ratio:  0\n",
      "======Trading from:  2018-08-16T00:00:00.000000000 to  2018-11-14T00:00:00.000000000 Model is :  Rec_PPO\n",
      "Saving to  results/account_value_trade_main_alameda-v9.1.csv\n",
      "previous_total_asset:1789612.4259363953\n",
      "end_total_asset:1803825.962974036\n",
      "total_asset_change:14213.53703764081\n",
      "Total cash is: 2.8595270756062092$ and total holdings in stocks are 1803823.1034469604$\n",
      "Stock was not active TWX\n",
      "Buy & Hold strategy with previous total asset:  1731939.5111344946\n",
      "Total Cost:  2038.8042766752233\n",
      "Total trades:  527\n",
      "Total days in turbulance:  0\n",
      "Sharpe:  0.034891397660734826\n",
      "=============\n",
      "Total reward for the the window is -40529.21307223244\n",
      "=============\n"
     ]
    },
    {
     "data": {
      "text/html": [
       "\n",
       "                    Syncing run <strong><a href=\"https://wandb.ai/kaanb/FundSimulator/runs/34km57kz\" target=\"_blank\">wobbly-snow-379</a></strong> to <a href=\"https://wandb.ai/kaanb/FundSimulator\" target=\"_blank\">Weights & Biases</a> (<a href=\"https://docs.wandb.com/integrations/jupyter.html\" target=\"_blank\">docs</a>).<br/>\n",
       "\n",
       "                "
      ],
      "text/plain": [
       "<IPython.core.display.HTML object>"
      ]
     },
     "metadata": {},
     "output_type": "display_data"
    },
    {
     "data": {
      "text/html": [
       "<br/>Waiting for W&B process to finish, PID 18336... <strong style=\"color:green\">(success).</strong>"
      ],
      "text/plain": [
       "<IPython.core.display.HTML object>"
      ]
     },
     "metadata": {},
     "output_type": "display_data"
    },
    {
     "data": {
      "application/vnd.jupyter.widget-view+json": {
       "model_id": "",
       "version_major": 2,
       "version_minor": 0
      },
      "text/plain": [
       "VBox(children=(Label(value=' 0.00MB of 0.00MB uploaded (0.00MB deduped)\\r'), FloatProgress(value=1.0, max=1.0)…"
      ]
     },
     "metadata": {},
     "output_type": "display_data"
    },
    {
     "data": {
      "text/html": [
       "<style>\n",
       "    table.wandb td:nth-child(1) { padding: 0 10px; text-align: right }\n",
       "    .wandb-row { display: flex; flex-direction: row; flex-wrap: wrap; width: 100% }\n",
       "    .wandb-col { display: flex; flex-direction: column; flex-basis: 100%; flex: 1; padding: 10px; }\n",
       "    </style>\n",
       "<div class=\"wandb-row\"><div class=\"wandb-col\">\n",
       "<h3>Run history:</h3><br/><table class=\"wandb\"><tr><td>date</td><td>▁</td></tr><tr><td>end_total_asset</td><td>▁</td></tr><tr><td>trade_reward</td><td>▁</td></tr></table><br/></div><div class=\"wandb-col\">\n",
       "<h3>Run summary:</h3><br/><table class=\"wandb\"><tr><td>date</td><td>1542153600000000000</td></tr><tr><td>end_total_asset</td><td>1803825.96297</td></tr><tr><td>trade_reward</td><td>14.81842</td></tr></table>\n",
       "</div></div>\n",
       "Synced 5 W&B file(s), 0 media file(s), 0 artifact file(s) and 0 other file(s)\n",
       "<br/>Synced <strong style=\"color:#cdcd00\">wobbly-snow-379</strong>: <a href=\"https://wandb.ai/kaanb/FundSimulator/runs/34km57kz\" target=\"_blank\">https://wandb.ai/kaanb/FundSimulator/runs/34km57kz</a><br/>\n",
       "Find logs at: <code>.\\wandb\\run-20211112_190410-34km57kz\\logs</code><br/>\n"
      ],
      "text/plain": [
       "<IPython.core.display.HTML object>"
      ]
     },
     "metadata": {},
     "output_type": "display_data"
    },
    {
     "name": "stdout",
     "output_type": "stream",
     "text": [
      "============================================\n",
      "Stocks trading this period is  ['AAL' 'AES' 'AMAT' 'AMD' 'BMY' 'BSX' 'CMCSA' 'COG' 'COTY' 'CSX' 'DVN'\n",
      " 'FCX' 'FE' 'GIS' 'HBAN' 'INTC' 'KEY' 'MRK' 'NEM' 'PCG' 'PFE' 'RF' 'TJX'\n",
      " 'UAA' 'VZ']\n",
      "======Model training from:  2011-01-01 to  2018-08-16T00:00:00.000000000\n",
      "======Recurrent PPO Training for a population of 1========\n",
      "Training time  alameda-v9.1 :  4.883830392360688  minutes\n",
      "Best params,  {'ent_coef': 0.005}\n",
      "======Recurrent PPO Validation from:  2018-08-16T00:00:00.000000000 to  2018-11-14T00:00:00.000000000\n",
      "-----------------\n",
      "Total Reward:  -395.88655975461006\n",
      "Total Trades:  502\n",
      "Mean Reward: -395.88655975461006\n",
      "STD reward: 0.0\n",
      "-----------------\n",
      "Total reward at validation for Reccurent PPO -395.88655975461006\n",
      "Sharpe Ratio:  0\n",
      "======Trading from:  2018-11-14T00:00:00.000000000 to  2019-02-19T00:00:00.000000000 Model is :  Rec_PPO\n",
      "==============================\n",
      "Previously traded stocks are ['ABBV' 'ATVI' 'BABA' 'CVX' 'EW' 'GE' 'GILD' 'GM' 'GPS' 'HAL' 'HBI' 'INTC'\n",
      " 'IPG' 'KR' 'MGM' 'MOS' 'MRK' 'NRG' 'NVDA' 'NWL' 'PYPL' 'RRC' 'SLB' 'TWX'\n",
      " 'WBA']\n",
      "====Closing position changing stocks at day 2018-12-28 00:00:00====\n",
      "New stocks are ['AAL' 'AES' 'AMAT' 'AMD' 'BMY' 'BSX' 'CMCSA' 'COG' 'COTY' 'CSX' 'DVN'\n",
      " 'FCX' 'FE' 'GIS' 'HBAN' 'INTC' 'KEY' 'MRK' 'NEM' 'PCG' 'PFE' 'RF' 'TJX'\n",
      " 'UAA' 'VZ']\n",
      "Current dollar is 1628683.0578323412\n",
      "==============================\n",
      "Saving to  results/account_value_trade_main_alameda-v9.1.csv\n",
      "previous_total_asset:1803825.962974036\n",
      "end_total_asset:1658985.8556170505\n",
      "total_asset_change:-144840.10735698557\n",
      "Total cash is: 1067582.6935191196$ and total holdings in stocks are 591403.1620979309$\n",
      "Stock was not active TWX\n",
      "Buy & Hold strategy with previous total asset:  1828812.0827466503\n",
      "Total Cost:  4086.3108157711004\n",
      "Total trades:  774\n",
      "Total days in turbulance:  0\n",
      "Sharpe:  -0.23747082699946848\n",
      "=============\n",
      "Total reward for the the window is -48077.71626735432\n",
      "=============\n"
     ]
    },
    {
     "data": {
      "text/html": [
       "\n",
       "                    Syncing run <strong><a href=\"https://wandb.ai/kaanb/FundSimulator/runs/2i6v8hl7\" target=\"_blank\">earnest-tree-380</a></strong> to <a href=\"https://wandb.ai/kaanb/FundSimulator\" target=\"_blank\">Weights & Biases</a> (<a href=\"https://docs.wandb.com/integrations/jupyter.html\" target=\"_blank\">docs</a>).<br/>\n",
       "\n",
       "                "
      ],
      "text/plain": [
       "<IPython.core.display.HTML object>"
      ]
     },
     "metadata": {},
     "output_type": "display_data"
    },
    {
     "data": {
      "text/html": [
       "<br/>Waiting for W&B process to finish, PID 12552... <strong style=\"color:green\">(success).</strong>"
      ],
      "text/plain": [
       "<IPython.core.display.HTML object>"
      ]
     },
     "metadata": {},
     "output_type": "display_data"
    },
    {
     "data": {
      "application/vnd.jupyter.widget-view+json": {
       "model_id": "",
       "version_major": 2,
       "version_minor": 0
      },
      "text/plain": [
       "VBox(children=(Label(value=' 0.00MB of 0.00MB uploaded (0.00MB deduped)\\r'), FloatProgress(value=1.0, max=1.0)…"
      ]
     },
     "metadata": {},
     "output_type": "display_data"
    },
    {
     "data": {
      "text/html": [
       "<style>\n",
       "    table.wandb td:nth-child(1) { padding: 0 10px; text-align: right }\n",
       "    .wandb-row { display: flex; flex-direction: row; flex-wrap: wrap; width: 100% }\n",
       "    .wandb-col { display: flex; flex-direction: column; flex-basis: 100%; flex: 1; padding: 10px; }\n",
       "    </style>\n",
       "<div class=\"wandb-row\"><div class=\"wandb-col\">\n",
       "<h3>Run history:</h3><br/><table class=\"wandb\"><tr><td>date</td><td>▁</td></tr><tr><td>end_total_asset</td><td>▁</td></tr><tr><td>trade_reward</td><td>▁</td></tr></table><br/></div><div class=\"wandb-col\">\n",
       "<h3>Run summary:</h3><br/><table class=\"wandb\"><tr><td>date</td><td>1550534400000000000</td></tr><tr><td>end_total_asset</td><td>1658985.85562</td></tr><tr><td>trade_reward</td><td>-250.61874</td></tr></table>\n",
       "</div></div>\n",
       "Synced 5 W&B file(s), 0 media file(s), 0 artifact file(s) and 0 other file(s)\n",
       "<br/>Synced <strong style=\"color:#cdcd00\">earnest-tree-380</strong>: <a href=\"https://wandb.ai/kaanb/FundSimulator/runs/2i6v8hl7\" target=\"_blank\">https://wandb.ai/kaanb/FundSimulator/runs/2i6v8hl7</a><br/>\n",
       "Find logs at: <code>.\\wandb\\run-20211112_190920-2i6v8hl7\\logs</code><br/>\n"
      ],
      "text/plain": [
       "<IPython.core.display.HTML object>"
      ]
     },
     "metadata": {},
     "output_type": "display_data"
    },
    {
     "name": "stdout",
     "output_type": "stream",
     "text": [
      "============================================\n",
      "Stocks trading this period is  ['AAL' 'AES' 'AMAT' 'AMD' 'BMY' 'BSX' 'CMCSA' 'COG' 'COTY' 'CSX' 'DVN'\n",
      " 'FCX' 'FE' 'GIS' 'HBAN' 'INTC' 'KEY' 'MRK' 'NEM' 'PCG' 'PFE' 'RF' 'TJX'\n",
      " 'UAA' 'VZ']\n",
      "======Model training from:  2011-01-01 to  2018-11-14T00:00:00.000000000\n",
      "======Recurrent PPO Training for a population of 1========\n",
      "Training time  alameda-v9.1 :  4.868750850359599  minutes\n",
      "Best params,  {'ent_coef': 0.005}\n",
      "======Recurrent PPO Validation from:  2018-11-14T00:00:00.000000000 to  2019-02-19T00:00:00.000000000\n",
      "Closing positions\n",
      "Closing positions\n",
      "Closing positions\n",
      "Closing positions\n",
      "Closing positions\n",
      "Closing positions\n",
      "Closing positions\n",
      "Closing positions\n",
      "Closing positions\n",
      "Closing positions\n",
      "Closing positions\n",
      "-----------------\n",
      "Total Reward:  -3976.5806694477797\n",
      "Total Trades:  1041\n",
      "Mean Reward: -3976.5806694477797\n",
      "STD reward: 0.0\n",
      "-----------------\n",
      "Total reward at validation for Reccurent PPO -3976.5806694477797\n",
      "Sharpe Ratio:  0\n",
      "======Trading from:  2019-02-19T00:00:00.000000000 to  2019-05-20T00:00:00.000000000 Model is :  Rec_PPO\n",
      "Saving to  results/account_value_trade_main_alameda-v9.1.csv\n",
      "previous_total_asset:1658985.8556170505\n",
      "end_total_asset:1639453.4005969255\n",
      "total_asset_change:-19532.455020125024\n",
      "Total cash is: 2.467233964730525$ and total holdings in stocks are 1639450.9333629608$\n",
      "Buy & Hold strategy with previous total asset:  1682890.3139208362\n",
      "Total Cost:  2194.6066428966565\n",
      "Total trades:  754\n",
      "Total days in turbulance:  0\n",
      "Sharpe:  -0.023699261624621607\n",
      "=============\n",
      "Total reward for the the window is -48213.71766483737\n",
      "=============\n"
     ]
    },
    {
     "data": {
      "text/html": [
       "\n",
       "                    Syncing run <strong><a href=\"https://wandb.ai/kaanb/FundSimulator/runs/1yigroux\" target=\"_blank\">desert-microwave-381</a></strong> to <a href=\"https://wandb.ai/kaanb/FundSimulator\" target=\"_blank\">Weights & Biases</a> (<a href=\"https://docs.wandb.com/integrations/jupyter.html\" target=\"_blank\">docs</a>).<br/>\n",
       "\n",
       "                "
      ],
      "text/plain": [
       "<IPython.core.display.HTML object>"
      ]
     },
     "metadata": {},
     "output_type": "display_data"
    },
    {
     "data": {
      "text/html": [
       "<br/>Waiting for W&B process to finish, PID 17568... <strong style=\"color:green\">(success).</strong>"
      ],
      "text/plain": [
       "<IPython.core.display.HTML object>"
      ]
     },
     "metadata": {},
     "output_type": "display_data"
    },
    {
     "data": {
      "application/vnd.jupyter.widget-view+json": {
       "model_id": "",
       "version_major": 2,
       "version_minor": 0
      },
      "text/plain": [
       "VBox(children=(Label(value=' 0.00MB of 0.00MB uploaded (0.00MB deduped)\\r'), FloatProgress(value=1.0, max=1.0)…"
      ]
     },
     "metadata": {},
     "output_type": "display_data"
    },
    {
     "data": {
      "text/html": [
       "<style>\n",
       "    table.wandb td:nth-child(1) { padding: 0 10px; text-align: right }\n",
       "    .wandb-row { display: flex; flex-direction: row; flex-wrap: wrap; width: 100% }\n",
       "    .wandb-col { display: flex; flex-direction: column; flex-basis: 100%; flex: 1; padding: 10px; }\n",
       "    </style>\n",
       "<div class=\"wandb-row\"><div class=\"wandb-col\">\n",
       "<h3>Run history:</h3><br/><table class=\"wandb\"><tr><td>date</td><td>▁</td></tr><tr><td>end_total_asset</td><td>▁</td></tr><tr><td>trade_reward</td><td>▁</td></tr></table><br/></div><div class=\"wandb-col\">\n",
       "<h3>Run summary:</h3><br/><table class=\"wandb\"><tr><td>date</td><td>1558310400000000000</td></tr><tr><td>end_total_asset</td><td>1639453.4006</td></tr><tr><td>trade_reward</td><td>-7.23871</td></tr></table>\n",
       "</div></div>\n",
       "Synced 5 W&B file(s), 0 media file(s), 0 artifact file(s) and 0 other file(s)\n",
       "<br/>Synced <strong style=\"color:#cdcd00\">desert-microwave-381</strong>: <a href=\"https://wandb.ai/kaanb/FundSimulator/runs/1yigroux\" target=\"_blank\">https://wandb.ai/kaanb/FundSimulator/runs/1yigroux</a><br/>\n",
       "Find logs at: <code>.\\wandb\\run-20211112_191424-1yigroux\\logs</code><br/>\n"
      ],
      "text/plain": [
       "<IPython.core.display.HTML object>"
      ]
     },
     "metadata": {},
     "output_type": "display_data"
    },
    {
     "name": "stdout",
     "output_type": "stream",
     "text": [
      "============================================\n",
      "Stocks trading this period is  ['AAL' 'AES' 'AMAT' 'AMD' 'BMY' 'BSX' 'CMCSA' 'COG' 'COTY' 'CSX' 'DVN'\n",
      " 'FCX' 'FE' 'GIS' 'HBAN' 'INTC' 'KEY' 'MRK' 'NEM' 'PCG' 'PFE' 'RF' 'TJX'\n",
      " 'UAA' 'VZ']\n",
      "======Model training from:  2011-01-01 to  2019-02-19T00:00:00.000000000\n",
      "======Recurrent PPO Training for a population of 1========\n",
      "Training time  alameda-v9.1 :  4.895507272084554  minutes\n",
      "Best params,  {'ent_coef': 0.005}\n",
      "======Recurrent PPO Validation from:  2019-02-19T00:00:00.000000000 to  2019-05-20T00:00:00.000000000\n",
      "-----------------\n",
      "Total Reward:  -224.29510390758514\n",
      "Total Trades:  900\n",
      "Mean Reward: -224.29510390758514\n",
      "STD reward: 0.0\n",
      "-----------------\n",
      "Total reward at validation for Reccurent PPO -224.29510390758514\n",
      "Sharpe Ratio:  0\n",
      "======Trading from:  2019-05-20T00:00:00.000000000 to  2019-08-19T00:00:00.000000000 Model is :  Rec_PPO\n",
      "Saving to  results/account_value_trade_main_alameda-v9.1.csv\n",
      "previous_total_asset:1639453.4005969255\n",
      "end_total_asset:1546340.4837952738\n",
      "total_asset_change:-93112.9168016517\n",
      "Total cash is: 3.65465556426501$ and total holdings in stocks are 1546336.8291397095$\n",
      "Buy & Hold strategy with previous total asset:  1568166.345989921\n",
      "Total Cost:  3013.1890270318986\n",
      "Total trades:  978\n",
      "Total days in turbulance:  0\n",
      "Sharpe:  -0.19605177232588283\n",
      "=============\n",
      "Total reward for the the window is -48564.49074964365\n",
      "=============\n"
     ]
    },
    {
     "data": {
      "text/html": [
       "\n",
       "                    Syncing run <strong><a href=\"https://wandb.ai/kaanb/FundSimulator/runs/1teho4q3\" target=\"_blank\">lemon-hill-382</a></strong> to <a href=\"https://wandb.ai/kaanb/FundSimulator\" target=\"_blank\">Weights & Biases</a> (<a href=\"https://docs.wandb.com/integrations/jupyter.html\" target=\"_blank\">docs</a>).<br/>\n",
       "\n",
       "                "
      ],
      "text/plain": [
       "<IPython.core.display.HTML object>"
      ]
     },
     "metadata": {},
     "output_type": "display_data"
    },
    {
     "data": {
      "text/html": [
       "<br/>Waiting for W&B process to finish, PID 6744... <strong style=\"color:green\">(success).</strong>"
      ],
      "text/plain": [
       "<IPython.core.display.HTML object>"
      ]
     },
     "metadata": {},
     "output_type": "display_data"
    },
    {
     "data": {
      "application/vnd.jupyter.widget-view+json": {
       "model_id": "",
       "version_major": 2,
       "version_minor": 0
      },
      "text/plain": [
       "VBox(children=(Label(value=' 0.00MB of 0.00MB uploaded (0.00MB deduped)\\r'), FloatProgress(value=1.0, max=1.0)…"
      ]
     },
     "metadata": {},
     "output_type": "display_data"
    },
    {
     "data": {
      "text/html": [
       "<style>\n",
       "    table.wandb td:nth-child(1) { padding: 0 10px; text-align: right }\n",
       "    .wandb-row { display: flex; flex-direction: row; flex-wrap: wrap; width: 100% }\n",
       "    .wandb-col { display: flex; flex-direction: column; flex-basis: 100%; flex: 1; padding: 10px; }\n",
       "    </style>\n",
       "<div class=\"wandb-row\"><div class=\"wandb-col\">\n",
       "<h3>Run history:</h3><br/><table class=\"wandb\"><tr><td>date</td><td>▁</td></tr><tr><td>end_total_asset</td><td>▁</td></tr><tr><td>trade_reward</td><td>▁</td></tr></table><br/></div><div class=\"wandb-col\">\n",
       "<h3>Run summary:</h3><br/><table class=\"wandb\"><tr><td>date</td><td>1566172800000000000</td></tr><tr><td>end_total_asset</td><td>1546340.4838</td></tr><tr><td>trade_reward</td><td>-8.13397</td></tr></table>\n",
       "</div></div>\n",
       "Synced 5 W&B file(s), 0 media file(s), 0 artifact file(s) and 0 other file(s)\n",
       "<br/>Synced <strong style=\"color:#cdcd00\">lemon-hill-382</strong>: <a href=\"https://wandb.ai/kaanb/FundSimulator/runs/1teho4q3\" target=\"_blank\">https://wandb.ai/kaanb/FundSimulator/runs/1teho4q3</a><br/>\n",
       "Find logs at: <code>.\\wandb\\run-20211112_191931-1teho4q3\\logs</code><br/>\n"
      ],
      "text/plain": [
       "<IPython.core.display.HTML object>"
      ]
     },
     "metadata": {},
     "output_type": "display_data"
    },
    {
     "name": "stdout",
     "output_type": "stream",
     "text": [
      "============================================\n",
      "Stocks trading this period is  ['AAL' 'AES' 'AMAT' 'AMD' 'BMY' 'BSX' 'CMCSA' 'COG' 'COTY' 'CSX' 'DVN'\n",
      " 'FCX' 'FE' 'GIS' 'HBAN' 'INTC' 'KEY' 'MRK' 'NEM' 'PCG' 'PFE' 'RF' 'TJX'\n",
      " 'UAA' 'VZ']\n",
      "======Model training from:  2011-01-01 to  2019-05-20T00:00:00.000000000\n",
      "======Recurrent PPO Training for a population of 1========\n",
      "Training time  alameda-v9.1 :  4.900489064057668  minutes\n",
      "Best params,  {'ent_coef': 0.005}\n",
      "======Recurrent PPO Validation from:  2019-05-20T00:00:00.000000000 to  2019-08-19T00:00:00.000000000\n",
      "-----------------\n",
      "Total Reward:  107.58454092498869\n",
      "Total Trades:  1143\n",
      "Mean Reward: 107.58454092498869\n",
      "STD reward: 0.0\n",
      "-----------------\n",
      "Total reward at validation for Reccurent PPO 107.58454092498869\n",
      "Sharpe Ratio:  0\n",
      "======Trading from:  2019-08-19T00:00:00.000000000 to  2019-11-15T00:00:00.000000000 Model is :  Rec_PPO\n",
      "Saving to  results/account_value_trade_main_alameda-v9.1.csv\n",
      "previous_total_asset:1546340.4837952738\n",
      "end_total_asset:1677946.8404673587\n",
      "total_asset_change:131606.3566720849\n",
      "Total cash is: 2.2269734392945386$ and total holdings in stocks are 1677944.6134939194$\n",
      "Buy & Hold strategy with previous total asset:  1675980.4796013667\n",
      "Total Cost:  2102.9324047203054\n",
      "Total trades:  685\n",
      "Total days in turbulance:  0\n",
      "Sharpe:  0.26899037595856073\n",
      "=============\n",
      "Total reward for the the window is -48689.00573097309\n",
      "=============\n"
     ]
    },
    {
     "data": {
      "text/html": [
       "\n",
       "                    Syncing run <strong><a href=\"https://wandb.ai/kaanb/FundSimulator/runs/1ndn33vz\" target=\"_blank\">driven-sky-383</a></strong> to <a href=\"https://wandb.ai/kaanb/FundSimulator\" target=\"_blank\">Weights & Biases</a> (<a href=\"https://docs.wandb.com/integrations/jupyter.html\" target=\"_blank\">docs</a>).<br/>\n",
       "\n",
       "                "
      ],
      "text/plain": [
       "<IPython.core.display.HTML object>"
      ]
     },
     "metadata": {},
     "output_type": "display_data"
    },
    {
     "data": {
      "text/html": [
       "<br/>Waiting for W&B process to finish, PID 5036... <strong style=\"color:green\">(success).</strong>"
      ],
      "text/plain": [
       "<IPython.core.display.HTML object>"
      ]
     },
     "metadata": {},
     "output_type": "display_data"
    },
    {
     "data": {
      "application/vnd.jupyter.widget-view+json": {
       "model_id": "",
       "version_major": 2,
       "version_minor": 0
      },
      "text/plain": [
       "VBox(children=(Label(value=' 0.00MB of 0.00MB uploaded (0.00MB deduped)\\r'), FloatProgress(value=1.0, max=1.0)…"
      ]
     },
     "metadata": {},
     "output_type": "display_data"
    },
    {
     "data": {
      "text/html": [
       "<style>\n",
       "    table.wandb td:nth-child(1) { padding: 0 10px; text-align: right }\n",
       "    .wandb-row { display: flex; flex-direction: row; flex-wrap: wrap; width: 100% }\n",
       "    .wandb-col { display: flex; flex-direction: column; flex-basis: 100%; flex: 1; padding: 10px; }\n",
       "    </style>\n",
       "<div class=\"wandb-row\"><div class=\"wandb-col\">\n",
       "<h3>Run history:</h3><br/><table class=\"wandb\"><tr><td>date</td><td>▁</td></tr><tr><td>end_total_asset</td><td>▁</td></tr><tr><td>trade_reward</td><td>▁</td></tr></table><br/></div><div class=\"wandb-col\">\n",
       "<h3>Run summary:</h3><br/><table class=\"wandb\"><tr><td>date</td><td>1573776000000000000</td></tr><tr><td>end_total_asset</td><td>1677946.84047</td></tr><tr><td>trade_reward</td><td>0.59135</td></tr></table>\n",
       "</div></div>\n",
       "Synced 5 W&B file(s), 0 media file(s), 0 artifact file(s) and 0 other file(s)\n",
       "<br/>Synced <strong style=\"color:#cdcd00\">driven-sky-383</strong>: <a href=\"https://wandb.ai/kaanb/FundSimulator/runs/1ndn33vz\" target=\"_blank\">https://wandb.ai/kaanb/FundSimulator/runs/1ndn33vz</a><br/>\n",
       "Find logs at: <code>.\\wandb\\run-20211112_192439-1ndn33vz\\logs</code><br/>\n"
      ],
      "text/plain": [
       "<IPython.core.display.HTML object>"
      ]
     },
     "metadata": {},
     "output_type": "display_data"
    },
    {
     "name": "stdout",
     "output_type": "stream",
     "text": [
      "============================================\n",
      "Stocks trading this period is  ['BMY' 'COG' 'CSCO' 'CVS' 'EBAY' 'EQT' 'FTI' 'GILD' 'GM' 'GPS' 'HBI' 'KMI'\n",
      " 'KO' 'KR' 'MDLZ' 'MDT' 'MPC' 'NWL' 'OXY' 'PG' 'RRC' 'T' 'TGT' 'WMT' 'WU']\n",
      "======Model training from:  2011-01-01 to  2019-08-19T00:00:00.000000000\n",
      "======Recurrent PPO Training for a population of 1========\n",
      "Training time  alameda-v9.1 :  4.885633603731791  minutes\n",
      "Best params,  {'ent_coef': 0.005}\n",
      "======Recurrent PPO Validation from:  2019-08-19T00:00:00.000000000 to  2019-11-15T00:00:00.000000000\n",
      "-----------------\n",
      "Total Reward:  -221.3486059755087\n",
      "Total Trades:  759\n",
      "Mean Reward: -221.3507665246725\n",
      "STD reward: 0.0\n",
      "-----------------\n",
      "Total reward at validation for Reccurent PPO -221.3486059755087\n",
      "Sharpe Ratio:  0\n",
      "======Trading from:  2019-11-15T00:00:00.000000000 to  2020-02-19T00:00:00.000000000 Model is :  Rec_PPO\n",
      "==============================\n",
      "Previously traded stocks are ['BMY' 'COG' 'CSCO' 'CVS' 'EBAY' 'EQT' 'FTI' 'GILD' 'GM' 'GPS' 'HBI' 'KMI'\n",
      " 'KO' 'KR' 'MDLZ' 'MDT' 'MPC' 'NWL' 'OXY' 'PG' 'RRC' 'T' 'TGT' 'WMT' 'WU']\n",
      "====Closing position changing stocks at day 2019-12-30 00:00:00====\n",
      "New stocks are ['BMY' 'COG' 'CSCO' 'CVS' 'EBAY' 'EQT' 'FTI' 'GILD' 'GM' 'GPS' 'HBI' 'KMI'\n",
      " 'KO' 'KR' 'MDLZ' 'MDT' 'MPC' 'NWL' 'OXY' 'PG' 'RRC' 'T' 'TGT' 'WMT' 'WU']\n",
      "Current dollar is 2328007.485483164\n",
      "==============================\n",
      "Saving to  results/account_value_trade_main_alameda-v9.1.csv\n",
      "previous_total_asset:1677946.8404673587\n",
      "end_total_asset:2326234.2094234917\n",
      "total_asset_change:648287.368956133\n",
      "Total cash is: 2218665.1381067727$ and total holdings in stocks are 107569.07131671906$\n",
      "Buy & Hold strategy with previous total asset:  1710047.109457436\n",
      "Total Cost:  5056.055309731475\n",
      "Total trades:  782\n",
      "Total days in turbulance:  0\n",
      "Sharpe:  0.3141392757636652\n",
      "=============\n",
      "Total reward for the the window is -58614.944955216255\n",
      "=============\n"
     ]
    },
    {
     "data": {
      "text/html": [
       "\n",
       "                    Syncing run <strong><a href=\"https://wandb.ai/kaanb/FundSimulator/runs/3rrwqse7\" target=\"_blank\">fiery-sky-384</a></strong> to <a href=\"https://wandb.ai/kaanb/FundSimulator\" target=\"_blank\">Weights & Biases</a> (<a href=\"https://docs.wandb.com/integrations/jupyter.html\" target=\"_blank\">docs</a>).<br/>\n",
       "\n",
       "                "
      ],
      "text/plain": [
       "<IPython.core.display.HTML object>"
      ]
     },
     "metadata": {},
     "output_type": "display_data"
    },
    {
     "data": {
      "text/html": [
       "<br/>Waiting for W&B process to finish, PID 11072... <strong style=\"color:green\">(success).</strong>"
      ],
      "text/plain": [
       "<IPython.core.display.HTML object>"
      ]
     },
     "metadata": {},
     "output_type": "display_data"
    },
    {
     "data": {
      "application/vnd.jupyter.widget-view+json": {
       "model_id": "",
       "version_major": 2,
       "version_minor": 0
      },
      "text/plain": [
       "VBox(children=(Label(value=' 0.00MB of 0.00MB uploaded (0.00MB deduped)\\r'), FloatProgress(value=1.0, max=1.0)…"
      ]
     },
     "metadata": {},
     "output_type": "display_data"
    },
    {
     "data": {
      "text/html": [
       "<style>\n",
       "    table.wandb td:nth-child(1) { padding: 0 10px; text-align: right }\n",
       "    .wandb-row { display: flex; flex-direction: row; flex-wrap: wrap; width: 100% }\n",
       "    .wandb-col { display: flex; flex-direction: column; flex-basis: 100%; flex: 1; padding: 10px; }\n",
       "    </style>\n",
       "<div class=\"wandb-row\"><div class=\"wandb-col\">\n",
       "<h3>Run history:</h3><br/><table class=\"wandb\"><tr><td>date</td><td>▁</td></tr><tr><td>end_total_asset</td><td>▁</td></tr><tr><td>trade_reward</td><td>▁</td></tr></table><br/></div><div class=\"wandb-col\">\n",
       "<h3>Run summary:</h3><br/><table class=\"wandb\"><tr><td>date</td><td>1582070400000000000</td></tr><tr><td>end_total_asset</td><td>2326234.20942</td></tr><tr><td>trade_reward</td><td>-288.76053</td></tr></table>\n",
       "</div></div>\n",
       "Synced 5 W&B file(s), 0 media file(s), 0 artifact file(s) and 0 other file(s)\n",
       "<br/>Synced <strong style=\"color:#cdcd00\">fiery-sky-384</strong>: <a href=\"https://wandb.ai/kaanb/FundSimulator/runs/3rrwqse7\" target=\"_blank\">https://wandb.ai/kaanb/FundSimulator/runs/3rrwqse7</a><br/>\n",
       "Find logs at: <code>.\\wandb\\run-20211112_192945-3rrwqse7\\logs</code><br/>\n"
      ],
      "text/plain": [
       "<IPython.core.display.HTML object>"
      ]
     },
     "metadata": {},
     "output_type": "display_data"
    },
    {
     "name": "stdout",
     "output_type": "stream",
     "text": [
      "============================================\n",
      "Stocks trading this period is  ['BMY' 'COG' 'CSCO' 'CVS' 'EBAY' 'EQT' 'FTI' 'GILD' 'GM' 'GPS' 'HBI' 'KMI'\n",
      " 'KO' 'KR' 'MDLZ' 'MDT' 'MPC' 'NWL' 'OXY' 'PG' 'RRC' 'T' 'TGT' 'WMT' 'WU']\n",
      "======Model training from:  2011-01-01 to  2019-11-15T00:00:00.000000000\n",
      "======Recurrent PPO Training for a population of 1========\n",
      "Training time  alameda-v9.1 :  4.90350178082784  minutes\n",
      "Best params,  {'ent_coef': 0.005}\n",
      "======Recurrent PPO Validation from:  2019-11-15T00:00:00.000000000 to  2020-02-19T00:00:00.000000000\n",
      "Closing positions\n",
      "Closing positions\n",
      "Closing positions\n",
      "Closing positions\n",
      "Closing positions\n",
      "Closing positions\n",
      "Closing positions\n",
      "Closing positions\n",
      "Closing positions\n",
      "Closing positions\n",
      "Closing positions\n",
      "-----------------\n",
      "Total Reward:  -5083.243505249731\n",
      "Total Trades:  790\n",
      "Mean Reward: -5083.243505249731\n",
      "STD reward: 0.0\n",
      "-----------------\n",
      "Total reward at validation for Reccurent PPO -5083.243505249731\n",
      "Sharpe Ratio:  0\n",
      "======Trading from:  2020-02-19T00:00:00.000000000 to  2020-05-19T00:00:00.000000000 Model is :  Rec_PPO\n",
      "Saving to  results/account_value_trade_main_alameda-v9.1.csv\n",
      "previous_total_asset:2326234.2094234917\n",
      "end_total_asset:2397612.1878860905\n",
      "total_asset_change:71377.97846259875\n",
      "Total cash is: 527756.3697575048$ and total holdings in stocks are 1869855.8181285858$\n",
      "Buy & Hold strategy with previous total asset:  2147122.8268862907\n",
      "Total Cost:  3448.8231473922756\n",
      "Total trades:  815\n",
      "Total days in turbulance:  0\n",
      "Sharpe:  0.02553788996547921\n",
      "=============\n",
      "Total reward for the the window is -54804.04087112984\n",
      "=============\n"
     ]
    },
    {
     "data": {
      "text/html": [
       "\n",
       "                    Syncing run <strong><a href=\"https://wandb.ai/kaanb/FundSimulator/runs/1h8h2a3b\" target=\"_blank\">clean-surf-385</a></strong> to <a href=\"https://wandb.ai/kaanb/FundSimulator\" target=\"_blank\">Weights & Biases</a> (<a href=\"https://docs.wandb.com/integrations/jupyter.html\" target=\"_blank\">docs</a>).<br/>\n",
       "\n",
       "                "
      ],
      "text/plain": [
       "<IPython.core.display.HTML object>"
      ]
     },
     "metadata": {},
     "output_type": "display_data"
    },
    {
     "data": {
      "text/html": [
       "<br/>Waiting for W&B process to finish, PID 20580... <strong style=\"color:green\">(success).</strong>"
      ],
      "text/plain": [
       "<IPython.core.display.HTML object>"
      ]
     },
     "metadata": {},
     "output_type": "display_data"
    },
    {
     "data": {
      "application/vnd.jupyter.widget-view+json": {
       "model_id": "",
       "version_major": 2,
       "version_minor": 0
      },
      "text/plain": [
       "VBox(children=(Label(value=' 0.00MB of 0.00MB uploaded (0.00MB deduped)\\r'), FloatProgress(value=1.0, max=1.0)…"
      ]
     },
     "metadata": {},
     "output_type": "display_data"
    },
    {
     "data": {
      "text/html": [
       "<style>\n",
       "    table.wandb td:nth-child(1) { padding: 0 10px; text-align: right }\n",
       "    .wandb-row { display: flex; flex-direction: row; flex-wrap: wrap; width: 100% }\n",
       "    .wandb-col { display: flex; flex-direction: column; flex-basis: 100%; flex: 1; padding: 10px; }\n",
       "    </style>\n",
       "<div class=\"wandb-row\"><div class=\"wandb-col\">\n",
       "<h3>Run history:</h3><br/><table class=\"wandb\"><tr><td>date</td><td>▁</td></tr><tr><td>end_total_asset</td><td>▁</td></tr><tr><td>trade_reward</td><td>▁</td></tr></table><br/></div><div class=\"wandb-col\">\n",
       "<h3>Run summary:</h3><br/><table class=\"wandb\"><tr><td>date</td><td>1589846400000000000</td></tr><tr><td>end_total_asset</td><td>2397612.18789</td></tr><tr><td>trade_reward</td><td>38.16742</td></tr></table>\n",
       "</div></div>\n",
       "Synced 5 W&B file(s), 0 media file(s), 0 artifact file(s) and 0 other file(s)\n",
       "<br/>Synced <strong style=\"color:#cdcd00\">clean-surf-385</strong>: <a href=\"https://wandb.ai/kaanb/FundSimulator/runs/1h8h2a3b\" target=\"_blank\">https://wandb.ai/kaanb/FundSimulator/runs/1h8h2a3b</a><br/>\n",
       "Find logs at: <code>.\\wandb\\run-20211112_193453-1h8h2a3b\\logs</code><br/>\n"
      ],
      "text/plain": [
       "<IPython.core.display.HTML object>"
      ]
     },
     "metadata": {},
     "output_type": "display_data"
    },
    {
     "name": "stdout",
     "output_type": "stream",
     "text": [
      "============================================\n",
      "Stocks trading this period is  ['BMY' 'COG' 'CSCO' 'CVS' 'EBAY' 'EQT' 'FTI' 'GILD' 'GM' 'GPS' 'HBI' 'KMI'\n",
      " 'KO' 'KR' 'MDLZ' 'MDT' 'MPC' 'NWL' 'OXY' 'PG' 'RRC' 'T' 'TGT' 'WMT' 'WU']\n",
      "======Model training from:  2011-01-01 to  2020-02-19T00:00:00.000000000\n",
      "======Recurrent PPO Training for a population of 1========\n",
      "Training time  alameda-v9.1 :  5.323301108678182  minutes\n",
      "Best params,  {'ent_coef': 0.005}\n",
      "======Recurrent PPO Validation from:  2020-02-19T00:00:00.000000000 to  2020-05-19T00:00:00.000000000\n",
      "-----------------\n",
      "Total Reward:  750.9138253033161\n",
      "Total Trades:  1078\n",
      "Mean Reward: 750.9138253033161\n",
      "STD reward: 0.0\n",
      "-----------------\n",
      "Total reward at validation for Reccurent PPO 750.9138253033161\n",
      "Sharpe Ratio:  0\n",
      "======Trading from:  2020-05-19T00:00:00.000000000 to  2020-08-18T00:00:00.000000000 Model is :  Rec_PPO\n",
      "Saving to  results/account_value_trade_main_alameda-v9.1.csv\n",
      "previous_total_asset:2397612.1878860905\n",
      "end_total_asset:2651289.4288280862\n",
      "total_asset_change:253677.24094199575\n",
      "Total cash is: 4.665438975704092$ and total holdings in stocks are 2651284.7633891106$\n",
      "Buy & Hold strategy with previous total asset:  2881022.6989911725\n",
      "Total Cost:  3642.618760115147\n",
      "Total trades:  943\n",
      "Total days in turbulance:  0\n",
      "Sharpe:  0.2573611948209563\n",
      "=============\n",
      "Total reward for the the window is -57445.3082909449\n",
      "=============\n"
     ]
    },
    {
     "data": {
      "text/html": [
       "\n",
       "                    Syncing run <strong><a href=\"https://wandb.ai/kaanb/FundSimulator/runs/3n2qduvi\" target=\"_blank\">playful-leaf-386</a></strong> to <a href=\"https://wandb.ai/kaanb/FundSimulator\" target=\"_blank\">Weights & Biases</a> (<a href=\"https://docs.wandb.com/integrations/jupyter.html\" target=\"_blank\">docs</a>).<br/>\n",
       "\n",
       "                "
      ],
      "text/plain": [
       "<IPython.core.display.HTML object>"
      ]
     },
     "metadata": {},
     "output_type": "display_data"
    },
    {
     "data": {
      "text/html": [
       "<br/>Waiting for W&B process to finish, PID 5592... <strong style=\"color:green\">(success).</strong>"
      ],
      "text/plain": [
       "<IPython.core.display.HTML object>"
      ]
     },
     "metadata": {},
     "output_type": "display_data"
    },
    {
     "data": {
      "application/vnd.jupyter.widget-view+json": {
       "model_id": "",
       "version_major": 2,
       "version_minor": 0
      },
      "text/plain": [
       "VBox(children=(Label(value=' 0.00MB of 0.00MB uploaded (0.00MB deduped)\\r'), FloatProgress(value=1.0, max=1.0)…"
      ]
     },
     "metadata": {},
     "output_type": "display_data"
    },
    {
     "data": {
      "text/html": [
       "<style>\n",
       "    table.wandb td:nth-child(1) { padding: 0 10px; text-align: right }\n",
       "    .wandb-row { display: flex; flex-direction: row; flex-wrap: wrap; width: 100% }\n",
       "    .wandb-col { display: flex; flex-direction: column; flex-basis: 100%; flex: 1; padding: 10px; }\n",
       "    </style>\n",
       "<div class=\"wandb-row\"><div class=\"wandb-col\">\n",
       "<h3>Run history:</h3><br/><table class=\"wandb\"><tr><td>date</td><td>▁</td></tr><tr><td>end_total_asset</td><td>▁</td></tr><tr><td>trade_reward</td><td>▁</td></tr></table><br/></div><div class=\"wandb-col\">\n",
       "<h3>Run summary:</h3><br/><table class=\"wandb\"><tr><td>date</td><td>1597708800000000000</td></tr><tr><td>end_total_asset</td><td>2651289.42883</td></tr><tr><td>trade_reward</td><td>-54.40515</td></tr></table>\n",
       "</div></div>\n",
       "Synced 5 W&B file(s), 0 media file(s), 0 artifact file(s) and 0 other file(s)\n",
       "<br/>Synced <strong style=\"color:#cdcd00\">playful-leaf-386</strong>: <a href=\"https://wandb.ai/kaanb/FundSimulator/runs/3n2qduvi\" target=\"_blank\">https://wandb.ai/kaanb/FundSimulator/runs/3n2qduvi</a><br/>\n",
       "Find logs at: <code>.\\wandb\\run-20211112_194025-3n2qduvi\\logs</code><br/>\n"
      ],
      "text/plain": [
       "<IPython.core.display.HTML object>"
      ]
     },
     "metadata": {},
     "output_type": "display_data"
    },
    {
     "name": "stdout",
     "output_type": "stream",
     "text": [
      "============================================\n",
      "Stocks trading this period is  ['BMY' 'COG' 'CSCO' 'CVS' 'EBAY' 'EQT' 'FTI' 'GILD' 'GM' 'GPS' 'HBI' 'KMI'\n",
      " 'KO' 'KR' 'MDLZ' 'MDT' 'MPC' 'NWL' 'OXY' 'PG' 'RRC' 'T' 'TGT' 'WMT' 'WU']\n",
      "======Model training from:  2011-01-01 to  2020-05-19T00:00:00.000000000\n",
      "======Recurrent PPO Training for a population of 1========\n",
      "Training time  alameda-v9.1 :  5.340944584210714  minutes\n",
      "Best params,  {'ent_coef': 0.005}\n",
      "======Recurrent PPO Validation from:  2020-05-19T00:00:00.000000000 to  2020-08-18T00:00:00.000000000\n",
      "-----------------\n",
      "Total Reward:  -1108.7008278369904\n",
      "Total Trades:  995\n",
      "Mean Reward: -1108.7008278369904\n",
      "STD reward: 0.0\n",
      "-----------------\n",
      "Total reward at validation for Reccurent PPO -1108.7008278369904\n",
      "Sharpe Ratio:  0\n",
      "======Trading from:  2020-08-18T00:00:00.000000000 to  2020-11-16T00:00:00.000000000 Model is :  Rec_PPO\n",
      "Saving to  results/account_value_trade_main_alameda-v9.1.csv\n",
      "previous_total_asset:2651289.4288280862\n",
      "end_total_asset:2686146.2534549204\n",
      "total_asset_change:34856.82462683413\n",
      "Total cash is: 2531661.205351588$ and total holdings in stocks are 154485.04810333252$\n",
      "Buy & Hold strategy with previous total asset:  2700982.1750893835\n",
      "Total Cost:  4790.322939174655\n",
      "Total trades:  965\n",
      "Total days in turbulance:  150\n",
      "Sharpe:  0.07355119551957719\n",
      "=============\n",
      "Total reward for the the window is -56222.40563051542\n",
      "=============\n"
     ]
    },
    {
     "data": {
      "text/html": [
       "\n",
       "                    Syncing run <strong><a href=\"https://wandb.ai/kaanb/FundSimulator/runs/2707ectv\" target=\"_blank\">rose-breeze-387</a></strong> to <a href=\"https://wandb.ai/kaanb/FundSimulator\" target=\"_blank\">Weights & Biases</a> (<a href=\"https://docs.wandb.com/integrations/jupyter.html\" target=\"_blank\">docs</a>).<br/>\n",
       "\n",
       "                "
      ],
      "text/plain": [
       "<IPython.core.display.HTML object>"
      ]
     },
     "metadata": {},
     "output_type": "display_data"
    },
    {
     "data": {
      "text/html": [
       "<br/>Waiting for W&B process to finish, PID 12712... <strong style=\"color:green\">(success).</strong>"
      ],
      "text/plain": [
       "<IPython.core.display.HTML object>"
      ]
     },
     "metadata": {},
     "output_type": "display_data"
    },
    {
     "data": {
      "application/vnd.jupyter.widget-view+json": {
       "model_id": "",
       "version_major": 2,
       "version_minor": 0
      },
      "text/plain": [
       "VBox(children=(Label(value=' 0.00MB of 0.00MB uploaded (0.00MB deduped)\\r'), FloatProgress(value=1.0, max=1.0)…"
      ]
     },
     "metadata": {},
     "output_type": "display_data"
    },
    {
     "data": {
      "text/html": [
       "<style>\n",
       "    table.wandb td:nth-child(1) { padding: 0 10px; text-align: right }\n",
       "    .wandb-row { display: flex; flex-direction: row; flex-wrap: wrap; width: 100% }\n",
       "    .wandb-col { display: flex; flex-direction: column; flex-basis: 100%; flex: 1; padding: 10px; }\n",
       "    </style>\n",
       "<div class=\"wandb-row\"><div class=\"wandb-col\">\n",
       "<h3>Run history:</h3><br/><table class=\"wandb\"><tr><td>date</td><td>▁</td></tr><tr><td>end_total_asset</td><td>▁</td></tr><tr><td>trade_reward</td><td>▁</td></tr></table><br/></div><div class=\"wandb-col\">\n",
       "<h3>Run summary:</h3><br/><table class=\"wandb\"><tr><td>date</td><td>1605484800000000000</td></tr><tr><td>end_total_asset</td><td>2686146.25345</td></tr><tr><td>trade_reward</td><td>-3.69292</td></tr></table>\n",
       "</div></div>\n",
       "Synced 5 W&B file(s), 0 media file(s), 0 artifact file(s) and 0 other file(s)\n",
       "<br/>Synced <strong style=\"color:#cdcd00\">rose-breeze-387</strong>: <a href=\"https://wandb.ai/kaanb/FundSimulator/runs/2707ectv\" target=\"_blank\">https://wandb.ai/kaanb/FundSimulator/runs/2707ectv</a><br/>\n",
       "Find logs at: <code>.\\wandb\\run-20211112_194559-2707ectv\\logs</code><br/>\n"
      ],
      "text/plain": [
       "<IPython.core.display.HTML object>"
      ]
     },
     "metadata": {},
     "output_type": "display_data"
    },
    {
     "name": "stdout",
     "output_type": "stream",
     "text": [
      "============================================\n",
      "Stocks trading this period is  ['AMD' 'COG' 'CVS' 'EQT' 'FE' 'FTI' 'GILD' 'IVZ' 'JNJ' 'KHC' 'KR' 'LUV'\n",
      " 'MAC' 'MDLZ' 'NEM' 'NFLX' 'NVDA' 'OXY' 'QCOM' 'RF' 'SCHW' 'TSLA' 'V'\n",
      " 'WFC' 'WMB']\n",
      "======Model training from:  2011-01-01 to  2020-08-18T00:00:00.000000000\n",
      "======Recurrent PPO Training for a population of 1========\n",
      "Training time  alameda-v9.1 :  5.351654040813446  minutes\n",
      "Best params,  {'ent_coef': 0.005}\n",
      "======Recurrent PPO Validation from:  2020-08-18T00:00:00.000000000 to  2020-11-16T00:00:00.000000000\n",
      "-----------------\n",
      "Total Reward:  130.34867661818862\n",
      "Total Trades:  861\n",
      "Mean Reward: 130.34867661818862\n",
      "STD reward: 0.0\n",
      "-----------------\n",
      "Total reward at validation for Reccurent PPO 130.34867661818862\n",
      "Sharpe Ratio:  0\n",
      "======Trading from:  2020-11-16T00:00:00.000000000 to  2021-02-19T00:00:00.000000000 Model is :  Rec_PPO\n",
      "==============================\n",
      "Previously traded stocks are ['AMD' 'COG' 'CVS' 'EQT' 'FE' 'FTI' 'GILD' 'IVZ' 'JNJ' 'KHC' 'KR' 'LUV'\n",
      " 'MAC' 'MDLZ' 'NEM' 'NFLX' 'NVDA' 'OXY' 'QCOM' 'RF' 'SCHW' 'TSLA' 'V'\n",
      " 'WFC' 'WMB']\n",
      "====Closing position changing stocks at day 2020-12-29 00:00:00====\n",
      "New stocks are ['AMD' 'COG' 'CVS' 'EQT' 'FE' 'FTI' 'GILD' 'IVZ' 'JNJ' 'KHC' 'KR' 'LUV'\n",
      " 'MAC' 'MDLZ' 'NEM' 'NFLX' 'NVDA' 'OXY' 'QCOM' 'RF' 'SCHW' 'TSLA' 'V'\n",
      " 'WFC' 'WMB']\n",
      "Current dollar is 4179406.25399451\n",
      "==============================\n",
      "Saving to  results/account_value_trade_main_alameda-v9.1.csv\n",
      "previous_total_asset:2686146.2534549204\n",
      "end_total_asset:4099534.879926348\n",
      "total_asset_change:1413388.6264714277\n",
      "Total cash is: 1618891.0151039602$ and total holdings in stocks are 2480643.8648223877$\n",
      "Buy & Hold strategy with previous total asset:  2914836.336117629\n",
      "Total Cost:  9613.610562419875\n",
      "Total trades:  912\n",
      "Total days in turbulance:  0\n",
      "Sharpe:  0.24406614979634245\n",
      "=============\n",
      "Total reward for the the window is -98746.18958257278\n",
      "=============\n"
     ]
    },
    {
     "data": {
      "text/html": [
       "\n",
       "                    Syncing run <strong><a href=\"https://wandb.ai/kaanb/FundSimulator/runs/228hvpyb\" target=\"_blank\">generous-capybara-388</a></strong> to <a href=\"https://wandb.ai/kaanb/FundSimulator\" target=\"_blank\">Weights & Biases</a> (<a href=\"https://docs.wandb.com/integrations/jupyter.html\" target=\"_blank\">docs</a>).<br/>\n",
       "\n",
       "                "
      ],
      "text/plain": [
       "<IPython.core.display.HTML object>"
      ]
     },
     "metadata": {},
     "output_type": "display_data"
    },
    {
     "data": {
      "text/html": [
       "<br/>Waiting for W&B process to finish, PID 9936... <strong style=\"color:green\">(success).</strong>"
      ],
      "text/plain": [
       "<IPython.core.display.HTML object>"
      ]
     },
     "metadata": {},
     "output_type": "display_data"
    },
    {
     "data": {
      "application/vnd.jupyter.widget-view+json": {
       "model_id": "",
       "version_major": 2,
       "version_minor": 0
      },
      "text/plain": [
       "VBox(children=(Label(value=' 0.00MB of 0.00MB uploaded (0.00MB deduped)\\r'), FloatProgress(value=1.0, max=1.0)…"
      ]
     },
     "metadata": {},
     "output_type": "display_data"
    },
    {
     "data": {
      "text/html": [
       "<style>\n",
       "    table.wandb td:nth-child(1) { padding: 0 10px; text-align: right }\n",
       "    .wandb-row { display: flex; flex-direction: row; flex-wrap: wrap; width: 100% }\n",
       "    .wandb-col { display: flex; flex-direction: column; flex-basis: 100%; flex: 1; padding: 10px; }\n",
       "    </style>\n",
       "<div class=\"wandb-row\"><div class=\"wandb-col\">\n",
       "<h3>Run history:</h3><br/><table class=\"wandb\"><tr><td>date</td><td>▁</td></tr><tr><td>end_total_asset</td><td>▁</td></tr><tr><td>trade_reward</td><td>▁</td></tr></table><br/></div><div class=\"wandb-col\">\n",
       "<h3>Run summary:</h3><br/><table class=\"wandb\"><tr><td>date</td><td>1613692800000000000</td></tr><tr><td>end_total_asset</td><td>4099534.87993</td></tr><tr><td>trade_reward</td><td>-1183.00635</td></tr></table>\n",
       "</div></div>\n",
       "Synced 5 W&B file(s), 0 media file(s), 0 artifact file(s) and 0 other file(s)\n",
       "<br/>Synced <strong style=\"color:#cdcd00\">generous-capybara-388</strong>: <a href=\"https://wandb.ai/kaanb/FundSimulator/runs/228hvpyb\" target=\"_blank\">https://wandb.ai/kaanb/FundSimulator/runs/228hvpyb</a><br/>\n",
       "Find logs at: <code>.\\wandb\\run-20211112_195134-228hvpyb\\logs</code><br/>\n"
      ],
      "text/plain": [
       "<IPython.core.display.HTML object>"
      ]
     },
     "metadata": {},
     "output_type": "display_data"
    },
    {
     "name": "stdout",
     "output_type": "stream",
     "text": [
      "============================================\n",
      "Stocks trading this period is  ['AMD' 'COG' 'CVS' 'EQT' 'FE' 'FTI' 'GILD' 'IVZ' 'JNJ' 'KHC' 'KR' 'LUV'\n",
      " 'MAC' 'MDLZ' 'NEM' 'NFLX' 'NVDA' 'OXY' 'QCOM' 'RF' 'SCHW' 'TSLA' 'V'\n",
      " 'WFC' 'WMB']\n",
      "======Model training from:  2011-01-01 to  2020-11-16T00:00:00.000000000\n",
      "======Recurrent PPO Training for a population of 1========\n",
      "Training time  alameda-v9.1 :  5.386644228299459  minutes\n",
      "Best params,  {'ent_coef': 0.005}\n",
      "======Recurrent PPO Validation from:  2020-11-16T00:00:00.000000000 to  2021-02-19T00:00:00.000000000\n",
      "Closing positions\n",
      "Closing positions\n",
      "Closing positions\n",
      "Closing positions\n",
      "Closing positions\n",
      "Closing positions\n",
      "Closing positions\n",
      "Closing positions\n",
      "Closing positions\n",
      "Closing positions\n",
      "Closing positions\n",
      "-----------------\n",
      "Total Reward:  -7700.026377916336\n",
      "Total Trades:  960\n",
      "Mean Reward: -7560.539224982262\n",
      "STD reward: 0.0\n",
      "-----------------\n",
      "Total reward at validation for Reccurent PPO -7700.026377916336\n",
      "Sharpe Ratio:  0\n",
      "======Trading from:  2021-02-19T00:00:00.000000000 to  2021-05-20T00:00:00.000000000 Model is :  Rec_PPO\n",
      "Saving to  results/account_value_trade_main_alameda-v9.1.csv\n",
      "previous_total_asset:4099534.879926348\n",
      "end_total_asset:4114075.991613965\n",
      "total_asset_change:14541.11168761691\n",
      "Total cash is: 10.0082250640869$ and total holdings in stocks are 4114065.9833889008$\n",
      "Buy & Hold strategy with previous total asset:  4449472.192365135\n",
      "Total Cost:  6079.089306872369\n",
      "Total trades:  790\n",
      "Total days in turbulance:  0\n",
      "Sharpe:  0.013307274924741631\n",
      "=============\n",
      "Total reward for the the window is -101582.85157612106\n",
      "=============\n"
     ]
    },
    {
     "data": {
      "text/html": [
       "\n",
       "                    Syncing run <strong><a href=\"https://wandb.ai/kaanb/FundSimulator/runs/3lrs3zu9\" target=\"_blank\">daily-plant-389</a></strong> to <a href=\"https://wandb.ai/kaanb/FundSimulator\" target=\"_blank\">Weights & Biases</a> (<a href=\"https://docs.wandb.com/integrations/jupyter.html\" target=\"_blank\">docs</a>).<br/>\n",
       "\n",
       "                "
      ],
      "text/plain": [
       "<IPython.core.display.HTML object>"
      ]
     },
     "metadata": {},
     "output_type": "display_data"
    },
    {
     "data": {
      "text/html": [
       "<br/>Waiting for W&B process to finish, PID 20992... <strong style=\"color:green\">(success).</strong>"
      ],
      "text/plain": [
       "<IPython.core.display.HTML object>"
      ]
     },
     "metadata": {},
     "output_type": "display_data"
    },
    {
     "data": {
      "application/vnd.jupyter.widget-view+json": {
       "model_id": "",
       "version_major": 2,
       "version_minor": 0
      },
      "text/plain": [
       "VBox(children=(Label(value=' 0.00MB of 0.00MB uploaded (0.00MB deduped)\\r'), FloatProgress(value=0.0, max=1.0)…"
      ]
     },
     "metadata": {},
     "output_type": "display_data"
    },
    {
     "data": {
      "text/html": [
       "<style>\n",
       "    table.wandb td:nth-child(1) { padding: 0 10px; text-align: right }\n",
       "    .wandb-row { display: flex; flex-direction: row; flex-wrap: wrap; width: 100% }\n",
       "    .wandb-col { display: flex; flex-direction: column; flex-basis: 100%; flex: 1; padding: 10px; }\n",
       "    </style>\n",
       "<div class=\"wandb-row\"><div class=\"wandb-col\">\n",
       "<h3>Run history:</h3><br/><table class=\"wandb\"><tr><td>date</td><td>▁</td></tr><tr><td>end_total_asset</td><td>▁</td></tr><tr><td>trade_reward</td><td>▁</td></tr></table><br/></div><div class=\"wandb-col\">\n",
       "<h3>Run summary:</h3><br/><table class=\"wandb\"><tr><td>date</td><td>1621468800000000000</td></tr><tr><td>end_total_asset</td><td>4114075.99161</td></tr><tr><td>trade_reward</td><td>-69.45296</td></tr></table>\n",
       "</div></div>\n",
       "Synced 5 W&B file(s), 0 media file(s), 0 artifact file(s) and 0 other file(s)\n",
       "<br/>Synced <strong style=\"color:#cdcd00\">daily-plant-389</strong>: <a href=\"https://wandb.ai/kaanb/FundSimulator/runs/3lrs3zu9\" target=\"_blank\">https://wandb.ai/kaanb/FundSimulator/runs/3lrs3zu9</a><br/>\n",
       "Find logs at: <code>.\\wandb\\run-20211112_195712-3lrs3zu9\\logs</code><br/>\n"
      ],
      "text/plain": [
       "<IPython.core.display.HTML object>"
      ]
     },
     "metadata": {},
     "output_type": "display_data"
    },
    {
     "name": "stdout",
     "output_type": "stream",
     "text": [
      "============================================\n",
      "Stocks trading this period is  ['AMD' 'COG' 'CVS' 'EQT' 'FE' 'FTI' 'GILD' 'IVZ' 'JNJ' 'KHC' 'KR' 'LUV'\n",
      " 'MAC' 'MDLZ' 'NEM' 'NFLX' 'NVDA' 'OXY' 'QCOM' 'RF' 'SCHW' 'TSLA' 'V'\n",
      " 'WFC' 'WMB']\n",
      "======Model training from:  2011-01-01 to  2021-02-19T00:00:00.000000000\n",
      "======Recurrent PPO Training for a population of 1========\n",
      "Training time  alameda-v9.1 :  5.340818456808726  minutes\n",
      "Best params,  {'ent_coef': 0.005}\n",
      "======Recurrent PPO Validation from:  2021-02-19T00:00:00.000000000 to  2021-05-20T00:00:00.000000000\n",
      "-----------------\n",
      "Total Reward:  -925.5321799591184\n",
      "Total Trades:  656\n",
      "Mean Reward: -925.5321799591184\n",
      "STD reward: 0.0\n",
      "-----------------\n",
      "Total reward at validation for Reccurent PPO -925.5321799591184\n",
      "Sharpe Ratio:  0\n",
      "======Trading from:  2021-05-20T00:00:00.000000000 to  2021-08-19T00:00:00.000000000 Model is :  Rec_PPO\n",
      "Saving to  results/account_value_trade_main_alameda-v9.1.csv\n",
      "previous_total_asset:4114075.991613965\n",
      "end_total_asset:4308427.727949969\n",
      "total_asset_change:194351.73633600352\n",
      "Total cash is: 2.1618498482947466$ and total holdings in stocks are 4308425.566100121$\n",
      "Buy & Hold strategy with previous total asset:  4107026.9213731373\n",
      "Total Cost:  3768.615499723908\n",
      "Total trades:  601\n",
      "Total days in turbulance:  0\n",
      "Sharpe:  0.168121517705582\n",
      "=============\n",
      "Total reward for the the window is -100915.96455583116\n",
      "=============\n"
     ]
    },
    {
     "data": {
      "text/html": [
       "\n",
       "                    Syncing run <strong><a href=\"https://wandb.ai/kaanb/FundSimulator/runs/l4u0y10f\" target=\"_blank\">likely-forest-390</a></strong> to <a href=\"https://wandb.ai/kaanb/FundSimulator\" target=\"_blank\">Weights & Biases</a> (<a href=\"https://docs.wandb.com/integrations/jupyter.html\" target=\"_blank\">docs</a>).<br/>\n",
       "\n",
       "                "
      ],
      "text/plain": [
       "<IPython.core.display.HTML object>"
      ]
     },
     "metadata": {},
     "output_type": "display_data"
    },
    {
     "data": {
      "text/html": [
       "<br/>Waiting for W&B process to finish, PID 20940... <strong style=\"color:green\">(success).</strong>"
      ],
      "text/plain": [
       "<IPython.core.display.HTML object>"
      ]
     },
     "metadata": {},
     "output_type": "display_data"
    },
    {
     "data": {
      "application/vnd.jupyter.widget-view+json": {
       "model_id": "",
       "version_major": 2,
       "version_minor": 0
      },
      "text/plain": [
       "VBox(children=(Label(value=' 0.00MB of 0.00MB uploaded (0.00MB deduped)\\r'), FloatProgress(value=1.0, max=1.0)…"
      ]
     },
     "metadata": {},
     "output_type": "display_data"
    },
    {
     "data": {
      "text/html": [
       "<style>\n",
       "    table.wandb td:nth-child(1) { padding: 0 10px; text-align: right }\n",
       "    .wandb-row { display: flex; flex-direction: row; flex-wrap: wrap; width: 100% }\n",
       "    .wandb-col { display: flex; flex-direction: column; flex-basis: 100%; flex: 1; padding: 10px; }\n",
       "    </style>\n",
       "<div class=\"wandb-row\"><div class=\"wandb-col\">\n",
       "<h3>Run history:</h3><br/><table class=\"wandb\"><tr><td>date</td><td>▁</td></tr><tr><td>end_total_asset</td><td>▁</td></tr><tr><td>trade_reward</td><td>▁</td></tr></table><br/></div><div class=\"wandb-col\">\n",
       "<h3>Run summary:</h3><br/><table class=\"wandb\"><tr><td>date</td><td>1629331200000000000</td></tr><tr><td>end_total_asset</td><td>4308427.72795</td></tr><tr><td>trade_reward</td><td>34.30508</td></tr></table>\n",
       "</div></div>\n",
       "Synced 5 W&B file(s), 0 media file(s), 0 artifact file(s) and 0 other file(s)\n",
       "<br/>Synced <strong style=\"color:#cdcd00\">likely-forest-390</strong>: <a href=\"https://wandb.ai/kaanb/FundSimulator/runs/l4u0y10f\" target=\"_blank\">https://wandb.ai/kaanb/FundSimulator/runs/l4u0y10f</a><br/>\n",
       "Find logs at: <code>.\\wandb\\run-20211112_200246-l4u0y10f\\logs</code><br/>\n"
      ],
      "text/plain": [
       "<IPython.core.display.HTML object>"
      ]
     },
     "metadata": {},
     "output_type": "display_data"
    },
    {
     "name": "stdout",
     "output_type": "stream",
     "text": [
      "Ensemble Strategy took:  190.28480036258696  minutes\n"
     ]
    }
   ],
   "source": [
    "trainer.cluster(False, period=365, number_of_clusters=5, stocks_per_cluster=5)"
   ]
  },
  {
   "cell_type": "code",
   "execution_count": 60,
   "metadata": {},
   "outputs": [],
   "source": [
    "m = pd.read_csv('./datasets/.csv')"
   ]
  },
  {
   "cell_type": "code",
   "execution_count": 102,
   "metadata": {},
   "outputs": [
    {
     "data": {
      "text/plain": [
       "Timestamp('2012-01-03 00:00:00')"
      ]
     },
     "execution_count": 102,
     "metadata": {},
     "output_type": "execute_result"
    }
   ],
   "source": [
    "from datetime import timedelta\n",
    "pd.to_datetime('2011-12-30 00:00:00') + timedelta(days=4)"
   ]
  },
  {
   "cell_type": "code",
   "execution_count": 22,
   "metadata": {},
   "outputs": [
    {
     "data": {
      "text/plain": [
       "24"
      ]
     },
     "execution_count": 22,
     "metadata": {},
     "output_type": "execute_result"
    }
   ],
   "source": [
    "len(['KO', 'T', 'MRK', 'GILD', 'VZ', 'MSFT', 'CSCO', 'LOW', 'EBAY', 'XOM', 'NFLX', 'HAL', 'CSX', 'CMCSA', 'BAC', 'NVDA', 'HPQ', 'MS', 'GM', 'V', 'AAPL', 'SBUX', 'INTC', 'ABT'])"
   ]
  },
  {
   "cell_type": "code",
   "execution_count": 61,
   "metadata": {},
   "outputs": [
    {
     "data": {
      "text/html": [
       "<div>\n",
       "<style scoped>\n",
       "    .dataframe tbody tr th:only-of-type {\n",
       "        vertical-align: middle;\n",
       "    }\n",
       "\n",
       "    .dataframe tbody tr th {\n",
       "        vertical-align: top;\n",
       "    }\n",
       "\n",
       "    .dataframe thead th {\n",
       "        text-align: right;\n",
       "    }\n",
       "</style>\n",
       "<table border=\"1\" class=\"dataframe\">\n",
       "  <thead>\n",
       "    <tr style=\"text-align: right;\">\n",
       "      <th></th>\n",
       "      <th>Unnamed: 0</th>\n",
       "      <th>level_0</th>\n",
       "      <th>index</th>\n",
       "      <th>Date</th>\n",
       "      <th>Open</th>\n",
       "      <th>High</th>\n",
       "      <th>Low</th>\n",
       "      <th>Close</th>\n",
       "      <th>adjcp</th>\n",
       "      <th>volume</th>\n",
       "      <th>...</th>\n",
       "      <th>macd_30</th>\n",
       "      <th>signal_30</th>\n",
       "      <th>macd_60</th>\n",
       "      <th>signal_60</th>\n",
       "      <th>KAMA</th>\n",
       "      <th>MFI</th>\n",
       "      <th>category</th>\n",
       "      <th>turbulence</th>\n",
       "      <th>month</th>\n",
       "      <th>day</th>\n",
       "    </tr>\n",
       "  </thead>\n",
       "  <tbody>\n",
       "    <tr>\n",
       "      <th>0</th>\n",
       "      <td>0</td>\n",
       "      <td>2100</td>\n",
       "      <td>84</td>\n",
       "      <td>2012-01-03</td>\n",
       "      <td>23.770000</td>\n",
       "      <td>24.500000</td>\n",
       "      <td>23.730000</td>\n",
       "      <td>24.070000</td>\n",
       "      <td>20.063438</td>\n",
       "      <td>4221700.0</td>\n",
       "      <td>...</td>\n",
       "      <td>-0.030042</td>\n",
       "      <td>-0.020859</td>\n",
       "      <td>-0.106061</td>\n",
       "      <td>-0.053554</td>\n",
       "      <td>22.960972</td>\n",
       "      <td>54.348434</td>\n",
       "      <td>3.0</td>\n",
       "      <td>0.0</td>\n",
       "      <td>1</td>\n",
       "      <td>3</td>\n",
       "    </tr>\n",
       "    <tr>\n",
       "      <th>1</th>\n",
       "      <td>1</td>\n",
       "      <td>2101</td>\n",
       "      <td>417</td>\n",
       "      <td>2012-01-03</td>\n",
       "      <td>3.116891</td>\n",
       "      <td>3.146220</td>\n",
       "      <td>3.072897</td>\n",
       "      <td>3.094227</td>\n",
       "      <td>1.725873</td>\n",
       "      <td>8963773.0</td>\n",
       "      <td>...</td>\n",
       "      <td>-0.000505</td>\n",
       "      <td>0.004060</td>\n",
       "      <td>0.023888</td>\n",
       "      <td>0.044236</td>\n",
       "      <td>2.987355</td>\n",
       "      <td>63.698944</td>\n",
       "      <td>8.0</td>\n",
       "      <td>0.0</td>\n",
       "      <td>1</td>\n",
       "      <td>3</td>\n",
       "    </tr>\n",
       "    <tr>\n",
       "      <th>2</th>\n",
       "      <td>2</td>\n",
       "      <td>2102</td>\n",
       "      <td>750</td>\n",
       "      <td>2012-01-03</td>\n",
       "      <td>48.299999</td>\n",
       "      <td>48.959999</td>\n",
       "      <td>48.139999</td>\n",
       "      <td>48.389999</td>\n",
       "      <td>41.869740</td>\n",
       "      <td>6955400.0</td>\n",
       "      <td>...</td>\n",
       "      <td>0.025726</td>\n",
       "      <td>0.033231</td>\n",
       "      <td>0.125205</td>\n",
       "      <td>0.138658</td>\n",
       "      <td>47.400181</td>\n",
       "      <td>51.218262</td>\n",
       "      <td>3.0</td>\n",
       "      <td>0.0</td>\n",
       "      <td>1</td>\n",
       "      <td>3</td>\n",
       "    </tr>\n",
       "    <tr>\n",
       "      <th>3</th>\n",
       "      <td>3</td>\n",
       "      <td>2103</td>\n",
       "      <td>1083</td>\n",
       "      <td>2012-01-03</td>\n",
       "      <td>5.750000</td>\n",
       "      <td>5.890000</td>\n",
       "      <td>5.740000</td>\n",
       "      <td>5.800000</td>\n",
       "      <td>5.042953</td>\n",
       "      <td>246293200.0</td>\n",
       "      <td>...</td>\n",
       "      <td>0.031555</td>\n",
       "      <td>0.040695</td>\n",
       "      <td>0.232891</td>\n",
       "      <td>0.262707</td>\n",
       "      <td>5.404477</td>\n",
       "      <td>57.136018</td>\n",
       "      <td>3.0</td>\n",
       "      <td>0.0</td>\n",
       "      <td>1</td>\n",
       "      <td>3</td>\n",
       "    </tr>\n",
       "    <tr>\n",
       "      <th>4</th>\n",
       "      <td>4</td>\n",
       "      <td>2104</td>\n",
       "      <td>1416</td>\n",
       "      <td>2012-01-03</td>\n",
       "      <td>27.229767</td>\n",
       "      <td>27.577404</td>\n",
       "      <td>27.229767</td>\n",
       "      <td>27.452471</td>\n",
       "      <td>23.178144</td>\n",
       "      <td>6193308.0</td>\n",
       "      <td>...</td>\n",
       "      <td>0.093604</td>\n",
       "      <td>0.111523</td>\n",
       "      <td>0.645550</td>\n",
       "      <td>0.694796</td>\n",
       "      <td>26.824866</td>\n",
       "      <td>36.333783</td>\n",
       "      <td>4.0</td>\n",
       "      <td>0.0</td>\n",
       "      <td>1</td>\n",
       "      <td>3</td>\n",
       "    </tr>\n",
       "    <tr>\n",
       "      <th>...</th>\n",
       "      <td>...</td>\n",
       "      <td>...</td>\n",
       "      <td>...</td>\n",
       "      <td>...</td>\n",
       "      <td>...</td>\n",
       "      <td>...</td>\n",
       "      <td>...</td>\n",
       "      <td>...</td>\n",
       "      <td>...</td>\n",
       "      <td>...</td>\n",
       "      <td>...</td>\n",
       "      <td>...</td>\n",
       "      <td>...</td>\n",
       "      <td>...</td>\n",
       "      <td>...</td>\n",
       "      <td>...</td>\n",
       "      <td>...</td>\n",
       "      <td>...</td>\n",
       "      <td>...</td>\n",
       "      <td>...</td>\n",
       "      <td>...</td>\n",
       "    </tr>\n",
       "    <tr>\n",
       "      <th>61745</th>\n",
       "      <td>61745</td>\n",
       "      <td>7420</td>\n",
       "      <td>6235</td>\n",
       "      <td>2021-11-02</td>\n",
       "      <td>81.879997</td>\n",
       "      <td>82.519997</td>\n",
       "      <td>81.379997</td>\n",
       "      <td>82.315697</td>\n",
       "      <td>82.315697</td>\n",
       "      <td>739170.0</td>\n",
       "      <td>...</td>\n",
       "      <td>-0.499344</td>\n",
       "      <td>-0.469403</td>\n",
       "      <td>-3.067288</td>\n",
       "      <td>-2.777909</td>\n",
       "      <td>80.895006</td>\n",
       "      <td>80.488804</td>\n",
       "      <td>2.0</td>\n",
       "      <td>0.0</td>\n",
       "      <td>11</td>\n",
       "      <td>2</td>\n",
       "    </tr>\n",
       "    <tr>\n",
       "      <th>61746</th>\n",
       "      <td>61746</td>\n",
       "      <td>7421</td>\n",
       "      <td>6532</td>\n",
       "      <td>2021-11-02</td>\n",
       "      <td>1159.349976</td>\n",
       "      <td>1208.579956</td>\n",
       "      <td>1146.000000</td>\n",
       "      <td>1175.875000</td>\n",
       "      <td>1175.875000</td>\n",
       "      <td>25335354.0</td>\n",
       "      <td>...</td>\n",
       "      <td>-17.907999</td>\n",
       "      <td>-12.730322</td>\n",
       "      <td>-99.439317</td>\n",
       "      <td>-73.040845</td>\n",
       "      <td>1134.862782</td>\n",
       "      <td>90.645390</td>\n",
       "      <td>1.0</td>\n",
       "      <td>0.0</td>\n",
       "      <td>11</td>\n",
       "      <td>2</td>\n",
       "    </tr>\n",
       "    <tr>\n",
       "      <th>61747</th>\n",
       "      <td>61747</td>\n",
       "      <td>7422</td>\n",
       "      <td>6829</td>\n",
       "      <td>2021-11-02</td>\n",
       "      <td>213.160004</td>\n",
       "      <td>213.149994</td>\n",
       "      <td>207.910004</td>\n",
       "      <td>209.649994</td>\n",
       "      <td>209.649994</td>\n",
       "      <td>5609056.0</td>\n",
       "      <td>...</td>\n",
       "      <td>0.599654</td>\n",
       "      <td>0.321424</td>\n",
       "      <td>3.467486</td>\n",
       "      <td>2.238154</td>\n",
       "      <td>220.253621</td>\n",
       "      <td>34.644438</td>\n",
       "      <td>5.0</td>\n",
       "      <td>0.0</td>\n",
       "      <td>11</td>\n",
       "      <td>2</td>\n",
       "    </tr>\n",
       "    <tr>\n",
       "      <th>61748</th>\n",
       "      <td>61748</td>\n",
       "      <td>7423</td>\n",
       "      <td>7126</td>\n",
       "      <td>2021-11-02</td>\n",
       "      <td>51.540001</td>\n",
       "      <td>51.709999</td>\n",
       "      <td>51.250000</td>\n",
       "      <td>51.669998</td>\n",
       "      <td>51.669998</td>\n",
       "      <td>5524292.0</td>\n",
       "      <td>...</td>\n",
       "      <td>-0.229830</td>\n",
       "      <td>-0.178914</td>\n",
       "      <td>-1.350323</td>\n",
       "      <td>-1.077521</td>\n",
       "      <td>50.236655</td>\n",
       "      <td>68.621784</td>\n",
       "      <td>2.0</td>\n",
       "      <td>0.0</td>\n",
       "      <td>11</td>\n",
       "      <td>2</td>\n",
       "    </tr>\n",
       "    <tr>\n",
       "      <th>61749</th>\n",
       "      <td>61749</td>\n",
       "      <td>7424</td>\n",
       "      <td>7423</td>\n",
       "      <td>2021-11-02</td>\n",
       "      <td>28.600000</td>\n",
       "      <td>28.930000</td>\n",
       "      <td>28.389999</td>\n",
       "      <td>28.580000</td>\n",
       "      <td>28.580000</td>\n",
       "      <td>2580664.0</td>\n",
       "      <td>...</td>\n",
       "      <td>-0.162574</td>\n",
       "      <td>-0.176256</td>\n",
       "      <td>-1.015912</td>\n",
       "      <td>-1.006412</td>\n",
       "      <td>28.725078</td>\n",
       "      <td>37.428044</td>\n",
       "      <td>1.0</td>\n",
       "      <td>0.0</td>\n",
       "      <td>11</td>\n",
       "      <td>2</td>\n",
       "    </tr>\n",
       "  </tbody>\n",
       "</table>\n",
       "<p>61750 rows × 37 columns</p>\n",
       "</div>"
      ],
      "text/plain": [
       "       Unnamed: 0  level_0  index        Date         Open         High  \\\n",
       "0               0     2100     84  2012-01-03    23.770000    24.500000   \n",
       "1               1     2101    417  2012-01-03     3.116891     3.146220   \n",
       "2               2     2102    750  2012-01-03    48.299999    48.959999   \n",
       "3               3     2103   1083  2012-01-03     5.750000     5.890000   \n",
       "4               4     2104   1416  2012-01-03    27.229767    27.577404   \n",
       "...           ...      ...    ...         ...          ...          ...   \n",
       "61745       61745     7420   6235  2021-11-02    81.879997    82.519997   \n",
       "61746       61746     7421   6532  2021-11-02  1159.349976  1208.579956   \n",
       "61747       61747     7422   6829  2021-11-02   213.160004   213.149994   \n",
       "61748       61748     7423   7126  2021-11-02    51.540001    51.709999   \n",
       "61749       61749     7424   7423  2021-11-02    28.600000    28.930000   \n",
       "\n",
       "               Low        Close        adjcp       volume  ...    macd_30  \\\n",
       "0        23.730000    24.070000    20.063438    4221700.0  ...  -0.030042   \n",
       "1         3.072897     3.094227     1.725873    8963773.0  ...  -0.000505   \n",
       "2        48.139999    48.389999    41.869740    6955400.0  ...   0.025726   \n",
       "3         5.740000     5.800000     5.042953  246293200.0  ...   0.031555   \n",
       "4        27.229767    27.452471    23.178144    6193308.0  ...   0.093604   \n",
       "...            ...          ...          ...          ...  ...        ...   \n",
       "61745    81.379997    82.315697    82.315697     739170.0  ...  -0.499344   \n",
       "61746  1146.000000  1175.875000  1175.875000   25335354.0  ... -17.907999   \n",
       "61747   207.910004   209.649994   209.649994    5609056.0  ...   0.599654   \n",
       "61748    51.250000    51.669998    51.669998    5524292.0  ...  -0.229830   \n",
       "61749    28.389999    28.580000    28.580000    2580664.0  ...  -0.162574   \n",
       "\n",
       "       signal_30    macd_60  signal_60         KAMA        MFI  category  \\\n",
       "0      -0.020859  -0.106061  -0.053554    22.960972  54.348434       3.0   \n",
       "1       0.004060   0.023888   0.044236     2.987355  63.698944       8.0   \n",
       "2       0.033231   0.125205   0.138658    47.400181  51.218262       3.0   \n",
       "3       0.040695   0.232891   0.262707     5.404477  57.136018       3.0   \n",
       "4       0.111523   0.645550   0.694796    26.824866  36.333783       4.0   \n",
       "...          ...        ...        ...          ...        ...       ...   \n",
       "61745  -0.469403  -3.067288  -2.777909    80.895006  80.488804       2.0   \n",
       "61746 -12.730322 -99.439317 -73.040845  1134.862782  90.645390       1.0   \n",
       "61747   0.321424   3.467486   2.238154   220.253621  34.644438       5.0   \n",
       "61748  -0.178914  -1.350323  -1.077521    50.236655  68.621784       2.0   \n",
       "61749  -0.176256  -1.015912  -1.006412    28.725078  37.428044       1.0   \n",
       "\n",
       "       turbulence  month  day  \n",
       "0             0.0      1    3  \n",
       "1             0.0      1    3  \n",
       "2             0.0      1    3  \n",
       "3             0.0      1    3  \n",
       "4             0.0      1    3  \n",
       "...           ...    ...  ...  \n",
       "61745         0.0     11    2  \n",
       "61746         0.0     11    2  \n",
       "61747         0.0     11    2  \n",
       "61748         0.0     11    2  \n",
       "61749         0.0     11    2  \n",
       "\n",
       "[61750 rows x 37 columns]"
      ]
     },
     "execution_count": 61,
     "metadata": {},
     "output_type": "execute_result"
    }
   ],
   "source": [
    "m"
   ]
  },
  {
   "cell_type": "code",
   "execution_count": 4,
   "metadata": {},
   "outputs": [
    {
     "ename": "NameError",
     "evalue": "name 'df_non_zero' is not defined",
     "output_type": "error",
     "traceback": [
      "\u001b[1;31m---------------------------------------------------------------------------\u001b[0m",
      "\u001b[1;31mNameError\u001b[0m                                 Traceback (most recent call last)",
      "\u001b[1;32m<ipython-input-4-d380d00a6267>\u001b[0m in \u001b[0;36m<module>\u001b[1;34m\u001b[0m\n\u001b[0;32m      1\u001b[0m \u001b[1;31m#df1 = pp.add_turbulance(sn.rename(columns={'adjcp':'Adj Close'}))\u001b[0m\u001b[1;33m\u001b[0m\u001b[1;33m\u001b[0m\u001b[1;33m\u001b[0m\u001b[0m\n\u001b[0;32m      2\u001b[0m \u001b[1;31m#df_non_zero = df1.rename(columns={'Adj Close':'adjcp','Volume':'volume'}).replace([np.inf, -np.inf], 0)\u001b[0m\u001b[1;33m\u001b[0m\u001b[1;33m\u001b[0m\u001b[1;33m\u001b[0m\u001b[0m\n\u001b[1;32m----> 3\u001b[1;33m \u001b[0mdf_non_zero\u001b[0m\u001b[1;33m[\u001b[0m\u001b[1;34m'Date'\u001b[0m\u001b[1;33m]\u001b[0m \u001b[1;33m=\u001b[0m \u001b[0mpd\u001b[0m\u001b[1;33m.\u001b[0m\u001b[0mto_datetime\u001b[0m\u001b[1;33m(\u001b[0m\u001b[0mdf_non_zero\u001b[0m\u001b[1;33m[\u001b[0m\u001b[1;34m'Date'\u001b[0m\u001b[1;33m]\u001b[0m\u001b[1;33m)\u001b[0m\u001b[1;33m\u001b[0m\u001b[1;33m\u001b[0m\u001b[0m\n\u001b[0m\u001b[0;32m      4\u001b[0m \u001b[0mdf_non_zero\u001b[0m \u001b[1;33m=\u001b[0m \u001b[0mdf_non_zero\u001b[0m\u001b[1;33m.\u001b[0m\u001b[0msort_values\u001b[0m\u001b[1;33m(\u001b[0m\u001b[1;33m[\u001b[0m\u001b[1;34m'Date'\u001b[0m\u001b[1;33m,\u001b[0m\u001b[1;34m'ticker'\u001b[0m\u001b[1;33m]\u001b[0m\u001b[1;33m)\u001b[0m\u001b[1;33m\u001b[0m\u001b[1;33m\u001b[0m\u001b[0m\n\u001b[0;32m      5\u001b[0m \u001b[1;31m#index_df['Date'] = pd.to_datetime(index_df['Date'])\u001b[0m\u001b[1;33m\u001b[0m\u001b[1;33m\u001b[0m\u001b[1;33m\u001b[0m\u001b[0m\n",
      "\u001b[1;31mNameError\u001b[0m: name 'df_non_zero' is not defined"
     ]
    }
   ],
   "source": [
    "#df1 = pp.add_turbulance(sn.rename(columns={'adjcp':'Adj Close'}))\n",
    "#df_non_zero = df1.rename(columns={'Adj Close':'adjcp','Volume':'volume'}).replace([np.inf, -np.inf], 0)\n",
    "df_non_zero['Date'] = pd.to_datetime(df_non_zero['Date'])\n",
    "df_non_zero = df_non_zero.sort_values(['Date','ticker'])\n",
    "#index_df['Date'] = pd.to_datetime(index_df['Date'])\n",
    "\n",
    "unique_trade_date = df_non_zero[(df_non_zero.Date > pd.to_datetime('2005-02-02'))&(df_non_zero.Date <= pd.to_datetime('2021-06-20'))].Date.unique()\n",
    "df_non_zero = df_non_zero[df_non_zero.Date >= START_DATE] \n",
    "#index_df = index_df[index_df.Date >= START_DATE].rename(columns={'index_ticker':'ticker'})\n",
    "end_test = '2021-06-28'\n",
    "index_dim = len(indexes)\n",
    "# rebalance_window is the number of months to retrain the model\n",
    "# validation_window is the numebr of months to validation the model and select for trading\n",
    "rebalance_window = 63\n",
    "validation_window = 63"
   ]
  },
  {
   "cell_type": "code",
   "execution_count": null,
   "metadata": {},
   "outputs": [],
   "source": []
  }
 ],
 "metadata": {
  "kernelspec": {
   "display_name": "Python 3 (ipykernel)",
   "language": "python",
   "name": "python3"
  },
  "language_info": {
   "codemirror_mode": {
    "name": "ipython",
    "version": 3
   },
   "file_extension": ".py",
   "mimetype": "text/x-python",
   "name": "python",
   "nbconvert_exporter": "python",
   "pygments_lexer": "ipython3",
   "version": "3.7.11"
  }
 },
 "nbformat": 4,
 "nbformat_minor": 4
}
