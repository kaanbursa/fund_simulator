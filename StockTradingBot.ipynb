{
 "cells": [
  {
   "cell_type": "code",
   "execution_count": 1,
   "metadata": {},
   "outputs": [],
   "source": [
    "import pandas as pd\n",
    "import torch as th\n",
    "import os\n",
    "import re\n",
    "import yfinance as yf\n",
    "import numpy as np\n",
    "import warnings\n",
    "from stable_baselines3.common.noise import NormalActionNoise, OrnsteinUhlenbeckActionNoise\n",
    "warnings.filterwarnings('ignore')\n",
    "            \n",
    "import sys; sys.path.insert(0, '..')\n",
    "from model.models import run_ensemble_strategy, TrainerConfig, Trainer\n",
    "import data.preprocessing as pp\n",
    "from utils.utils_analyze import get_price, check_index_dim\n",
    "from utils.indicators import indicator_list, indicators_stock_stats\n",
    "from env.BaseEnv import EnvConfig\n",
    "from env.EnvStock_val import StockEnvValidation\n",
    "from env.EnvStock_train import StockEnvTrain\n",
    "from env.EnvStock_trade import StockEnvTrade\n",
    "from policy.Policies import MlActorCriticPolicy\n",
    "from config.config import indexes, ticker_list, category_dict, ticker_list_with_dict, tech_tickers\n",
    "%matplotlib inline\n",
    "%load_ext autoreload\n",
    "%autoreload 2"
   ]
  },
  {
   "cell_type": "markdown",
   "metadata": {},
   "source": [
    "### Do not Run these two cell if you do not want to preprocess data from the begining"
   ]
  },
  {
   "cell_type": "code",
   "execution_count": 2,
   "metadata": {},
   "outputs": [],
   "source": [
    "START_DATE = '2011-01-01'\n",
    "SEED = 42069\n",
    "NORNAMLIZE = True"
   ]
  },
  {
   "cell_type": "markdown",
   "metadata": {},
   "source": [
    "###  Run these two cell if you do not want to preprocess data from the begining"
   ]
  },
  {
   "cell_type": "code",
   "execution_count": 13,
   "metadata": {},
   "outputs": [],
   "source": [
    "SAC_PARAMS = {'gamma':0.995,\n",
    " 'learning_rate':0.016241092434986143,\n",
    " 'batch_size':64,\n",
    " 'buffer_size':1000000,\n",
    " 'learning_starts':10000,\n",
    " 'gradient_steps':8,\n",
    " 'ent_coef':'auto',\n",
    " 'tau':0.005,\n",
    " 'target_entropy':'auto',\n",
    " 'policy_kwargs':{'log_std_init': -3.3486909298160947,'net_arch': [256, 256] },\n",
    "    'use_sde': False,\n",
    " 'seed':42069,\n",
    "             \"device\":\"cuda\"}\n",
    "\n",
    "\n",
    "PPO_PARAMS =  {'n_steps': 512, 'batch_size': 64, 'gamma': 0.999, 'learning_rate': 0.03691157097485833, \n",
    "                                'ent_coef': 0.08932887565089782, \n",
    "                                'clip_range': 0.1, 'n_epochs': 5, \n",
    "                                'gae_lambda': 0.9, 'max_grad_norm': 0.8, 'vf_coef': 0.891060944163853, \n",
    "                                'policy_kwargs': {'net_arch': [{'pi': [256, 256], 'vf': [256, 256]}], \n",
    "              'activation_fn': th.nn.ReLU, 'ortho_init': False}, 'seed': 42069, \"device\":\"cuda\"}\n",
    "DATASET_VERSION = 'pretrainedTrial6'\n",
    "model = 'PPO'\n",
    "MODEL_NAME = f'jimmy_{model}-v1'\n",
    "POPULATION = 10\n",
    "TIME_INTERVAL = 5\n",
    "START_TRADE = '2011-01-01'\n",
    "policy_kwargs = dict(activation_fn=th.nn.ReLU,\n",
    "                     net_arch=[dict(pi=[256, 128, 64], vf=[256, 128])])\n",
    "TIME_FRAME = 0"
   ]
  },
  {
   "cell_type": "code",
   "execution_count": 14,
   "metadata": {},
   "outputs": [],
   "source": [
    "winner_params = {'n_steps':8,'batch_size':8,'gamma':0.95,'learning_rate':0.027651081986547765,\n",
    " 'ent_coef':0.009004220378275581,'clip_range':0.3,'n_epochs':1,'gae_lambda':0.95,'max_grad_norm':0.9,'vf_coef':0.9311987337638572,\n",
    " 'policy_kwargs':{'net_arch': [{'pi': [256, 256], 'vf': [256, 256]}], 'activation_fn': th.nn.Tanh, 'ortho_init': False},'seed':42069,'device':'cuda'}"
   ]
  },
  {
   "cell_type": "code",
   "execution_count": 15,
   "metadata": {},
   "outputs": [],
   "source": [
    "params = {'SAC':SAC_PARAMS, 'PPO':PPO_PARAMS}"
   ]
  },
  {
   "cell_type": "code",
   "execution_count": 31,
   "metadata": {},
   "outputs": [],
   "source": [
    "tconfig = TrainerConfig(start_date=START_TRADE,\n",
    "                        rebalance_window = 242,\n",
    "                        validation_window = 242,\n",
    "                        **{'hparams':winner_params},\n",
    "                        timesteps=50000,\n",
    "                       policy_kwargs = policy_kwargs,\n",
    "                       index_list = indexes)"
   ]
  },
  {
   "cell_type": "code",
   "execution_count": 32,
   "metadata": {},
   "outputs": [
    {
     "name": "stdout",
     "output_type": "stream",
     "text": [
      "Total number of stocks:   469\n"
     ]
    }
   ],
   "source": [
    "trainer = Trainer(model, 'MlpPolicy', \n",
    "                  StockEnvTrain, StockEnvValidation, StockEnvTrade, \n",
    "                  dataset_version=DATASET_VERSION, population=1,\n",
    "                     config = tconfig, model_name= MODEL_NAME, debug=False)"
   ]
  },
  {
   "cell_type": "code",
   "execution_count": null,
   "metadata": {},
   "outputs": [],
   "source": []
  },
  {
   "cell_type": "code",
   "execution_count": null,
   "metadata": {
    "scrolled": true,
    "tags": []
   },
   "outputs": [
    {
     "name": "stderr",
     "output_type": "stream",
     "text": [
      "wandb: wandb version 0.12.10 is available!  To upgrade, please run:\n",
      "wandb:  $ pip install wandb --upgrade\n"
     ]
    },
    {
     "data": {
      "text/html": [
       "\n",
       "                    Syncing run <strong><a href=\"https://wandb.ai/kaanb/FundSimulator/runs/1voqppqk\" target=\"_blank\">scarlet-tree-1049</a></strong> to <a href=\"https://wandb.ai/kaanb/FundSimulator\" target=\"_blank\">Weights & Biases</a> (<a href=\"https://docs.wandb.com/integrations/jupyter.html\" target=\"_blank\">docs</a>).<br/>\n",
       "\n",
       "                "
      ],
      "text/plain": [
       "<IPython.core.display.HTML object>"
      ]
     },
     "metadata": {},
     "output_type": "display_data"
    },
    {
     "name": "stderr",
     "output_type": "stream",
     "text": [
      "wandb: Processing terminal ouput (stdout)...\n"
     ]
    }
   ],
   "source": [
    "trainer.train(dataset='datasets/downew30.csv', timesteps=50050, \n",
    "              load=False, model_to_load='model_to_load', normalize =NORNAMLIZE)"
   ]
  },
  {
   "cell_type": "code",
   "execution_count": 20,
   "metadata": {},
   "outputs": [],
   "source": [
    "\n",
    "pretrain_set = pd.read_csv('datasets/pretrain_set3.csv')\n",
    "pretrain_set['turbulence'] = 0"
   ]
  },
  {
   "cell_type": "code",
   "execution_count": null,
   "metadata": {},
   "outputs": [],
   "source": [
    "pretrain = trainer.pretrain(sn, '2011-05-01', START_TRADE, NORNAMLIZE)"
   ]
  },
  {
   "cell_type": "code",
   "execution_count": 67,
   "metadata": {},
   "outputs": [],
   "source": [
    "model_to_load = pretrain.split('/')[1]"
   ]
  },
  {
   "cell_type": "code",
   "execution_count": null,
   "metadata": {},
   "outputs": [],
   "source": [
    "trainer.cluster(False, period=365, number_of_clusters=5, stocks_per_cluster=5)"
   ]
  },
  {
   "cell_type": "code",
   "execution_count": 60,
   "metadata": {},
   "outputs": [],
   "source": [
    "m = pd.read_csv('./datasets/.csv')"
   ]
  },
  {
   "cell_type": "code",
   "execution_count": 26,
   "metadata": {},
   "outputs": [
    {
     "ename": "TypeError",
     "evalue": "list indices must be integers or slices, not tuple",
     "output_type": "error",
     "traceback": [
      "\u001b[1;31m---------------------------------------------------------------------------\u001b[0m",
      "\u001b[1;31mTypeError\u001b[0m                                 Traceback (most recent call last)",
      "\u001b[1;32m~\\AppData\\Local\\Temp/ipykernel_1284/2724465645.py\u001b[0m in \u001b[0;36m<module>\u001b[1;34m\u001b[0m\n\u001b[1;32m----> 1\u001b[1;33m \u001b[1;33m[\u001b[0m\u001b[1;36m1\u001b[0m\u001b[1;33m,\u001b[0m\u001b[1;36m2\u001b[0m\u001b[1;33m,\u001b[0m\u001b[1;36m4\u001b[0m\u001b[1;33m,\u001b[0m\u001b[1;36m3\u001b[0m\u001b[1;33m]\u001b[0m\u001b[1;33m[\u001b[0m\u001b[1;33m(\u001b[0m\u001b[1;36m2\u001b[0m\u001b[1;33m,\u001b[0m\u001b[1;36m3\u001b[0m\u001b[1;33m)\u001b[0m\u001b[1;33m]\u001b[0m\u001b[1;33m\u001b[0m\u001b[1;33m\u001b[0m\u001b[0m\n\u001b[0m",
      "\u001b[1;31mTypeError\u001b[0m: list indices must be integers or slices, not tuple"
     ]
    }
   ],
   "source": []
  },
  {
   "cell_type": "code",
   "execution_count": null,
   "metadata": {},
   "outputs": [],
   "source": []
  }
 ],
 "metadata": {
  "kernelspec": {
   "display_name": "Python 3 (ipykernel)",
   "language": "python",
   "name": "python3"
  },
  "language_info": {
   "codemirror_mode": {
    "name": "ipython",
    "version": 3
   },
   "file_extension": ".py",
   "mimetype": "text/x-python",
   "name": "python",
   "nbconvert_exporter": "python",
   "pygments_lexer": "ipython3",
   "version": "3.7.11"
  }
 },
 "nbformat": 4,
 "nbformat_minor": 4
}
