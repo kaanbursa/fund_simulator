{
 "cells": [
  {
   "cell_type": "code",
   "execution_count": 1,
   "id": "a0858b9a",
   "metadata": {},
   "outputs": [],
   "source": [
    "import sys\n",
    "import os\n",
    "import inspect\n",
    "\n",
    "currentdir = os.path.dirname(os.path.abspath(inspect.getfile(inspect.currentframe())))\n",
    "parentdir = os.path.dirname(currentdir)\n",
    "sys.path.insert(0, parentdir) \n"
   ]
  },
  {
   "cell_type": "code",
   "execution_count": 2,
   "id": "99f616dc",
   "metadata": {},
   "outputs": [],
   "source": [
    "from data.Clustering import UnsupervisedLearning"
   ]
  },
  {
   "cell_type": "code",
   "execution_count": 3,
   "id": "26bca574",
   "metadata": {},
   "outputs": [
    {
     "name": "stderr",
     "output_type": "stream",
     "text": [
      "WARNING:root:Limited tf.compat.v2.summary API due to missing TensorBoard installation.\n"
     ]
    },
    {
     "name": "stdout",
     "output_type": "stream",
     "text": [
      "WARNING:tensorflow:\n",
      "The TensorFlow contrib module will not be included in TensorFlow 2.0.\n",
      "For more information, please see:\n",
      "  * https://github.com/tensorflow/community/blob/master/rfcs/20180907-contrib-sunset.md\n",
      "  * https://github.com/tensorflow/addons\n",
      "  * https://github.com/tensorflow/io (for I/O related ops)\n",
      "If you depend on functionality not listed there, please file an issue.\n",
      "\n"
     ]
    },
    {
     "name": "stderr",
     "output_type": "stream",
     "text": [
      "WARNING:tensorflow:\n",
      "The TensorFlow contrib module will not be included in TensorFlow 2.0.\n",
      "For more information, please see:\n",
      "  * https://github.com/tensorflow/community/blob/master/rfcs/20180907-contrib-sunset.md\n",
      "  * https://github.com/tensorflow/addons\n",
      "  * https://github.com/tensorflow/io (for I/O related ops)\n",
      "If you depend on functionality not listed there, please file an issue.\n",
      "\n",
      "C:\\Users\\kaanb\\Anaconda3\\envs\\agents\\lib\\site-packages\\stable_baselines\\__init__.py:33: UserWarning: stable-baselines is in maintenance mode, please use [Stable-Baselines3 (SB3)](https://github.com/DLR-RM/stable-baselines3) for an up-to-date version. You can find a [migration guide](https://stable-baselines3.readthedocs.io/en/master/guide/migration.html) in SB3 documentation.\n",
      "  \"stable-baselines is in maintenance mode, please use [Stable-Baselines3 (SB3)](https://github.com/DLR-RM/stable-baselines3) for an up-to-date version. You can find a [migration guide](https://stable-baselines3.readthedocs.io/en/master/guide/migration.html) in SB3 documentation.\"\n"
     ]
    }
   ],
   "source": [
    "import numpy as np\n",
    "import pandas as pd\n",
    "from stable_baselines import PPO2\n",
    "from stable_baselines.common.vec_env import DummyVecEnv\n",
    "from env.EnvStock_trade import StockEnvTrade\n",
    "import tensorflow as tf\n",
    "import requests\n",
    "import yfinance as yf\n",
    "from utils import pbt\n",
    "#from tensorboard.plugins.hparams import api as hp\n",
    "import matplotlib.pyplot as plt\n",
    "%load_ext autoreload\n",
    "%autoreload 2"
   ]
  },
  {
   "cell_type": "code",
   "execution_count": 4,
   "id": "official-activity",
   "metadata": {},
   "outputs": [],
   "source": [
    "def get_price(ticker,start, end):\n",
    "    stock = yf.Ticker(ticker)\n",
    "    \n",
    "    df = stock.history(start=start, end = end).reset_index()\n",
    "\n",
    "        \n",
    "    print(df)\n",
    "    df['Adj Close'] = df['Close']\n",
    "    df['ticker'] = ticker\n",
    "    return df"
   ]
  },
  {
   "cell_type": "code",
   "execution_count": 6,
   "id": "9161826c",
   "metadata": {},
   "outputs": [],
   "source": [
    "df = pd.read_csv('../data/all_stocks.csv')"
   ]
  },
  {
   "cell_type": "code",
   "execution_count": 7,
   "id": "c0586299",
   "metadata": {},
   "outputs": [
    {
     "data": {
      "text/html": [
       "<div>\n",
       "<style scoped>\n",
       "    .dataframe tbody tr th:only-of-type {\n",
       "        vertical-align: middle;\n",
       "    }\n",
       "\n",
       "    .dataframe tbody tr th {\n",
       "        vertical-align: top;\n",
       "    }\n",
       "\n",
       "    .dataframe thead th {\n",
       "        text-align: right;\n",
       "    }\n",
       "</style>\n",
       "<table border=\"1\" class=\"dataframe\">\n",
       "  <thead>\n",
       "    <tr style=\"text-align: right;\">\n",
       "      <th></th>\n",
       "      <th>Unnamed: 0</th>\n",
       "      <th>Symbol</th>\n",
       "      <th>Name</th>\n",
       "      <th>Sector</th>\n",
       "    </tr>\n",
       "  </thead>\n",
       "  <tbody>\n",
       "    <tr>\n",
       "      <th>0</th>\n",
       "      <td>0.0</td>\n",
       "      <td>MMM</td>\n",
       "      <td>3M Company</td>\n",
       "      <td>Industrials</td>\n",
       "    </tr>\n",
       "    <tr>\n",
       "      <th>1</th>\n",
       "      <td>1.0</td>\n",
       "      <td>AOS</td>\n",
       "      <td>A.O. Smith Corp</td>\n",
       "      <td>Industrials</td>\n",
       "    </tr>\n",
       "    <tr>\n",
       "      <th>2</th>\n",
       "      <td>2.0</td>\n",
       "      <td>ABT</td>\n",
       "      <td>Abbott Laboratories</td>\n",
       "      <td>Health Care</td>\n",
       "    </tr>\n",
       "    <tr>\n",
       "      <th>3</th>\n",
       "      <td>3.0</td>\n",
       "      <td>ABBV</td>\n",
       "      <td>AbbVie Inc.</td>\n",
       "      <td>Health Care</td>\n",
       "    </tr>\n",
       "    <tr>\n",
       "      <th>4</th>\n",
       "      <td>4.0</td>\n",
       "      <td>ACN</td>\n",
       "      <td>Accenture plc</td>\n",
       "      <td>Information Technology</td>\n",
       "    </tr>\n",
       "  </tbody>\n",
       "</table>\n",
       "</div>"
      ],
      "text/plain": [
       "   Unnamed: 0 Symbol                 Name                  Sector\n",
       "0         0.0    MMM           3M Company             Industrials\n",
       "1         1.0    AOS      A.O. Smith Corp             Industrials\n",
       "2         2.0    ABT  Abbott Laboratories             Health Care\n",
       "3         3.0   ABBV          AbbVie Inc.             Health Care\n",
       "4         4.0    ACN        Accenture plc  Information Technology"
      ]
     },
     "execution_count": 7,
     "metadata": {},
     "output_type": "execute_result"
    }
   ],
   "source": [
    "df.head()"
   ]
  },
  {
   "cell_type": "code",
   "execution_count": 8,
   "id": "eef0cc88",
   "metadata": {},
   "outputs": [],
   "source": [
    "symbols = df.Symbol.unique()"
   ]
  },
  {
   "cell_type": "code",
   "execution_count": 9,
   "id": "sharing-netherlands",
   "metadata": {},
   "outputs": [],
   "source": [
    "stock = yf.Ticker('TSLA')\n",
    "df = stock.history(start='2010-01-01', end = '2011-01-01')\n"
   ]
  },
  {
   "cell_type": "code",
   "execution_count": 10,
   "id": "noted-syndication",
   "metadata": {},
   "outputs": [
    {
     "name": "stdout",
     "output_type": "stream",
     "text": [
      "          Date   Open   High    Low  Close    Volume  Dividends  Stock Splits\n",
      "0   2010-06-29  3.800  5.000  3.508  4.778  93831500          0             0\n",
      "1   2010-06-30  5.158  6.084  4.660  4.766  85935500          0             0\n",
      "2   2010-07-01  5.000  5.184  4.054  4.392  41094000          0             0\n",
      "3   2010-07-02  4.600  4.620  3.742  3.840  25699000          0             0\n",
      "4   2010-07-06  4.000  4.000  3.166  3.222  34334500          0             0\n",
      "..         ...    ...    ...    ...    ...       ...        ...           ...\n",
      "125 2010-12-27  5.604  5.716  5.012  5.110  46509500          0             0\n",
      "126 2010-12-28  5.170  5.350  5.000  5.282  20281500          0             0\n",
      "127 2010-12-29  5.406  5.602  5.300  5.546  16596000          0             0\n",
      "128 2010-12-30  5.540  5.580  5.276  5.300  10205500          0             0\n",
      "129 2010-12-31  5.314  5.450  5.300  5.326   7089500          0             0\n",
      "\n",
      "[130 rows x 8 columns]\n"
     ]
    }
   ],
   "source": [
    "tsla = get_price('TSLA','2007-01-01','2011-01-01')"
   ]
  },
  {
   "cell_type": "code",
   "execution_count": 11,
   "id": "continuous-waters",
   "metadata": {},
   "outputs": [
    {
     "data": {
      "text/plain": [
       "['BWA',\n",
       " 'CDNS',\n",
       " 'ALK',\n",
       " 'CBOE',\n",
       " 'ADI',\n",
       " 'AMZN',\n",
       " 'ADP',\n",
       " 'AKAM',\n",
       " 'AJG',\n",
       " 'MMM',\n",
       " 'AAP',\n",
       " 'ATO',\n",
       " 'CBRE',\n",
       " 'AIZ']"
      ]
     },
     "execution_count": 11,
     "metadata": {},
     "output_type": "execute_result"
    }
   ],
   "source": [
    "temp1 = ['CAT', 'AES', 'BA', 'ADI', 'BWA', 'A', 'BKR', 'COF', 'CBRE', 'MMM', 'AIG', 'AKAM', 'CCL', 'BAC', 'AMD', 'BSX', 'AMAT', 'BK', 'AAPL', 'CF', 'ATVI', 'AMZN', 'CERN', 'ABT', 'MO', 'BMY', 'COG', 'BBWI', 'T', 'AXP', 'BAX', 'ACN', 'ADP', 'AMGN', 'CDNS', 'CNC', 'ALK', 'AJG', 'GOOG', 'GOOGL', 'AAP', 'AIZ', 'CBOE', 'ATO']\n",
    "temp2 = ['AMD', 'BSX', 'ATVI', 'BBY', 'AES', 'BA', 'CNC', 'CAH', 'CHRW', 'BR', 'AMAT', 'CAT', 'BKR', 'A', 'APA', 'BAC', 'BK', 'AFL', 'BAX', 'ADBE', 'COG', 'GOOG', 'GOOGL', 'CCL', 'ABC', 'APTV', 'AAPL', 'AXP', 'CERN', 'AVGO', 'BKNG', 'BMY', 'AEE', 'ALGN', 'BXP', 'AVB', 'AIG', 'CF', 'COF', 'ACN', 'BBWI', 'T', 'ABT', 'MO', 'AAL', 'AMGN']\n",
    "\n",
    "list(set(temp1) - set(temp2))"
   ]
  },
  {
   "cell_type": "code",
   "execution_count": 12,
   "id": "precious-cleaners",
   "metadata": {},
   "outputs": [
    {
     "name": "stdout",
     "output_type": "stream",
     "text": [
      "          Date   Open   High    Low  Close    Volume  Dividends  Stock Splits\n",
      "0   2010-12-31  5.314  5.450  5.300  5.326   7089500          0             0\n",
      "1   2011-01-03  5.368  5.400  5.180  5.324   6415000          0             0\n",
      "2   2011-01-04  5.332  5.390  5.204  5.334   5937000          0             0\n",
      "3   2011-01-05  5.296  5.380  5.238  5.366   7233500          0             0\n",
      "4   2011-01-06  5.366  5.600  5.362  5.576  10306000          0             0\n",
      "..         ...    ...    ...    ...    ...       ...        ...           ...\n",
      "248 2011-12-23  5.600  5.600  5.504  5.580   2957000          0             0\n",
      "249 2011-12-27  5.532  5.754  5.528  5.714   3887500          0             0\n",
      "250 2011-12-28  5.798  5.848  5.608  5.702   2876000          0             0\n",
      "251 2011-12-29  5.718  5.868  5.710  5.746   2441000          0             0\n",
      "252 2011-12-30  5.698  5.796  5.650  5.712   1699000          0             0\n",
      "\n",
      "[253 rows x 8 columns]\n",
      "          Date       Open       High        Low      Close     Volume  \\\n",
      "0   2010-12-31   9.903219   9.919472   9.852929   9.891260  193508000   \n",
      "1   2011-01-03   9.985709  10.127381   9.961178  10.106222  445138400   \n",
      "2   2011-01-04  10.194229  10.196069  10.062677  10.158965  309080800   \n",
      "3   2011-01-05  10.105608  10.252493  10.104075  10.242066  255519600   \n",
      "4   2011-01-06  10.264145  10.280398  10.208336  10.233788  300428800   \n",
      "..         ...        ...        ...        ...        ...        ...   \n",
      "248 2011-12-23  12.256442  12.376035  12.250309  12.368062  269399200   \n",
      "249 2011-12-27  12.361008  12.544691  12.358554  12.466188  265076000   \n",
      "250 2011-12-28  12.477230  12.518933  12.307039  12.346904  228662000   \n",
      "251 2011-12-29  12.370210  12.439206  12.281589  12.422953  215978000   \n",
      "252 2011-12-30  12.373580  12.458523  12.372968  12.419271  179662000   \n",
      "\n",
      "     Dividends  Stock Splits  \n",
      "0            0             0  \n",
      "1            0             0  \n",
      "2            0             0  \n",
      "3            0             0  \n",
      "4            0             0  \n",
      "..         ...           ...  \n",
      "248          0             0  \n",
      "249          0             0  \n",
      "250          0             0  \n",
      "251          0             0  \n",
      "252          0             0  \n",
      "\n",
      "[253 rows x 8 columns]\n"
     ]
    }
   ],
   "source": [
    "tsla = get_price('TSLA','2011-01-01','2012-01-01')\n",
    "aapl = get_price('AAPL', '2011-01-01','2012-01-01')"
   ]
  },
  {
   "cell_type": "code",
   "execution_count": 13,
   "id": "ambient-smart",
   "metadata": {},
   "outputs": [],
   "source": [
    "df = pd.concat([tsla, aapl])"
   ]
  },
  {
   "cell_type": "code",
   "execution_count": 14,
   "id": "herbal-violence",
   "metadata": {},
   "outputs": [
    {
     "data": {
      "text/html": [
       "<div>\n",
       "<style scoped>\n",
       "    .dataframe tbody tr th:only-of-type {\n",
       "        vertical-align: middle;\n",
       "    }\n",
       "\n",
       "    .dataframe tbody tr th {\n",
       "        vertical-align: top;\n",
       "    }\n",
       "\n",
       "    .dataframe thead th {\n",
       "        text-align: right;\n",
       "    }\n",
       "</style>\n",
       "<table border=\"1\" class=\"dataframe\">\n",
       "  <thead>\n",
       "    <tr style=\"text-align: right;\">\n",
       "      <th></th>\n",
       "      <th>Date</th>\n",
       "      <th>Open</th>\n",
       "      <th>High</th>\n",
       "      <th>Low</th>\n",
       "      <th>Close</th>\n",
       "      <th>Volume</th>\n",
       "      <th>Dividends</th>\n",
       "      <th>Stock Splits</th>\n",
       "      <th>Adj Close</th>\n",
       "      <th>ticker</th>\n",
       "    </tr>\n",
       "  </thead>\n",
       "  <tbody>\n",
       "    <tr>\n",
       "      <th>0</th>\n",
       "      <td>2010-12-31</td>\n",
       "      <td>5.314000</td>\n",
       "      <td>5.450000</td>\n",
       "      <td>5.300000</td>\n",
       "      <td>5.326000</td>\n",
       "      <td>7089500</td>\n",
       "      <td>0</td>\n",
       "      <td>0</td>\n",
       "      <td>5.326000</td>\n",
       "      <td>TSLA</td>\n",
       "    </tr>\n",
       "    <tr>\n",
       "      <th>1</th>\n",
       "      <td>2011-01-03</td>\n",
       "      <td>5.368000</td>\n",
       "      <td>5.400000</td>\n",
       "      <td>5.180000</td>\n",
       "      <td>5.324000</td>\n",
       "      <td>6415000</td>\n",
       "      <td>0</td>\n",
       "      <td>0</td>\n",
       "      <td>5.324000</td>\n",
       "      <td>TSLA</td>\n",
       "    </tr>\n",
       "    <tr>\n",
       "      <th>2</th>\n",
       "      <td>2011-01-04</td>\n",
       "      <td>5.332000</td>\n",
       "      <td>5.390000</td>\n",
       "      <td>5.204000</td>\n",
       "      <td>5.334000</td>\n",
       "      <td>5937000</td>\n",
       "      <td>0</td>\n",
       "      <td>0</td>\n",
       "      <td>5.334000</td>\n",
       "      <td>TSLA</td>\n",
       "    </tr>\n",
       "    <tr>\n",
       "      <th>3</th>\n",
       "      <td>2011-01-05</td>\n",
       "      <td>5.296000</td>\n",
       "      <td>5.380000</td>\n",
       "      <td>5.238000</td>\n",
       "      <td>5.366000</td>\n",
       "      <td>7233500</td>\n",
       "      <td>0</td>\n",
       "      <td>0</td>\n",
       "      <td>5.366000</td>\n",
       "      <td>TSLA</td>\n",
       "    </tr>\n",
       "    <tr>\n",
       "      <th>4</th>\n",
       "      <td>2011-01-06</td>\n",
       "      <td>5.366000</td>\n",
       "      <td>5.600000</td>\n",
       "      <td>5.362000</td>\n",
       "      <td>5.576000</td>\n",
       "      <td>10306000</td>\n",
       "      <td>0</td>\n",
       "      <td>0</td>\n",
       "      <td>5.576000</td>\n",
       "      <td>TSLA</td>\n",
       "    </tr>\n",
       "    <tr>\n",
       "      <th>...</th>\n",
       "      <td>...</td>\n",
       "      <td>...</td>\n",
       "      <td>...</td>\n",
       "      <td>...</td>\n",
       "      <td>...</td>\n",
       "      <td>...</td>\n",
       "      <td>...</td>\n",
       "      <td>...</td>\n",
       "      <td>...</td>\n",
       "      <td>...</td>\n",
       "    </tr>\n",
       "    <tr>\n",
       "      <th>248</th>\n",
       "      <td>2011-12-23</td>\n",
       "      <td>12.256442</td>\n",
       "      <td>12.376035</td>\n",
       "      <td>12.250309</td>\n",
       "      <td>12.368062</td>\n",
       "      <td>269399200</td>\n",
       "      <td>0</td>\n",
       "      <td>0</td>\n",
       "      <td>12.368062</td>\n",
       "      <td>AAPL</td>\n",
       "    </tr>\n",
       "    <tr>\n",
       "      <th>249</th>\n",
       "      <td>2011-12-27</td>\n",
       "      <td>12.361008</td>\n",
       "      <td>12.544691</td>\n",
       "      <td>12.358554</td>\n",
       "      <td>12.466188</td>\n",
       "      <td>265076000</td>\n",
       "      <td>0</td>\n",
       "      <td>0</td>\n",
       "      <td>12.466188</td>\n",
       "      <td>AAPL</td>\n",
       "    </tr>\n",
       "    <tr>\n",
       "      <th>250</th>\n",
       "      <td>2011-12-28</td>\n",
       "      <td>12.477230</td>\n",
       "      <td>12.518933</td>\n",
       "      <td>12.307039</td>\n",
       "      <td>12.346904</td>\n",
       "      <td>228662000</td>\n",
       "      <td>0</td>\n",
       "      <td>0</td>\n",
       "      <td>12.346904</td>\n",
       "      <td>AAPL</td>\n",
       "    </tr>\n",
       "    <tr>\n",
       "      <th>251</th>\n",
       "      <td>2011-12-29</td>\n",
       "      <td>12.370210</td>\n",
       "      <td>12.439206</td>\n",
       "      <td>12.281589</td>\n",
       "      <td>12.422953</td>\n",
       "      <td>215978000</td>\n",
       "      <td>0</td>\n",
       "      <td>0</td>\n",
       "      <td>12.422953</td>\n",
       "      <td>AAPL</td>\n",
       "    </tr>\n",
       "    <tr>\n",
       "      <th>252</th>\n",
       "      <td>2011-12-30</td>\n",
       "      <td>12.373580</td>\n",
       "      <td>12.458523</td>\n",
       "      <td>12.372968</td>\n",
       "      <td>12.419271</td>\n",
       "      <td>179662000</td>\n",
       "      <td>0</td>\n",
       "      <td>0</td>\n",
       "      <td>12.419271</td>\n",
       "      <td>AAPL</td>\n",
       "    </tr>\n",
       "  </tbody>\n",
       "</table>\n",
       "<p>506 rows × 10 columns</p>\n",
       "</div>"
      ],
      "text/plain": [
       "          Date       Open       High        Low      Close     Volume  \\\n",
       "0   2010-12-31   5.314000   5.450000   5.300000   5.326000    7089500   \n",
       "1   2011-01-03   5.368000   5.400000   5.180000   5.324000    6415000   \n",
       "2   2011-01-04   5.332000   5.390000   5.204000   5.334000    5937000   \n",
       "3   2011-01-05   5.296000   5.380000   5.238000   5.366000    7233500   \n",
       "4   2011-01-06   5.366000   5.600000   5.362000   5.576000   10306000   \n",
       "..         ...        ...        ...        ...        ...        ...   \n",
       "248 2011-12-23  12.256442  12.376035  12.250309  12.368062  269399200   \n",
       "249 2011-12-27  12.361008  12.544691  12.358554  12.466188  265076000   \n",
       "250 2011-12-28  12.477230  12.518933  12.307039  12.346904  228662000   \n",
       "251 2011-12-29  12.370210  12.439206  12.281589  12.422953  215978000   \n",
       "252 2011-12-30  12.373580  12.458523  12.372968  12.419271  179662000   \n",
       "\n",
       "     Dividends  Stock Splits  Adj Close ticker  \n",
       "0            0             0   5.326000   TSLA  \n",
       "1            0             0   5.324000   TSLA  \n",
       "2            0             0   5.334000   TSLA  \n",
       "3            0             0   5.366000   TSLA  \n",
       "4            0             0   5.576000   TSLA  \n",
       "..         ...           ...        ...    ...  \n",
       "248          0             0  12.368062   AAPL  \n",
       "249          0             0  12.466188   AAPL  \n",
       "250          0             0  12.346904   AAPL  \n",
       "251          0             0  12.422953   AAPL  \n",
       "252          0             0  12.419271   AAPL  \n",
       "\n",
       "[506 rows x 10 columns]"
      ]
     },
     "execution_count": 14,
     "metadata": {},
     "output_type": "execute_result"
    }
   ],
   "source": [
    "df"
   ]
  },
  {
   "cell_type": "code",
   "execution_count": 15,
   "id": "genuine-leather",
   "metadata": {},
   "outputs": [],
   "source": [
    "data = []\n",
    "headers = []\n",
    "full_stock_df = []\n",
    "for tick in df.ticker.unique():\n",
    "    index= df.Date.unique()\n",
    "    stock = df[df.ticker == tick]\n",
    "    data.append(stock['Close'])\n",
    "    headers.append(tick)\n",
    "    full_stock_df.append(stock.set_index('Date'))\n",
    "    "
   ]
  },
  {
   "cell_type": "code",
   "execution_count": 16,
   "id": "three-contrary",
   "metadata": {},
   "outputs": [
    {
     "data": {
      "text/plain": [
       "['TSLA', 'AAPL']"
      ]
     },
     "execution_count": 16,
     "metadata": {},
     "output_type": "execute_result"
    }
   ],
   "source": [
    "headers"
   ]
  },
  {
   "cell_type": "code",
   "execution_count": 17,
   "id": "european-tuning",
   "metadata": {},
   "outputs": [
    {
     "name": "stdout",
     "output_type": "stream",
     "text": [
      "2010-01-01\n",
      "2011-01-01\n",
      "2012-01-01\n",
      "2012-12-31\n",
      "2013-12-31\n",
      "2014-12-31\n",
      "2015-12-31\n",
      "2016-12-30\n",
      "2017-12-30\n",
      "2018-12-30\n",
      "2019-12-30\n"
     ]
    }
   ],
   "source": [
    "from datetime import date, timedelta\n",
    "\n",
    "start_date = date(2010, 1, 1)\n",
    "end_date = date(2020, 1, 1)\n",
    "delta = timedelta(days=365)\n",
    "while start_date <= end_date:\n",
    "    print(start_date.strftime(\"%Y-%m-%d\"))\n",
    "    start_date += delta"
   ]
  },
  {
   "cell_type": "code",
   "execution_count": 18,
   "id": "fancy-absorption",
   "metadata": {},
   "outputs": [
    {
     "data": {
      "text/html": [
       "<div>\n",
       "<style scoped>\n",
       "    .dataframe tbody tr th:only-of-type {\n",
       "        vertical-align: middle;\n",
       "    }\n",
       "\n",
       "    .dataframe tbody tr th {\n",
       "        vertical-align: top;\n",
       "    }\n",
       "\n",
       "    .dataframe thead th {\n",
       "        text-align: right;\n",
       "    }\n",
       "</style>\n",
       "<table border=\"1\" class=\"dataframe\">\n",
       "  <thead>\n",
       "    <tr style=\"text-align: right;\">\n",
       "      <th></th>\n",
       "      <th>TSLA</th>\n",
       "      <th>AAPL</th>\n",
       "    </tr>\n",
       "  </thead>\n",
       "  <tbody>\n",
       "    <tr>\n",
       "      <th>2010-12-31</th>\n",
       "      <td>5.326</td>\n",
       "      <td>9.891260</td>\n",
       "    </tr>\n",
       "    <tr>\n",
       "      <th>2011-01-03</th>\n",
       "      <td>5.324</td>\n",
       "      <td>10.106222</td>\n",
       "    </tr>\n",
       "    <tr>\n",
       "      <th>2011-01-04</th>\n",
       "      <td>5.334</td>\n",
       "      <td>10.158965</td>\n",
       "    </tr>\n",
       "    <tr>\n",
       "      <th>2011-01-05</th>\n",
       "      <td>5.366</td>\n",
       "      <td>10.242066</td>\n",
       "    </tr>\n",
       "    <tr>\n",
       "      <th>2011-01-06</th>\n",
       "      <td>5.576</td>\n",
       "      <td>10.233788</td>\n",
       "    </tr>\n",
       "  </tbody>\n",
       "</table>\n",
       "</div>"
      ],
      "text/plain": [
       "             TSLA       AAPL\n",
       "2010-12-31  5.326   9.891260\n",
       "2011-01-03  5.324  10.106222\n",
       "2011-01-04  5.334  10.158965\n",
       "2011-01-05  5.366  10.242066\n",
       "2011-01-06  5.576  10.233788"
      ]
     },
     "execution_count": 18,
     "metadata": {},
     "output_type": "execute_result"
    }
   ],
   "source": [
    "stock_prices = pd.DataFrame()\n",
    "for i in range(len(data)):\n",
    "    stock_prices[headers[i]] = data[i]\n",
    "stock_prices.set_index(index, inplace=True)\n",
    "stock_prices.head()"
   ]
  },
  {
   "cell_type": "code",
   "execution_count": 33,
   "id": "following-productivity",
   "metadata": {},
   "outputs": [],
   "source": [
    "from data.data_generator import *"
   ]
  },
  {
   "cell_type": "code",
   "execution_count": 19,
   "id": "f3686e79",
   "metadata": {},
   "outputs": [],
   "source": [
    "UL = UnsupervisedLearning(df)"
   ]
  },
  {
   "cell_type": "code",
   "execution_count": 23,
   "id": "conservative-duplicate",
   "metadata": {},
   "outputs": [
    {
     "data": {
      "text/html": [
       "<div>\n",
       "<style scoped>\n",
       "    .dataframe tbody tr th:only-of-type {\n",
       "        vertical-align: middle;\n",
       "    }\n",
       "\n",
       "    .dataframe tbody tr th {\n",
       "        vertical-align: top;\n",
       "    }\n",
       "\n",
       "    .dataframe thead th {\n",
       "        text-align: right;\n",
       "    }\n",
       "</style>\n",
       "<table border=\"1\" class=\"dataframe\">\n",
       "  <thead>\n",
       "    <tr style=\"text-align: right;\">\n",
       "      <th></th>\n",
       "      <th>0</th>\n",
       "      <th>1</th>\n",
       "      <th>2</th>\n",
       "      <th>3</th>\n",
       "      <th>4</th>\n",
       "      <th>5</th>\n",
       "      <th>6</th>\n",
       "      <th>7</th>\n",
       "      <th>8</th>\n",
       "      <th>9</th>\n",
       "      <th>...</th>\n",
       "      <th>243</th>\n",
       "      <th>244</th>\n",
       "      <th>245</th>\n",
       "      <th>246</th>\n",
       "      <th>247</th>\n",
       "      <th>248</th>\n",
       "      <th>249</th>\n",
       "      <th>250</th>\n",
       "      <th>251</th>\n",
       "      <th>252</th>\n",
       "    </tr>\n",
       "  </thead>\n",
       "  <tbody>\n",
       "    <tr>\n",
       "      <th>TSLA</th>\n",
       "      <td>0.366133</td>\n",
       "      <td>0.365370</td>\n",
       "      <td>0.369184</td>\n",
       "      <td>0.381388</td>\n",
       "      <td>0.461480</td>\n",
       "      <td>0.488940</td>\n",
       "      <td>0.504958</td>\n",
       "      <td>0.391304</td>\n",
       "      <td>0.391304</td>\n",
       "      <td>0.334859</td>\n",
       "      <td>...</td>\n",
       "      <td>0.470633</td>\n",
       "      <td>0.451564</td>\n",
       "      <td>0.463005</td>\n",
       "      <td>0.437834</td>\n",
       "      <td>0.453089</td>\n",
       "      <td>0.463005</td>\n",
       "      <td>0.514111</td>\n",
       "      <td>0.509535</td>\n",
       "      <td>0.526316</td>\n",
       "      <td>0.513349</td>\n",
       "    </tr>\n",
       "    <tr>\n",
       "      <th>AAPL</th>\n",
       "      <td>0.067715</td>\n",
       "      <td>0.133277</td>\n",
       "      <td>0.149365</td>\n",
       "      <td>0.174710</td>\n",
       "      <td>0.172185</td>\n",
       "      <td>0.194538</td>\n",
       "      <td>0.253742</td>\n",
       "      <td>0.246166</td>\n",
       "      <td>0.272167</td>\n",
       "      <td>0.283951</td>\n",
       "      <td>...</td>\n",
       "      <td>0.614478</td>\n",
       "      <td>0.625608</td>\n",
       "      <td>0.754116</td>\n",
       "      <td>0.758792</td>\n",
       "      <td>0.778432</td>\n",
       "      <td>0.823139</td>\n",
       "      <td>0.853068</td>\n",
       "      <td>0.816685</td>\n",
       "      <td>0.839880</td>\n",
       "      <td>0.838758</td>\n",
       "    </tr>\n",
       "  </tbody>\n",
       "</table>\n",
       "<p>2 rows × 253 columns</p>\n",
       "</div>"
      ],
      "text/plain": [
       "           0         1         2         3         4         5         6    \\\n",
       "TSLA  0.366133  0.365370  0.369184  0.381388  0.461480  0.488940  0.504958   \n",
       "AAPL  0.067715  0.133277  0.149365  0.174710  0.172185  0.194538  0.253742   \n",
       "\n",
       "           7         8         9    ...       243       244       245  \\\n",
       "TSLA  0.391304  0.391304  0.334859  ...  0.470633  0.451564  0.463005   \n",
       "AAPL  0.246166  0.272167  0.283951  ...  0.614478  0.625608  0.754116   \n",
       "\n",
       "           246       247       248       249       250       251       252  \n",
       "TSLA  0.437834  0.453089  0.463005  0.514111  0.509535  0.526316  0.513349  \n",
       "AAPL  0.758792  0.778432  0.823139  0.853068  0.816685  0.839880  0.838758  \n",
       "\n",
       "[2 rows x 253 columns]"
      ]
     },
     "execution_count": 23,
     "metadata": {},
     "output_type": "execute_result"
    }
   ],
   "source": [
    "UL.dataframe"
   ]
  },
  {
   "cell_type": "code",
   "execution_count": 22,
   "id": "accessible-victory",
   "metadata": {},
   "outputs": [],
   "source": [
    "cluster = UL.kmeans_cluster_stocks(2)"
   ]
  },
  {
   "cell_type": "code",
   "execution_count": 23,
   "id": "chicken-genealogy",
   "metadata": {},
   "outputs": [
    {
     "data": {
      "text/html": [
       "<div>\n",
       "<style scoped>\n",
       "    .dataframe tbody tr th:only-of-type {\n",
       "        vertical-align: middle;\n",
       "    }\n",
       "\n",
       "    .dataframe tbody tr th {\n",
       "        vertical-align: top;\n",
       "    }\n",
       "\n",
       "    .dataframe thead th {\n",
       "        text-align: right;\n",
       "    }\n",
       "</style>\n",
       "<table border=\"1\" class=\"dataframe\">\n",
       "  <thead>\n",
       "    <tr style=\"text-align: right;\">\n",
       "      <th></th>\n",
       "      <th>label</th>\n",
       "      <th>distance</th>\n",
       "    </tr>\n",
       "    <tr>\n",
       "      <th>index</th>\n",
       "      <th></th>\n",
       "      <th></th>\n",
       "    </tr>\n",
       "  </thead>\n",
       "  <tbody>\n",
       "    <tr>\n",
       "      <th>TSLA</th>\n",
       "      <td>0</td>\n",
       "      <td>4.438186</td>\n",
       "    </tr>\n",
       "    <tr>\n",
       "      <th>AAPL</th>\n",
       "      <td>1</td>\n",
       "      <td>4.438186</td>\n",
       "    </tr>\n",
       "  </tbody>\n",
       "</table>\n",
       "</div>"
      ],
      "text/plain": [
       "       label  distance\n",
       "index                 \n",
       "TSLA       0  4.438186\n",
       "AAPL       1  4.438186"
      ]
     },
     "execution_count": 23,
     "metadata": {},
     "output_type": "execute_result"
    }
   ],
   "source": [
    "cluster"
   ]
  },
  {
   "cell_type": "code",
   "execution_count": 24,
   "id": "wired-purchase",
   "metadata": {},
   "outputs": [],
   "source": [
    "from data.data_generator import pick_from_kmeans_cluster "
   ]
  },
  {
   "cell_type": "code",
   "execution_count": 31,
   "id": "legal-distance",
   "metadata": {},
   "outputs": [
    {
     "name": "stdout",
     "output_type": "stream",
     "text": [
      "                 0\n",
      "TSLA  6.455593e+06\n",
      "AAPL  4.911180e+08\n"
     ]
    }
   ],
   "source": [
    "stk = pick_from_kmeans_cluster(cluster, df)"
   ]
  },
  {
   "cell_type": "code",
   "execution_count": 32,
   "id": "enclosed-castle",
   "metadata": {},
   "outputs": [
    {
     "data": {
      "text/plain": [
       "[[], ['AAPL']]"
      ]
     },
     "execution_count": 32,
     "metadata": {},
     "output_type": "execute_result"
    }
   ],
   "source": [
    "stk"
   ]
  },
  {
   "cell_type": "code",
   "execution_count": null,
   "id": "consolidated-truck",
   "metadata": {},
   "outputs": [],
   "source": []
  }
 ],
 "metadata": {
  "kernelspec": {
   "display_name": "Python 3",
   "language": "python",
   "name": "python3"
  },
  "language_info": {
   "codemirror_mode": {
    "name": "ipython",
    "version": 3
   },
   "file_extension": ".py",
   "mimetype": "text/x-python",
   "name": "python",
   "nbconvert_exporter": "python",
   "pygments_lexer": "ipython3",
   "version": "3.7.10"
  }
 },
 "nbformat": 4,
 "nbformat_minor": 5
}
