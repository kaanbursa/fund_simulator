{
 "cells": [
  {
   "cell_type": "code",
   "execution_count": 13,
   "id": "48fcfa25",
   "metadata": {},
   "outputs": [],
   "source": [
    "import pandas as pd\n",
    "from datetime import date\n",
    "import os\n",
    "import re\n",
    "import yfinance as yf\n",
    "import numpy as np\n",
    "import warnings\n",
    "warnings.filterwarnings('ignore')\n",
    "from torchsummary import summary           \n",
    "import sys; sys.path.insert(0, '..')\n",
    "import data.preprocessing as pp\n",
    "from data.data_generator import order_stocks_by_volume, get_clustered_stocks\n",
    "from utils.utils_analyze import get_price, check_index_dim\n",
    "from utils.indicators import indicator_list, indicators_stock_stats\n",
    "from utils.helper_training import *\n",
    "from agents.Base.BaseAgent import *"
   ]
  },
  {
   "cell_type": "code",
   "execution_count": 14,
   "id": "11e9c6b5",
   "metadata": {},
   "outputs": [],
   "source": [
    "pp = AgentPPO()"
   ]
  },
  {
   "cell_type": "code",
   "execution_count": 15,
   "id": "b9fcc92a",
   "metadata": {},
   "outputs": [
    {
     "ename": "AttributeError",
     "evalue": "'AgentPPO' object has no attribute 'summary'",
     "output_type": "error",
     "traceback": [
      "\u001b[1;31m---------------------------------------------------------------------------\u001b[0m",
      "\u001b[1;31mAttributeError\u001b[0m                            Traceback (most recent call last)",
      "\u001b[1;32m~\\AppData\\Local\\Temp/ipykernel_25712/515831992.py\u001b[0m in \u001b[0;36m<module>\u001b[1;34m\u001b[0m\n\u001b[1;32m----> 1\u001b[1;33m \u001b[0mpp\u001b[0m\u001b[1;33m.\u001b[0m\u001b[0msummary\u001b[0m\u001b[1;33m(\u001b[0m\u001b[1;33m)\u001b[0m\u001b[1;33m\u001b[0m\u001b[1;33m\u001b[0m\u001b[0m\n\u001b[0m",
      "\u001b[1;31mAttributeError\u001b[0m: 'AgentPPO' object has no attribute 'summary'"
     ]
    }
   ],
   "source": [
    "pp.summary()"
   ]
  },
  {
   "cell_type": "code",
   "execution_count": 18,
   "id": "d466ce0c",
   "metadata": {},
   "outputs": [],
   "source": [
    "pp.init()"
   ]
  },
  {
   "cell_type": "code",
   "execution_count": null,
   "id": "8639a77f",
   "metadata": {},
   "outputs": [],
   "source": []
  }
 ],
 "metadata": {
  "kernelspec": {
   "display_name": "Python 3 (ipykernel)",
   "language": "python",
   "name": "python3"
  },
  "language_info": {
   "codemirror_mode": {
    "name": "ipython",
    "version": 3
   },
   "file_extension": ".py",
   "mimetype": "text/x-python",
   "name": "python",
   "nbconvert_exporter": "python",
   "pygments_lexer": "ipython3",
   "version": "3.7.11"
  }
 },
 "nbformat": 4,
 "nbformat_minor": 5
}
