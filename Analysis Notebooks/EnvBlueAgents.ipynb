{
 "cells": [
  {
   "cell_type": "code",
   "execution_count": 2,
   "id": "f7a861a1",
   "metadata": {},
   "outputs": [
    {
     "name": "stderr",
     "output_type": "stream",
     "text": [
      "C:\\Users\\kaanb\\AppData\\Roaming\\Python\\Python37\\site-packages\\sklearn\\linear_model\\least_angle.py:30: DeprecationWarning: `np.float` is a deprecated alias for the builtin `float`. To silence this warning, use `float` by itself. Doing this will not modify any behavior and is safe. If you specifically wanted the numpy scalar type, use `np.float64` here.\n",
      "Deprecated in NumPy 1.20; for more details and guidance: https://numpy.org/devdocs/release/1.20.0-notes.html#deprecations\n",
      "  method='lar', copy_X=True, eps=np.finfo(np.float).eps,\n",
      "C:\\Users\\kaanb\\AppData\\Roaming\\Python\\Python37\\site-packages\\sklearn\\linear_model\\least_angle.py:167: DeprecationWarning: `np.float` is a deprecated alias for the builtin `float`. To silence this warning, use `float` by itself. Doing this will not modify any behavior and is safe. If you specifically wanted the numpy scalar type, use `np.float64` here.\n",
      "Deprecated in NumPy 1.20; for more details and guidance: https://numpy.org/devdocs/release/1.20.0-notes.html#deprecations\n",
      "  method='lar', copy_X=True, eps=np.finfo(np.float).eps,\n",
      "C:\\Users\\kaanb\\AppData\\Roaming\\Python\\Python37\\site-packages\\sklearn\\linear_model\\least_angle.py:284: DeprecationWarning: `np.float` is a deprecated alias for the builtin `float`. To silence this warning, use `float` by itself. Doing this will not modify any behavior and is safe. If you specifically wanted the numpy scalar type, use `np.float64` here.\n",
      "Deprecated in NumPy 1.20; for more details and guidance: https://numpy.org/devdocs/release/1.20.0-notes.html#deprecations\n",
      "  eps=np.finfo(np.float).eps, copy_Gram=True, verbose=0,\n",
      "C:\\Users\\kaanb\\AppData\\Roaming\\Python\\Python37\\site-packages\\sklearn\\linear_model\\least_angle.py:862: DeprecationWarning: `np.float` is a deprecated alias for the builtin `float`. To silence this warning, use `float` by itself. Doing this will not modify any behavior and is safe. If you specifically wanted the numpy scalar type, use `np.float64` here.\n",
      "Deprecated in NumPy 1.20; for more details and guidance: https://numpy.org/devdocs/release/1.20.0-notes.html#deprecations\n",
      "  eps=np.finfo(np.float).eps, copy_X=True, fit_path=True,\n",
      "C:\\Users\\kaanb\\AppData\\Roaming\\Python\\Python37\\site-packages\\sklearn\\linear_model\\least_angle.py:1101: DeprecationWarning: `np.float` is a deprecated alias for the builtin `float`. To silence this warning, use `float` by itself. Doing this will not modify any behavior and is safe. If you specifically wanted the numpy scalar type, use `np.float64` here.\n",
      "Deprecated in NumPy 1.20; for more details and guidance: https://numpy.org/devdocs/release/1.20.0-notes.html#deprecations\n",
      "  eps=np.finfo(np.float).eps, copy_X=True, fit_path=True,\n",
      "C:\\Users\\kaanb\\AppData\\Roaming\\Python\\Python37\\site-packages\\sklearn\\linear_model\\least_angle.py:1127: DeprecationWarning: `np.float` is a deprecated alias for the builtin `float`. To silence this warning, use `float` by itself. Doing this will not modify any behavior and is safe. If you specifically wanted the numpy scalar type, use `np.float64` here.\n",
      "Deprecated in NumPy 1.20; for more details and guidance: https://numpy.org/devdocs/release/1.20.0-notes.html#deprecations\n",
      "  eps=np.finfo(np.float).eps, positive=False):\n",
      "C:\\Users\\kaanb\\AppData\\Roaming\\Python\\Python37\\site-packages\\sklearn\\linear_model\\least_angle.py:1362: DeprecationWarning: `np.float` is a deprecated alias for the builtin `float`. To silence this warning, use `float` by itself. Doing this will not modify any behavior and is safe. If you specifically wanted the numpy scalar type, use `np.float64` here.\n",
      "Deprecated in NumPy 1.20; for more details and guidance: https://numpy.org/devdocs/release/1.20.0-notes.html#deprecations\n",
      "  max_n_alphas=1000, n_jobs=None, eps=np.finfo(np.float).eps,\n",
      "C:\\Users\\kaanb\\AppData\\Roaming\\Python\\Python37\\site-packages\\sklearn\\linear_model\\least_angle.py:1602: DeprecationWarning: `np.float` is a deprecated alias for the builtin `float`. To silence this warning, use `float` by itself. Doing this will not modify any behavior and is safe. If you specifically wanted the numpy scalar type, use `np.float64` here.\n",
      "Deprecated in NumPy 1.20; for more details and guidance: https://numpy.org/devdocs/release/1.20.0-notes.html#deprecations\n",
      "  max_n_alphas=1000, n_jobs=None, eps=np.finfo(np.float).eps,\n",
      "C:\\Users\\kaanb\\AppData\\Roaming\\Python\\Python37\\site-packages\\sklearn\\linear_model\\least_angle.py:1738: DeprecationWarning: `np.float` is a deprecated alias for the builtin `float`. To silence this warning, use `float` by itself. Doing this will not modify any behavior and is safe. If you specifically wanted the numpy scalar type, use `np.float64` here.\n",
      "Deprecated in NumPy 1.20; for more details and guidance: https://numpy.org/devdocs/release/1.20.0-notes.html#deprecations\n",
      "  eps=np.finfo(np.float).eps, copy_X=True, positive=False):\n",
      "C:\\Users\\kaanb\\AppData\\Roaming\\Python\\Python37\\site-packages\\sklearn\\decomposition\\online_lda.py:29: DeprecationWarning: `np.float` is a deprecated alias for the builtin `float`. To silence this warning, use `float` by itself. Doing this will not modify any behavior and is safe. If you specifically wanted the numpy scalar type, use `np.float64` here.\n",
      "Deprecated in NumPy 1.20; for more details and guidance: https://numpy.org/devdocs/release/1.20.0-notes.html#deprecations\n",
      "  EPS = np.finfo(np.float).eps\n",
      "C:\\Users\\kaanb\\AppData\\Roaming\\Python\\Python37\\site-packages\\sklearn\\ensemble\\gradient_boosting.py:32: DeprecationWarning: `np.bool` is a deprecated alias for the builtin `bool`. To silence this warning, use `bool` by itself. Doing this will not modify any behavior and is safe. If you specifically wanted the numpy scalar type, use `np.bool_` here.\n",
      "Deprecated in NumPy 1.20; for more details and guidance: https://numpy.org/devdocs/release/1.20.0-notes.html#deprecations\n",
      "  from ._gradient_boosting import predict_stages\n",
      "C:\\Users\\kaanb\\AppData\\Roaming\\Python\\Python37\\site-packages\\sklearn\\ensemble\\gradient_boosting.py:32: DeprecationWarning: `np.bool` is a deprecated alias for the builtin `bool`. To silence this warning, use `bool` by itself. Doing this will not modify any behavior and is safe. If you specifically wanted the numpy scalar type, use `np.bool_` here.\n",
      "Deprecated in NumPy 1.20; for more details and guidance: https://numpy.org/devdocs/release/1.20.0-notes.html#deprecations\n",
      "  from ._gradient_boosting import predict_stages\n"
     ]
    }
   ],
   "source": [
    "import os,sys,inspect\n",
    "module_path = os.path.abspath(os.path.join('..'))\n",
    "if module_path not in sys.path:\n",
    "    sys.path.append(module_path)\n",
    "from datetime import datetime\n",
    "from agents.Base import deepagents, run\n",
    "from agents.BlueAgents import *\n",
    "from data.preprocessing import data_split, get_price, DataProcessor\n",
    "import pandas as pd\n",
    "import numpy as np\n",
    "from agents.wrappers.ObservationWrapper import NormalizedEnv\n",
    "from stable_baselines3.common.vec_env import DummyVecEnv, VecNormalize\n",
    "from env.BaseEnv import EnvConfig\n",
    "from env.EnvStock_train import StockEnvTrain\n",
    "from env.EnvStock_trade import StockEnvTrade\n",
    "from env.EnvStock_val import StockEnvValidation\n",
    "from env.crypto.SingleCryptoEnv import SingleCryptoEnv\n",
    "from env.crypto.SingleCryptoEnv import SingleCryptoEnv\n",
    "from env.BaseEnv import EnvConfig\n",
    "from agents.BlueAgents import TrainerConfig\n",
    "\n",
    "%matplotlib inline\n",
    "%load_ext autoreload\n",
    "%autoreload 2"
   ]
  },
  {
   "cell_type": "code",
   "execution_count": 3,
   "id": "168879b2",
   "metadata": {},
   "outputs": [],
   "source": [
    "df = pd.read_csv('../datasets/downew30.csv')\n",
    "cwd = '../AgentResult'"
   ]
  },
  {
   "cell_type": "code",
   "execution_count": 4,
   "id": "624553b5",
   "metadata": {},
   "outputs": [],
   "source": [
    "indata = data_split(df, '2010-01-01','2021-12-25')"
   ]
  },
  {
   "cell_type": "code",
   "execution_count": 5,
   "id": "be0f81e7",
   "metadata": {},
   "outputs": [],
   "source": [
    "# Winner hparams with 3.1m ending for PPO\n",
    "# environment reward is grade 0\n",
    "# indicator based\n",
    "# Error on reward where the agent get -500 \n",
    "\n",
    "last_winner ={'eval_time_gap': 32, 'batch_size': 32, \n",
    " 'gamma': 0.98, 'learning_rate': 0.03372, \n",
    " 'target_step': 86175, 'net_dimension': 1026, 'episode': 3, 'seed': 42069}\n",
    "\n",
    "rec_decay ={'eval_time_gap': 32, 'batch_size': 32, \n",
    " 'gamma': 0.98, 'learning_rate': {'start':0.03372, 'end':0.0001}, \n",
    " 'target_step': 86175, 'net_dimension': 1026, 'episode': 20, 'seed': 42069}"
   ]
  },
  {
   "cell_type": "markdown",
   "id": "e98b3e6a",
   "metadata": {},
   "source": [
    "# Own agent"
   ]
  },
  {
   "cell_type": "markdown",
   "id": "b4fab81e",
   "metadata": {},
   "source": [
    "1. Winner params\n",
    "'''\n",
    "    model_kwargs = {\n",
    "        'learning_rate':0.0027,\n",
    "        'batch_size':64,\n",
    "        'gamma':0.99,\n",
    "        'seed':42069,\n",
    "        'net_dimension':256, # Change this dimension to be more dynamic\n",
    "        'target_step':5000,\n",
    "        'eval_time_gap':10\n",
    "    }\n",
    "\n",
    "    model_name = 'jim-ppo-v2'\n",
    "    model_type = 'ppo'\n",
    "\n",
    "    with indicators without open high low close and without the episodic training\n",
    "    \n",
    "    rebalance_window = 63\n",
    "    validation_window = 63\n",
    "'''"
   ]
  },
  {
   "cell_type": "markdown",
   "id": "489ca633",
   "metadata": {},
   "source": [
    "- [x] Change the timesteps version make sure it does reiterate with same agent\n",
    "- [x] Normalize Inputs for the model\n",
    "- [x] Normalize reward function\n",
    "- [ ] Vectorized paralel envs\n",
    "- [x] start trading from 2016\n",
    "- [x] Add PBT\n",
    "- [x] Change neet dimension problem here you cannot make it another than 160 \n",
    "- [x] Create summary write for tensorboard\n",
    "- [ ] Input dictionary\n",
    "- [ ] Auxilary Loss\n",
    "- [x] LR Decay\n",
    "- [ ] Loss on sell -- loss compared to buy and hold of stock\n",
    "- [ ] Stock Randomization (Automatic Domain Randomization)\n",
    "- [ ] Implement shared layer and seperate networks for RNN's\n",
    "- [x] **CHANGE TRAINGIN PROCESS WHERE IT CREATES TRAJECTORIES WITH THE NEW UPDATED POLCIY**\n",
    "- [ ] Implement Early stopping\n",
    "- [ ] Add time-frame to data /check whats added\n",
    "- [x] Training with giving a stocks information together, not indicator based style\n",
    "- [ ] Decision Transformer\n",
    "- [ ] Win / Loss multi agent training\n",
    "- [ ] kelly criterion as auxilary task / optimize kelly main obj"
   ]
  },
  {
   "cell_type": "code",
   "execution_count": 5,
   "id": "3606712a",
   "metadata": {},
   "outputs": [],
   "source": [
    "MODELS = ['ddpg','ppo','recurrent_ppo']\n",
    "\n",
    "model_kwargs = {\n",
    "    'learning_rate':0.0035,\n",
    "    'batch_size':16,\n",
    "    'gamma':0.99,\n",
    "    'seed':6931,\n",
    "    'net_dimension':1024, \n",
    "    'target_step':42500,\n",
    "    'eval_time_gap':11,\n",
    "    \"episode\":40 # NONE if you only want to give target step\n",
    "}\n",
    "\n",
    "second = {'eval_time_gap': 16, 'batch_size': 16, 'gamma': 0.999, 'learning_rate': 0.04498, \n",
    "          'target_step': 80242, 'net_dimension': 128, 'episode': 5, 'seed': 31} # This lost to bnh in crisis\n",
    "model_name = 'jim-ppo-recurrent'\n",
    "model_type = MODELS[1]\n",
    "env_config = EnvConfig(stock_first_state= False, reward_grade=1)\n",
    "tconfig = TrainerConfig(dataset_version = 'DOW30', \n",
    "                        population = 25, normalize_env=True, \n",
    "                        rebalance_window=126, validation_window=126)\n",
    "# For trading dolars in the environment set hmax normalize which is max dollar amount to buy in one order\n",
    "env_config_dollar_trade = EnvConfig(stock_first_state= False, INITIAL_ACCOUNT_BALANCE= 10000, quantity_buying=False, HMAX_NORMALIZE=500)"
   ]
  },
  {
   "cell_type": "code",
   "execution_count": 6,
   "id": "630f0fb8",
   "metadata": {},
   "outputs": [],
   "source": [
    "agent_builder = DRLAgent(model_name ,model_type, StockEnvTrain, \n",
    "                         StockEnvValidation, \n",
    "                         StockEnvTrade, indata, last_winner, tconfig, config = env_config)\n"
   ]
  },
  {
   "cell_type": "code",
   "execution_count": null,
   "id": "b931086d",
   "metadata": {},
   "outputs": [
    {
     "name": "stdout",
     "output_type": "stream",
     "text": [
      "============================================\n",
      "{'eval_time_gap': 32, 'batch_size': 32, 'gamma': 0.98, 'learning_rate': 0.03372, 'target_step': 86175, 'net_dimension': 1026, 'episode': 3, 'seed': 42069}\n",
      "======Model training from:  2010-01-01 to  2016-01-04\n",
      "| Remove cwd: ./trained_models\n",
      "Using device:  cpu\n",
      "################################################################################\n",
      "ID     Step    maxR |    avgR   stdR   avgS  stdS |    expR   objC   etc.\n"
     ]
    },
    {
     "name": "stderr",
     "output_type": "stream",
     "text": [
      "  0%|                                                                                            | 0/3 [00:00<?, ?it/s]C:\\Users\\kaanb\\Desktop\\Code\\Finance\\Bot\\FundSimulator\\agents\\agents\\ppo.py:297: UserWarning: Creating a tensor from a list of numpy.ndarrays is extremely slow. Please consider converting the list to a single numpy.ndarray with numpy.array() before converting to a tensor. (Triggered internally at  ..\\torch\\csrc\\utils\\tensor_new.cpp:201.)\n",
      "  ten_reward = torch.as_tensor(temp[1], dtype=torch.float32) * reward_scale\n"
     ]
    }
   ],
   "source": [
    "agent_builder.run_prediction(total_timesteps=1000)"
   ]
  },
  {
   "cell_type": "code",
   "execution_count": 7,
   "id": "7c7d13c6",
   "metadata": {},
   "outputs": [
    {
     "name": "stdout",
     "output_type": "stream",
     "text": [
      "======Training Agents with the population of 25========\n",
      "============================================\n",
      "Agent:  0 / 25\n",
      "{'eval_time_gap': 32, 'batch_size': 32, 'gamma': 0.98, 'learning_rate': 0.03372, 'target_step': 86175, 'net_dimension': 1026, 'episode': 3, 'seed': 42069}\n",
      "======Model training from:  2010-01-01 to  2016-01-04\n",
      "| Remove cwd: ./trained_models\n",
      "Using device:  cpu\n",
      "################################################################################\n",
      "ID     Step    maxR |    avgR   stdR   avgS  stdS |    expR   objC   etc.\n"
     ]
    },
    {
     "name": "stderr",
     "output_type": "stream",
     "text": [
      "  0%|                                                                                            | 0/3 [00:00<?, ?it/s]C:\\Users\\kaanb\\Desktop\\Code\\Finance\\Bot\\FundSimulator\\agents\\agents\\ppo.py:299: UserWarning: Creating a tensor from a list of numpy.ndarrays is extremely slow. Please consider converting the list to a single numpy.ndarray with numpy.array() before converting to a tensor. (Triggered internally at  ..\\torch\\csrc\\utils\\tensor_new.cpp:201.)\n",
      "  ten_reward = torch.as_tensor(temp[1], dtype=torch.float32) * reward_scale\n"
     ]
    },
    {
     "name": "stdout",
     "output_type": "stream",
     "text": [
      "0  1.51e+03    3.26 |    3.26    0.1    125     0 |   -0.05   0.28   0.20  -0.49\n"
     ]
    },
    {
     "name": "stderr",
     "output_type": "stream",
     "text": [
      "\r",
      " 33%|████████████████████████████                                                        | 1/3 [00:49<01:38, 49.33s/it]"
     ]
    },
    {
     "name": "stdout",
     "output_type": "stream",
     "text": [
      "0  3.02e+03    3.26 |    2.04    0.0    125     0 |    0.00   0.07   0.05  -0.49\n"
     ]
    },
    {
     "name": "stderr",
     "output_type": "stream",
     "text": [
      "\r",
      " 67%|████████████████████████████████████████████████████████                            | 2/3 [01:30<00:44, 44.39s/it]"
     ]
    },
    {
     "name": "stdout",
     "output_type": "stream",
     "text": [
      "0  4.53e+03    3.26 |    1.96    0.0    125     0 |   -0.01   0.23   0.35  -0.49\n"
     ]
    },
    {
     "name": "stderr",
     "output_type": "stream",
     "text": [
      "100%|████████████████████████████████████████████████████████████████████████████████████| 3/3 [02:23<00:00, 47.87s/it]\n"
     ]
    },
    {
     "name": "stdout",
     "output_type": "stream",
     "text": [
      "| UsedTime:     144 | SavedDir: ./trained_models | Total Step: 1508\n",
      "======jim-ppo-recurrent-317-agent-0 Validation from:  2016-01-04 to  2016-07-01\n",
      "Max reward at validation for Reccurent PPO 125.0\n",
      "Model updated:  1131  times\n",
      "======Trading from:  2016-07-05 to  2017-01-03\n",
      "Using device:  cpu\n",
      "previous_total_asset:1000000\n",
      "end_total_asset:1110289.932818039\n",
      "total_asset_change:110289.93281803909\n",
      "Total cash is: 20.90457402042921$ and total holdings in stocks are 1110269.0282440186$\n",
      "Buy & Hold strategy with previous total asset:  1107583.5885027447\n",
      "Total Cost:  998.980115310669\n",
      "Sum of rewards  110289.93281803909\n",
      "Total trades:  116\n",
      "Total buy orders are 116 and total sell orders are 0\n",
      "Total days in turbulance:  0\n",
      "Sharpe:  0.2966978918915943\n",
      "Test Finished!\n",
      "episode_return % 0.11030000000000006\n",
      "============================================\n",
      "Agent:  0 / 25\n",
      "{'eval_time_gap': 32, 'batch_size': 32, 'gamma': 0.98, 'learning_rate': 0.03372, 'target_step': 86175, 'net_dimension': 1026, 'episode': 3, 'seed': 42069}\n",
      "======Model training from:  2010-01-01 to  2016-07-05\n",
      "| Remove cwd: ./trained_models\n",
      "Using device:  cpu\n",
      "################################################################################\n",
      "ID     Step    maxR |    avgR   stdR   avgS  stdS |    expR   objC   etc.\n"
     ]
    },
    {
     "name": "stderr",
     "output_type": "stream",
     "text": [
      "\r",
      "  0%|                                                                                            | 0/3 [00:00<?, ?it/s]"
     ]
    },
    {
     "name": "stdout",
     "output_type": "stream",
     "text": [
      "0  1.64e+03    2.49 |    2.49    0.8    125     0 |   -0.05   0.06   0.16  -0.47\n"
     ]
    },
    {
     "name": "stderr",
     "output_type": "stream",
     "text": [
      "\r",
      " 33%|████████████████████████████                                                        | 1/3 [01:01<02:02, 61.10s/it]"
     ]
    },
    {
     "name": "stdout",
     "output_type": "stream",
     "text": [
      "0  3.27e+03    2.49 |   -1.98    0.2    125     0 |   -0.00   0.03   0.04  -0.47\n"
     ]
    },
    {
     "name": "stderr",
     "output_type": "stream",
     "text": [
      "\r",
      " 67%|████████████████████████████████████████████████████████                            | 2/3 [01:54<00:56, 56.67s/it]"
     ]
    },
    {
     "name": "stdout",
     "output_type": "stream",
     "text": [
      "0  4.90e+03    2.49 |   -1.61    0.1    125     0 |   -0.01   0.30   0.25  -0.47\n"
     ]
    },
    {
     "name": "stderr",
     "output_type": "stream",
     "text": [
      "100%|████████████████████████████████████████████████████████████████████████████████████| 3/3 [02:55<00:00, 58.35s/it]\n"
     ]
    },
    {
     "name": "stdout",
     "output_type": "stream",
     "text": [
      "| UsedTime:     175 | SavedDir: ./trained_models | Total Step: 1634\n",
      "======jim-ppo-recurrent-317-agent-0 Validation from:  2016-07-05 to  2016-12-30\n",
      "Max reward at validation for Reccurent PPO 125.0\n",
      "Model updated:  2356  times\n",
      "======Trading from:  2017-01-03 to  2017-07-05\n",
      "Using device:  cpu\n",
      "Saving to  results/account_value_trade_main_jim-ppo-recurrent-317-agent-0.csv\n",
      "previous_total_asset:1110289.932818039\n",
      "end_total_asset:1204807.2069687578\n",
      "total_asset_change:94517.2741507187\n",
      "Total cash is: -3.215081718334204$ and total holdings in stocks are 1204810.422050476$\n",
      "Buy & Hold strategy with previous total asset:  1203030.3934965956\n",
      "Total Cost:  1465.9248238906866\n",
      "Sum of rewards  89318.67518221284\n",
      "Total trades:  174\n",
      "Total buy orders are 99 and total sell orders are 75\n",
      "Total days in turbulance:  0\n",
      "Sharpe:  0.293597930700437\n",
      "Test Finished!\n",
      "episode_return % 0.2048000000000001\n",
      "============================================\n",
      "Agent:  0 / 25\n",
      "{'eval_time_gap': 32, 'batch_size': 32, 'gamma': 0.98, 'learning_rate': 0.03372, 'target_step': 86175, 'net_dimension': 1026, 'episode': 3, 'seed': 42069}\n",
      "======Model training from:  2010-01-01 to  2017-01-03\n",
      "| Remove cwd: ./trained_models\n",
      "Using device:  cpu\n",
      "################################################################################\n",
      "ID     Step    maxR |    avgR   stdR   avgS  stdS |    expR   objC   etc.\n"
     ]
    },
    {
     "name": "stderr",
     "output_type": "stream",
     "text": [
      "\r",
      "  0%|                                                                                            | 0/3 [00:00<?, ?it/s]"
     ]
    },
    {
     "name": "stdout",
     "output_type": "stream",
     "text": [
      "0  1.76e+03    4.26 |    4.26    0.0    125     0 |   -0.04   0.49   0.11  -0.49\n"
     ]
    },
    {
     "name": "stderr",
     "output_type": "stream",
     "text": [
      "\r",
      "  0%|                                                                                            | 0/3 [01:14<?, ?it/s]"
     ]
    },
    {
     "name": "stdout",
     "output_type": "stream",
     "text": [
      "Reached goals on 1762\n",
      "| UsedTime:      74 | SavedDir: ./trained_models | Total Step: 1762\n",
      "======jim-ppo-recurrent-317-agent-0 Validation from:  2017-01-03 to  2017-07-03\n",
      "Max reward at validation for Reccurent PPO 125.0\n",
      "Model updated:  2796  times\n",
      "======Trading from:  2017-07-05 to  2018-01-03\n",
      "Using device:  cpu\n"
     ]
    },
    {
     "name": "stderr",
     "output_type": "stream",
     "text": [
      "\n"
     ]
    },
    {
     "name": "stdout",
     "output_type": "stream",
     "text": [
      "Saving to  results/account_value_trade_main_jim-ppo-recurrent-317-agent-0.csv\n",
      "previous_total_asset:1204807.2069687578\n",
      "end_total_asset:1371733.5753239864\n",
      "total_asset_change:166926.36835522857\n",
      "Total cash is: 3.587334560582825$ and total holdings in stocks are 1371729.9879894257$\n",
      "Buy & Hold strategy with previous total asset:  1401361.0907172228\n",
      "Total Cost:  1116.5077987174989\n",
      "Sum of rewards  171808.27137036528\n",
      "Total trades:  152\n",
      "Total buy orders are 78 and total sell orders are 74\n",
      "Total days in turbulance:  0\n",
      "Sharpe:  0.365370116334711\n",
      "Test Finished!\n",
      "episode_return % 0.3716999999999999\n",
      "============================================\n",
      "Agent:  0 / 25\n",
      "{'eval_time_gap': 32, 'batch_size': 32, 'gamma': 0.98, 'learning_rate': 0.03372, 'target_step': 86175, 'net_dimension': 1026, 'episode': 3, 'seed': 42069}\n",
      "======Model training from:  2010-01-01 to  2017-07-05\n",
      "| Remove cwd: ./trained_models\n",
      "Using device:  cpu\n",
      "################################################################################\n",
      "ID     Step    maxR |    avgR   stdR   avgS  stdS |    expR   objC   etc.\n"
     ]
    },
    {
     "name": "stderr",
     "output_type": "stream",
     "text": [
      "\r",
      "  0%|                                                                                            | 0/3 [00:00<?, ?it/s]"
     ]
    },
    {
     "name": "stdout",
     "output_type": "stream",
     "text": [
      "0  1.89e+03    3.90 |    3.90    1.2    125     0 |   -0.04   0.56   0.07  -0.43\n"
     ]
    },
    {
     "name": "stderr",
     "output_type": "stream",
     "text": [
      "\r",
      " 33%|████████████████████████████                                                        | 1/3 [01:08<02:17, 68.80s/it]"
     ]
    },
    {
     "name": "stdout",
     "output_type": "stream",
     "text": [
      "0  3.78e+03    3.90 |    3.60    0.0    125     0 |   -0.01   0.24   0.41  -0.43\n"
     ]
    },
    {
     "name": "stderr",
     "output_type": "stream",
     "text": [
      "\r",
      " 67%|████████████████████████████████████████████████████████                            | 2/3 [02:12<01:06, 66.09s/it]"
     ]
    },
    {
     "name": "stdout",
     "output_type": "stream",
     "text": [
      "0  5.66e+03    3.90 |    3.54    0.0    125     0 |    0.00   0.04   0.43  -0.43\n"
     ]
    },
    {
     "name": "stderr",
     "output_type": "stream",
     "text": [
      "100%|████████████████████████████████████████████████████████████████████████████████████| 3/3 [03:25<00:00, 68.59s/it]\n"
     ]
    },
    {
     "name": "stdout",
     "output_type": "stream",
     "text": [
      "| UsedTime:     206 | SavedDir: ./trained_models | Total Step: 1886\n",
      "======jim-ppo-recurrent-317-agent-0 Validation from:  2017-07-05 to  2018-01-02\n",
      "Max reward at validation for Reccurent PPO 125.0\n",
      "Model updated:  4210  times\n",
      "======Trading from:  2018-01-03 to  2018-07-05\n",
      "Using device:  cpu\n",
      "Saving to  results/account_value_trade_main_jim-ppo-recurrent-317-agent-0.csv\n",
      "previous_total_asset:1371733.5753239864\n",
      "end_total_asset:1269723.9075639308\n",
      "total_asset_change:-102009.66776005551\n",
      "Total cash is: 20.122720485934906$ and total holdings in stocks are 1269703.7848434448$\n",
      "Buy & Hold strategy with previous total asset:  1355235.6131078023\n",
      "Total Cost:  1560.12285534668\n",
      "Sum of rewards  -99682.8757163696\n",
      "Total trades:  204\n",
      "Total buy orders are 131 and total sell orders are 73\n",
      "Total days in turbulance:  0\n",
      "Sharpe:  -0.09653984232924896\n",
      "Test Finished!\n",
      "episode_return % 0.26970000000000005\n",
      "Calculating buy and hold\n",
      "Buy and Hold value is  1475283.0604952318\n",
      "Buy and hold bigger than performances\n",
      "Writing hparams:  {'eval_time_gap': 32, 'batch_size': 32, 'gamma': 0.98, 'learning_rate': 0.03372, 'target_step': 86175, 'net_dimension': 1026, 'episode': 3, 'seed': 42069}\n",
      "============================================\n",
      "Agent:  1 / 25\n",
      "{'eval_time_gap': 32, 'batch_size': 32, 'gamma': 0.98, 'learning_rate': 0.00134, 'target_step': 41838, 'net_dimension': 256, 'episode': 12, 'seed': 42069}\n",
      "======Model training from:  2010-01-01 to  2016-01-04\n",
      "| Remove cwd: ./trained_models\n",
      "Using device:  cpu\n",
      "################################################################################\n",
      "ID     Step    maxR |    avgR   stdR   avgS  stdS |    expR   objC   etc.\n"
     ]
    },
    {
     "name": "stderr",
     "output_type": "stream",
     "text": [
      "\r",
      "  0%|                                                                                           | 0/12 [00:00<?, ?it/s]"
     ]
    },
    {
     "name": "stdout",
     "output_type": "stream",
     "text": [
      "0  1.51e+03    4.91 |    4.91    1.0    125     0 |   -0.06   0.01   0.05  -0.50\n"
     ]
    },
    {
     "name": "stderr",
     "output_type": "stream",
     "text": [
      "\r",
      "  0%|                                                                                           | 0/12 [00:46<?, ?it/s]"
     ]
    },
    {
     "name": "stdout",
     "output_type": "stream",
     "text": [
      "Reached goals on 1510\n",
      "| UsedTime:      46 | SavedDir: ./trained_models | Total Step: 1510\n",
      "======jim-ppo-recurrent-317-agent-1 Validation from:  2016-01-04 to  2016-07-01\n",
      "Max reward at validation for Reccurent PPO 125.0\n",
      "Model updated:  4587  times\n",
      "======Trading from:  2016-07-05 to  2017-01-03\n",
      "Using device:  cpu\n"
     ]
    },
    {
     "name": "stderr",
     "output_type": "stream",
     "text": [
      "\n"
     ]
    },
    {
     "name": "stdout",
     "output_type": "stream",
     "text": [
      "previous_total_asset:1000000\n",
      "end_total_asset:1007451.1376412911\n",
      "total_asset_change:7451.137641291134\n",
      "Total cash is: 765968.3503360911$ and total holdings in stocks are 241482.7873052$\n",
      "Buy & Hold strategy with previous total asset:  1107583.5885027447\n",
      "Total Cost:  402.0804123503449\n",
      "Sum of rewards  7451.137641291134\n",
      "Total trades:  2197\n",
      "Total buy orders are 1514 and total sell orders are 683\n",
      "Total days in turbulance:  0\n",
      "Sharpe:  0.17372902596450893\n",
      "Test Finished!\n",
      "episode_return % 0.007500000000000062\n",
      "============================================\n",
      "Agent:  1 / 25\n",
      "{'eval_time_gap': 32, 'batch_size': 32, 'gamma': 0.98, 'learning_rate': 0.00134, 'target_step': 41838, 'net_dimension': 256, 'episode': 12, 'seed': 42069}\n",
      "======Model training from:  2010-01-01 to  2016-07-05\n",
      "| Remove cwd: ./trained_models\n",
      "Using device:  cpu\n",
      "################################################################################\n",
      "ID     Step    maxR |    avgR   stdR   avgS  stdS |    expR   objC   etc.\n"
     ]
    },
    {
     "name": "stderr",
     "output_type": "stream",
     "text": [
      "\r",
      "  0%|                                                                                           | 0/12 [00:00<?, ?it/s]"
     ]
    },
    {
     "name": "stdout",
     "output_type": "stream",
     "text": [
      "0  1.64e+03    3.26 |    3.26    0.5    125     0 |   -0.06   0.04  -0.12  -0.51\n"
     ]
    },
    {
     "name": "stderr",
     "output_type": "stream",
     "text": [
      "\r",
      "  8%|██████▉                                                                            | 1/12 [00:36<06:38, 36.23s/it]"
     ]
    },
    {
     "name": "stdout",
     "output_type": "stream",
     "text": [
      "0  3.27e+03    3.26 |    2.98    1.2    125     0 |   -0.01   0.00   0.04  -0.49\n"
     ]
    },
    {
     "name": "stderr",
     "output_type": "stream",
     "text": [
      "\r",
      " 17%|█████████████▊                                                                     | 2/12 [01:12<06:01, 36.18s/it]"
     ]
    },
    {
     "name": "stdout",
     "output_type": "stream",
     "text": [
      "0  4.90e+03    3.26 |    2.77    0.1    125     0 |   -0.01   0.00   0.25  -0.49\n"
     ]
    },
    {
     "name": "stderr",
     "output_type": "stream",
     "text": [
      "\r",
      " 25%|████████████████████▊                                                              | 3/12 [01:38<04:44, 31.60s/it]"
     ]
    },
    {
     "name": "stdout",
     "output_type": "stream",
     "text": [
      "0  6.54e+03    3.26 |    2.81    0.0    125     0 |   -0.01   0.00   0.48  -0.49\n"
     ]
    },
    {
     "name": "stderr",
     "output_type": "stream",
     "text": [
      "\r",
      " 33%|███████████████████████████▋                                                       | 4/12 [02:05<03:57, 29.68s/it]"
     ]
    },
    {
     "name": "stdout",
     "output_type": "stream",
     "text": [
      "0  8.17e+03    4.19 |    4.19    0.4    125     0 |   -0.01   0.00   0.17  -0.49\n"
     ]
    },
    {
     "name": "stderr",
     "output_type": "stream",
     "text": [
      "\r",
      " 33%|███████████████████████████▋                                                       | 4/12 [02:43<05:26, 40.75s/it]"
     ]
    },
    {
     "name": "stdout",
     "output_type": "stream",
     "text": [
      "Reached goals on 1632\n",
      "| UsedTime:     163 | SavedDir: ./trained_models | Total Step: 1632\n",
      "======jim-ppo-recurrent-317-agent-1 Validation from:  2016-07-05 to  2016-12-30\n",
      "Max reward at validation for Reccurent PPO 125.0\n",
      "Model updated:  6628  times\n",
      "======Trading from:  2017-01-03 to  2017-07-05\n",
      "Using device:  cpu\n"
     ]
    },
    {
     "name": "stderr",
     "output_type": "stream",
     "text": [
      "\n"
     ]
    },
    {
     "name": "stdout",
     "output_type": "stream",
     "text": [
      "Saving to  results/account_value_trade_main_jim-ppo-recurrent-317-agent-1.csv\n",
      "previous_total_asset:1007451.1376412911\n",
      "end_total_asset:1082495.1859847503\n",
      "total_asset_change:75044.04834345914\n",
      "Total cash is: 10.331166879335012$ and total holdings in stocks are 1082484.854817871$\n",
      "Buy & Hold strategy with previous total asset:  1091601.6643229572\n",
      "Total Cost:  1160.6169428128264\n",
      "Sum of rewards  75058.56938236649\n",
      "Total trades:  178\n",
      "Total buy orders are 136 and total sell orders are 42\n",
      "Total days in turbulance:  0\n",
      "Sharpe:  0.23354151159692807\n",
      "Test Finished!\n",
      "episode_return % 0.08250000000000002\n",
      "============================================\n",
      "Agent:  1 / 25\n",
      "{'eval_time_gap': 32, 'batch_size': 32, 'gamma': 0.98, 'learning_rate': 0.00134, 'target_step': 41838, 'net_dimension': 256, 'episode': 12, 'seed': 42069}\n",
      "======Model training from:  2010-01-01 to  2017-01-03\n",
      "| Remove cwd: ./trained_models\n",
      "Using device:  cpu\n",
      "################################################################################\n",
      "ID     Step    maxR |    avgR   stdR   avgS  stdS |    expR   objC   etc.\n"
     ]
    },
    {
     "name": "stderr",
     "output_type": "stream",
     "text": [
      "\r",
      "  0%|                                                                                           | 0/12 [00:00<?, ?it/s]"
     ]
    },
    {
     "name": "stdout",
     "output_type": "stream",
     "text": [
      "0  1.76e+03    4.49 |    4.49    1.9    125     0 |   -0.05   0.07  -0.19  -0.51\n"
     ]
    },
    {
     "name": "stderr",
     "output_type": "stream",
     "text": [
      "\r",
      "  0%|                                                                                           | 0/12 [00:36<?, ?it/s]"
     ]
    },
    {
     "name": "stdout",
     "output_type": "stream",
     "text": [
      "Reached goals on 1762\n",
      "| UsedTime:      37 | SavedDir: ./trained_models | Total Step: 1762\n",
      "======jim-ppo-recurrent-317-agent-1 Validation from:  2017-01-03 to  2017-07-03\n",
      "Max reward at validation for Reccurent PPO 125.0\n",
      "Model updated:  7068  times\n",
      "======Trading from:  2017-07-05 to  2018-01-03\n",
      "Using device:  cpu\n"
     ]
    },
    {
     "name": "stderr",
     "output_type": "stream",
     "text": [
      "\n"
     ]
    },
    {
     "name": "stdout",
     "output_type": "stream",
     "text": [
      "Saving to  results/account_value_trade_main_jim-ppo-recurrent-317-agent-1.csv\n",
      "previous_total_asset:1082495.1859847503\n",
      "end_total_asset:1314300.4693206213\n",
      "total_asset_change:231805.28333587106\n",
      "Total cash is: 963.2394371194132$ and total holdings in stocks are 1313337.229883502$\n",
      "Buy & Hold strategy with previous total asset:  1259094.9205428094\n",
      "Total Cost:  574.1180802227882\n",
      "Sum of rewards  229713.00252191443\n",
      "Total trades:  2614\n",
      "Total buy orders are 1265 and total sell orders are 1349\n",
      "Total days in turbulance:  0\n",
      "Sharpe:  0.7127036011827679\n",
      "Test Finished!\n",
      "episode_return % 0.3143\n",
      "============================================\n",
      "Agent:  1 / 25\n",
      "{'eval_time_gap': 32, 'batch_size': 32, 'gamma': 0.98, 'learning_rate': 0.00134, 'target_step': 41838, 'net_dimension': 256, 'episode': 12, 'seed': 42069}\n",
      "======Model training from:  2010-01-01 to  2017-07-05\n",
      "| Remove cwd: ./trained_models\n",
      "Using device:  cpu\n",
      "################################################################################\n",
      "ID     Step    maxR |    avgR   stdR   avgS  stdS |    expR   objC   etc.\n"
     ]
    },
    {
     "name": "stderr",
     "output_type": "stream",
     "text": [
      "\r",
      "  0%|                                                                                           | 0/12 [00:00<?, ?it/s]"
     ]
    },
    {
     "name": "stdout",
     "output_type": "stream",
     "text": [
      "0  1.89e+03    3.92 |    3.92    1.9    125     0 |   -0.05   0.02   0.13  -0.51\n"
     ]
    },
    {
     "name": "stderr",
     "output_type": "stream",
     "text": [
      "\r",
      "  8%|██████▉                                                                            | 1/12 [00:39<07:14, 39.48s/it]"
     ]
    },
    {
     "name": "stdout",
     "output_type": "stream",
     "text": [
      "0  3.78e+03    6.46 |    6.46    6.3    125     0 |   -0.01   0.00   0.19  -0.50\n"
     ]
    },
    {
     "name": "stderr",
     "output_type": "stream",
     "text": [
      "\r",
      "  8%|██████▉                                                                            | 1/12 [01:19<14:32, 79.34s/it]"
     ]
    },
    {
     "name": "stdout",
     "output_type": "stream",
     "text": [
      "Reached goals on 1887\n",
      "| UsedTime:      79 | SavedDir: ./trained_models | Total Step: 1887\n",
      "======jim-ppo-recurrent-317-agent-1 Validation from:  2017-07-05 to  2018-01-02\n",
      "Max reward at validation for Reccurent PPO 125.0\n",
      "Model updated:  8011  times\n",
      "======Trading from:  2018-01-03 to  2018-07-05\n",
      "Using device:  cpu\n"
     ]
    },
    {
     "name": "stderr",
     "output_type": "stream",
     "text": [
      "\n"
     ]
    },
    {
     "name": "stdout",
     "output_type": "stream",
     "text": [
      "Saving to  results/account_value_trade_main_jim-ppo-recurrent-317-agent-1.csv\n",
      "previous_total_asset:1314300.4693206213\n",
      "end_total_asset:1273774.8518895153\n",
      "total_asset_change:-40525.617431106046\n",
      "Total cash is: 9.627809456529661$ and total holdings in stocks are 1273765.2240800587$\n",
      "Buy & Hold strategy with previous total asset:  1298493.2601995328\n",
      "Total Cost:  2322.7855314537196\n",
      "Sum of rewards  -48226.54461980332\n",
      "Total trades:  1015\n",
      "Total buy orders are 481 and total sell orders are 534\n",
      "Total days in turbulance:  0\n",
      "Sharpe:  -0.02867093513674043\n",
      "Test Finished!\n",
      "episode_return % 0.27380000000000004\n",
      "Calculating buy and hold\n",
      "Buy and Hold value is  1475283.0604952318\n",
      "Buy and hold bigger than performances\n",
      "Writing hparams:  {'eval_time_gap': 32, 'batch_size': 32, 'gamma': 0.98, 'learning_rate': 0.00134, 'target_step': 41838, 'net_dimension': 256, 'episode': 12, 'seed': 42069}\n",
      "value should be one of int, float, str, bool, or torch.Tensor\n",
      "Could not write the haparms {'eval_time_gap': 32, 'batch_size': 32, 'gamma': 0.98, 'learning_rate': 0.00134, 'target_step': 41838, 'net_dimension': 256, 'episode': 12, 'seed': 42069} with end total asset of  1273774.8518895153\n",
      "============================================\n",
      "Agent:  2 / 25\n",
      "{'eval_time_gap': 128, 'batch_size': 32, 'gamma': 0.99, 'learning_rate': 0.03719, 'target_step': 30628, 'net_dimension': 100, 'episode': 6, 'seed': 31}\n",
      "======Model training from:  2010-01-01 to  2016-01-04\n",
      "| Remove cwd: ./trained_models\n",
      "Using device:  cpu\n",
      "################################################################################\n",
      "ID     Step    maxR |    avgR   stdR   avgS  stdS |    expR   objC   etc.\n"
     ]
    },
    {
     "name": "stderr",
     "output_type": "stream",
     "text": [
      "\r",
      "  0%|                                                                                            | 0/6 [00:00<?, ?it/s]"
     ]
    },
    {
     "name": "stdout",
     "output_type": "stream",
     "text": [
      "0  1.51e+03    3.30 |    3.30    0.1    125     0 |   -0.05   0.10   0.27  -0.50\n"
     ]
    },
    {
     "name": "stderr",
     "output_type": "stream",
     "text": [
      "\r",
      " 17%|██████████████                                                                      | 1/6 [00:30<02:34, 30.84s/it]"
     ]
    },
    {
     "name": "stdout",
     "output_type": "stream",
     "text": [
      "0  3.02e+03    3.30 |    0.75    0.0    125     0 |   -0.01   0.28   0.18  -0.49\n"
     ]
    },
    {
     "name": "stderr",
     "output_type": "stream",
     "text": [
      "\r",
      " 33%|████████████████████████████                                                        | 2/6 [00:51<01:40, 25.04s/it]"
     ]
    },
    {
     "name": "stdout",
     "output_type": "stream",
     "text": [
      "0  4.53e+03    3.30 |    1.39    0.0    125     0 |   -0.01   0.26   0.27  -0.49\n"
     ]
    },
    {
     "name": "stderr",
     "output_type": "stream",
     "text": [
      "\r",
      " 50%|██████████████████████████████████████████                                          | 3/6 [01:13<01:10, 23.64s/it]"
     ]
    },
    {
     "name": "stdout",
     "output_type": "stream",
     "text": [
      "0  6.03e+03    3.30 |    1.57    0.0    125     0 |   -0.01   0.18   0.37  -0.49\n"
     ]
    },
    {
     "name": "stderr",
     "output_type": "stream",
     "text": [
      "\r",
      " 67%|████████████████████████████████████████████████████████                            | 4/6 [01:35<00:46, 23.04s/it]"
     ]
    },
    {
     "name": "stdout",
     "output_type": "stream",
     "text": [
      "0  7.54e+03    3.30 |    2.26    0.0    125     0 |   -0.01   0.38   0.13  -0.49\n"
     ]
    },
    {
     "name": "stderr",
     "output_type": "stream",
     "text": [
      "\r",
      " 83%|██████████████████████████████████████████████████████████████████████              | 5/6 [01:58<00:22, 22.90s/it]"
     ]
    },
    {
     "name": "stdout",
     "output_type": "stream",
     "text": [
      "0  9.04e+03    3.30 |    2.29    0.0    125     0 |   -0.02   0.48   0.25  -0.49\n"
     ]
    },
    {
     "name": "stderr",
     "output_type": "stream",
     "text": [
      "100%|████████████████████████████████████████████████████████████████████████████████████| 6/6 [02:22<00:00, 23.68s/it]\n"
     ]
    },
    {
     "name": "stdout",
     "output_type": "stream",
     "text": [
      "| UsedTime:     142 | SavedDir: ./trained_models | Total Step: 1505\n",
      "======jim-ppo-recurrent-317-agent-2 Validation from:  2016-01-04 to  2016-07-01\n",
      "Max reward at validation for Reccurent PPO 125.0\n",
      "Model updated:  10270  times\n",
      "======Trading from:  2016-07-05 to  2017-01-03\n",
      "Using device:  cpu\n",
      "previous_total_asset:1000000\n",
      "end_total_asset:1141866.090313721\n",
      "total_asset_change:141866.09031372098\n",
      "Total cash is: 3.8073699953692994$ and total holdings in stocks are 1141862.2829437256$\n",
      "Buy & Hold strategy with previous total asset:  1107583.5885027447\n",
      "Total Cost:  998.9971954345705\n",
      "Sum of rewards  141866.09031372098\n",
      "Total trades:  156\n",
      "Total buy orders are 156 and total sell orders are 0\n",
      "Total days in turbulance:  0\n",
      "Sharpe:  0.32728479766327156\n",
      "Test Finished!\n",
      "episode_return % 0.14189999999999992\n",
      "============================================\n",
      "Agent:  2 / 25\n",
      "{'eval_time_gap': 128, 'batch_size': 32, 'gamma': 0.99, 'learning_rate': 0.03719, 'target_step': 30628, 'net_dimension': 100, 'episode': 6, 'seed': 31}\n",
      "======Model training from:  2010-01-01 to  2016-07-05\n",
      "| Remove cwd: ./trained_models\n",
      "Using device:  cpu\n",
      "################################################################################\n",
      "ID     Step    maxR |    avgR   stdR   avgS  stdS |    expR   objC   etc.\n"
     ]
    },
    {
     "name": "stderr",
     "output_type": "stream",
     "text": [
      "\r",
      "  0%|                                                                                            | 0/6 [00:00<?, ?it/s]"
     ]
    },
    {
     "name": "stdout",
     "output_type": "stream",
     "text": [
      "0  1.64e+03    1.77 |    1.77    0.4    125     0 |   -0.05   0.03   0.14  -0.51\n"
     ]
    },
    {
     "name": "stderr",
     "output_type": "stream",
     "text": [
      "\r",
      " 17%|██████████████                                                                      | 1/6 [00:32<02:42, 32.45s/it]"
     ]
    },
    {
     "name": "stdout",
     "output_type": "stream",
     "text": [
      "0  3.27e+03    3.66 |    3.66    0.3    125     0 |   -0.00   0.25   0.25  -0.52\n"
     ]
    },
    {
     "name": "stderr",
     "output_type": "stream",
     "text": [
      "\r",
      " 33%|████████████████████████████                                                        | 2/6 [01:05<02:10, 32.75s/it]"
     ]
    },
    {
     "name": "stdout",
     "output_type": "stream",
     "text": [
      "0  4.90e+03    3.66 |    0.78    0.0    125     0 |   -0.01   0.35   0.46  -0.52\n"
     ]
    },
    {
     "name": "stderr",
     "output_type": "stream",
     "text": [
      "\r",
      " 50%|██████████████████████████████████████████                                          | 3/6 [01:28<01:25, 28.42s/it]"
     ]
    },
    {
     "name": "stdout",
     "output_type": "stream",
     "text": [
      "0  6.54e+03    3.66 |    1.09    0.0    125     0 |    0.00   0.05   0.35  -0.52\n"
     ]
    },
    {
     "name": "stderr",
     "output_type": "stream",
     "text": [
      "\r",
      " 67%|████████████████████████████████████████████████████████                            | 4/6 [01:52<00:52, 26.41s/it]"
     ]
    },
    {
     "name": "stdout",
     "output_type": "stream",
     "text": [
      "0  8.17e+03    3.66 |    1.96    0.0    125     0 |   -0.00   0.18   0.47  -0.52\n"
     ]
    },
    {
     "name": "stderr",
     "output_type": "stream",
     "text": [
      "\r",
      " 83%|██████████████████████████████████████████████████████████████████████              | 5/6 [02:15<00:25, 25.32s/it]"
     ]
    },
    {
     "name": "stdout",
     "output_type": "stream",
     "text": [
      "0  9.80e+03    3.66 |    2.00    0.0    125     0 |   -0.01   0.22   0.33  -0.52\n"
     ]
    },
    {
     "name": "stderr",
     "output_type": "stream",
     "text": [
      "100%|████████████████████████████████████████████████████████████████████████████████████| 6/6 [02:39<00:00, 26.55s/it]\n"
     ]
    },
    {
     "name": "stdout",
     "output_type": "stream",
     "text": [
      "| UsedTime:     159 | SavedDir: ./trained_models | Total Step: 1631\n",
      "======jim-ppo-recurrent-317-agent-2 Validation from:  2016-07-05 to  2016-12-30\n",
      "Max reward at validation for Reccurent PPO 125.0\n",
      "Model updated:  12718  times\n",
      "======Trading from:  2017-01-03 to  2017-07-05\n",
      "Using device:  cpu\n",
      "Saving to  results/account_value_trade_main_jim-ppo-recurrent-317-agent-2.csv\n",
      "previous_total_asset:1141866.090313721\n",
      "end_total_asset:1214544.0231423285\n",
      "total_asset_change:72677.9328286075\n",
      "Total cash is: 11.27230309518357$ and total holdings in stocks are 1214532.7508392334$\n",
      "Buy & Hold strategy with previous total asset:  1237244.0489160637\n",
      "Total Cost:  1253.3530467128753\n",
      "Sum of rewards  63861.55652398104\n",
      "Total trades:  166\n",
      "Total buy orders are 98 and total sell orders are 68\n",
      "Total days in turbulance:  0\n",
      "Sharpe:  0.19800235883456976\n",
      "Test Finished!\n",
      "episode_return % 0.2144999999999999\n",
      "============================================\n",
      "Agent:  2 / 25\n",
      "{'eval_time_gap': 128, 'batch_size': 32, 'gamma': 0.99, 'learning_rate': 0.03719, 'target_step': 30628, 'net_dimension': 100, 'episode': 6, 'seed': 31}\n",
      "======Model training from:  2010-01-01 to  2017-01-03\n",
      "| Remove cwd: ./trained_models\n",
      "Using device:  cpu\n",
      "################################################################################\n",
      "ID     Step    maxR |    avgR   stdR   avgS  stdS |    expR   objC   etc.\n"
     ]
    },
    {
     "name": "stderr",
     "output_type": "stream",
     "text": [
      "\r",
      "  0%|                                                                                            | 0/6 [00:00<?, ?it/s]"
     ]
    },
    {
     "name": "stdout",
     "output_type": "stream",
     "text": [
      "0  1.76e+03    2.97 |    2.97    1.5    125     0 |   -0.05   0.05   0.38  -0.46\n"
     ]
    },
    {
     "name": "stderr",
     "output_type": "stream",
     "text": [
      "\r",
      " 17%|██████████████                                                                      | 1/6 [00:33<02:48, 33.80s/it]"
     ]
    },
    {
     "name": "stdout",
     "output_type": "stream",
     "text": [
      "0  3.52e+03    4.94 |    4.94    0.2    125     0 |   -0.01   0.46   0.14  -0.46\n"
     ]
    },
    {
     "name": "stderr",
     "output_type": "stream",
     "text": [
      "\r",
      " 17%|██████████████                                                                      | 1/6 [01:08<05:42, 68.56s/it]"
     ]
    },
    {
     "name": "stdout",
     "output_type": "stream",
     "text": [
      "Reached goals on 1761\n",
      "| UsedTime:      69 | SavedDir: ./trained_models | Total Step: 1761\n",
      "======jim-ppo-recurrent-317-agent-2 Validation from:  2017-01-03 to  2017-07-03\n",
      "Max reward at validation for Reccurent PPO 125.0\n",
      "Model updated:  13598  times\n",
      "======Trading from:  2017-07-05 to  2018-01-03\n",
      "Using device:  cpu\n"
     ]
    },
    {
     "name": "stderr",
     "output_type": "stream",
     "text": [
      "\n"
     ]
    },
    {
     "name": "stdout",
     "output_type": "stream",
     "text": [
      "Saving to  results/account_value_trade_main_jim-ppo-recurrent-317-agent-2.csv\n",
      "previous_total_asset:1214544.0231423285\n",
      "end_total_asset:1362971.6381711087\n",
      "total_asset_change:148427.6150287802\n",
      "Total cash is: 0.26935473296532564$ and total holdings in stocks are 1362971.3688163757$\n",
      "Buy & Hold strategy with previous total asset:  1412686.3843029386\n",
      "Total Cost:  2352.264855939866\n",
      "Sum of rewards  149518.93566552945\n",
      "Total trades:  316\n",
      "Total buy orders are 154 and total sell orders are 162\n",
      "Total days in turbulance:  0\n",
      "Sharpe:  0.37216062758817964\n",
      "Test Finished!\n",
      "episode_return % 0.363\n",
      "============================================\n",
      "Agent:  2 / 25\n",
      "{'eval_time_gap': 128, 'batch_size': 32, 'gamma': 0.99, 'learning_rate': 0.03719, 'target_step': 30628, 'net_dimension': 100, 'episode': 6, 'seed': 31}\n",
      "======Model training from:  2010-01-01 to  2017-07-05\n",
      "| Remove cwd: ./trained_models\n",
      "Using device:  cpu\n",
      "################################################################################\n",
      "ID     Step    maxR |    avgR   stdR   avgS  stdS |    expR   objC   etc.\n"
     ]
    },
    {
     "name": "stderr",
     "output_type": "stream",
     "text": [
      "\r",
      "  0%|                                                                                            | 0/6 [00:00<?, ?it/s]"
     ]
    },
    {
     "name": "stdout",
     "output_type": "stream",
     "text": [
      "0  1.89e+03    5.41 |    5.41    2.4    125     0 |   -0.05   0.02   0.27  -0.41\n"
     ]
    },
    {
     "name": "stderr",
     "output_type": "stream",
     "text": [
      "\r",
      "  0%|                                                                                            | 0/6 [00:35<?, ?it/s]"
     ]
    },
    {
     "name": "stdout",
     "output_type": "stream",
     "text": [
      "Reached goals on 1888\n",
      "| UsedTime:      36 | SavedDir: ./trained_models | Total Step: 1888\n",
      "======jim-ppo-recurrent-317-agent-2 Validation from:  2017-07-05 to  2018-01-02\n",
      "Max reward at validation for Reccurent PPO 125.0\n",
      "Model updated:  14070  times\n",
      "======Trading from:  2018-01-03 to  2018-07-05\n",
      "Using device:  cpu\n"
     ]
    },
    {
     "name": "stderr",
     "output_type": "stream",
     "text": [
      "\n"
     ]
    },
    {
     "name": "stdout",
     "output_type": "stream",
     "text": [
      "Saving to  results/account_value_trade_main_jim-ppo-recurrent-317-agent-2.csv\n",
      "previous_total_asset:1362971.6381711087\n",
      "end_total_asset:1259572.0167308145\n",
      "total_asset_change:-103399.6214402942\n",
      "Total cash is: 25.164569407031973$ and total holdings in stocks are 1259546.8521614075$\n",
      "Buy & Hold strategy with previous total asset:  1346579.0565555664\n",
      "Total Cost:  1943.35534799385\n",
      "Sum of rewards  -105269.26660859864\n",
      "Total trades:  246\n",
      "Total buy orders are 169 and total sell orders are 77\n",
      "Total days in turbulance:  0\n",
      "Sharpe:  -0.09745650087030107\n",
      "Test Finished!\n",
      "episode_return % 0.25960000000000005\n",
      "Calculating buy and hold\n",
      "Buy and Hold value is  1475283.0604952318\n",
      "Buy and hold bigger than performances\n",
      "Writing hparams:  {'eval_time_gap': 128, 'batch_size': 32, 'gamma': 0.99, 'learning_rate': 0.03719, 'target_step': 30628, 'net_dimension': 100, 'episode': 6, 'seed': 31}\n",
      "value should be one of int, float, str, bool, or torch.Tensor\n",
      "Could not write the haparms {'eval_time_gap': 128, 'batch_size': 32, 'gamma': 0.99, 'learning_rate': 0.03719, 'target_step': 30628, 'net_dimension': 100, 'episode': 6, 'seed': 31} with end total asset of  1259572.0167308145\n",
      "============================================\n",
      "Agent:  3 / 25\n",
      "{'eval_time_gap': 2048, 'batch_size': 64, 'gamma': 0.9999, 'learning_rate': {'start': 0.00279, 'end': 0.00049}, 'target_step': 23846, 'net_dimension': 100, 'episode': 11, 'seed': 42069}\n",
      "======Model training from:  2010-01-01 to  2016-01-04\n",
      "| Remove cwd: ./trained_models\n",
      "Using device:  cpu\n",
      "################################################################################\n",
      "ID     Step    maxR |    avgR   stdR   avgS  stdS |    expR   objC   etc.\n"
     ]
    },
    {
     "name": "stderr",
     "output_type": "stream",
     "text": [
      "\r",
      "  0%|                                                                                           | 0/11 [00:00<?, ?it/s]"
     ]
    },
    {
     "name": "stdout",
     "output_type": "stream",
     "text": [
      "0  1.51e+03    3.10 |    3.10    0.4    125     0 |   -0.05   0.04  -0.14  -0.50\n"
     ]
    },
    {
     "name": "stderr",
     "output_type": "stream",
     "text": [
      "\r",
      "  9%|███████▌                                                                           | 1/11 [00:30<05:00, 30.07s/it]"
     ]
    },
    {
     "name": "stdout",
     "output_type": "stream",
     "text": [
      "0  3.02e+03    3.48 |    3.48    0.2    125     0 |   -0.01   0.03   0.27  -0.48\n"
     ]
    },
    {
     "name": "stderr",
     "output_type": "stream",
     "text": [
      "\r",
      " 18%|███████████████                                                                    | 2/11 [01:00<04:33, 30.43s/it]"
     ]
    },
    {
     "name": "stdout",
     "output_type": "stream",
     "text": [
      "0  4.53e+03    3.48 |    2.27    0.0    125     0 |   -0.00   0.00   0.32  -0.48\n"
     ]
    },
    {
     "name": "stderr",
     "output_type": "stream",
     "text": [
      "\r",
      " 27%|██████████████████████▋                                                            | 3/11 [01:20<03:24, 25.54s/it]"
     ]
    },
    {
     "name": "stdout",
     "output_type": "stream",
     "text": [
      "0  6.03e+03    3.48 |    2.51    0.0    125     0 |   -0.00   0.00   0.15  -0.48\n"
     ]
    },
    {
     "name": "stderr",
     "output_type": "stream",
     "text": [
      "\r",
      " 36%|██████████████████████████████▏                                                    | 4/11 [01:40<02:43, 23.30s/it]"
     ]
    },
    {
     "name": "stdout",
     "output_type": "stream",
     "text": [
      "0  7.54e+03    3.48 |    3.09    0.0    125     0 |   -0.02   0.06   0.04  -0.47\n"
     ]
    },
    {
     "name": "stderr",
     "output_type": "stream",
     "text": [
      "\r",
      " 45%|█████████████████████████████████████▋                                             | 5/11 [02:00<02:12, 22.09s/it]"
     ]
    },
    {
     "name": "stdout",
     "output_type": "stream",
     "text": [
      "0  9.04e+03    3.48 |    3.34    0.0    125     0 |   -0.01   0.00   0.26  -0.47\n"
     ]
    },
    {
     "name": "stderr",
     "output_type": "stream",
     "text": [
      "\r",
      " 55%|█████████████████████████████████████████████▎                                     | 6/11 [02:20<01:46, 21.31s/it]"
     ]
    },
    {
     "name": "stdout",
     "output_type": "stream",
     "text": [
      "0  1.05e+04    3.48 |    2.55    0.0    125     0 |   -0.02   0.00   0.36  -0.47\n"
     ]
    },
    {
     "name": "stderr",
     "output_type": "stream",
     "text": [
      "\r",
      " 64%|████████████████████████████████████████████████████▊                              | 7/11 [02:39<01:23, 20.80s/it]"
     ]
    },
    {
     "name": "stdout",
     "output_type": "stream",
     "text": [
      "0  1.21e+04    3.48 |    2.65    0.0    125     0 |   -0.01   0.00   0.39  -0.47\n"
     ]
    },
    {
     "name": "stderr",
     "output_type": "stream",
     "text": [
      "\r",
      " 73%|████████████████████████████████████████████████████████████▎                      | 8/11 [03:00<01:02, 20.68s/it]"
     ]
    },
    {
     "name": "stdout",
     "output_type": "stream",
     "text": [
      "0  1.36e+04    3.48 |    2.04    0.0    125     0 |   -0.00   0.00   0.17  -0.47\n"
     ]
    },
    {
     "name": "stderr",
     "output_type": "stream",
     "text": [
      "\r",
      " 82%|███████████████████████████████████████████████████████████████████▉               | 9/11 [03:20<00:40, 20.42s/it]"
     ]
    },
    {
     "name": "stdout",
     "output_type": "stream",
     "text": [
      "0  1.51e+04    3.48 |    1.75    0.0    125     0 |   -0.01   0.00   0.33  -0.47\n"
     ]
    },
    {
     "name": "stderr",
     "output_type": "stream",
     "text": [
      "\r",
      " 91%|██████████████████████████████████████████████████████████████████████████▌       | 10/11 [03:39<00:20, 20.24s/it]"
     ]
    },
    {
     "name": "stdout",
     "output_type": "stream",
     "text": [
      "0  1.66e+04    3.48 |    2.44    0.0    125     0 |   -0.01   0.00   0.30  -0.46\n"
     ]
    },
    {
     "name": "stderr",
     "output_type": "stream",
     "text": [
      "100%|██████████████████████████████████████████████████████████████████████████████████| 11/11 [04:00<00:00, 21.82s/it]\n"
     ]
    },
    {
     "name": "stdout",
     "output_type": "stream",
     "text": [
      "| UsedTime:     240 | SavedDir: ./trained_models | Total Step: 1500\n",
      "======jim-ppo-recurrent-317-agent-3 Validation from:  2016-01-04 to  2016-07-01\n",
      "Max reward at validation for Reccurent PPO 125.0\n",
      "Model updated:  16134  times\n",
      "======Trading from:  2016-07-05 to  2017-01-03\n",
      "Using device:  cpu\n",
      "previous_total_asset:1000000\n",
      "end_total_asset:1048350.23037805\n",
      "total_asset_change:48350.23037805001\n",
      "Total cash is: 19.37119534192528$ and total holdings in stocks are 1048330.8591827081$\n",
      "Buy & Hold strategy with previous total asset:  1107583.5885027447\n",
      "Total Cost:  3425.4446915266453\n",
      "Sum of rewards  48350.23037805001\n",
      "Total trades:  875\n",
      "Total buy orders are 587 and total sell orders are 288\n",
      "Total days in turbulance:  0\n",
      "Sharpe:  0.14425665052241843\n",
      "Test Finished!\n",
      "episode_return % 0.0484\n",
      "============================================\n",
      "Agent:  3 / 25\n",
      "{'eval_time_gap': 2048, 'batch_size': 64, 'gamma': 0.9999, 'learning_rate': {'start': 0.00279, 'end': 0.00049}, 'target_step': 23846, 'net_dimension': 100, 'episode': 11, 'seed': 42069}\n",
      "======Model training from:  2010-01-01 to  2016-07-05\n",
      "| Remove cwd: ./trained_models\n",
      "Using device:  cpu\n",
      "################################################################################\n",
      "ID     Step    maxR |    avgR   stdR   avgS  stdS |    expR   objC   etc.\n"
     ]
    },
    {
     "name": "stderr",
     "output_type": "stream",
     "text": [
      "\r",
      "  0%|                                                                                           | 0/11 [00:00<?, ?it/s]"
     ]
    },
    {
     "name": "stdout",
     "output_type": "stream",
     "text": [
      "0  1.64e+03    3.42 |    3.42    0.2    125     0 |   -0.05   0.02  -0.12  -0.51\n"
     ]
    },
    {
     "name": "stderr",
     "output_type": "stream",
     "text": [
      "\r",
      "  9%|███████▌                                                                           | 1/11 [00:31<05:17, 31.79s/it]"
     ]
    },
    {
     "name": "stdout",
     "output_type": "stream",
     "text": [
      "0  3.27e+03    3.42 |    1.85    0.0    125     0 |    0.00   0.00   0.38  -0.50\n"
     ]
    },
    {
     "name": "stderr",
     "output_type": "stream",
     "text": [
      "\r",
      " 18%|███████████████                                                                    | 2/11 [00:53<03:52, 25.82s/it]"
     ]
    },
    {
     "name": "stdout",
     "output_type": "stream",
     "text": [
      "0  4.90e+03    3.42 |    1.44    0.0    125     0 |   -0.00   0.00   0.42  -0.50\n"
     ]
    },
    {
     "name": "stderr",
     "output_type": "stream",
     "text": [
      "\r",
      " 27%|██████████████████████▋                                                            | 3/11 [01:15<03:11, 23.90s/it]"
     ]
    },
    {
     "name": "stdout",
     "output_type": "stream",
     "text": [
      "0  6.54e+03    3.42 |    1.70    0.1    125     0 |    0.00   0.00   0.39  -0.50\n"
     ]
    },
    {
     "name": "stderr",
     "output_type": "stream",
     "text": [
      "\r",
      " 36%|██████████████████████████████▏                                                    | 4/11 [01:36<02:39, 22.85s/it]"
     ]
    },
    {
     "name": "stdout",
     "output_type": "stream",
     "text": [
      "0  8.17e+03    3.42 |   -1.24    0.0    125     0 |    0.01   0.00   0.30  -0.50\n"
     ]
    },
    {
     "name": "stderr",
     "output_type": "stream",
     "text": [
      "\r",
      " 45%|█████████████████████████████████████▋                                             | 5/11 [01:57<02:13, 22.28s/it]"
     ]
    },
    {
     "name": "stdout",
     "output_type": "stream",
     "text": [
      "0  9.80e+03    3.42 |   -1.16    0.0    125     0 |    0.00   0.00   0.41  -0.50\n"
     ]
    },
    {
     "name": "stderr",
     "output_type": "stream",
     "text": [
      "\r",
      " 55%|█████████████████████████████████████████████▎                                     | 6/11 [02:19<01:50, 22.05s/it]"
     ]
    },
    {
     "name": "stdout",
     "output_type": "stream",
     "text": [
      "0  1.14e+04    3.42 |   -0.08    0.0    125     0 |   -0.00   0.00   0.32  -0.50\n"
     ]
    },
    {
     "name": "stderr",
     "output_type": "stream",
     "text": [
      "\r",
      " 64%|████████████████████████████████████████████████████▊                              | 7/11 [02:40<01:27, 21.83s/it]"
     ]
    },
    {
     "name": "stdout",
     "output_type": "stream",
     "text": [
      "0  1.31e+04    3.42 |    0.42    0.0    125     0 |   -0.01   0.00   0.35  -0.50\n"
     ]
    },
    {
     "name": "stderr",
     "output_type": "stream",
     "text": [
      "\r",
      " 73%|████████████████████████████████████████████████████████████▎                      | 8/11 [03:02<01:05, 21.74s/it]"
     ]
    },
    {
     "name": "stdout",
     "output_type": "stream",
     "text": [
      "0  1.47e+04    3.42 |    0.97    0.0    125     0 |   -0.01   0.00   0.35  -0.50\n"
     ]
    },
    {
     "name": "stderr",
     "output_type": "stream",
     "text": [
      "\r",
      " 82%|███████████████████████████████████████████████████████████████████▉               | 9/11 [03:23<00:43, 21.60s/it]"
     ]
    },
    {
     "name": "stdout",
     "output_type": "stream",
     "text": [
      "0  1.63e+04    3.42 |   -0.52    0.0    125     0 |   -0.01   0.00   0.20  -0.50\n"
     ]
    },
    {
     "name": "stderr",
     "output_type": "stream",
     "text": [
      "\r",
      " 91%|██████████████████████████████████████████████████████████████████████████▌       | 10/11 [03:44<00:21, 21.39s/it]"
     ]
    },
    {
     "name": "stdout",
     "output_type": "stream",
     "text": [
      "0  1.79e+04    3.42 |   -0.41    0.0    125     0 |   -0.00   0.00   0.37  -0.50\n"
     ]
    },
    {
     "name": "stderr",
     "output_type": "stream",
     "text": [
      "100%|██████████████████████████████████████████████████████████████████████████████████| 11/11 [04:05<00:00, 22.31s/it]\n"
     ]
    },
    {
     "name": "stdout",
     "output_type": "stream",
     "text": [
      "| UsedTime:     245 | SavedDir: ./trained_models | Total Step: 1626\n",
      "======jim-ppo-recurrent-317-agent-3 Validation from:  2016-07-05 to  2016-12-30\n",
      "Max reward at validation for Reccurent PPO 125.0\n",
      "Model updated:  18372  times\n",
      "======Trading from:  2017-01-03 to  2017-07-05\n",
      "Using device:  cpu\n",
      "Saving to  results/account_value_trade_main_jim-ppo-recurrent-317-agent-3.csv\n",
      "previous_total_asset:1048350.23037805\n",
      "end_total_asset:1106401.1513288105\n",
      "total_asset_change:58050.92095076048\n",
      "Total cash is: 0.6032210207607527$ and total holdings in stocks are 1106400.5481077898$\n",
      "Buy & Hold strategy with previous total asset:  1135916.9824884334\n",
      "Total Cost:  1349.2414115065137\n",
      "Sum of rewards  47404.839416354895\n",
      "Total trades:  257\n",
      "Total buy orders are 141 and total sell orders are 116\n",
      "Total days in turbulance:  0\n",
      "Sharpe:  0.15279451871043587\n",
      "Test Finished!\n",
      "episode_return % 0.10640000000000005\n",
      "============================================\n",
      "Agent:  3 / 25\n",
      "{'eval_time_gap': 2048, 'batch_size': 64, 'gamma': 0.9999, 'learning_rate': {'start': 0.00279, 'end': 0.00049}, 'target_step': 23846, 'net_dimension': 100, 'episode': 11, 'seed': 42069}\n",
      "======Model training from:  2010-01-01 to  2017-01-03\n",
      "| Remove cwd: ./trained_models\n",
      "Using device:  cpu\n",
      "################################################################################\n",
      "ID     Step    maxR |    avgR   stdR   avgS  stdS |    expR   objC   etc.\n"
     ]
    },
    {
     "name": "stderr",
     "output_type": "stream",
     "text": [
      "\r",
      "  0%|                                                                                           | 0/11 [00:00<?, ?it/s]"
     ]
    },
    {
     "name": "stdout",
     "output_type": "stream",
     "text": [
      "0  1.76e+03    5.98 |    5.98    2.6    125     0 |   -0.05   0.02  -0.07  -0.50\n"
     ]
    },
    {
     "name": "stderr",
     "output_type": "stream",
     "text": [
      "\r",
      "  0%|                                                                                           | 0/11 [00:32<?, ?it/s]"
     ]
    },
    {
     "name": "stdout",
     "output_type": "stream",
     "text": [
      "Reached goals on 1762\n",
      "| UsedTime:      32 | SavedDir: ./trained_models | Total Step: 1762\n",
      "======jim-ppo-recurrent-317-agent-3 Validation from:  2017-01-03 to  2017-07-03\n",
      "Max reward at validation for Reccurent PPO 125.0\n",
      "Model updated:  18592  times\n",
      "======Trading from:  2017-07-05 to  2018-01-03\n",
      "Using device:  cpu\n"
     ]
    },
    {
     "name": "stderr",
     "output_type": "stream",
     "text": [
      "\n"
     ]
    },
    {
     "name": "stdout",
     "output_type": "stream",
     "text": [
      "Saving to  results/account_value_trade_main_jim-ppo-recurrent-317-agent-3.csv\n",
      "previous_total_asset:1106401.1513288105\n",
      "end_total_asset:1285403.003482146\n",
      "total_asset_change:179001.85215333547\n",
      "Total cash is: 12.253967613679833$ and total holdings in stocks are 1285390.7495145323$\n",
      "Buy & Hold strategy with previous total asset:  1286900.9375349283\n",
      "Total Cost:  411.30386085316366\n",
      "Sum of rewards  185312.6557138285\n",
      "Total trades:  961\n",
      "Total buy orders are 334 and total sell orders are 627\n",
      "Total days in turbulance:  0\n",
      "Sharpe:  0.5283005476439235\n",
      "Test Finished!\n",
      "episode_return % 0.2854000000000001\n",
      "============================================\n",
      "Agent:  3 / 25\n",
      "{'eval_time_gap': 2048, 'batch_size': 64, 'gamma': 0.9999, 'learning_rate': {'start': 0.00279, 'end': 0.00049}, 'target_step': 23846, 'net_dimension': 100, 'episode': 11, 'seed': 42069}\n",
      "======Model training from:  2010-01-01 to  2017-07-05\n",
      "| Remove cwd: ./trained_models\n",
      "Using device:  cpu\n",
      "################################################################################\n",
      "ID     Step    maxR |    avgR   stdR   avgS  stdS |    expR   objC   etc.\n"
     ]
    },
    {
     "name": "stderr",
     "output_type": "stream",
     "text": [
      "\r",
      "  0%|                                                                                           | 0/11 [00:00<?, ?it/s]"
     ]
    },
    {
     "name": "stdout",
     "output_type": "stream",
     "text": [
      "0  1.89e+03    3.77 |    3.77    1.1    125     0 |   -0.05   0.03  -0.15  -0.50\n"
     ]
    },
    {
     "name": "stderr",
     "output_type": "stream",
     "text": [
      "\r",
      "  9%|███████▌                                                                           | 1/11 [00:30<05:05, 30.59s/it]"
     ]
    },
    {
     "name": "stdout",
     "output_type": "stream",
     "text": [
      "0  3.78e+03    5.61 |    5.61    0.9    125     0 |   -0.00   0.00   0.24  -0.51\n"
     ]
    },
    {
     "name": "stderr",
     "output_type": "stream",
     "text": [
      "\r",
      "  9%|███████▌                                                                           | 1/11 [01:01<10:17, 61.72s/it]"
     ]
    },
    {
     "name": "stdout",
     "output_type": "stream",
     "text": [
      "Reached goals on 1887\n",
      "| UsedTime:      62 | SavedDir: ./trained_models | Total Step: 1887\n",
      "======jim-ppo-recurrent-317-agent-3 Validation from:  2017-07-05 to  2018-01-02\n",
      "Max reward at validation for Reccurent PPO 125.0\n",
      "Model updated:  19063  times\n",
      "======Trading from:  2018-01-03 to  2018-07-05\n",
      "Using device:  cpu\n"
     ]
    },
    {
     "name": "stderr",
     "output_type": "stream",
     "text": [
      "\n"
     ]
    },
    {
     "name": "stdout",
     "output_type": "stream",
     "text": [
      "Saving to  results/account_value_trade_main_jim-ppo-recurrent-317-agent-3.csv\n",
      "previous_total_asset:1285403.003482146\n",
      "end_total_asset:1248893.9246559206\n",
      "total_asset_change:-36509.07882622536\n",
      "Total cash is: 10.82031746793973$ and total holdings in stocks are 1248883.1043384527$\n",
      "Buy & Hold strategy with previous total asset:  1269943.34676345\n",
      "Total Cost:  721.3357367904081\n",
      "Sum of rewards  -46798.39415721176\n",
      "Total trades:  344\n",
      "Total buy orders are 143 and total sell orders are 201\n",
      "Total days in turbulance:  0\n",
      "Sharpe:  -0.027248104963112505\n",
      "Test Finished!\n",
      "episode_return % 0.2488999999999999\n",
      "Calculating buy and hold\n",
      "Buy and Hold value is  1475283.0604952318\n",
      "Buy and hold bigger than performances\n",
      "Writing hparams:  {'eval_time_gap': 2048, 'batch_size': 64, 'gamma': 0.9999, 'learning_rate': {'start': 0.00279, 'end': 0.00049}, 'target_step': 23846, 'net_dimension': 100, 'episode': 11, 'seed': 42069}\n",
      "value should be one of int, float, str, bool, or torch.Tensor\n",
      "Could not write the haparms {'eval_time_gap': 2048, 'batch_size': 64, 'gamma': 0.9999, 'learning_rate': {'start': 0.00279, 'end': 0.00049}, 'target_step': 23846, 'net_dimension': 100, 'episode': 11, 'seed': 42069} with end total asset of  1248893.9246559206\n",
      "============================================\n",
      "Agent:  4 / 25\n",
      "{'eval_time_gap': 1024, 'batch_size': 32, 'gamma': 0.9999, 'learning_rate': 0.03811, 'target_step': 57978, 'net_dimension': 1026, 'episode': 13, 'seed': 69}\n",
      "======Model training from:  2010-01-01 to  2016-01-04\n",
      "| Remove cwd: ./trained_models\n",
      "Using device:  cpu\n",
      "################################################################################\n",
      "ID     Step    maxR |    avgR   stdR   avgS  stdS |    expR   objC   etc.\n"
     ]
    },
    {
     "name": "stderr",
     "output_type": "stream",
     "text": [
      "\r",
      "  0%|                                                                                           | 0/13 [00:00<?, ?it/s]"
     ]
    },
    {
     "name": "stdout",
     "output_type": "stream",
     "text": [
      "0  1.51e+03    1.13 |    1.13    0.6    125     0 |   -0.05   0.09   0.31  -0.55\n"
     ]
    },
    {
     "name": "stderr",
     "output_type": "stream",
     "text": [
      "\r",
      "  8%|██████▍                                                                            | 1/13 [00:48<09:47, 48.94s/it]"
     ]
    },
    {
     "name": "stdout",
     "output_type": "stream",
     "text": [
      "0  3.02e+03    2.20 |    2.20    0.0    125     0 |   -0.01   0.74   0.32  -0.55\n"
     ]
    },
    {
     "name": "stderr",
     "output_type": "stream",
     "text": [
      "\r",
      " 15%|████████████▊                                                                      | 2/13 [01:39<09:11, 50.17s/it]"
     ]
    },
    {
     "name": "stdout",
     "output_type": "stream",
     "text": [
      "0  4.53e+03    2.25 |    2.25    0.0    125     0 |   -0.00   0.34   0.33  -0.55\n"
     ]
    },
    {
     "name": "stderr",
     "output_type": "stream",
     "text": [
      "\r",
      " 23%|███████████████████▏                                                               | 3/13 [02:38<08:59, 53.99s/it]"
     ]
    },
    {
     "name": "stdout",
     "output_type": "stream",
     "text": [
      "0  6.03e+03    2.55 |    2.55    0.0    125     0 |   -0.00   0.34   0.39  -0.55\n"
     ]
    },
    {
     "name": "stderr",
     "output_type": "stream",
     "text": [
      "\r",
      " 31%|█████████████████████████▌                                                         | 4/13 [03:39<08:30, 56.72s/it]"
     ]
    },
    {
     "name": "stdout",
     "output_type": "stream",
     "text": [
      "0  7.54e+03    3.41 |    3.41    0.0    125     0 |   -0.01   0.48   0.26  -0.55\n"
     ]
    },
    {
     "name": "stderr",
     "output_type": "stream",
     "text": [
      "\r",
      " 38%|███████████████████████████████▉                                                   | 5/13 [04:39<07:44, 58.03s/it]"
     ]
    },
    {
     "name": "stdout",
     "output_type": "stream",
     "text": [
      "0  9.04e+03    3.41 |    3.29    0.0    125     0 |   -0.01   0.52   0.25  -0.55\n"
     ]
    },
    {
     "name": "stderr",
     "output_type": "stream",
     "text": [
      "\r",
      " 46%|██████████████████████████████████████▎                                            | 6/13 [05:29<06:27, 55.30s/it]"
     ]
    },
    {
     "name": "stdout",
     "output_type": "stream",
     "text": [
      "0  1.05e+04    3.41 |    3.27    0.0    125     0 |   -0.01   0.45   0.30  -0.55\n"
     ]
    },
    {
     "name": "stderr",
     "output_type": "stream",
     "text": [
      "\r",
      " 54%|████████████████████████████████████████████▋                                      | 7/13 [06:20<05:22, 53.81s/it]"
     ]
    },
    {
     "name": "stdout",
     "output_type": "stream",
     "text": [
      "0  1.21e+04    3.41 |    1.80    0.0    125     0 |   -0.01   0.56   0.32  -0.55\n"
     ]
    },
    {
     "name": "stderr",
     "output_type": "stream",
     "text": [
      "\r",
      " 62%|███████████████████████████████████████████████████                                | 8/13 [07:11<04:24, 52.92s/it]"
     ]
    },
    {
     "name": "stdout",
     "output_type": "stream",
     "text": [
      "0  1.36e+04    3.41 |    1.76    0.0    125     0 |   -0.01   0.71   0.42  -0.55\n"
     ]
    },
    {
     "name": "stderr",
     "output_type": "stream",
     "text": [
      "\r",
      " 69%|█████████████████████████████████████████████████████████▍                         | 9/13 [08:02<03:29, 52.39s/it]"
     ]
    },
    {
     "name": "stdout",
     "output_type": "stream",
     "text": [
      "0  1.51e+04    3.41 |    1.76    0.0    125     0 |   -0.01   0.75   0.34  -0.55\n"
     ]
    },
    {
     "name": "stderr",
     "output_type": "stream",
     "text": [
      "\r",
      " 77%|███████████████████████████████████████████████████████████████                   | 10/13 [08:54<02:36, 52.09s/it]"
     ]
    },
    {
     "name": "stdout",
     "output_type": "stream",
     "text": [
      "0  1.66e+04    3.41 |    1.77    0.0    125     0 |   -0.01   0.78   0.33  -0.55\n"
     ]
    },
    {
     "name": "stderr",
     "output_type": "stream",
     "text": [
      "\r",
      " 85%|█████████████████████████████████████████████████████████████████████▍            | 11/13 [09:45<01:43, 51.96s/it]"
     ]
    },
    {
     "name": "stdout",
     "output_type": "stream",
     "text": [
      "0  1.81e+04    3.41 |    1.77    0.0    125     0 |   -0.01   0.75   0.28  -0.55\n"
     ]
    },
    {
     "name": "stderr",
     "output_type": "stream",
     "text": [
      "\r",
      " 92%|███████████████████████████████████████████████████████████████████████████▋      | 12/13 [10:37<00:51, 51.86s/it]"
     ]
    },
    {
     "name": "stdout",
     "output_type": "stream",
     "text": [
      "0  1.96e+04    3.41 |    1.79    0.0    125     0 |   -0.01   0.68   0.32  -0.55\n"
     ]
    },
    {
     "name": "stderr",
     "output_type": "stream",
     "text": [
      "100%|██████████████████████████████████████████████████████████████████████████████████| 13/13 [11:29<00:00, 53.01s/it]\n"
     ]
    },
    {
     "name": "stdout",
     "output_type": "stream",
     "text": [
      "| UsedTime:     689 | SavedDir: ./trained_models | Total Step: 1498\n",
      "======jim-ppo-recurrent-317-agent-4 Validation from:  2016-01-04 to  2016-07-01\n",
      "Max reward at validation for Reccurent PPO 125.0\n",
      "Model updated:  23946  times\n",
      "======Trading from:  2016-07-05 to  2017-01-03\n",
      "Using device:  cpu\n",
      "previous_total_asset:1000000\n",
      "end_total_asset:1111555.4121603246\n",
      "total_asset_change:111555.41216032463\n",
      "Total cash is: 0.44767515618150355$ and total holdings in stocks are 1111554.9644851685$\n",
      "Buy & Hold strategy with previous total asset:  1107583.5885027447\n",
      "Total Cost:  999.0005517730713\n",
      "Sum of rewards  111555.41216032463\n",
      "Total trades:  134\n",
      "Total buy orders are 134 and total sell orders are 0\n",
      "Total days in turbulance:  0\n",
      "Sharpe:  0.2986060079364909\n",
      "Test Finished!\n",
      "episode_return % 0.11159999999999992\n",
      "============================================\n",
      "Agent:  4 / 25\n",
      "{'eval_time_gap': 1024, 'batch_size': 32, 'gamma': 0.9999, 'learning_rate': 0.03811, 'target_step': 57978, 'net_dimension': 1026, 'episode': 13, 'seed': 69}\n",
      "======Model training from:  2010-01-01 to  2016-07-05\n",
      "| Remove cwd: ./trained_models\n",
      "Using device:  cpu\n",
      "################################################################################\n",
      "ID     Step    maxR |    avgR   stdR   avgS  stdS |    expR   objC   etc.\n"
     ]
    },
    {
     "name": "stderr",
     "output_type": "stream",
     "text": [
      "\r",
      "  0%|                                                                                           | 0/13 [00:00<?, ?it/s]"
     ]
    },
    {
     "name": "stdout",
     "output_type": "stream",
     "text": [
      "0  1.64e+03    2.25 |    2.25    0.7    125     0 |   -0.05   0.05   0.41  -0.53\n"
     ]
    },
    {
     "name": "stderr",
     "output_type": "stream",
     "text": [
      "\r",
      "  8%|██████▍                                                                            | 1/13 [00:52<10:24, 52.03s/it]"
     ]
    },
    {
     "name": "stdout",
     "output_type": "stream",
     "text": [
      "0  3.27e+03    2.25 |    1.85    0.0    125     0 |    0.00   0.62   0.27  -0.53\n"
     ]
    },
    {
     "name": "stderr",
     "output_type": "stream",
     "text": [
      "\r",
      " 15%|████████████▊                                                                      | 2/13 [01:36<08:45, 47.80s/it]"
     ]
    },
    {
     "name": "stdout",
     "output_type": "stream",
     "text": [
      "0  4.90e+03    2.25 |    1.92    0.0    125     0 |   -0.00   0.39   0.21  -0.53\n"
     ]
    },
    {
     "name": "stderr",
     "output_type": "stream",
     "text": [
      "\r",
      " 23%|███████████████████▏                                                               | 3/13 [02:29<08:17, 49.78s/it]"
     ]
    },
    {
     "name": "stdout",
     "output_type": "stream",
     "text": [
      "0  6.54e+03    2.25 |    1.97    0.0    125     0 |   -0.01   0.49   0.28  -0.53\n"
     ]
    },
    {
     "name": "stderr",
     "output_type": "stream",
     "text": [
      "\r",
      " 31%|█████████████████████████▌                                                         | 4/13 [03:23<07:44, 51.60s/it]"
     ]
    },
    {
     "name": "stdout",
     "output_type": "stream",
     "text": [
      "0  8.17e+03    2.25 |    2.01    0.0    125     0 |   -0.01   0.44   0.30  -0.53\n"
     ]
    },
    {
     "name": "stderr",
     "output_type": "stream",
     "text": [
      "\r",
      " 38%|███████████████████████████████▉                                                   | 5/13 [04:19<07:04, 53.12s/it]"
     ]
    },
    {
     "name": "stdout",
     "output_type": "stream",
     "text": [
      "0  9.80e+03    2.25 |    2.04    0.0    125     0 |   -0.01   0.46   0.30  -0.53\n"
     ]
    },
    {
     "name": "stderr",
     "output_type": "stream",
     "text": [
      "\r",
      " 46%|██████████████████████████████████████▎                                            | 6/13 [05:14<06:16, 53.85s/it]"
     ]
    },
    {
     "name": "stdout",
     "output_type": "stream",
     "text": [
      "0  1.14e+04    2.25 |    2.07    0.0    125     0 |   -0.01   0.57   0.27  -0.53\n"
     ]
    },
    {
     "name": "stderr",
     "output_type": "stream",
     "text": [
      "\r",
      " 54%|████████████████████████████████████████████▋                                      | 7/13 [06:09<05:26, 54.35s/it]"
     ]
    },
    {
     "name": "stdout",
     "output_type": "stream",
     "text": [
      "0  1.31e+04    2.25 |    2.09    0.0    125     0 |   -0.01   0.58   0.23  -0.53\n"
     ]
    },
    {
     "name": "stderr",
     "output_type": "stream",
     "text": [
      "\r",
      " 62%|███████████████████████████████████████████████████                                | 8/13 [07:05<04:33, 54.72s/it]"
     ]
    },
    {
     "name": "stdout",
     "output_type": "stream",
     "text": [
      "0  1.47e+04    2.25 |    2.11    0.0    125     0 |   -0.01   0.41   0.34  -0.53\n"
     ]
    },
    {
     "name": "stderr",
     "output_type": "stream",
     "text": [
      "\r",
      " 69%|█████████████████████████████████████████████████████████▍                         | 9/13 [08:03<03:42, 55.67s/it]"
     ]
    },
    {
     "name": "stdout",
     "output_type": "stream",
     "text": [
      "0  1.63e+04    2.25 |    2.13    0.0    125     0 |   -0.01   0.41   0.30  -0.53\n"
     ]
    },
    {
     "name": "stderr",
     "output_type": "stream",
     "text": [
      "\r",
      " 77%|███████████████████████████████████████████████████████████████                   | 10/13 [09:01<02:49, 56.44s/it]"
     ]
    },
    {
     "name": "stdout",
     "output_type": "stream",
     "text": [
      "0  1.79e+04    2.25 |    2.14    0.0    125     0 |   -0.01   0.53   0.22  -0.53\n"
     ]
    },
    {
     "name": "stderr",
     "output_type": "stream",
     "text": [
      "\r",
      " 85%|█████████████████████████████████████████████████████████████████████▍            | 11/13 [09:59<01:54, 57.13s/it]"
     ]
    },
    {
     "name": "stdout",
     "output_type": "stream",
     "text": [
      "0  1.96e+04    2.25 |    2.16    0.0    125     0 |   -0.01   0.47   0.29  -0.53\n"
     ]
    },
    {
     "name": "stderr",
     "output_type": "stream",
     "text": [
      "\r",
      " 92%|███████████████████████████████████████████████████████████████████████████▋      | 12/13 [10:58<00:57, 57.66s/it]"
     ]
    },
    {
     "name": "stdout",
     "output_type": "stream",
     "text": [
      "0  2.12e+04    2.25 |    2.17    0.0    125     0 |   -0.01   0.44   0.28  -0.53\n"
     ]
    },
    {
     "name": "stderr",
     "output_type": "stream",
     "text": [
      "100%|██████████████████████████████████████████████████████████████████████████████████| 13/13 [11:56<00:00, 55.13s/it]\n"
     ]
    },
    {
     "name": "stdout",
     "output_type": "stream",
     "text": [
      "| UsedTime:     717 | SavedDir: ./trained_models | Total Step: 1624\n",
      "======jim-ppo-recurrent-317-agent-4 Validation from:  2016-07-05 to  2016-12-30\n",
      "Max reward at validation for Reccurent PPO 125.0\n",
      "Model updated:  29239  times\n",
      "======Trading from:  2017-01-03 to  2017-07-05\n",
      "Using device:  cpu\n",
      "Saving to  results/account_value_trade_main_jim-ppo-recurrent-317-agent-4.csv\n",
      "previous_total_asset:1111555.4121603246\n",
      "end_total_asset:1160933.845112744\n",
      "total_asset_change:49378.43295241939\n",
      "Total cash is: 24.433190289088824$ and total holdings in stocks are 1160909.4119224548$\n",
      "Buy & Hold strategy with previous total asset:  1204401.575983361\n",
      "Total Cost:  1166.650101169587\n",
      "Sum of rewards  44387.2865901147\n",
      "Total trades:  143\n",
      "Total buy orders are 92 and total sell orders are 51\n",
      "Total days in turbulance:  0\n",
      "Sharpe:  0.16966532697708256\n",
      "Test Finished!\n",
      "episode_return % 0.16090000000000004\n",
      "============================================\n",
      "Agent:  4 / 25\n",
      "{'eval_time_gap': 1024, 'batch_size': 32, 'gamma': 0.9999, 'learning_rate': 0.03811, 'target_step': 57978, 'net_dimension': 1026, 'episode': 13, 'seed': 69}\n",
      "======Model training from:  2010-01-01 to  2017-01-03\n",
      "| Remove cwd: ./trained_models\n",
      "Using device:  cpu\n",
      "################################################################################\n",
      "ID     Step    maxR |    avgR   stdR   avgS  stdS |    expR   objC   etc.\n"
     ]
    },
    {
     "name": "stderr",
     "output_type": "stream",
     "text": [
      "\r",
      "  0%|                                                                                           | 0/13 [00:00<?, ?it/s]"
     ]
    },
    {
     "name": "stdout",
     "output_type": "stream",
     "text": [
      "0  1.76e+03    5.26 |    5.26    1.1    125     0 |   -0.04   0.11   0.30  -0.48\n"
     ]
    },
    {
     "name": "stderr",
     "output_type": "stream",
     "text": [
      "\r",
      "  0%|                                                                                           | 0/13 [00:55<?, ?it/s]"
     ]
    },
    {
     "name": "stdout",
     "output_type": "stream",
     "text": [
      "Reached goals on 1762\n",
      "| UsedTime:      55 | SavedDir: ./trained_models | Total Step: 1762\n",
      "======jim-ppo-recurrent-317-agent-4 Validation from:  2017-01-03 to  2017-07-03\n",
      "Max reward at validation for Reccurent PPO 125.0\n",
      "Model updated:  29679  times\n",
      "======Trading from:  2017-07-05 to  2018-01-03\n",
      "Using device:  cpu\n"
     ]
    },
    {
     "name": "stderr",
     "output_type": "stream",
     "text": [
      "\n"
     ]
    },
    {
     "name": "stdout",
     "output_type": "stream",
     "text": [
      "Saving to  results/account_value_trade_main_jim-ppo-recurrent-317-agent-4.csv\n",
      "previous_total_asset:1160933.845112744\n",
      "end_total_asset:1460729.8194276453\n",
      "total_asset_change:299795.9743149013\n",
      "Total cash is: 12.326753771435051$ and total holdings in stocks are 1460717.492673874$\n",
      "Buy & Hold strategy with previous total asset:  1350330.169032531\n",
      "Total Cost:  1459.7440154819492\n",
      "Sum of rewards  305118.2981979579\n",
      "Total trades:  198\n",
      "Total buy orders are 101 and total sell orders are 97\n",
      "Total days in turbulance:  0\n",
      "Sharpe:  0.7218715456551376\n",
      "Test Finished!\n",
      "episode_return % 0.4607000000000001\n",
      "============================================\n",
      "Agent:  4 / 25\n",
      "{'eval_time_gap': 1024, 'batch_size': 32, 'gamma': 0.9999, 'learning_rate': 0.03811, 'target_step': 57978, 'net_dimension': 1026, 'episode': 13, 'seed': 69}\n",
      "======Model training from:  2010-01-01 to  2017-07-05\n",
      "| Remove cwd: ./trained_models\n",
      "Using device:  cpu\n",
      "################################################################################\n",
      "ID     Step    maxR |    avgR   stdR   avgS  stdS |    expR   objC   etc.\n"
     ]
    },
    {
     "name": "stderr",
     "output_type": "stream",
     "text": [
      "\r",
      "  0%|                                                                                           | 0/13 [00:00<?, ?it/s]"
     ]
    },
    {
     "name": "stdout",
     "output_type": "stream",
     "text": [
      "0  1.89e+03    4.23 |    4.23    1.2    125     0 |   -0.04   0.33   0.34  -0.47\n"
     ]
    },
    {
     "name": "stderr",
     "output_type": "stream",
     "text": [
      "\r",
      "  0%|                                                                                           | 0/13 [00:57<?, ?it/s]"
     ]
    },
    {
     "name": "stdout",
     "output_type": "stream",
     "text": [
      "Reached goals on 1888\n",
      "| UsedTime:      58 | SavedDir: ./trained_models | Total Step: 1888\n",
      "======jim-ppo-recurrent-317-agent-4 Validation from:  2017-07-05 to  2018-01-02\n",
      "Max reward at validation for Reccurent PPO 125.0\n",
      "Model updated:  30151  times\n",
      "======Trading from:  2018-01-03 to  2018-07-05\n",
      "Using device:  cpu\n"
     ]
    },
    {
     "name": "stderr",
     "output_type": "stream",
     "text": [
      "\n"
     ]
    },
    {
     "name": "stdout",
     "output_type": "stream",
     "text": [
      "Saving to  results/account_value_trade_main_jim-ppo-recurrent-317-agent-4.csv\n",
      "previous_total_asset:1460729.8194276453\n",
      "end_total_asset:1555610.4298021\n",
      "total_asset_change:94880.61037445464\n",
      "Total cash is: 0.9625741640489416$ and total holdings in stocks are 1555609.4672279358$\n",
      "Buy & Hold strategy with previous total asset:  1443161.4914356156\n",
      "Total Cost:  107.02149390792847\n",
      "Sum of rewards  91607.70134544768\n",
      "Total trades:  39\n",
      "Total buy orders are 25 and total sell orders are 14\n",
      "Total days in turbulance:  0\n",
      "Sharpe:  0.087375470315178\n",
      "Test Finished!\n",
      "episode_return % 0.5556000000000001\n",
      "Calculating buy and hold\n",
      "Buy and Hold value is  1475283.0604952318\n",
      "============================================\n",
      "Agent:  4 / 25\n",
      "{'eval_time_gap': 1024, 'batch_size': 32, 'gamma': 0.9999, 'learning_rate': 0.03811, 'target_step': 57978, 'net_dimension': 1026, 'episode': 13, 'seed': 69}\n",
      "======Model training from:  2010-01-01 to  2018-01-03\n",
      "| Remove cwd: ./trained_models\n",
      "Using device:  cpu\n",
      "################################################################################\n",
      "ID     Step    maxR |    avgR   stdR   avgS  stdS |    expR   objC   etc.\n"
     ]
    },
    {
     "name": "stderr",
     "output_type": "stream",
     "text": [
      "\r",
      "  0%|                                                                                           | 0/13 [00:00<?, ?it/s]"
     ]
    },
    {
     "name": "stdout",
     "output_type": "stream",
     "text": [
      "0  2.01e+03   -1.14 |   -1.14    2.3    125     0 |   -0.04   0.06   0.32  -0.59\n"
     ]
    },
    {
     "name": "stderr",
     "output_type": "stream",
     "text": [
      "\r",
      "  8%|██████▍                                                                            | 1/13 [01:00<12:08, 60.70s/it]"
     ]
    },
    {
     "name": "stdout",
     "output_type": "stream",
     "text": [
      "0  4.03e+03   -1.14 |   -3.21    0.0    125     0 |   -0.01   0.88   0.33  -0.59\n"
     ]
    },
    {
     "name": "stderr",
     "output_type": "stream",
     "text": [
      "\r",
      " 15%|████████████▊                                                                      | 2/13 [01:59<10:52, 59.35s/it]"
     ]
    },
    {
     "name": "stdout",
     "output_type": "stream",
     "text": [
      "0  6.04e+03   -1.14 |   -3.13    0.0    125     0 |   -0.02   0.78   0.28  -0.59\n"
     ]
    },
    {
     "name": "stderr",
     "output_type": "stream",
     "text": [
      "\r",
      " 23%|███████████████████▏                                                               | 3/13 [03:04<10:20, 62.09s/it]"
     ]
    },
    {
     "name": "stdout",
     "output_type": "stream",
     "text": [
      "0  8.05e+03   -1.14 |   -3.11    0.0    125     0 |   -0.02   0.84   0.29  -0.59\n"
     ]
    },
    {
     "name": "stderr",
     "output_type": "stream",
     "text": [
      "\r",
      " 31%|█████████████████████████▌                                                         | 4/13 [04:11<09:36, 64.04s/it]"
     ]
    },
    {
     "name": "stdout",
     "output_type": "stream",
     "text": [
      "0  1.01e+04   -1.14 |   -3.11    0.0    125     0 |   -0.02   0.82   0.44  -0.59\n"
     ]
    },
    {
     "name": "stderr",
     "output_type": "stream",
     "text": [
      "\r",
      " 38%|███████████████████████████████▉                                                   | 5/13 [05:17<08:37, 64.73s/it]"
     ]
    },
    {
     "name": "stdout",
     "output_type": "stream",
     "text": [
      "0  1.21e+04   -1.14 |   -3.12    0.0    125     0 |   -0.02   0.74   0.40  -0.59\n"
     ]
    },
    {
     "name": "stderr",
     "output_type": "stream",
     "text": [
      "\r",
      " 46%|██████████████████████████████████████▎                                            | 6/13 [06:23<07:37, 65.31s/it]"
     ]
    },
    {
     "name": "stdout",
     "output_type": "stream",
     "text": [
      "0  1.41e+04   -1.14 |   -3.14    0.0    125     0 |   -0.02   0.95   0.17  -0.59\n"
     ]
    },
    {
     "name": "stderr",
     "output_type": "stream",
     "text": [
      "\r",
      " 54%|████████████████████████████████████████████▋                                      | 7/13 [07:30<06:33, 65.64s/it]"
     ]
    },
    {
     "name": "stdout",
     "output_type": "stream",
     "text": [
      "0  1.61e+04   -1.14 |   -3.15    0.0    125     0 |   -0.02   0.73   0.36  -0.59\n"
     ]
    },
    {
     "name": "stderr",
     "output_type": "stream",
     "text": [
      "\r",
      " 62%|███████████████████████████████████████████████████                                | 8/13 [08:36<05:30, 66.00s/it]"
     ]
    },
    {
     "name": "stdout",
     "output_type": "stream",
     "text": [
      "0  1.81e+04   -1.14 |   -3.16    0.0    125     0 |   -0.02   0.82   0.42  -0.59\n"
     ]
    },
    {
     "name": "stderr",
     "output_type": "stream",
     "text": [
      "\r",
      " 69%|█████████████████████████████████████████████████████████▍                         | 9/13 [09:44<04:25, 66.45s/it]"
     ]
    },
    {
     "name": "stdout",
     "output_type": "stream",
     "text": [
      "0  2.01e+04   -1.14 |   -3.18    0.0    125     0 |   -0.02   0.75   0.31  -0.59\n"
     ]
    },
    {
     "name": "stderr",
     "output_type": "stream",
     "text": [
      "\r",
      " 77%|███████████████████████████████████████████████████████████████                   | 10/13 [10:50<03:18, 66.22s/it]"
     ]
    },
    {
     "name": "stdout",
     "output_type": "stream",
     "text": [
      "0  2.21e+04   -1.14 |   -3.19    0.0    125     0 |   -0.02   0.76   0.40  -0.59\n"
     ]
    },
    {
     "name": "stderr",
     "output_type": "stream",
     "text": [
      "\r",
      " 85%|█████████████████████████████████████████████████████████████████████▍            | 11/13 [11:56<02:12, 66.27s/it]"
     ]
    },
    {
     "name": "stdout",
     "output_type": "stream",
     "text": [
      "0  2.41e+04   -1.14 |   -3.20    0.0    125     0 |   -0.02   0.77   0.24  -0.59\n"
     ]
    },
    {
     "name": "stderr",
     "output_type": "stream",
     "text": [
      "\r",
      " 92%|███████████████████████████████████████████████████████████████████████████▋      | 12/13 [13:03<01:06, 66.34s/it]"
     ]
    },
    {
     "name": "stdout",
     "output_type": "stream",
     "text": [
      "0  2.61e+04   -1.14 |   -3.22    0.0    125     0 |   -0.02   0.78   0.34  -0.59\n"
     ]
    },
    {
     "name": "stderr",
     "output_type": "stream",
     "text": [
      "100%|██████████████████████████████████████████████████████████████████████████████████| 13/13 [14:08<00:00, 65.30s/it]\n"
     ]
    },
    {
     "name": "stdout",
     "output_type": "stream",
     "text": [
      "| UsedTime:     849 | SavedDir: ./trained_models | Total Step: 2002\n",
      "======jim-ppo-recurrent-317-agent-4 Validation from:  2018-01-03 to  2018-07-03\n",
      "Max reward at validation for Reccurent PPO 125.0\n",
      "Model updated:  36672  times\n",
      "======Trading from:  2018-07-05 to  2019-01-04\n",
      "Using device:  cpu\n",
      "Saving to  results/account_value_trade_main_jim-ppo-recurrent-317-agent-4.csv\n",
      "previous_total_asset:1555610.4298021\n",
      "end_total_asset:1471938.6550924552\n",
      "total_asset_change:-83671.77470964473\n",
      "Total cash is: 6.1653959526238395$ and total holdings in stocks are 1471932.4896965027$\n",
      "Buy & Hold strategy with previous total asset:  1508639.1163367135\n",
      "Total Cost:  2957.102800312042\n",
      "Sum of rewards  -92850.00207323115\n",
      "Total trades:  286\n",
      "Total buy orders are 172 and total sell orders are 114\n",
      "Total days in turbulance:  0\n",
      "Sharpe:  -0.06692557069327229\n",
      "Test Finished!\n",
      "episode_return % 0.4719\n",
      "Calculating buy and hold\n",
      "Buy and Hold value is  1430972.9262496235\n",
      "============================================\n",
      "Agent:  4 / 25\n",
      "{'eval_time_gap': 1024, 'batch_size': 32, 'gamma': 0.9999, 'learning_rate': 0.03811, 'target_step': 57978, 'net_dimension': 1026, 'episode': 13, 'seed': 69}\n",
      "======Model training from:  2010-01-01 to  2018-07-05\n",
      "| Remove cwd: ./trained_models\n",
      "Using device:  cpu\n",
      "################################################################################\n",
      "ID     Step    maxR |    avgR   stdR   avgS  stdS |    expR   objC   etc.\n"
     ]
    },
    {
     "name": "stderr",
     "output_type": "stream",
     "text": [
      "  8%|██████▍                                                                            | 1/13 [01:03<12:43, 63.59s/it]"
     ]
    },
    {
     "name": "stdout",
     "output_type": "stream",
     "text": [
      "0  2.14e+03   -0.12 |   -0.12    1.7    125     0 |   -0.04   0.94   0.35  -0.47\n",
      "0  4.28e+03   -0.12 |   -1.11    0.0    125     0 |    0.00   0.41   0.00  -0.47\n"
     ]
    },
    {
     "name": "stderr",
     "output_type": "stream",
     "text": [
      "\r",
      " 15%|████████████▊                                                                      | 2/13 [02:06<11:36, 63.29s/it]"
     ]
    },
    {
     "name": "stdout",
     "output_type": "stream",
     "text": [
      "0  6.42e+03   -0.12 |   -1.08    0.0    125     0 |   -0.01   0.56   0.38  -0.47\n"
     ]
    },
    {
     "name": "stderr",
     "output_type": "stream",
     "text": [
      "\r",
      " 23%|███████████████████▏                                                               | 3/13 [03:17<11:06, 66.68s/it]"
     ]
    },
    {
     "name": "stdout",
     "output_type": "stream",
     "text": [
      "0  8.55e+03   -0.12 |   -1.06    0.0    125     0 |   -0.01   0.73   0.29  -0.47\n"
     ]
    },
    {
     "name": "stderr",
     "output_type": "stream",
     "text": [
      "\r",
      " 31%|█████████████████████████▌                                                         | 4/13 [04:29<10:19, 68.80s/it]"
     ]
    },
    {
     "name": "stdout",
     "output_type": "stream",
     "text": [
      "0  1.07e+04   -0.12 |   -1.05    0.0    125     0 |   -0.01   0.78   0.28  -0.47\n"
     ]
    },
    {
     "name": "stderr",
     "output_type": "stream",
     "text": [
      "\r",
      " 38%|███████████████████████████████▉                                                   | 5/13 [05:41<09:18, 69.87s/it]"
     ]
    },
    {
     "name": "stdout",
     "output_type": "stream",
     "text": [
      "0  1.28e+04   -0.12 |   -1.05    0.0    125     0 |   -0.01   0.49   0.41  -0.47\n"
     ]
    },
    {
     "name": "stderr",
     "output_type": "stream",
     "text": [
      "\r",
      " 46%|██████████████████████████████████████▎                                            | 6/13 [06:52<08:11, 70.22s/it]"
     ]
    },
    {
     "name": "stdout",
     "output_type": "stream",
     "text": [
      "0  1.50e+04   -0.12 |   -1.04    0.0    125     0 |   -0.01   0.76   0.29  -0.47\n"
     ]
    },
    {
     "name": "stderr",
     "output_type": "stream",
     "text": [
      "\r",
      " 54%|████████████████████████████████████████████▋                                      | 7/13 [08:03<07:03, 70.58s/it]"
     ]
    },
    {
     "name": "stdout",
     "output_type": "stream",
     "text": [
      "0  1.71e+04   -0.12 |   -1.04    0.0    125     0 |   -0.01   0.58   0.35  -0.47\n"
     ]
    },
    {
     "name": "stderr",
     "output_type": "stream",
     "text": [
      "\r",
      " 62%|███████████████████████████████████████████████████                                | 8/13 [09:14<05:53, 70.76s/it]"
     ]
    },
    {
     "name": "stdout",
     "output_type": "stream",
     "text": [
      "0  1.92e+04   -0.12 |   -1.03    0.0    125     0 |   -0.01   0.62   0.36  -0.47\n"
     ]
    },
    {
     "name": "stderr",
     "output_type": "stream",
     "text": [
      "\r",
      " 69%|█████████████████████████████████████████████████████████▍                         | 9/13 [10:26<04:44, 71.13s/it]"
     ]
    },
    {
     "name": "stdout",
     "output_type": "stream",
     "text": [
      "0  2.14e+04   -0.12 |   -1.03    0.0    125     0 |   -0.01   0.63   0.38  -0.47\n"
     ]
    },
    {
     "name": "stderr",
     "output_type": "stream",
     "text": [
      "\r",
      " 77%|███████████████████████████████████████████████████████████████                   | 10/13 [11:35<03:31, 70.58s/it]"
     ]
    },
    {
     "name": "stdout",
     "output_type": "stream",
     "text": [
      "0  2.35e+04   -0.12 |   -1.03    0.0    125     0 |   -0.01   0.66   0.36  -0.47\n"
     ]
    },
    {
     "name": "stderr",
     "output_type": "stream",
     "text": [
      "\r",
      " 85%|█████████████████████████████████████████████████████████████████████▍            | 11/13 [12:46<02:21, 70.61s/it]"
     ]
    },
    {
     "name": "stdout",
     "output_type": "stream",
     "text": [
      "0  2.56e+04   -0.12 |   -1.03    0.0    125     0 |   -0.01   0.73   0.32  -0.47\n"
     ]
    },
    {
     "name": "stderr",
     "output_type": "stream",
     "text": [
      "\r",
      " 92%|███████████████████████████████████████████████████████████████████████████▋      | 12/13 [13:58<01:10, 70.95s/it]"
     ]
    },
    {
     "name": "stdout",
     "output_type": "stream",
     "text": [
      "0  2.77e+04   -0.12 |   -1.02    0.0    125     0 |   -0.01   0.76   0.28  -0.47\n"
     ]
    },
    {
     "name": "stderr",
     "output_type": "stream",
     "text": [
      "100%|██████████████████████████████████████████████████████████████████████████████████| 13/13 [15:09<00:00, 69.97s/it]\n"
     ]
    },
    {
     "name": "stdout",
     "output_type": "stream",
     "text": [
      "| UsedTime:     910 | SavedDir: ./trained_models | Total Step: 2128\n",
      "======jim-ppo-recurrent-317-agent-4 Validation from:  2018-07-05 to  2019-01-03\n",
      "Max reward at validation for Reccurent PPO 125.0\n",
      "Model updated:  43603  times\n",
      "======Trading from:  2019-01-04 to  2019-07-08\n",
      "Using device:  cpu\n",
      "Saving to  results/account_value_trade_main_jim-ppo-recurrent-317-agent-4.csv\n",
      "previous_total_asset:1471938.6550924552\n",
      "end_total_asset:1823434.205707972\n",
      "total_asset_change:351495.5506155167\n",
      "Total cash is: 21.785389368465985$ and total holdings in stocks are 1823412.4203186035$\n",
      "Buy & Hold strategy with previous total asset:  1708059.6932080192\n",
      "Total Cost:  1294.0259111251833\n",
      "Sum of rewards  305942.86393567664\n",
      "Total trades:  253\n",
      "Total buy orders are 136 and total sell orders are 117\n",
      "Total days in turbulance:  0\n",
      "Sharpe:  0.450521486734446\n",
      "Test Finished!\n",
      "episode_return % 0.8233999999999999\n",
      "Calculating buy and hold\n",
      "Buy and Hold value is  1720448.0172379646\n",
      "============================================\n",
      "Agent:  4 / 25\n",
      "{'eval_time_gap': 1024, 'batch_size': 32, 'gamma': 0.9999, 'learning_rate': 0.03811, 'target_step': 57978, 'net_dimension': 1026, 'episode': 13, 'seed': 69}\n",
      "======Model training from:  2010-01-01 to  2019-01-04\n",
      "| Remove cwd: ./trained_models\n",
      "Using device:  cpu\n",
      "################################################################################\n",
      "ID     Step    maxR |    avgR   stdR   avgS  stdS |    expR   objC   etc.\n"
     ]
    },
    {
     "name": "stderr",
     "output_type": "stream",
     "text": [
      "\r",
      "  0%|                                                                                           | 0/13 [00:00<?, ?it/s]"
     ]
    },
    {
     "name": "stdout",
     "output_type": "stream",
     "text": [
      "0  2.27e+03    9.38 |    9.38    1.5    125     0 |   -0.04   0.12   0.31  -0.55\n"
     ]
    },
    {
     "name": "stderr",
     "output_type": "stream",
     "text": [
      "\r",
      "  0%|                                                                                           | 0/13 [01:09<?, ?it/s]"
     ]
    },
    {
     "name": "stdout",
     "output_type": "stream",
     "text": [
      "Reached goals on 2266\n",
      "| UsedTime:      69 | SavedDir: ./trained_models | Total Step: 2266\n",
      "======jim-ppo-recurrent-317-agent-4 Validation from:  2019-01-04 to  2019-07-05\n",
      "Max reward at validation for Reccurent PPO 125.0\n",
      "Model updated:  44169  times\n",
      "======Trading from:  2019-07-08 to  2020-01-06\n",
      "Using device:  cpu\n"
     ]
    },
    {
     "name": "stderr",
     "output_type": "stream",
     "text": [
      "\n"
     ]
    },
    {
     "name": "stdout",
     "output_type": "stream",
     "text": [
      "Saving to  results/account_value_trade_main_jim-ppo-recurrent-317-agent-4.csv\n",
      "previous_total_asset:1823434.205707972\n",
      "end_total_asset:2012602.7076344932\n",
      "total_asset_change:189168.5019265213\n",
      "Total cash is: 16.5971990074964$ and total holdings in stocks are 2012586.1104354858$\n",
      "Buy & Hold strategy with previous total asset:  1949904.2984365146\n",
      "Total Cost:  1183.0750998458864\n",
      "Sum of rewards  198017.62813196564\n",
      "Total trades:  195\n",
      "Total buy orders are 111 and total sell orders are 84\n",
      "Total days in turbulance:  0\n",
      "Sharpe:  0.19183249730992205\n",
      "Test Finished!\n",
      "episode_return % 1.0126\n",
      "Calculating buy and hold\n",
      "Buy and Hold value is  1840102.579977516\n",
      "============================================\n",
      "Agent:  4 / 25\n",
      "{'eval_time_gap': 1024, 'batch_size': 32, 'gamma': 0.9999, 'learning_rate': 0.03811, 'target_step': 57978, 'net_dimension': 1026, 'episode': 13, 'seed': 69}\n",
      "======Model training from:  2010-01-01 to  2019-07-08\n",
      "| Remove cwd: ./trained_models\n",
      "Using device:  cpu\n",
      "################################################################################\n",
      "ID     Step    maxR |    avgR   stdR   avgS  stdS |    expR   objC   etc.\n"
     ]
    },
    {
     "name": "stderr",
     "output_type": "stream",
     "text": [
      "\r",
      "  0%|                                                                                           | 0/13 [00:00<?, ?it/s]"
     ]
    },
    {
     "name": "stdout",
     "output_type": "stream",
     "text": [
      "0  2.39e+03   -3.56 |   -3.56    0.2    125     0 |   -0.04   0.47   0.37  -0.45\n"
     ]
    },
    {
     "name": "stderr",
     "output_type": "stream",
     "text": [
      "\r",
      "  8%|██████▍                                                                            | 1/13 [01:12<14:30, 72.53s/it]"
     ]
    },
    {
     "name": "stdout",
     "output_type": "stream",
     "text": [
      "0  4.78e+03   -1.97 |   -1.97    0.0    125     0 |   -0.01   0.61   0.17  -0.45\n"
     ]
    },
    {
     "name": "stderr",
     "output_type": "stream",
     "text": [
      "\r",
      " 15%|████████████▊                                                                      | 2/13 [02:37<14:37, 79.82s/it]"
     ]
    },
    {
     "name": "stdout",
     "output_type": "stream",
     "text": [
      "0  7.17e+03   -1.97 |   -1.99    0.0    125     0 |   -0.01   0.68   0.43  -0.45\n"
     ]
    },
    {
     "name": "stderr",
     "output_type": "stream",
     "text": [
      "\r",
      " 23%|███████████████████▏                                                               | 3/13 [03:59<13:28, 80.84s/it]"
     ]
    },
    {
     "name": "stdout",
     "output_type": "stream",
     "text": [
      "0  9.56e+03   -1.97 |   -2.00    0.0    125     0 |   -0.01   0.84   0.23  -0.45\n"
     ]
    },
    {
     "name": "stderr",
     "output_type": "stream",
     "text": [
      "\r",
      " 31%|█████████████████████████▌                                                         | 4/13 [05:22<12:16, 81.79s/it]"
     ]
    },
    {
     "name": "stdout",
     "output_type": "stream",
     "text": [
      "0  1.20e+04   -1.97 |   -2.01    0.0    125     0 |   -0.01   0.77   0.41  -0.45\n"
     ]
    },
    {
     "name": "stderr",
     "output_type": "stream",
     "text": [
      "\r",
      " 38%|███████████████████████████████▉                                                   | 5/13 [06:45<10:57, 82.24s/it]"
     ]
    },
    {
     "name": "stdout",
     "output_type": "stream",
     "text": [
      "0  1.43e+04   -1.97 |   -2.02    0.0    125     0 |   -0.01   0.76   0.31  -0.45\n"
     ]
    },
    {
     "name": "stderr",
     "output_type": "stream",
     "text": [
      "\r",
      " 46%|██████████████████████████████████████▎                                            | 6/13 [08:08<09:36, 82.34s/it]"
     ]
    },
    {
     "name": "stdout",
     "output_type": "stream",
     "text": [
      "0  1.67e+04   -1.97 |   -2.03    0.0    125     0 |   -0.01   0.79   0.35  -0.45\n"
     ]
    },
    {
     "name": "stderr",
     "output_type": "stream",
     "text": [
      "\r",
      " 54%|████████████████████████████████████████████▋                                      | 7/13 [09:29<08:12, 82.11s/it]"
     ]
    },
    {
     "name": "stdout",
     "output_type": "stream",
     "text": [
      "0  1.91e+04   -1.97 |   -2.04    0.0    125     0 |   -0.01   0.83   0.31  -0.45\n"
     ]
    },
    {
     "name": "stderr",
     "output_type": "stream",
     "text": [
      "\r",
      " 62%|███████████████████████████████████████████████████                                | 8/13 [10:54<06:53, 82.78s/it]"
     ]
    },
    {
     "name": "stdout",
     "output_type": "stream",
     "text": [
      "0  2.15e+04   -1.97 |   -2.05    0.0    125     0 |   -0.01   0.69   0.36  -0.45\n"
     ]
    },
    {
     "name": "stderr",
     "output_type": "stream",
     "text": [
      "\r",
      " 69%|█████████████████████████████████████████████████████████▍                         | 9/13 [12:19<05:33, 83.45s/it]"
     ]
    },
    {
     "name": "stdout",
     "output_type": "stream",
     "text": [
      "0  2.39e+04   -1.97 |   -2.05    0.0    125     0 |   -0.01   0.81   0.39  -0.45\n"
     ]
    },
    {
     "name": "stderr",
     "output_type": "stream",
     "text": [
      "\r",
      " 77%|███████████████████████████████████████████████████████████████                   | 10/13 [13:43<04:11, 83.80s/it]"
     ]
    },
    {
     "name": "stdout",
     "output_type": "stream",
     "text": [
      "0  2.63e+04   -1.97 |   -2.06    0.0    125     0 |   -0.01   0.85   0.26  -0.45\n"
     ]
    },
    {
     "name": "stderr",
     "output_type": "stream",
     "text": [
      "\r",
      " 85%|█████████████████████████████████████████████████████████████████████▍            | 11/13 [15:08<02:48, 84.04s/it]"
     ]
    },
    {
     "name": "stdout",
     "output_type": "stream",
     "text": [
      "0  2.86e+04   -1.97 |   -2.07    0.0    125     0 |   -0.01   0.80   0.38  -0.45\n"
     ]
    },
    {
     "name": "stderr",
     "output_type": "stream",
     "text": [
      "\r",
      " 92%|███████████████████████████████████████████████████████████████████████████▋      | 12/13 [16:30<01:23, 83.58s/it]"
     ]
    },
    {
     "name": "stdout",
     "output_type": "stream",
     "text": [
      "0  3.10e+04   -1.97 |   -2.07    0.0    125     0 |   -0.01   0.81   0.32  -0.45\n"
     ]
    },
    {
     "name": "stderr",
     "output_type": "stream",
     "text": [
      "100%|██████████████████████████████████████████████████████████████████████████████████| 13/13 [17:54<00:00, 82.63s/it]\n"
     ]
    },
    {
     "name": "stdout",
     "output_type": "stream",
     "text": [
      "| UsedTime:    1074 | SavedDir: ./trained_models | Total Step: 2380\n",
      "======jim-ppo-recurrent-317-agent-4 Validation from:  2019-07-08 to  2020-01-03\n",
      "Max reward at validation for Reccurent PPO 125.0\n",
      "Model updated:  51919  times\n",
      "======Trading from:  2020-01-06 to  2020-07-07\n",
      "Using device:  cpu\n",
      "Saving to  results/account_value_trade_main_jim-ppo-recurrent-317-agent-4.csv\n",
      "previous_total_asset:2012602.7076344932\n",
      "end_total_asset:1833729.4075992913\n",
      "total_asset_change:-178873.30003520194\n",
      "Total cash is: 3.2302769037082726$ and total holdings in stocks are 1833726.1773223877$\n",
      "Buy & Hold strategy with previous total asset:  1833997.8825470835\n",
      "Total Cost:  2796.924539291382\n",
      "Sum of rewards  -187917.93867655937\n",
      "Total trades:  354\n",
      "Total buy orders are 198 and total sell orders are 156\n",
      "Total days in turbulance:  0\n",
      "Sharpe:  -0.023278317338876232\n",
      "Test Finished!\n",
      "episode_return % 0.8337000000000001\n",
      "Calculating buy and hold\n",
      "Buy and Hold value is  1723485.9539832785\n",
      "============================================\n",
      "Agent:  4 / 25\n",
      "{'eval_time_gap': 1024, 'batch_size': 32, 'gamma': 0.9999, 'learning_rate': 0.03811, 'target_step': 57978, 'net_dimension': 1026, 'episode': 13, 'seed': 69}\n",
      "======Model training from:  2010-01-01 to  2020-01-06\n",
      "| Remove cwd: ./trained_models\n",
      "Using device:  cpu\n",
      "################################################################################\n",
      "ID     Step    maxR |    avgR   stdR   avgS  stdS |    expR   objC   etc.\n"
     ]
    },
    {
     "name": "stderr",
     "output_type": "stream",
     "text": [
      "\r",
      "  0%|                                                                                           | 0/13 [00:00<?, ?it/s]"
     ]
    },
    {
     "name": "stdout",
     "output_type": "stream",
     "text": [
      "0  2.52e+03    1.62 |    1.62    0.6    125     0 |   -0.04   0.05   0.32  -0.52\n"
     ]
    },
    {
     "name": "stderr",
     "output_type": "stream",
     "text": [
      "\r",
      "  8%|██████▍                                                                            | 1/13 [01:15<15:06, 75.51s/it]"
     ]
    },
    {
     "name": "stdout",
     "output_type": "stream",
     "text": [
      "0  5.04e+03    1.65 |    1.65    0.0    125     0 |   -0.01   0.50   0.34  -0.52\n"
     ]
    },
    {
     "name": "stderr",
     "output_type": "stream",
     "text": [
      "\r",
      " 15%|████████████▊                                                                      | 2/13 [02:44<15:14, 83.17s/it]"
     ]
    },
    {
     "name": "stdout",
     "output_type": "stream",
     "text": [
      "0  7.55e+03    1.65 |    1.60    0.0    125     0 |   -0.01   0.72   0.42  -0.52\n"
     ]
    },
    {
     "name": "stderr",
     "output_type": "stream",
     "text": [
      "\r",
      " 23%|███████████████████▏                                                               | 3/13 [04:07<13:53, 83.37s/it]"
     ]
    },
    {
     "name": "stdout",
     "output_type": "stream",
     "text": [
      "0  1.01e+04    1.65 |    1.59    0.0    125     0 |   -0.01   0.74   0.37  -0.52\n"
     ]
    },
    {
     "name": "stderr",
     "output_type": "stream",
     "text": [
      "\r",
      " 31%|█████████████████████████▌                                                         | 4/13 [05:32<12:35, 83.98s/it]"
     ]
    },
    {
     "name": "stdout",
     "output_type": "stream",
     "text": [
      "0  1.26e+04    1.65 |    1.59    0.0    125     0 |   -0.01   0.73   0.34  -0.52\n"
     ]
    },
    {
     "name": "stderr",
     "output_type": "stream",
     "text": [
      "\r",
      " 38%|███████████████████████████████▉                                                   | 5/13 [06:57<11:15, 84.38s/it]"
     ]
    },
    {
     "name": "stdout",
     "output_type": "stream",
     "text": [
      "0  1.51e+04    1.65 |    1.58    0.0    125     0 |   -0.01   0.76   0.36  -0.52\n"
     ]
    },
    {
     "name": "stderr",
     "output_type": "stream",
     "text": [
      "\r",
      " 46%|██████████████████████████████████████▎                                            | 6/13 [08:22<09:52, 84.69s/it]"
     ]
    },
    {
     "name": "stdout",
     "output_type": "stream",
     "text": [
      "0  1.76e+04    1.65 |    1.58    0.0    125     0 |   -0.01   0.75   0.21  -0.52\n"
     ]
    },
    {
     "name": "stderr",
     "output_type": "stream",
     "text": [
      "\r",
      " 54%|████████████████████████████████████████████▋                                      | 7/13 [09:48<08:29, 84.97s/it]"
     ]
    },
    {
     "name": "stdout",
     "output_type": "stream",
     "text": [
      "0  2.01e+04    1.65 |    1.57    0.0    125     0 |   -0.01   0.70   0.29  -0.52\n"
     ]
    },
    {
     "name": "stderr",
     "output_type": "stream",
     "text": [
      "\r",
      " 62%|███████████████████████████████████████████████████                                | 8/13 [11:13<07:04, 85.00s/it]"
     ]
    },
    {
     "name": "stdout",
     "output_type": "stream",
     "text": [
      "0  2.26e+04    1.65 |    1.57    0.0    125     0 |   -0.01   0.73   0.31  -0.52\n"
     ]
    },
    {
     "name": "stderr",
     "output_type": "stream",
     "text": [
      "\r",
      " 69%|█████████████████████████████████████████████████████████▍                         | 9/13 [12:38<05:40, 85.09s/it]"
     ]
    },
    {
     "name": "stdout",
     "output_type": "stream",
     "text": [
      "0  2.51e+04    1.65 |    1.57    0.0    125     0 |   -0.01   0.71   0.35  -0.52\n"
     ]
    },
    {
     "name": "stderr",
     "output_type": "stream",
     "text": [
      "\r",
      " 77%|███████████████████████████████████████████████████████████████                   | 10/13 [14:03<04:15, 85.08s/it]"
     ]
    },
    {
     "name": "stdout",
     "output_type": "stream",
     "text": [
      "0  2.76e+04    1.65 |    1.56    0.0    125     0 |   -0.01   0.80   0.26  -0.52\n"
     ]
    },
    {
     "name": "stderr",
     "output_type": "stream",
     "text": [
      "\r",
      " 85%|█████████████████████████████████████████████████████████████████████▍            | 11/13 [15:28<02:50, 85.04s/it]"
     ]
    },
    {
     "name": "stdout",
     "output_type": "stream",
     "text": [
      "0  3.02e+04    1.65 |    1.56    0.0    125     0 |   -0.01   0.71   0.29  -0.52\n"
     ]
    },
    {
     "name": "stderr",
     "output_type": "stream",
     "text": [
      "\r",
      " 92%|███████████████████████████████████████████████████████████████████████████▋      | 12/13 [16:53<01:25, 85.05s/it]"
     ]
    },
    {
     "name": "stdout",
     "output_type": "stream",
     "text": [
      "0  3.27e+04    1.65 |    1.56    0.0    125     0 |   -0.01   0.81   0.36  -0.52\n"
     ]
    },
    {
     "name": "stderr",
     "output_type": "stream",
     "text": [
      "100%|██████████████████████████████████████████████████████████████████████████████████| 13/13 [18:19<00:00, 84.57s/it]\n"
     ]
    },
    {
     "name": "stdout",
     "output_type": "stream",
     "text": [
      "| UsedTime:    1099 | SavedDir: ./trained_models | Total Step: 2506\n",
      "======jim-ppo-recurrent-317-agent-4 Validation from:  2020-01-06 to  2020-07-06\n",
      "Max reward at validation for Reccurent PPO 125.0\n",
      "Model updated:  60078  times\n",
      "======Trading from:  2020-07-07 to  2021-01-05\n",
      "Using device:  cpu\n",
      "Saving to  results/account_value_trade_main_jim-ppo-recurrent-317-agent-4.csv\n",
      "previous_total_asset:1833729.4075992913\n",
      "end_total_asset:2301874.614706145\n",
      "total_asset_change:468145.20710685384\n",
      "Total cash is: 26.391927824655568$ and total holdings in stocks are 2301848.2227783203$\n",
      "Buy & Hold strategy with previous total asset:  2153550.496756613\n",
      "Total Cost:  2178.432667469026\n",
      "Sum of rewards  495216.3391678585\n",
      "Total trades:  265\n",
      "Total buy orders are 154 and total sell orders are 111\n",
      "Total days in turbulance:  0\n",
      "Sharpe:  0.3071997477196269\n",
      "Test Finished!\n",
      "episode_return % 1.3018999999999998\n",
      "Calculating buy and hold\n",
      "Buy and Hold value is  2003044.5910200237\n",
      "============================================\n",
      "Agent:  4 / 25\n",
      "{'eval_time_gap': 1024, 'batch_size': 32, 'gamma': 0.9999, 'learning_rate': 0.03811, 'target_step': 57978, 'net_dimension': 1026, 'episode': 13, 'seed': 69}\n",
      "======Model training from:  2010-01-01 to  2020-07-07\n",
      "| Remove cwd: ./trained_models\n",
      "Using device:  cpu\n",
      "################################################################################\n",
      "ID     Step    maxR |    avgR   stdR   avgS  stdS |    expR   objC   etc.\n"
     ]
    },
    {
     "name": "stderr",
     "output_type": "stream",
     "text": [
      "\r",
      "  0%|                                                                                           | 0/13 [00:00<?, ?it/s]"
     ]
    },
    {
     "name": "stdout",
     "output_type": "stream",
     "text": [
      "0  2.64e+03   -1.75 |   -1.75    0.8    125     0 |   -0.04   0.08   0.28  -0.56\n"
     ]
    },
    {
     "name": "stderr",
     "output_type": "stream",
     "text": [
      "\r",
      "  8%|██████▍                                                                            | 1/13 [01:19<15:48, 79.03s/it]"
     ]
    },
    {
     "name": "stdout",
     "output_type": "stream",
     "text": [
      "0  5.29e+03   -0.12 |   -0.12    0.0    125     0 |   -0.01   0.71   0.26  -0.56\n"
     ]
    },
    {
     "name": "stderr",
     "output_type": "stream",
     "text": [
      "\r",
      " 15%|████████████▊                                                                      | 2/13 [02:52<16:04, 87.69s/it]"
     ]
    },
    {
     "name": "stdout",
     "output_type": "stream",
     "text": [
      "0  7.93e+03   -0.12 |   -0.12    0.0    125     0 |   -0.01   0.77   0.23  -0.56\n"
     ]
    },
    {
     "name": "stderr",
     "output_type": "stream",
     "text": [
      "\r",
      " 23%|███████████████████▏                                                               | 3/13 [04:21<14:41, 88.15s/it]"
     ]
    },
    {
     "name": "stdout",
     "output_type": "stream",
     "text": [
      "0  1.06e+04   -0.12 |   -0.13    0.0    125     0 |   -0.01   0.60   0.30  -0.56\n"
     ]
    },
    {
     "name": "stderr",
     "output_type": "stream",
     "text": [
      "\r",
      " 31%|█████████████████████████▌                                                         | 4/13 [05:51<13:20, 88.91s/it]"
     ]
    },
    {
     "name": "stdout",
     "output_type": "stream",
     "text": [
      "0  1.32e+04   -0.12 |   -0.13    0.0    125     0 |   -0.01   0.67   0.26  -0.56\n"
     ]
    },
    {
     "name": "stderr",
     "output_type": "stream",
     "text": [
      "\r",
      " 38%|███████████████████████████████▉                                                   | 5/13 [07:22<11:56, 89.55s/it]"
     ]
    },
    {
     "name": "stdout",
     "output_type": "stream",
     "text": [
      "0  1.58e+04   -0.12 |   -0.13    0.0    125     0 |   -0.01   0.68   0.30  -0.56\n"
     ]
    },
    {
     "name": "stderr",
     "output_type": "stream",
     "text": [
      "\r",
      " 46%|██████████████████████████████████████▎                                            | 6/13 [08:51<10:27, 89.59s/it]"
     ]
    },
    {
     "name": "stdout",
     "output_type": "stream",
     "text": [
      "0  1.85e+04   -0.12 |   -0.13    0.0    125     0 |   -0.01   0.65   0.24  -0.56\n"
     ]
    },
    {
     "name": "stderr",
     "output_type": "stream",
     "text": [
      "\r",
      " 54%|████████████████████████████████████████████▋                                      | 7/13 [10:21<08:57, 89.63s/it]"
     ]
    },
    {
     "name": "stdout",
     "output_type": "stream",
     "text": [
      "0  2.11e+04   -0.12 |   -0.13    0.0    125     0 |   -0.01   0.58   0.34  -0.56\n"
     ]
    },
    {
     "name": "stderr",
     "output_type": "stream",
     "text": [
      "\r",
      " 62%|███████████████████████████████████████████████████                                | 8/13 [11:50<07:27, 89.46s/it]"
     ]
    },
    {
     "name": "stdout",
     "output_type": "stream",
     "text": [
      "0  2.38e+04   -0.12 |   -0.13    0.0    125     0 |   -0.01   0.65   0.36  -0.56\n"
     ]
    },
    {
     "name": "stderr",
     "output_type": "stream",
     "text": [
      "\r",
      " 69%|█████████████████████████████████████████████████████████▍                         | 9/13 [13:20<05:57, 89.44s/it]"
     ]
    },
    {
     "name": "stdout",
     "output_type": "stream",
     "text": [
      "0  2.64e+04   -0.12 |   -0.13    0.0    125     0 |   -0.01   0.65   0.31  -0.56\n"
     ]
    },
    {
     "name": "stderr",
     "output_type": "stream",
     "text": [
      "\r",
      " 77%|███████████████████████████████████████████████████████████████                   | 10/13 [14:49<04:28, 89.56s/it]"
     ]
    },
    {
     "name": "stdout",
     "output_type": "stream",
     "text": [
      "0  2.90e+04   -0.12 |   -0.13    0.0    125     0 |   -0.01   0.65   0.29  -0.56\n"
     ]
    },
    {
     "name": "stderr",
     "output_type": "stream",
     "text": [
      "\r",
      " 85%|█████████████████████████████████████████████████████████████████████▍            | 11/13 [16:19<02:58, 89.46s/it]"
     ]
    },
    {
     "name": "stdout",
     "output_type": "stream",
     "text": [
      "0  3.17e+04   -0.12 |   -0.13    0.0    125     0 |   -0.01   0.54   0.37  -0.56\n"
     ]
    },
    {
     "name": "stderr",
     "output_type": "stream",
     "text": [
      "\r",
      " 92%|███████████████████████████████████████████████████████████████████████████▋      | 12/13 [17:48<01:29, 89.43s/it]"
     ]
    },
    {
     "name": "stdout",
     "output_type": "stream",
     "text": [
      "0  3.43e+04   -0.12 |   -0.13    0.0    125     0 |   -0.01   0.56   0.33  -0.56\n"
     ]
    },
    {
     "name": "stderr",
     "output_type": "stream",
     "text": [
      "100%|██████████████████████████████████████████████████████████████████████████████████| 13/13 [19:17<00:00, 89.03s/it]\n"
     ]
    },
    {
     "name": "stdout",
     "output_type": "stream",
     "text": [
      "| UsedTime:    1157 | SavedDir: ./trained_models | Total Step: 2632\n",
      "======jim-ppo-recurrent-317-agent-4 Validation from:  2020-07-07 to  2021-01-04\n",
      "Max reward at validation for Reccurent PPO 125.0\n",
      "Model updated:  68647  times\n",
      "======Trading from:  2021-01-05 to  2021-07-07\n",
      "Using device:  cpu\n",
      "Saving to  results/account_value_trade_main_jim-ppo-recurrent-317-agent-4.csv\n",
      "previous_total_asset:2301874.614706145\n",
      "end_total_asset:2736988.824030467\n",
      "total_asset_change:435114.2093243217\n",
      "Total cash is: 44.532599039765955$ and total holdings in stocks are 2736944.291431427$\n",
      "Buy & Hold strategy with previous total asset:  2653041.9472295875\n",
      "Total Cost:  2232.700343647002\n",
      "Sum of rewards  392388.9951519584\n",
      "Total trades:  217\n",
      "Total buy orders are 136 and total sell orders are 81\n",
      "Total days in turbulance:  0\n",
      "Sharpe:  0.27277856884728\n",
      "Test Finished!\n",
      "episode_return % 1.737\n",
      "Calculating buy and hold\n",
      "Buy and Hold value is  2314454.957596514\n",
      "Writing hparams:  {'eval_time_gap': 1024, 'batch_size': 32, 'gamma': 0.9999, 'learning_rate': 0.03811, 'target_step': 57978, 'net_dimension': 1026, 'episode': 13, 'seed': 69}\n",
      "value should be one of int, float, str, bool, or torch.Tensor\n",
      "Could not write the haparms {'eval_time_gap': 1024, 'batch_size': 32, 'gamma': 0.9999, 'learning_rate': 0.03811, 'target_step': 57978, 'net_dimension': 1026, 'episode': 13, 'seed': 69} with end total asset of  2736988.824030467\n",
      "============================================\n",
      "Agent:  5 / 25\n",
      "{'eval_time_gap': 16, 'batch_size': 16, 'gamma': 0.999, 'learning_rate': {'start': 0.02676, 'end': 0.00066}, 'target_step': 13997, 'net_dimension': 512, 'episode': 1, 'seed': 31}\n",
      "======Model training from:  2010-01-01 to  2016-01-04\n",
      "| Remove cwd: ./trained_models\n",
      "Using device:  cpu\n",
      "################################################################################\n",
      "ID     Step    maxR |    avgR   stdR   avgS  stdS |    expR   objC   etc.\n"
     ]
    },
    {
     "name": "stderr",
     "output_type": "stream",
     "text": [
      "\r",
      "  0%|                                                                                            | 0/1 [00:00<?, ?it/s]"
     ]
    },
    {
     "name": "stdout",
     "output_type": "stream",
     "text": [
      "0  1.51e+03    1.48 |    1.48    0.4    125     0 |   -0.06   0.10   0.35  -0.49\n"
     ]
    },
    {
     "name": "stderr",
     "output_type": "stream",
     "text": [
      "100%|████████████████████████████████████████████████████████████████████████████████████| 1/1 [00:41<00:00, 41.90s/it]\n"
     ]
    },
    {
     "name": "stdout",
     "output_type": "stream",
     "text": [
      "| UsedTime:      42 | SavedDir: ./trained_models | Total Step: 1510\n",
      "======jim-ppo-recurrent-317-agent-5 Validation from:  2016-01-04 to  2016-07-01\n",
      "Max reward at validation for Reccurent PPO 125.0\n",
      "Model updated:  69402  times\n",
      "======Trading from:  2016-07-05 to  2017-01-03\n",
      "Using device:  cpu\n",
      "previous_total_asset:1000000\n",
      "end_total_asset:1115301.5944203422\n",
      "total_asset_change:115301.59442034224\n",
      "Total cash is: 9.519963173648883$ and total holdings in stocks are 1115292.0744571686$\n",
      "Buy & Hold strategy with previous total asset:  1107583.5885027447\n",
      "Total Cost:  998.9914885482784\n",
      "Sum of rewards  115301.59442034224\n",
      "Total trades:  152\n",
      "Total buy orders are 152 and total sell orders are 0\n",
      "Total days in turbulance:  0\n",
      "Sharpe:  0.31151488345567596\n",
      "Test Finished!\n",
      "episode_return % 0.11529999999999996\n",
      "============================================\n",
      "Agent:  5 / 25\n",
      "{'eval_time_gap': 16, 'batch_size': 16, 'gamma': 0.999, 'learning_rate': {'start': 0.02676, 'end': 0.00066}, 'target_step': 13997, 'net_dimension': 512, 'episode': 1, 'seed': 31}\n",
      "======Model training from:  2010-01-01 to  2016-07-05\n",
      "| Remove cwd: ./trained_models\n",
      "Using device:  cpu\n",
      "################################################################################\n",
      "ID     Step    maxR |    avgR   stdR   avgS  stdS |    expR   objC   etc.\n"
     ]
    },
    {
     "name": "stderr",
     "output_type": "stream",
     "text": [
      "\r",
      "  0%|                                                                                            | 0/1 [00:00<?, ?it/s]"
     ]
    },
    {
     "name": "stdout",
     "output_type": "stream",
     "text": [
      "0  1.64e+03    2.94 |    2.94    1.0    125     0 |   -0.06   0.09   0.23  -0.52\n"
     ]
    },
    {
     "name": "stderr",
     "output_type": "stream",
     "text": [
      "100%|████████████████████████████████████████████████████████████████████████████████████| 1/1 [00:44<00:00, 44.85s/it]\n"
     ]
    },
    {
     "name": "stdout",
     "output_type": "stream",
     "text": [
      "| UsedTime:      45 | SavedDir: ./trained_models | Total Step: 1636\n",
      "======jim-ppo-recurrent-317-agent-5 Validation from:  2016-07-05 to  2016-12-30\n",
      "Max reward at validation for Reccurent PPO 125.0\n",
      "Model updated:  70220  times\n",
      "======Trading from:  2017-01-03 to  2017-07-05\n",
      "Using device:  cpu\n",
      "Saving to  results/account_value_trade_main_jim-ppo-recurrent-317-agent-5.csv\n",
      "previous_total_asset:1115301.5944203422\n",
      "end_total_asset:1187339.417356833\n",
      "total_asset_change:72037.82293649064\n",
      "Total cash is: 23.378923758035963$ and total holdings in stocks are 1187316.038433075$\n",
      "Buy & Hold strategy with previous total asset:  1208460.6699057387\n",
      "Total Cost:  1076.7587618531447\n",
      "Sum of rewards  65428.57761903154\n",
      "Total trades:  148\n",
      "Total buy orders are 65 and total sell orders are 83\n",
      "Total days in turbulance:  0\n",
      "Sharpe:  0.16576508044507246\n",
      "Test Finished!\n",
      "episode_return % 0.18730000000000002\n",
      "============================================\n",
      "Agent:  5 / 25\n",
      "{'eval_time_gap': 16, 'batch_size': 16, 'gamma': 0.999, 'learning_rate': {'start': 0.02676, 'end': 0.00066}, 'target_step': 13997, 'net_dimension': 512, 'episode': 1, 'seed': 31}\n",
      "======Model training from:  2010-01-01 to  2017-01-03\n",
      "| Remove cwd: ./trained_models\n",
      "Using device:  cpu\n",
      "################################################################################\n",
      "ID     Step    maxR |    avgR   stdR   avgS  stdS |    expR   objC   etc.\n"
     ]
    },
    {
     "name": "stderr",
     "output_type": "stream",
     "text": [
      "\r",
      "  0%|                                                                                            | 0/1 [00:00<?, ?it/s]"
     ]
    },
    {
     "name": "stdout",
     "output_type": "stream",
     "text": [
      "0  1.76e+03    4.99 |    4.99    0.4    125     0 |   -0.05   0.03   0.26  -0.54\n"
     ]
    },
    {
     "name": "stderr",
     "output_type": "stream",
     "text": [
      "\r",
      "  0%|                                                                                            | 0/1 [00:48<?, ?it/s]"
     ]
    },
    {
     "name": "stdout",
     "output_type": "stream",
     "text": [
      "Reached goals on 1762\n",
      "| UsedTime:      48 | SavedDir: ./trained_models | Total Step: 1762\n",
      "======jim-ppo-recurrent-317-agent-5 Validation from:  2017-01-03 to  2017-07-03\n",
      "Max reward at validation for Reccurent PPO 125.0\n",
      "Model updated:  71101  times\n",
      "======Trading from:  2017-07-05 to  2018-01-03\n",
      "Using device:  cpu\n"
     ]
    },
    {
     "name": "stderr",
     "output_type": "stream",
     "text": [
      "\n"
     ]
    },
    {
     "name": "stdout",
     "output_type": "stream",
     "text": [
      "Saving to  results/account_value_trade_main_jim-ppo-recurrent-317-agent-5.csv\n",
      "previous_total_asset:1187339.417356833\n",
      "end_total_asset:1401336.1597553736\n",
      "total_asset_change:213996.74239854072\n",
      "Total cash is: 16.800962114887138$ and total holdings in stocks are 1401319.3587932587$\n",
      "Buy & Hold strategy with previous total asset:  1381043.5821885564\n",
      "Total Cost:  1155.2205397682194\n",
      "Sum of rewards  213429.35379533027\n",
      "Total trades:  148\n",
      "Total buy orders are 83 and total sell orders are 65\n",
      "Total days in turbulance:  0\n",
      "Sharpe:  0.3913026791342595\n",
      "Test Finished!\n",
      "episode_return % 0.4013\n",
      "============================================\n",
      "Agent:  5 / 25\n",
      "{'eval_time_gap': 16, 'batch_size': 16, 'gamma': 0.999, 'learning_rate': {'start': 0.02676, 'end': 0.00066}, 'target_step': 13997, 'net_dimension': 512, 'episode': 1, 'seed': 31}\n",
      "======Model training from:  2010-01-01 to  2017-07-05\n",
      "| Remove cwd: ./trained_models\n",
      "Using device:  cpu\n",
      "################################################################################\n",
      "ID     Step    maxR |    avgR   stdR   avgS  stdS |    expR   objC   etc.\n"
     ]
    },
    {
     "name": "stderr",
     "output_type": "stream",
     "text": [
      "\r",
      "  0%|                                                                                            | 0/1 [00:00<?, ?it/s]"
     ]
    },
    {
     "name": "stdout",
     "output_type": "stream",
     "text": [
      "0  1.89e+03    5.06 |    5.06    2.3    125     0 |   -0.05   0.05   0.35  -0.45\n"
     ]
    },
    {
     "name": "stderr",
     "output_type": "stream",
     "text": [
      "\r",
      "  0%|                                                                                            | 0/1 [00:51<?, ?it/s]"
     ]
    },
    {
     "name": "stdout",
     "output_type": "stream",
     "text": [
      "Reached goals on 1888\n",
      "| UsedTime:      51 | SavedDir: ./trained_models | Total Step: 1888\n",
      "======jim-ppo-recurrent-317-agent-5 Validation from:  2017-07-05 to  2018-01-02\n",
      "Max reward at validation for Reccurent PPO 125.0\n",
      "Model updated:  72045  times\n",
      "======Trading from:  2018-01-03 to  2018-07-05\n",
      "Using device:  cpu\n"
     ]
    },
    {
     "name": "stderr",
     "output_type": "stream",
     "text": [
      "\n"
     ]
    },
    {
     "name": "stdout",
     "output_type": "stream",
     "text": [
      "Saving to  results/account_value_trade_main_jim-ppo-recurrent-317-agent-5.csv\n",
      "previous_total_asset:1401336.1597553736\n",
      "end_total_asset:1386972.6544337412\n",
      "total_asset_change:-14363.505321632372\n",
      "Total cash is: 29.805533899992234$ and total holdings in stocks are 1386942.8488998413$\n",
      "Buy & Hold strategy with previous total asset:  1384482.1646125077\n",
      "Total Cost:  2171.988973747254\n",
      "Sum of rewards  -9888.350008140551\n",
      "Total trades:  205\n",
      "Total buy orders are 126 and total sell orders are 79\n",
      "Total days in turbulance:  0\n",
      "Sharpe:  -0.0007588325085082068\n",
      "Test Finished!\n",
      "episode_return % 0.387\n",
      "Calculating buy and hold\n",
      "Buy and Hold value is  1475283.0604952318\n",
      "Buy and hold bigger than performances\n",
      "Writing hparams:  {'eval_time_gap': 16, 'batch_size': 16, 'gamma': 0.999, 'learning_rate': {'start': 0.02676, 'end': 0.00066}, 'target_step': 13997, 'net_dimension': 512, 'episode': 1, 'seed': 31}\n",
      "value should be one of int, float, str, bool, or torch.Tensor\n",
      "Could not write the haparms {'eval_time_gap': 16, 'batch_size': 16, 'gamma': 0.999, 'learning_rate': {'start': 0.02676, 'end': 0.00066}, 'target_step': 13997, 'net_dimension': 512, 'episode': 1, 'seed': 31} with end total asset of  1386972.6544337412\n",
      "============================================\n",
      "Agent:  6 / 25\n",
      "{'eval_time_gap': 8, 'batch_size': 8, 'gamma': 0.9999, 'learning_rate': 0.04149, 'target_step': 29065, 'net_dimension': 1026, 'episode': 4, 'seed': 31}\n",
      "======Model training from:  2010-01-01 to  2016-01-04\n",
      "| Remove cwd: ./trained_models\n",
      "Using device:  cpu\n",
      "################################################################################\n",
      "ID     Step    maxR |    avgR   stdR   avgS  stdS |    expR   objC   etc.\n"
     ]
    },
    {
     "name": "stderr",
     "output_type": "stream",
     "text": [
      "\r",
      "  0%|                                                                                            | 0/4 [00:00<?, ?it/s]"
     ]
    },
    {
     "name": "stdout",
     "output_type": "stream",
     "text": [
      "0  1.51e+03    0.87 |    0.87    0.9    125     0 |   -0.05   1.20   0.47  -0.53\n"
     ]
    },
    {
     "name": "stderr",
     "output_type": "stream",
     "text": [
      "\r",
      " 25%|████████████████████▊                                                              | 1/4 [02:13<06:40, 133.40s/it]"
     ]
    },
    {
     "name": "stdout",
     "output_type": "stream",
     "text": [
      "0  3.02e+03    2.12 |    2.12    0.1    125     0 |   -0.01   0.60   0.25  -0.53\n"
     ]
    },
    {
     "name": "stderr",
     "output_type": "stream",
     "text": [
      "\r",
      " 50%|█████████████████████████████████████████▌                                         | 2/4 [04:47<04:51, 145.71s/it]"
     ]
    },
    {
     "name": "stdout",
     "output_type": "stream",
     "text": [
      "0  4.53e+03    2.29 |    2.29    0.0    125     0 |   -0.02   0.79   0.34  -0.53\n"
     ]
    },
    {
     "name": "stderr",
     "output_type": "stream",
     "text": [
      "\r",
      " 75%|██████████████████████████████████████████████████████████████▎                    | 3/4 [07:26<02:31, 151.83s/it]"
     ]
    },
    {
     "name": "stdout",
     "output_type": "stream",
     "text": [
      "0  6.03e+03    2.39 |    2.39    0.0    125     0 |   -0.02   0.66   0.55  -0.53\n"
     ]
    },
    {
     "name": "stderr",
     "output_type": "stream",
     "text": [
      "100%|███████████████████████████████████████████████████████████████████████████████████| 4/4 [10:05<00:00, 151.47s/it]\n"
     ]
    },
    {
     "name": "stdout",
     "output_type": "stream",
     "text": [
      "| UsedTime:     606 | SavedDir: ./trained_models | Total Step: 1507\n",
      "======jim-ppo-recurrent-317-agent-6 Validation from:  2016-01-04 to  2016-07-01\n",
      "Max reward at validation for Reccurent PPO 125.0\n",
      "Model updated:  78079  times\n",
      "======Trading from:  2016-07-05 to  2017-01-03\n",
      "Using device:  cpu\n",
      "previous_total_asset:1000000\n",
      "end_total_asset:1105357.1715023424\n",
      "total_asset_change:105357.17150234245\n",
      "Total cash is: 24.217736473319547$ and total holdings in stocks are 1105332.9537658691$\n",
      "Buy & Hold strategy with previous total asset:  1107583.5885027447\n",
      "Total Cost:  998.9768054580685\n",
      "Sum of rewards  105357.17150234245\n",
      "Total trades:  145\n",
      "Total buy orders are 145 and total sell orders are 0\n",
      "Total days in turbulance:  0\n",
      "Sharpe:  0.28604057019468493\n",
      "Test Finished!\n",
      "episode_return % 0.10539999999999994\n",
      "============================================\n",
      "Agent:  6 / 25\n",
      "{'eval_time_gap': 8, 'batch_size': 8, 'gamma': 0.9999, 'learning_rate': 0.04149, 'target_step': 29065, 'net_dimension': 1026, 'episode': 4, 'seed': 31}\n",
      "======Model training from:  2010-01-01 to  2016-07-05\n",
      "| Remove cwd: ./trained_models\n",
      "Using device:  cpu\n",
      "################################################################################\n",
      "ID     Step    maxR |    avgR   stdR   avgS  stdS |    expR   objC   etc.\n"
     ]
    },
    {
     "name": "stderr",
     "output_type": "stream",
     "text": [
      "\r",
      "  0%|                                                                                            | 0/4 [00:00<?, ?it/s]"
     ]
    },
    {
     "name": "stdout",
     "output_type": "stream",
     "text": [
      "0  1.64e+03    1.79 |    1.79    0.6    125     0 |   -0.05   0.29   0.61  -0.40\n"
     ]
    },
    {
     "name": "stderr",
     "output_type": "stream",
     "text": [
      "\r",
      " 25%|████████████████████▊                                                              | 1/4 [02:28<07:24, 148.13s/it]"
     ]
    },
    {
     "name": "stdout",
     "output_type": "stream",
     "text": [
      "0  3.27e+03    2.18 |    2.18    0.0    125     0 |   -0.01   1.01   0.36  -0.40\n"
     ]
    },
    {
     "name": "stderr",
     "output_type": "stream",
     "text": [
      "\r",
      " 50%|█████████████████████████████████████████▌                                         | 2/4 [05:36<05:43, 171.67s/it]"
     ]
    },
    {
     "name": "stdout",
     "output_type": "stream",
     "text": [
      "0  4.90e+03    2.18 |    2.17    0.0    125     0 |   -0.00   0.22   0.20  -0.40\n"
     ]
    },
    {
     "name": "stderr",
     "output_type": "stream",
     "text": [
      "\r",
      " 75%|██████████████████████████████████████████████████████████████▎                    | 3/4 [08:36<02:55, 175.73s/it]"
     ]
    },
    {
     "name": "stdout",
     "output_type": "stream",
     "text": [
      "0  6.54e+03    2.18 |    2.17    0.0    125     0 |   -0.00   0.14   0.22  -0.40\n"
     ]
    },
    {
     "name": "stderr",
     "output_type": "stream",
     "text": [
      "100%|███████████████████████████████████████████████████████████████████████████████████| 4/4 [11:41<00:00, 175.45s/it]\n"
     ]
    },
    {
     "name": "stdout",
     "output_type": "stream",
     "text": [
      "| UsedTime:     702 | SavedDir: ./trained_models | Total Step: 1633\n",
      "======jim-ppo-recurrent-317-agent-6 Validation from:  2016-07-05 to  2016-12-30\n",
      "Max reward at validation for Reccurent PPO 125.0\n",
      "Model updated:  84617  times\n",
      "======Trading from:  2017-01-03 to  2017-07-05\n",
      "Using device:  cpu\n",
      "Saving to  results/account_value_trade_main_jim-ppo-recurrent-317-agent-6.csv\n",
      "previous_total_asset:1105357.1715023424\n",
      "end_total_asset:1219479.573634869\n",
      "total_asset_change:114122.4021325265\n",
      "Total cash is: 0.49381232862353386$ and total holdings in stocks are 1219479.0798225403$\n",
      "Buy & Hold strategy with previous total asset:  1197685.6077687948\n",
      "Total Cost:  1416.2355704154966\n",
      "Sum of rewards  106864.17346431362\n",
      "Total trades:  178\n",
      "Total buy orders are 96 and total sell orders are 82\n",
      "Total days in turbulance:  0\n",
      "Sharpe:  0.35463694991231814\n",
      "Test Finished!\n",
      "episode_return % 0.21950000000000003\n",
      "============================================\n",
      "Agent:  6 / 25\n",
      "{'eval_time_gap': 8, 'batch_size': 8, 'gamma': 0.9999, 'learning_rate': 0.04149, 'target_step': 29065, 'net_dimension': 1026, 'episode': 4, 'seed': 31}\n",
      "======Model training from:  2010-01-01 to  2017-01-03\n",
      "| Remove cwd: ./trained_models\n",
      "Using device:  cpu\n",
      "################################################################################\n",
      "ID     Step    maxR |    avgR   stdR   avgS  stdS |    expR   objC   etc.\n"
     ]
    },
    {
     "name": "stderr",
     "output_type": "stream",
     "text": [
      "\r",
      "  0%|                                                                                            | 0/4 [00:00<?, ?it/s]"
     ]
    },
    {
     "name": "stdout",
     "output_type": "stream",
     "text": [
      "0  1.76e+03    5.79 |    5.79    0.8    125     0 |   -0.04   0.65   0.40  -0.48\n"
     ]
    },
    {
     "name": "stderr",
     "output_type": "stream",
     "text": [
      "\r",
      "  0%|                                                                                            | 0/4 [03:02<?, ?it/s]"
     ]
    },
    {
     "name": "stdout",
     "output_type": "stream",
     "text": [
      "Reached goals on 1762\n",
      "| UsedTime:     183 | SavedDir: ./trained_models | Total Step: 1762\n",
      "======jim-ppo-recurrent-317-agent-6 Validation from:  2017-01-03 to  2017-07-03\n",
      "Max reward at validation for Reccurent PPO 125.0\n",
      "Model updated:  86379  times\n",
      "======Trading from:  2017-07-05 to  2018-01-03\n",
      "Using device:  cpu\n"
     ]
    },
    {
     "name": "stderr",
     "output_type": "stream",
     "text": [
      "\n"
     ]
    },
    {
     "name": "stdout",
     "output_type": "stream",
     "text": [
      "Saving to  results/account_value_trade_main_jim-ppo-recurrent-317-agent-6.csv\n",
      "previous_total_asset:1219479.573634869\n",
      "end_total_asset:1437784.1038837207\n",
      "total_asset_change:218304.53024885175\n",
      "Total cash is: 15.786462761296832$ and total holdings in stocks are 1437768.3174209595$\n",
      "Buy & Hold strategy with previous total asset:  1418427.1272047998\n",
      "Total Cost:  1242.0260560798642\n",
      "Sum of rewards  218871.83036252973\n",
      "Total trades:  200\n",
      "Total buy orders are 118 and total sell orders are 82\n",
      "Total days in turbulance:  0\n",
      "Sharpe:  0.5110475841885398\n",
      "Test Finished!\n",
      "episode_return % 0.43779999999999997\n",
      "============================================\n",
      "Agent:  6 / 25\n",
      "{'eval_time_gap': 8, 'batch_size': 8, 'gamma': 0.9999, 'learning_rate': 0.04149, 'target_step': 29065, 'net_dimension': 1026, 'episode': 4, 'seed': 31}\n",
      "======Model training from:  2010-01-01 to  2017-07-05\n",
      "| Remove cwd: ./trained_models\n",
      "Using device:  cpu\n",
      "################################################################################\n",
      "ID     Step    maxR |    avgR   stdR   avgS  stdS |    expR   objC   etc.\n"
     ]
    },
    {
     "name": "stderr",
     "output_type": "stream",
     "text": [
      "\r",
      "  0%|                                                                                            | 0/4 [00:00<?, ?it/s]"
     ]
    },
    {
     "name": "stdout",
     "output_type": "stream",
     "text": [
      "0  1.89e+03    5.31 |    5.31    2.3    125     0 |   -0.04   0.11   0.39  -0.45\n"
     ]
    },
    {
     "name": "stderr",
     "output_type": "stream",
     "text": [
      "\r",
      "  0%|                                                                                            | 0/4 [03:19<?, ?it/s]"
     ]
    },
    {
     "name": "stdout",
     "output_type": "stream",
     "text": [
      "Reached goals on 1888\n",
      "| UsedTime:     199 | SavedDir: ./trained_models | Total Step: 1888\n",
      "======jim-ppo-recurrent-317-agent-6 Validation from:  2017-07-05 to  2018-01-02\n",
      "Max reward at validation for Reccurent PPO 125.0\n",
      "Model updated:  88267  times\n",
      "======Trading from:  2018-01-03 to  2018-07-05\n",
      "Using device:  cpu\n"
     ]
    },
    {
     "name": "stderr",
     "output_type": "stream",
     "text": [
      "\n"
     ]
    },
    {
     "name": "stdout",
     "output_type": "stream",
     "text": [
      "Saving to  results/account_value_trade_main_jim-ppo-recurrent-317-agent-6.csv\n",
      "previous_total_asset:1437784.1038837207\n",
      "end_total_asset:1475318.252326386\n",
      "total_asset_change:37534.14844266535\n",
      "Total cash is: -2.670994384317055$ and total holdings in stocks are 1475320.9233207703$\n",
      "Buy & Hold strategy with previous total asset:  1420491.746061757\n",
      "Total Cost:  1863.621481498718\n",
      "Sum of rewards  33418.6868757403\n",
      "Total trades:  242\n",
      "Total buy orders are 157 and total sell orders are 85\n",
      "Total days in turbulance:  0\n",
      "Sharpe:  0.04782865159357275\n",
      "Test Finished!\n",
      "episode_return % 0.47530000000000006\n",
      "Calculating buy and hold\n",
      "Buy and Hold value is  1475283.0604952318\n",
      "============================================\n",
      "Agent:  6 / 25\n",
      "{'eval_time_gap': 8, 'batch_size': 8, 'gamma': 0.9999, 'learning_rate': 0.04149, 'target_step': 29065, 'net_dimension': 1026, 'episode': 4, 'seed': 31}\n",
      "======Model training from:  2010-01-01 to  2018-01-03\n",
      "| Remove cwd: ./trained_models\n",
      "Using device:  cpu\n",
      "################################################################################\n",
      "ID     Step    maxR |    avgR   stdR   avgS  stdS |    expR   objC   etc.\n"
     ]
    },
    {
     "name": "stderr",
     "output_type": "stream",
     "text": [
      "\r",
      "  0%|                                                                                            | 0/4 [00:00<?, ?it/s]"
     ]
    },
    {
     "name": "stdout",
     "output_type": "stream",
     "text": [
      "0  2.01e+03    0.64 |    0.64    2.5    125     0 |   -0.04   0.14   0.54  -0.58\n"
     ]
    },
    {
     "name": "stderr",
     "output_type": "stream",
     "text": [
      "\r",
      " 25%|████████████████████▊                                                              | 1/4 [03:33<10:39, 213.07s/it]"
     ]
    },
    {
     "name": "stdout",
     "output_type": "stream",
     "text": [
      "0  4.03e+03    0.64 |   -0.79    0.0    125     0 |   -0.01   0.70   0.21  -0.58\n"
     ]
    },
    {
     "name": "stderr",
     "output_type": "stream",
     "text": [
      "\r",
      " 50%|█████████████████████████████████████████▌                                         | 2/4 [07:10<07:11, 215.90s/it]"
     ]
    },
    {
     "name": "stdout",
     "output_type": "stream",
     "text": [
      "0  6.04e+03    0.64 |   -0.77    0.0    125     0 |    0.00   0.43   0.38  -0.58\n"
     ]
    },
    {
     "name": "stderr",
     "output_type": "stream",
     "text": [
      "\r",
      " 75%|██████████████████████████████████████████████████████████████▎                    | 3/4 [10:57<03:40, 220.56s/it]"
     ]
    },
    {
     "name": "stdout",
     "output_type": "stream",
     "text": [
      "0  8.05e+03    0.64 |   -0.76    0.0    125     0 |    0.00   0.51   0.42  -0.58\n"
     ]
    },
    {
     "name": "stderr",
     "output_type": "stream",
     "text": [
      "100%|███████████████████████████████████████████████████████████████████████████████████| 4/4 [15:20<00:00, 230.24s/it]\n"
     ]
    },
    {
     "name": "stdout",
     "output_type": "stream",
     "text": [
      "| UsedTime:     921 | SavedDir: ./trained_models | Total Step: 2011\n",
      "======jim-ppo-recurrent-317-agent-6 Validation from:  2018-01-03 to  2018-07-03\n",
      "Max reward at validation for Reccurent PPO 125.0\n",
      "Model updated:  96317  times\n",
      "======Trading from:  2018-07-05 to  2019-01-04\n",
      "Using device:  cpu\n",
      "Saving to  results/account_value_trade_main_jim-ppo-recurrent-317-agent-6.csv\n",
      "previous_total_asset:1475318.252326386\n",
      "end_total_asset:1401284.8039510886\n",
      "total_asset_change:-74033.44837529748\n",
      "Total cash is: 0.7314413229133336$ and total holdings in stocks are 1401284.0725097656$\n",
      "Buy & Hold strategy with previous total asset:  1430771.3434322074\n",
      "Total Cost:  1985.7576518783583\n",
      "Sum of rewards  -89340.42678411095\n",
      "Total trades:  306\n",
      "Total buy orders are 160 and total sell orders are 146\n",
      "Total days in turbulance:  0\n",
      "Sharpe:  -0.046474597445793825\n",
      "Test Finished!\n",
      "episode_return % 0.4013\n",
      "Calculating buy and hold\n",
      "Buy and Hold value is  1430972.9262496235\n",
      "Buy and hold bigger than performances\n",
      "Writing hparams:  {'eval_time_gap': 8, 'batch_size': 8, 'gamma': 0.9999, 'learning_rate': 0.04149, 'target_step': 29065, 'net_dimension': 1026, 'episode': 4, 'seed': 31}\n",
      "value should be one of int, float, str, bool, or torch.Tensor\n",
      "Could not write the haparms {'eval_time_gap': 8, 'batch_size': 8, 'gamma': 0.9999, 'learning_rate': 0.04149, 'target_step': 29065, 'net_dimension': 1026, 'episode': 4, 'seed': 31} with end total asset of  1401284.8039510886\n",
      "============================================\n",
      "Agent:  7 / 25\n",
      "{'eval_time_gap': 8, 'batch_size': 8, 'gamma': 0.995, 'learning_rate': {'start': 0.00954, 'end': 0.00045}, 'target_step': 60260, 'net_dimension': 100, 'episode': 11, 'seed': 69}\n",
      "======Model training from:  2010-01-01 to  2016-01-04\n",
      "| Remove cwd: ./trained_models\n",
      "Using device:  cpu\n",
      "################################################################################\n",
      "ID     Step    maxR |    avgR   stdR   avgS  stdS |    expR   objC   etc.\n"
     ]
    },
    {
     "name": "stderr",
     "output_type": "stream",
     "text": [
      "\r",
      "  0%|                                                                                           | 0/11 [00:00<?, ?it/s]"
     ]
    },
    {
     "name": "stdout",
     "output_type": "stream",
     "text": [
      "0  1.51e+03    1.20 |    1.20    0.3    125     0 |   -0.05   0.10   0.18  -0.52\n"
     ]
    },
    {
     "name": "stderr",
     "output_type": "stream",
     "text": [
      "\r",
      "  9%|███████▌                                                                           | 1/11 [00:43<07:17, 43.77s/it]"
     ]
    },
    {
     "name": "stdout",
     "output_type": "stream",
     "text": [
      "0  3.02e+03    2.34 |    2.34    0.0    125     0 |   -0.01   0.00   0.32  -0.52\n"
     ]
    },
    {
     "name": "stderr",
     "output_type": "stream",
     "text": [
      "\r",
      " 18%|███████████████                                                                    | 2/11 [01:45<08:06, 54.05s/it]"
     ]
    },
    {
     "name": "stdout",
     "output_type": "stream",
     "text": [
      "0  4.53e+03    2.91 |    2.91    0.0    125     0 |    0.00   0.11   0.40  -0.52\n"
     ]
    },
    {
     "name": "stderr",
     "output_type": "stream",
     "text": [
      "\r",
      " 27%|██████████████████████▋                                                            | 3/11 [02:31<06:44, 50.58s/it]"
     ]
    },
    {
     "name": "stdout",
     "output_type": "stream",
     "text": [
      "0  6.03e+03    2.91 |    2.42    0.0    125     0 |    0.00   0.09   0.36  -0.52\n"
     ]
    },
    {
     "name": "stderr",
     "output_type": "stream",
     "text": [
      "\r",
      " 36%|██████████████████████████████▏                                                    | 4/11 [03:08<05:16, 45.17s/it]"
     ]
    },
    {
     "name": "stdout",
     "output_type": "stream",
     "text": [
      "0  7.54e+03    3.65 |    3.65    0.0    125     0 |   -0.02   0.59   0.46  -0.52\n"
     ]
    },
    {
     "name": "stderr",
     "output_type": "stream",
     "text": [
      "\r",
      " 45%|█████████████████████████████████████▋                                             | 5/11 [04:03<04:51, 48.64s/it]"
     ]
    },
    {
     "name": "stdout",
     "output_type": "stream",
     "text": [
      "0  9.04e+03    3.65 |    2.55    0.0    125     0 |    0.00   0.44   0.44  -0.52\n"
     ]
    },
    {
     "name": "stderr",
     "output_type": "stream",
     "text": [
      "\r",
      " 55%|█████████████████████████████████████████████▎                                     | 6/11 [04:38<03:41, 44.30s/it]"
     ]
    },
    {
     "name": "stdout",
     "output_type": "stream",
     "text": [
      "0  1.05e+04    3.65 |    1.82    0.0    125     0 |   -0.00   0.51   0.43  -0.52\n"
     ]
    },
    {
     "name": "stderr",
     "output_type": "stream",
     "text": [
      "\r",
      " 64%|████████████████████████████████████████████████████▊                              | 7/11 [05:14<02:45, 41.39s/it]"
     ]
    },
    {
     "name": "stdout",
     "output_type": "stream",
     "text": [
      "0  1.21e+04    3.65 |    2.43    0.0    125     0 |    0.00   0.17   0.73  -0.52\n"
     ]
    },
    {
     "name": "stderr",
     "output_type": "stream",
     "text": [
      "\r",
      " 73%|████████████████████████████████████████████████████████████▎                      | 8/11 [05:49<01:58, 39.51s/it]"
     ]
    },
    {
     "name": "stdout",
     "output_type": "stream",
     "text": [
      "0  1.36e+04    3.65 |    2.73    0.0    125     0 |   -0.01   0.28   0.27  -0.52\n"
     ]
    },
    {
     "name": "stderr",
     "output_type": "stream",
     "text": [
      "\r",
      " 82%|███████████████████████████████████████████████████████████████████▉               | 9/11 [06:25<01:16, 38.17s/it]"
     ]
    },
    {
     "name": "stdout",
     "output_type": "stream",
     "text": [
      "0  1.51e+04    3.65 |    2.40    0.0    125     0 |   -0.00   0.48   0.34  -0.52\n"
     ]
    },
    {
     "name": "stderr",
     "output_type": "stream",
     "text": [
      "\r",
      " 91%|██████████████████████████████████████████████████████████████████████████▌       | 10/11 [07:00<00:37, 37.24s/it]"
     ]
    },
    {
     "name": "stdout",
     "output_type": "stream",
     "text": [
      "0  1.66e+04    3.65 |    2.67    0.0    125     0 |   -0.00   0.31   0.23  -0.52\n"
     ]
    },
    {
     "name": "stderr",
     "output_type": "stream",
     "text": [
      "100%|██████████████████████████████████████████████████████████████████████████████████| 11/11 [07:35<00:00, 41.37s/it]\n"
     ]
    },
    {
     "name": "stdout",
     "output_type": "stream",
     "text": [
      "| UsedTime:     455 | SavedDir: ./trained_models | Total Step: 1500\n",
      "======jim-ppo-recurrent-317-agent-7 Validation from:  2016-01-04 to  2016-07-01\n",
      "Max reward at validation for Reccurent PPO 125.0\n",
      "Model updated:  112872  times\n",
      "======Trading from:  2016-07-05 to  2017-01-03\n",
      "Using device:  cpu\n",
      "previous_total_asset:1000000\n",
      "end_total_asset:1046969.538246586\n",
      "total_asset_change:46969.53824658599\n",
      "Total cash is: 9.436073734374318$ and total holdings in stocks are 1046960.1021728516$\n",
      "Buy & Hold strategy with previous total asset:  1107583.5885027447\n",
      "Total Cost:  1099.121997402191\n",
      "Sum of rewards  46969.53824658599\n",
      "Total trades:  155\n",
      "Total buy orders are 147 and total sell orders are 8\n",
      "Total days in turbulance:  0\n",
      "Sharpe:  0.14067763265123773\n",
      "Test Finished!\n",
      "episode_return % 0.04699999999999993\n",
      "============================================\n",
      "Agent:  7 / 25\n",
      "{'eval_time_gap': 8, 'batch_size': 8, 'gamma': 0.995, 'learning_rate': {'start': 0.00954, 'end': 0.00045}, 'target_step': 60260, 'net_dimension': 100, 'episode': 11, 'seed': 69}\n",
      "======Model training from:  2010-01-01 to  2016-07-05\n",
      "| Remove cwd: ./trained_models\n",
      "Using device:  cpu\n",
      "################################################################################\n",
      "ID     Step    maxR |    avgR   stdR   avgS  stdS |    expR   objC   etc.\n"
     ]
    },
    {
     "name": "stderr",
     "output_type": "stream",
     "text": [
      "\r",
      "  0%|                                                                                           | 0/11 [00:00<?, ?it/s]"
     ]
    },
    {
     "name": "stdout",
     "output_type": "stream",
     "text": [
      "0  1.64e+03    0.66 |    0.66    1.2    125     0 |   -0.05   0.03  -0.07  -0.48\n"
     ]
    },
    {
     "name": "stderr",
     "output_type": "stream",
     "text": [
      "\r",
      "  9%|███████▌                                                                           | 1/11 [00:43<07:11, 43.12s/it]"
     ]
    },
    {
     "name": "stdout",
     "output_type": "stream",
     "text": [
      "0  3.27e+03    0.93 |    0.93    1.3    125     0 |   -0.01   0.01   0.07  -0.46\n"
     ]
    },
    {
     "name": "stderr",
     "output_type": "stream",
     "text": [
      "\r",
      " 18%|███████████████                                                                    | 2/11 [01:28<06:37, 44.18s/it]"
     ]
    },
    {
     "name": "stdout",
     "output_type": "stream",
     "text": [
      "0  4.90e+03    1.92 |    1.92    0.2    125     0 |   -0.01   0.18   0.60  -0.45\n"
     ]
    },
    {
     "name": "stderr",
     "output_type": "stream",
     "text": [
      "\r",
      " 27%|██████████████████████▋                                                            | 3/11 [02:13<05:57, 44.67s/it]"
     ]
    },
    {
     "name": "stdout",
     "output_type": "stream",
     "text": [
      "0  6.54e+03    3.47 |    3.47    0.2    125     0 |   -0.00   0.00   0.13  -0.45\n"
     ]
    },
    {
     "name": "stderr",
     "output_type": "stream",
     "text": [
      "\r",
      " 36%|██████████████████████████████▏                                                    | 4/11 [02:58<05:15, 45.06s/it]"
     ]
    },
    {
     "name": "stdout",
     "output_type": "stream",
     "text": [
      "0  8.17e+03    4.77 |    4.77    0.3    125     0 |   -0.01   0.02  -0.28  -0.47\n"
     ]
    },
    {
     "name": "stderr",
     "output_type": "stream",
     "text": [
      "\r",
      " 36%|██████████████████████████████▏                                                    | 4/11 [03:45<06:34, 56.30s/it]"
     ]
    },
    {
     "name": "stdout",
     "output_type": "stream",
     "text": [
      "Reached goals on 1632\n",
      "| UsedTime:     225 | SavedDir: ./trained_models | Total Step: 1632\n",
      "======jim-ppo-recurrent-317-agent-7 Validation from:  2016-07-05 to  2016-12-30\n",
      "Max reward at validation for Reccurent PPO 125.0\n",
      "Model updated:  121042  times\n",
      "======Trading from:  2017-01-03 to  2017-07-05\n",
      "Using device:  cpu\n"
     ]
    },
    {
     "name": "stderr",
     "output_type": "stream",
     "text": [
      "\n"
     ]
    },
    {
     "name": "stdout",
     "output_type": "stream",
     "text": [
      "Saving to  results/account_value_trade_main_jim-ppo-recurrent-317-agent-7.csv\n",
      "previous_total_asset:1046969.538246586\n",
      "end_total_asset:1155265.7169037405\n",
      "total_asset_change:108296.17865715455\n",
      "Total cash is: 7.871645899619928$ and total holdings in stocks are 1155257.8452578408$\n",
      "Buy & Hold strategy with previous total asset:  1134420.9637017038\n",
      "Total Cost:  1667.9383732773301\n",
      "Sum of rewards  101549.4924961133\n",
      "Total trades:  955\n",
      "Total buy orders are 391 and total sell orders are 564\n",
      "Total days in turbulance:  0\n",
      "Sharpe:  0.33101828984446713\n",
      "Test Finished!\n",
      "episode_return % 0.1553\n",
      "============================================\n",
      "Agent:  7 / 25\n",
      "{'eval_time_gap': 8, 'batch_size': 8, 'gamma': 0.995, 'learning_rate': {'start': 0.00954, 'end': 0.00045}, 'target_step': 60260, 'net_dimension': 100, 'episode': 11, 'seed': 69}\n",
      "======Model training from:  2010-01-01 to  2017-01-03\n",
      "| Remove cwd: ./trained_models\n",
      "Using device:  cpu\n",
      "################################################################################\n",
      "ID     Step    maxR |    avgR   stdR   avgS  stdS |    expR   objC   etc.\n"
     ]
    },
    {
     "name": "stderr",
     "output_type": "stream",
     "text": [
      "\r",
      "  0%|                                                                                           | 0/11 [00:00<?, ?it/s]"
     ]
    },
    {
     "name": "stdout",
     "output_type": "stream",
     "text": [
      "0  1.76e+03    2.03 |    2.03    0.9    125     0 |   -0.05   0.01   0.28  -0.49\n"
     ]
    },
    {
     "name": "stderr",
     "output_type": "stream",
     "text": [
      "\r",
      "  9%|███████▌                                                                           | 1/11 [00:45<07:36, 45.64s/it]"
     ]
    },
    {
     "name": "stdout",
     "output_type": "stream",
     "text": [
      "0  3.52e+03    4.50 |    4.50    0.3    125     0 |   -0.01   0.00   0.06  -0.49\n"
     ]
    },
    {
     "name": "stderr",
     "output_type": "stream",
     "text": [
      "\r",
      "  9%|███████▌                                                                           | 1/11 [01:33<15:39, 93.92s/it]"
     ]
    },
    {
     "name": "stdout",
     "output_type": "stream",
     "text": [
      "Reached goals on 1761\n",
      "| UsedTime:      94 | SavedDir: ./trained_models | Total Step: 1761\n",
      "======jim-ppo-recurrent-317-agent-7 Validation from:  2017-01-03 to  2017-07-03\n",
      "Max reward at validation for Reccurent PPO 125.0\n",
      "Model updated:  124565  times\n",
      "======Trading from:  2017-07-05 to  2018-01-03\n",
      "Using device:  cpu\n"
     ]
    },
    {
     "name": "stderr",
     "output_type": "stream",
     "text": [
      "\n"
     ]
    },
    {
     "name": "stdout",
     "output_type": "stream",
     "text": [
      "Saving to  results/account_value_trade_main_jim-ppo-recurrent-317-agent-7.csv\n",
      "previous_total_asset:1155265.7169037405\n",
      "end_total_asset:1375165.5549051994\n",
      "total_asset_change:219899.8380014589\n",
      "Total cash is: 10.79425614476374$ and total holdings in stocks are 1375154.7606490548$\n",
      "Buy & Hold strategy with previous total asset:  1343737.3346907785\n",
      "Total Cost:  1098.275753558061\n",
      "Sum of rewards  223975.4740229817\n",
      "Total trades:  166\n",
      "Total buy orders are 91 and total sell orders are 75\n",
      "Total days in turbulance:  0\n",
      "Sharpe:  0.6316527733082871\n",
      "Test Finished!\n",
      "episode_return % 0.3752\n",
      "============================================\n",
      "Agent:  7 / 25\n",
      "{'eval_time_gap': 8, 'batch_size': 8, 'gamma': 0.995, 'learning_rate': {'start': 0.00954, 'end': 0.00045}, 'target_step': 60260, 'net_dimension': 100, 'episode': 11, 'seed': 69}\n",
      "======Model training from:  2010-01-01 to  2017-07-05\n",
      "| Remove cwd: ./trained_models\n",
      "Using device:  cpu\n",
      "################################################################################\n",
      "ID     Step    maxR |    avgR   stdR   avgS  stdS |    expR   objC   etc.\n"
     ]
    },
    {
     "name": "stderr",
     "output_type": "stream",
     "text": [
      "\r",
      "  0%|                                                                                           | 0/11 [00:00<?, ?it/s]"
     ]
    },
    {
     "name": "stdout",
     "output_type": "stream",
     "text": [
      "0  1.89e+03    3.17 |    3.17    0.9    125     0 |   -0.05   0.04   0.44  -0.50\n"
     ]
    },
    {
     "name": "stderr",
     "output_type": "stream",
     "text": [
      "\r",
      "  9%|███████▌                                                                           | 1/11 [00:48<08:09, 48.99s/it]"
     ]
    },
    {
     "name": "stdout",
     "output_type": "stream",
     "text": [
      "0  3.78e+03    3.81 |    3.81    0.0    125     0 |   -0.00   0.01   0.09  -0.50\n"
     ]
    },
    {
     "name": "stderr",
     "output_type": "stream",
     "text": [
      "\r",
      " 18%|███████████████                                                                    | 2/11 [01:40<07:35, 50.56s/it]"
     ]
    },
    {
     "name": "stdout",
     "output_type": "stream",
     "text": [
      "0  5.66e+03    3.81 |    3.66    0.0    125     0 |   -0.01   0.02   0.46  -0.50\n"
     ]
    },
    {
     "name": "stderr",
     "output_type": "stream",
     "text": [
      "\r",
      " 27%|██████████████████████▋                                                            | 3/11 [02:20<06:07, 45.89s/it]"
     ]
    },
    {
     "name": "stdout",
     "output_type": "stream",
     "text": [
      "0  7.55e+03    4.10 |    4.10    0.1    125     0 |   -0.01   0.02   0.11  -0.50\n"
     ]
    },
    {
     "name": "stderr",
     "output_type": "stream",
     "text": [
      "\r",
      " 27%|██████████████████████▋                                                            | 3/11 [03:11<08:29, 63.73s/it]"
     ]
    },
    {
     "name": "stdout",
     "output_type": "stream",
     "text": [
      "Reached goals on 1885\n",
      "| UsedTime:     191 | SavedDir: ./trained_models | Total Step: 1885\n",
      "======jim-ppo-recurrent-317-agent-7 Validation from:  2017-07-05 to  2018-01-02\n",
      "Max reward at validation for Reccurent PPO 125.0\n",
      "Model updated:  132111  times\n",
      "======Trading from:  2018-01-03 to  2018-07-05\n",
      "Using device:  cpu\n"
     ]
    },
    {
     "name": "stderr",
     "output_type": "stream",
     "text": [
      "\n"
     ]
    },
    {
     "name": "stdout",
     "output_type": "stream",
     "text": [
      "Saving to  results/account_value_trade_main_jim-ppo-recurrent-317-agent-7.csv\n",
      "previous_total_asset:1375165.5549051994\n",
      "end_total_asset:1344733.7018349825\n",
      "total_asset_change:-30431.853070216952\n",
      "Total cash is: 10.516307419816712$ and total holdings in stocks are 1344723.1855275626$\n",
      "Buy & Hold strategy with previous total asset:  1358626.315964091\n",
      "Total Cost:  2551.3413086172695\n",
      "Sum of rewards  -38527.02640455426\n",
      "Total trades:  284\n",
      "Total buy orders are 171 and total sell orders are 113\n",
      "Total days in turbulance:  0\n",
      "Sharpe:  -0.017838680291667106\n",
      "Test Finished!\n",
      "episode_return % 0.3447\n",
      "Calculating buy and hold\n",
      "Buy and Hold value is  1475283.0604952318\n",
      "Buy and hold bigger than performances\n",
      "Writing hparams:  {'eval_time_gap': 8, 'batch_size': 8, 'gamma': 0.995, 'learning_rate': {'start': 0.00954, 'end': 0.00045}, 'target_step': 60260, 'net_dimension': 100, 'episode': 11, 'seed': 69}\n",
      "value should be one of int, float, str, bool, or torch.Tensor\n",
      "Could not write the haparms {'eval_time_gap': 8, 'batch_size': 8, 'gamma': 0.995, 'learning_rate': {'start': 0.00954, 'end': 0.00045}, 'target_step': 60260, 'net_dimension': 100, 'episode': 11, 'seed': 69} with end total asset of  1344733.7018349825\n",
      "============================================\n",
      "Agent:  8 / 25\n",
      "{'eval_time_gap': 8, 'batch_size': 8, 'gamma': 0.999, 'learning_rate': {'start': 0.04027, 'end': 0.00031}, 'target_step': 50581, 'net_dimension': 512, 'episode': 7, 'seed': 69}\n",
      "======Model training from:  2010-01-01 to  2016-01-04\n",
      "| Remove cwd: ./trained_models\n",
      "Using device:  cpu\n",
      "################################################################################\n",
      "ID     Step    maxR |    avgR   stdR   avgS  stdS |    expR   objC   etc.\n"
     ]
    },
    {
     "name": "stderr",
     "output_type": "stream",
     "text": [
      "\r",
      "  0%|                                                                                            | 0/7 [00:00<?, ?it/s]"
     ]
    },
    {
     "name": "stdout",
     "output_type": "stream",
     "text": [
      "0  1.51e+03    2.01 |    2.01    0.4    125     0 |   -0.06   0.28   0.51  -0.47\n"
     ]
    },
    {
     "name": "stderr",
     "output_type": "stream",
     "text": [
      "\r",
      " 14%|████████████                                                                        | 1/7 [01:22<08:12, 82.08s/it]"
     ]
    },
    {
     "name": "stdout",
     "output_type": "stream",
     "text": [
      "0  3.02e+03    3.54 |    3.54    0.0    125     0 |   -0.00   0.46   0.00  -0.47\n"
     ]
    },
    {
     "name": "stderr",
     "output_type": "stream",
     "text": [
      "\r",
      " 29%|████████████████████████                                                            | 2/7 [02:41<06:41, 80.22s/it]"
     ]
    },
    {
     "name": "stdout",
     "output_type": "stream",
     "text": [
      "0  4.53e+03    3.54 |    3.53    0.0    125     0 |   -0.00   0.54   0.32  -0.47\n"
     ]
    },
    {
     "name": "stderr",
     "output_type": "stream",
     "text": [
      "\r",
      " 43%|████████████████████████████████████                                                | 3/7 [04:08<05:34, 83.57s/it]"
     ]
    },
    {
     "name": "stdout",
     "output_type": "stream",
     "text": [
      "0  6.03e+03    3.54 |    3.54    0.0    125     0 |   -0.00   0.35   0.27  -0.47\n"
     ]
    },
    {
     "name": "stderr",
     "output_type": "stream",
     "text": [
      "\r",
      " 57%|████████████████████████████████████████████████                                    | 4/7 [05:10<03:45, 75.07s/it]"
     ]
    },
    {
     "name": "stdout",
     "output_type": "stream",
     "text": [
      "0  7.54e+03    3.55 |    3.55    0.0    125     0 |   -0.00   0.62   0.30  -0.47\n"
     ]
    },
    {
     "name": "stderr",
     "output_type": "stream",
     "text": [
      "\r",
      " 71%|████████████████████████████████████████████████████████████                        | 5/7 [06:22<02:27, 73.80s/it]"
     ]
    },
    {
     "name": "stdout",
     "output_type": "stream",
     "text": [
      "0  9.04e+03    3.56 |    3.56    0.0    125     0 |   -0.00   0.33   0.22  -0.47\n"
     ]
    },
    {
     "name": "stderr",
     "output_type": "stream",
     "text": [
      "\r",
      " 86%|████████████████████████████████████████████████████████████████████████            | 6/7 [07:33<01:13, 73.02s/it]"
     ]
    },
    {
     "name": "stdout",
     "output_type": "stream",
     "text": [
      "0  1.05e+04    3.57 |    3.57    0.0    125     0 |   -0.00   0.42   0.28  -0.47\n"
     ]
    },
    {
     "name": "stderr",
     "output_type": "stream",
     "text": [
      "100%|████████████████████████████████████████████████████████████████████████████████████| 7/7 [08:45<00:00, 75.05s/it]\n"
     ]
    },
    {
     "name": "stdout",
     "output_type": "stream",
     "text": [
      "| UsedTime:     525 | SavedDir: ./trained_models | Total Step: 1504\n",
      "======jim-ppo-recurrent-317-agent-8 Validation from:  2016-01-04 to  2016-07-01\n",
      "Max reward at validation for Reccurent PPO 125.0\n",
      "Model updated:  142660  times\n",
      "======Trading from:  2016-07-05 to  2017-01-03\n",
      "Using device:  cpu\n",
      "previous_total_asset:1000000\n",
      "end_total_asset:1072252.8460301845\n",
      "total_asset_change:72252.84603018453\n",
      "Total cash is: 0.12073607142181686$ and total holdings in stocks are 1072252.7252941132$\n",
      "Buy & Hold strategy with previous total asset:  1107583.5885027447\n",
      "Total Cost:  999.0008783855434\n",
      "Sum of rewards  72252.84603018453\n",
      "Total trades:  138\n",
      "Total buy orders are 138 and total sell orders are 0\n",
      "Total days in turbulance:  0\n",
      "Sharpe:  0.19509931607768669\n",
      "Test Finished!\n",
      "episode_return % 0.07230000000000003\n",
      "============================================\n",
      "Agent:  8 / 25\n",
      "{'eval_time_gap': 8, 'batch_size': 8, 'gamma': 0.999, 'learning_rate': {'start': 0.04027, 'end': 0.00031}, 'target_step': 50581, 'net_dimension': 512, 'episode': 7, 'seed': 69}\n",
      "======Model training from:  2010-01-01 to  2016-07-05\n",
      "| Remove cwd: ./trained_models\n",
      "Using device:  cpu\n",
      "################################################################################\n",
      "ID     Step    maxR |    avgR   stdR   avgS  stdS |    expR   objC   etc.\n"
     ]
    },
    {
     "name": "stderr",
     "output_type": "stream",
     "text": [
      "\r",
      "  0%|                                                                                            | 0/7 [00:00<?, ?it/s]"
     ]
    },
    {
     "name": "stdout",
     "output_type": "stream",
     "text": [
      "0  1.64e+03    1.73 |    1.73    0.6    125     0 |   -0.06   0.29   0.06  -0.48\n"
     ]
    },
    {
     "name": "stderr",
     "output_type": "stream",
     "text": [
      "\r",
      " 14%|████████████                                                                        | 1/7 [01:08<06:52, 68.67s/it]"
     ]
    },
    {
     "name": "stdout",
     "output_type": "stream",
     "text": [
      "0  3.27e+03    3.96 |    3.96    0.6    125     0 |   -0.00   0.57   0.38  -0.48\n"
     ]
    },
    {
     "name": "stderr",
     "output_type": "stream",
     "text": [
      "\r",
      " 29%|████████████████████████                                                            | 2/7 [02:24<06:03, 72.73s/it]"
     ]
    },
    {
     "name": "stdout",
     "output_type": "stream",
     "text": [
      "0  4.90e+03    3.96 |    3.32    0.0    125     0 |   -0.01   0.52   0.30  -0.48\n"
     ]
    },
    {
     "name": "stderr",
     "output_type": "stream",
     "text": [
      "\r",
      " 43%|████████████████████████████████████                                                | 3/7 [03:33<04:44, 71.01s/it]"
     ]
    },
    {
     "name": "stdout",
     "output_type": "stream",
     "text": [
      "0  6.54e+03    3.96 |    2.68    0.0    125     0 |   -0.01   0.48   0.38  -0.48\n"
     ]
    },
    {
     "name": "stderr",
     "output_type": "stream",
     "text": [
      "\r",
      " 57%|████████████████████████████████████████████████                                    | 4/7 [04:42<03:31, 70.37s/it]"
     ]
    },
    {
     "name": "stdout",
     "output_type": "stream",
     "text": [
      "0  8.17e+03    3.96 |    2.62    0.0    125     0 |   -0.02   0.67   0.32  -0.48\n"
     ]
    },
    {
     "name": "stderr",
     "output_type": "stream",
     "text": [
      "\r",
      " 71%|████████████████████████████████████████████████████████████                        | 5/7 [05:51<02:19, 69.90s/it]"
     ]
    },
    {
     "name": "stdout",
     "output_type": "stream",
     "text": [
      "0  9.80e+03    3.96 |    2.57    0.0    125     0 |   -0.02   0.69   0.16  -0.48\n"
     ]
    },
    {
     "name": "stderr",
     "output_type": "stream",
     "text": [
      "\r",
      " 86%|████████████████████████████████████████████████████████████████████████            | 6/7 [07:00<01:09, 69.70s/it]"
     ]
    },
    {
     "name": "stdout",
     "output_type": "stream",
     "text": [
      "0  1.14e+04    3.96 |    2.53    0.0    125     0 |   -0.02   0.58   0.29  -0.48\n"
     ]
    },
    {
     "name": "stderr",
     "output_type": "stream",
     "text": [
      "100%|████████████████████████████████████████████████████████████████████████████████████| 7/7 [08:09<00:00, 70.00s/it]\n"
     ]
    },
    {
     "name": "stdout",
     "output_type": "stream",
     "text": [
      "| UsedTime:     490 | SavedDir: ./trained_models | Total Step: 1630\n",
      "======jim-ppo-recurrent-317-agent-8 Validation from:  2016-07-05 to  2016-12-30\n",
      "Max reward at validation for Reccurent PPO 125.0\n",
      "Model updated:  154091  times\n",
      "======Trading from:  2017-01-03 to  2017-07-05\n",
      "Using device:  cpu\n",
      "Saving to  results/account_value_trade_main_jim-ppo-recurrent-317-agent-8.csv\n",
      "previous_total_asset:1072252.8460301845\n",
      "end_total_asset:1108496.8678490743\n",
      "total_asset_change:36244.02181888977\n",
      "Total cash is: 4.744008742293197$ and total holdings in stocks are 1108492.123840332$\n",
      "Buy & Hold strategy with previous total asset:  1161816.1393335294\n",
      "Total Cost:  1717.4112617835992\n",
      "Sum of rewards  30425.492644085083\n",
      "Total trades:  205\n",
      "Total buy orders are 105 and total sell orders are 100\n",
      "Total days in turbulance:  0\n",
      "Sharpe:  0.10482060477481357\n",
      "Test Finished!\n",
      "episode_return % 0.10850000000000004\n",
      "============================================\n",
      "Agent:  8 / 25\n",
      "{'eval_time_gap': 8, 'batch_size': 8, 'gamma': 0.999, 'learning_rate': {'start': 0.04027, 'end': 0.00031}, 'target_step': 50581, 'net_dimension': 512, 'episode': 7, 'seed': 69}\n",
      "======Model training from:  2010-01-01 to  2017-01-03\n",
      "| Remove cwd: ./trained_models\n",
      "Using device:  cpu\n",
      "################################################################################\n",
      "ID     Step    maxR |    avgR   stdR   avgS  stdS |    expR   objC   etc.\n"
     ]
    },
    {
     "name": "stderr",
     "output_type": "stream",
     "text": [
      "\r",
      "  0%|                                                                                            | 0/7 [00:00<?, ?it/s]"
     ]
    },
    {
     "name": "stdout",
     "output_type": "stream",
     "text": [
      "0  1.76e+03    3.39 |    3.39    0.3    125     0 |   -0.05   0.76   0.32  -0.53\n"
     ]
    },
    {
     "name": "stderr",
     "output_type": "stream",
     "text": [
      "\r",
      " 14%|████████████                                                                        | 1/7 [01:14<07:25, 74.31s/it]"
     ]
    },
    {
     "name": "stdout",
     "output_type": "stream",
     "text": [
      "0  3.52e+03    6.25 |    6.25    0.8    125     0 |   -0.01   0.67   0.33  -0.53\n"
     ]
    },
    {
     "name": "stderr",
     "output_type": "stream",
     "text": [
      "\r",
      " 14%|███████████▊                                                                       | 1/7 [02:36<15:36, 156.17s/it]"
     ]
    },
    {
     "name": "stdout",
     "output_type": "stream",
     "text": [
      "Reached goals on 1761\n",
      "| UsedTime:     156 | SavedDir: ./trained_models | Total Step: 1761\n",
      "======jim-ppo-recurrent-317-agent-8 Validation from:  2017-01-03 to  2017-07-03\n",
      "Max reward at validation for Reccurent PPO 125.0\n",
      "Model updated:  157614  times\n",
      "======Trading from:  2017-07-05 to  2018-01-03\n",
      "Using device:  cpu\n"
     ]
    },
    {
     "name": "stderr",
     "output_type": "stream",
     "text": [
      "\n"
     ]
    },
    {
     "name": "stdout",
     "output_type": "stream",
     "text": [
      "Saving to  results/account_value_trade_main_jim-ppo-recurrent-317-agent-8.csv\n",
      "previous_total_asset:1108496.8678490743\n",
      "end_total_asset:1308197.049101117\n",
      "total_asset_change:199700.18125204276\n",
      "Total cash is: 0.6241114167814885$ and total holdings in stocks are 1308196.4249897003$\n",
      "Buy & Hold strategy with previous total asset:  1289338.5520940742\n",
      "Total Cost:  1676.657607515336\n",
      "Sum of rewards  201313.98137716483\n",
      "Total trades:  221\n",
      "Total buy orders are 124 and total sell orders are 97\n",
      "Total days in turbulance:  0\n",
      "Sharpe:  0.5140637623763686\n",
      "Test Finished!\n",
      "episode_return % 0.30820000000000003\n",
      "============================================\n",
      "Agent:  8 / 25\n",
      "{'eval_time_gap': 8, 'batch_size': 8, 'gamma': 0.999, 'learning_rate': {'start': 0.04027, 'end': 0.00031}, 'target_step': 50581, 'net_dimension': 512, 'episode': 7, 'seed': 69}\n",
      "======Model training from:  2010-01-01 to  2017-07-05\n",
      "| Remove cwd: ./trained_models\n",
      "Using device:  cpu\n",
      "################################################################################\n",
      "ID     Step    maxR |    avgR   stdR   avgS  stdS |    expR   objC   etc.\n"
     ]
    },
    {
     "name": "stderr",
     "output_type": "stream",
     "text": [
      "\r",
      "  0%|                                                                                            | 0/7 [00:00<?, ?it/s]"
     ]
    },
    {
     "name": "stdout",
     "output_type": "stream",
     "text": [
      "0  1.89e+03    3.83 |    3.83    0.6    125     0 |   -0.05   0.10   0.25  -0.50\n"
     ]
    },
    {
     "name": "stderr",
     "output_type": "stream",
     "text": [
      "\r",
      " 14%|████████████                                                                        | 1/7 [01:17<07:45, 77.63s/it]"
     ]
    },
    {
     "name": "stdout",
     "output_type": "stream",
     "text": [
      "0  3.78e+03    3.83 |    3.82    0.1    125     0 |   -0.01   0.48   0.21  -0.50\n"
     ]
    },
    {
     "name": "stderr",
     "output_type": "stream",
     "text": [
      "\r",
      " 29%|████████████████████████                                                            | 2/7 [02:41<06:47, 81.46s/it]"
     ]
    },
    {
     "name": "stdout",
     "output_type": "stream",
     "text": [
      "0  5.66e+03    3.83 |    3.68    0.0    125     0 |   -0.01   0.86   0.13  -0.50\n"
     ]
    },
    {
     "name": "stderr",
     "output_type": "stream",
     "text": [
      "\r",
      " 43%|████████████████████████████████████                                                | 3/7 [03:58<05:17, 79.46s/it]"
     ]
    },
    {
     "name": "stdout",
     "output_type": "stream",
     "text": [
      "0  7.55e+03    3.83 |    3.66    0.0    125     0 |   -0.01   0.56   0.25  -0.50\n"
     ]
    },
    {
     "name": "stderr",
     "output_type": "stream",
     "text": [
      "\r",
      " 57%|████████████████████████████████████████████████                                    | 4/7 [05:17<03:57, 79.15s/it]"
     ]
    },
    {
     "name": "stdout",
     "output_type": "stream",
     "text": [
      "0  9.43e+03    3.83 |    3.64    0.0    125     0 |   -0.01   0.84   0.23  -0.50\n"
     ]
    },
    {
     "name": "stderr",
     "output_type": "stream",
     "text": [
      "\r",
      " 71%|████████████████████████████████████████████████████████████                        | 5/7 [06:34<02:36, 78.32s/it]"
     ]
    },
    {
     "name": "stdout",
     "output_type": "stream",
     "text": [
      "0  1.13e+04    3.83 |    3.63    0.0    125     0 |   -0.01   0.95   0.12  -0.50\n"
     ]
    },
    {
     "name": "stderr",
     "output_type": "stream",
     "text": [
      "\r",
      " 86%|████████████████████████████████████████████████████████████████████████            | 6/7 [07:53<01:18, 78.47s/it]"
     ]
    },
    {
     "name": "stdout",
     "output_type": "stream",
     "text": [
      "0  1.32e+04    3.83 |    3.41    0.0    125     0 |   -0.01   0.53   0.35  -0.50\n"
     ]
    },
    {
     "name": "stderr",
     "output_type": "stream",
     "text": [
      "100%|████████████████████████████████████████████████████████████████████████████████████| 7/7 [09:11<00:00, 78.73s/it]\n"
     ]
    },
    {
     "name": "stdout",
     "output_type": "stream",
     "text": [
      "| UsedTime:     551 | SavedDir: ./trained_models | Total Step: 1882\n",
      "======jim-ppo-recurrent-317-agent-8 Validation from:  2017-07-05 to  2018-01-02\n",
      "Max reward at validation for Reccurent PPO 125.0\n",
      "Model updated:  170809  times\n",
      "======Trading from:  2018-01-03 to  2018-07-05\n",
      "Using device:  cpu\n",
      "Saving to  results/account_value_trade_main_jim-ppo-recurrent-317-agent-8.csv\n",
      "previous_total_asset:1308197.049101117\n",
      "end_total_asset:1286471.8303475124\n",
      "total_asset_change:-21725.218753604684\n",
      "Total cash is: 15.029657815121482$ and total holdings in stocks are 1286456.8006896973$\n",
      "Buy & Hold strategy with previous total asset:  1292463.2463600885\n",
      "Total Cost:  3092.548360614777\n",
      "Sum of rewards  -29929.04919984797\n",
      "Total trades:  462\n",
      "Total buy orders are 263 and total sell orders are 199\n",
      "Total days in turbulance:  0\n",
      "Sharpe:  -0.012248429195675424\n",
      "Test Finished!\n",
      "episode_return % 0.2865\n",
      "Calculating buy and hold\n",
      "Buy and Hold value is  1475283.0604952318\n",
      "Buy and hold bigger than performances\n",
      "Writing hparams:  {'eval_time_gap': 8, 'batch_size': 8, 'gamma': 0.999, 'learning_rate': {'start': 0.04027, 'end': 0.00031}, 'target_step': 50581, 'net_dimension': 512, 'episode': 7, 'seed': 69}\n",
      "value should be one of int, float, str, bool, or torch.Tensor\n",
      "Could not write the haparms {'eval_time_gap': 8, 'batch_size': 8, 'gamma': 0.999, 'learning_rate': {'start': 0.04027, 'end': 0.00031}, 'target_step': 50581, 'net_dimension': 512, 'episode': 7, 'seed': 69} with end total asset of  1286471.8303475124\n",
      "============================================\n",
      "Agent:  9 / 25\n",
      "{'eval_time_gap': 512, 'batch_size': 256, 'gamma': 0.9, 'learning_rate': {'start': 0.04635, 'end': 0.0008}, 'target_step': 86499, 'net_dimension': 128, 'episode': 1, 'seed': 31}\n",
      "======Model training from:  2010-01-01 to  2016-01-04\n",
      "| Remove cwd: ./trained_models\n",
      "Using device:  cpu\n",
      "################################################################################\n",
      "ID     Step    maxR |    avgR   stdR   avgS  stdS |    expR   objC   etc.\n"
     ]
    },
    {
     "name": "stderr",
     "output_type": "stream",
     "text": [
      "\r",
      "  0%|                                                                                            | 0/1 [00:00<?, ?it/s]"
     ]
    },
    {
     "name": "stdout",
     "output_type": "stream",
     "text": [
      "0  1.51e+03    2.13 |    2.13    0.6    125     0 |   -0.06   0.10   0.15  -0.55\n"
     ]
    },
    {
     "name": "stderr",
     "output_type": "stream",
     "text": [
      "100%|████████████████████████████████████████████████████████████████████████████████████| 1/1 [00:25<00:00, 25.08s/it]\n"
     ]
    },
    {
     "name": "stdout",
     "output_type": "stream",
     "text": [
      "| UsedTime:      25 | SavedDir: ./trained_models | Total Step: 1510\n",
      "======jim-ppo-recurrent-317-agent-9 Validation from:  2016-01-04 to  2016-07-01\n",
      "Max reward at validation for Reccurent PPO 125.0\n",
      "Model updated:  170856  times\n",
      "======Trading from:  2016-07-05 to  2017-01-03\n",
      "Using device:  cpu\n",
      "previous_total_asset:1000000\n",
      "end_total_asset:1072234.0530715568\n",
      "total_asset_change:72234.05307155685\n",
      "Total cash is: 20.863479195441997$ and total holdings in stocks are 1072213.1895923615$\n",
      "Buy & Hold strategy with previous total asset:  1107583.5885027447\n",
      "Total Cost:  998.9801563644405\n",
      "Sum of rewards  72234.05307155685\n",
      "Total trades:  127\n",
      "Total buy orders are 127 and total sell orders are 0\n",
      "Total days in turbulance:  0\n",
      "Sharpe:  0.19974565580925308\n",
      "Test Finished!\n",
      "episode_return % 0.07220000000000004\n",
      "============================================\n",
      "Agent:  9 / 25\n",
      "{'eval_time_gap': 512, 'batch_size': 256, 'gamma': 0.9, 'learning_rate': {'start': 0.04635, 'end': 0.0008}, 'target_step': 86499, 'net_dimension': 128, 'episode': 1, 'seed': 31}\n",
      "======Model training from:  2010-01-01 to  2016-07-05\n",
      "| Remove cwd: ./trained_models\n",
      "Using device:  cpu\n",
      "################################################################################\n",
      "ID     Step    maxR |    avgR   stdR   avgS  stdS |    expR   objC   etc.\n"
     ]
    },
    {
     "name": "stderr",
     "output_type": "stream",
     "text": [
      "\r",
      "  0%|                                                                                            | 0/1 [00:00<?, ?it/s]"
     ]
    },
    {
     "name": "stdout",
     "output_type": "stream",
     "text": [
      "0  1.64e+03   -2.70 |   -2.70    0.2    125     0 |   -0.06   0.09   0.12  -0.52\n"
     ]
    },
    {
     "name": "stderr",
     "output_type": "stream",
     "text": [
      "100%|████████████████████████████████████████████████████████████████████████████████████| 1/1 [00:26<00:00, 26.29s/it]\n"
     ]
    },
    {
     "name": "stdout",
     "output_type": "stream",
     "text": [
      "| UsedTime:      26 | SavedDir: ./trained_models | Total Step: 1636\n",
      "======jim-ppo-recurrent-317-agent-9 Validation from:  2016-07-05 to  2016-12-30\n",
      "Max reward at validation for Reccurent PPO 125.0\n",
      "Model updated:  170907  times\n",
      "======Trading from:  2017-01-03 to  2017-07-05\n",
      "Using device:  cpu\n",
      "Saving to  results/account_value_trade_main_jim-ppo-recurrent-317-agent-9.csv\n",
      "previous_total_asset:1072234.0530715568\n",
      "end_total_asset:1191525.58803905\n",
      "total_asset_change:119291.53496749327\n",
      "Total cash is: 15.339866290014015$ and total holdings in stocks are 1191510.24817276$\n",
      "Buy & Hold strategy with previous total asset:  1161795.7766338913\n",
      "Total Cost:  1296.5937976131434\n",
      "Sum of rewards  111082.22157294676\n",
      "Total trades:  170\n",
      "Total buy orders are 106 and total sell orders are 64\n",
      "Total days in turbulance:  0\n",
      "Sharpe:  0.33385624509148065\n",
      "Test Finished!\n",
      "episode_return % 0.1915\n",
      "============================================\n",
      "Agent:  9 / 25\n",
      "{'eval_time_gap': 512, 'batch_size': 256, 'gamma': 0.9, 'learning_rate': {'start': 0.04635, 'end': 0.0008}, 'target_step': 86499, 'net_dimension': 128, 'episode': 1, 'seed': 31}\n",
      "======Model training from:  2010-01-01 to  2017-01-03\n",
      "| Remove cwd: ./trained_models\n",
      "Using device:  cpu\n",
      "################################################################################\n",
      "ID     Step    maxR |    avgR   stdR   avgS  stdS |    expR   objC   etc.\n"
     ]
    },
    {
     "name": "stderr",
     "output_type": "stream",
     "text": [
      "\r",
      "  0%|                                                                                            | 0/1 [00:00<?, ?it/s]"
     ]
    },
    {
     "name": "stdout",
     "output_type": "stream",
     "text": [
      "0  1.76e+03    4.88 |    4.88    0.8    125     0 |   -0.05   0.14   0.20  -0.50\n"
     ]
    },
    {
     "name": "stderr",
     "output_type": "stream",
     "text": [
      "\r",
      "  0%|                                                                                            | 0/1 [00:27<?, ?it/s]"
     ]
    },
    {
     "name": "stdout",
     "output_type": "stream",
     "text": [
      "Reached goals on 1762\n",
      "| UsedTime:      27 | SavedDir: ./trained_models | Total Step: 1762\n",
      "======jim-ppo-recurrent-317-agent-9 Validation from:  2017-01-03 to  2017-07-03\n",
      "Max reward at validation for Reccurent PPO 125.0\n",
      "Model updated:  170962  times\n",
      "======Trading from:  2017-07-05 to  2018-01-03\n",
      "Using device:  cpu\n"
     ]
    },
    {
     "name": "stderr",
     "output_type": "stream",
     "text": [
      "\n"
     ]
    },
    {
     "name": "stdout",
     "output_type": "stream",
     "text": [
      "Saving to  results/account_value_trade_main_jim-ppo-recurrent-317-agent-9.csv\n",
      "previous_total_asset:1191525.58803905\n",
      "end_total_asset:1492530.2434818468\n",
      "total_asset_change:301004.65544279665\n",
      "Total cash is: 23.877226275708665$ and total holdings in stocks are 1492506.3662555711$\n",
      "Buy & Hold strategy with previous total asset:  1385912.6904402573\n",
      "Total Cost:  332.24085018587965\n",
      "Sum of rewards  303333.9923873767\n",
      "Total trades:  94\n",
      "Total buy orders are 56 and total sell orders are 38\n",
      "Total days in turbulance:  0\n",
      "Sharpe:  0.6517754201608547\n",
      "Test Finished!\n",
      "episode_return % 0.49249999999999994\n",
      "============================================\n",
      "Agent:  9 / 25\n",
      "{'eval_time_gap': 512, 'batch_size': 256, 'gamma': 0.9, 'learning_rate': {'start': 0.04635, 'end': 0.0008}, 'target_step': 86499, 'net_dimension': 128, 'episode': 1, 'seed': 31}\n",
      "======Model training from:  2010-01-01 to  2017-07-05\n",
      "| Remove cwd: ./trained_models\n",
      "Using device:  cpu\n",
      "################################################################################\n",
      "ID     Step    maxR |    avgR   stdR   avgS  stdS |    expR   objC   etc.\n"
     ]
    },
    {
     "name": "stderr",
     "output_type": "stream",
     "text": [
      "\r",
      "  0%|                                                                                            | 0/1 [00:00<?, ?it/s]"
     ]
    },
    {
     "name": "stdout",
     "output_type": "stream",
     "text": [
      "0  1.89e+03    5.44 |    5.44    1.9    125     0 |   -0.05   0.16   0.14  -0.39\n"
     ]
    },
    {
     "name": "stderr",
     "output_type": "stream",
     "text": [
      "\r",
      "  0%|                                                                                            | 0/1 [00:28<?, ?it/s]"
     ]
    },
    {
     "name": "stdout",
     "output_type": "stream",
     "text": [
      "Reached goals on 1888\n",
      "| UsedTime:      28 | SavedDir: ./trained_models | Total Step: 1888\n",
      "======jim-ppo-recurrent-317-agent-9 Validation from:  2017-07-05 to  2018-01-02\n",
      "Max reward at validation for Reccurent PPO 125.0\n",
      "Model updated:  171021  times\n",
      "======Trading from:  2018-01-03 to  2018-07-05\n",
      "Using device:  cpu\n"
     ]
    },
    {
     "name": "stderr",
     "output_type": "stream",
     "text": [
      "\n"
     ]
    },
    {
     "name": "stdout",
     "output_type": "stream",
     "text": [
      "Saving to  results/account_value_trade_main_jim-ppo-recurrent-317-agent-9.csv\n",
      "previous_total_asset:1492530.2434818468\n",
      "end_total_asset:1494904.4176783431\n",
      "total_asset_change:2374.174196496373\n",
      "Total cash is: 2.3913264145123776$ and total holdings in stocks are 1494902.0263519287$\n",
      "Buy & Hold strategy with previous total asset:  1474579.448949709\n",
      "Total Cost:  1540.1563937757755\n",
      "Sum of rewards  -3652.7859950216953\n",
      "Total trades:  212\n",
      "Total buy orders are 124 and total sell orders are 88\n",
      "Total days in turbulance:  0\n",
      "Sharpe:  0.014786652526583314\n",
      "Test Finished!\n",
      "episode_return % 0.4948999999999999\n",
      "Calculating buy and hold\n",
      "Buy and Hold value is  1475283.0604952318\n",
      "============================================\n",
      "Agent:  9 / 25\n",
      "{'eval_time_gap': 512, 'batch_size': 256, 'gamma': 0.9, 'learning_rate': {'start': 0.04635, 'end': 0.0008}, 'target_step': 86499, 'net_dimension': 128, 'episode': 1, 'seed': 31}\n",
      "======Model training from:  2010-01-01 to  2018-01-03\n",
      "| Remove cwd: ./trained_models\n",
      "Using device:  cpu\n",
      "################################################################################\n",
      "ID     Step    maxR |    avgR   stdR   avgS  stdS |    expR   objC   etc.\n"
     ]
    },
    {
     "name": "stderr",
     "output_type": "stream",
     "text": [
      "\r",
      "  0%|                                                                                            | 0/1 [00:00<?, ?it/s]"
     ]
    },
    {
     "name": "stdout",
     "output_type": "stream",
     "text": [
      "0  2.01e+03   -1.77 |   -1.77    2.3    125     0 |   -0.05   0.22   0.16  -0.48\n"
     ]
    },
    {
     "name": "stderr",
     "output_type": "stream",
     "text": [
      "100%|████████████████████████████████████████████████████████████████████████████████████| 1/1 [00:29<00:00, 29.51s/it]\n"
     ]
    },
    {
     "name": "stdout",
     "output_type": "stream",
     "text": [
      "| UsedTime:      30 | SavedDir: ./trained_models | Total Step: 2014\n",
      "======jim-ppo-recurrent-317-agent-9 Validation from:  2018-01-03 to  2018-07-03\n",
      "Max reward at validation for Reccurent PPO 125.0\n",
      "Model updated:  171083  times\n",
      "======Trading from:  2018-07-05 to  2019-01-04\n",
      "Using device:  cpu\n",
      "Saving to  results/account_value_trade_main_jim-ppo-recurrent-317-agent-9.csv\n",
      "previous_total_asset:1494904.4176783431\n",
      "end_total_asset:1483004.1060491167\n",
      "total_asset_change:-11900.311629226431\n",
      "Total cash is: 17.642857130593256$ and total holdings in stocks are 1482986.463191986$\n",
      "Buy & Hold strategy with previous total asset:  1449766.1088457825\n",
      "Total Cost:  1909.706103256227\n",
      "Sum of rewards  -23524.45253651403\n",
      "Total trades:  232\n",
      "Total buy orders are 141 and total sell orders are 91\n",
      "Total days in turbulance:  0\n",
      "Sharpe:  0.0020194523809786767\n",
      "Test Finished!\n",
      "episode_return % 0.4830000000000001\n",
      "Calculating buy and hold\n",
      "Buy and Hold value is  1430972.9262496235\n",
      "============================================\n",
      "Agent:  9 / 25\n",
      "{'eval_time_gap': 512, 'batch_size': 256, 'gamma': 0.9, 'learning_rate': {'start': 0.04635, 'end': 0.0008}, 'target_step': 86499, 'net_dimension': 128, 'episode': 1, 'seed': 31}\n",
      "======Model training from:  2010-01-01 to  2018-07-05\n",
      "| Remove cwd: ./trained_models\n",
      "Using device:  cpu\n",
      "################################################################################\n",
      "ID     Step    maxR |    avgR   stdR   avgS  stdS |    expR   objC   etc.\n"
     ]
    },
    {
     "name": "stderr",
     "output_type": "stream",
     "text": [
      "\r",
      "  0%|                                                                                            | 0/1 [00:00<?, ?it/s]"
     ]
    },
    {
     "name": "stdout",
     "output_type": "stream",
     "text": [
      "0  2.14e+03   -0.09 |   -0.09    1.5    125     0 |   -0.05   0.19   0.08  -0.52\n"
     ]
    },
    {
     "name": "stderr",
     "output_type": "stream",
     "text": [
      "100%|████████████████████████████████████████████████████████████████████████████████████| 1/1 [00:30<00:00, 30.94s/it]\n"
     ]
    },
    {
     "name": "stdout",
     "output_type": "stream",
     "text": [
      "| UsedTime:      31 | SavedDir: ./trained_models | Total Step: 2140\n",
      "======jim-ppo-recurrent-317-agent-9 Validation from:  2018-07-05 to  2019-01-03\n",
      "Max reward at validation for Reccurent PPO 125.0\n",
      "Model updated:  171149  times\n",
      "======Trading from:  2019-01-04 to  2019-07-08\n",
      "Using device:  cpu\n",
      "Saving to  results/account_value_trade_main_jim-ppo-recurrent-317-agent-9.csv\n",
      "previous_total_asset:1483004.1060491167\n",
      "end_total_asset:1788145.2081302973\n",
      "total_asset_change:305141.10208118055\n",
      "Total cash is: 12.976986345927685$ and total holdings in stocks are 1788132.2311439514$\n",
      "Buy & Hold strategy with previous total asset:  1720900.2084705634\n",
      "Total Cost:  1832.4198571434022\n",
      "Sum of rewards  251626.24719607923\n",
      "Total trades:  223\n",
      "Total buy orders are 119 and total sell orders are 104\n",
      "Total days in turbulance:  0\n",
      "Sharpe:  0.3837464722053601\n",
      "Test Finished!\n",
      "episode_return % 0.7881\n",
      "Calculating buy and hold\n",
      "Buy and Hold value is  1720448.0172379646\n",
      "============================================\n",
      "Agent:  9 / 25\n",
      "{'eval_time_gap': 512, 'batch_size': 256, 'gamma': 0.9, 'learning_rate': {'start': 0.04635, 'end': 0.0008}, 'target_step': 86499, 'net_dimension': 128, 'episode': 1, 'seed': 31}\n",
      "======Model training from:  2010-01-01 to  2019-01-04\n",
      "| Remove cwd: ./trained_models\n",
      "Using device:  cpu\n",
      "################################################################################\n",
      "ID     Step    maxR |    avgR   stdR   avgS  stdS |    expR   objC   etc.\n"
     ]
    },
    {
     "name": "stderr",
     "output_type": "stream",
     "text": [
      "\r",
      "  0%|                                                                                            | 0/1 [00:00<?, ?it/s]"
     ]
    },
    {
     "name": "stdout",
     "output_type": "stream",
     "text": [
      "0  2.27e+03    8.19 |    8.19    1.1    125     0 |   -0.05   0.15   0.09  -0.39\n"
     ]
    },
    {
     "name": "stderr",
     "output_type": "stream",
     "text": [
      "\r",
      "  0%|                                                                                            | 0/1 [00:34<?, ?it/s]"
     ]
    },
    {
     "name": "stdout",
     "output_type": "stream",
     "text": [
      "Reached goals on 2266\n",
      "| UsedTime:      35 | SavedDir: ./trained_models | Total Step: 2266\n",
      "======jim-ppo-recurrent-317-agent-9 Validation from:  2019-01-04 to  2019-07-05\n",
      "Max reward at validation for Reccurent PPO 125.0\n",
      "Model updated:  171219  times\n",
      "======Trading from:  2019-07-08 to  2020-01-06\n",
      "Using device:  cpu\n"
     ]
    },
    {
     "name": "stderr",
     "output_type": "stream",
     "text": [
      "\n"
     ]
    },
    {
     "name": "stdout",
     "output_type": "stream",
     "text": [
      "Saving to  results/account_value_trade_main_jim-ppo-recurrent-317-agent-9.csv\n",
      "previous_total_asset:1788145.2081302973\n",
      "end_total_asset:1858894.8983837191\n",
      "total_asset_change:70749.6902534219\n",
      "Total cash is: 7.161162955006425$ and total holdings in stocks are 1858887.7372207642$\n",
      "Buy & Hold strategy with previous total asset:  1912167.7199250313\n",
      "Total Cost:  622.7582100181581\n",
      "Sum of rewards  69847.88702695095\n",
      "Total trades:  82\n",
      "Total buy orders are 58 and total sell orders are 24\n",
      "Total days in turbulance:  0\n",
      "Sharpe:  0.08852673174951822\n",
      "Test Finished!\n",
      "episode_return % 0.8589\n",
      "Calculating buy and hold\n",
      "Buy and Hold value is  1840102.579977516\n",
      "============================================\n",
      "Agent:  9 / 25\n",
      "{'eval_time_gap': 512, 'batch_size': 256, 'gamma': 0.9, 'learning_rate': {'start': 0.04635, 'end': 0.0008}, 'target_step': 86499, 'net_dimension': 128, 'episode': 1, 'seed': 31}\n",
      "======Model training from:  2010-01-01 to  2019-07-08\n",
      "| Remove cwd: ./trained_models\n",
      "Using device:  cpu\n",
      "################################################################################\n",
      "ID     Step    maxR |    avgR   stdR   avgS  stdS |    expR   objC   etc.\n"
     ]
    },
    {
     "name": "stderr",
     "output_type": "stream",
     "text": [
      "\r",
      "  0%|                                                                                            | 0/1 [00:00<?, ?it/s]"
     ]
    },
    {
     "name": "stdout",
     "output_type": "stream",
     "text": [
      "0  2.39e+03   -1.51 |   -1.51    0.6    125     0 |   -0.05   0.17   0.17  -0.46\n"
     ]
    },
    {
     "name": "stderr",
     "output_type": "stream",
     "text": [
      "100%|████████████████████████████████████████████████████████████████████████████████████| 1/1 [00:36<00:00, 36.57s/it]\n"
     ]
    },
    {
     "name": "stdout",
     "output_type": "stream",
     "text": [
      "| UsedTime:      37 | SavedDir: ./trained_models | Total Step: 2392\n",
      "======jim-ppo-recurrent-317-agent-9 Validation from:  2019-07-08 to  2020-01-03\n",
      "Max reward at validation for Reccurent PPO 125.0\n",
      "Model updated:  171293  times\n",
      "======Trading from:  2020-01-06 to  2020-07-07\n",
      "Using device:  cpu\n",
      "Saving to  results/account_value_trade_main_jim-ppo-recurrent-317-agent-9.csv\n",
      "previous_total_asset:1858894.8983837191\n",
      "end_total_asset:1757085.2739043108\n",
      "total_asset_change:-101809.62447940838\n",
      "Total cash is: 9.633557783603436$ and total holdings in stocks are 1757075.640346527$\n",
      "Buy & Hold strategy with previous total asset:  1693930.5977185736\n",
      "Total Cost:  3442.5853828623767\n",
      "Sum of rewards  -107884.98796283733\n",
      "Total trades:  446\n",
      "Total buy orders are 249 and total sell orders are 197\n",
      "Total days in turbulance:  0\n",
      "Sharpe:  -0.007809249395729256\n",
      "Test Finished!\n",
      "episode_return % 0.7571000000000001\n",
      "Calculating buy and hold\n",
      "Buy and Hold value is  1723485.9539832785\n",
      "============================================\n",
      "Agent:  9 / 25\n",
      "{'eval_time_gap': 512, 'batch_size': 256, 'gamma': 0.9, 'learning_rate': {'start': 0.04635, 'end': 0.0008}, 'target_step': 86499, 'net_dimension': 128, 'episode': 1, 'seed': 31}\n",
      "======Model training from:  2010-01-01 to  2020-01-06\n",
      "| Remove cwd: ./trained_models\n",
      "Using device:  cpu\n",
      "################################################################################\n",
      "ID     Step    maxR |    avgR   stdR   avgS  stdS |    expR   objC   etc.\n"
     ]
    },
    {
     "name": "stderr",
     "output_type": "stream",
     "text": [
      "\r",
      "  0%|                                                                                            | 0/1 [00:00<?, ?it/s]"
     ]
    },
    {
     "name": "stdout",
     "output_type": "stream",
     "text": [
      "0  2.52e+03   -0.23 |   -0.23    0.0    125     0 |   -0.04   0.28   0.05  -0.41\n"
     ]
    },
    {
     "name": "stderr",
     "output_type": "stream",
     "text": [
      "100%|████████████████████████████████████████████████████████████████████████████████████| 1/1 [00:37<00:00, 37.64s/it]\n"
     ]
    },
    {
     "name": "stdout",
     "output_type": "stream",
     "text": [
      "| UsedTime:      38 | SavedDir: ./trained_models | Total Step: 2518\n",
      "======jim-ppo-recurrent-317-agent-9 Validation from:  2020-01-06 to  2020-07-06\n",
      "Max reward at validation for Reccurent PPO 125.0\n",
      "Model updated:  171371  times\n",
      "======Trading from:  2020-07-07 to  2021-01-05\n",
      "Using device:  cpu\n",
      "Saving to  results/account_value_trade_main_jim-ppo-recurrent-317-agent-9.csv\n",
      "previous_total_asset:1757085.2739043108\n",
      "end_total_asset:1982957.9578685253\n",
      "total_asset_change:225872.68396421452\n",
      "Total cash is: 27.47726244608475$ and total holdings in stocks are 1982930.480606079$\n",
      "Buy & Hold strategy with previous total asset:  2063538.84536013\n",
      "Total Cost:  2235.8112903022748\n",
      "Sum of rewards  245165.69854398747\n",
      "Total trades:  284\n",
      "Total buy orders are 193 and total sell orders are 91\n",
      "Total days in turbulance:  0\n",
      "Sharpe:  0.2041193139915349\n",
      "Test Finished!\n",
      "episode_return % 0.9830000000000001\n",
      "Calculating buy and hold\n",
      "Buy and Hold value is  2003044.5910200237\n",
      "Buy and hold bigger than performances\n",
      "Writing hparams:  {'eval_time_gap': 512, 'batch_size': 256, 'gamma': 0.9, 'learning_rate': {'start': 0.04635, 'end': 0.0008}, 'target_step': 86499, 'net_dimension': 128, 'episode': 1, 'seed': 31}\n",
      "value should be one of int, float, str, bool, or torch.Tensor\n",
      "Could not write the haparms {'eval_time_gap': 512, 'batch_size': 256, 'gamma': 0.9, 'learning_rate': {'start': 0.04635, 'end': 0.0008}, 'target_step': 86499, 'net_dimension': 128, 'episode': 1, 'seed': 31} with end total asset of  1982957.9578685253\n",
      "============================================\n",
      "Agent:  10 / 25\n",
      "{'eval_time_gap': 256, 'batch_size': 64, 'gamma': 0.9, 'learning_rate': 0.03238, 'target_step': 41114, 'net_dimension': 128, 'episode': 9, 'seed': 69}\n",
      "======Model training from:  2010-01-01 to  2016-01-04\n",
      "| Remove cwd: ./trained_models\n",
      "Using device:  cpu\n",
      "################################################################################\n",
      "ID     Step    maxR |    avgR   stdR   avgS  stdS |    expR   objC   etc.\n"
     ]
    },
    {
     "name": "stderr",
     "output_type": "stream",
     "text": [
      "\r",
      "  0%|                                                                                            | 0/9 [00:00<?, ?it/s]"
     ]
    },
    {
     "name": "stdout",
     "output_type": "stream",
     "text": [
      "0  1.51e+03    2.13 |    2.13    0.1    125     0 |   -0.06   0.14   0.18  -0.47\n"
     ]
    },
    {
     "name": "stderr",
     "output_type": "stream",
     "text": [
      "\r",
      " 11%|█████████▎                                                                          | 1/9 [00:26<03:29, 26.23s/it]"
     ]
    },
    {
     "name": "stdout",
     "output_type": "stream",
     "text": [
      "0  3.02e+03    4.14 |    4.14    0.1    125     0 |   -0.00   0.01   0.13  -0.47\n"
     ]
    },
    {
     "name": "stderr",
     "output_type": "stream",
     "text": [
      "\r",
      " 11%|█████████▎                                                                          | 1/9 [00:52<07:00, 52.52s/it]"
     ]
    },
    {
     "name": "stdout",
     "output_type": "stream",
     "text": [
      "Reached goals on 1509\n",
      "| UsedTime:      53 | SavedDir: ./trained_models | Total Step: 1509\n",
      "======jim-ppo-recurrent-317-agent-10 Validation from:  2016-01-04 to  2016-07-01\n",
      "Max reward at validation for Reccurent PPO 125.0\n",
      "Model updated:  171747  times\n",
      "======Trading from:  2016-07-05 to  2017-01-03\n",
      "Using device:  cpu\n"
     ]
    },
    {
     "name": "stderr",
     "output_type": "stream",
     "text": [
      "\n"
     ]
    },
    {
     "name": "stdout",
     "output_type": "stream",
     "text": [
      "previous_total_asset:1000000\n",
      "end_total_asset:1064411.2413137613\n",
      "total_asset_change:64411.24131376133\n",
      "Total cash is: 18.935376947918282$ and total holdings in stocks are 1064392.3059368134$\n",
      "Buy & Hold strategy with previous total asset:  1107583.5885027447\n",
      "Total Cost:  998.9820825405114\n",
      "Sum of rewards  64411.24131376133\n",
      "Total trades:  164\n",
      "Total buy orders are 164 and total sell orders are 0\n",
      "Total days in turbulance:  0\n",
      "Sharpe:  0.17373821039208717\n",
      "Test Finished!\n",
      "episode_return % 0.06440000000000001\n",
      "============================================\n",
      "Agent:  10 / 25\n",
      "{'eval_time_gap': 256, 'batch_size': 64, 'gamma': 0.9, 'learning_rate': 0.03238, 'target_step': 41114, 'net_dimension': 128, 'episode': 9, 'seed': 69}\n",
      "======Model training from:  2010-01-01 to  2016-07-05\n",
      "| Remove cwd: ./trained_models\n",
      "Using device:  cpu\n",
      "################################################################################\n",
      "ID     Step    maxR |    avgR   stdR   avgS  stdS |    expR   objC   etc.\n"
     ]
    },
    {
     "name": "stderr",
     "output_type": "stream",
     "text": [
      "\r",
      "  0%|                                                                                            | 0/9 [00:00<?, ?it/s]"
     ]
    },
    {
     "name": "stdout",
     "output_type": "stream",
     "text": [
      "0  1.64e+03    0.14 |    0.14    1.1    125     0 |   -0.06   0.08   0.12  -0.45\n"
     ]
    },
    {
     "name": "stderr",
     "output_type": "stream",
     "text": [
      "\r",
      " 11%|█████████▎                                                                          | 1/9 [00:27<03:40, 27.51s/it]"
     ]
    },
    {
     "name": "stdout",
     "output_type": "stream",
     "text": [
      "0  3.27e+03    0.14 |   -1.02    0.0    125     0 |   -0.00   0.04   0.18  -0.45\n"
     ]
    },
    {
     "name": "stderr",
     "output_type": "stream",
     "text": [
      "\r",
      " 22%|██████████████████▋                                                                 | 2/9 [00:45<02:34, 22.13s/it]"
     ]
    },
    {
     "name": "stdout",
     "output_type": "stream",
     "text": [
      "0  4.90e+03    4.37 |    4.37    0.7    125     0 |    0.00   0.01   0.32  -0.45\n"
     ]
    },
    {
     "name": "stderr",
     "output_type": "stream",
     "text": [
      "\r",
      " 22%|██████████████████▋                                                                 | 2/9 [01:13<04:16, 36.63s/it]"
     ]
    },
    {
     "name": "stdout",
     "output_type": "stream",
     "text": [
      "Reached goals on 1634\n",
      "| UsedTime:      73 | SavedDir: ./trained_models | Total Step: 1634\n",
      "======jim-ppo-recurrent-317-agent-10 Validation from:  2016-07-05 to  2016-12-30\n",
      "Max reward at validation for Reccurent PPO 125.0\n",
      "Model updated:  172359  times\n",
      "======Trading from:  2017-01-03 to  2017-07-05\n",
      "Using device:  cpu\n"
     ]
    },
    {
     "name": "stderr",
     "output_type": "stream",
     "text": [
      "\n"
     ]
    },
    {
     "name": "stdout",
     "output_type": "stream",
     "text": [
      "Saving to  results/account_value_trade_main_jim-ppo-recurrent-317-agent-10.csv\n",
      "previous_total_asset:1064411.2413137613\n",
      "end_total_asset:1140050.7528490264\n",
      "total_asset_change:75639.51153526502\n",
      "Total cash is: 13.114695950117948$ and total holdings in stocks are 1140037.6381530762$\n",
      "Buy & Hold strategy with previous total asset:  1153319.5399059365\n",
      "Total Cost:  1429.715641401291\n",
      "Sum of rewards  66483.36745796399\n",
      "Total trades:  223\n",
      "Total buy orders are 112 and total sell orders are 111\n",
      "Total days in turbulance:  0\n",
      "Sharpe:  0.25207361372575193\n",
      "Test Finished!\n",
      "episode_return % 0.1400999999999999\n",
      "============================================\n",
      "Agent:  10 / 25\n",
      "{'eval_time_gap': 256, 'batch_size': 64, 'gamma': 0.9, 'learning_rate': 0.03238, 'target_step': 41114, 'net_dimension': 128, 'episode': 9, 'seed': 69}\n",
      "======Model training from:  2010-01-01 to  2017-01-03\n",
      "| Remove cwd: ./trained_models\n",
      "Using device:  cpu\n",
      "################################################################################\n",
      "ID     Step    maxR |    avgR   stdR   avgS  stdS |    expR   objC   etc.\n"
     ]
    },
    {
     "name": "stderr",
     "output_type": "stream",
     "text": [
      "\r",
      "  0%|                                                                                            | 0/9 [00:00<?, ?it/s]"
     ]
    },
    {
     "name": "stdout",
     "output_type": "stream",
     "text": [
      "0  1.76e+03    4.58 |    4.58    0.0    125     0 |   -0.05   0.23   0.24  -0.49\n"
     ]
    },
    {
     "name": "stderr",
     "output_type": "stream",
     "text": [
      "\r",
      "  0%|                                                                                            | 0/9 [00:28<?, ?it/s]"
     ]
    },
    {
     "name": "stdout",
     "output_type": "stream",
     "text": [
      "Reached goals on 1762\n",
      "| UsedTime:      28 | SavedDir: ./trained_models | Total Step: 1762\n",
      "======jim-ppo-recurrent-317-agent-10 Validation from:  2017-01-03 to  2017-07-03\n",
      "Max reward at validation for Reccurent PPO 125.0\n",
      "Model updated:  172579  times\n",
      "======Trading from:  2017-07-05 to  2018-01-03\n",
      "Using device:  cpu\n"
     ]
    },
    {
     "name": "stderr",
     "output_type": "stream",
     "text": [
      "\n"
     ]
    },
    {
     "name": "stdout",
     "output_type": "stream",
     "text": [
      "Saving to  results/account_value_trade_main_jim-ppo-recurrent-317-agent-10.csv\n",
      "previous_total_asset:1140050.7528490264\n",
      "end_total_asset:1369590.022101597\n",
      "total_asset_change:229539.26925257058\n",
      "Total cash is: 2.4149147600029153$ and total holdings in stocks are 1369587.607186837$\n",
      "Buy & Hold strategy with previous total asset:  1326040.1807398305\n",
      "Total Cost:  1796.2022399656412\n",
      "Sum of rewards  226281.1838300547\n",
      "Total trades:  236\n",
      "Total buy orders are 138 and total sell orders are 98\n",
      "Total days in turbulance:  0\n",
      "Sharpe:  0.6344104430330373\n",
      "Test Finished!\n",
      "episode_return % 0.36959999999999993\n",
      "============================================\n",
      "Agent:  10 / 25\n",
      "{'eval_time_gap': 256, 'batch_size': 64, 'gamma': 0.9, 'learning_rate': 0.03238, 'target_step': 41114, 'net_dimension': 128, 'episode': 9, 'seed': 69}\n",
      "======Model training from:  2010-01-01 to  2017-07-05\n",
      "| Remove cwd: ./trained_models\n",
      "Using device:  cpu\n",
      "################################################################################\n",
      "ID     Step    maxR |    avgR   stdR   avgS  stdS |    expR   objC   etc.\n"
     ]
    },
    {
     "name": "stderr",
     "output_type": "stream",
     "text": [
      "\r",
      "  0%|                                                                                            | 0/9 [00:00<?, ?it/s]"
     ]
    },
    {
     "name": "stdout",
     "output_type": "stream",
     "text": [
      "0  1.89e+03    4.88 |    4.88    1.7    125     0 |   -0.05   0.24   0.02  -0.44\n"
     ]
    },
    {
     "name": "stderr",
     "output_type": "stream",
     "text": [
      "\r",
      "  0%|                                                                                            | 0/9 [00:30<?, ?it/s]"
     ]
    },
    {
     "name": "stdout",
     "output_type": "stream",
     "text": [
      "Reached goals on 1888\n",
      "| UsedTime:      30 | SavedDir: ./trained_models | Total Step: 1888\n",
      "======jim-ppo-recurrent-317-agent-10 Validation from:  2017-07-05 to  2018-01-02\n",
      "Max reward at validation for Reccurent PPO 125.0\n",
      "Model updated:  172815  times\n",
      "======Trading from:  2018-01-03 to  2018-07-05\n",
      "Using device:  cpu\n"
     ]
    },
    {
     "name": "stderr",
     "output_type": "stream",
     "text": [
      "\n"
     ]
    },
    {
     "name": "stdout",
     "output_type": "stream",
     "text": [
      "Saving to  results/account_value_trade_main_jim-ppo-recurrent-317-agent-10.csv\n",
      "previous_total_asset:1369590.022101597\n",
      "end_total_asset:1380050.0383067175\n",
      "total_asset_change:10460.016205120599\n",
      "Total cash is: 26.83737135387082$ and total holdings in stocks are 1380023.2009353638$\n",
      "Buy & Hold strategy with previous total asset:  1353117.8405914535\n",
      "Total Cost:  1855.405392916801\n",
      "Sum of rewards  5652.680615585297\n",
      "Total trades:  248\n",
      "Total buy orders are 160 and total sell orders are 88\n",
      "Total days in turbulance:  0\n",
      "Sharpe:  0.022042351197486848\n",
      "Test Finished!\n",
      "episode_return % 0.3801000000000001\n",
      "Calculating buy and hold\n",
      "Buy and Hold value is  1475283.0604952318\n",
      "Buy and hold bigger than performances\n",
      "Writing hparams:  {'eval_time_gap': 256, 'batch_size': 64, 'gamma': 0.9, 'learning_rate': 0.03238, 'target_step': 41114, 'net_dimension': 128, 'episode': 9, 'seed': 69}\n",
      "value should be one of int, float, str, bool, or torch.Tensor\n",
      "Could not write the haparms {'eval_time_gap': 256, 'batch_size': 64, 'gamma': 0.9, 'learning_rate': 0.03238, 'target_step': 41114, 'net_dimension': 128, 'episode': 9, 'seed': 69} with end total asset of  1380050.0383067175\n",
      "============================================\n",
      "Agent:  11 / 25\n",
      "{'eval_time_gap': 16, 'batch_size': 16, 'gamma': 0.95, 'learning_rate': 0.01659, 'target_step': 88406, 'net_dimension': 256, 'episode': 14, 'seed': 31}\n",
      "======Model training from:  2010-01-01 to  2016-01-04\n",
      "| Remove cwd: ./trained_models\n",
      "Using device:  cpu\n",
      "################################################################################\n",
      "ID     Step    maxR |    avgR   stdR   avgS  stdS |    expR   objC   etc.\n"
     ]
    },
    {
     "name": "stderr",
     "output_type": "stream",
     "text": [
      "\r",
      "  0%|                                                                                           | 0/14 [00:00<?, ?it/s]"
     ]
    },
    {
     "name": "stdout",
     "output_type": "stream",
     "text": [
      "0  1.51e+03    1.31 |    1.31    0.8    125     0 |   -0.06   0.15   0.02  -0.47\n"
     ]
    },
    {
     "name": "stderr",
     "output_type": "stream",
     "text": [
      "\r",
      "  7%|█████▉                                                                             | 1/14 [00:32<07:00, 32.37s/it]"
     ]
    },
    {
     "name": "stdout",
     "output_type": "stream",
     "text": [
      "0  3.02e+03    2.50 |    2.50    0.1    125     0 |   -0.01   0.09   0.43  -0.47\n"
     ]
    },
    {
     "name": "stderr",
     "output_type": "stream",
     "text": [
      "\r",
      " 14%|███████████▊                                                                       | 2/14 [01:08<06:58, 34.88s/it]"
     ]
    },
    {
     "name": "stdout",
     "output_type": "stream",
     "text": [
      "0  4.53e+03    2.72 |    2.72    0.0    125     0 |   -0.00   0.04   0.55  -0.47\n"
     ]
    },
    {
     "name": "stderr",
     "output_type": "stream",
     "text": [
      "\r",
      " 21%|█████████████████▊                                                                 | 3/14 [01:47<06:42, 36.58s/it]"
     ]
    },
    {
     "name": "stdout",
     "output_type": "stream",
     "text": [
      "0  6.03e+03    2.72 |    2.51    0.0    125     0 |   -0.00   0.05   0.21  -0.47\n"
     ]
    },
    {
     "name": "stderr",
     "output_type": "stream",
     "text": [
      "\r",
      " 29%|███████████████████████▋                                                           | 4/14 [02:17<05:39, 33.94s/it]"
     ]
    },
    {
     "name": "stdout",
     "output_type": "stream",
     "text": [
      "0  7.54e+03    2.72 |    2.38    0.0    125     0 |   -0.01   0.05   0.17  -0.47\n"
     ]
    },
    {
     "name": "stderr",
     "output_type": "stream",
     "text": [
      "\r",
      " 36%|█████████████████████████████▋                                                     | 5/14 [02:47<04:52, 32.51s/it]"
     ]
    },
    {
     "name": "stdout",
     "output_type": "stream",
     "text": [
      "0  9.04e+03    2.72 |    1.87    0.0    125     0 |   -0.00   0.05   0.32  -0.47\n"
     ]
    },
    {
     "name": "stderr",
     "output_type": "stream",
     "text": [
      "\r",
      " 43%|███████████████████████████████████▌                                               | 6/14 [03:17<04:12, 31.51s/it]"
     ]
    },
    {
     "name": "stdout",
     "output_type": "stream",
     "text": [
      "0  1.05e+04    2.72 |    1.71    0.0    125     0 |   -0.01   0.09   0.21  -0.47\n"
     ]
    },
    {
     "name": "stderr",
     "output_type": "stream",
     "text": [
      "\r",
      " 50%|█████████████████████████████████████████▌                                         | 7/14 [03:46<03:36, 30.99s/it]"
     ]
    },
    {
     "name": "stdout",
     "output_type": "stream",
     "text": [
      "0  1.21e+04    2.72 |    1.48    0.0    125     0 |   -0.02   0.11   0.34  -0.47\n"
     ]
    },
    {
     "name": "stderr",
     "output_type": "stream",
     "text": [
      "\r",
      " 57%|███████████████████████████████████████████████▍                                   | 8/14 [04:17<03:04, 30.76s/it]"
     ]
    },
    {
     "name": "stdout",
     "output_type": "stream",
     "text": [
      "0  1.36e+04    2.72 |    1.94    0.0    125     0 |   -0.01   0.07   0.26  -0.47\n"
     ]
    },
    {
     "name": "stderr",
     "output_type": "stream",
     "text": [
      "\r",
      " 64%|█████████████████████████████████████████████████████▎                             | 9/14 [04:47<02:32, 30.54s/it]"
     ]
    },
    {
     "name": "stdout",
     "output_type": "stream",
     "text": [
      "0  1.51e+04    2.72 |    1.86    0.0    125     0 |   -0.01   0.10   0.33  -0.47\n"
     ]
    },
    {
     "name": "stderr",
     "output_type": "stream",
     "text": [
      "\r",
      " 71%|██████████████████████████████████████████████████████████▌                       | 10/14 [05:17<02:02, 30.51s/it]"
     ]
    },
    {
     "name": "stdout",
     "output_type": "stream",
     "text": [
      "0  1.66e+04    2.72 |    1.49    0.0    125     0 |   -0.01   0.08   0.26  -0.47\n"
     ]
    },
    {
     "name": "stderr",
     "output_type": "stream",
     "text": [
      "\r",
      " 79%|████████████████████████████████████████████████████████████████▍                 | 11/14 [05:47<01:30, 30.26s/it]"
     ]
    },
    {
     "name": "stdout",
     "output_type": "stream",
     "text": [
      "0  1.81e+04    2.72 |    1.88    0.0    125     0 |   -0.01   0.07   0.27  -0.47\n"
     ]
    },
    {
     "name": "stderr",
     "output_type": "stream",
     "text": [
      "\r",
      " 86%|██████████████████████████████████████████████████████████████████████▎           | 12/14 [06:16<00:59, 29.99s/it]"
     ]
    },
    {
     "name": "stdout",
     "output_type": "stream",
     "text": [
      "0  1.96e+04    2.72 |    2.02    0.0    125     0 |   -0.01   0.08   0.21  -0.47\n"
     ]
    },
    {
     "name": "stderr",
     "output_type": "stream",
     "text": [
      "\r",
      " 93%|████████████████████████████████████████████████████████████████████████████▏     | 13/14 [06:47<00:30, 30.06s/it]"
     ]
    },
    {
     "name": "stdout",
     "output_type": "stream",
     "text": [
      "0  2.10e+04    2.72 |    1.58    0.0    125     0 |   -0.01   0.09   0.26  -0.47\n"
     ]
    },
    {
     "name": "stderr",
     "output_type": "stream",
     "text": [
      "100%|██████████████████████████████████████████████████████████████████████████████████| 14/14 [07:16<00:00, 31.21s/it]\n"
     ]
    },
    {
     "name": "stdout",
     "output_type": "stream",
     "text": [
      "| UsedTime:     437 | SavedDir: ./trained_models | Total Step: 1497\n",
      "======jim-ppo-recurrent-317-agent-11 Validation from:  2016-01-04 to  2016-07-01\n",
      "Max reward at validation for Reccurent PPO 125.0\n",
      "Model updated:  183336  times\n",
      "======Trading from:  2016-07-05 to  2017-01-03\n",
      "Using device:  cpu\n",
      "previous_total_asset:1000000\n",
      "end_total_asset:1154049.2290538675\n",
      "total_asset_change:154049.22905386752\n",
      "Total cash is: 0.41598357028206223$ and total holdings in stocks are 1154048.8130702972$\n",
      "Buy & Hold strategy with previous total asset:  1107583.5885027447\n",
      "Total Cost:  1020.1826072807313\n",
      "Sum of rewards  154049.22905386752\n",
      "Total trades:  131\n",
      "Total buy orders are 130 and total sell orders are 1\n",
      "Total days in turbulance:  0\n",
      "Sharpe:  0.3728903490946576\n",
      "Test Finished!\n",
      "episode_return % 0.15399999999999991\n",
      "============================================\n",
      "Agent:  11 / 25\n",
      "{'eval_time_gap': 16, 'batch_size': 16, 'gamma': 0.95, 'learning_rate': 0.01659, 'target_step': 88406, 'net_dimension': 256, 'episode': 14, 'seed': 31}\n",
      "======Model training from:  2010-01-01 to  2016-07-05\n",
      "| Remove cwd: ./trained_models\n",
      "Using device:  cpu\n",
      "################################################################################\n",
      "ID     Step    maxR |    avgR   stdR   avgS  stdS |    expR   objC   etc.\n"
     ]
    },
    {
     "name": "stderr",
     "output_type": "stream",
     "text": [
      "\r",
      "  0%|                                                                                           | 0/14 [00:00<?, ?it/s]"
     ]
    },
    {
     "name": "stdout",
     "output_type": "stream",
     "text": [
      "0  1.64e+03    2.55 |    2.55    0.9    125     0 |   -0.06   0.16   0.27  -0.48\n"
     ]
    },
    {
     "name": "stderr",
     "output_type": "stream",
     "text": [
      "\r",
      "  7%|█████▉                                                                             | 1/14 [00:33<07:15, 33.49s/it]"
     ]
    },
    {
     "name": "stdout",
     "output_type": "stream",
     "text": [
      "0  3.27e+03    4.84 |    4.84    0.8    125     0 |   -0.00   0.04   0.13  -0.48\n"
     ]
    },
    {
     "name": "stderr",
     "output_type": "stream",
     "text": [
      "\r",
      "  7%|█████▉                                                                             | 1/14 [01:10<15:19, 70.70s/it]"
     ]
    },
    {
     "name": "stdout",
     "output_type": "stream",
     "text": [
      "Reached goals on 1635\n",
      "| UsedTime:      71 | SavedDir: ./trained_models | Total Step: 1635\n",
      "======jim-ppo-recurrent-317-agent-11 Validation from:  2016-07-05 to  2016-12-30\n",
      "Max reward at validation for Reccurent PPO 125.0\n",
      "Model updated:  184971  times\n",
      "======Trading from:  2017-01-03 to  2017-07-05\n",
      "Using device:  cpu\n"
     ]
    },
    {
     "name": "stderr",
     "output_type": "stream",
     "text": [
      "\n"
     ]
    },
    {
     "name": "stdout",
     "output_type": "stream",
     "text": [
      "Saving to  results/account_value_trade_main_jim-ppo-recurrent-317-agent-11.csv\n",
      "previous_total_asset:1154049.2290538675\n",
      "end_total_asset:1260096.6128568805\n",
      "total_asset_change:106047.38380301301\n",
      "Total cash is: 8.93820859553307$ and total holdings in stocks are 1260087.674648285$\n",
      "Buy & Hold strategy with previous total asset:  1250444.8226593526\n",
      "Total Cost:  893.1888841361998\n",
      "Sum of rewards  97879.68746817415\n",
      "Total trades:  121\n",
      "Total buy orders are 64 and total sell orders are 57\n",
      "Total days in turbulance:  0\n",
      "Sharpe:  0.23177434433111507\n",
      "Test Finished!\n",
      "episode_return % 0.2601\n",
      "============================================\n",
      "Agent:  11 / 25\n",
      "{'eval_time_gap': 16, 'batch_size': 16, 'gamma': 0.95, 'learning_rate': 0.01659, 'target_step': 88406, 'net_dimension': 256, 'episode': 14, 'seed': 31}\n",
      "======Model training from:  2010-01-01 to  2017-01-03\n",
      "| Remove cwd: ./trained_models\n",
      "Using device:  cpu\n",
      "################################################################################\n",
      "ID     Step    maxR |    avgR   stdR   avgS  stdS |    expR   objC   etc.\n"
     ]
    },
    {
     "name": "stderr",
     "output_type": "stream",
     "text": [
      "\r",
      "  0%|                                                                                           | 0/14 [00:00<?, ?it/s]"
     ]
    },
    {
     "name": "stdout",
     "output_type": "stream",
     "text": [
      "0  1.76e+03    6.06 |    6.06    1.0    125     0 |   -0.05   0.30   0.06  -0.51\n"
     ]
    },
    {
     "name": "stderr",
     "output_type": "stream",
     "text": [
      "\r",
      "  0%|                                                                                           | 0/14 [00:36<?, ?it/s]"
     ]
    },
    {
     "name": "stdout",
     "output_type": "stream",
     "text": [
      "Reached goals on 1762\n",
      "| UsedTime:      37 | SavedDir: ./trained_models | Total Step: 1762\n",
      "======jim-ppo-recurrent-317-agent-11 Validation from:  2017-01-03 to  2017-07-03\n",
      "Max reward at validation for Reccurent PPO 125.0\n",
      "Model updated:  185852  times\n",
      "======Trading from:  2017-07-05 to  2018-01-03\n",
      "Using device:  cpu\n"
     ]
    },
    {
     "name": "stderr",
     "output_type": "stream",
     "text": [
      "\n"
     ]
    },
    {
     "name": "stdout",
     "output_type": "stream",
     "text": [
      "Saving to  results/account_value_trade_main_jim-ppo-recurrent-317-agent-11.csv\n",
      "previous_total_asset:1260096.6128568805\n",
      "end_total_asset:1553091.2790577426\n",
      "total_asset_change:292994.66620086203\n",
      "Total cash is: 11.978981810261288$ and total holdings in stocks are 1553079.3000759324$\n",
      "Buy & Hold strategy with previous total asset:  1465670.4853592282\n",
      "Total Cost:  1372.707105987722\n",
      "Sum of rewards  288781.5084287978\n",
      "Total trades:  175\n",
      "Total buy orders are 105 and total sell orders are 70\n",
      "Total days in turbulance:  0\n",
      "Sharpe:  0.6977363173688504\n",
      "Test Finished!\n",
      "episode_return % 0.5530999999999999\n",
      "============================================\n",
      "Agent:  11 / 25\n",
      "{'eval_time_gap': 16, 'batch_size': 16, 'gamma': 0.95, 'learning_rate': 0.01659, 'target_step': 88406, 'net_dimension': 256, 'episode': 14, 'seed': 31}\n",
      "======Model training from:  2010-01-01 to  2017-07-05\n",
      "| Remove cwd: ./trained_models\n",
      "Using device:  cpu\n",
      "################################################################################\n",
      "ID     Step    maxR |    avgR   stdR   avgS  stdS |    expR   objC   etc.\n"
     ]
    },
    {
     "name": "stderr",
     "output_type": "stream",
     "text": [
      "\r",
      "  0%|                                                                                           | 0/14 [00:00<?, ?it/s]"
     ]
    },
    {
     "name": "stdout",
     "output_type": "stream",
     "text": [
      "0  1.89e+03    2.54 |    2.54    0.1    125     0 |   -0.05   0.46   0.08  -0.50\n"
     ]
    },
    {
     "name": "stderr",
     "output_type": "stream",
     "text": [
      "\r",
      "  7%|█████▉                                                                             | 1/14 [00:38<08:19, 38.42s/it]"
     ]
    },
    {
     "name": "stdout",
     "output_type": "stream",
     "text": [
      "0  3.78e+03    2.80 |    2.80    0.0    125     0 |   -0.01   0.08   0.58  -0.50\n"
     ]
    },
    {
     "name": "stderr",
     "output_type": "stream",
     "text": [
      "\r",
      " 14%|███████████▊                                                                       | 2/14 [01:22<08:20, 41.70s/it]"
     ]
    },
    {
     "name": "stdout",
     "output_type": "stream",
     "text": [
      "0  5.66e+03    2.80 |    2.41    0.0    125     0 |   -0.01   0.11   0.35  -0.50\n"
     ]
    },
    {
     "name": "stderr",
     "output_type": "stream",
     "text": [
      "\r",
      " 21%|█████████████████▊                                                                 | 3/14 [01:57<07:03, 38.50s/it]"
     ]
    },
    {
     "name": "stdout",
     "output_type": "stream",
     "text": [
      "0  7.55e+03    2.80 |    2.78    0.0    125     0 |   -0.01   0.06   0.31  -0.50\n"
     ]
    },
    {
     "name": "stderr",
     "output_type": "stream",
     "text": [
      "\r",
      " 29%|███████████████████████▋                                                           | 4/14 [02:31<06:10, 37.06s/it]"
     ]
    },
    {
     "name": "stdout",
     "output_type": "stream",
     "text": [
      "0  9.43e+03    5.18 |    5.18    0.1    125     0 |   -0.00   0.03   0.34  -0.50\n"
     ]
    },
    {
     "name": "stderr",
     "output_type": "stream",
     "text": [
      "\r",
      " 29%|███████████████████████▋                                                           | 4/14 [03:16<08:12, 49.20s/it]"
     ]
    },
    {
     "name": "stdout",
     "output_type": "stream",
     "text": [
      "Reached goals on 1884\n",
      "| UsedTime:     197 | SavedDir: ./trained_models | Total Step: 1884\n",
      "======jim-ppo-recurrent-317-agent-11 Validation from:  2017-07-05 to  2018-01-02\n",
      "Max reward at validation for Reccurent PPO 125.0\n",
      "Model updated:  190566  times\n",
      "======Trading from:  2018-01-03 to  2018-07-05\n",
      "Using device:  cpu\n"
     ]
    },
    {
     "name": "stderr",
     "output_type": "stream",
     "text": [
      "\n"
     ]
    },
    {
     "name": "stdout",
     "output_type": "stream",
     "text": [
      "Saving to  results/account_value_trade_main_jim-ppo-recurrent-317-agent-11.csv\n",
      "previous_total_asset:1553091.2790577426\n",
      "end_total_asset:1576838.7575489522\n",
      "total_asset_change:23747.47849120968\n",
      "Total cash is: 14.965491914870654$ and total holdings in stocks are 1576823.7920570374$\n",
      "Buy & Hold strategy with previous total asset:  1534412.1115421942\n",
      "Total Cost:  3626.219179253506\n",
      "Sum of rewards  14999.18603723403\n",
      "Total trades:  486\n",
      "Total buy orders are 326 and total sell orders are 160\n",
      "Total days in turbulance:  0\n",
      "Sharpe:  0.03150789090182901\n",
      "Test Finished!\n",
      "episode_return % 0.5768\n",
      "Calculating buy and hold\n",
      "Buy and Hold value is  1475283.0604952318\n",
      "============================================\n",
      "Agent:  11 / 25\n",
      "{'eval_time_gap': 16, 'batch_size': 16, 'gamma': 0.95, 'learning_rate': 0.01659, 'target_step': 88406, 'net_dimension': 256, 'episode': 14, 'seed': 31}\n",
      "======Model training from:  2010-01-01 to  2018-01-03\n",
      "| Remove cwd: ./trained_models\n",
      "Using device:  cpu\n",
      "################################################################################\n",
      "ID     Step    maxR |    avgR   stdR   avgS  stdS |    expR   objC   etc.\n"
     ]
    },
    {
     "name": "stderr",
     "output_type": "stream",
     "text": [
      "\r",
      "  0%|                                                                                           | 0/14 [00:00<?, ?it/s]"
     ]
    },
    {
     "name": "stdout",
     "output_type": "stream",
     "text": [
      "0  2.01e+03   -0.99 |   -0.99    2.2    125     0 |   -0.05   0.31   0.08  -0.49\n"
     ]
    },
    {
     "name": "stderr",
     "output_type": "stream",
     "text": [
      "\r",
      "  7%|█████▉                                                                             | 1/14 [00:40<08:48, 40.64s/it]"
     ]
    },
    {
     "name": "stdout",
     "output_type": "stream",
     "text": [
      "0  4.03e+03   -0.99 |   -3.79    0.1    125     0 |    0.00   0.01   0.60  -0.49\n"
     ]
    },
    {
     "name": "stderr",
     "output_type": "stream",
     "text": [
      "\r",
      " 14%|███████████▊                                                                       | 2/14 [01:17<07:40, 38.35s/it]"
     ]
    },
    {
     "name": "stdout",
     "output_type": "stream",
     "text": [
      "0  6.04e+03    0.28 |    0.28    0.0    125     0 |   -0.01   0.07   0.44  -0.49\n"
     ]
    },
    {
     "name": "stderr",
     "output_type": "stream",
     "text": [
      "\r",
      " 21%|█████████████████▊                                                                 | 3/14 [02:03<07:40, 41.89s/it]"
     ]
    },
    {
     "name": "stdout",
     "output_type": "stream",
     "text": [
      "0  8.05e+03    2.37 |    2.37    0.1    125     0 |   -0.00   0.04   0.38  -0.49\n"
     ]
    },
    {
     "name": "stderr",
     "output_type": "stream",
     "text": [
      "\r",
      " 29%|███████████████████████▋                                                           | 4/14 [02:51<07:23, 44.33s/it]"
     ]
    },
    {
     "name": "stdout",
     "output_type": "stream",
     "text": [
      "0  1.01e+04    2.37 |    1.19    0.0    125     0 |   -0.00   0.06   0.08  -0.49\n"
     ]
    },
    {
     "name": "stderr",
     "output_type": "stream",
     "text": [
      "\r",
      " 36%|█████████████████████████████▋                                                     | 5/14 [03:30<06:19, 42.22s/it]"
     ]
    },
    {
     "name": "stdout",
     "output_type": "stream",
     "text": [
      "0  1.21e+04    2.37 |    0.91    0.0    125     0 |   -0.00   0.06   0.38  -0.49\n"
     ]
    },
    {
     "name": "stderr",
     "output_type": "stream",
     "text": [
      "\r",
      " 43%|███████████████████████████████████▌                                               | 6/14 [04:07<05:25, 40.71s/it]"
     ]
    },
    {
     "name": "stdout",
     "output_type": "stream",
     "text": [
      "0  1.41e+04    2.37 |    0.82    0.0    125     0 |   -0.01   0.08   0.27  -0.49\n"
     ]
    },
    {
     "name": "stderr",
     "output_type": "stream",
     "text": [
      "\r",
      " 50%|█████████████████████████████████████████▌                                         | 7/14 [04:45<04:38, 39.78s/it]"
     ]
    },
    {
     "name": "stdout",
     "output_type": "stream",
     "text": [
      "0  1.61e+04    2.37 |    0.30    0.0    125     0 |   -0.01   0.13   0.54  -0.49\n"
     ]
    },
    {
     "name": "stderr",
     "output_type": "stream",
     "text": [
      "\r",
      " 57%|███████████████████████████████████████████████▍                                   | 8/14 [05:24<03:57, 39.59s/it]"
     ]
    },
    {
     "name": "stdout",
     "output_type": "stream",
     "text": [
      "0  1.81e+04    2.37 |    0.39    0.0    125     0 |   -0.01   0.13   0.13  -0.49\n"
     ]
    },
    {
     "name": "stderr",
     "output_type": "stream",
     "text": [
      "\r",
      " 64%|█████████████████████████████████████████████████████▎                             | 9/14 [06:02<03:14, 38.96s/it]"
     ]
    },
    {
     "name": "stdout",
     "output_type": "stream",
     "text": [
      "0  2.01e+04    2.37 |    1.74    0.0    125     0 |   -0.01   0.12   0.34  -0.49\n"
     ]
    },
    {
     "name": "stderr",
     "output_type": "stream",
     "text": [
      "\r",
      " 71%|██████████████████████████████████████████████████████████▌                       | 10/14 [06:39<02:33, 38.38s/it]"
     ]
    },
    {
     "name": "stdout",
     "output_type": "stream",
     "text": [
      "0  2.21e+04    2.37 |    0.19    0.0    125     0 |   -0.01   0.11   0.26  -0.49\n"
     ]
    },
    {
     "name": "stderr",
     "output_type": "stream",
     "text": [
      "\r",
      " 79%|████████████████████████████████████████████████████████████████▍                 | 11/14 [07:17<01:54, 38.14s/it]"
     ]
    },
    {
     "name": "stdout",
     "output_type": "stream",
     "text": [
      "0  2.41e+04    2.37 |   -0.07    0.0    125     0 |   -0.01   0.09   0.30  -0.49\n"
     ]
    },
    {
     "name": "stderr",
     "output_type": "stream",
     "text": [
      "\r",
      " 86%|██████████████████████████████████████████████████████████████████████▎           | 12/14 [07:54<01:16, 38.02s/it]"
     ]
    },
    {
     "name": "stdout",
     "output_type": "stream",
     "text": [
      "0  2.61e+04    2.37 |    2.02    0.0    125     0 |   -0.01   0.11   0.40  -0.48\n"
     ]
    },
    {
     "name": "stderr",
     "output_type": "stream",
     "text": [
      "\r",
      " 93%|████████████████████████████████████████████████████████████████████████████▏     | 13/14 [08:33<00:38, 38.21s/it]"
     ]
    },
    {
     "name": "stdout",
     "output_type": "stream",
     "text": [
      "0  2.81e+04    2.37 |    1.96    0.0    125     0 |   -0.01   0.07   0.17  -0.49\n"
     ]
    },
    {
     "name": "stderr",
     "output_type": "stream",
     "text": [
      "100%|██████████████████████████████████████████████████████████████████████████████████| 14/14 [09:13<00:00, 39.50s/it]\n"
     ]
    },
    {
     "name": "stdout",
     "output_type": "stream",
     "text": [
      "| UsedTime:     553 | SavedDir: ./trained_models | Total Step: 2001\n",
      "======jim-ppo-recurrent-317-agent-11 Validation from:  2018-01-03 to  2018-07-03\n",
      "Max reward at validation for Reccurent PPO 125.0\n",
      "Model updated:  204615  times\n",
      "======Trading from:  2018-07-05 to  2019-01-04\n",
      "Using device:  cpu\n",
      "Saving to  results/account_value_trade_main_jim-ppo-recurrent-317-agent-11.csv\n",
      "previous_total_asset:1576838.7575489522\n",
      "end_total_asset:1510855.5220319845\n",
      "total_asset_change:-65983.23551696772\n",
      "Total cash is: 20.218889437031407$ and total holdings in stocks are 1510835.3031425476$\n",
      "Buy & Hold strategy with previous total asset:  1529226.4594142423\n",
      "Total Cost:  3400.0473379516566\n",
      "Sum of rewards  -79462.0531973266\n",
      "Total trades:  485\n",
      "Total buy orders are 295 and total sell orders are 190\n",
      "Total days in turbulance:  0\n",
      "Sharpe:  -0.04378365050754292\n",
      "Test Finished!\n",
      "episode_return % 0.5108999999999999\n",
      "Calculating buy and hold\n",
      "Buy and Hold value is  1430972.9262496235\n",
      "============================================\n",
      "Agent:  11 / 25\n",
      "{'eval_time_gap': 16, 'batch_size': 16, 'gamma': 0.95, 'learning_rate': 0.01659, 'target_step': 88406, 'net_dimension': 256, 'episode': 14, 'seed': 31}\n",
      "======Model training from:  2010-01-01 to  2018-07-05\n",
      "| Remove cwd: ./trained_models\n",
      "Using device:  cpu\n",
      "################################################################################\n",
      "ID     Step    maxR |    avgR   stdR   avgS  stdS |    expR   objC   etc.\n"
     ]
    },
    {
     "name": "stderr",
     "output_type": "stream",
     "text": [
      "\r",
      "  0%|                                                                                           | 0/14 [00:00<?, ?it/s]"
     ]
    },
    {
     "name": "stdout",
     "output_type": "stream",
     "text": [
      "0  2.14e+03    0.71 |    0.71    1.7    125     0 |   -0.05   0.07   0.11  -0.44\n"
     ]
    },
    {
     "name": "stderr",
     "output_type": "stream",
     "text": [
      "\r",
      "  7%|█████▉                                                                             | 1/14 [00:41<09:02, 41.75s/it]"
     ]
    },
    {
     "name": "stdout",
     "output_type": "stream",
     "text": [
      "0  4.28e+03    0.71 |   -1.18    0.0    125     0 |   -0.01   0.10   0.15  -0.44\n"
     ]
    },
    {
     "name": "stderr",
     "output_type": "stream",
     "text": [
      "\r",
      " 14%|███████████▊                                                                       | 2/14 [01:20<07:57, 39.77s/it]"
     ]
    },
    {
     "name": "stdout",
     "output_type": "stream",
     "text": [
      "0  6.42e+03    0.71 |   -0.37    0.1    125     0 |   -0.01   0.05   0.16  -0.44\n"
     ]
    },
    {
     "name": "stderr",
     "output_type": "stream",
     "text": [
      "\r",
      " 21%|█████████████████▊                                                                 | 3/14 [01:59<07:16, 39.69s/it]"
     ]
    },
    {
     "name": "stdout",
     "output_type": "stream",
     "text": [
      "0  8.55e+03    0.71 |    0.51    0.1    125     0 |    0.01   0.15   0.21  -0.44\n"
     ]
    },
    {
     "name": "stderr",
     "output_type": "stream",
     "text": [
      "\r",
      " 29%|███████████████████████▋                                                           | 4/14 [02:40<06:42, 40.25s/it]"
     ]
    },
    {
     "name": "stdout",
     "output_type": "stream",
     "text": [
      "0  1.07e+04    1.22 |    1.22    0.0    125     0 |   -0.00   0.04   0.37  -0.44\n"
     ]
    },
    {
     "name": "stderr",
     "output_type": "stream",
     "text": [
      "\r",
      " 36%|█████████████████████████████▋                                                     | 5/14 [03:28<06:26, 42.94s/it]"
     ]
    },
    {
     "name": "stdout",
     "output_type": "stream",
     "text": [
      "0  1.28e+04    1.22 |   -0.79    0.0    125     0 |   -0.01   0.07   0.55  -0.44\n"
     ]
    },
    {
     "name": "stderr",
     "output_type": "stream",
     "text": [
      "\r",
      " 43%|███████████████████████████████████▌                                               | 6/14 [04:07<05:32, 41.50s/it]"
     ]
    },
    {
     "name": "stdout",
     "output_type": "stream",
     "text": [
      "0  1.50e+04    1.22 |    0.03    0.0    125     0 |    0.01   0.15   0.22  -0.44\n"
     ]
    },
    {
     "name": "stderr",
     "output_type": "stream",
     "text": [
      "\r",
      " 50%|█████████████████████████████████████████▌                                         | 7/14 [04:45<04:44, 40.59s/it]"
     ]
    },
    {
     "name": "stdout",
     "output_type": "stream",
     "text": [
      "0  1.71e+04    1.22 |   -0.02    0.0    125     0 |   -0.01   0.07   0.27  -0.44\n"
     ]
    },
    {
     "name": "stderr",
     "output_type": "stream",
     "text": [
      "\r",
      " 57%|███████████████████████████████████████████████▍                                   | 8/14 [05:24<03:59, 39.95s/it]"
     ]
    },
    {
     "name": "stdout",
     "output_type": "stream",
     "text": [
      "0  1.92e+04    1.22 |   -0.38    0.0    125     0 |   -0.00   0.04   0.40  -0.44\n"
     ]
    },
    {
     "name": "stderr",
     "output_type": "stream",
     "text": [
      "\r",
      " 64%|█████████████████████████████████████████████████████▎                             | 9/14 [06:04<03:19, 39.96s/it]"
     ]
    },
    {
     "name": "stdout",
     "output_type": "stream",
     "text": [
      "0  2.14e+04    1.22 |    0.14    0.0    125     0 |   -0.01   0.03   0.20  -0.44\n"
     ]
    },
    {
     "name": "stderr",
     "output_type": "stream",
     "text": [
      "\r",
      " 71%|██████████████████████████████████████████████████████████▌                       | 10/14 [06:42<02:37, 39.48s/it]"
     ]
    },
    {
     "name": "stdout",
     "output_type": "stream",
     "text": [
      "0  2.35e+04    1.22 |   -0.36    0.0    125     0 |   -0.01   0.06   0.40  -0.44\n"
     ]
    },
    {
     "name": "stderr",
     "output_type": "stream",
     "text": [
      "\r",
      " 79%|████████████████████████████████████████████████████████████████▍                 | 11/14 [07:21<01:57, 39.12s/it]"
     ]
    },
    {
     "name": "stdout",
     "output_type": "stream",
     "text": [
      "0  2.56e+04    1.22 |   -0.38    0.0    125     0 |   -0.01   0.06   0.29  -0.44\n"
     ]
    },
    {
     "name": "stderr",
     "output_type": "stream",
     "text": [
      "\r",
      " 86%|██████████████████████████████████████████████████████████████████████▎           | 12/14 [07:59<01:17, 38.95s/it]"
     ]
    },
    {
     "name": "stdout",
     "output_type": "stream",
     "text": [
      "0  2.77e+04    1.22 |   -1.53    0.0    125     0 |    0.00   0.02   0.47  -0.44\n"
     ]
    },
    {
     "name": "stderr",
     "output_type": "stream",
     "text": [
      "\r",
      " 93%|████████████████████████████████████████████████████████████████████████████▏     | 13/14 [08:38<00:38, 38.79s/it]"
     ]
    },
    {
     "name": "stdout",
     "output_type": "stream",
     "text": [
      "0  2.99e+04    1.22 |   -1.06    0.0    125     0 |   -0.01   0.08   0.32  -0.44\n"
     ]
    },
    {
     "name": "stderr",
     "output_type": "stream",
     "text": [
      "100%|██████████████████████████████████████████████████████████████████████████████████| 14/14 [09:18<00:00, 39.90s/it]\n"
     ]
    },
    {
     "name": "stdout",
     "output_type": "stream",
     "text": [
      "| UsedTime:     559 | SavedDir: ./trained_models | Total Step: 2127\n",
      "======jim-ppo-recurrent-317-agent-11 Validation from:  2018-07-05 to  2019-01-03\n",
      "Max reward at validation for Reccurent PPO 125.0\n",
      "Model updated:  219546  times\n",
      "======Trading from:  2019-01-04 to  2019-07-08\n",
      "Using device:  cpu\n",
      "Saving to  results/account_value_trade_main_jim-ppo-recurrent-317-agent-11.csv\n",
      "previous_total_asset:1510855.5220319845\n",
      "end_total_asset:1844909.708924193\n",
      "total_asset_change:334054.1868922084\n",
      "Total cash is: 17.571289915633457$ and total holdings in stocks are 1844892.1376342773$\n",
      "Buy & Hold strategy with previous total asset:  1753219.4093248397\n",
      "Total Cost:  2335.3960011634836\n",
      "Sum of rewards  280257.8061777919\n",
      "Total trades:  385\n",
      "Total buy orders are 218 and total sell orders are 167\n",
      "Total days in turbulance:  0\n",
      "Sharpe:  0.3328285600563809\n",
      "Test Finished!\n",
      "episode_return % 0.8449\n",
      "Calculating buy and hold\n",
      "Buy and Hold value is  1720448.0172379646\n",
      "============================================\n",
      "Agent:  11 / 25\n",
      "{'eval_time_gap': 16, 'batch_size': 16, 'gamma': 0.95, 'learning_rate': 0.01659, 'target_step': 88406, 'net_dimension': 256, 'episode': 14, 'seed': 31}\n",
      "======Model training from:  2010-01-01 to  2019-01-04\n",
      "| Remove cwd: ./trained_models\n",
      "Using device:  cpu\n",
      "################################################################################\n",
      "ID     Step    maxR |    avgR   stdR   avgS  stdS |    expR   objC   etc.\n"
     ]
    },
    {
     "name": "stderr",
     "output_type": "stream",
     "text": [
      "\r",
      "  0%|                                                                                           | 0/14 [00:00<?, ?it/s]"
     ]
    },
    {
     "name": "stdout",
     "output_type": "stream",
     "text": [
      "0  2.27e+03    8.69 |    8.69    1.0    125     0 |   -0.05   0.28   0.00  -0.46\n"
     ]
    },
    {
     "name": "stderr",
     "output_type": "stream",
     "text": [
      "\r",
      "  0%|                                                                                           | 0/14 [00:47<?, ?it/s]"
     ]
    },
    {
     "name": "stdout",
     "output_type": "stream",
     "text": [
      "Reached goals on 2266\n",
      "| UsedTime:      47 | SavedDir: ./trained_models | Total Step: 2266\n",
      "======jim-ppo-recurrent-317-agent-11 Validation from:  2019-01-04 to  2019-07-05\n",
      "Max reward at validation for Reccurent PPO 125.0\n",
      "Model updated:  220679  times\n",
      "======Trading from:  2019-07-08 to  2020-01-06\n",
      "Using device:  cpu\n"
     ]
    },
    {
     "name": "stderr",
     "output_type": "stream",
     "text": [
      "\n"
     ]
    },
    {
     "name": "stdout",
     "output_type": "stream",
     "text": [
      "Saving to  results/account_value_trade_main_jim-ppo-recurrent-317-agent-11.csv\n",
      "previous_total_asset:1844909.708924193\n",
      "end_total_asset:1954664.0918309235\n",
      "total_asset_change:109754.38290673052\n",
      "Total cash is: 26.348631140131047$ and total holdings in stocks are 1954637.7431997834$\n",
      "Buy & Hold strategy with previous total asset:  1972869.303645539\n",
      "Total Cost:  2955.5766317357024\n",
      "Sum of rewards  92746.35414009844\n",
      "Total trades:  486\n",
      "Total buy orders are 328 and total sell orders are 158\n",
      "Total days in turbulance:  0\n",
      "Sharpe:  0.10859715143555278\n",
      "Test Finished!\n",
      "episode_return % 0.9547000000000001\n",
      "Calculating buy and hold\n",
      "Buy and Hold value is  1840102.579977516\n",
      "============================================\n",
      "Agent:  11 / 25\n",
      "{'eval_time_gap': 16, 'batch_size': 16, 'gamma': 0.95, 'learning_rate': 0.01659, 'target_step': 88406, 'net_dimension': 256, 'episode': 14, 'seed': 31}\n",
      "======Model training from:  2010-01-01 to  2019-07-08\n",
      "| Remove cwd: ./trained_models\n",
      "Using device:  cpu\n",
      "################################################################################\n",
      "ID     Step    maxR |    avgR   stdR   avgS  stdS |    expR   objC   etc.\n"
     ]
    },
    {
     "name": "stderr",
     "output_type": "stream",
     "text": [
      "\r",
      "  0%|                                                                                           | 0/14 [00:00<?, ?it/s]"
     ]
    },
    {
     "name": "stdout",
     "output_type": "stream",
     "text": [
      "0  2.39e+03   -3.62 |   -3.62    0.1    125     0 |   -0.04   0.07   0.05  -0.53\n"
     ]
    },
    {
     "name": "stderr",
     "output_type": "stream",
     "text": [
      "\r",
      "  7%|█████▉                                                                             | 1/14 [00:49<10:41, 49.32s/it]"
     ]
    },
    {
     "name": "stdout",
     "output_type": "stream",
     "text": [
      "0  4.78e+03   -3.62 |   -4.60    0.0    125     0 |   -0.00   0.02   0.14  -0.53\n"
     ]
    },
    {
     "name": "stderr",
     "output_type": "stream",
     "text": [
      "\r",
      " 14%|███████████▊                                                                       | 2/14 [01:33<09:15, 46.25s/it]"
     ]
    },
    {
     "name": "stdout",
     "output_type": "stream",
     "text": [
      "0  7.17e+03   -1.75 |   -1.75    0.1    125     0 |   -0.01   0.08   0.33  -0.53\n"
     ]
    },
    {
     "name": "stderr",
     "output_type": "stream",
     "text": [
      "\r",
      " 21%|█████████████████▊                                                                 | 3/14 [02:28<09:12, 50.23s/it]"
     ]
    },
    {
     "name": "stdout",
     "output_type": "stream",
     "text": [
      "0  9.56e+03   -1.75 |   -3.79    0.0    125     0 |   -0.01   0.13   0.55  -0.53\n"
     ]
    },
    {
     "name": "stderr",
     "output_type": "stream",
     "text": [
      "\r",
      " 29%|███████████████████████▋                                                           | 4/14 [03:12<07:59, 47.92s/it]"
     ]
    },
    {
     "name": "stdout",
     "output_type": "stream",
     "text": [
      "0  1.20e+04   -1.75 |   -2.54    0.0    125     0 |   -0.01   0.08   0.35  -0.53\n"
     ]
    },
    {
     "name": "stderr",
     "output_type": "stream",
     "text": [
      "\r",
      " 36%|█████████████████████████████▋                                                     | 5/14 [03:58<07:04, 47.12s/it]"
     ]
    },
    {
     "name": "stdout",
     "output_type": "stream",
     "text": [
      "0  1.43e+04   -1.75 |   -2.08    0.0    125     0 |   -0.01   0.14   0.73  -0.53\n"
     ]
    },
    {
     "name": "stderr",
     "output_type": "stream",
     "text": [
      "\r",
      " 43%|███████████████████████████████████▌                                               | 6/14 [04:44<06:13, 46.72s/it]"
     ]
    },
    {
     "name": "stdout",
     "output_type": "stream",
     "text": [
      "0  1.67e+04   -1.75 |   -3.47    0.0    125     0 |   -0.02   0.16   0.33  -0.53\n"
     ]
    },
    {
     "name": "stderr",
     "output_type": "stream",
     "text": [
      "\r",
      " 50%|█████████████████████████████████████████▌                                         | 7/14 [05:30<05:26, 46.57s/it]"
     ]
    },
    {
     "name": "stdout",
     "output_type": "stream",
     "text": [
      "0  1.91e+04   -1.75 |   -2.02    0.0    125     0 |   -0.02   0.10   0.36  -0.51\n"
     ]
    },
    {
     "name": "stderr",
     "output_type": "stream",
     "text": [
      "\r",
      " 57%|███████████████████████████████████████████████▍                                   | 8/14 [06:16<04:38, 46.45s/it]"
     ]
    },
    {
     "name": "stdout",
     "output_type": "stream",
     "text": [
      "0  2.15e+04   -1.05 |   -1.05    0.0    125     0 |   -0.01   0.05   0.33  -0.51\n"
     ]
    },
    {
     "name": "stderr",
     "output_type": "stream",
     "text": [
      "\r",
      " 64%|█████████████████████████████████████████████████████▎                             | 9/14 [07:12<04:07, 49.44s/it]"
     ]
    },
    {
     "name": "stdout",
     "output_type": "stream",
     "text": [
      "0  2.39e+04   -0.77 |   -0.77    0.0    125     0 |   -0.01   0.08   0.25  -0.51\n"
     ]
    },
    {
     "name": "stderr",
     "output_type": "stream",
     "text": [
      "\r",
      " 71%|██████████████████████████████████████████████████████████▌                       | 10/14 [08:08<03:25, 51.33s/it]"
     ]
    },
    {
     "name": "stdout",
     "output_type": "stream",
     "text": [
      "0  2.63e+04   -0.77 |   -1.15    0.0    125     0 |   -0.02   0.11   0.29  -0.51\n"
     ]
    },
    {
     "name": "stderr",
     "output_type": "stream",
     "text": [
      "\r",
      " 79%|████████████████████████████████████████████████████████████████▍                 | 11/14 [08:54<02:29, 49.84s/it]"
     ]
    },
    {
     "name": "stdout",
     "output_type": "stream",
     "text": [
      "0  2.86e+04   -0.77 |   -1.15    0.0    125     0 |   -0.01   0.10   0.30  -0.51\n"
     ]
    },
    {
     "name": "stderr",
     "output_type": "stream",
     "text": [
      "\r",
      " 86%|██████████████████████████████████████████████████████████████████████▎           | 12/14 [09:41<01:37, 48.87s/it]"
     ]
    },
    {
     "name": "stdout",
     "output_type": "stream",
     "text": [
      "0  3.10e+04   -0.77 |   -1.13    0.0    125     0 |   -0.01   0.10   0.42  -0.51\n"
     ]
    },
    {
     "name": "stderr",
     "output_type": "stream",
     "text": [
      "\r",
      " 93%|████████████████████████████████████████████████████████████████████████████▏     | 13/14 [10:28<00:48, 48.18s/it]"
     ]
    },
    {
     "name": "stdout",
     "output_type": "stream",
     "text": [
      "0  3.34e+04   -0.77 |   -1.26    0.0    125     0 |   -0.01   0.12   0.48  -0.51\n"
     ]
    },
    {
     "name": "stderr",
     "output_type": "stream",
     "text": [
      "100%|██████████████████████████████████████████████████████████████████████████████████| 14/14 [11:14<00:00, 48.17s/it]\n"
     ]
    },
    {
     "name": "stdout",
     "output_type": "stream",
     "text": [
      "| UsedTime:     674 | SavedDir: ./trained_models | Total Step: 2379\n",
      "======jim-ppo-recurrent-317-agent-11 Validation from:  2019-07-08 to  2020-01-03\n",
      "Max reward at validation for Reccurent PPO 125.0\n",
      "Model updated:  237374  times\n",
      "======Trading from:  2020-01-06 to  2020-07-07\n",
      "Using device:  cpu\n",
      "Saving to  results/account_value_trade_main_jim-ppo-recurrent-317-agent-11.csv\n",
      "previous_total_asset:1954664.0918309235\n",
      "end_total_asset:1522530.805958811\n",
      "total_asset_change:-432133.2858721125\n",
      "Total cash is: 12.600596260073416$ and total holdings in stocks are 1522518.205362551$\n",
      "Buy & Hold strategy with previous total asset:  1781200.9255031636\n",
      "Total Cost:  1569.489092589692\n",
      "Sum of rewards  -440541.2126795999\n",
      "Total trades:  195\n",
      "Total buy orders are 97 and total sell orders are 98\n",
      "Total days in turbulance:  0\n",
      "Sharpe:  -0.10971502976570721\n",
      "Test Finished!\n",
      "episode_return % 0.5225\n",
      "Calculating buy and hold\n",
      "Buy and Hold value is  1723485.9539832785\n",
      "Buy and hold bigger than performances\n",
      "Writing hparams:  {'eval_time_gap': 16, 'batch_size': 16, 'gamma': 0.95, 'learning_rate': 0.01659, 'target_step': 88406, 'net_dimension': 256, 'episode': 14, 'seed': 31}\n",
      "value should be one of int, float, str, bool, or torch.Tensor\n",
      "Could not write the haparms {'eval_time_gap': 16, 'batch_size': 16, 'gamma': 0.95, 'learning_rate': 0.01659, 'target_step': 88406, 'net_dimension': 256, 'episode': 14, 'seed': 31} with end total asset of  1522530.805958811\n",
      "============================================\n",
      "Agent:  12 / 25\n",
      "{'eval_time_gap': 2048, 'batch_size': 256, 'gamma': 0.95, 'learning_rate': {'start': 0.04639, 'end': 0.00022}, 'target_step': 33684, 'net_dimension': 256, 'episode': 1, 'seed': 42069}\n",
      "======Model training from:  2010-01-01 to  2016-01-04\n",
      "| Remove cwd: ./trained_models\n",
      "Using device:  cpu\n",
      "################################################################################\n",
      "ID     Step    maxR |    avgR   stdR   avgS  stdS |    expR   objC   etc.\n"
     ]
    },
    {
     "name": "stderr",
     "output_type": "stream",
     "text": [
      "\r",
      "  0%|                                                                                            | 0/1 [00:00<?, ?it/s]"
     ]
    },
    {
     "name": "stdout",
     "output_type": "stream",
     "text": [
      "0  1.51e+03    3.11 |    3.11    0.2    125     0 |   -0.06   0.31   0.16  -0.56\n"
     ]
    },
    {
     "name": "stderr",
     "output_type": "stream",
     "text": [
      "100%|████████████████████████████████████████████████████████████████████████████████████| 1/1 [00:25<00:00, 25.78s/it]\n"
     ]
    },
    {
     "name": "stdout",
     "output_type": "stream",
     "text": [
      "| UsedTime:      26 | SavedDir: ./trained_models | Total Step: 1510\n",
      "======jim-ppo-recurrent-317-agent-12 Validation from:  2016-01-04 to  2016-07-01\n",
      "Max reward at validation for Reccurent PPO 125.0\n",
      "Model updated:  237421  times\n",
      "======Trading from:  2016-07-05 to  2017-01-03\n",
      "Using device:  cpu\n",
      "previous_total_asset:1000000\n",
      "end_total_asset:1080265.437709479\n",
      "total_asset_change:80265.4377094789\n",
      "Total cash is: 12.241368918020097$ and total holdings in stocks are 1080253.196340561$\n",
      "Buy & Hold strategy with previous total asset:  1107583.5885027447\n",
      "Total Cost:  998.9887698612208\n",
      "Sum of rewards  80265.4377094789\n",
      "Total trades:  131\n",
      "Total buy orders are 131 and total sell orders are 0\n",
      "Total days in turbulance:  0\n",
      "Sharpe:  0.22348124068255545\n",
      "Test Finished!\n",
      "episode_return % 0.08030000000000004\n",
      "============================================\n",
      "Agent:  12 / 25\n",
      "{'eval_time_gap': 2048, 'batch_size': 256, 'gamma': 0.95, 'learning_rate': {'start': 0.04639, 'end': 0.00022}, 'target_step': 33684, 'net_dimension': 256, 'episode': 1, 'seed': 42069}\n",
      "======Model training from:  2010-01-01 to  2016-07-05\n",
      "| Remove cwd: ./trained_models\n",
      "Using device:  cpu\n",
      "################################################################################\n",
      "ID     Step    maxR |    avgR   stdR   avgS  stdS |    expR   objC   etc.\n"
     ]
    },
    {
     "name": "stderr",
     "output_type": "stream",
     "text": [
      "\r",
      "  0%|                                                                                            | 0/1 [00:00<?, ?it/s]"
     ]
    },
    {
     "name": "stdout",
     "output_type": "stream",
     "text": [
      "0  1.64e+03    4.75 |    4.75    3.0    125     0 |   -0.06   0.11   0.10  -0.50\n"
     ]
    },
    {
     "name": "stderr",
     "output_type": "stream",
     "text": [
      "\r",
      "  0%|                                                                                            | 0/1 [00:26<?, ?it/s]"
     ]
    },
    {
     "name": "stdout",
     "output_type": "stream",
     "text": [
      "Reached goals on 1636\n",
      "| UsedTime:      27 | SavedDir: ./trained_models | Total Step: 1636\n",
      "======jim-ppo-recurrent-317-agent-12 Validation from:  2016-07-05 to  2016-12-30\n",
      "Max reward at validation for Reccurent PPO 125.0\n",
      "Model updated:  237472  times\n",
      "======Trading from:  2017-01-03 to  2017-07-05\n",
      "Using device:  cpu\n"
     ]
    },
    {
     "name": "stderr",
     "output_type": "stream",
     "text": [
      "\n"
     ]
    },
    {
     "name": "stdout",
     "output_type": "stream",
     "text": [
      "Saving to  results/account_value_trade_main_jim-ppo-recurrent-317-agent-12.csv\n",
      "previous_total_asset:1080265.437709479\n",
      "end_total_asset:1165765.3081568668\n",
      "total_asset_change:85499.87044738792\n",
      "Total cash is: 7.951997656509569$ and total holdings in stocks are 1165757.3561592102$\n",
      "Buy & Hold strategy with previous total asset:  1170498.0079481557\n",
      "Total Cost:  1358.706630477905\n",
      "Sum of rewards  80518.14079879783\n",
      "Total trades:  170\n",
      "Total buy orders are 83 and total sell orders are 87\n",
      "Total days in turbulance:  0\n",
      "Sharpe:  0.19616245552686806\n",
      "Test Finished!\n",
      "episode_return % 0.16579999999999995\n",
      "============================================\n",
      "Agent:  12 / 25\n",
      "{'eval_time_gap': 2048, 'batch_size': 256, 'gamma': 0.95, 'learning_rate': {'start': 0.04639, 'end': 0.00022}, 'target_step': 33684, 'net_dimension': 256, 'episode': 1, 'seed': 42069}\n",
      "======Model training from:  2010-01-01 to  2017-01-03\n",
      "| Remove cwd: ./trained_models\n",
      "Using device:  cpu\n",
      "################################################################################\n",
      "ID     Step    maxR |    avgR   stdR   avgS  stdS |    expR   objC   etc.\n"
     ]
    },
    {
     "name": "stderr",
     "output_type": "stream",
     "text": [
      "\r",
      "  0%|                                                                                            | 0/1 [00:00<?, ?it/s]"
     ]
    },
    {
     "name": "stdout",
     "output_type": "stream",
     "text": [
      "0  1.76e+03    5.07 |    5.07    0.5    125     0 |   -0.05   0.12   0.21  -0.50\n"
     ]
    },
    {
     "name": "stderr",
     "output_type": "stream",
     "text": [
      "\r",
      "  0%|                                                                                            | 0/1 [00:28<?, ?it/s]"
     ]
    },
    {
     "name": "stdout",
     "output_type": "stream",
     "text": [
      "Reached goals on 1762\n",
      "| UsedTime:      28 | SavedDir: ./trained_models | Total Step: 1762\n",
      "======jim-ppo-recurrent-317-agent-12 Validation from:  2017-01-03 to  2017-07-03\n",
      "Max reward at validation for Reccurent PPO 125.0\n",
      "Model updated:  237527  times\n",
      "======Trading from:  2017-07-05 to  2018-01-03\n",
      "Using device:  cpu\n"
     ]
    },
    {
     "name": "stderr",
     "output_type": "stream",
     "text": [
      "\n"
     ]
    },
    {
     "name": "stdout",
     "output_type": "stream",
     "text": [
      "Saving to  results/account_value_trade_main_jim-ppo-recurrent-317-agent-12.csv\n",
      "previous_total_asset:1165765.3081568668\n",
      "end_total_asset:1336162.7899053544\n",
      "total_asset_change:170397.48174848757\n",
      "Total cash is: 0.8688246600548695$ and total holdings in stocks are 1336161.9210806943$\n",
      "Buy & Hold strategy with previous total asset:  1355949.843518299\n",
      "Total Cost:  1975.8826056307544\n",
      "Sum of rewards  168620.28703870974\n",
      "Total trades:  305\n",
      "Total buy orders are 193 and total sell orders are 112\n",
      "Total days in turbulance:  0\n",
      "Sharpe:  0.3819963294547083\n",
      "Test Finished!\n",
      "episode_return % 0.33620000000000005\n",
      "============================================\n",
      "Agent:  12 / 25\n",
      "{'eval_time_gap': 2048, 'batch_size': 256, 'gamma': 0.95, 'learning_rate': {'start': 0.04639, 'end': 0.00022}, 'target_step': 33684, 'net_dimension': 256, 'episode': 1, 'seed': 42069}\n",
      "======Model training from:  2010-01-01 to  2017-07-05\n",
      "| Remove cwd: ./trained_models\n",
      "Using device:  cpu\n",
      "################################################################################\n",
      "ID     Step    maxR |    avgR   stdR   avgS  stdS |    expR   objC   etc.\n"
     ]
    },
    {
     "name": "stderr",
     "output_type": "stream",
     "text": [
      "\r",
      "  0%|                                                                                            | 0/1 [00:00<?, ?it/s]"
     ]
    },
    {
     "name": "stdout",
     "output_type": "stream",
     "text": [
      "0  1.89e+03    5.50 |    5.50    1.8    125     0 |   -0.05   0.21   0.10  -0.43\n"
     ]
    },
    {
     "name": "stderr",
     "output_type": "stream",
     "text": [
      "\r",
      "  0%|                                                                                            | 0/1 [00:29<?, ?it/s]"
     ]
    },
    {
     "name": "stdout",
     "output_type": "stream",
     "text": [
      "Reached goals on 1888\n",
      "| UsedTime:      29 | SavedDir: ./trained_models | Total Step: 1888\n",
      "======jim-ppo-recurrent-317-agent-12 Validation from:  2017-07-05 to  2018-01-02\n",
      "Max reward at validation for Reccurent PPO 125.0\n",
      "Model updated:  237586  times\n",
      "======Trading from:  2018-01-03 to  2018-07-05\n",
      "Using device:  cpu\n"
     ]
    },
    {
     "name": "stderr",
     "output_type": "stream",
     "text": [
      "\n"
     ]
    },
    {
     "name": "stdout",
     "output_type": "stream",
     "text": [
      "Saving to  results/account_value_trade_main_jim-ppo-recurrent-317-agent-12.csv\n",
      "previous_total_asset:1336162.7899053544\n",
      "end_total_asset:1283249.5932229308\n",
      "total_asset_change:-52913.196682423586\n",
      "Total cash is: 1.7949099281876855$ and total holdings in stocks are 1283247.7983130026$\n",
      "Buy & Hold strategy with previous total asset:  1320092.6407021293\n",
      "Total Cost:  2080.343489850999\n",
      "Sum of rewards  -52850.15004028799\n",
      "Total trades:  238\n",
      "Total buy orders are 149 and total sell orders are 89\n",
      "Total days in turbulance:  0\n",
      "Sharpe:  -0.04171215667774997\n",
      "Test Finished!\n",
      "episode_return % 0.2831999999999999\n",
      "Calculating buy and hold\n",
      "Buy and Hold value is  1475283.0604952318\n",
      "Buy and hold bigger than performances\n",
      "Writing hparams:  {'eval_time_gap': 2048, 'batch_size': 256, 'gamma': 0.95, 'learning_rate': {'start': 0.04639, 'end': 0.00022}, 'target_step': 33684, 'net_dimension': 256, 'episode': 1, 'seed': 42069}\n",
      "value should be one of int, float, str, bool, or torch.Tensor\n",
      "Could not write the haparms {'eval_time_gap': 2048, 'batch_size': 256, 'gamma': 0.95, 'learning_rate': {'start': 0.04639, 'end': 0.00022}, 'target_step': 33684, 'net_dimension': 256, 'episode': 1, 'seed': 42069} with end total asset of  1283249.5932229308\n",
      "============================================\n",
      "Agent:  13 / 25\n",
      "{'eval_time_gap': 128, 'batch_size': 128, 'gamma': 0.9999, 'learning_rate': 0.04062, 'target_step': 47089, 'net_dimension': 512, 'episode': 1, 'seed': 31}\n",
      "======Model training from:  2010-01-01 to  2016-01-04\n",
      "| Remove cwd: ./trained_models\n",
      "Using device:  cpu\n",
      "################################################################################\n",
      "ID     Step    maxR |    avgR   stdR   avgS  stdS |    expR   objC   etc.\n"
     ]
    },
    {
     "name": "stderr",
     "output_type": "stream",
     "text": [
      "\r",
      "  0%|                                                                                            | 0/1 [00:00<?, ?it/s]"
     ]
    },
    {
     "name": "stdout",
     "output_type": "stream",
     "text": [
      "0  1.51e+03    1.23 |    1.23    0.8    125     0 |   -0.06   0.09   0.38  -0.48\n"
     ]
    },
    {
     "name": "stderr",
     "output_type": "stream",
     "text": [
      "100%|████████████████████████████████████████████████████████████████████████████████████| 1/1 [00:27<00:00, 27.66s/it]\n"
     ]
    },
    {
     "name": "stdout",
     "output_type": "stream",
     "text": [
      "| UsedTime:      28 | SavedDir: ./trained_models | Total Step: 1510\n",
      "======jim-ppo-recurrent-317-agent-13 Validation from:  2016-01-04 to  2016-07-01\n",
      "Max reward at validation for Reccurent PPO 125.0\n",
      "Model updated:  237680  times\n",
      "======Trading from:  2016-07-05 to  2017-01-03\n",
      "Using device:  cpu\n",
      "previous_total_asset:1000000\n",
      "end_total_asset:1096280.6189116293\n",
      "total_asset_change:96280.61891162931\n",
      "Total cash is: 0.358375435444259$ and total holdings in stocks are 1096280.2605361938$\n",
      "Buy & Hold strategy with previous total asset:  1107583.5885027447\n",
      "Total Cost:  999.0006409835813\n",
      "Sum of rewards  96280.61891162931\n",
      "Total trades:  143\n",
      "Total buy orders are 143 and total sell orders are 0\n",
      "Total days in turbulance:  0\n",
      "Sharpe:  0.2628609163096987\n",
      "Test Finished!\n",
      "episode_return % 0.09630000000000005\n",
      "============================================\n",
      "Agent:  13 / 25\n",
      "{'eval_time_gap': 128, 'batch_size': 128, 'gamma': 0.9999, 'learning_rate': 0.04062, 'target_step': 47089, 'net_dimension': 512, 'episode': 1, 'seed': 31}\n",
      "======Model training from:  2010-01-01 to  2016-07-05\n",
      "| Remove cwd: ./trained_models\n",
      "Using device:  cpu\n",
      "################################################################################\n",
      "ID     Step    maxR |    avgR   stdR   avgS  stdS |    expR   objC   etc.\n"
     ]
    },
    {
     "name": "stderr",
     "output_type": "stream",
     "text": [
      "\r",
      "  0%|                                                                                            | 0/1 [00:00<?, ?it/s]"
     ]
    },
    {
     "name": "stdout",
     "output_type": "stream",
     "text": [
      "0  1.64e+03    4.37 |    4.37    2.1    125     0 |   -0.06   0.17   0.38  -0.55\n"
     ]
    },
    {
     "name": "stderr",
     "output_type": "stream",
     "text": [
      "\r",
      "  0%|                                                                                            | 0/1 [00:29<?, ?it/s]"
     ]
    },
    {
     "name": "stdout",
     "output_type": "stream",
     "text": [
      "Reached goals on 1636\n",
      "| UsedTime:      29 | SavedDir: ./trained_models | Total Step: 1636\n",
      "======jim-ppo-recurrent-317-agent-13 Validation from:  2016-07-05 to  2016-12-30\n",
      "Max reward at validation for Reccurent PPO 125.0\n",
      "Model updated:  237782  times\n",
      "======Trading from:  2017-01-03 to  2017-07-05\n",
      "Using device:  cpu\n"
     ]
    },
    {
     "name": "stderr",
     "output_type": "stream",
     "text": [
      "\n"
     ]
    },
    {
     "name": "stdout",
     "output_type": "stream",
     "text": [
      "Saving to  results/account_value_trade_main_jim-ppo-recurrent-317-agent-13.csv\n",
      "previous_total_asset:1096280.6189116293\n",
      "end_total_asset:1182950.327332976\n",
      "total_asset_change:86669.70842134673\n",
      "Total cash is: 14.131215574876961$ and total holdings in stocks are 1182936.1961174011$\n",
      "Buy & Hold strategy with previous total asset:  1187850.9075593783\n",
      "Total Cost:  1104.4238132266996\n",
      "Sum of rewards  77193.40403902251\n",
      "Total trades:  143\n",
      "Total buy orders are 74 and total sell orders are 69\n",
      "Total days in turbulance:  0\n",
      "Sharpe:  0.2185241189255442\n",
      "Test Finished!\n",
      "episode_return % 0.18300000000000005\n",
      "============================================\n",
      "Agent:  13 / 25\n",
      "{'eval_time_gap': 128, 'batch_size': 128, 'gamma': 0.9999, 'learning_rate': 0.04062, 'target_step': 47089, 'net_dimension': 512, 'episode': 1, 'seed': 31}\n",
      "======Model training from:  2010-01-01 to  2017-01-03\n",
      "| Remove cwd: ./trained_models\n",
      "Using device:  cpu\n",
      "################################################################################\n",
      "ID     Step    maxR |    avgR   stdR   avgS  stdS |    expR   objC   etc.\n"
     ]
    },
    {
     "name": "stderr",
     "output_type": "stream",
     "text": [
      "\r",
      "  0%|                                                                                            | 0/1 [00:00<?, ?it/s]"
     ]
    },
    {
     "name": "stdout",
     "output_type": "stream",
     "text": [
      "0  1.76e+03    4.48 |    4.48    0.1    125     0 |   -0.05   0.17   0.39  -0.52\n"
     ]
    },
    {
     "name": "stderr",
     "output_type": "stream",
     "text": [
      "\r",
      "  0%|                                                                                            | 0/1 [00:30<?, ?it/s]"
     ]
    },
    {
     "name": "stdout",
     "output_type": "stream",
     "text": [
      "Reached goals on 1762\n",
      "| UsedTime:      31 | SavedDir: ./trained_models | Total Step: 1762\n",
      "======jim-ppo-recurrent-317-agent-13 Validation from:  2017-01-03 to  2017-07-03\n",
      "Max reward at validation for Reccurent PPO 125.0\n",
      "Model updated:  237892  times\n",
      "======Trading from:  2017-07-05 to  2018-01-03\n",
      "Using device:  cpu\n"
     ]
    },
    {
     "name": "stderr",
     "output_type": "stream",
     "text": [
      "\n"
     ]
    },
    {
     "name": "stdout",
     "output_type": "stream",
     "text": [
      "Saving to  results/account_value_trade_main_jim-ppo-recurrent-317-agent-13.csv\n",
      "previous_total_asset:1182950.327332976\n",
      "end_total_asset:1404665.9365580317\n",
      "total_asset_change:221715.60922505567\n",
      "Total cash is: 26.317098879508205$ and total holdings in stocks are 1404639.6194591522$\n",
      "Buy & Hold strategy with previous total asset:  1375938.4500582772\n",
      "Total Cost:  992.8423797874448\n",
      "Sum of rewards  222155.65405537793\n",
      "Total trades:  141\n",
      "Total buy orders are 84 and total sell orders are 57\n",
      "Total days in turbulance:  0\n",
      "Sharpe:  0.5047740324241097\n",
      "Test Finished!\n",
      "episode_return % 0.40470000000000006\n",
      "============================================\n",
      "Agent:  13 / 25\n",
      "{'eval_time_gap': 128, 'batch_size': 128, 'gamma': 0.9999, 'learning_rate': 0.04062, 'target_step': 47089, 'net_dimension': 512, 'episode': 1, 'seed': 31}\n",
      "======Model training from:  2010-01-01 to  2017-07-05\n",
      "| Remove cwd: ./trained_models\n",
      "Using device:  cpu\n",
      "################################################################################\n",
      "ID     Step    maxR |    avgR   stdR   avgS  stdS |    expR   objC   etc.\n"
     ]
    },
    {
     "name": "stderr",
     "output_type": "stream",
     "text": [
      "\r",
      "  0%|                                                                                            | 0/1 [00:00<?, ?it/s]"
     ]
    },
    {
     "name": "stdout",
     "output_type": "stream",
     "text": [
      "0  1.89e+03    4.14 |    4.14    0.9    125     0 |   -0.05   0.25   0.43  -0.47\n"
     ]
    },
    {
     "name": "stderr",
     "output_type": "stream",
     "text": [
      "\r",
      "  0%|                                                                                            | 0/1 [00:31<?, ?it/s]"
     ]
    },
    {
     "name": "stdout",
     "output_type": "stream",
     "text": [
      "Reached goals on 1888\n",
      "| UsedTime:      32 | SavedDir: ./trained_models | Total Step: 1888\n",
      "======jim-ppo-recurrent-317-agent-13 Validation from:  2017-07-05 to  2018-01-02\n",
      "Max reward at validation for Reccurent PPO 125.0\n",
      "Model updated:  238010  times\n",
      "======Trading from:  2018-01-03 to  2018-07-05\n",
      "Using device:  cpu\n"
     ]
    },
    {
     "name": "stderr",
     "output_type": "stream",
     "text": [
      "\n"
     ]
    },
    {
     "name": "stdout",
     "output_type": "stream",
     "text": [
      "Saving to  results/account_value_trade_main_jim-ppo-recurrent-317-agent-13.csv\n",
      "previous_total_asset:1404665.9365580317\n",
      "end_total_asset:1293815.5573165957\n",
      "total_asset_change:-110850.37924143602\n",
      "Total cash is: 5.257153326745538$ and total holdings in stocks are 1293810.300163269$\n",
      "Buy & Hold strategy with previous total asset:  1387771.8938921862\n",
      "Total Cost:  1112.992444484711\n",
      "Sum of rewards  -116679.32796236803\n",
      "Total trades:  156\n",
      "Total buy orders are 79 and total sell orders are 77\n",
      "Total days in turbulance:  0\n",
      "Sharpe:  -0.09856565286995886\n",
      "Test Finished!\n",
      "episode_return % 0.29380000000000006\n",
      "Calculating buy and hold\n",
      "Buy and Hold value is  1475283.0604952318\n",
      "Buy and hold bigger than performances\n",
      "Writing hparams:  {'eval_time_gap': 128, 'batch_size': 128, 'gamma': 0.9999, 'learning_rate': 0.04062, 'target_step': 47089, 'net_dimension': 512, 'episode': 1, 'seed': 31}\n",
      "value should be one of int, float, str, bool, or torch.Tensor\n",
      "Could not write the haparms {'eval_time_gap': 128, 'batch_size': 128, 'gamma': 0.9999, 'learning_rate': 0.04062, 'target_step': 47089, 'net_dimension': 512, 'episode': 1, 'seed': 31} with end total asset of  1293815.5573165957\n",
      "============================================\n",
      "Agent:  14 / 25\n",
      "{'eval_time_gap': 128, 'batch_size': 64, 'gamma': 0.995, 'learning_rate': 0.03394, 'target_step': 41742, 'net_dimension': 100, 'episode': 8, 'seed': 42069}\n",
      "======Model training from:  2010-01-01 to  2016-01-04\n",
      "| Remove cwd: ./trained_models\n",
      "Using device:  cpu\n",
      "################################################################################\n",
      "ID     Step    maxR |    avgR   stdR   avgS  stdS |    expR   objC   etc.\n"
     ]
    },
    {
     "name": "stderr",
     "output_type": "stream",
     "text": [
      "\r",
      "  0%|                                                                                            | 0/8 [00:00<?, ?it/s]"
     ]
    },
    {
     "name": "stdout",
     "output_type": "stream",
     "text": [
      "0  1.51e+03    3.22 |    3.22    0.0    125     0 |   -0.05   0.08   0.23  -0.51\n"
     ]
    },
    {
     "name": "stderr",
     "output_type": "stream",
     "text": [
      "\r",
      " 12%|██████████▌                                                                         | 1/8 [00:25<02:56, 25.28s/it]"
     ]
    },
    {
     "name": "stdout",
     "output_type": "stream",
     "text": [
      "0  3.02e+03    3.22 |    1.70    0.0    125     0 |   -0.01   0.03   0.29  -0.51\n"
     ]
    },
    {
     "name": "stderr",
     "output_type": "stream",
     "text": [
      "\r",
      " 25%|█████████████████████                                                               | 2/8 [00:41<02:01, 20.19s/it]"
     ]
    },
    {
     "name": "stdout",
     "output_type": "stream",
     "text": [
      "0  4.53e+03    3.22 |    2.62    0.0    125     0 |    0.00   0.11   0.40  -0.51\n"
     ]
    },
    {
     "name": "stderr",
     "output_type": "stream",
     "text": [
      "\r",
      " 38%|███████████████████████████████▌                                                    | 3/8 [00:58<01:32, 18.59s/it]"
     ]
    },
    {
     "name": "stdout",
     "output_type": "stream",
     "text": [
      "0  6.03e+03    3.22 |    2.33    0.0    125     0 |   -0.01   0.38   0.29  -0.51\n"
     ]
    },
    {
     "name": "stderr",
     "output_type": "stream",
     "text": [
      "\r",
      " 50%|██████████████████████████████████████████                                          | 4/8 [01:15<01:11, 17.96s/it]"
     ]
    },
    {
     "name": "stdout",
     "output_type": "stream",
     "text": [
      "0  7.54e+03    3.22 |    2.51    0.0    125     0 |    0.00   0.07   0.45  -0.51\n"
     ]
    },
    {
     "name": "stderr",
     "output_type": "stream",
     "text": [
      "\r",
      " 62%|████████████████████████████████████████████████████▌                               | 5/8 [01:32<00:53, 17.76s/it]"
     ]
    },
    {
     "name": "stdout",
     "output_type": "stream",
     "text": [
      "0  9.04e+03    3.22 |    2.46    0.0    125     0 |   -0.00   0.36   0.31  -0.51\n"
     ]
    },
    {
     "name": "stderr",
     "output_type": "stream",
     "text": [
      "\r",
      " 75%|███████████████████████████████████████████████████████████████                     | 6/8 [01:50<00:35, 17.66s/it]"
     ]
    },
    {
     "name": "stdout",
     "output_type": "stream",
     "text": [
      "0  1.05e+04    3.22 |    1.84    0.0    125     0 |   -0.01   0.47   0.24  -0.51\n"
     ]
    },
    {
     "name": "stderr",
     "output_type": "stream",
     "text": [
      "\r",
      " 88%|█████████████████████████████████████████████████████████████████████████▌          | 7/8 [02:07<00:17, 17.61s/it]"
     ]
    },
    {
     "name": "stdout",
     "output_type": "stream",
     "text": [
      "0  1.21e+04    3.22 |    1.68    0.0    125     0 |   -0.01   0.35   0.35  -0.51\n"
     ]
    },
    {
     "name": "stderr",
     "output_type": "stream",
     "text": [
      "100%|████████████████████████████████████████████████████████████████████████████████████| 8/8 [02:25<00:00, 18.21s/it]\n"
     ]
    },
    {
     "name": "stdout",
     "output_type": "stream",
     "text": [
      "| UsedTime:     146 | SavedDir: ./trained_models | Total Step: 1503\n",
      "======jim-ppo-recurrent-317-agent-14 Validation from:  2016-01-04 to  2016-07-01\n",
      "Max reward at validation for Reccurent PPO 125.0\n",
      "Model updated:  239513  times\n",
      "======Trading from:  2016-07-05 to  2017-01-03\n",
      "Using device:  cpu\n",
      "previous_total_asset:1000000\n",
      "end_total_asset:1069438.122338305\n",
      "total_asset_change:69438.122338305\n",
      "Total cash is: 10.61466694889441$ and total holdings in stocks are 1069427.5076713562$\n",
      "Buy & Hold strategy with previous total asset:  1107583.5885027447\n",
      "Total Cost:  1576.097645750046\n",
      "Sum of rewards  69438.122338305\n",
      "Total trades:  250\n",
      "Total buy orders are 210 and total sell orders are 40\n",
      "Total days in turbulance:  0\n",
      "Sharpe:  0.19022836096278833\n",
      "Test Finished!\n",
      "episode_return % 0.0693999999999999\n",
      "============================================\n",
      "Agent:  14 / 25\n",
      "{'eval_time_gap': 128, 'batch_size': 64, 'gamma': 0.995, 'learning_rate': 0.03394, 'target_step': 41742, 'net_dimension': 100, 'episode': 8, 'seed': 42069}\n",
      "======Model training from:  2010-01-01 to  2016-07-05\n",
      "| Remove cwd: ./trained_models\n",
      "Using device:  cpu\n",
      "################################################################################\n",
      "ID     Step    maxR |    avgR   stdR   avgS  stdS |    expR   objC   etc.\n"
     ]
    },
    {
     "name": "stderr",
     "output_type": "stream",
     "text": [
      "\r",
      "  0%|                                                                                            | 0/8 [00:00<?, ?it/s]"
     ]
    },
    {
     "name": "stdout",
     "output_type": "stream",
     "text": [
      "0  1.64e+03    3.97 |    3.97    1.3    125     0 |   -0.05   0.03   0.28  -0.49\n"
     ]
    },
    {
     "name": "stderr",
     "output_type": "stream",
     "text": [
      "\r",
      " 12%|██████████▌                                                                         | 1/8 [00:27<03:09, 27.01s/it]"
     ]
    },
    {
     "name": "stdout",
     "output_type": "stream",
     "text": [
      "0  3.27e+03    3.97 |   -0.40    0.0    125     0 |   -0.01   0.27   0.31  -0.49\n"
     ]
    },
    {
     "name": "stderr",
     "output_type": "stream",
     "text": [
      "\r",
      " 25%|█████████████████████                                                               | 2/8 [00:45<02:10, 21.82s/it]"
     ]
    },
    {
     "name": "stdout",
     "output_type": "stream",
     "text": [
      "0  4.90e+03    3.97 |    0.32    0.0    125     0 |   -0.00   0.44   0.27  -0.49\n"
     ]
    },
    {
     "name": "stderr",
     "output_type": "stream",
     "text": [
      "\r",
      " 38%|███████████████████████████████▌                                                    | 3/8 [01:03<01:40, 20.15s/it]"
     ]
    },
    {
     "name": "stdout",
     "output_type": "stream",
     "text": [
      "0  6.54e+03    3.97 |   -0.28    0.0    125     0 |    0.00   0.18   0.38  -0.49\n"
     ]
    },
    {
     "name": "stderr",
     "output_type": "stream",
     "text": [
      "\r",
      " 50%|██████████████████████████████████████████                                          | 4/8 [01:21<01:17, 19.34s/it]"
     ]
    },
    {
     "name": "stdout",
     "output_type": "stream",
     "text": [
      "0  8.17e+03    3.97 |   -0.55    0.0    125     0 |   -0.00   0.49   0.42  -0.49\n"
     ]
    },
    {
     "name": "stderr",
     "output_type": "stream",
     "text": [
      "\r",
      " 62%|████████████████████████████████████████████████████▌                               | 5/8 [01:40<00:57, 19.07s/it]"
     ]
    },
    {
     "name": "stdout",
     "output_type": "stream",
     "text": [
      "0  9.80e+03    3.97 |   -0.48    0.0    125     0 |   -0.00   0.26   0.11  -0.49\n"
     ]
    },
    {
     "name": "stderr",
     "output_type": "stream",
     "text": [
      "\r",
      " 75%|███████████████████████████████████████████████████████████████                     | 6/8 [01:59<00:38, 19.15s/it]"
     ]
    },
    {
     "name": "stdout",
     "output_type": "stream",
     "text": [
      "0  1.14e+04    3.97 |    0.37    0.0    125     0 |   -0.00   0.22   0.34  -0.49\n"
     ]
    },
    {
     "name": "stderr",
     "output_type": "stream",
     "text": [
      "\r",
      " 88%|█████████████████████████████████████████████████████████████████████████▌          | 7/8 [02:18<00:18, 19.00s/it]"
     ]
    },
    {
     "name": "stdout",
     "output_type": "stream",
     "text": [
      "0  1.31e+04    3.97 |    0.11    0.0    125     0 |   -0.00   0.23   0.39  -0.49\n"
     ]
    },
    {
     "name": "stderr",
     "output_type": "stream",
     "text": [
      "100%|████████████████████████████████████████████████████████████████████████████████████| 8/8 [02:36<00:00, 19.61s/it]\n"
     ]
    },
    {
     "name": "stdout",
     "output_type": "stream",
     "text": [
      "| UsedTime:     157 | SavedDir: ./trained_models | Total Step: 1629\n",
      "======jim-ppo-recurrent-317-agent-14 Validation from:  2016-07-05 to  2016-12-30\n",
      "Max reward at validation for Reccurent PPO 125.0\n",
      "Model updated:  241142  times\n",
      "======Trading from:  2017-01-03 to  2017-07-05\n",
      "Using device:  cpu\n",
      "Saving to  results/account_value_trade_main_jim-ppo-recurrent-317-agent-14.csv\n",
      "previous_total_asset:1069438.122338305\n",
      "end_total_asset:1162774.77595954\n",
      "total_asset_change:93336.65362123493\n",
      "Total cash is: 0.6843381411144946$ and total holdings in stocks are 1162774.091621399$\n",
      "Buy & Hold strategy with previous total asset:  1158766.306987458\n",
      "Total Cost:  886.2891468620302\n",
      "Sum of rewards  84231.47212175373\n",
      "Total trades:  143\n",
      "Total buy orders are 82 and total sell orders are 61\n",
      "Total days in turbulance:  0\n",
      "Sharpe:  0.25758431719021696\n",
      "Test Finished!\n",
      "episode_return % 0.16280000000000006\n",
      "============================================\n",
      "Agent:  14 / 25\n",
      "{'eval_time_gap': 128, 'batch_size': 64, 'gamma': 0.995, 'learning_rate': 0.03394, 'target_step': 41742, 'net_dimension': 100, 'episode': 8, 'seed': 42069}\n",
      "======Model training from:  2010-01-01 to  2017-01-03\n",
      "| Remove cwd: ./trained_models\n",
      "Using device:  cpu\n",
      "################################################################################\n",
      "ID     Step    maxR |    avgR   stdR   avgS  stdS |    expR   objC   etc.\n"
     ]
    },
    {
     "name": "stderr",
     "output_type": "stream",
     "text": [
      "\r",
      "  0%|                                                                                            | 0/8 [00:00<?, ?it/s]"
     ]
    },
    {
     "name": "stdout",
     "output_type": "stream",
     "text": [
      "0  1.76e+03    6.11 |    6.11    1.8    125     0 |   -0.05   0.03   0.40  -0.49\n"
     ]
    },
    {
     "name": "stderr",
     "output_type": "stream",
     "text": [
      "\r",
      "  0%|                                                                                            | 0/8 [00:27<?, ?it/s]"
     ]
    },
    {
     "name": "stdout",
     "output_type": "stream",
     "text": [
      "Reached goals on 1762\n",
      "| UsedTime:      28 | SavedDir: ./trained_models | Total Step: 1762\n",
      "======jim-ppo-recurrent-317-agent-14 Validation from:  2017-01-03 to  2017-07-03\n",
      "Max reward at validation for Reccurent PPO 125.0\n",
      "Model updated:  241362  times\n",
      "======Trading from:  2017-07-05 to  2018-01-03\n",
      "Using device:  cpu\n"
     ]
    },
    {
     "name": "stderr",
     "output_type": "stream",
     "text": [
      "\n"
     ]
    },
    {
     "name": "stdout",
     "output_type": "stream",
     "text": [
      "Saving to  results/account_value_trade_main_jim-ppo-recurrent-317-agent-14.csv\n",
      "previous_total_asset:1162774.77595954\n",
      "end_total_asset:1495469.41624984\n",
      "total_asset_change:332694.6402903001\n",
      "Total cash is: 24.41803957378579$ and total holdings in stocks are 1495444.9982102662$\n",
      "Buy & Hold strategy with previous total asset:  1352471.4318374668\n",
      "Total Cost:  1897.0207895213207\n",
      "Sum of rewards  335591.18475059676\n",
      "Total trades:  299\n",
      "Total buy orders are 151 and total sell orders are 148\n",
      "Total days in turbulance:  0\n",
      "Sharpe:  0.5889608925968393\n",
      "Test Finished!\n",
      "episode_return % 0.49550000000000005\n",
      "============================================\n",
      "Agent:  14 / 25\n",
      "{'eval_time_gap': 128, 'batch_size': 64, 'gamma': 0.995, 'learning_rate': 0.03394, 'target_step': 41742, 'net_dimension': 100, 'episode': 8, 'seed': 42069}\n",
      "======Model training from:  2010-01-01 to  2017-07-05\n",
      "| Remove cwd: ./trained_models\n",
      "Using device:  cpu\n",
      "################################################################################\n",
      "ID     Step    maxR |    avgR   stdR   avgS  stdS |    expR   objC   etc.\n"
     ]
    },
    {
     "name": "stderr",
     "output_type": "stream",
     "text": [
      "\r",
      "  0%|                                                                                            | 0/8 [00:00<?, ?it/s]"
     ]
    },
    {
     "name": "stdout",
     "output_type": "stream",
     "text": [
      "0  1.89e+03    3.13 |    3.13    1.8    125     0 |   -0.05   0.03   0.19  -0.45\n"
     ]
    },
    {
     "name": "stderr",
     "output_type": "stream",
     "text": [
      "\r",
      " 12%|██████████▌                                                                         | 1/8 [00:29<03:24, 29.20s/it]"
     ]
    },
    {
     "name": "stdout",
     "output_type": "stream",
     "text": [
      "0  3.78e+03    3.41 |    3.41    0.2    125     0 |   -0.01   0.11   0.33  -0.45\n"
     ]
    },
    {
     "name": "stderr",
     "output_type": "stream",
     "text": [
      "\r",
      " 25%|█████████████████████                                                               | 2/8 [00:58<02:55, 29.23s/it]"
     ]
    },
    {
     "name": "stdout",
     "output_type": "stream",
     "text": [
      "0  5.66e+03    3.41 |    2.98    0.0    125     0 |   -0.01   0.16   0.46  -0.45\n"
     ]
    },
    {
     "name": "stderr",
     "output_type": "stream",
     "text": [
      "\r",
      " 38%|███████████████████████████████▌                                                    | 3/8 [01:19<02:07, 25.43s/it]"
     ]
    },
    {
     "name": "stdout",
     "output_type": "stream",
     "text": [
      "0  7.55e+03    4.71 |    4.71    0.1    125     0 |   -0.01   0.24   0.32  -0.45\n"
     ]
    },
    {
     "name": "stderr",
     "output_type": "stream",
     "text": [
      "\r",
      " 38%|███████████████████████████████▌                                                    | 3/8 [01:49<03:02, 36.53s/it]"
     ]
    },
    {
     "name": "stdout",
     "output_type": "stream",
     "text": [
      "Reached goals on 1885\n",
      "| UsedTime:     110 | SavedDir: ./trained_models | Total Step: 1885\n",
      "======jim-ppo-recurrent-317-agent-14 Validation from:  2017-07-05 to  2018-01-02\n",
      "Max reward at validation for Reccurent PPO 125.0\n",
      "Model updated:  242303  times\n",
      "======Trading from:  2018-01-03 to  2018-07-05\n",
      "Using device:  cpu\n"
     ]
    },
    {
     "name": "stderr",
     "output_type": "stream",
     "text": [
      "\n"
     ]
    },
    {
     "name": "stdout",
     "output_type": "stream",
     "text": [
      "Saving to  results/account_value_trade_main_jim-ppo-recurrent-317-agent-14.csv\n",
      "previous_total_asset:1495469.41624984\n",
      "end_total_asset:1540416.2725603124\n",
      "total_asset_change:44946.85631047236\n",
      "Total cash is: 1.4433705695607841$ and total holdings in stocks are 1540414.829189743$\n",
      "Buy & Hold strategy with previous total asset:  1477483.272024332\n",
      "Total Cost:  3584.383137250901\n",
      "Sum of rewards  45687.41836021398\n",
      "Total trades:  381\n",
      "Total buy orders are 252 and total sell orders are 129\n",
      "Total days in turbulance:  0\n",
      "Sharpe:  0.04841742206024117\n",
      "Test Finished!\n",
      "episode_return % 0.5404\n",
      "Calculating buy and hold\n",
      "Buy and Hold value is  1475283.0604952318\n",
      "============================================\n",
      "Agent:  14 / 25\n",
      "{'eval_time_gap': 128, 'batch_size': 64, 'gamma': 0.995, 'learning_rate': 0.03394, 'target_step': 41742, 'net_dimension': 100, 'episode': 8, 'seed': 42069}\n",
      "======Model training from:  2010-01-01 to  2018-01-03\n",
      "| Remove cwd: ./trained_models\n",
      "Using device:  cpu\n",
      "################################################################################\n",
      "ID     Step    maxR |    avgR   stdR   avgS  stdS |    expR   objC   etc.\n"
     ]
    },
    {
     "name": "stderr",
     "output_type": "stream",
     "text": [
      "\r",
      "  0%|                                                                                            | 0/8 [00:00<?, ?it/s]"
     ]
    },
    {
     "name": "stdout",
     "output_type": "stream",
     "text": [
      "0  2.01e+03   -0.98 |   -0.98    2.6    125     0 |   -0.05   0.04   0.30  -0.47\n"
     ]
    },
    {
     "name": "stderr",
     "output_type": "stream",
     "text": [
      "\r",
      " 12%|██████████▌                                                                         | 1/8 [00:30<03:33, 30.46s/it]"
     ]
    },
    {
     "name": "stdout",
     "output_type": "stream",
     "text": [
      "0  4.03e+03   -0.98 |   -2.10    0.0    125     0 |   -0.01   0.59   0.24  -0.47\n"
     ]
    },
    {
     "name": "stderr",
     "output_type": "stream",
     "text": [
      "\r",
      " 25%|█████████████████████                                                               | 2/8 [00:51<02:30, 25.16s/it]"
     ]
    },
    {
     "name": "stdout",
     "output_type": "stream",
     "text": [
      "0  6.04e+03   -0.98 |   -1.68    0.0    125     0 |   -0.00   0.38   0.10  -0.47\n"
     ]
    },
    {
     "name": "stderr",
     "output_type": "stream",
     "text": [
      "\r",
      " 38%|███████████████████████████████▌                                                    | 3/8 [01:13<01:58, 23.70s/it]"
     ]
    },
    {
     "name": "stdout",
     "output_type": "stream",
     "text": [
      "0  8.05e+03   -0.98 |   -3.55    0.1    125     0 |   -0.01   0.40   0.27  -0.47\n"
     ]
    },
    {
     "name": "stderr",
     "output_type": "stream",
     "text": [
      "\r",
      " 50%|██████████████████████████████████████████                                          | 4/8 [01:35<01:32, 23.01s/it]"
     ]
    },
    {
     "name": "stdout",
     "output_type": "stream",
     "text": [
      "0  1.01e+04   -0.98 |   -1.98    0.0    125     0 |   -0.01   0.51   0.30  -0.47\n"
     ]
    },
    {
     "name": "stderr",
     "output_type": "stream",
     "text": [
      "\r",
      " 62%|████████████████████████████████████████████████████▌                               | 5/8 [01:58<01:08, 22.85s/it]"
     ]
    },
    {
     "name": "stdout",
     "output_type": "stream",
     "text": [
      "0  1.21e+04   -0.98 |   -2.39    0.0    125     0 |   -0.01   0.41   0.30  -0.47\n"
     ]
    },
    {
     "name": "stderr",
     "output_type": "stream",
     "text": [
      "\r",
      " 75%|███████████████████████████████████████████████████████████████                     | 6/8 [02:21<00:45, 22.79s/it]"
     ]
    },
    {
     "name": "stdout",
     "output_type": "stream",
     "text": [
      "0  1.41e+04   -0.98 |   -2.44    0.0    125     0 |    0.00   0.19   0.35  -0.47\n"
     ]
    },
    {
     "name": "stderr",
     "output_type": "stream",
     "text": [
      "\r",
      " 88%|█████████████████████████████████████████████████████████████████████████▌          | 7/8 [02:44<00:22, 22.85s/it]"
     ]
    },
    {
     "name": "stdout",
     "output_type": "stream",
     "text": [
      "0  1.61e+04   -0.98 |   -1.24    0.0    125     0 |   -0.00   0.32   0.32  -0.47\n"
     ]
    },
    {
     "name": "stderr",
     "output_type": "stream",
     "text": [
      "100%|████████████████████████████████████████████████████████████████████████████████████| 8/8 [03:06<00:00, 23.33s/it]\n"
     ]
    },
    {
     "name": "stdout",
     "output_type": "stream",
     "text": [
      "| UsedTime:     187 | SavedDir: ./trained_models | Total Step: 2007\n",
      "======jim-ppo-recurrent-317-agent-14 Validation from:  2018-01-03 to  2018-07-03\n",
      "Max reward at validation for Reccurent PPO 125.0\n",
      "Model updated:  244310  times\n",
      "======Trading from:  2018-07-05 to  2019-01-04\n",
      "Using device:  cpu\n",
      "Saving to  results/account_value_trade_main_jim-ppo-recurrent-317-agent-14.csv\n",
      "previous_total_asset:1540416.2725603124\n",
      "end_total_asset:1450231.3574863963\n",
      "total_asset_change:-90184.91507391608\n",
      "Total cash is: 19.268912940451628$ and total holdings in stocks are 1450212.0885734558$\n",
      "Buy & Hold strategy with previous total asset:  1493903.7433181307\n",
      "Total Cost:  1457.3339812093714\n",
      "Sum of rewards  -105104.90481389686\n",
      "Total trades:  201\n",
      "Total buy orders are 116 and total sell orders are 85\n",
      "Total days in turbulance:  0\n",
      "Sharpe:  -0.06493280652830907\n",
      "Test Finished!\n",
      "episode_return % 0.45019999999999993\n",
      "Calculating buy and hold\n",
      "Buy and Hold value is  1430972.9262496235\n",
      "============================================\n",
      "Agent:  14 / 25\n",
      "{'eval_time_gap': 128, 'batch_size': 64, 'gamma': 0.995, 'learning_rate': 0.03394, 'target_step': 41742, 'net_dimension': 100, 'episode': 8, 'seed': 42069}\n",
      "======Model training from:  2010-01-01 to  2018-07-05\n",
      "| Remove cwd: ./trained_models\n",
      "Using device:  cpu\n",
      "################################################################################\n",
      "ID     Step    maxR |    avgR   stdR   avgS  stdS |    expR   objC   etc.\n"
     ]
    },
    {
     "name": "stderr",
     "output_type": "stream",
     "text": [
      "\r",
      "  0%|                                                                                            | 0/8 [00:00<?, ?it/s]"
     ]
    },
    {
     "name": "stdout",
     "output_type": "stream",
     "text": [
      "0  2.14e+03   -0.32 |   -0.32    1.8    125     0 |   -0.05   0.01   0.30  -0.49\n"
     ]
    },
    {
     "name": "stderr",
     "output_type": "stream",
     "text": [
      "\r",
      " 12%|██████████▌                                                                         | 1/8 [00:31<03:43, 31.87s/it]"
     ]
    },
    {
     "name": "stdout",
     "output_type": "stream",
     "text": [
      "0  4.28e+03    0.99 |    0.99    0.0    125     0 |    0.00   0.07   0.32  -0.49\n"
     ]
    },
    {
     "name": "stderr",
     "output_type": "stream",
     "text": [
      "\r",
      " 25%|█████████████████████                                                               | 2/8 [01:03<03:11, 31.91s/it]"
     ]
    },
    {
     "name": "stdout",
     "output_type": "stream",
     "text": [
      "0  6.42e+03    0.99 |   -0.40    0.0    125     0 |   -0.00   0.09   0.40  -0.49\n"
     ]
    },
    {
     "name": "stderr",
     "output_type": "stream",
     "text": [
      "\r",
      " 38%|███████████████████████████████▌                                                    | 3/8 [01:27<02:19, 27.95s/it]"
     ]
    },
    {
     "name": "stdout",
     "output_type": "stream",
     "text": [
      "0  8.55e+03    1.01 |    1.01    0.0    125     0 |   -0.01   0.23   0.35  -0.49\n"
     ]
    },
    {
     "name": "stderr",
     "output_type": "stream",
     "text": [
      "\r",
      " 50%|██████████████████████████████████████████                                          | 4/8 [02:00<02:00, 30.14s/it]"
     ]
    },
    {
     "name": "stdout",
     "output_type": "stream",
     "text": [
      "0  1.07e+04    1.01 |    0.94    0.0    125     0 |   -0.00   0.29   0.32  -0.49\n"
     ]
    },
    {
     "name": "stderr",
     "output_type": "stream",
     "text": [
      "\r",
      " 62%|████████████████████████████████████████████████████▌                               | 5/8 [02:24<01:23, 27.88s/it]"
     ]
    },
    {
     "name": "stdout",
     "output_type": "stream",
     "text": [
      "0  1.28e+04    1.01 |    0.34    0.0    125     0 |   -0.00   0.28   0.34  -0.49\n"
     ]
    },
    {
     "name": "stderr",
     "output_type": "stream",
     "text": [
      "\r",
      " 75%|███████████████████████████████████████████████████████████████                     | 6/8 [02:48<00:52, 26.43s/it]"
     ]
    },
    {
     "name": "stdout",
     "output_type": "stream",
     "text": [
      "0  1.50e+04    1.75 |    1.75    0.0    125     0 |   -0.00   0.36   0.34  -0.49\n"
     ]
    },
    {
     "name": "stderr",
     "output_type": "stream",
     "text": [
      "\r",
      " 88%|█████████████████████████████████████████████████████████████████████████▌          | 7/8 [03:21<00:28, 28.57s/it]"
     ]
    },
    {
     "name": "stdout",
     "output_type": "stream",
     "text": [
      "0  1.71e+04    1.75 |    0.52    0.0    125     0 |   -0.00   0.32   0.25  -0.49\n"
     ]
    },
    {
     "name": "stderr",
     "output_type": "stream",
     "text": [
      "100%|████████████████████████████████████████████████████████████████████████████████████| 8/8 [03:44<00:00, 28.12s/it]\n"
     ]
    },
    {
     "name": "stdout",
     "output_type": "stream",
     "text": [
      "| UsedTime:     225 | SavedDir: ./trained_models | Total Step: 2133\n",
      "======jim-ppo-recurrent-317-agent-14 Validation from:  2018-07-05 to  2019-01-03\n",
      "Max reward at validation for Reccurent PPO 125.0\n",
      "Model updated:  246443  times\n",
      "======Trading from:  2019-01-04 to  2019-07-08\n",
      "Using device:  cpu\n",
      "Saving to  results/account_value_trade_main_jim-ppo-recurrent-317-agent-14.csv\n",
      "previous_total_asset:1450231.3574863963\n",
      "end_total_asset:1601903.5006223563\n",
      "total_asset_change:151672.14313595998\n",
      "Total cash is: -0.2616609689584948$ and total holdings in stocks are 1601903.7622833252$\n",
      "Buy & Hold strategy with previous total asset:  1682870.2194747871\n",
      "Total Cost:  6301.993201320653\n",
      "Sum of rewards  97092.93962186086\n",
      "Total trades:  669\n",
      "Total buy orders are 351 and total sell orders are 318\n",
      "Total days in turbulance:  0\n",
      "Sharpe:  0.18102712767411122\n",
      "Test Finished!\n",
      "episode_return % 0.6019000000000001\n",
      "Calculating buy and hold\n",
      "Buy and Hold value is  1720448.0172379646\n",
      "Buy and hold bigger than performances\n",
      "Writing hparams:  {'eval_time_gap': 128, 'batch_size': 64, 'gamma': 0.995, 'learning_rate': 0.03394, 'target_step': 41742, 'net_dimension': 100, 'episode': 8, 'seed': 42069}\n",
      "value should be one of int, float, str, bool, or torch.Tensor\n",
      "Could not write the haparms {'eval_time_gap': 128, 'batch_size': 64, 'gamma': 0.995, 'learning_rate': 0.03394, 'target_step': 41742, 'net_dimension': 100, 'episode': 8, 'seed': 42069} with end total asset of  1601903.5006223563\n",
      "============================================\n",
      "Agent:  15 / 25\n",
      "{'eval_time_gap': 32, 'batch_size': 32, 'gamma': 0.9, 'learning_rate': 0.01318, 'target_step': 57825, 'net_dimension': 256, 'episode': 3, 'seed': 31}\n",
      "======Model training from:  2010-01-01 to  2016-01-04\n",
      "| Remove cwd: ./trained_models\n",
      "Using device:  cpu\n",
      "################################################################################\n",
      "ID     Step    maxR |    avgR   stdR   avgS  stdS |    expR   objC   etc.\n"
     ]
    },
    {
     "name": "stderr",
     "output_type": "stream",
     "text": [
      "\r",
      "  0%|                                                                                            | 0/3 [00:00<?, ?it/s]"
     ]
    },
    {
     "name": "stdout",
     "output_type": "stream",
     "text": [
      "0  1.51e+03    2.78 |    2.78    0.2    125     0 |   -0.06   0.10   0.17  -0.51\n"
     ]
    },
    {
     "name": "stderr",
     "output_type": "stream",
     "text": [
      "\r",
      " 33%|████████████████████████████                                                        | 1/3 [00:28<00:56, 28.45s/it]"
     ]
    },
    {
     "name": "stdout",
     "output_type": "stream",
     "text": [
      "0  3.02e+03    4.54 |    4.54    0.4    125     0 |   -0.01   0.04   0.17  -0.50\n"
     ]
    },
    {
     "name": "stderr",
     "output_type": "stream",
     "text": [
      "\r",
      " 33%|████████████████████████████                                                        | 1/3 [00:58<01:57, 58.87s/it]"
     ]
    },
    {
     "name": "stdout",
     "output_type": "stream",
     "text": [
      "Reached goals on 1509\n",
      "| UsedTime:      59 | SavedDir: ./trained_models | Total Step: 1509\n",
      "======jim-ppo-recurrent-317-agent-15 Validation from:  2016-01-04 to  2016-07-01\n",
      "Max reward at validation for Reccurent PPO 125.0\n",
      "Model updated:  247197  times\n",
      "======Trading from:  2016-07-05 to  2017-01-03\n",
      "Using device:  cpu\n"
     ]
    },
    {
     "name": "stderr",
     "output_type": "stream",
     "text": [
      "\n"
     ]
    },
    {
     "name": "stdout",
     "output_type": "stream",
     "text": [
      "previous_total_asset:1000000\n",
      "end_total_asset:1040555.25195425\n",
      "total_asset_change:40555.25195425004\n",
      "Total cash is: 10.43204665993214$ and total holdings in stocks are 1040544.81990759$\n",
      "Buy & Hold strategy with previous total asset:  1107583.5885027447\n",
      "Total Cost:  998.9905773759641\n",
      "Sum of rewards  40555.25195425004\n",
      "Total trades:  137\n",
      "Total buy orders are 137 and total sell orders are 0\n",
      "Total days in turbulance:  0\n",
      "Sharpe:  0.12398632345584153\n",
      "Test Finished!\n",
      "episode_return % 0.04059999999999997\n",
      "============================================\n",
      "Agent:  15 / 25\n",
      "{'eval_time_gap': 32, 'batch_size': 32, 'gamma': 0.9, 'learning_rate': 0.01318, 'target_step': 57825, 'net_dimension': 256, 'episode': 3, 'seed': 31}\n",
      "======Model training from:  2010-01-01 to  2016-07-05\n",
      "| Remove cwd: ./trained_models\n",
      "Using device:  cpu\n",
      "################################################################################\n",
      "ID     Step    maxR |    avgR   stdR   avgS  stdS |    expR   objC   etc.\n"
     ]
    },
    {
     "name": "stderr",
     "output_type": "stream",
     "text": [
      "\r",
      "  0%|                                                                                            | 0/3 [00:00<?, ?it/s]"
     ]
    },
    {
     "name": "stdout",
     "output_type": "stream",
     "text": [
      "0  1.64e+03    3.29 |    3.29    1.0    125     0 |   -0.06   0.10   0.16  -0.48\n"
     ]
    },
    {
     "name": "stderr",
     "output_type": "stream",
     "text": [
      "\r",
      " 33%|████████████████████████████                                                        | 1/3 [00:30<01:00, 30.40s/it]"
     ]
    },
    {
     "name": "stdout",
     "output_type": "stream",
     "text": [
      "0  3.27e+03    4.21 |    4.21    0.3    125     0 |   -0.01   0.00   0.19  -0.48\n"
     ]
    },
    {
     "name": "stderr",
     "output_type": "stream",
     "text": [
      "\r",
      " 33%|████████████████████████████                                                        | 1/3 [01:03<02:06, 63.17s/it]"
     ]
    },
    {
     "name": "stdout",
     "output_type": "stream",
     "text": [
      "Reached goals on 1635\n",
      "| UsedTime:      63 | SavedDir: ./trained_models | Total Step: 1635\n",
      "======jim-ppo-recurrent-317-agent-15 Validation from:  2016-07-05 to  2016-12-30\n",
      "Max reward at validation for Reccurent PPO 125.0\n",
      "Model updated:  248014  times\n",
      "======Trading from:  2017-01-03 to  2017-07-05\n",
      "Using device:  cpu\n"
     ]
    },
    {
     "name": "stderr",
     "output_type": "stream",
     "text": [
      "\n"
     ]
    },
    {
     "name": "stdout",
     "output_type": "stream",
     "text": [
      "Saving to  results/account_value_trade_main_jim-ppo-recurrent-317-agent-15.csv\n",
      "previous_total_asset:1040555.25195425\n",
      "end_total_asset:1162258.9050192705\n",
      "total_asset_change:121703.65306502045\n",
      "Total cash is: 9.523946272462126$ and total holdings in stocks are 1162249.381072998$\n",
      "Buy & Hold strategy with previous total asset:  1127470.9039612866\n",
      "Total Cost:  821.8338950252893\n",
      "Sum of rewards  114206.25454585627\n",
      "Total trades:  96\n",
      "Total buy orders are 48 and total sell orders are 48\n",
      "Total days in turbulance:  0\n",
      "Sharpe:  0.3904970880023773\n",
      "Test Finished!\n",
      "episode_return % 0.1623000000000001\n",
      "============================================\n",
      "Agent:  15 / 25\n",
      "{'eval_time_gap': 32, 'batch_size': 32, 'gamma': 0.9, 'learning_rate': 0.01318, 'target_step': 57825, 'net_dimension': 256, 'episode': 3, 'seed': 31}\n",
      "======Model training from:  2010-01-01 to  2017-01-03\n",
      "| Remove cwd: ./trained_models\n",
      "Using device:  cpu\n",
      "################################################################################\n",
      "ID     Step    maxR |    avgR   stdR   avgS  stdS |    expR   objC   etc.\n"
     ]
    },
    {
     "name": "stderr",
     "output_type": "stream",
     "text": [
      "\r",
      "  0%|                                                                                            | 0/3 [00:00<?, ?it/s]"
     ]
    },
    {
     "name": "stdout",
     "output_type": "stream",
     "text": [
      "0  1.76e+03    5.41 |    5.41    0.6    125     0 |   -0.05   0.07   0.10  -0.47\n"
     ]
    },
    {
     "name": "stderr",
     "output_type": "stream",
     "text": [
      "\r",
      "  0%|                                                                                            | 0/3 [00:31<?, ?it/s]"
     ]
    },
    {
     "name": "stdout",
     "output_type": "stream",
     "text": [
      "Reached goals on 1762\n",
      "| UsedTime:      32 | SavedDir: ./trained_models | Total Step: 1762\n",
      "======jim-ppo-recurrent-317-agent-15 Validation from:  2017-01-03 to  2017-07-03\n",
      "Max reward at validation for Reccurent PPO 125.0\n",
      "Model updated:  248454  times\n",
      "======Trading from:  2017-07-05 to  2018-01-03\n",
      "Using device:  cpu\n"
     ]
    },
    {
     "name": "stderr",
     "output_type": "stream",
     "text": [
      "\n"
     ]
    },
    {
     "name": "stdout",
     "output_type": "stream",
     "text": [
      "Saving to  results/account_value_trade_main_jim-ppo-recurrent-317-agent-15.csv\n",
      "previous_total_asset:1162258.9050192705\n",
      "end_total_asset:1446179.0292821317\n",
      "total_asset_change:283920.1242628612\n",
      "Total cash is: 23.280655422813282$ and total holdings in stocks are 1446155.748626709$\n",
      "Buy & Hold strategy with previous total asset:  1351871.4010115024\n",
      "Total Cost:  825.0802030048371\n",
      "Sum of rewards  282212.9279890575\n",
      "Total trades:  94\n",
      "Total buy orders are 55 and total sell orders are 39\n",
      "Total days in turbulance:  0\n",
      "Sharpe:  0.6185499653826428\n",
      "Test Finished!\n",
      "episode_return % 0.44619999999999993\n",
      "============================================\n",
      "Agent:  15 / 25\n",
      "{'eval_time_gap': 32, 'batch_size': 32, 'gamma': 0.9, 'learning_rate': 0.01318, 'target_step': 57825, 'net_dimension': 256, 'episode': 3, 'seed': 31}\n",
      "======Model training from:  2010-01-01 to  2017-07-05\n",
      "| Remove cwd: ./trained_models\n",
      "Using device:  cpu\n",
      "################################################################################\n",
      "ID     Step    maxR |    avgR   stdR   avgS  stdS |    expR   objC   etc.\n"
     ]
    },
    {
     "name": "stderr",
     "output_type": "stream",
     "text": [
      "\r",
      "  0%|                                                                                            | 0/3 [00:00<?, ?it/s]"
     ]
    },
    {
     "name": "stdout",
     "output_type": "stream",
     "text": [
      "0  1.89e+03    3.33 |    3.33    0.3    125     0 |   -0.05   0.17   0.09  -0.50\n"
     ]
    },
    {
     "name": "stderr",
     "output_type": "stream",
     "text": [
      "\r",
      " 33%|████████████████████████████                                                        | 1/3 [00:32<01:04, 32.41s/it]"
     ]
    },
    {
     "name": "stdout",
     "output_type": "stream",
     "text": [
      "0  3.78e+03    4.89 |    4.89    0.4    125     0 |   -0.01   0.00   0.18  -0.50\n"
     ]
    },
    {
     "name": "stderr",
     "output_type": "stream",
     "text": [
      "\r",
      " 33%|████████████████████████████                                                        | 1/3 [01:05<02:11, 65.99s/it]"
     ]
    },
    {
     "name": "stdout",
     "output_type": "stream",
     "text": [
      "Reached goals on 1887\n",
      "| UsedTime:      66 | SavedDir: ./trained_models | Total Step: 1887\n",
      "======jim-ppo-recurrent-317-agent-15 Validation from:  2017-07-05 to  2018-01-02\n",
      "Max reward at validation for Reccurent PPO 125.0\n",
      "Model updated:  249397  times\n",
      "======Trading from:  2018-01-03 to  2018-07-05\n",
      "Using device:  cpu\n"
     ]
    },
    {
     "name": "stderr",
     "output_type": "stream",
     "text": [
      "\n"
     ]
    },
    {
     "name": "stdout",
     "output_type": "stream",
     "text": [
      "Saving to  results/account_value_trade_main_jim-ppo-recurrent-317-agent-15.csv\n",
      "previous_total_asset:1446179.0292821317\n",
      "end_total_asset:1572406.6883294608\n",
      "total_asset_change:126227.6590473291\n",
      "Total cash is: 11.033872368507716$ and total holdings in stocks are 1572395.6544570923$\n",
      "Buy & Hold strategy with previous total asset:  1428785.7049426737\n",
      "Total Cost:  625.8877628211973\n",
      "Sum of rewards  116520.1986705896\n",
      "Total trades:  119\n",
      "Total buy orders are 62 and total sell orders are 57\n",
      "Total days in turbulance:  0\n",
      "Sharpe:  0.10885193425927181\n",
      "Test Finished!\n",
      "episode_return % 0.5724\n",
      "Calculating buy and hold\n",
      "Buy and Hold value is  1475283.0604952318\n",
      "============================================\n",
      "Agent:  15 / 25\n",
      "{'eval_time_gap': 32, 'batch_size': 32, 'gamma': 0.9, 'learning_rate': 0.01318, 'target_step': 57825, 'net_dimension': 256, 'episode': 3, 'seed': 31}\n",
      "======Model training from:  2010-01-01 to  2018-01-03\n",
      "| Remove cwd: ./trained_models\n",
      "Using device:  cpu\n",
      "################################################################################\n",
      "ID     Step    maxR |    avgR   stdR   avgS  stdS |    expR   objC   etc.\n"
     ]
    },
    {
     "name": "stderr",
     "output_type": "stream",
     "text": [
      "\r",
      "  0%|                                                                                            | 0/3 [00:00<?, ?it/s]"
     ]
    },
    {
     "name": "stdout",
     "output_type": "stream",
     "text": [
      "0  2.01e+03   -1.00 |   -1.00    2.2    125     0 |   -0.05   0.06   0.08  -0.52\n"
     ]
    },
    {
     "name": "stderr",
     "output_type": "stream",
     "text": [
      "\r",
      " 33%|████████████████████████████                                                        | 1/3 [00:33<01:06, 33.48s/it]"
     ]
    },
    {
     "name": "stdout",
     "output_type": "stream",
     "text": [
      "0  4.03e+03   -0.39 |   -0.39    0.0    125     0 |    0.00   0.02   0.18  -0.52\n"
     ]
    },
    {
     "name": "stderr",
     "output_type": "stream",
     "text": [
      "\r",
      " 67%|████████████████████████████████████████████████████████                            | 2/3 [01:09<00:34, 34.81s/it]"
     ]
    },
    {
     "name": "stdout",
     "output_type": "stream",
     "text": [
      "0  6.04e+03   -0.15 |   -0.15    0.0    125     0 |   -0.01   0.04   0.46  -0.53\n"
     ]
    },
    {
     "name": "stderr",
     "output_type": "stream",
     "text": [
      "100%|████████████████████████████████████████████████████████████████████████████████████| 3/3 [01:45<00:00, 35.28s/it]\n"
     ]
    },
    {
     "name": "stdout",
     "output_type": "stream",
     "text": [
      "| UsedTime:     106 | SavedDir: ./trained_models | Total Step: 2012\n",
      "======jim-ppo-recurrent-317-agent-15 Validation from:  2018-01-03 to  2018-07-03\n",
      "Max reward at validation for Reccurent PPO 125.0\n",
      "Model updated:  250906  times\n",
      "======Trading from:  2018-07-05 to  2019-01-04\n",
      "Using device:  cpu\n",
      "Saving to  results/account_value_trade_main_jim-ppo-recurrent-317-agent-15.csv\n",
      "previous_total_asset:1572406.6883294608\n",
      "end_total_asset:1459137.2739298332\n",
      "total_asset_change:-113269.4143996276\n",
      "Total cash is: 1.2789537894263958$ and total holdings in stocks are 1459135.9949760437$\n",
      "Buy & Hold strategy with previous total asset:  1524928.2155462787\n",
      "Total Cost:  331.97018957519526\n",
      "Sum of rewards  -120605.91911459342\n",
      "Total trades:  59\n",
      "Total buy orders are 41 and total sell orders are 18\n",
      "Total days in turbulance:  0\n",
      "Sharpe:  -0.07034132084083926\n",
      "Test Finished!\n",
      "episode_return % 0.45910000000000006\n",
      "Calculating buy and hold\n",
      "Buy and Hold value is  1430972.9262496235\n",
      "============================================\n",
      "Agent:  15 / 25\n",
      "{'eval_time_gap': 32, 'batch_size': 32, 'gamma': 0.9, 'learning_rate': 0.01318, 'target_step': 57825, 'net_dimension': 256, 'episode': 3, 'seed': 31}\n",
      "======Model training from:  2010-01-01 to  2018-07-05\n",
      "| Remove cwd: ./trained_models\n",
      "Using device:  cpu\n",
      "################################################################################\n",
      "ID     Step    maxR |    avgR   stdR   avgS  stdS |    expR   objC   etc.\n"
     ]
    },
    {
     "name": "stderr",
     "output_type": "stream",
     "text": [
      "\r",
      "  0%|                                                                                            | 0/3 [00:00<?, ?it/s]"
     ]
    },
    {
     "name": "stdout",
     "output_type": "stream",
     "text": [
      "0  2.14e+03   -0.34 |   -0.34    1.8    125     0 |   -0.05   0.11   0.07  -0.45\n"
     ]
    },
    {
     "name": "stderr",
     "output_type": "stream",
     "text": [
      "\r",
      " 33%|████████████████████████████                                                        | 1/3 [00:35<01:10, 35.49s/it]"
     ]
    },
    {
     "name": "stdout",
     "output_type": "stream",
     "text": [
      "0  4.28e+03   -0.34 |   -0.50    0.0    125     0 |   -0.00   0.03   0.13  -0.45\n"
     ]
    },
    {
     "name": "stderr",
     "output_type": "stream",
     "text": [
      "\r",
      " 67%|████████████████████████████████████████████████████████                            | 2/3 [01:04<00:31, 31.61s/it]"
     ]
    },
    {
     "name": "stdout",
     "output_type": "stream",
     "text": [
      "0  6.42e+03   -0.34 |   -0.63    0.0    125     0 |   -0.01   0.02   0.41  -0.45\n"
     ]
    },
    {
     "name": "stderr",
     "output_type": "stream",
     "text": [
      "100%|████████████████████████████████████████████████████████████████████████████████████| 3/3 [01:34<00:00, 31.45s/it]\n"
     ]
    },
    {
     "name": "stdout",
     "output_type": "stream",
     "text": [
      "| UsedTime:      94 | SavedDir: ./trained_models | Total Step: 2138\n",
      "======jim-ppo-recurrent-317-agent-15 Validation from:  2018-07-05 to  2019-01-03\n",
      "Max reward at validation for Reccurent PPO 125.0\n",
      "Model updated:  252509  times\n",
      "======Trading from:  2019-01-04 to  2019-07-08\n",
      "Using device:  cpu\n",
      "Saving to  results/account_value_trade_main_jim-ppo-recurrent-317-agent-15.csv\n",
      "previous_total_asset:1459137.2739298332\n",
      "end_total_asset:1701691.9517291537\n",
      "total_asset_change:242554.67779932055\n",
      "Total cash is: 1.814735745452765$ and total holdings in stocks are 1701690.1369934082$\n",
      "Buy & Hold strategy with previous total asset:  1693204.7784969895\n",
      "Total Cost:  2317.9059714317323\n",
      "Sum of rewards  185130.43877801928\n",
      "Total trades:  264\n",
      "Total buy orders are 137 and total sell orders are 127\n",
      "Total days in turbulance:  0\n",
      "Sharpe:  0.2410352503347175\n",
      "Test Finished!\n",
      "episode_return % 0.7017\n",
      "Calculating buy and hold\n",
      "Buy and Hold value is  1720448.0172379646\n",
      "Buy and hold bigger than performances\n",
      "Writing hparams:  {'eval_time_gap': 32, 'batch_size': 32, 'gamma': 0.9, 'learning_rate': 0.01318, 'target_step': 57825, 'net_dimension': 256, 'episode': 3, 'seed': 31}\n",
      "value should be one of int, float, str, bool, or torch.Tensor\n",
      "Could not write the haparms {'eval_time_gap': 32, 'batch_size': 32, 'gamma': 0.9, 'learning_rate': 0.01318, 'target_step': 57825, 'net_dimension': 256, 'episode': 3, 'seed': 31} with end total asset of  1701691.9517291537\n",
      "============================================\n",
      "Agent:  16 / 25\n",
      "{'eval_time_gap': 512, 'batch_size': 128, 'gamma': 0.999, 'learning_rate': 0.01277, 'target_step': 86420, 'net_dimension': 256, 'episode': 12, 'seed': 42069}\n",
      "======Model training from:  2010-01-01 to  2016-01-04\n",
      "| Remove cwd: ./trained_models\n",
      "Using device:  cpu\n",
      "################################################################################\n",
      "ID     Step    maxR |    avgR   stdR   avgS  stdS |    expR   objC   etc.\n"
     ]
    },
    {
     "name": "stderr",
     "output_type": "stream",
     "text": [
      "\r",
      "  0%|                                                                                           | 0/12 [00:00<?, ?it/s]"
     ]
    },
    {
     "name": "stdout",
     "output_type": "stream",
     "text": [
      "0  1.51e+03    2.89 |    2.89    0.2    125     0 |   -0.06   0.20   0.36  -0.49\n"
     ]
    },
    {
     "name": "stderr",
     "output_type": "stream",
     "text": [
      "\r",
      "  8%|██████▉                                                                            | 1/12 [00:25<04:42, 25.68s/it]"
     ]
    },
    {
     "name": "stdout",
     "output_type": "stream",
     "text": [
      "0  3.02e+03    2.89 |    1.16    0.0    125     0 |   -0.00   0.07   0.29  -0.50\n"
     ]
    },
    {
     "name": "stderr",
     "output_type": "stream",
     "text": [
      "\r",
      " 17%|█████████████▊                                                                     | 2/12 [00:43<03:32, 21.27s/it]"
     ]
    },
    {
     "name": "stdout",
     "output_type": "stream",
     "text": [
      "0  4.53e+03    2.89 |    2.80    0.1    125     0 |   -0.01   0.04   0.30  -0.50\n"
     ]
    },
    {
     "name": "stderr",
     "output_type": "stream",
     "text": [
      "\r",
      " 25%|████████████████████▊                                                              | 3/12 [01:00<02:53, 19.25s/it]"
     ]
    },
    {
     "name": "stdout",
     "output_type": "stream",
     "text": [
      "0  6.03e+03    2.89 |    1.25    0.0    125     0 |   -0.00   0.00   0.30  -0.50\n"
     ]
    },
    {
     "name": "stderr",
     "output_type": "stream",
     "text": [
      "\r",
      " 33%|███████████████████████████▋                                                       | 4/12 [01:17<02:27, 18.40s/it]"
     ]
    },
    {
     "name": "stdout",
     "output_type": "stream",
     "text": [
      "0  7.54e+03    2.89 |    1.62    0.1    125     0 |   -0.01   0.02   0.31  -0.50\n"
     ]
    },
    {
     "name": "stderr",
     "output_type": "stream",
     "text": [
      "\r",
      " 42%|██████████████████████████████████▌                                                | 5/12 [01:34<02:05, 17.90s/it]"
     ]
    },
    {
     "name": "stdout",
     "output_type": "stream",
     "text": [
      "0  9.04e+03    2.89 |    1.73    0.0    125     0 |   -0.02   0.01   0.31  -0.50\n"
     ]
    },
    {
     "name": "stderr",
     "output_type": "stream",
     "text": [
      "\r",
      " 50%|█████████████████████████████████████████▌                                         | 6/12 [01:52<01:45, 17.66s/it]"
     ]
    },
    {
     "name": "stdout",
     "output_type": "stream",
     "text": [
      "0  1.05e+04    2.89 |    1.43    0.0    125     0 |   -0.02   0.00   0.33  -0.50\n"
     ]
    },
    {
     "name": "stderr",
     "output_type": "stream",
     "text": [
      "\r",
      " 58%|████████████████████████████████████████████████▍                                  | 7/12 [02:10<01:28, 17.80s/it]"
     ]
    },
    {
     "name": "stdout",
     "output_type": "stream",
     "text": [
      "0  1.21e+04    2.89 |    2.25    0.0    125     0 |   -0.01   0.01   0.32  -0.50\n"
     ]
    },
    {
     "name": "stderr",
     "output_type": "stream",
     "text": [
      "\r",
      " 67%|███████████████████████████████████████████████████████▎                           | 8/12 [02:27<01:10, 17.74s/it]"
     ]
    },
    {
     "name": "stdout",
     "output_type": "stream",
     "text": [
      "0  1.36e+04    3.94 |    3.94    0.0    125     0 |    0.00   0.28   0.29  -0.50\n"
     ]
    },
    {
     "name": "stderr",
     "output_type": "stream",
     "text": [
      "\r",
      " 75%|██████████████████████████████████████████████████████████████▎                    | 9/12 [02:53<01:01, 20.39s/it]"
     ]
    },
    {
     "name": "stdout",
     "output_type": "stream",
     "text": [
      "0  1.51e+04    3.94 |    1.88    0.0    125     0 |   -0.01   0.18   0.36  -0.50\n"
     ]
    },
    {
     "name": "stderr",
     "output_type": "stream",
     "text": [
      "\r",
      " 83%|████████████████████████████████████████████████████████████████████▎             | 10/12 [03:11<00:39, 19.54s/it]"
     ]
    },
    {
     "name": "stdout",
     "output_type": "stream",
     "text": [
      "0  1.66e+04    3.94 |    1.42    0.0    125     0 |   -0.01   0.13   0.35  -0.50\n"
     ]
    },
    {
     "name": "stderr",
     "output_type": "stream",
     "text": [
      "\r",
      " 92%|███████████████████████████████████████████████████████████████████████████▏      | 11/12 [03:29<00:18, 18.93s/it]"
     ]
    },
    {
     "name": "stdout",
     "output_type": "stream",
     "text": [
      "0  1.81e+04    3.94 |    2.18    0.0    125     0 |   -0.02   0.04   0.31  -0.50\n"
     ]
    },
    {
     "name": "stderr",
     "output_type": "stream",
     "text": [
      "100%|██████████████████████████████████████████████████████████████████████████████████| 12/12 [03:47<00:00, 18.97s/it]\n"
     ]
    },
    {
     "name": "stdout",
     "output_type": "stream",
     "text": [
      "| UsedTime:     228 | SavedDir: ./trained_models | Total Step: 1499\n",
      "======jim-ppo-recurrent-317-agent-16 Validation from:  2016-01-04 to  2016-07-01\n",
      "Max reward at validation for Reccurent PPO 125.0\n",
      "Model updated:  253632  times\n",
      "======Trading from:  2016-07-05 to  2017-01-03\n",
      "Using device:  cpu\n",
      "previous_total_asset:1000000\n",
      "end_total_asset:1072047.0037295963\n",
      "total_asset_change:72047.00372959627\n",
      "Total cash is: 1.7590377474860972$ and total holdings in stocks are 1072045.2446918488$\n",
      "Buy & Hold strategy with previous total asset:  1107583.5885027447\n",
      "Total Cost:  1838.9672269379046\n",
      "Sum of rewards  72047.00372959627\n",
      "Total trades:  265\n",
      "Total buy orders are 218 and total sell orders are 47\n",
      "Total days in turbulance:  0\n",
      "Sharpe:  0.18991062319600166\n",
      "Test Finished!\n",
      "episode_return % 0.07200000000000006\n",
      "============================================\n",
      "Agent:  16 / 25\n",
      "{'eval_time_gap': 512, 'batch_size': 128, 'gamma': 0.999, 'learning_rate': 0.01277, 'target_step': 86420, 'net_dimension': 256, 'episode': 12, 'seed': 42069}\n",
      "======Model training from:  2010-01-01 to  2016-07-05\n",
      "| Remove cwd: ./trained_models\n",
      "Using device:  cpu\n",
      "################################################################################\n",
      "ID     Step    maxR |    avgR   stdR   avgS  stdS |    expR   objC   etc.\n"
     ]
    },
    {
     "name": "stderr",
     "output_type": "stream",
     "text": [
      "\r",
      "  0%|                                                                                           | 0/12 [00:00<?, ?it/s]"
     ]
    },
    {
     "name": "stdout",
     "output_type": "stream",
     "text": [
      "0  1.64e+03    2.22 |    2.22    1.0    125     0 |   -0.06   0.08   0.38  -0.51\n"
     ]
    },
    {
     "name": "stderr",
     "output_type": "stream",
     "text": [
      "\r",
      "  8%|██████▉                                                                            | 1/12 [00:26<04:56, 26.92s/it]"
     ]
    },
    {
     "name": "stdout",
     "output_type": "stream",
     "text": [
      "0  3.27e+03    3.81 |    3.81    0.3    125     0 |   -0.00   0.00   0.42  -0.51\n"
     ]
    },
    {
     "name": "stderr",
     "output_type": "stream",
     "text": [
      "\r",
      " 17%|█████████████▊                                                                     | 2/12 [00:54<04:31, 27.11s/it]"
     ]
    },
    {
     "name": "stdout",
     "output_type": "stream",
     "text": [
      "0  4.90e+03    3.99 |    3.99    0.1    125     0 |   -0.01   0.01   0.39  -0.51\n"
     ]
    },
    {
     "name": "stderr",
     "output_type": "stream",
     "text": [
      "\r",
      " 25%|████████████████████▊                                                              | 3/12 [01:21<04:05, 27.25s/it]"
     ]
    },
    {
     "name": "stdout",
     "output_type": "stream",
     "text": [
      "0  6.54e+03    3.99 |    3.05    0.1    125     0 |   -0.01   0.00   0.29  -0.51\n"
     ]
    },
    {
     "name": "stderr",
     "output_type": "stream",
     "text": [
      "\r",
      " 33%|███████████████████████████▋                                                       | 4/12 [01:39<03:08, 23.62s/it]"
     ]
    },
    {
     "name": "stdout",
     "output_type": "stream",
     "text": [
      "0  8.17e+03    3.99 |    2.18    0.1    125     0 |   -0.01   0.09   0.25  -0.51\n"
     ]
    },
    {
     "name": "stderr",
     "output_type": "stream",
     "text": [
      "\r",
      " 42%|██████████████████████████████████▌                                                | 5/12 [01:57<02:31, 21.61s/it]"
     ]
    },
    {
     "name": "stdout",
     "output_type": "stream",
     "text": [
      "0  9.80e+03    3.99 |    1.45    0.0    125     0 |   -0.01   0.12   0.37  -0.51\n"
     ]
    },
    {
     "name": "stderr",
     "output_type": "stream",
     "text": [
      "\r",
      " 50%|█████████████████████████████████████████▌                                         | 6/12 [02:15<02:01, 20.31s/it]"
     ]
    },
    {
     "name": "stdout",
     "output_type": "stream",
     "text": [
      "0  1.14e+04    3.99 |    1.07    0.0    125     0 |   -0.00   0.04   0.29  -0.51\n"
     ]
    },
    {
     "name": "stderr",
     "output_type": "stream",
     "text": [
      "\r",
      " 58%|████████████████████████████████████████████████▍                                  | 7/12 [02:33<01:38, 19.66s/it]"
     ]
    },
    {
     "name": "stdout",
     "output_type": "stream",
     "text": [
      "0  1.31e+04    3.99 |    2.59    0.0    125     0 |   -0.00   0.01   0.41  -0.51\n"
     ]
    },
    {
     "name": "stderr",
     "output_type": "stream",
     "text": [
      "\r",
      " 67%|███████████████████████████████████████████████████████▎                           | 8/12 [02:52<01:17, 19.28s/it]"
     ]
    },
    {
     "name": "stdout",
     "output_type": "stream",
     "text": [
      "0  1.47e+04    3.99 |    0.57    0.0    125     0 |   -0.01   0.00   0.27  -0.51\n"
     ]
    },
    {
     "name": "stderr",
     "output_type": "stream",
     "text": [
      "\r",
      " 75%|██████████████████████████████████████████████████████████████▎                    | 9/12 [03:10<00:56, 18.97s/it]"
     ]
    },
    {
     "name": "stdout",
     "output_type": "stream",
     "text": [
      "0  1.63e+04    3.99 |   -1.15    0.0    125     0 |    0.00   0.31   0.35  -0.51\n"
     ]
    },
    {
     "name": "stderr",
     "output_type": "stream",
     "text": [
      "\r",
      " 83%|████████████████████████████████████████████████████████████████████▎             | 10/12 [03:29<00:37, 18.89s/it]"
     ]
    },
    {
     "name": "stdout",
     "output_type": "stream",
     "text": [
      "0  1.79e+04    3.99 |    3.57    0.0    125     0 |   -0.00   0.47   0.30  -0.51\n"
     ]
    },
    {
     "name": "stderr",
     "output_type": "stream",
     "text": [
      "\r",
      " 92%|███████████████████████████████████████████████████████████████████████████▏      | 11/12 [03:48<00:18, 18.92s/it]"
     ]
    },
    {
     "name": "stdout",
     "output_type": "stream",
     "text": [
      "0  1.96e+04    3.99 |    0.54    0.0    125     0 |   -0.01   0.57   0.23  -0.51\n"
     ]
    },
    {
     "name": "stderr",
     "output_type": "stream",
     "text": [
      "100%|██████████████████████████████████████████████████████████████████████████████████| 12/12 [04:07<00:00, 20.61s/it]\n"
     ]
    },
    {
     "name": "stdout",
     "output_type": "stream",
     "text": [
      "| UsedTime:     247 | SavedDir: ./trained_models | Total Step: 1625\n",
      "======jim-ppo-recurrent-317-agent-16 Validation from:  2016-07-05 to  2016-12-30\n",
      "Max reward at validation for Reccurent PPO 125.0\n",
      "Model updated:  254849  times\n",
      "======Trading from:  2017-01-03 to  2017-07-05\n",
      "Using device:  cpu\n",
      "Saving to  results/account_value_trade_main_jim-ppo-recurrent-317-agent-16.csv\n",
      "previous_total_asset:1072047.0037295963\n",
      "end_total_asset:1107314.4785408126\n",
      "total_asset_change:35267.47481121635\n",
      "Total cash is: 22.93284455414937$ and total holdings in stocks are 1107291.5456962585$\n",
      "Buy & Hold strategy with previous total asset:  1161593.1034070065\n",
      "Total Cost:  1485.604183534622\n",
      "Sum of rewards  27943.675017972942\n",
      "Total trades:  206\n",
      "Total buy orders are 118 and total sell orders are 88\n",
      "Total days in turbulance:  0\n",
      "Sharpe:  0.10887278460736777\n",
      "Test Finished!\n",
      "episode_return % 0.10729999999999995\n",
      "============================================\n",
      "Agent:  16 / 25\n",
      "{'eval_time_gap': 512, 'batch_size': 128, 'gamma': 0.999, 'learning_rate': 0.01277, 'target_step': 86420, 'net_dimension': 256, 'episode': 12, 'seed': 42069}\n",
      "======Model training from:  2010-01-01 to  2017-01-03\n",
      "| Remove cwd: ./trained_models\n",
      "Using device:  cpu\n",
      "################################################################################\n",
      "ID     Step    maxR |    avgR   stdR   avgS  stdS |    expR   objC   etc.\n"
     ]
    },
    {
     "name": "stderr",
     "output_type": "stream",
     "text": [
      "\r",
      "  0%|                                                                                           | 0/12 [00:00<?, ?it/s]"
     ]
    },
    {
     "name": "stdout",
     "output_type": "stream",
     "text": [
      "0  1.76e+03    5.07 |    5.07    0.2    125     0 |   -0.05   0.07   0.34  -0.51\n"
     ]
    },
    {
     "name": "stderr",
     "output_type": "stream",
     "text": [
      "\r",
      "  0%|                                                                                           | 0/12 [00:28<?, ?it/s]"
     ]
    },
    {
     "name": "stdout",
     "output_type": "stream",
     "text": [
      "Reached goals on 1762\n",
      "| UsedTime:      29 | SavedDir: ./trained_models | Total Step: 1762\n",
      "======jim-ppo-recurrent-317-agent-16 Validation from:  2017-01-03 to  2017-07-03\n",
      "Max reward at validation for Reccurent PPO 125.0\n",
      "Model updated:  254959  times\n",
      "======Trading from:  2017-07-05 to  2018-01-03\n",
      "Using device:  cpu\n"
     ]
    },
    {
     "name": "stderr",
     "output_type": "stream",
     "text": [
      "\n"
     ]
    },
    {
     "name": "stdout",
     "output_type": "stream",
     "text": [
      "Saving to  results/account_value_trade_main_jim-ppo-recurrent-317-agent-16.csv\n",
      "previous_total_asset:1107314.4785408126\n",
      "end_total_asset:1231034.5237793124\n",
      "total_asset_change:123720.04523849976\n",
      "Total cash is: 6.4628547823269855$ and total holdings in stocks are 1231028.06092453$\n",
      "Buy & Hold strategy with previous total asset:  1287963.2661885\n",
      "Total Cost:  972.9258684152642\n",
      "Sum of rewards  126530.73751831544\n",
      "Total trades:  203\n",
      "Total buy orders are 116 and total sell orders are 87\n",
      "Total days in turbulance:  0\n",
      "Sharpe:  0.318120607944056\n",
      "Test Finished!\n",
      "episode_return % 0.2310000000000001\n",
      "============================================\n",
      "Agent:  16 / 25\n",
      "{'eval_time_gap': 512, 'batch_size': 128, 'gamma': 0.999, 'learning_rate': 0.01277, 'target_step': 86420, 'net_dimension': 256, 'episode': 12, 'seed': 42069}\n",
      "======Model training from:  2010-01-01 to  2017-07-05\n",
      "| Remove cwd: ./trained_models\n",
      "Using device:  cpu\n",
      "################################################################################\n",
      "ID     Step    maxR |    avgR   stdR   avgS  stdS |    expR   objC   etc.\n"
     ]
    },
    {
     "name": "stderr",
     "output_type": "stream",
     "text": [
      "\r",
      "  0%|                                                                                           | 0/12 [00:00<?, ?it/s]"
     ]
    },
    {
     "name": "stdout",
     "output_type": "stream",
     "text": [
      "0  1.89e+03    2.75 |    2.75    0.2    125     0 |   -0.05   0.04   0.33  -0.52\n"
     ]
    },
    {
     "name": "stderr",
     "output_type": "stream",
     "text": [
      "\r",
      "  8%|██████▉                                                                            | 1/12 [00:29<05:25, 29.55s/it]"
     ]
    },
    {
     "name": "stdout",
     "output_type": "stream",
     "text": [
      "0  3.78e+03    4.31 |    4.31    0.2    125     0 |   -0.01   0.11   0.31  -0.52\n"
     ]
    },
    {
     "name": "stderr",
     "output_type": "stream",
     "text": [
      "\r",
      "  8%|██████▉                                                                            | 1/12 [01:00<11:02, 60.26s/it]"
     ]
    },
    {
     "name": "stdout",
     "output_type": "stream",
     "text": [
      "Reached goals on 1887\n",
      "| UsedTime:      60 | SavedDir: ./trained_models | Total Step: 1887\n",
      "======jim-ppo-recurrent-317-agent-16 Validation from:  2017-07-05 to  2018-01-02\n",
      "Max reward at validation for Reccurent PPO 125.0\n",
      "Model updated:  255194  times\n",
      "======Trading from:  2018-01-03 to  2018-07-05\n",
      "Using device:  cpu\n"
     ]
    },
    {
     "name": "stderr",
     "output_type": "stream",
     "text": [
      "\n"
     ]
    },
    {
     "name": "stdout",
     "output_type": "stream",
     "text": [
      "Saving to  results/account_value_trade_main_jim-ppo-recurrent-317-agent-16.csv\n",
      "previous_total_asset:1231034.5237793124\n",
      "end_total_asset:1182618.945803734\n",
      "total_asset_change:-48415.57797557837\n",
      "Total cash is: 8.40223989130891$ and total holdings in stocks are 1182610.5435638428$\n",
      "Buy & Hold strategy with previous total asset:  1216228.761621502\n",
      "Total Cost:  566.020438499451\n",
      "Sum of rewards  -48231.556197471684\n",
      "Total trades:  188\n",
      "Total buy orders are 117 and total sell orders are 71\n",
      "Total days in turbulance:  0\n",
      "Sharpe:  -0.04951864047562005\n",
      "Test Finished!\n",
      "episode_return % 0.1826000000000001\n",
      "Calculating buy and hold\n",
      "Buy and Hold value is  1475283.0604952318\n",
      "Buy and hold bigger than performances\n",
      "Writing hparams:  {'eval_time_gap': 512, 'batch_size': 128, 'gamma': 0.999, 'learning_rate': 0.01277, 'target_step': 86420, 'net_dimension': 256, 'episode': 12, 'seed': 42069}\n",
      "value should be one of int, float, str, bool, or torch.Tensor\n",
      "Could not write the haparms {'eval_time_gap': 512, 'batch_size': 128, 'gamma': 0.999, 'learning_rate': 0.01277, 'target_step': 86420, 'net_dimension': 256, 'episode': 12, 'seed': 42069} with end total asset of  1182618.945803734\n",
      "============================================\n",
      "Agent:  17 / 25\n",
      "{'eval_time_gap': 8, 'batch_size': 8, 'gamma': 0.95, 'learning_rate': {'start': 0.0275, 'end': 0.00034}, 'target_step': 27740, 'net_dimension': 100, 'episode': 9, 'seed': 31}\n",
      "======Model training from:  2010-01-01 to  2016-01-04\n",
      "| Remove cwd: ./trained_models\n",
      "Using device:  cpu\n",
      "################################################################################\n",
      "ID     Step    maxR |    avgR   stdR   avgS  stdS |    expR   objC   etc.\n"
     ]
    },
    {
     "name": "stderr",
     "output_type": "stream",
     "text": [
      "\r",
      "  0%|                                                                                            | 0/9 [00:00<?, ?it/s]"
     ]
    },
    {
     "name": "stdout",
     "output_type": "stream",
     "text": [
      "0  1.51e+03    1.41 |    1.41    0.6    125     0 |   -0.05   0.39   0.40  -0.51\n"
     ]
    },
    {
     "name": "stderr",
     "output_type": "stream",
     "text": [
      "\r",
      " 11%|█████████▎                                                                          | 1/9 [00:35<04:44, 35.62s/it]"
     ]
    },
    {
     "name": "stdout",
     "output_type": "stream",
     "text": [
      "0  3.02e+03    1.41 |    1.21    0.0    125     0 |    0.00   0.03   0.44  -0.51\n"
     ]
    },
    {
     "name": "stderr",
     "output_type": "stream",
     "text": [
      "\r",
      " 22%|██████████████████▋                                                                 | 2/9 [01:06<03:48, 32.67s/it]"
     ]
    },
    {
     "name": "stdout",
     "output_type": "stream",
     "text": [
      "0  4.53e+03    1.41 |    1.21    0.0    125     0 |   -0.01   0.05   0.33  -0.51\n"
     ]
    },
    {
     "name": "stderr",
     "output_type": "stream",
     "text": [
      "\r",
      " 33%|████████████████████████████                                                        | 3/9 [01:37<03:10, 31.81s/it]"
     ]
    },
    {
     "name": "stdout",
     "output_type": "stream",
     "text": [
      "0  6.03e+03    1.41 |    1.16    0.0    125     0 |   -0.01   0.11   0.30  -0.51\n"
     ]
    },
    {
     "name": "stderr",
     "output_type": "stream",
     "text": [
      "\r",
      " 44%|█████████████████████████████████████▎                                              | 4/9 [02:07<02:37, 31.44s/it]"
     ]
    },
    {
     "name": "stdout",
     "output_type": "stream",
     "text": [
      "0  7.54e+03    1.41 |    1.13    0.0    125     0 |   -0.01   0.11   0.35  -0.50\n"
     ]
    },
    {
     "name": "stderr",
     "output_type": "stream",
     "text": [
      "\r",
      " 56%|██████████████████████████████████████████████▋                                     | 5/9 [02:38<02:04, 31.19s/it]"
     ]
    },
    {
     "name": "stdout",
     "output_type": "stream",
     "text": [
      "0  9.04e+03    1.51 |    1.51    0.0    125     0 |   -0.02   0.13   0.44  -0.51\n"
     ]
    },
    {
     "name": "stderr",
     "output_type": "stream",
     "text": [
      "\r",
      " 67%|████████████████████████████████████████████████████████                            | 6/9 [03:18<01:42, 34.20s/it]"
     ]
    },
    {
     "name": "stdout",
     "output_type": "stream",
     "text": [
      "0  1.05e+04    1.51 |    1.24    0.0    125     0 |   -0.01   0.10   0.38  -0.51\n"
     ]
    },
    {
     "name": "stderr",
     "output_type": "stream",
     "text": [
      "\r",
      " 78%|█████████████████████████████████████████████████████████████████▎                  | 7/9 [03:49<01:06, 33.13s/it]"
     ]
    },
    {
     "name": "stdout",
     "output_type": "stream",
     "text": [
      "0  1.21e+04    2.55 |    2.55    0.0    125     0 |    0.00   0.06   0.60  -0.51\n"
     ]
    },
    {
     "name": "stderr",
     "output_type": "stream",
     "text": [
      "\r",
      " 89%|██████████████████████████████████████████████████████████████████████████▋         | 8/9 [04:29<00:35, 35.33s/it]"
     ]
    },
    {
     "name": "stdout",
     "output_type": "stream",
     "text": [
      "0  1.36e+04    3.36 |    3.36    0.0    125     0 |   -0.01   0.08   0.28  -0.52\n"
     ]
    },
    {
     "name": "stderr",
     "output_type": "stream",
     "text": [
      "100%|████████████████████████████████████████████████████████████████████████████████████| 9/9 [05:10<00:00, 34.49s/it]\n"
     ]
    },
    {
     "name": "stdout",
     "output_type": "stream",
     "text": [
      "| UsedTime:     310 | SavedDir: ./trained_models | Total Step: 1502\n",
      "======jim-ppo-recurrent-317-agent-17 Validation from:  2016-01-04 to  2016-07-01\n",
      "Max reward at validation for Reccurent PPO 125.0\n",
      "Model updated:  268748  times\n",
      "======Trading from:  2016-07-05 to  2017-01-03\n",
      "Using device:  cpu\n",
      "previous_total_asset:1000000\n",
      "end_total_asset:1065299.9468096409\n",
      "total_asset_change:65299.94680964085\n",
      "Total cash is: 16.378404489544785$ and total holdings in stocks are 1065283.5684051514$\n",
      "Buy & Hold strategy with previous total asset:  1107583.5885027447\n",
      "Total Cost:  2298.811859258652\n",
      "Sum of rewards  65299.94680964085\n",
      "Total trades:  347\n",
      "Total buy orders are 262 and total sell orders are 85\n",
      "Total days in turbulance:  0\n",
      "Sharpe:  0.17749299008982458\n",
      "Test Finished!\n",
      "episode_return % 0.06529999999999991\n",
      "============================================\n",
      "Agent:  17 / 25\n",
      "{'eval_time_gap': 8, 'batch_size': 8, 'gamma': 0.95, 'learning_rate': {'start': 0.0275, 'end': 0.00034}, 'target_step': 27740, 'net_dimension': 100, 'episode': 9, 'seed': 31}\n",
      "======Model training from:  2010-01-01 to  2016-07-05\n",
      "| Remove cwd: ./trained_models\n",
      "Using device:  cpu\n",
      "################################################################################\n",
      "ID     Step    maxR |    avgR   stdR   avgS  stdS |    expR   objC   etc.\n"
     ]
    },
    {
     "name": "stderr",
     "output_type": "stream",
     "text": [
      "\r",
      "  0%|                                                                                            | 0/9 [00:00<?, ?it/s]"
     ]
    },
    {
     "name": "stdout",
     "output_type": "stream",
     "text": [
      "0  1.64e+03    4.73 |    4.73    1.9    125     0 |   -0.05   0.25   0.00  -0.57\n"
     ]
    },
    {
     "name": "stderr",
     "output_type": "stream",
     "text": [
      "\r",
      "  0%|                                                                                            | 0/9 [00:39<?, ?it/s]"
     ]
    },
    {
     "name": "stdout",
     "output_type": "stream",
     "text": [
      "Reached goals on 1636\n",
      "| UsedTime:      39 | SavedDir: ./trained_models | Total Step: 1636\n",
      "======jim-ppo-recurrent-317-agent-17 Validation from:  2016-07-05 to  2016-12-30\n",
      "Max reward at validation for Reccurent PPO 125.0\n",
      "Model updated:  270384  times\n",
      "======Trading from:  2017-01-03 to  2017-07-05\n",
      "Using device:  cpu\n"
     ]
    },
    {
     "name": "stderr",
     "output_type": "stream",
     "text": [
      "\n"
     ]
    },
    {
     "name": "stdout",
     "output_type": "stream",
     "text": [
      "Saving to  results/account_value_trade_main_jim-ppo-recurrent-317-agent-17.csv\n",
      "previous_total_asset:1065299.9468096409\n",
      "end_total_asset:1158290.3373684464\n",
      "total_asset_change:92990.39055880555\n",
      "Total cash is: -2.048621095652379$ and total holdings in stocks are 1158292.3859895421$\n",
      "Buy & Hold strategy with previous total asset:  1154282.4773250818\n",
      "Total Cost:  2222.9361137742844\n",
      "Sum of rewards  83655.44562396058\n",
      "Total trades:  382\n",
      "Total buy orders are 217 and total sell orders are 165\n",
      "Total days in turbulance:  0\n",
      "Sharpe:  0.22449622895405635\n",
      "Test Finished!\n",
      "episode_return % 0.1583000000000001\n",
      "============================================\n",
      "Agent:  17 / 25\n",
      "{'eval_time_gap': 8, 'batch_size': 8, 'gamma': 0.95, 'learning_rate': {'start': 0.0275, 'end': 0.00034}, 'target_step': 27740, 'net_dimension': 100, 'episode': 9, 'seed': 31}\n",
      "======Model training from:  2010-01-01 to  2017-01-03\n",
      "| Remove cwd: ./trained_models\n",
      "Using device:  cpu\n",
      "################################################################################\n",
      "ID     Step    maxR |    avgR   stdR   avgS  stdS |    expR   objC   etc.\n"
     ]
    },
    {
     "name": "stderr",
     "output_type": "stream",
     "text": [
      "\r",
      "  0%|                                                                                            | 0/9 [00:00<?, ?it/s]"
     ]
    },
    {
     "name": "stdout",
     "output_type": "stream",
     "text": [
      "0  1.76e+03    5.82 |    5.82    2.0    125     0 |   -0.05   0.39   0.06  -0.44\n"
     ]
    },
    {
     "name": "stderr",
     "output_type": "stream",
     "text": [
      "\r",
      "  0%|                                                                                            | 0/9 [00:41<?, ?it/s]"
     ]
    },
    {
     "name": "stdout",
     "output_type": "stream",
     "text": [
      "Reached goals on 1762\n",
      "| UsedTime:      42 | SavedDir: ./trained_models | Total Step: 1762\n",
      "======jim-ppo-recurrent-317-agent-17 Validation from:  2017-01-03 to  2017-07-03\n",
      "Max reward at validation for Reccurent PPO 125.0\n",
      "Model updated:  272146  times\n",
      "======Trading from:  2017-07-05 to  2018-01-03\n",
      "Using device:  cpu\n"
     ]
    },
    {
     "name": "stderr",
     "output_type": "stream",
     "text": [
      "\n"
     ]
    },
    {
     "name": "stdout",
     "output_type": "stream",
     "text": [
      "Saving to  results/account_value_trade_main_jim-ppo-recurrent-317-agent-17.csv\n",
      "previous_total_asset:1158290.3373684464\n",
      "end_total_asset:1315547.4231874242\n",
      "total_asset_change:157257.0858189778\n",
      "Total cash is: 14.691391159557725$ and total holdings in stocks are 1315532.7317962646$\n",
      "Buy & Hold strategy with previous total asset:  1347255.3958452183\n",
      "Total Cost:  875.9253545567228\n",
      "Sum of rewards  152912.48916684743\n",
      "Total trades:  115\n",
      "Total buy orders are 82 and total sell orders are 33\n",
      "Total days in turbulance:  0\n",
      "Sharpe:  0.4140862502931587\n",
      "Test Finished!\n",
      "episode_return % 0.3154999999999999\n",
      "============================================\n",
      "Agent:  17 / 25\n",
      "{'eval_time_gap': 8, 'batch_size': 8, 'gamma': 0.95, 'learning_rate': {'start': 0.0275, 'end': 0.00034}, 'target_step': 27740, 'net_dimension': 100, 'episode': 9, 'seed': 31}\n",
      "======Model training from:  2010-01-01 to  2017-07-05\n",
      "| Remove cwd: ./trained_models\n",
      "Using device:  cpu\n",
      "################################################################################\n",
      "ID     Step    maxR |    avgR   stdR   avgS  stdS |    expR   objC   etc.\n"
     ]
    },
    {
     "name": "stderr",
     "output_type": "stream",
     "text": [
      "\r",
      "  0%|                                                                                            | 0/9 [00:00<?, ?it/s]"
     ]
    },
    {
     "name": "stdout",
     "output_type": "stream",
     "text": [
      "0  1.89e+03    4.92 |    4.92    1.5    125     0 |   -0.05   0.22   0.77  -0.51\n"
     ]
    },
    {
     "name": "stderr",
     "output_type": "stream",
     "text": [
      "\r",
      "  0%|                                                                                            | 0/9 [00:43<?, ?it/s]"
     ]
    },
    {
     "name": "stdout",
     "output_type": "stream",
     "text": [
      "Reached goals on 1888\n",
      "| UsedTime:      43 | SavedDir: ./trained_models | Total Step: 1888\n",
      "======jim-ppo-recurrent-317-agent-17 Validation from:  2017-07-05 to  2018-01-02\n",
      "Max reward at validation for Reccurent PPO 125.0\n",
      "Model updated:  274034  times\n",
      "======Trading from:  2018-01-03 to  2018-07-05\n",
      "Using device:  cpu\n"
     ]
    },
    {
     "name": "stderr",
     "output_type": "stream",
     "text": [
      "\n"
     ]
    },
    {
     "name": "stdout",
     "output_type": "stream",
     "text": [
      "Saving to  results/account_value_trade_main_jim-ppo-recurrent-317-agent-17.csv\n",
      "previous_total_asset:1315547.4231874242\n",
      "end_total_asset:1389031.3541095154\n",
      "total_asset_change:73483.93092209124\n",
      "Total cash is: 14.879473437587421$ and total holdings in stocks are 1389016.4746360779$\n",
      "Buy & Hold strategy with previous total asset:  1299725.2168408174\n",
      "Total Cost:  1445.1849502801767\n",
      "Sum of rewards  71512.84695297503\n",
      "Total trades:  236\n",
      "Total buy orders are 154 and total sell orders are 82\n",
      "Total days in turbulance:  0\n",
      "Sharpe:  0.08537000055883527\n",
      "Test Finished!\n",
      "episode_return % 0.389\n",
      "Calculating buy and hold\n",
      "Buy and Hold value is  1475283.0604952318\n",
      "Buy and hold bigger than performances\n",
      "Writing hparams:  {'eval_time_gap': 8, 'batch_size': 8, 'gamma': 0.95, 'learning_rate': {'start': 0.0275, 'end': 0.00034}, 'target_step': 27740, 'net_dimension': 100, 'episode': 9, 'seed': 31}\n",
      "value should be one of int, float, str, bool, or torch.Tensor\n",
      "Could not write the haparms {'eval_time_gap': 8, 'batch_size': 8, 'gamma': 0.95, 'learning_rate': {'start': 0.0275, 'end': 0.00034}, 'target_step': 27740, 'net_dimension': 100, 'episode': 9, 'seed': 31} with end total asset of  1389031.3541095154\n",
      "============================================\n",
      "Agent:  18 / 25\n",
      "{'eval_time_gap': 16, 'batch_size': 16, 'gamma': 0.98, 'learning_rate': 0.0091, 'target_step': 59038, 'net_dimension': 100, 'episode': 8, 'seed': 42069}\n",
      "======Model training from:  2010-01-01 to  2016-01-04\n",
      "| Remove cwd: ./trained_models\n",
      "Using device:  cpu\n",
      "################################################################################\n",
      "ID     Step    maxR |    avgR   stdR   avgS  stdS |    expR   objC   etc.\n"
     ]
    },
    {
     "name": "stderr",
     "output_type": "stream",
     "text": [
      "\r",
      "  0%|                                                                                            | 0/8 [00:00<?, ?it/s]"
     ]
    },
    {
     "name": "stdout",
     "output_type": "stream",
     "text": [
      "0  1.51e+03    2.97 |    2.97    1.8    125     0 |   -0.05   0.05  -0.17  -0.50\n"
     ]
    },
    {
     "name": "stderr",
     "output_type": "stream",
     "text": [
      "\r",
      " 12%|██████████▌                                                                         | 1/8 [00:29<03:26, 29.54s/it]"
     ]
    },
    {
     "name": "stdout",
     "output_type": "stream",
     "text": [
      "0  3.02e+03    3.26 |    3.26    0.8    125     0 |   -0.01   0.00   0.13  -0.49\n"
     ]
    },
    {
     "name": "stderr",
     "output_type": "stream",
     "text": [
      "\r",
      " 25%|█████████████████████                                                               | 2/8 [01:00<03:01, 30.28s/it]"
     ]
    },
    {
     "name": "stdout",
     "output_type": "stream",
     "text": [
      "0  4.53e+03    3.26 |    2.08    0.0    125     0 |   -0.00   0.01   0.16  -0.50\n"
     ]
    },
    {
     "name": "stderr",
     "output_type": "stream",
     "text": [
      "\r",
      " 38%|███████████████████████████████▌                                                    | 3/8 [01:22<02:12, 26.52s/it]"
     ]
    },
    {
     "name": "stdout",
     "output_type": "stream",
     "text": [
      "0  6.03e+03    3.26 |    1.24    0.1    125     0 |   -0.01   0.19   0.18  -0.50\n"
     ]
    },
    {
     "name": "stderr",
     "output_type": "stream",
     "text": [
      "\r",
      " 50%|██████████████████████████████████████████                                          | 4/8 [01:44<01:38, 24.68s/it]"
     ]
    },
    {
     "name": "stdout",
     "output_type": "stream",
     "text": [
      "0  7.54e+03    3.26 |    1.76    0.0    125     0 |   -0.02   0.20   0.56  -0.50\n"
     ]
    },
    {
     "name": "stderr",
     "output_type": "stream",
     "text": [
      "\r",
      " 62%|████████████████████████████████████████████████████▌                               | 5/8 [02:07<01:11, 24.00s/it]"
     ]
    },
    {
     "name": "stdout",
     "output_type": "stream",
     "text": [
      "0  9.04e+03    3.26 |    2.09    0.0    125     0 |    0.00   0.10   0.27  -0.50\n"
     ]
    },
    {
     "name": "stderr",
     "output_type": "stream",
     "text": [
      "\r",
      " 75%|███████████████████████████████████████████████████████████████                     | 6/8 [02:30<00:47, 23.77s/it]"
     ]
    },
    {
     "name": "stdout",
     "output_type": "stream",
     "text": [
      "0  1.05e+04    3.26 |    0.60    0.0    125     0 |    0.00   0.03   0.42  -0.50\n"
     ]
    },
    {
     "name": "stderr",
     "output_type": "stream",
     "text": [
      "\r",
      " 88%|█████████████████████████████████████████████████████████████████████████▌          | 7/8 [02:53<00:23, 23.52s/it]"
     ]
    },
    {
     "name": "stdout",
     "output_type": "stream",
     "text": [
      "0  1.21e+04    3.26 |    2.19    0.0    125     0 |   -0.00   0.13   0.46  -0.50\n"
     ]
    },
    {
     "name": "stderr",
     "output_type": "stream",
     "text": [
      "100%|████████████████████████████████████████████████████████████████████████████████████| 8/8 [03:16<00:00, 24.55s/it]\n"
     ]
    },
    {
     "name": "stdout",
     "output_type": "stream",
     "text": [
      "| UsedTime:     196 | SavedDir: ./trained_models | Total Step: 1503\n",
      "======jim-ppo-recurrent-317-agent-18 Validation from:  2016-01-04 to  2016-07-01\n",
      "Max reward at validation for Reccurent PPO 125.0\n",
      "Model updated:  280058  times\n",
      "======Trading from:  2016-07-05 to  2017-01-03\n",
      "Using device:  cpu\n",
      "previous_total_asset:1000000\n",
      "end_total_asset:1090138.8583230583\n",
      "total_asset_change:90138.85832305835\n",
      "Total cash is: 6.574615394144985$ and total holdings in stocks are 1090132.283707664$\n",
      "Buy & Hold strategy with previous total asset:  1107583.5885027447\n",
      "Total Cost:  1212.6470280408107\n",
      "Sum of rewards  90138.85832305835\n",
      "Total trades:  161\n",
      "Total buy orders are 154 and total sell orders are 7\n",
      "Total days in turbulance:  0\n",
      "Sharpe:  0.2625599754484565\n",
      "Test Finished!\n",
      "episode_return % 0.09010000000000007\n",
      "============================================\n",
      "Agent:  18 / 25\n",
      "{'eval_time_gap': 16, 'batch_size': 16, 'gamma': 0.98, 'learning_rate': 0.0091, 'target_step': 59038, 'net_dimension': 100, 'episode': 8, 'seed': 42069}\n",
      "======Model training from:  2010-01-01 to  2016-07-05\n",
      "| Remove cwd: ./trained_models\n",
      "Using device:  cpu\n",
      "################################################################################\n",
      "ID     Step    maxR |    avgR   stdR   avgS  stdS |    expR   objC   etc.\n"
     ]
    },
    {
     "name": "stderr",
     "output_type": "stream",
     "text": [
      "\r",
      "  0%|                                                                                            | 0/8 [00:00<?, ?it/s]"
     ]
    },
    {
     "name": "stdout",
     "output_type": "stream",
     "text": [
      "0  1.64e+03    1.33 |    1.33    0.2    125     0 |   -0.05   0.01  -0.11  -0.51\n"
     ]
    },
    {
     "name": "stderr",
     "output_type": "stream",
     "text": [
      "\r",
      " 12%|██████████▌                                                                         | 1/8 [00:30<03:33, 30.48s/it]"
     ]
    },
    {
     "name": "stdout",
     "output_type": "stream",
     "text": [
      "0  3.27e+03    3.72 |    3.72    0.3    125     0 |   -0.00   0.03   0.15  -0.50\n"
     ]
    },
    {
     "name": "stderr",
     "output_type": "stream",
     "text": [
      "\r",
      " 25%|█████████████████████                                                               | 2/8 [01:03<03:10, 31.74s/it]"
     ]
    },
    {
     "name": "stdout",
     "output_type": "stream",
     "text": [
      "0  4.90e+03    3.72 |    3.02    0.1    125     0 |   -0.01   0.10   0.48  -0.45\n"
     ]
    },
    {
     "name": "stderr",
     "output_type": "stream",
     "text": [
      "\r",
      " 38%|███████████████████████████████▌                                                    | 3/8 [01:26<02:20, 28.05s/it]"
     ]
    },
    {
     "name": "stdout",
     "output_type": "stream",
     "text": [
      "0  6.54e+03    4.43 |    4.43    0.2    125     0 |   -0.02   0.11   0.25  -0.45\n"
     ]
    },
    {
     "name": "stderr",
     "output_type": "stream",
     "text": [
      "\r",
      " 38%|███████████████████████████████▌                                                    | 3/8 [01:59<03:19, 39.94s/it]"
     ]
    },
    {
     "name": "stdout",
     "output_type": "stream",
     "text": [
      "Reached goals on 1633\n",
      "| UsedTime:     120 | SavedDir: ./trained_models | Total Step: 1633\n",
      "======jim-ppo-recurrent-317-agent-18 Validation from:  2016-07-05 to  2016-12-30\n",
      "Max reward at validation for Reccurent PPO 125.0\n",
      "Model updated:  283326  times\n",
      "======Trading from:  2017-01-03 to  2017-07-05\n",
      "Using device:  cpu\n"
     ]
    },
    {
     "name": "stderr",
     "output_type": "stream",
     "text": [
      "\n"
     ]
    },
    {
     "name": "stdout",
     "output_type": "stream",
     "text": [
      "Saving to  results/account_value_trade_main_jim-ppo-recurrent-317-agent-18.csv\n",
      "previous_total_asset:1090138.8583230583\n",
      "end_total_asset:1180195.0548098213\n",
      "total_asset_change:90056.19648676296\n",
      "Total cash is: 3.842135660451227$ and total holdings in stocks are 1180191.212674161$\n",
      "Buy & Hold strategy with previous total asset:  1181196.1370897617\n",
      "Total Cost:  2343.380792230403\n",
      "Sum of rewards  82462.07073775958\n",
      "Total trades:  831\n",
      "Total buy orders are 319 and total sell orders are 512\n",
      "Total days in turbulance:  0\n",
      "Sharpe:  0.20751595612904905\n",
      "Test Finished!\n",
      "episode_return % 0.18019999999999992\n",
      "============================================\n",
      "Agent:  18 / 25\n",
      "{'eval_time_gap': 16, 'batch_size': 16, 'gamma': 0.98, 'learning_rate': 0.0091, 'target_step': 59038, 'net_dimension': 100, 'episode': 8, 'seed': 42069}\n",
      "======Model training from:  2010-01-01 to  2017-01-03\n",
      "| Remove cwd: ./trained_models\n",
      "Using device:  cpu\n",
      "################################################################################\n",
      "ID     Step    maxR |    avgR   stdR   avgS  stdS |    expR   objC   etc.\n"
     ]
    },
    {
     "name": "stderr",
     "output_type": "stream",
     "text": [
      "\r",
      "  0%|                                                                                            | 0/8 [00:00<?, ?it/s]"
     ]
    },
    {
     "name": "stdout",
     "output_type": "stream",
     "text": [
      "0  1.76e+03    4.92 |    4.92    1.8    125     0 |   -0.05   0.08   0.46  -0.48\n"
     ]
    },
    {
     "name": "stderr",
     "output_type": "stream",
     "text": [
      "\r",
      "  0%|                                                                                            | 0/8 [00:31<?, ?it/s]"
     ]
    },
    {
     "name": "stdout",
     "output_type": "stream",
     "text": [
      "Reached goals on 1762\n",
      "| UsedTime:      32 | SavedDir: ./trained_models | Total Step: 1762\n",
      "======jim-ppo-recurrent-317-agent-18 Validation from:  2017-01-03 to  2017-07-03\n",
      "Max reward at validation for Reccurent PPO 125.0\n",
      "Model updated:  284207  times\n",
      "======Trading from:  2017-07-05 to  2018-01-03\n",
      "Using device:  cpu\n"
     ]
    },
    {
     "name": "stderr",
     "output_type": "stream",
     "text": [
      "\n"
     ]
    },
    {
     "name": "stdout",
     "output_type": "stream",
     "text": [
      "Saving to  results/account_value_trade_main_jim-ppo-recurrent-317-agent-18.csv\n",
      "previous_total_asset:1180195.0548098213\n",
      "end_total_asset:1390459.2979952453\n",
      "total_asset_change:210264.243185424\n",
      "Total cash is: 5.952105220859252$ and total holdings in stocks are 1390453.3458900244$\n",
      "Buy & Hold strategy with previous total asset:  1372733.67863432\n",
      "Total Cost:  1276.7284796697081\n",
      "Sum of rewards  215478.83728537685\n",
      "Total trades:  911\n",
      "Total buy orders are 323 and total sell orders are 588\n",
      "Total days in turbulance:  0\n",
      "Sharpe:  0.5060620604284459\n",
      "Test Finished!\n",
      "episode_return % 0.39050000000000007\n",
      "============================================\n",
      "Agent:  18 / 25\n",
      "{'eval_time_gap': 16, 'batch_size': 16, 'gamma': 0.98, 'learning_rate': 0.0091, 'target_step': 59038, 'net_dimension': 100, 'episode': 8, 'seed': 42069}\n",
      "======Model training from:  2010-01-01 to  2017-07-05\n",
      "| Remove cwd: ./trained_models\n",
      "Using device:  cpu\n",
      "################################################################################\n",
      "ID     Step    maxR |    avgR   stdR   avgS  stdS |    expR   objC   etc.\n"
     ]
    },
    {
     "name": "stderr",
     "output_type": "stream",
     "text": [
      "\r",
      "  0%|                                                                                            | 0/8 [00:00<?, ?it/s]"
     ]
    },
    {
     "name": "stdout",
     "output_type": "stream",
     "text": [
      "0  1.89e+03    3.97 |    3.97    1.2    125     0 |   -0.05   0.06   0.37  -0.49\n"
     ]
    },
    {
     "name": "stderr",
     "output_type": "stream",
     "text": [
      "\r",
      " 12%|██████████▌                                                                         | 1/8 [00:33<03:57, 33.90s/it]"
     ]
    },
    {
     "name": "stdout",
     "output_type": "stream",
     "text": [
      "0  3.78e+03    3.97 |    3.30    0.1    125     0 |   -0.01   0.02   0.16  -0.50\n"
     ]
    },
    {
     "name": "stderr",
     "output_type": "stream",
     "text": [
      "\r",
      " 25%|█████████████████████                                                               | 2/8 [01:00<02:58, 29.82s/it]"
     ]
    },
    {
     "name": "stdout",
     "output_type": "stream",
     "text": [
      "0  5.66e+03    3.97 |    3.17    0.0    125     0 |   -0.00   0.05   0.49  -0.50\n"
     ]
    },
    {
     "name": "stderr",
     "output_type": "stream",
     "text": [
      "\r",
      " 38%|███████████████████████████████▌                                                    | 3/8 [01:28<02:23, 28.69s/it]"
     ]
    },
    {
     "name": "stdout",
     "output_type": "stream",
     "text": [
      "0  7.55e+03    3.97 |    3.00    0.0    125     0 |   -0.01   0.15   0.44  -0.50\n"
     ]
    },
    {
     "name": "stderr",
     "output_type": "stream",
     "text": [
      "\r",
      " 50%|██████████████████████████████████████████                                          | 4/8 [01:56<01:54, 28.56s/it]"
     ]
    },
    {
     "name": "stdout",
     "output_type": "stream",
     "text": [
      "0  9.43e+03    3.97 |    3.81    0.0    125     0 |   -0.02   0.19   0.35  -0.50\n"
     ]
    },
    {
     "name": "stderr",
     "output_type": "stream",
     "text": [
      "\r",
      " 62%|████████████████████████████████████████████████████▌                               | 5/8 [02:24<01:25, 28.43s/it]"
     ]
    },
    {
     "name": "stdout",
     "output_type": "stream",
     "text": [
      "0  1.13e+04    3.97 |    2.75    0.0    125     0 |   -0.02   0.36   0.29  -0.50\n"
     ]
    },
    {
     "name": "stderr",
     "output_type": "stream",
     "text": [
      "\r",
      " 75%|███████████████████████████████████████████████████████████████                     | 6/8 [02:53<00:57, 28.58s/it]"
     ]
    },
    {
     "name": "stdout",
     "output_type": "stream",
     "text": [
      "0  1.32e+04    3.97 |    3.67    0.0    125     0 |   -0.01   0.20   0.32  -0.50\n"
     ]
    },
    {
     "name": "stderr",
     "output_type": "stream",
     "text": [
      "\r",
      " 88%|█████████████████████████████████████████████████████████████████████████▌          | 7/8 [03:22<00:28, 28.57s/it]"
     ]
    },
    {
     "name": "stdout",
     "output_type": "stream",
     "text": [
      "0  1.51e+04    3.97 |    3.36    0.0    125     0 |   -0.01   0.19   0.50  -0.50\n"
     ]
    },
    {
     "name": "stderr",
     "output_type": "stream",
     "text": [
      "100%|████████████████████████████████████████████████████████████████████████████████████| 8/8 [03:50<00:00, 28.80s/it]\n"
     ]
    },
    {
     "name": "stdout",
     "output_type": "stream",
     "text": [
      "| UsedTime:     230 | SavedDir: ./trained_models | Total Step: 1881\n",
      "======jim-ppo-recurrent-317-agent-18 Validation from:  2017-07-05 to  2018-01-02\n",
      "Max reward at validation for Reccurent PPO 125.0\n",
      "Model updated:  291743  times\n",
      "======Trading from:  2018-01-03 to  2018-07-05\n",
      "Using device:  cpu\n",
      "Saving to  results/account_value_trade_main_jim-ppo-recurrent-317-agent-18.csv\n",
      "previous_total_asset:1390459.2979952453\n",
      "end_total_asset:1324981.1480770526\n",
      "total_asset_change:-65478.149918192765\n",
      "Total cash is: 18.75684851722599$ and total holdings in stocks are 1324962.3912285352$\n",
      "Buy & Hold strategy with previous total asset:  1373736.1198401514\n",
      "Total Cost:  3752.537892593164\n",
      "Sum of rewards  -75541.23193433881\n",
      "Total trades:  459\n",
      "Total buy orders are 246 and total sell orders are 213\n",
      "Total days in turbulance:  0\n",
      "Sharpe:  -0.05129393736872215\n",
      "Test Finished!\n",
      "episode_return % 0.32499999999999996\n",
      "Calculating buy and hold\n",
      "Buy and Hold value is  1475283.0604952318\n",
      "Buy and hold bigger than performances\n",
      "Writing hparams:  {'eval_time_gap': 16, 'batch_size': 16, 'gamma': 0.98, 'learning_rate': 0.0091, 'target_step': 59038, 'net_dimension': 100, 'episode': 8, 'seed': 42069}\n",
      "value should be one of int, float, str, bool, or torch.Tensor\n",
      "Could not write the haparms {'eval_time_gap': 16, 'batch_size': 16, 'gamma': 0.98, 'learning_rate': 0.0091, 'target_step': 59038, 'net_dimension': 100, 'episode': 8, 'seed': 42069} with end total asset of  1324981.1480770526\n",
      "============================================\n",
      "Agent:  19 / 25\n",
      "{'eval_time_gap': 8, 'batch_size': 8, 'gamma': 0.9999, 'learning_rate': 0.00414, 'target_step': 12555, 'net_dimension': 100, 'episode': 13, 'seed': 42069}\n",
      "======Model training from:  2010-01-01 to  2016-01-04\n",
      "| Remove cwd: ./trained_models\n",
      "Using device:  cpu\n",
      "################################################################################\n",
      "ID     Step    maxR |    avgR   stdR   avgS  stdS |    expR   objC   etc.\n"
     ]
    },
    {
     "name": "stderr",
     "output_type": "stream",
     "text": [
      "\r",
      "  0%|                                                                                           | 0/13 [00:00<?, ?it/s]"
     ]
    },
    {
     "name": "stdout",
     "output_type": "stream",
     "text": [
      "0  1.51e+03    2.53 |    2.53    0.5    125     0 |   -0.05   0.07  -0.18  -0.51\n"
     ]
    },
    {
     "name": "stderr",
     "output_type": "stream",
     "text": [
      "\r",
      "  8%|██████▍                                                                            | 1/13 [00:34<06:54, 34.56s/it]"
     ]
    },
    {
     "name": "stdout",
     "output_type": "stream",
     "text": [
      "0  3.02e+03    2.53 |    1.54    0.0    125     0 |   -0.00   0.00   0.39  -0.51\n"
     ]
    },
    {
     "name": "stderr",
     "output_type": "stream",
     "text": [
      "\r",
      " 15%|████████████▊                                                                      | 2/13 [01:02<05:36, 30.58s/it]"
     ]
    },
    {
     "name": "stdout",
     "output_type": "stream",
     "text": [
      "0  4.53e+03    2.53 |    0.18    0.0    125     0 |   -0.01   0.01   0.32  -0.51\n"
     ]
    },
    {
     "name": "stderr",
     "output_type": "stream",
     "text": [
      "\r",
      " 23%|███████████████████▏                                                               | 3/13 [01:30<04:56, 29.67s/it]"
     ]
    },
    {
     "name": "stdout",
     "output_type": "stream",
     "text": [
      "0  6.03e+03    2.63 |    2.63    0.0    125     0 |   -0.01   0.00   0.49  -0.51\n"
     ]
    },
    {
     "name": "stderr",
     "output_type": "stream",
     "text": [
      "\r",
      " 31%|█████████████████████████▌                                                         | 4/13 [02:08<04:54, 32.77s/it]"
     ]
    },
    {
     "name": "stdout",
     "output_type": "stream",
     "text": [
      "0  7.54e+03    2.63 |    0.34    0.0    125     0 |   -0.00   0.01   0.36  -0.51\n"
     ]
    },
    {
     "name": "stderr",
     "output_type": "stream",
     "text": [
      "\r",
      " 38%|███████████████████████████████▉                                                   | 5/13 [02:36<04:09, 31.18s/it]"
     ]
    },
    {
     "name": "stdout",
     "output_type": "stream",
     "text": [
      "0  9.04e+03    2.63 |    1.62    0.0    125     0 |   -0.01   0.00   0.32  -0.51\n"
     ]
    },
    {
     "name": "stderr",
     "output_type": "stream",
     "text": [
      "\r",
      " 46%|██████████████████████████████████████▎                                            | 6/13 [03:05<03:32, 30.34s/it]"
     ]
    },
    {
     "name": "stdout",
     "output_type": "stream",
     "text": [
      "0  1.05e+04    2.63 |    1.08    0.0    125     0 |   -0.02   0.00   0.31  -0.51\n"
     ]
    },
    {
     "name": "stderr",
     "output_type": "stream",
     "text": [
      "\r",
      " 54%|████████████████████████████████████████████▋                                      | 7/13 [03:33<02:57, 29.53s/it]"
     ]
    },
    {
     "name": "stdout",
     "output_type": "stream",
     "text": [
      "0  1.21e+04    2.63 |    1.13    0.0    125     0 |   -0.02   0.00   0.29  -0.51\n"
     ]
    },
    {
     "name": "stderr",
     "output_type": "stream",
     "text": [
      "\r",
      " 62%|███████████████████████████████████████████████████                                | 8/13 [04:01<02:26, 29.23s/it]"
     ]
    },
    {
     "name": "stdout",
     "output_type": "stream",
     "text": [
      "0  1.36e+04    2.63 |    0.71    0.0    125     0 |   -0.01   0.00   0.37  -0.51\n"
     ]
    },
    {
     "name": "stderr",
     "output_type": "stream",
     "text": [
      "\r",
      " 69%|█████████████████████████████████████████████████████████▍                         | 9/13 [04:30<01:56, 29.03s/it]"
     ]
    },
    {
     "name": "stdout",
     "output_type": "stream",
     "text": [
      "0  1.51e+04    2.63 |    0.91    0.0    125     0 |   -0.02   0.00   0.28  -0.51\n"
     ]
    },
    {
     "name": "stderr",
     "output_type": "stream",
     "text": [
      "\r",
      " 77%|███████████████████████████████████████████████████████████████                   | 10/13 [04:59<01:26, 28.86s/it]"
     ]
    },
    {
     "name": "stdout",
     "output_type": "stream",
     "text": [
      "0  1.66e+04    2.63 |    1.20    0.0    125     0 |   -0.02   0.00   0.43  -0.51\n"
     ]
    },
    {
     "name": "stderr",
     "output_type": "stream",
     "text": [
      "\r",
      " 85%|█████████████████████████████████████████████████████████████████████▍            | 11/13 [05:27<00:57, 28.82s/it]"
     ]
    },
    {
     "name": "stdout",
     "output_type": "stream",
     "text": [
      "0  1.81e+04    2.63 |    1.06    0.0    125     0 |   -0.01   0.02   0.14  -0.51\n"
     ]
    },
    {
     "name": "stderr",
     "output_type": "stream",
     "text": [
      "\r",
      " 92%|███████████████████████████████████████████████████████████████████████████▋      | 12/13 [05:56<00:28, 28.76s/it]"
     ]
    },
    {
     "name": "stdout",
     "output_type": "stream",
     "text": [
      "0  1.96e+04    2.63 |    1.85    0.0    125     0 |   -0.01   0.00   0.44  -0.51\n"
     ]
    },
    {
     "name": "stderr",
     "output_type": "stream",
     "text": [
      "100%|██████████████████████████████████████████████████████████████████████████████████| 13/13 [06:25<00:00, 29.63s/it]\n"
     ]
    },
    {
     "name": "stdout",
     "output_type": "stream",
     "text": [
      "| UsedTime:     385 | SavedDir: ./trained_models | Total Step: 1498\n",
      "======jim-ppo-recurrent-317-agent-19 Validation from:  2016-01-04 to  2016-07-01\n",
      "Max reward at validation for Reccurent PPO 125.0\n",
      "Model updated:  311295  times\n",
      "======Trading from:  2016-07-05 to  2017-01-03\n",
      "Using device:  cpu\n",
      "previous_total_asset:1000000\n",
      "end_total_asset:1114505.8898181918\n",
      "total_asset_change:114505.88981819176\n",
      "Total cash is: 16.184312820553714$ and total holdings in stocks are 1114489.705505371$\n",
      "Buy & Hold strategy with previous total asset:  1107583.5885027447\n",
      "Total Cost:  998.984830856323\n",
      "Sum of rewards  114505.88981819176\n",
      "Total trades:  129\n",
      "Total buy orders are 129 and total sell orders are 0\n",
      "Total days in turbulance:  0\n",
      "Sharpe:  0.2991124518252571\n",
      "Test Finished!\n",
      "episode_return % 0.11450000000000005\n",
      "============================================\n",
      "Agent:  19 / 25\n",
      "{'eval_time_gap': 8, 'batch_size': 8, 'gamma': 0.9999, 'learning_rate': 0.00414, 'target_step': 12555, 'net_dimension': 100, 'episode': 13, 'seed': 42069}\n",
      "======Model training from:  2010-01-01 to  2016-07-05\n",
      "| Remove cwd: ./trained_models\n",
      "Using device:  cpu\n",
      "################################################################################\n",
      "ID     Step    maxR |    avgR   stdR   avgS  stdS |    expR   objC   etc.\n"
     ]
    },
    {
     "name": "stderr",
     "output_type": "stream",
     "text": [
      "\r",
      "  0%|                                                                                           | 0/13 [00:00<?, ?it/s]"
     ]
    },
    {
     "name": "stdout",
     "output_type": "stream",
     "text": [
      "0  1.64e+03   -0.31 |   -0.31    0.6    125     0 |   -0.05   0.03  -0.62  -0.51\n"
     ]
    },
    {
     "name": "stderr",
     "output_type": "stream",
     "text": [
      "\r",
      "  8%|██████▍                                                                            | 1/13 [00:36<07:18, 36.54s/it]"
     ]
    },
    {
     "name": "stdout",
     "output_type": "stream",
     "text": [
      "0  3.27e+03    1.50 |    1.50    0.1    125     0 |   -0.00   0.00   0.56  -0.51\n"
     ]
    },
    {
     "name": "stderr",
     "output_type": "stream",
     "text": [
      "\r",
      " 15%|████████████▊                                                                      | 2/13 [01:16<07:01, 38.36s/it]"
     ]
    },
    {
     "name": "stdout",
     "output_type": "stream",
     "text": [
      "0  4.90e+03    1.50 |   -0.47    0.0    125     0 |   -0.01   0.00   0.55  -0.51\n"
     ]
    },
    {
     "name": "stderr",
     "output_type": "stream",
     "text": [
      "\r",
      " 23%|███████████████████▏                                                               | 3/13 [01:47<05:49, 34.95s/it]"
     ]
    },
    {
     "name": "stdout",
     "output_type": "stream",
     "text": [
      "0  6.54e+03    1.50 |    1.28    0.0    125     0 |   -0.01   0.00   0.24  -0.51\n"
     ]
    },
    {
     "name": "stderr",
     "output_type": "stream",
     "text": [
      "\r",
      " 31%|█████████████████████████▌                                                         | 4/13 [02:17<04:58, 33.18s/it]"
     ]
    },
    {
     "name": "stdout",
     "output_type": "stream",
     "text": [
      "0  8.17e+03    1.50 |    0.11    0.0    125     0 |   -0.00   0.00   0.62  -0.51\n"
     ]
    },
    {
     "name": "stderr",
     "output_type": "stream",
     "text": [
      "\r",
      " 38%|███████████████████████████████▉                                                   | 5/13 [02:48<04:19, 32.38s/it]"
     ]
    },
    {
     "name": "stdout",
     "output_type": "stream",
     "text": [
      "0  9.80e+03    1.50 |    0.49    0.0    125     0 |    0.00   0.00   0.19  -0.51\n"
     ]
    },
    {
     "name": "stderr",
     "output_type": "stream",
     "text": [
      "\r",
      " 46%|██████████████████████████████████████▎                                            | 6/13 [03:18<03:42, 31.72s/it]"
     ]
    },
    {
     "name": "stdout",
     "output_type": "stream",
     "text": [
      "0  1.14e+04    5.21 |    5.21    1.0    125     0 |   -0.00   0.00   0.17  -0.51\n"
     ]
    },
    {
     "name": "stderr",
     "output_type": "stream",
     "text": [
      "\r",
      " 46%|██████████████████████████████████████▎                                            | 6/13 [03:59<04:39, 39.90s/it]"
     ]
    },
    {
     "name": "stdout",
     "output_type": "stream",
     "text": [
      "Reached goals on 1630\n",
      "| UsedTime:     239 | SavedDir: ./trained_models | Total Step: 1630\n",
      "======jim-ppo-recurrent-317-agent-19 Validation from:  2016-07-05 to  2016-12-30\n",
      "Max reward at validation for Reccurent PPO 125.0\n",
      "Model updated:  322726  times\n",
      "======Trading from:  2017-01-03 to  2017-07-05\n",
      "Using device:  cpu\n"
     ]
    },
    {
     "name": "stderr",
     "output_type": "stream",
     "text": [
      "\n"
     ]
    },
    {
     "name": "stdout",
     "output_type": "stream",
     "text": [
      "Saving to  results/account_value_trade_main_jim-ppo-recurrent-317-agent-19.csv\n",
      "previous_total_asset:1114505.8898181918\n",
      "end_total_asset:1151617.9733456783\n",
      "total_asset_change:37112.08352748654\n",
      "Total cash is: 3.048448851278266$ and total holdings in stocks are 1151614.924896827$\n",
      "Buy & Hold strategy with previous total asset:  1207598.5015726415\n",
      "Total Cost:  2179.2652275945343\n",
      "Sum of rewards  30466.597298543667\n",
      "Total trades:  344\n",
      "Total buy orders are 187 and total sell orders are 157\n",
      "Total days in turbulance:  0\n",
      "Sharpe:  0.08252081536833984\n",
      "Test Finished!\n",
      "episode_return % 0.15159999999999996\n",
      "============================================\n",
      "Agent:  19 / 25\n",
      "{'eval_time_gap': 8, 'batch_size': 8, 'gamma': 0.9999, 'learning_rate': 0.00414, 'target_step': 12555, 'net_dimension': 100, 'episode': 13, 'seed': 42069}\n",
      "======Model training from:  2010-01-01 to  2017-01-03\n",
      "| Remove cwd: ./trained_models\n",
      "Using device:  cpu\n",
      "################################################################################\n",
      "ID     Step    maxR |    avgR   stdR   avgS  stdS |    expR   objC   etc.\n"
     ]
    },
    {
     "name": "stderr",
     "output_type": "stream",
     "text": [
      "\r",
      "  0%|                                                                                           | 0/13 [00:00<?, ?it/s]"
     ]
    },
    {
     "name": "stdout",
     "output_type": "stream",
     "text": [
      "0  1.76e+03    3.33 |    3.33    0.2    125     0 |   -0.05   0.02  -0.31  -0.51\n"
     ]
    },
    {
     "name": "stderr",
     "output_type": "stream",
     "text": [
      "\r",
      "  8%|██████▍                                                                            | 1/13 [00:38<07:39, 38.26s/it]"
     ]
    },
    {
     "name": "stdout",
     "output_type": "stream",
     "text": [
      "0  3.52e+03    5.46 |    5.46    0.3    125     0 |   -0.01   0.01   0.18  -0.51\n"
     ]
    },
    {
     "name": "stderr",
     "output_type": "stream",
     "text": [
      "\r",
      "  8%|██████▍                                                                            | 1/13 [01:19<15:52, 79.41s/it]"
     ]
    },
    {
     "name": "stdout",
     "output_type": "stream",
     "text": [
      "Reached goals on 1761\n",
      "| UsedTime:      79 | SavedDir: ./trained_models | Total Step: 1761\n",
      "======jim-ppo-recurrent-317-agent-19 Validation from:  2017-01-03 to  2017-07-03\n",
      "Max reward at validation for Reccurent PPO 125.0\n",
      "Model updated:  326249  times\n",
      "======Trading from:  2017-07-05 to  2018-01-03\n",
      "Using device:  cpu\n"
     ]
    },
    {
     "name": "stderr",
     "output_type": "stream",
     "text": [
      "\n"
     ]
    },
    {
     "name": "stdout",
     "output_type": "stream",
     "text": [
      "Saving to  results/account_value_trade_main_jim-ppo-recurrent-317-agent-19.csv\n",
      "previous_total_asset:1151617.9733456783\n",
      "end_total_asset:1310782.2547871321\n",
      "total_asset_change:159164.28144145384\n",
      "Total cash is: 3.332428769748333$ and total holdings in stocks are 1310778.9223583625$\n",
      "Buy & Hold strategy with previous total asset:  1339494.4932953957\n",
      "Total Cost:  1214.2234011662233\n",
      "Sum of rewards  160659.28759715403\n",
      "Total trades:  221\n",
      "Total buy orders are 117 and total sell orders are 104\n",
      "Total days in turbulance:  0\n",
      "Sharpe:  0.2945924282639825\n",
      "Test Finished!\n",
      "episode_return % 0.31079999999999997\n",
      "============================================\n",
      "Agent:  19 / 25\n",
      "{'eval_time_gap': 8, 'batch_size': 8, 'gamma': 0.9999, 'learning_rate': 0.00414, 'target_step': 12555, 'net_dimension': 100, 'episode': 13, 'seed': 42069}\n",
      "======Model training from:  2010-01-01 to  2017-07-05\n",
      "| Remove cwd: ./trained_models\n",
      "Using device:  cpu\n",
      "################################################################################\n",
      "ID     Step    maxR |    avgR   stdR   avgS  stdS |    expR   objC   etc.\n"
     ]
    },
    {
     "name": "stderr",
     "output_type": "stream",
     "text": [
      "\r",
      "  0%|                                                                                           | 0/13 [00:00<?, ?it/s]"
     ]
    },
    {
     "name": "stdout",
     "output_type": "stream",
     "text": [
      "0  1.89e+03    5.30 |    5.30    2.7    125     0 |   -0.05   0.14   0.15  -0.50\n"
     ]
    },
    {
     "name": "stderr",
     "output_type": "stream",
     "text": [
      "\r",
      "  0%|                                                                                           | 0/13 [00:39<?, ?it/s]"
     ]
    },
    {
     "name": "stdout",
     "output_type": "stream",
     "text": [
      "Reached goals on 1888\n",
      "| UsedTime:      40 | SavedDir: ./trained_models | Total Step: 1888\n",
      "======jim-ppo-recurrent-317-agent-19 Validation from:  2017-07-05 to  2018-01-02\n",
      "Max reward at validation for Reccurent PPO 125.0\n",
      "Model updated:  328137  times\n",
      "======Trading from:  2018-01-03 to  2018-07-05\n",
      "Using device:  cpu\n"
     ]
    },
    {
     "name": "stderr",
     "output_type": "stream",
     "text": [
      "\n"
     ]
    },
    {
     "name": "stdout",
     "output_type": "stream",
     "text": [
      "Saving to  results/account_value_trade_main_jim-ppo-recurrent-317-agent-19.csv\n",
      "previous_total_asset:1310782.2547871321\n",
      "end_total_asset:1217492.8228658626\n",
      "total_asset_change:-93289.43192126951\n",
      "Total cash is: 17.36767253431225$ and total holdings in stocks are 1217475.4551933282$\n",
      "Buy & Hold strategy with previous total asset:  1295017.3595464397\n",
      "Total Cost:  1504.5443763905882\n",
      "Sum of rewards  -90934.25477681984\n",
      "Total trades:  1243\n",
      "Total buy orders are 558 and total sell orders are 685\n",
      "Total days in turbulance:  0\n",
      "Sharpe:  -0.08288871516869546\n",
      "Test Finished!\n",
      "episode_return % 0.21750000000000003\n",
      "Calculating buy and hold\n",
      "Buy and Hold value is  1475283.0604952318\n",
      "Buy and hold bigger than performances\n",
      "Writing hparams:  {'eval_time_gap': 8, 'batch_size': 8, 'gamma': 0.9999, 'learning_rate': 0.00414, 'target_step': 12555, 'net_dimension': 100, 'episode': 13, 'seed': 42069}\n",
      "value should be one of int, float, str, bool, or torch.Tensor\n",
      "Could not write the haparms {'eval_time_gap': 8, 'batch_size': 8, 'gamma': 0.9999, 'learning_rate': 0.00414, 'target_step': 12555, 'net_dimension': 100, 'episode': 13, 'seed': 42069} with end total asset of  1217492.8228658626\n",
      "============================================\n",
      "Agent:  20 / 25\n",
      "{'eval_time_gap': 512, 'batch_size': 512, 'gamma': 0.98, 'learning_rate': {'start': 0.0159, 'end': 0.00048}, 'target_step': 31913, 'net_dimension': 256, 'episode': 5, 'seed': 69}\n",
      "======Model training from:  2010-01-01 to  2016-01-04\n",
      "| Remove cwd: ./trained_models\n",
      "Using device:  cpu\n",
      "################################################################################\n",
      "ID     Step    maxR |    avgR   stdR   avgS  stdS |    expR   objC   etc.\n"
     ]
    },
    {
     "name": "stderr",
     "output_type": "stream",
     "text": [
      "\r",
      "  0%|                                                                                            | 0/5 [00:00<?, ?it/s]"
     ]
    },
    {
     "name": "stdout",
     "output_type": "stream",
     "text": [
      "0  1.51e+03    1.53 |    1.53    0.7    125     0 |   -0.06   0.21   0.23  -0.53\n"
     ]
    },
    {
     "name": "stderr",
     "output_type": "stream",
     "text": [
      "\r",
      " 20%|████████████████▊                                                                   | 1/5 [00:25<01:43, 25.81s/it]"
     ]
    },
    {
     "name": "stdout",
     "output_type": "stream",
     "text": [
      "0  3.02e+03    1.53 |    1.37    0.0    125     0 |   -0.00   0.02   0.31  -0.53\n"
     ]
    },
    {
     "name": "stderr",
     "output_type": "stream",
     "text": [
      "\r",
      " 40%|█████████████████████████████████▌                                                  | 2/5 [00:42<01:00, 20.31s/it]"
     ]
    },
    {
     "name": "stdout",
     "output_type": "stream",
     "text": [
      "0  4.53e+03    1.53 |    1.50    0.0    125     0 |   -0.01   0.01   0.34  -0.53\n"
     ]
    },
    {
     "name": "stderr",
     "output_type": "stream",
     "text": [
      "\r",
      " 60%|██████████████████████████████████████████████████▍                                 | 3/5 [00:58<00:36, 18.44s/it]"
     ]
    },
    {
     "name": "stdout",
     "output_type": "stream",
     "text": [
      "0  6.03e+03    2.06 |    2.06    0.0    125     0 |   -0.00   0.01   0.33  -0.53\n"
     ]
    },
    {
     "name": "stderr",
     "output_type": "stream",
     "text": [
      "\r",
      " 80%|███████████████████████████████████████████████████████████████████▏                | 4/5 [01:23<00:21, 21.18s/it]"
     ]
    },
    {
     "name": "stdout",
     "output_type": "stream",
     "text": [
      "0  7.54e+03    2.06 |    1.35    0.0    125     0 |   -0.01   0.02   0.30  -0.53\n"
     ]
    },
    {
     "name": "stderr",
     "output_type": "stream",
     "text": [
      "100%|████████████████████████████████████████████████████████████████████████████████████| 5/5 [01:39<00:00, 19.98s/it]\n"
     ]
    },
    {
     "name": "stdout",
     "output_type": "stream",
     "text": [
      "| UsedTime:     100 | SavedDir: ./trained_models | Total Step: 1506\n",
      "======jim-ppo-recurrent-317-agent-20 Validation from:  2016-01-04 to  2016-07-01\n",
      "Max reward at validation for Reccurent PPO 125.0\n",
      "Model updated:  328252  times\n",
      "======Trading from:  2016-07-05 to  2017-01-03\n",
      "Using device:  cpu\n",
      "previous_total_asset:1000000\n",
      "end_total_asset:1066876.685053231\n",
      "total_asset_change:66876.68505323096\n",
      "Total cash is: 8.73661077182609$ and total holdings in stocks are 1066867.948442459$\n",
      "Buy & Hold strategy with previous total asset:  1107583.5885027447\n",
      "Total Cost:  1008.307237578354\n",
      "Sum of rewards  66876.68505323096\n",
      "Total trades:  181\n",
      "Total buy orders are 180 and total sell orders are 1\n",
      "Total days in turbulance:  0\n",
      "Sharpe:  0.19853118893146604\n",
      "Test Finished!\n",
      "episode_return % 0.06689999999999996\n",
      "============================================\n",
      "Agent:  20 / 25\n",
      "{'eval_time_gap': 512, 'batch_size': 512, 'gamma': 0.98, 'learning_rate': {'start': 0.0159, 'end': 0.00048}, 'target_step': 31913, 'net_dimension': 256, 'episode': 5, 'seed': 69}\n",
      "======Model training from:  2010-01-01 to  2016-07-05\n",
      "| Remove cwd: ./trained_models\n",
      "Using device:  cpu\n",
      "################################################################################\n",
      "ID     Step    maxR |    avgR   stdR   avgS  stdS |    expR   objC   etc.\n"
     ]
    },
    {
     "name": "stderr",
     "output_type": "stream",
     "text": [
      "\r",
      "  0%|                                                                                            | 0/5 [00:00<?, ?it/s]"
     ]
    },
    {
     "name": "stdout",
     "output_type": "stream",
     "text": [
      "0  1.64e+03    3.55 |    3.55    1.3    125     0 |   -0.06   0.06   0.21  -0.52\n"
     ]
    },
    {
     "name": "stderr",
     "output_type": "stream",
     "text": [
      "\r",
      " 20%|████████████████▊                                                                   | 1/5 [00:26<01:45, 26.41s/it]"
     ]
    },
    {
     "name": "stdout",
     "output_type": "stream",
     "text": [
      "0  3.27e+03    3.55 |   -0.08    0.0    125     0 |   -0.01   0.14   0.27  -0.52\n"
     ]
    },
    {
     "name": "stderr",
     "output_type": "stream",
     "text": [
      "\r",
      " 40%|█████████████████████████████████▌                                                  | 2/5 [00:43<01:03, 21.17s/it]"
     ]
    },
    {
     "name": "stdout",
     "output_type": "stream",
     "text": [
      "0  4.90e+03    3.55 |    0.58    0.0    125     0 |   -0.00   0.00   0.31  -0.52\n"
     ]
    },
    {
     "name": "stderr",
     "output_type": "stream",
     "text": [
      "\r",
      " 60%|██████████████████████████████████████████████████▍                                 | 3/5 [01:01<00:38, 19.39s/it]"
     ]
    },
    {
     "name": "stdout",
     "output_type": "stream",
     "text": [
      "0  6.54e+03    3.55 |    0.27    0.0    125     0 |   -0.00   0.00   0.33  -0.52\n"
     ]
    },
    {
     "name": "stderr",
     "output_type": "stream",
     "text": [
      "\r",
      " 80%|███████████████████████████████████████████████████████████████████▏                | 4/5 [01:18<00:18, 18.62s/it]"
     ]
    },
    {
     "name": "stdout",
     "output_type": "stream",
     "text": [
      "0  8.17e+03    3.55 |    1.04    0.0    125     0 |   -0.00   0.00   0.33  -0.52\n"
     ]
    },
    {
     "name": "stderr",
     "output_type": "stream",
     "text": [
      "100%|████████████████████████████████████████████████████████████████████████████████████| 5/5 [01:35<00:00, 19.17s/it]\n"
     ]
    },
    {
     "name": "stdout",
     "output_type": "stream",
     "text": [
      "| UsedTime:      96 | SavedDir: ./trained_models | Total Step: 1632\n",
      "======jim-ppo-recurrent-317-agent-20 Validation from:  2016-07-05 to  2016-12-30\n",
      "Max reward at validation for Reccurent PPO 125.0\n",
      "Model updated:  328377  times\n",
      "======Trading from:  2017-01-03 to  2017-07-05\n",
      "Using device:  cpu\n",
      "Saving to  results/account_value_trade_main_jim-ppo-recurrent-317-agent-20.csv\n",
      "previous_total_asset:1066876.685053231\n",
      "end_total_asset:1184941.076300761\n",
      "total_asset_change:118064.39124753\n",
      "Total cash is: 14.203539988268329$ and total holdings in stocks are 1184926.8727607727$\n",
      "Buy & Hold strategy with previous total asset:  1155990.9175924025\n",
      "Total Cost:  1243.1856910991671\n",
      "Sum of rewards  108114.41079213144\n",
      "Total trades:  193\n",
      "Total buy orders are 103 and total sell orders are 90\n",
      "Total days in turbulance:  0\n",
      "Sharpe:  0.3273029668654807\n",
      "Test Finished!\n",
      "episode_return % 0.18490000000000006\n",
      "============================================\n",
      "Agent:  20 / 25\n",
      "{'eval_time_gap': 512, 'batch_size': 512, 'gamma': 0.98, 'learning_rate': {'start': 0.0159, 'end': 0.00048}, 'target_step': 31913, 'net_dimension': 256, 'episode': 5, 'seed': 69}\n",
      "======Model training from:  2010-01-01 to  2017-01-03\n",
      "| Remove cwd: ./trained_models\n",
      "Using device:  cpu\n",
      "################################################################################\n",
      "ID     Step    maxR |    avgR   stdR   avgS  stdS |    expR   objC   etc.\n"
     ]
    },
    {
     "name": "stderr",
     "output_type": "stream",
     "text": [
      "\r",
      "  0%|                                                                                            | 0/5 [00:00<?, ?it/s]"
     ]
    },
    {
     "name": "stdout",
     "output_type": "stream",
     "text": [
      "0  1.76e+03    4.62 |    4.62    0.2    125     0 |   -0.05   0.14   0.13  -0.48\n"
     ]
    },
    {
     "name": "stderr",
     "output_type": "stream",
     "text": [
      "\r",
      "  0%|                                                                                            | 0/5 [00:27<?, ?it/s]"
     ]
    },
    {
     "name": "stdout",
     "output_type": "stream",
     "text": [
      "Reached goals on 1762\n",
      "| UsedTime:      27 | SavedDir: ./trained_models | Total Step: 1762\n",
      "======jim-ppo-recurrent-317-agent-20 Validation from:  2017-01-03 to  2017-07-03\n",
      "Max reward at validation for Reccurent PPO 125.0\n",
      "Model updated:  328404  times\n",
      "======Trading from:  2017-07-05 to  2018-01-03\n",
      "Using device:  cpu\n"
     ]
    },
    {
     "name": "stderr",
     "output_type": "stream",
     "text": [
      "\n"
     ]
    },
    {
     "name": "stdout",
     "output_type": "stream",
     "text": [
      "Saving to  results/account_value_trade_main_jim-ppo-recurrent-317-agent-20.csv\n",
      "previous_total_asset:1184941.076300761\n",
      "end_total_asset:1458888.839262624\n",
      "total_asset_change:273947.7629618631\n",
      "Total cash is: 6.438866276971112$ and total holdings in stocks are 1458882.400396347$\n",
      "Buy & Hold strategy with previous total asset:  1378253.9725158983\n",
      "Total Cost:  510.86099317768196\n",
      "Sum of rewards  269779.0417780862\n",
      "Total trades:  121\n",
      "Total buy orders are 67 and total sell orders are 54\n",
      "Total days in turbulance:  0\n",
      "Sharpe:  0.6107247949787564\n",
      "Test Finished!\n",
      "episode_return % 0.4589000000000001\n",
      "============================================\n",
      "Agent:  20 / 25\n",
      "{'eval_time_gap': 512, 'batch_size': 512, 'gamma': 0.98, 'learning_rate': {'start': 0.0159, 'end': 0.00048}, 'target_step': 31913, 'net_dimension': 256, 'episode': 5, 'seed': 69}\n",
      "======Model training from:  2010-01-01 to  2017-07-05\n",
      "| Remove cwd: ./trained_models\n",
      "Using device:  cpu\n",
      "################################################################################\n",
      "ID     Step    maxR |    avgR   stdR   avgS  stdS |    expR   objC   etc.\n"
     ]
    },
    {
     "name": "stderr",
     "output_type": "stream",
     "text": [
      "\r",
      "  0%|                                                                                            | 0/5 [00:00<?, ?it/s]"
     ]
    },
    {
     "name": "stdout",
     "output_type": "stream",
     "text": [
      "0  1.89e+03    4.44 |    4.44    1.5    125     0 |   -0.05   0.14   0.18  -0.47\n"
     ]
    },
    {
     "name": "stderr",
     "output_type": "stream",
     "text": [
      "\r",
      "  0%|                                                                                            | 0/5 [00:28<?, ?it/s]"
     ]
    },
    {
     "name": "stdout",
     "output_type": "stream",
     "text": [
      "Reached goals on 1888\n",
      "| UsedTime:      29 | SavedDir: ./trained_models | Total Step: 1888\n",
      "======jim-ppo-recurrent-317-agent-20 Validation from:  2017-07-05 to  2018-01-02\n",
      "Max reward at validation for Reccurent PPO 125.0\n",
      "Model updated:  328433  times\n",
      "======Trading from:  2018-01-03 to  2018-07-05\n",
      "Using device:  cpu\n"
     ]
    },
    {
     "name": "stderr",
     "output_type": "stream",
     "text": [
      "\n"
     ]
    },
    {
     "name": "stdout",
     "output_type": "stream",
     "text": [
      "Saving to  results/account_value_trade_main_jim-ppo-recurrent-317-agent-20.csv\n",
      "previous_total_asset:1458888.839262624\n",
      "end_total_asset:1559384.7450713392\n",
      "total_asset_change:100495.90580871515\n",
      "Total cash is: 20.161941456422483$ and total holdings in stocks are 1559364.5831298828$\n",
      "Buy & Hold strategy with previous total asset:  1441342.6529034527\n",
      "Total Cost:  703.717640850307\n",
      "Sum of rewards  90117.09151008539\n",
      "Total trades:  122\n",
      "Total buy orders are 82 and total sell orders are 40\n",
      "Total days in turbulance:  0\n",
      "Sharpe:  0.09208444789915035\n",
      "Test Finished!\n",
      "episode_return % 0.5593999999999999\n",
      "Calculating buy and hold\n",
      "Buy and Hold value is  1475283.0604952318\n",
      "============================================\n",
      "Agent:  20 / 25\n",
      "{'eval_time_gap': 512, 'batch_size': 512, 'gamma': 0.98, 'learning_rate': {'start': 0.0159, 'end': 0.00048}, 'target_step': 31913, 'net_dimension': 256, 'episode': 5, 'seed': 69}\n",
      "======Model training from:  2010-01-01 to  2018-01-03\n",
      "| Remove cwd: ./trained_models\n",
      "Using device:  cpu\n",
      "################################################################################\n",
      "ID     Step    maxR |    avgR   stdR   avgS  stdS |    expR   objC   etc.\n"
     ]
    },
    {
     "name": "stderr",
     "output_type": "stream",
     "text": [
      "\r",
      "  0%|                                                                                            | 0/5 [00:00<?, ?it/s]"
     ]
    },
    {
     "name": "stdout",
     "output_type": "stream",
     "text": [
      "0  2.01e+03   -1.44 |   -1.44    2.4    125     0 |   -0.05   0.11   0.19  -0.51\n"
     ]
    },
    {
     "name": "stderr",
     "output_type": "stream",
     "text": [
      "\r",
      " 20%|████████████████▊                                                                   | 1/5 [00:29<01:59, 29.87s/it]"
     ]
    },
    {
     "name": "stdout",
     "output_type": "stream",
     "text": [
      "0  4.03e+03    0.05 |    0.05    0.1    125     0 |   -0.01   0.03   0.25  -0.51\n"
     ]
    },
    {
     "name": "stderr",
     "output_type": "stream",
     "text": [
      "\r",
      " 40%|█████████████████████████████████▌                                                  | 2/5 [01:00<01:30, 30.06s/it]"
     ]
    },
    {
     "name": "stdout",
     "output_type": "stream",
     "text": [
      "0  6.04e+03    0.05 |   -0.30    0.0    125     0 |   -0.00   0.04   0.31  -0.51\n"
     ]
    },
    {
     "name": "stderr",
     "output_type": "stream",
     "text": [
      "\r",
      " 60%|██████████████████████████████████████████████████▍                                 | 3/5 [01:21<00:52, 26.13s/it]"
     ]
    },
    {
     "name": "stdout",
     "output_type": "stream",
     "text": [
      "0  8.05e+03    0.05 |   -0.85    0.0    125     0 |   -0.01   0.03   0.39  -0.51\n"
     ]
    },
    {
     "name": "stderr",
     "output_type": "stream",
     "text": [
      "\r",
      " 80%|███████████████████████████████████████████████████████████████████▏                | 4/5 [01:42<00:24, 24.15s/it]"
     ]
    },
    {
     "name": "stdout",
     "output_type": "stream",
     "text": [
      "0  1.01e+04    0.05 |   -2.15    0.0    125     0 |   -0.01   0.04   0.35  -0.51\n"
     ]
    },
    {
     "name": "stderr",
     "output_type": "stream",
     "text": [
      "100%|████████████████████████████████████████████████████████████████████████████████████| 5/5 [02:03<00:00, 24.79s/it]\n"
     ]
    },
    {
     "name": "stdout",
     "output_type": "stream",
     "text": [
      "| UsedTime:     124 | SavedDir: ./trained_models | Total Step: 2010\n",
      "======jim-ppo-recurrent-317-agent-20 Validation from:  2018-01-03 to  2018-07-03\n",
      "Max reward at validation for Reccurent PPO 125.0\n",
      "Model updated:  328588  times\n",
      "======Trading from:  2018-07-05 to  2019-01-04\n",
      "Using device:  cpu\n",
      "Saving to  results/account_value_trade_main_jim-ppo-recurrent-317-agent-20.csv\n",
      "previous_total_asset:1559384.7450713392\n",
      "end_total_asset:1491979.7089655248\n",
      "total_asset_change:-67405.03610581439\n",
      "Total cash is: 17.527940161358856$ and total holdings in stocks are 1491962.1810253635$\n",
      "Buy & Hold strategy with previous total asset:  1512299.4669897275\n",
      "Total Cost:  3734.6169838828605\n",
      "Sum of rewards  -71789.96272248309\n",
      "Total trades:  478\n",
      "Total buy orders are 291 and total sell orders are 187\n",
      "Total days in turbulance:  0\n",
      "Sharpe:  -0.04958428055058405\n",
      "Test Finished!\n",
      "episode_return % 0.492\n",
      "Calculating buy and hold\n",
      "Buy and Hold value is  1430972.9262496235\n",
      "============================================\n",
      "Agent:  20 / 25\n",
      "{'eval_time_gap': 512, 'batch_size': 512, 'gamma': 0.98, 'learning_rate': {'start': 0.0159, 'end': 0.00048}, 'target_step': 31913, 'net_dimension': 256, 'episode': 5, 'seed': 69}\n",
      "======Model training from:  2010-01-01 to  2018-07-05\n",
      "| Remove cwd: ./trained_models\n",
      "Using device:  cpu\n",
      "################################################################################\n",
      "ID     Step    maxR |    avgR   stdR   avgS  stdS |    expR   objC   etc.\n"
     ]
    },
    {
     "name": "stderr",
     "output_type": "stream",
     "text": [
      "\r",
      "  0%|                                                                                            | 0/5 [00:00<?, ?it/s]"
     ]
    },
    {
     "name": "stdout",
     "output_type": "stream",
     "text": [
      "0  2.14e+03    0.16 |    0.16    1.9    125     0 |   -0.05   0.06   0.17  -0.50\n"
     ]
    },
    {
     "name": "stderr",
     "output_type": "stream",
     "text": [
      "\r",
      " 20%|████████████████▊                                                                   | 1/5 [00:31<02:04, 31.14s/it]"
     ]
    },
    {
     "name": "stdout",
     "output_type": "stream",
     "text": [
      "0  4.28e+03    0.25 |    0.25    0.0    125     0 |   -0.00   0.03   0.18  -0.50\n"
     ]
    },
    {
     "name": "stderr",
     "output_type": "stream",
     "text": [
      "\r",
      " 40%|█████████████████████████████████▌                                                  | 2/5 [01:02<01:34, 31.42s/it]"
     ]
    },
    {
     "name": "stdout",
     "output_type": "stream",
     "text": [
      "0  6.42e+03    0.25 |   -0.27    0.0    125     0 |   -0.00   0.02   0.32  -0.50\n"
     ]
    },
    {
     "name": "stderr",
     "output_type": "stream",
     "text": [
      "\r",
      " 60%|██████████████████████████████████████████████████▍                                 | 3/5 [01:25<00:54, 27.45s/it]"
     ]
    },
    {
     "name": "stdout",
     "output_type": "stream",
     "text": [
      "0  8.55e+03    0.25 |   -0.48    0.0    125     0 |   -0.01   0.02   0.35  -0.50\n"
     ]
    },
    {
     "name": "stderr",
     "output_type": "stream",
     "text": [
      "\r",
      " 80%|███████████████████████████████████████████████████████████████████▏                | 4/5 [01:47<00:25, 25.29s/it]"
     ]
    },
    {
     "name": "stdout",
     "output_type": "stream",
     "text": [
      "0  1.07e+04    0.25 |   -0.83    0.0    125     0 |   -0.00   0.02   0.28  -0.50\n"
     ]
    },
    {
     "name": "stderr",
     "output_type": "stream",
     "text": [
      "100%|████████████████████████████████████████████████████████████████████████████████████| 5/5 [02:09<00:00, 25.91s/it]\n"
     ]
    },
    {
     "name": "stdout",
     "output_type": "stream",
     "text": [
      "| UsedTime:     130 | SavedDir: ./trained_models | Total Step: 2136\n",
      "======jim-ppo-recurrent-317-agent-20 Validation from:  2018-07-05 to  2019-01-03\n",
      "Max reward at validation for Reccurent PPO 125.0\n",
      "Model updated:  328753  times\n",
      "======Trading from:  2019-01-04 to  2019-07-08\n",
      "Using device:  cpu\n",
      "Saving to  results/account_value_trade_main_jim-ppo-recurrent-317-agent-20.csv\n",
      "previous_total_asset:1491979.7089655248\n",
      "end_total_asset:1685216.0857169814\n",
      "total_asset_change:193236.37675145664\n",
      "Total cash is: 23.289196748341766$ and total holdings in stocks are 1685192.7965202332$\n",
      "Buy & Hold strategy with previous total asset:  1731315.6327212392\n",
      "Total Cost:  3156.8426483537905\n",
      "Sum of rewards  153750.4059824685\n",
      "Total trades:  378\n",
      "Total buy orders are 198 and total sell orders are 180\n",
      "Total days in turbulance:  0\n",
      "Sharpe:  0.23640851946907918\n",
      "Test Finished!\n",
      "episode_return % 0.6852\n",
      "Calculating buy and hold\n",
      "Buy and Hold value is  1720448.0172379646\n",
      "Buy and hold bigger than performances\n",
      "Writing hparams:  {'eval_time_gap': 512, 'batch_size': 512, 'gamma': 0.98, 'learning_rate': {'start': 0.0159, 'end': 0.00048}, 'target_step': 31913, 'net_dimension': 256, 'episode': 5, 'seed': 69}\n",
      "value should be one of int, float, str, bool, or torch.Tensor\n",
      "Could not write the haparms {'eval_time_gap': 512, 'batch_size': 512, 'gamma': 0.98, 'learning_rate': {'start': 0.0159, 'end': 0.00048}, 'target_step': 31913, 'net_dimension': 256, 'episode': 5, 'seed': 69} with end total asset of  1685216.0857169814\n",
      "============================================\n",
      "Agent:  21 / 25\n",
      "{'eval_time_gap': 512, 'batch_size': 64, 'gamma': 0.99, 'learning_rate': {'start': 0.00747, 'end': 0.00062}, 'target_step': 68066, 'net_dimension': 512, 'episode': 2, 'seed': 69}\n",
      "======Model training from:  2010-01-01 to  2016-01-04\n",
      "| Remove cwd: ./trained_models\n",
      "Using device:  cpu\n",
      "################################################################################\n",
      "ID     Step    maxR |    avgR   stdR   avgS  stdS |    expR   objC   etc.\n"
     ]
    },
    {
     "name": "stderr",
     "output_type": "stream",
     "text": [
      "\r",
      "  0%|                                                                                            | 0/2 [00:00<?, ?it/s]"
     ]
    },
    {
     "name": "stdout",
     "output_type": "stream",
     "text": [
      "0  1.51e+03    1.83 |    1.83    0.5    125     0 |   -0.06   0.05   0.14  -0.49\n"
     ]
    },
    {
     "name": "stderr",
     "output_type": "stream",
     "text": [
      "\r",
      " 50%|██████████████████████████████████████████                                          | 1/2 [00:29<00:29, 29.68s/it]"
     ]
    },
    {
     "name": "stdout",
     "output_type": "stream",
     "text": [
      "0  3.02e+03    1.83 |    1.46    0.0    125     0 |    0.01   0.00   0.22  -0.49\n"
     ]
    },
    {
     "name": "stderr",
     "output_type": "stream",
     "text": [
      "100%|████████████████████████████████████████████████████████████████████████████████████| 2/2 [00:50<00:00, 25.10s/it]\n"
     ]
    },
    {
     "name": "stdout",
     "output_type": "stream",
     "text": [
      "| UsedTime:      50 | SavedDir: ./trained_models | Total Step: 1509\n",
      "======jim-ppo-recurrent-317-agent-21 Validation from:  2016-01-04 to  2016-07-01\n",
      "Max reward at validation for Reccurent PPO 125.0\n",
      "Model updated:  329129  times\n",
      "======Trading from:  2016-07-05 to  2017-01-03\n",
      "Using device:  cpu\n",
      "previous_total_asset:1000000\n",
      "end_total_asset:1097574.9424592392\n",
      "total_asset_change:97574.94245923916\n",
      "Total cash is: 10.475768160260657$ and total holdings in stocks are 1097564.4666910789$\n",
      "Buy & Hold strategy with previous total asset:  1107583.5885027447\n",
      "Total Cost:  1378.1500821968978\n",
      "Sum of rewards  97574.94245923916\n",
      "Total trades:  212\n",
      "Total buy orders are 194 and total sell orders are 18\n",
      "Total days in turbulance:  0\n",
      "Sharpe:  0.2613560506466671\n",
      "Test Finished!\n",
      "episode_return % 0.09759999999999991\n",
      "============================================\n",
      "Agent:  21 / 25\n",
      "{'eval_time_gap': 512, 'batch_size': 64, 'gamma': 0.99, 'learning_rate': {'start': 0.00747, 'end': 0.00062}, 'target_step': 68066, 'net_dimension': 512, 'episode': 2, 'seed': 69}\n",
      "======Model training from:  2010-01-01 to  2016-07-05\n",
      "| Remove cwd: ./trained_models\n",
      "Using device:  cpu\n",
      "################################################################################\n",
      "ID     Step    maxR |    avgR   stdR   avgS  stdS |    expR   objC   etc.\n"
     ]
    },
    {
     "name": "stderr",
     "output_type": "stream",
     "text": [
      "\r",
      "  0%|                                                                                            | 0/2 [00:00<?, ?it/s]"
     ]
    },
    {
     "name": "stdout",
     "output_type": "stream",
     "text": [
      "0  1.64e+03    3.51 |    3.51    1.8    125     0 |   -0.06   0.07   0.23  -0.49\n"
     ]
    },
    {
     "name": "stderr",
     "output_type": "stream",
     "text": [
      "\r",
      " 50%|██████████████████████████████████████████                                          | 1/2 [00:31<00:31, 31.27s/it]"
     ]
    },
    {
     "name": "stdout",
     "output_type": "stream",
     "text": [
      "0  3.27e+03    3.51 |    3.46    0.0    125     0 |   -0.01   0.00   0.27  -0.49\n"
     ]
    },
    {
     "name": "stderr",
     "output_type": "stream",
     "text": [
      "100%|████████████████████████████████████████████████████████████████████████████████████| 2/2 [00:53<00:00, 26.76s/it]\n"
     ]
    },
    {
     "name": "stdout",
     "output_type": "stream",
     "text": [
      "| UsedTime:      54 | SavedDir: ./trained_models | Total Step: 1635\n",
      "======jim-ppo-recurrent-317-agent-21 Validation from:  2016-07-05 to  2016-12-30\n",
      "Max reward at validation for Reccurent PPO 125.0\n",
      "Model updated:  329537  times\n",
      "======Trading from:  2017-01-03 to  2017-07-05\n",
      "Using device:  cpu\n",
      "Saving to  results/account_value_trade_main_jim-ppo-recurrent-317-agent-21.csv\n",
      "previous_total_asset:1097574.9424592392\n",
      "end_total_asset:1202705.6522678435\n",
      "total_asset_change:105130.70980860433\n",
      "Total cash is: 18.736373790043693$ and total holdings in stocks are 1202686.9158940534$\n",
      "Buy & Hold strategy with previous total asset:  1189253.3435544888\n",
      "Total Cost:  1008.085772143765\n",
      "Sum of rewards  96012.95071654138\n",
      "Total trades:  199\n",
      "Total buy orders are 109 and total sell orders are 90\n",
      "Total days in turbulance:  0\n",
      "Sharpe:  0.2328352521128492\n",
      "Test Finished!\n",
      "episode_return % 0.2027000000000001\n",
      "============================================\n",
      "Agent:  21 / 25\n",
      "{'eval_time_gap': 512, 'batch_size': 64, 'gamma': 0.99, 'learning_rate': {'start': 0.00747, 'end': 0.00062}, 'target_step': 68066, 'net_dimension': 512, 'episode': 2, 'seed': 69}\n",
      "======Model training from:  2010-01-01 to  2017-01-03\n",
      "| Remove cwd: ./trained_models\n",
      "Using device:  cpu\n",
      "################################################################################\n",
      "ID     Step    maxR |    avgR   stdR   avgS  stdS |    expR   objC   etc.\n"
     ]
    },
    {
     "name": "stderr",
     "output_type": "stream",
     "text": [
      "\r",
      "  0%|                                                                                            | 0/2 [00:00<?, ?it/s]"
     ]
    },
    {
     "name": "stdout",
     "output_type": "stream",
     "text": [
      "0  1.76e+03    5.44 |    5.44    0.7    125     0 |   -0.05   0.04   0.24  -0.49\n"
     ]
    },
    {
     "name": "stderr",
     "output_type": "stream",
     "text": [
      "\r",
      "  0%|                                                                                            | 0/2 [00:32<?, ?it/s]"
     ]
    },
    {
     "name": "stdout",
     "output_type": "stream",
     "text": [
      "Reached goals on 1762\n",
      "| UsedTime:      33 | SavedDir: ./trained_models | Total Step: 1762\n",
      "======jim-ppo-recurrent-317-agent-21 Validation from:  2017-01-03 to  2017-07-03\n",
      "Max reward at validation for Reccurent PPO 125.0\n",
      "Model updated:  329757  times\n",
      "======Trading from:  2017-07-05 to  2018-01-03\n",
      "Using device:  cpu\n"
     ]
    },
    {
     "name": "stderr",
     "output_type": "stream",
     "text": [
      "\n"
     ]
    },
    {
     "name": "stdout",
     "output_type": "stream",
     "text": [
      "Saving to  results/account_value_trade_main_jim-ppo-recurrent-317-agent-21.csv\n",
      "previous_total_asset:1202705.6522678435\n",
      "end_total_asset:1500006.6338679714\n",
      "total_asset_change:297300.9816001279\n",
      "Total cash is: 14.318128445783813$ and total holdings in stocks are 1499992.3157395255$\n",
      "Buy & Hold strategy with previous total asset:  1398916.685528707\n",
      "Total Cost:  1623.2411822202193\n",
      "Sum of rewards  296997.5899313665\n",
      "Total trades:  203\n",
      "Total buy orders are 112 and total sell orders are 91\n",
      "Total days in turbulance:  0\n",
      "Sharpe:  0.6145755707995683\n",
      "Test Finished!\n",
      "episode_return % 0.5\n",
      "============================================\n",
      "Agent:  21 / 25\n",
      "{'eval_time_gap': 512, 'batch_size': 64, 'gamma': 0.99, 'learning_rate': {'start': 0.00747, 'end': 0.00062}, 'target_step': 68066, 'net_dimension': 512, 'episode': 2, 'seed': 69}\n",
      "======Model training from:  2010-01-01 to  2017-07-05\n",
      "| Remove cwd: ./trained_models\n",
      "Using device:  cpu\n",
      "################################################################################\n",
      "ID     Step    maxR |    avgR   stdR   avgS  stdS |    expR   objC   etc.\n"
     ]
    },
    {
     "name": "stderr",
     "output_type": "stream",
     "text": [
      "\r",
      "  0%|                                                                                            | 0/2 [00:00<?, ?it/s]"
     ]
    },
    {
     "name": "stdout",
     "output_type": "stream",
     "text": [
      "0  1.89e+03    3.62 |    3.62    1.0    125     0 |   -0.05   0.04   0.14  -0.50\n"
     ]
    },
    {
     "name": "stderr",
     "output_type": "stream",
     "text": [
      "\r",
      " 50%|██████████████████████████████████████████                                          | 1/2 [00:34<00:34, 34.37s/it]"
     ]
    },
    {
     "name": "stdout",
     "output_type": "stream",
     "text": [
      "0  3.78e+03    4.35 |    4.35    0.1    125     0 |    0.00   0.09   0.22  -0.50\n"
     ]
    },
    {
     "name": "stderr",
     "output_type": "stream",
     "text": [
      "\r",
      " 50%|██████████████████████████████████████████                                          | 1/2 [01:08<01:08, 68.73s/it]"
     ]
    },
    {
     "name": "stdout",
     "output_type": "stream",
     "text": [
      "Reached goals on 1887\n",
      "| UsedTime:      69 | SavedDir: ./trained_models | Total Step: 1887\n",
      "======jim-ppo-recurrent-317-agent-21 Validation from:  2017-07-05 to  2018-01-02\n",
      "Max reward at validation for Reccurent PPO 125.0\n",
      "Model updated:  330228  times\n",
      "======Trading from:  2018-01-03 to  2018-07-05\n",
      "Using device:  cpu\n"
     ]
    },
    {
     "name": "stderr",
     "output_type": "stream",
     "text": [
      "\n"
     ]
    },
    {
     "name": "stdout",
     "output_type": "stream",
     "text": [
      "Saving to  results/account_value_trade_main_jim-ppo-recurrent-317-agent-21.csv\n",
      "previous_total_asset:1500006.6338679714\n",
      "end_total_asset:1497291.769849832\n",
      "total_asset_change:-2714.8640181394294\n",
      "Total cash is: 6.890568671093611$ and total holdings in stocks are 1497284.879281161$\n",
      "Buy & Hold strategy with previous total asset:  1481965.9201209638\n",
      "Total Cost:  1963.1727413592566\n",
      "Sum of rewards  -6284.9930039336905\n",
      "Total trades:  242\n",
      "Total buy orders are 154 and total sell orders are 88\n",
      "Total days in turbulance:  0\n",
      "Sharpe:  0.009768993024063645\n",
      "Test Finished!\n",
      "episode_return % 0.4973000000000001\n",
      "Calculating buy and hold\n",
      "Buy and Hold value is  1475283.0604952318\n",
      "============================================\n",
      "Agent:  21 / 25\n",
      "{'eval_time_gap': 512, 'batch_size': 64, 'gamma': 0.99, 'learning_rate': {'start': 0.00747, 'end': 0.00062}, 'target_step': 68066, 'net_dimension': 512, 'episode': 2, 'seed': 69}\n",
      "======Model training from:  2010-01-01 to  2018-01-03\n",
      "| Remove cwd: ./trained_models\n",
      "Using device:  cpu\n",
      "################################################################################\n",
      "ID     Step    maxR |    avgR   stdR   avgS  stdS |    expR   objC   etc.\n"
     ]
    },
    {
     "name": "stderr",
     "output_type": "stream",
     "text": [
      "\r",
      "  0%|                                                                                            | 0/2 [00:00<?, ?it/s]"
     ]
    },
    {
     "name": "stdout",
     "output_type": "stream",
     "text": [
      "0  2.01e+03   -0.21 |   -0.21    1.9    125     0 |   -0.05   0.03   0.17  -0.49\n"
     ]
    },
    {
     "name": "stderr",
     "output_type": "stream",
     "text": [
      "\r",
      " 50%|██████████████████████████████████████████                                          | 1/2 [00:35<00:35, 35.81s/it]"
     ]
    },
    {
     "name": "stdout",
     "output_type": "stream",
     "text": [
      "0  4.03e+03    0.79 |    0.79    0.1    125     0 |   -0.01   0.01   0.18  -0.49\n"
     ]
    },
    {
     "name": "stderr",
     "output_type": "stream",
     "text": [
      "100%|████████████████████████████████████████████████████████████████████████████████████| 2/2 [01:11<00:00, 35.88s/it]\n"
     ]
    },
    {
     "name": "stdout",
     "output_type": "stream",
     "text": [
      "| UsedTime:      72 | SavedDir: ./trained_models | Total Step: 2013\n",
      "======jim-ppo-recurrent-317-agent-21 Validation from:  2018-01-03 to  2018-07-03\n",
      "Max reward at validation for Reccurent PPO 125.0\n",
      "Model updated:  330730  times\n",
      "======Trading from:  2018-07-05 to  2019-01-04\n",
      "Using device:  cpu\n",
      "Saving to  results/account_value_trade_main_jim-ppo-recurrent-317-agent-21.csv\n",
      "previous_total_asset:1497291.769849832\n",
      "end_total_asset:1477802.707903577\n",
      "total_asset_change:-19489.061946254922\n",
      "Total cash is: 0.8703936341090639$ and total holdings in stocks are 1477801.837509943$\n",
      "Buy & Hold strategy with previous total asset:  1452081.3754455554\n",
      "Total Cost:  783.3634171098704\n",
      "Sum of rewards  -28989.867025120882\n",
      "Total trades:  153\n",
      "Total buy orders are 92 and total sell orders are 61\n",
      "Total days in turbulance:  0\n",
      "Sharpe:  -0.007619625249160248\n",
      "Test Finished!\n",
      "episode_return % 0.4778\n",
      "Calculating buy and hold\n",
      "Buy and Hold value is  1430972.9262496235\n",
      "============================================\n",
      "Agent:  21 / 25\n",
      "{'eval_time_gap': 512, 'batch_size': 64, 'gamma': 0.99, 'learning_rate': {'start': 0.00747, 'end': 0.00062}, 'target_step': 68066, 'net_dimension': 512, 'episode': 2, 'seed': 69}\n",
      "======Model training from:  2010-01-01 to  2018-07-05\n",
      "| Remove cwd: ./trained_models\n",
      "Using device:  cpu\n",
      "################################################################################\n",
      "ID     Step    maxR |    avgR   stdR   avgS  stdS |    expR   objC   etc.\n"
     ]
    },
    {
     "name": "stderr",
     "output_type": "stream",
     "text": [
      "\r",
      "  0%|                                                                                            | 0/2 [00:00<?, ?it/s]"
     ]
    },
    {
     "name": "stdout",
     "output_type": "stream",
     "text": [
      "0  2.14e+03   -0.82 |   -0.82    1.5    125     0 |   -0.05   0.04   0.33  -0.49\n"
     ]
    },
    {
     "name": "stderr",
     "output_type": "stream",
     "text": [
      "\r",
      " 50%|██████████████████████████████████████████                                          | 1/2 [00:37<00:37, 37.03s/it]"
     ]
    },
    {
     "name": "stdout",
     "output_type": "stream",
     "text": [
      "0  4.28e+03   -0.02 |   -0.02    0.0    125     0 |   -0.01   0.00   0.21  -0.49\n"
     ]
    },
    {
     "name": "stderr",
     "output_type": "stream",
     "text": [
      "100%|████████████████████████████████████████████████████████████████████████████████████| 2/2 [01:15<00:00, 37.52s/it]\n"
     ]
    },
    {
     "name": "stdout",
     "output_type": "stream",
     "text": [
      "| UsedTime:      75 | SavedDir: ./trained_models | Total Step: 2139\n",
      "======jim-ppo-recurrent-317-agent-21 Validation from:  2018-07-05 to  2019-01-03\n",
      "Max reward at validation for Reccurent PPO 125.0\n",
      "Model updated:  331264  times\n",
      "======Trading from:  2019-01-04 to  2019-07-08\n",
      "Using device:  cpu\n",
      "Saving to  results/account_value_trade_main_jim-ppo-recurrent-317-agent-21.csv\n",
      "previous_total_asset:1477802.707903577\n",
      "end_total_asset:1803749.1273240214\n",
      "total_asset_change:325946.4194204444\n",
      "Total cash is: 12.171120560795266$ and total holdings in stocks are 1803736.9562034607$\n",
      "Buy & Hold strategy with previous total asset:  1714864.4280458933\n",
      "Total Cost:  1951.506016490732\n",
      "Sum of rewards  274090.8562438658\n",
      "Total trades:  211\n",
      "Total buy orders are 129 and total sell orders are 82\n",
      "Total days in turbulance:  0\n",
      "Sharpe:  0.444978191486121\n",
      "Test Finished!\n",
      "episode_return % 0.8037000000000001\n",
      "Calculating buy and hold\n",
      "Buy and Hold value is  1720448.0172379646\n",
      "============================================\n",
      "Agent:  21 / 25\n",
      "{'eval_time_gap': 512, 'batch_size': 64, 'gamma': 0.99, 'learning_rate': {'start': 0.00747, 'end': 0.00062}, 'target_step': 68066, 'net_dimension': 512, 'episode': 2, 'seed': 69}\n",
      "======Model training from:  2010-01-01 to  2019-01-04\n",
      "| Remove cwd: ./trained_models\n",
      "Using device:  cpu\n",
      "################################################################################\n",
      "ID     Step    maxR |    avgR   stdR   avgS  stdS |    expR   objC   etc.\n"
     ]
    },
    {
     "name": "stderr",
     "output_type": "stream",
     "text": [
      "\r",
      "  0%|                                                                                            | 0/2 [00:00<?, ?it/s]"
     ]
    },
    {
     "name": "stdout",
     "output_type": "stream",
     "text": [
      "0  2.27e+03    8.42 |    8.42    1.0    125     0 |   -0.04   0.04   0.44  -0.49\n"
     ]
    },
    {
     "name": "stderr",
     "output_type": "stream",
     "text": [
      "\r",
      "  0%|                                                                                            | 0/2 [00:41<?, ?it/s]"
     ]
    },
    {
     "name": "stdout",
     "output_type": "stream",
     "text": [
      "Reached goals on 2266\n",
      "| UsedTime:      41 | SavedDir: ./trained_models | Total Step: 2266\n",
      "======jim-ppo-recurrent-317-agent-21 Validation from:  2019-01-04 to  2019-07-05\n",
      "Max reward at validation for Reccurent PPO 125.0\n",
      "Model updated:  331547  times\n",
      "======Trading from:  2019-07-08 to  2020-01-06\n",
      "Using device:  cpu\n"
     ]
    },
    {
     "name": "stderr",
     "output_type": "stream",
     "text": [
      "\n"
     ]
    },
    {
     "name": "stdout",
     "output_type": "stream",
     "text": [
      "Saving to  results/account_value_trade_main_jim-ppo-recurrent-317-agent-21.csv\n",
      "previous_total_asset:1803749.1273240214\n",
      "end_total_asset:1884324.3356038088\n",
      "total_asset_change:80575.20827978733\n",
      "Total cash is: 29.049718235984017$ and total holdings in stocks are 1884295.2858855727$\n",
      "Buy & Hold strategy with previous total asset:  1928853.898682156\n",
      "Total Cost:  2236.588634240193\n",
      "Sum of rewards  83396.95834845188\n",
      "Total trades:  297\n",
      "Total buy orders are 192 and total sell orders are 105\n",
      "Total days in turbulance:  0\n",
      "Sharpe:  0.08584355817727023\n",
      "Test Finished!\n",
      "episode_return % 0.8843000000000001\n",
      "Calculating buy and hold\n",
      "Buy and Hold value is  1840102.579977516\n",
      "============================================\n",
      "Agent:  21 / 25\n",
      "{'eval_time_gap': 512, 'batch_size': 64, 'gamma': 0.99, 'learning_rate': {'start': 0.00747, 'end': 0.00062}, 'target_step': 68066, 'net_dimension': 512, 'episode': 2, 'seed': 69}\n",
      "======Model training from:  2010-01-01 to  2019-07-08\n",
      "| Remove cwd: ./trained_models\n",
      "Using device:  cpu\n",
      "################################################################################\n",
      "ID     Step    maxR |    avgR   stdR   avgS  stdS |    expR   objC   etc.\n"
     ]
    },
    {
     "name": "stderr",
     "output_type": "stream",
     "text": [
      "\r",
      "  0%|                                                                                            | 0/2 [00:00<?, ?it/s]"
     ]
    },
    {
     "name": "stdout",
     "output_type": "stream",
     "text": [
      "0  2.39e+03   -2.90 |   -2.90    0.1    125     0 |   -0.04   0.03   0.09  -0.51\n"
     ]
    },
    {
     "name": "stderr",
     "output_type": "stream",
     "text": [
      "\r",
      " 50%|██████████████████████████████████████████                                          | 1/2 [00:43<00:43, 43.00s/it]"
     ]
    },
    {
     "name": "stdout",
     "output_type": "stream",
     "text": [
      "0  4.78e+03   -1.54 |   -1.54    0.1    125     0 |   -0.00   0.00   0.24  -0.51\n"
     ]
    },
    {
     "name": "stderr",
     "output_type": "stream",
     "text": [
      "100%|████████████████████████████████████████████████████████████████████████████████████| 2/2 [01:26<00:00, 43.33s/it]\n"
     ]
    },
    {
     "name": "stdout",
     "output_type": "stream",
     "text": [
      "| UsedTime:      87 | SavedDir: ./trained_models | Total Step: 2391\n",
      "======jim-ppo-recurrent-317-agent-21 Validation from:  2019-07-08 to  2020-01-03\n",
      "Max reward at validation for Reccurent PPO 125.0\n",
      "Model updated:  332144  times\n",
      "======Trading from:  2020-01-06 to  2020-07-07\n",
      "Using device:  cpu\n",
      "Saving to  results/account_value_trade_main_jim-ppo-recurrent-317-agent-21.csv\n",
      "previous_total_asset:1884324.3356038088\n",
      "end_total_asset:1452023.8662695198\n",
      "total_asset_change:-432300.46933428897\n",
      "Total cash is: 14.497111042958558$ and total holdings in stocks are 1452009.3691584768$\n",
      "Buy & Hold strategy with previous total asset:  1717103.345046746\n",
      "Total Cost:  2709.2210811479067\n",
      "Sum of rewards  -436812.7815135934\n",
      "Total trades:  337\n",
      "Total buy orders are 172 and total sell orders are 165\n",
      "Total days in turbulance:  0\n",
      "Sharpe:  -0.11964550983556288\n",
      "Test Finished!\n",
      "episode_return % 0.45199999999999996\n",
      "Calculating buy and hold\n",
      "Buy and Hold value is  1723485.9539832785\n",
      "Buy and hold bigger than performances\n",
      "Writing hparams:  {'eval_time_gap': 512, 'batch_size': 64, 'gamma': 0.99, 'learning_rate': {'start': 0.00747, 'end': 0.00062}, 'target_step': 68066, 'net_dimension': 512, 'episode': 2, 'seed': 69}\n",
      "value should be one of int, float, str, bool, or torch.Tensor\n",
      "Could not write the haparms {'eval_time_gap': 512, 'batch_size': 64, 'gamma': 0.99, 'learning_rate': {'start': 0.00747, 'end': 0.00062}, 'target_step': 68066, 'net_dimension': 512, 'episode': 2, 'seed': 69} with end total asset of  1452023.8662695198\n",
      "============================================\n",
      "Agent:  22 / 25\n",
      "{'eval_time_gap': 1024, 'batch_size': 128, 'gamma': 0.9999, 'learning_rate': 0.01319, 'target_step': 5805, 'net_dimension': 512, 'episode': 12, 'seed': 31}\n",
      "======Model training from:  2010-01-01 to  2016-01-04\n",
      "| Remove cwd: ./trained_models\n",
      "Using device:  cpu\n",
      "################################################################################\n",
      "ID     Step    maxR |    avgR   stdR   avgS  stdS |    expR   objC   etc.\n"
     ]
    },
    {
     "name": "stderr",
     "output_type": "stream",
     "text": [
      "\r",
      "  0%|                                                                                           | 0/12 [00:00<?, ?it/s]"
     ]
    },
    {
     "name": "stdout",
     "output_type": "stream",
     "text": [
      "0  1.51e+03    1.18 |    1.18    0.8    125     0 |   -0.06   0.16   0.38  -0.49\n"
     ]
    },
    {
     "name": "stderr",
     "output_type": "stream",
     "text": [
      "\r",
      "  8%|██████▉                                                                            | 1/12 [00:27<05:05, 27.76s/it]"
     ]
    },
    {
     "name": "stdout",
     "output_type": "stream",
     "text": [
      "0  3.02e+03    1.98 |    1.98    0.0    125     0 |   -0.00   0.12   0.30  -0.49\n"
     ]
    },
    {
     "name": "stderr",
     "output_type": "stream",
     "text": [
      "\r",
      " 17%|█████████████▊                                                                     | 2/12 [00:55<04:37, 27.76s/it]"
     ]
    },
    {
     "name": "stdout",
     "output_type": "stream",
     "text": [
      "0  4.53e+03    1.98 |    1.58    0.0    125     0 |    0.00   0.03   0.39  -0.49\n"
     ]
    },
    {
     "name": "stderr",
     "output_type": "stream",
     "text": [
      "\r",
      " 25%|████████████████████▊                                                              | 3/12 [01:14<03:32, 23.57s/it]"
     ]
    },
    {
     "name": "stdout",
     "output_type": "stream",
     "text": [
      "0  6.03e+03    1.98 |    1.54    0.0    125     0 |   -0.01   0.23   0.35  -0.49\n"
     ]
    },
    {
     "name": "stderr",
     "output_type": "stream",
     "text": [
      "\r",
      " 33%|███████████████████████████▋                                                       | 4/12 [01:32<02:53, 21.67s/it]"
     ]
    },
    {
     "name": "stdout",
     "output_type": "stream",
     "text": [
      "0  7.54e+03    1.98 |    1.69    0.0    125     0 |   -0.01   0.19   0.36  -0.49\n"
     ]
    },
    {
     "name": "stderr",
     "output_type": "stream",
     "text": [
      "\r",
      " 42%|██████████████████████████████████▌                                                | 5/12 [01:51<02:23, 20.51s/it]"
     ]
    },
    {
     "name": "stdout",
     "output_type": "stream",
     "text": [
      "0  9.04e+03    1.98 |    1.13    0.0    125     0 |   -0.01   0.14   0.28  -0.49\n"
     ]
    },
    {
     "name": "stderr",
     "output_type": "stream",
     "text": [
      "\r",
      " 50%|█████████████████████████████████████████▌                                         | 6/12 [02:09<01:59, 19.88s/it]"
     ]
    },
    {
     "name": "stdout",
     "output_type": "stream",
     "text": [
      "0  1.05e+04    1.98 |    1.33    0.0    125     0 |   -0.01   0.12   0.26  -0.49\n"
     ]
    },
    {
     "name": "stderr",
     "output_type": "stream",
     "text": [
      "\r",
      " 58%|████████████████████████████████████████████████▍                                  | 7/12 [02:28<01:36, 19.36s/it]"
     ]
    },
    {
     "name": "stdout",
     "output_type": "stream",
     "text": [
      "0  1.21e+04    2.44 |    2.44    0.0    125     0 |   -0.02   0.12   0.34  -0.49\n"
     ]
    },
    {
     "name": "stderr",
     "output_type": "stream",
     "text": [
      "\r",
      " 67%|███████████████████████████████████████████████████████▎                           | 8/12 [02:56<01:28, 22.23s/it]"
     ]
    },
    {
     "name": "stdout",
     "output_type": "stream",
     "text": [
      "0  1.36e+04    2.44 |    1.16    0.0    125     0 |   -0.01   0.13   0.31  -0.49\n"
     ]
    },
    {
     "name": "stderr",
     "output_type": "stream",
     "text": [
      "\r",
      " 75%|██████████████████████████████████████████████████████████████▎                    | 9/12 [03:15<01:03, 21.18s/it]"
     ]
    },
    {
     "name": "stdout",
     "output_type": "stream",
     "text": [
      "0  1.51e+04    2.44 |    2.37    0.0    125     0 |   -0.02   0.21   0.27  -0.49\n"
     ]
    },
    {
     "name": "stderr",
     "output_type": "stream",
     "text": [
      "\r",
      " 83%|████████████████████████████████████████████████████████████████████▎             | 10/12 [03:34<00:40, 20.49s/it]"
     ]
    },
    {
     "name": "stdout",
     "output_type": "stream",
     "text": [
      "0  1.66e+04    2.44 |    1.85    0.0    125     0 |   -0.01   0.01   0.44  -0.49\n"
     ]
    },
    {
     "name": "stderr",
     "output_type": "stream",
     "text": [
      "\r",
      " 92%|███████████████████████████████████████████████████████████████████████████▏      | 11/12 [03:53<00:20, 20.06s/it]"
     ]
    },
    {
     "name": "stdout",
     "output_type": "stream",
     "text": [
      "0  1.81e+04    2.44 |    1.30    0.0    125     0 |   -0.00   0.14   0.33  -0.49\n"
     ]
    },
    {
     "name": "stderr",
     "output_type": "stream",
     "text": [
      "100%|██████████████████████████████████████████████████████████████████████████████████| 12/12 [04:12<00:00, 21.07s/it]\n"
     ]
    },
    {
     "name": "stdout",
     "output_type": "stream",
     "text": [
      "| UsedTime:     253 | SavedDir: ./trained_models | Total Step: 1499\n",
      "======jim-ppo-recurrent-317-agent-22 Validation from:  2016-01-04 to  2016-07-01\n",
      "Max reward at validation for Reccurent PPO 125.0\n",
      "Model updated:  333267  times\n",
      "======Trading from:  2016-07-05 to  2017-01-03\n",
      "Using device:  cpu\n",
      "previous_total_asset:1000000\n",
      "end_total_asset:1117342.3336013493\n",
      "total_asset_change:117342.33360134927\n",
      "Total cash is: -2.104823083287556$ and total holdings in stocks are 1117344.4384244327$\n",
      "Buy & Hold strategy with previous total asset:  1107583.5885027447\n",
      "Total Cost:  2232.1928483211027\n",
      "Sum of rewards  117342.33360134927\n",
      "Total trades:  385\n",
      "Total buy orders are 299 and total sell orders are 86\n",
      "Total days in turbulance:  0\n",
      "Sharpe:  0.28191644060212395\n",
      "Test Finished!\n",
      "episode_return % 0.11729999999999996\n",
      "============================================\n",
      "Agent:  22 / 25\n",
      "{'eval_time_gap': 1024, 'batch_size': 128, 'gamma': 0.9999, 'learning_rate': 0.01319, 'target_step': 5805, 'net_dimension': 512, 'episode': 12, 'seed': 31}\n",
      "======Model training from:  2010-01-01 to  2016-07-05\n",
      "| Remove cwd: ./trained_models\n",
      "Using device:  cpu\n",
      "################################################################################\n",
      "ID     Step    maxR |    avgR   stdR   avgS  stdS |    expR   objC   etc.\n"
     ]
    },
    {
     "name": "stderr",
     "output_type": "stream",
     "text": [
      "\r",
      "  0%|                                                                                           | 0/12 [00:00<?, ?it/s]"
     ]
    },
    {
     "name": "stdout",
     "output_type": "stream",
     "text": [
      "0  1.64e+03    3.96 |    3.96    1.4    125     0 |   -0.06   0.04   0.38  -0.52\n"
     ]
    },
    {
     "name": "stderr",
     "output_type": "stream",
     "text": [
      "\r",
      "  8%|██████▉                                                                            | 1/12 [00:29<05:21, 29.24s/it]"
     ]
    },
    {
     "name": "stdout",
     "output_type": "stream",
     "text": [
      "0  3.27e+03    3.96 |    2.66    0.0    125     0 |   -0.01   0.05   0.31  -0.52\n"
     ]
    },
    {
     "name": "stderr",
     "output_type": "stream",
     "text": [
      "\r",
      " 17%|█████████████▊                                                                     | 2/12 [00:49<03:58, 23.87s/it]"
     ]
    },
    {
     "name": "stdout",
     "output_type": "stream",
     "text": [
      "0  4.90e+03    3.96 |    3.34    0.0    125     0 |   -0.01   0.05   0.28  -0.52\n"
     ]
    },
    {
     "name": "stderr",
     "output_type": "stream",
     "text": [
      "\r",
      " 25%|████████████████████▊                                                              | 3/12 [01:09<03:19, 22.11s/it]"
     ]
    },
    {
     "name": "stdout",
     "output_type": "stream",
     "text": [
      "0  6.54e+03    3.96 |    3.25    0.0    125     0 |   -0.01   0.05   0.31  -0.52\n"
     ]
    },
    {
     "name": "stderr",
     "output_type": "stream",
     "text": [
      "\r",
      " 33%|███████████████████████████▋                                                       | 4/12 [01:29<02:50, 21.37s/it]"
     ]
    },
    {
     "name": "stdout",
     "output_type": "stream",
     "text": [
      "0  8.17e+03    3.96 |    2.97    0.0    125     0 |   -0.01   0.04   0.27  -0.52\n"
     ]
    },
    {
     "name": "stderr",
     "output_type": "stream",
     "text": [
      "\r",
      " 42%|██████████████████████████████████▌                                                | 5/12 [01:49<02:26, 20.88s/it]"
     ]
    },
    {
     "name": "stdout",
     "output_type": "stream",
     "text": [
      "0  9.80e+03    3.96 |    2.96    0.0    125     0 |   -0.02   0.04   0.27  -0.52\n"
     ]
    },
    {
     "name": "stderr",
     "output_type": "stream",
     "text": [
      "\r",
      " 50%|█████████████████████████████████████████▌                                         | 6/12 [02:09<02:02, 20.50s/it]"
     ]
    },
    {
     "name": "stdout",
     "output_type": "stream",
     "text": [
      "0  1.14e+04    3.96 |    2.95    0.0    125     0 |   -0.02   0.04   0.31  -0.52\n"
     ]
    },
    {
     "name": "stderr",
     "output_type": "stream",
     "text": [
      "\r",
      " 58%|████████████████████████████████████████████████▍                                  | 7/12 [02:29<01:41, 20.40s/it]"
     ]
    },
    {
     "name": "stdout",
     "output_type": "stream",
     "text": [
      "0  1.31e+04    3.96 |    2.94    0.0    125     0 |   -0.02   0.04   0.27  -0.52\n"
     ]
    },
    {
     "name": "stderr",
     "output_type": "stream",
     "text": [
      "\r",
      " 67%|███████████████████████████████████████████████████████▎                           | 8/12 [02:49<01:21, 20.33s/it]"
     ]
    },
    {
     "name": "stdout",
     "output_type": "stream",
     "text": [
      "0  1.47e+04    3.96 |    2.94    0.0    125     0 |   -0.02   0.04   0.31  -0.52\n"
     ]
    },
    {
     "name": "stderr",
     "output_type": "stream",
     "text": [
      "\r",
      " 75%|██████████████████████████████████████████████████████████████▎                    | 9/12 [03:10<01:01, 20.47s/it]"
     ]
    },
    {
     "name": "stdout",
     "output_type": "stream",
     "text": [
      "0  1.63e+04    3.96 |    2.94    0.0    125     0 |   -0.02   0.04   0.30  -0.52\n"
     ]
    },
    {
     "name": "stderr",
     "output_type": "stream",
     "text": [
      "\r",
      " 83%|████████████████████████████████████████████████████████████████████▎             | 10/12 [03:31<00:40, 20.49s/it]"
     ]
    },
    {
     "name": "stdout",
     "output_type": "stream",
     "text": [
      "0  1.79e+04    3.96 |    2.93    0.0    125     0 |   -0.02   0.04   0.26  -0.52\n"
     ]
    },
    {
     "name": "stderr",
     "output_type": "stream",
     "text": [
      "\r",
      " 92%|███████████████████████████████████████████████████████████████████████████▏      | 11/12 [03:51<00:20, 20.54s/it]"
     ]
    },
    {
     "name": "stdout",
     "output_type": "stream",
     "text": [
      "0  1.96e+04    3.96 |    2.93    0.0    125     0 |   -0.02   0.05   0.28  -0.52\n"
     ]
    },
    {
     "name": "stderr",
     "output_type": "stream",
     "text": [
      "100%|██████████████████████████████████████████████████████████████████████████████████| 12/12 [04:12<00:00, 21.03s/it]\n"
     ]
    },
    {
     "name": "stdout",
     "output_type": "stream",
     "text": [
      "| UsedTime:     252 | SavedDir: ./trained_models | Total Step: 1625\n",
      "======jim-ppo-recurrent-317-agent-22 Validation from:  2016-07-05 to  2016-12-30\n",
      "Max reward at validation for Reccurent PPO 125.0\n",
      "Model updated:  334484  times\n",
      "======Trading from:  2017-01-03 to  2017-07-05\n",
      "Using device:  cpu\n",
      "Saving to  results/account_value_trade_main_jim-ppo-recurrent-317-agent-22.csv\n",
      "previous_total_asset:1117342.3336013493\n",
      "end_total_asset:1186560.1426740754\n",
      "total_asset_change:69217.80907272617\n",
      "Total cash is: 2.7313721434422966$ and total holdings in stocks are 1186557.411301932$\n",
      "Buy & Hold strategy with previous total asset:  1210671.8682489672\n",
      "Total Cost:  987.9118955173493\n",
      "Sum of rewards  58940.72438900033\n",
      "Total trades:  172\n",
      "Total buy orders are 105 and total sell orders are 67\n",
      "Total days in turbulance:  0\n",
      "Sharpe:  0.1954264579212107\n",
      "Test Finished!\n",
      "episode_return % 0.1866000000000001\n",
      "============================================\n",
      "Agent:  22 / 25\n",
      "{'eval_time_gap': 1024, 'batch_size': 128, 'gamma': 0.9999, 'learning_rate': 0.01319, 'target_step': 5805, 'net_dimension': 512, 'episode': 12, 'seed': 31}\n",
      "======Model training from:  2010-01-01 to  2017-01-03\n",
      "| Remove cwd: ./trained_models\n",
      "Using device:  cpu\n",
      "################################################################################\n",
      "ID     Step    maxR |    avgR   stdR   avgS  stdS |    expR   objC   etc.\n"
     ]
    },
    {
     "name": "stderr",
     "output_type": "stream",
     "text": [
      "\r",
      "  0%|                                                                                           | 0/12 [00:00<?, ?it/s]"
     ]
    },
    {
     "name": "stdout",
     "output_type": "stream",
     "text": [
      "0  1.76e+03    4.24 |    4.24    0.1    125     0 |   -0.05   0.11   0.39  -0.51\n"
     ]
    },
    {
     "name": "stderr",
     "output_type": "stream",
     "text": [
      "\r",
      "  0%|                                                                                           | 0/12 [00:29<?, ?it/s]"
     ]
    },
    {
     "name": "stdout",
     "output_type": "stream",
     "text": [
      "Reached goals on 1762\n",
      "| UsedTime:      30 | SavedDir: ./trained_models | Total Step: 1762\n",
      "======jim-ppo-recurrent-317-agent-22 Validation from:  2017-01-03 to  2017-07-03\n",
      "Max reward at validation for Reccurent PPO 125.0\n",
      "Model updated:  334594  times\n",
      "======Trading from:  2017-07-05 to  2018-01-03\n",
      "Using device:  cpu\n"
     ]
    },
    {
     "name": "stderr",
     "output_type": "stream",
     "text": [
      "\n"
     ]
    },
    {
     "name": "stdout",
     "output_type": "stream",
     "text": [
      "Saving to  results/account_value_trade_main_jim-ppo-recurrent-317-agent-22.csv\n",
      "previous_total_asset:1186560.1426740754\n",
      "end_total_asset:1385621.0794009452\n",
      "total_asset_change:199060.93672686978\n",
      "Total cash is: 23.29948025573117$ and total holdings in stocks are 1385597.7799206895$\n",
      "Buy & Hold strategy with previous total asset:  1380137.1755758796\n",
      "Total Cost:  631.3720457370401\n",
      "Sum of rewards  200384.34258833202\n",
      "Total trades:  156\n",
      "Total buy orders are 88 and total sell orders are 68\n",
      "Total days in turbulance:  0\n",
      "Sharpe:  0.5439601131115263\n",
      "Test Finished!\n",
      "episode_return % 0.38559999999999994\n",
      "============================================\n",
      "Agent:  22 / 25\n",
      "{'eval_time_gap': 1024, 'batch_size': 128, 'gamma': 0.9999, 'learning_rate': 0.01319, 'target_step': 5805, 'net_dimension': 512, 'episode': 12, 'seed': 31}\n",
      "======Model training from:  2010-01-01 to  2017-07-05\n",
      "| Remove cwd: ./trained_models\n",
      "Using device:  cpu\n",
      "################################################################################\n",
      "ID     Step    maxR |    avgR   stdR   avgS  stdS |    expR   objC   etc.\n"
     ]
    },
    {
     "name": "stderr",
     "output_type": "stream",
     "text": [
      "\r",
      "  0%|                                                                                           | 0/12 [00:00<?, ?it/s]"
     ]
    },
    {
     "name": "stdout",
     "output_type": "stream",
     "text": [
      "0  1.89e+03    4.12 |    4.12    0.8    125     0 |   -0.05   0.05   0.43  -0.49\n"
     ]
    },
    {
     "name": "stderr",
     "output_type": "stream",
     "text": [
      "\r",
      "  0%|                                                                                           | 0/12 [00:31<?, ?it/s]"
     ]
    },
    {
     "name": "stdout",
     "output_type": "stream",
     "text": [
      "Reached goals on 1888\n",
      "| UsedTime:      32 | SavedDir: ./trained_models | Total Step: 1888\n",
      "======jim-ppo-recurrent-317-agent-22 Validation from:  2017-07-05 to  2018-01-02\n",
      "Max reward at validation for Reccurent PPO 125.0\n",
      "Model updated:  334712  times\n",
      "======Trading from:  2018-01-03 to  2018-07-05\n",
      "Using device:  cpu\n"
     ]
    },
    {
     "name": "stderr",
     "output_type": "stream",
     "text": [
      "\n"
     ]
    },
    {
     "name": "stdout",
     "output_type": "stream",
     "text": [
      "Saving to  results/account_value_trade_main_jim-ppo-recurrent-317-agent-22.csv\n",
      "previous_total_asset:1385621.0794009452\n",
      "end_total_asset:1293817.6824164442\n",
      "total_asset_change:-91803.39698450104\n",
      "Total cash is: 33.67013991610247$ and total holdings in stocks are 1293784.0122765282$\n",
      "Buy & Hold strategy with previous total asset:  1368956.0909329727\n",
      "Total Cost:  555.5937415847778\n",
      "Sum of rewards  -101867.2929641977\n",
      "Total trades:  101\n",
      "Total buy orders are 54 and total sell orders are 47\n",
      "Total days in turbulance:  0\n",
      "Sharpe:  -0.08396773360762057\n",
      "Test Finished!\n",
      "episode_return % 0.29380000000000006\n",
      "Calculating buy and hold\n",
      "Buy and Hold value is  1475283.0604952318\n",
      "Buy and hold bigger than performances\n",
      "Writing hparams:  {'eval_time_gap': 1024, 'batch_size': 128, 'gamma': 0.9999, 'learning_rate': 0.01319, 'target_step': 5805, 'net_dimension': 512, 'episode': 12, 'seed': 31}\n",
      "value should be one of int, float, str, bool, or torch.Tensor\n",
      "Could not write the haparms {'eval_time_gap': 1024, 'batch_size': 128, 'gamma': 0.9999, 'learning_rate': 0.01319, 'target_step': 5805, 'net_dimension': 512, 'episode': 12, 'seed': 31} with end total asset of  1293817.6824164442\n",
      "============================================\n",
      "Agent:  23 / 25\n",
      "{'eval_time_gap': 64, 'batch_size': 64, 'gamma': 0.98, 'learning_rate': {'start': 0.02177, 'end': 0.00038}, 'target_step': 35930, 'net_dimension': 1026, 'episode': 7, 'seed': 31}\n",
      "======Model training from:  2010-01-01 to  2016-01-04\n",
      "| Remove cwd: ./trained_models\n",
      "Using device:  cpu\n",
      "################################################################################\n",
      "ID     Step    maxR |    avgR   stdR   avgS  stdS |    expR   objC   etc.\n"
     ]
    },
    {
     "name": "stderr",
     "output_type": "stream",
     "text": [
      "\r",
      "  0%|                                                                                            | 0/7 [00:00<?, ?it/s]"
     ]
    },
    {
     "name": "stdout",
     "output_type": "stream",
     "text": [
      "0  1.51e+03    2.20 |    2.20    0.3    125     0 |   -0.05   0.04   0.31  -0.48\n"
     ]
    },
    {
     "name": "stderr",
     "output_type": "stream",
     "text": [
      "\r",
      " 14%|████████████                                                                        | 1/7 [00:38<03:50, 38.47s/it]"
     ]
    },
    {
     "name": "stdout",
     "output_type": "stream",
     "text": [
      "0  3.02e+03    2.20 |    2.10    0.0    125     0 |   -0.01   0.07   0.20  -0.48\n"
     ]
    },
    {
     "name": "stderr",
     "output_type": "stream",
     "text": [
      "\r",
      " 29%|████████████████████████                                                            | 2/7 [01:06<02:42, 32.51s/it]"
     ]
    },
    {
     "name": "stdout",
     "output_type": "stream",
     "text": [
      "0  4.53e+03    2.42 |    2.42    0.0    125     0 |   -0.00   0.22   0.07  -0.48\n"
     ]
    },
    {
     "name": "stderr",
     "output_type": "stream",
     "text": [
      "\r",
      " 43%|████████████████████████████████████                                                | 3/7 [01:45<02:21, 35.28s/it]"
     ]
    },
    {
     "name": "stdout",
     "output_type": "stream",
     "text": [
      "0  6.03e+03    2.42 |    2.37    0.0    125     0 |   -0.01   0.26   0.19  -0.48\n"
     ]
    },
    {
     "name": "stderr",
     "output_type": "stream",
     "text": [
      "\r",
      " 57%|████████████████████████████████████████████████                                    | 4/7 [02:15<01:39, 33.09s/it]"
     ]
    },
    {
     "name": "stdout",
     "output_type": "stream",
     "text": [
      "0  7.54e+03    2.42 |    0.88    0.0    125     0 |   -0.01   0.31   0.36  -0.48\n"
     ]
    },
    {
     "name": "stderr",
     "output_type": "stream",
     "text": [
      "\r",
      " 71%|████████████████████████████████████████████████████████████                        | 5/7 [02:47<01:05, 32.90s/it]"
     ]
    },
    {
     "name": "stdout",
     "output_type": "stream",
     "text": [
      "0  9.04e+03    2.42 |    1.12    0.0    125     0 |   -0.01   0.34   0.39  -0.48\n"
     ]
    },
    {
     "name": "stderr",
     "output_type": "stream",
     "text": [
      "\r",
      " 86%|████████████████████████████████████████████████████████████████████████            | 6/7 [03:20<00:32, 32.88s/it]"
     ]
    },
    {
     "name": "stdout",
     "output_type": "stream",
     "text": [
      "0  1.05e+04    2.42 |    1.12    0.0    125     0 |   -0.01   0.27   0.36  -0.48\n"
     ]
    },
    {
     "name": "stderr",
     "output_type": "stream",
     "text": [
      "100%|████████████████████████████████████████████████████████████████████████████████████| 7/7 [03:54<00:00, 33.49s/it]\n"
     ]
    },
    {
     "name": "stdout",
     "output_type": "stream",
     "text": [
      "| UsedTime:     234 | SavedDir: ./trained_models | Total Step: 1504\n",
      "======jim-ppo-recurrent-317-agent-23 Validation from:  2016-01-04 to  2016-07-01\n",
      "Max reward at validation for Reccurent PPO 125.0\n",
      "Model updated:  336028  times\n",
      "======Trading from:  2016-07-05 to  2017-01-03\n",
      "Using device:  cpu\n",
      "previous_total_asset:1000000\n",
      "end_total_asset:1132277.742206318\n",
      "total_asset_change:132277.74220631807\n",
      "Total cash is: 2.328586323020801$ and total holdings in stocks are 1132275.4136199951$\n",
      "Buy & Hold strategy with previous total asset:  1107583.5885027447\n",
      "Total Cost:  998.9986727409364\n",
      "Sum of rewards  132277.74220631807\n",
      "Total trades:  126\n",
      "Total buy orders are 126 and total sell orders are 0\n",
      "Total days in turbulance:  0\n",
      "Sharpe:  0.34319294620564456\n",
      "Test Finished!\n",
      "episode_return % 0.13230000000000008\n",
      "============================================\n",
      "Agent:  23 / 25\n",
      "{'eval_time_gap': 64, 'batch_size': 64, 'gamma': 0.98, 'learning_rate': {'start': 0.02177, 'end': 0.00038}, 'target_step': 35930, 'net_dimension': 1026, 'episode': 7, 'seed': 31}\n",
      "======Model training from:  2010-01-01 to  2016-07-05\n",
      "| Remove cwd: ./trained_models\n",
      "Using device:  cpu\n",
      "################################################################################\n",
      "ID     Step    maxR |    avgR   stdR   avgS  stdS |    expR   objC   etc.\n"
     ]
    },
    {
     "name": "stderr",
     "output_type": "stream",
     "text": [
      "\r",
      "  0%|                                                                                            | 0/7 [00:00<?, ?it/s]"
     ]
    },
    {
     "name": "stdout",
     "output_type": "stream",
     "text": [
      "0  1.64e+03    3.12 |    3.12    0.9    125     0 |   -0.05   0.35   0.24  -0.51\n"
     ]
    },
    {
     "name": "stderr",
     "output_type": "stream",
     "text": [
      "\r",
      " 14%|████████████                                                                        | 1/7 [00:40<04:02, 40.46s/it]"
     ]
    },
    {
     "name": "stdout",
     "output_type": "stream",
     "text": [
      "0  3.27e+03    4.43 |    4.43    0.2    125     0 |    0.00   0.11   0.47  -0.51\n"
     ]
    },
    {
     "name": "stderr",
     "output_type": "stream",
     "text": [
      "\r",
      " 14%|████████████                                                                        | 1/7 [01:21<08:07, 81.31s/it]"
     ]
    },
    {
     "name": "stdout",
     "output_type": "stream",
     "text": [
      "Reached goals on 1635\n",
      "| UsedTime:      81 | SavedDir: ./trained_models | Total Step: 1635\n",
      "======jim-ppo-recurrent-317-agent-23 Validation from:  2016-07-05 to  2016-12-30\n",
      "Max reward at validation for Reccurent PPO 125.0\n",
      "Model updated:  336436  times\n",
      "======Trading from:  2017-01-03 to  2017-07-05\n",
      "Using device:  cpu\n"
     ]
    },
    {
     "name": "stderr",
     "output_type": "stream",
     "text": [
      "\n"
     ]
    },
    {
     "name": "stdout",
     "output_type": "stream",
     "text": [
      "Saving to  results/account_value_trade_main_jim-ppo-recurrent-317-agent-23.csv\n",
      "previous_total_asset:1132277.742206318\n",
      "end_total_asset:1159087.3467092384\n",
      "total_asset_change:26809.604502920294\n",
      "Total cash is: 4.916329370786116$ and total holdings in stocks are 1159082.4303798676$\n",
      "Buy & Hold strategy with previous total asset:  1226854.8038588252\n",
      "Total Cost:  1082.157334085464\n",
      "Sum of rewards  21711.55398106971\n",
      "Total trades:  123\n",
      "Total buy orders are 71 and total sell orders are 52\n",
      "Total days in turbulance:  0\n",
      "Sharpe:  0.06197216450152122\n",
      "Test Finished!\n",
      "episode_return % 0.15910000000000002\n",
      "============================================\n",
      "Agent:  23 / 25\n",
      "{'eval_time_gap': 64, 'batch_size': 64, 'gamma': 0.98, 'learning_rate': {'start': 0.02177, 'end': 0.00038}, 'target_step': 35930, 'net_dimension': 1026, 'episode': 7, 'seed': 31}\n",
      "======Model training from:  2010-01-01 to  2017-01-03\n",
      "| Remove cwd: ./trained_models\n",
      "Using device:  cpu\n",
      "################################################################################\n",
      "ID     Step    maxR |    avgR   stdR   avgS  stdS |    expR   objC   etc.\n"
     ]
    },
    {
     "name": "stderr",
     "output_type": "stream",
     "text": [
      "\r",
      "  0%|                                                                                            | 0/7 [00:00<?, ?it/s]"
     ]
    },
    {
     "name": "stdout",
     "output_type": "stream",
     "text": [
      "0  1.76e+03    4.37 |    4.37    0.2    125     0 |   -0.04   0.07   0.12  -0.47\n"
     ]
    },
    {
     "name": "stderr",
     "output_type": "stream",
     "text": [
      "\r",
      "  0%|                                                                                            | 0/7 [00:42<?, ?it/s]"
     ]
    },
    {
     "name": "stdout",
     "output_type": "stream",
     "text": [
      "Reached goals on 1762\n",
      "| UsedTime:      43 | SavedDir: ./trained_models | Total Step: 1762\n",
      "======jim-ppo-recurrent-317-agent-23 Validation from:  2017-01-03 to  2017-07-03\n",
      "Max reward at validation for Reccurent PPO 125.0\n",
      "Model updated:  336656  times\n",
      "======Trading from:  2017-07-05 to  2018-01-03\n",
      "Using device:  cpu\n"
     ]
    },
    {
     "name": "stderr",
     "output_type": "stream",
     "text": [
      "\n"
     ]
    },
    {
     "name": "stdout",
     "output_type": "stream",
     "text": [
      "Saving to  results/account_value_trade_main_jim-ppo-recurrent-317-agent-23.csv\n",
      "previous_total_asset:1159087.3467092384\n",
      "end_total_asset:1309323.8999699329\n",
      "total_asset_change:150236.5532606945\n",
      "Total cash is: 3.635012504889456$ and total holdings in stocks are 1309320.264957428$\n",
      "Buy & Hold strategy with previous total asset:  1348182.430372123\n",
      "Total Cost:  659.9134789600373\n",
      "Sum of rewards  151809.03668011283\n",
      "Total trades:  127\n",
      "Total buy orders are 64 and total sell orders are 63\n",
      "Total days in turbulance:  0\n",
      "Sharpe:  0.3302051920658779\n",
      "Test Finished!\n",
      "episode_return % 0.3092999999999999\n",
      "============================================\n",
      "Agent:  23 / 25\n",
      "{'eval_time_gap': 64, 'batch_size': 64, 'gamma': 0.98, 'learning_rate': {'start': 0.02177, 'end': 0.00038}, 'target_step': 35930, 'net_dimension': 1026, 'episode': 7, 'seed': 31}\n",
      "======Model training from:  2010-01-01 to  2017-07-05\n",
      "| Remove cwd: ./trained_models\n",
      "Using device:  cpu\n",
      "################################################################################\n",
      "ID     Step    maxR |    avgR   stdR   avgS  stdS |    expR   objC   etc.\n"
     ]
    },
    {
     "name": "stderr",
     "output_type": "stream",
     "text": [
      "\r",
      "  0%|                                                                                            | 0/7 [00:00<?, ?it/s]"
     ]
    },
    {
     "name": "stdout",
     "output_type": "stream",
     "text": [
      "0  1.89e+03    4.19 |    4.19    1.2    125     0 |   -0.04   0.36   0.09  -0.46\n"
     ]
    },
    {
     "name": "stderr",
     "output_type": "stream",
     "text": [
      "\r",
      "  0%|                                                                                            | 0/7 [00:44<?, ?it/s]"
     ]
    },
    {
     "name": "stdout",
     "output_type": "stream",
     "text": [
      "Reached goals on 1888\n",
      "| UsedTime:      44 | SavedDir: ./trained_models | Total Step: 1888\n",
      "======jim-ppo-recurrent-317-agent-23 Validation from:  2017-07-05 to  2018-01-02\n",
      "Max reward at validation for Reccurent PPO 125.0\n",
      "Model updated:  336892  times\n",
      "======Trading from:  2018-01-03 to  2018-07-05\n",
      "Using device:  cpu\n"
     ]
    },
    {
     "name": "stderr",
     "output_type": "stream",
     "text": [
      "\n"
     ]
    },
    {
     "name": "stdout",
     "output_type": "stream",
     "text": [
      "Saving to  results/account_value_trade_main_jim-ppo-recurrent-317-agent-23.csv\n",
      "previous_total_asset:1309323.8999699329\n",
      "end_total_asset:1230640.6006172986\n",
      "total_asset_change:-78683.29935263423\n",
      "Total cash is: 4.633927235031422$ and total holdings in stocks are 1230635.9666900635$\n",
      "Buy & Hold strategy with previous total asset:  1293576.544492869\n",
      "Total Cost:  1373.4436931495654\n",
      "Sum of rewards  -84116.70427893428\n",
      "Total trades:  159\n",
      "Total buy orders are 89 and total sell orders are 70\n",
      "Total days in turbulance:  0\n",
      "Sharpe:  -0.06814179708597115\n",
      "Test Finished!\n",
      "episode_return % 0.23059999999999992\n",
      "Calculating buy and hold\n",
      "Buy and Hold value is  1475283.0604952318\n",
      "Buy and hold bigger than performances\n",
      "Writing hparams:  {'eval_time_gap': 64, 'batch_size': 64, 'gamma': 0.98, 'learning_rate': {'start': 0.02177, 'end': 0.00038}, 'target_step': 35930, 'net_dimension': 1026, 'episode': 7, 'seed': 31}\n",
      "value should be one of int, float, str, bool, or torch.Tensor\n",
      "Could not write the haparms {'eval_time_gap': 64, 'batch_size': 64, 'gamma': 0.98, 'learning_rate': {'start': 0.02177, 'end': 0.00038}, 'target_step': 35930, 'net_dimension': 1026, 'episode': 7, 'seed': 31} with end total asset of  1230640.6006172986\n",
      "============================================\n",
      "Agent:  24 / 25\n",
      "{'eval_time_gap': 256, 'batch_size': 64, 'gamma': 0.999, 'learning_rate': 0.03623, 'target_step': 84629, 'net_dimension': 256, 'episode': 9, 'seed': 31}\n",
      "======Model training from:  2010-01-01 to  2016-01-04\n",
      "| Remove cwd: ./trained_models\n",
      "Using device:  cpu\n",
      "################################################################################\n",
      "ID     Step    maxR |    avgR   stdR   avgS  stdS |    expR   objC   etc.\n"
     ]
    },
    {
     "name": "stderr",
     "output_type": "stream",
     "text": [
      "\r",
      "  0%|                                                                                            | 0/9 [00:00<?, ?it/s]"
     ]
    },
    {
     "name": "stdout",
     "output_type": "stream",
     "text": [
      "0  1.51e+03    1.10 |    1.10    0.7    125     0 |   -0.06   0.10   0.41  -0.46\n"
     ]
    },
    {
     "name": "stderr",
     "output_type": "stream",
     "text": [
      "\r",
      " 11%|█████████▎                                                                          | 1/9 [00:27<03:36, 27.02s/it]"
     ]
    },
    {
     "name": "stdout",
     "output_type": "stream",
     "text": [
      "0  3.02e+03    2.45 |    2.45    0.1    125     0 |    0.00   0.23   0.26  -0.46\n"
     ]
    },
    {
     "name": "stderr",
     "output_type": "stream",
     "text": [
      "\r",
      " 22%|██████████████████▋                                                                 | 2/9 [00:54<03:12, 27.52s/it]"
     ]
    },
    {
     "name": "stdout",
     "output_type": "stream",
     "text": [
      "0  4.53e+03    2.45 |    1.72    0.0    125     0 |   -0.01   0.60   0.33  -0.46\n"
     ]
    },
    {
     "name": "stderr",
     "output_type": "stream",
     "text": [
      "\r",
      " 33%|████████████████████████████                                                        | 3/9 [01:13<02:21, 23.55s/it]"
     ]
    },
    {
     "name": "stdout",
     "output_type": "stream",
     "text": [
      "0  6.03e+03    2.45 |    2.13    0.0    125     0 |   -0.01   0.46   0.30  -0.46\n"
     ]
    },
    {
     "name": "stderr",
     "output_type": "stream",
     "text": [
      "\r",
      " 44%|█████████████████████████████████████▎                                              | 4/9 [01:33<01:49, 21.90s/it]"
     ]
    },
    {
     "name": "stdout",
     "output_type": "stream",
     "text": [
      "0  7.54e+03    2.45 |    2.29    0.0    125     0 |   -0.00   0.43   0.29  -0.46\n"
     ]
    },
    {
     "name": "stderr",
     "output_type": "stream",
     "text": [
      "\r",
      " 56%|██████████████████████████████████████████████▋                                     | 5/9 [01:52<01:24, 21.14s/it]"
     ]
    },
    {
     "name": "stdout",
     "output_type": "stream",
     "text": [
      "0  9.04e+03    2.45 |    1.77    0.0    125     0 |   -0.00   0.58   0.36  -0.46\n"
     ]
    },
    {
     "name": "stderr",
     "output_type": "stream",
     "text": [
      "\r",
      " 67%|████████████████████████████████████████████████████████                            | 6/9 [02:12<01:02, 20.71s/it]"
     ]
    },
    {
     "name": "stdout",
     "output_type": "stream",
     "text": [
      "0  1.05e+04    2.45 |    1.23    0.0    125     0 |    0.00   0.34   0.34  -0.46\n"
     ]
    },
    {
     "name": "stderr",
     "output_type": "stream",
     "text": [
      "\r",
      " 78%|█████████████████████████████████████████████████████████████████▎                  | 7/9 [02:32<00:40, 20.46s/it]"
     ]
    },
    {
     "name": "stdout",
     "output_type": "stream",
     "text": [
      "0  1.21e+04    2.45 |    1.62    0.0    125     0 |   -0.01   0.41   0.28  -0.46\n"
     ]
    },
    {
     "name": "stderr",
     "output_type": "stream",
     "text": [
      "\r",
      " 89%|██████████████████████████████████████████████████████████████████████████▋         | 8/9 [02:52<00:20, 20.39s/it]"
     ]
    },
    {
     "name": "stdout",
     "output_type": "stream",
     "text": [
      "0  1.36e+04    2.45 |    1.67    0.0    125     0 |   -0.00   0.17   0.27  -0.46\n"
     ]
    },
    {
     "name": "stderr",
     "output_type": "stream",
     "text": [
      "100%|████████████████████████████████████████████████████████████████████████████████████| 9/9 [03:12<00:00, 21.41s/it]\n"
     ]
    },
    {
     "name": "stdout",
     "output_type": "stream",
     "text": [
      "| UsedTime:     193 | SavedDir: ./trained_models | Total Step: 1502\n",
      "======jim-ppo-recurrent-317-agent-24 Validation from:  2016-01-04 to  2016-07-01\n",
      "Max reward at validation for Reccurent PPO 125.0\n",
      "Model updated:  338582  times\n",
      "======Trading from:  2016-07-05 to  2017-01-03\n",
      "Using device:  cpu\n",
      "previous_total_asset:1000000\n",
      "end_total_asset:1094294.16665474\n",
      "total_asset_change:94294.16665474\n",
      "Total cash is: 13.696607742873539$ and total holdings in stocks are 1094280.470046997$\n",
      "Buy & Hold strategy with previous total asset:  1107583.5885027447\n",
      "Total Cost:  1585.5491312408444\n",
      "Sum of rewards  94294.16665474\n",
      "Total trades:  228\n",
      "Total buy orders are 188 and total sell orders are 40\n",
      "Total days in turbulance:  0\n",
      "Sharpe:  0.2536923636666467\n",
      "Test Finished!\n",
      "episode_return % 0.09430000000000005\n",
      "============================================\n",
      "Agent:  24 / 25\n",
      "{'eval_time_gap': 256, 'batch_size': 64, 'gamma': 0.999, 'learning_rate': 0.03623, 'target_step': 84629, 'net_dimension': 256, 'episode': 9, 'seed': 31}\n",
      "======Model training from:  2010-01-01 to  2016-07-05\n",
      "| Remove cwd: ./trained_models\n",
      "Using device:  cpu\n",
      "################################################################################\n",
      "ID     Step    maxR |    avgR   stdR   avgS  stdS |    expR   objC   etc.\n"
     ]
    },
    {
     "name": "stderr",
     "output_type": "stream",
     "text": [
      "\r",
      "  0%|                                                                                            | 0/9 [00:00<?, ?it/s]"
     ]
    },
    {
     "name": "stdout",
     "output_type": "stream",
     "text": [
      "0  1.64e+03    0.62 |    0.62    0.1    125     0 |   -0.06   0.09   0.39  -0.50\n"
     ]
    },
    {
     "name": "stderr",
     "output_type": "stream",
     "text": [
      "\r",
      " 11%|█████████▎                                                                          | 1/9 [00:27<03:40, 27.62s/it]"
     ]
    },
    {
     "name": "stdout",
     "output_type": "stream",
     "text": [
      "0  3.27e+03    4.36 |    4.36    1.0    125     0 |    0.00   0.36   0.27  -0.50\n"
     ]
    },
    {
     "name": "stderr",
     "output_type": "stream",
     "text": [
      "\r",
      " 11%|█████████▎                                                                          | 1/9 [00:56<07:29, 56.17s/it]"
     ]
    },
    {
     "name": "stdout",
     "output_type": "stream",
     "text": [
      "Reached goals on 1635\n",
      "| UsedTime:      56 | SavedDir: ./trained_models | Total Step: 1635\n",
      "======jim-ppo-recurrent-317-agent-24 Validation from:  2016-07-05 to  2016-12-30\n",
      "Max reward at validation for Reccurent PPO 125.0\n",
      "Model updated:  338990  times\n",
      "======Trading from:  2017-01-03 to  2017-07-05\n",
      "Using device:  cpu\n"
     ]
    },
    {
     "name": "stderr",
     "output_type": "stream",
     "text": [
      "\n"
     ]
    },
    {
     "name": "stdout",
     "output_type": "stream",
     "text": [
      "Saving to  results/account_value_trade_main_jim-ppo-recurrent-317-agent-24.csv\n",
      "previous_total_asset:1094294.16665474\n",
      "end_total_asset:1242581.1102570407\n",
      "total_asset_change:148286.94360230071\n",
      "Total cash is: 21.958111654857845$ and total holdings in stocks are 1242559.1521453857$\n",
      "Buy & Hold strategy with previous total asset:  1185698.5306264432\n",
      "Total Cost:  552.1387398471829\n",
      "Sum of rewards  138829.65199921234\n",
      "Total trades:  87\n",
      "Total buy orders are 48 and total sell orders are 39\n",
      "Total days in turbulance:  0\n",
      "Sharpe:  0.3781453974280564\n",
      "Test Finished!\n",
      "episode_return % 0.24259999999999993\n",
      "============================================\n",
      "Agent:  24 / 25\n",
      "{'eval_time_gap': 256, 'batch_size': 64, 'gamma': 0.999, 'learning_rate': 0.03623, 'target_step': 84629, 'net_dimension': 256, 'episode': 9, 'seed': 31}\n",
      "======Model training from:  2010-01-01 to  2017-01-03\n",
      "| Remove cwd: ./trained_models\n",
      "Using device:  cpu\n",
      "################################################################################\n",
      "ID     Step    maxR |    avgR   stdR   avgS  stdS |    expR   objC   etc.\n"
     ]
    },
    {
     "name": "stderr",
     "output_type": "stream",
     "text": [
      "\r",
      "  0%|                                                                                            | 0/9 [00:00<?, ?it/s]"
     ]
    },
    {
     "name": "stdout",
     "output_type": "stream",
     "text": [
      "0  1.76e+03    5.44 |    5.44    1.3    125     0 |   -0.05   0.17   0.32  -0.53\n"
     ]
    },
    {
     "name": "stderr",
     "output_type": "stream",
     "text": [
      "\r",
      "  0%|                                                                                            | 0/9 [00:29<?, ?it/s]"
     ]
    },
    {
     "name": "stdout",
     "output_type": "stream",
     "text": [
      "Reached goals on 1762\n",
      "| UsedTime:      29 | SavedDir: ./trained_models | Total Step: 1762\n",
      "======jim-ppo-recurrent-317-agent-24 Validation from:  2017-01-03 to  2017-07-03\n",
      "Max reward at validation for Reccurent PPO 125.0\n",
      "Model updated:  339210  times\n",
      "======Trading from:  2017-07-05 to  2018-01-03\n",
      "Using device:  cpu\n"
     ]
    },
    {
     "name": "stderr",
     "output_type": "stream",
     "text": [
      "\n"
     ]
    },
    {
     "name": "stdout",
     "output_type": "stream",
     "text": [
      "Saving to  results/account_value_trade_main_jim-ppo-recurrent-317-agent-24.csv\n",
      "previous_total_asset:1242581.1102570407\n",
      "end_total_asset:1594780.7913463714\n",
      "total_asset_change:352199.6810893307\n",
      "Total cash is: 15.852671444535616$ and total holdings in stocks are 1594764.9386749268$\n",
      "Buy & Hold strategy with previous total asset:  1445297.47988101\n",
      "Total Cost:  528.353660654068\n",
      "Sum of rewards  347558.77784531214\n",
      "Total trades:  100\n",
      "Total buy orders are 58 and total sell orders are 42\n",
      "Total days in turbulance:  0\n",
      "Sharpe:  0.6128080332056995\n",
      "Test Finished!\n",
      "episode_return % 0.5948\n",
      "============================================\n",
      "Agent:  24 / 25\n",
      "{'eval_time_gap': 256, 'batch_size': 64, 'gamma': 0.999, 'learning_rate': 0.03623, 'target_step': 84629, 'net_dimension': 256, 'episode': 9, 'seed': 31}\n",
      "======Model training from:  2010-01-01 to  2017-07-05\n",
      "| Remove cwd: ./trained_models\n",
      "Using device:  cpu\n",
      "################################################################################\n",
      "ID     Step    maxR |    avgR   stdR   avgS  stdS |    expR   objC   etc.\n"
     ]
    },
    {
     "name": "stderr",
     "output_type": "stream",
     "text": [
      "\r",
      "  0%|                                                                                            | 0/9 [00:00<?, ?it/s]"
     ]
    },
    {
     "name": "stdout",
     "output_type": "stream",
     "text": [
      "0  1.89e+03    3.87 |    3.87    0.9    125     0 |   -0.05   0.05   0.34  -0.54\n"
     ]
    },
    {
     "name": "stderr",
     "output_type": "stream",
     "text": [
      "\r",
      " 11%|█████████▎                                                                          | 1/9 [00:30<04:04, 30.58s/it]"
     ]
    },
    {
     "name": "stdout",
     "output_type": "stream",
     "text": [
      "0  3.78e+03    3.87 |    2.82    0.0    125     0 |    0.00   0.10   0.32  -0.54\n"
     ]
    },
    {
     "name": "stderr",
     "output_type": "stream",
     "text": [
      "\r",
      " 22%|██████████████████▋                                                                 | 2/9 [00:52<02:57, 25.37s/it]"
     ]
    },
    {
     "name": "stdout",
     "output_type": "stream",
     "text": [
      "0  5.66e+03    3.87 |    2.01    0.1    125     0 |   -0.01   0.62   0.31  -0.54\n"
     ]
    },
    {
     "name": "stderr",
     "output_type": "stream",
     "text": [
      "\r",
      " 33%|████████████████████████████                                                        | 3/9 [01:13<02:21, 23.58s/it]"
     ]
    },
    {
     "name": "stdout",
     "output_type": "stream",
     "text": [
      "0  7.55e+03    3.87 |    3.58    0.0    125     0 |   -0.01   0.70   0.24  -0.54\n"
     ]
    },
    {
     "name": "stderr",
     "output_type": "stream",
     "text": [
      "\r",
      " 44%|█████████████████████████████████████▎                                              | 4/9 [01:36<01:55, 23.10s/it]"
     ]
    },
    {
     "name": "stdout",
     "output_type": "stream",
     "text": [
      "0  9.43e+03    3.87 |    3.81    0.1    125     0 |   -0.01   0.57   0.35  -0.54\n"
     ]
    },
    {
     "name": "stderr",
     "output_type": "stream",
     "text": [
      "\r",
      " 56%|██████████████████████████████████████████████▋                                     | 5/9 [02:07<01:44, 26.18s/it]"
     ]
    },
    {
     "name": "stdout",
     "output_type": "stream",
     "text": [
      "0  1.13e+04    3.87 |    3.68    0.0    125     0 |   -0.01   0.70   0.24  -0.54\n"
     ]
    },
    {
     "name": "stderr",
     "output_type": "stream",
     "text": [
      "\r",
      " 67%|████████████████████████████████████████████████████████                            | 6/9 [02:30<01:15, 25.09s/it]"
     ]
    },
    {
     "name": "stdout",
     "output_type": "stream",
     "text": [
      "0  1.32e+04    3.87 |    3.67    0.0    125     0 |   -0.01   0.59   0.43  -0.54\n"
     ]
    },
    {
     "name": "stderr",
     "output_type": "stream",
     "text": [
      "\r",
      " 78%|█████████████████████████████████████████████████████████████████▎                  | 7/9 [02:53<00:48, 24.38s/it]"
     ]
    },
    {
     "name": "stdout",
     "output_type": "stream",
     "text": [
      "0  1.51e+04    3.88 |    3.88    0.0    125     0 |   -0.01   0.67   0.31  -0.54\n"
     ]
    },
    {
     "name": "stderr",
     "output_type": "stream",
     "text": [
      "\r",
      " 89%|██████████████████████████████████████████████████████████████████████████▋         | 8/9 [03:25<00:26, 26.89s/it]"
     ]
    },
    {
     "name": "stdout",
     "output_type": "stream",
     "text": [
      "0  1.70e+04    3.88 |    3.87    0.0    125     0 |   -0.00   0.49   0.39  -0.54\n"
     ]
    },
    {
     "name": "stderr",
     "output_type": "stream",
     "text": [
      "100%|████████████████████████████████████████████████████████████████████████████████████| 9/9 [03:48<00:00, 25.43s/it]\n"
     ]
    },
    {
     "name": "stdout",
     "output_type": "stream",
     "text": [
      "| UsedTime:     229 | SavedDir: ./trained_models | Total Step: 1880\n",
      "======jim-ppo-recurrent-317-agent-24 Validation from:  2017-07-05 to  2018-01-02\n",
      "Max reward at validation for Reccurent PPO 125.0\n",
      "Model updated:  341326  times\n",
      "======Trading from:  2018-01-03 to  2018-07-05\n",
      "Using device:  cpu\n",
      "Saving to  results/account_value_trade_main_jim-ppo-recurrent-317-agent-24.csv\n",
      "previous_total_asset:1594780.7913463714\n",
      "end_total_asset:1673006.3884948222\n",
      "total_asset_change:78225.59714845079\n",
      "Total cash is: 10.17156443290521$ and total holdings in stocks are 1672996.2169303894$\n",
      "Buy & Hold strategy with previous total asset:  1575600.2203433514\n",
      "Total Cost:  2747.7163986835467\n",
      "Sum of rewards  64257.32839539903\n",
      "Total trades:  406\n",
      "Total buy orders are 299 and total sell orders are 107\n",
      "Total days in turbulance:  0\n",
      "Sharpe:  0.07063161053539788\n",
      "Test Finished!\n",
      "episode_return % 0.673\n",
      "Calculating buy and hold\n",
      "Buy and Hold value is  1475283.0604952318\n",
      "============================================\n",
      "Agent:  24 / 25\n",
      "{'eval_time_gap': 256, 'batch_size': 64, 'gamma': 0.999, 'learning_rate': 0.03623, 'target_step': 84629, 'net_dimension': 256, 'episode': 9, 'seed': 31}\n",
      "======Model training from:  2010-01-01 to  2018-01-03\n",
      "| Remove cwd: ./trained_models\n",
      "Using device:  cpu\n",
      "################################################################################\n",
      "ID     Step    maxR |    avgR   stdR   avgS  stdS |    expR   objC   etc.\n"
     ]
    },
    {
     "name": "stderr",
     "output_type": "stream",
     "text": [
      "\r",
      "  0%|                                                                                            | 0/9 [00:00<?, ?it/s]"
     ]
    },
    {
     "name": "stdout",
     "output_type": "stream",
     "text": [
      "0  2.01e+03   -1.16 |   -1.16    2.5    125     0 |   -0.05   0.13   0.45  -0.51\n"
     ]
    },
    {
     "name": "stderr",
     "output_type": "stream",
     "text": [
      "\r",
      " 11%|█████████▎                                                                          | 1/9 [00:31<04:13, 31.65s/it]"
     ]
    },
    {
     "name": "stdout",
     "output_type": "stream",
     "text": [
      "0  4.03e+03   -1.16 |   -1.61    0.0    125     0 |   -0.01   0.51   0.31  -0.51\n"
     ]
    },
    {
     "name": "stderr",
     "output_type": "stream",
     "text": [
      "\r",
      " 22%|██████████████████▋                                                                 | 2/9 [00:54<03:04, 26.43s/it]"
     ]
    },
    {
     "name": "stdout",
     "output_type": "stream",
     "text": [
      "0  6.04e+03    0.33 |    0.33    0.0    125     0 |   -0.01   0.63   0.17  -0.51\n"
     ]
    },
    {
     "name": "stderr",
     "output_type": "stream",
     "text": [
      "\r",
      " 33%|████████████████████████████                                                        | 3/9 [01:26<02:54, 29.07s/it]"
     ]
    },
    {
     "name": "stdout",
     "output_type": "stream",
     "text": [
      "0  8.05e+03    0.33 |   -1.98    0.1    125     0 |   -0.01   0.69   0.37  -0.51\n"
     ]
    },
    {
     "name": "stderr",
     "output_type": "stream",
     "text": [
      "\r",
      " 44%|█████████████████████████████████████▎                                              | 4/9 [01:50<02:15, 27.13s/it]"
     ]
    },
    {
     "name": "stdout",
     "output_type": "stream",
     "text": [
      "0  1.01e+04    0.33 |   -1.04    0.0    125     0 |   -0.01   0.75   0.44  -0.51\n"
     ]
    },
    {
     "name": "stderr",
     "output_type": "stream",
     "text": [
      "\r",
      " 56%|██████████████████████████████████████████████▋                                     | 5/9 [02:15<01:44, 26.08s/it]"
     ]
    },
    {
     "name": "stdout",
     "output_type": "stream",
     "text": [
      "0  1.21e+04    0.33 |   -0.95    0.1    125     0 |   -0.01   0.75   0.34  -0.51\n"
     ]
    },
    {
     "name": "stderr",
     "output_type": "stream",
     "text": [
      "\r",
      " 67%|████████████████████████████████████████████████████████                            | 6/9 [02:39<01:17, 25.67s/it]"
     ]
    },
    {
     "name": "stdout",
     "output_type": "stream",
     "text": [
      "0  1.41e+04    0.33 |   -0.16    0.0    125     0 |   -0.01   0.79   0.47  -0.51\n"
     ]
    },
    {
     "name": "stderr",
     "output_type": "stream",
     "text": [
      "\r",
      " 78%|█████████████████████████████████████████████████████████████████▎                  | 7/9 [03:04<00:50, 25.39s/it]"
     ]
    },
    {
     "name": "stdout",
     "output_type": "stream",
     "text": [
      "0  1.61e+04    0.33 |   -0.14    0.0    125     0 |   -0.01   0.73   0.40  -0.51\n"
     ]
    },
    {
     "name": "stderr",
     "output_type": "stream",
     "text": [
      "\r",
      " 89%|██████████████████████████████████████████████████████████████████████████▋         | 8/9 [03:30<00:25, 25.36s/it]"
     ]
    },
    {
     "name": "stdout",
     "output_type": "stream",
     "text": [
      "0  1.81e+04    0.33 |   -0.11    0.0    125     0 |   -0.01   0.73   0.35  -0.51\n"
     ]
    },
    {
     "name": "stderr",
     "output_type": "stream",
     "text": [
      "100%|████████████████████████████████████████████████████████████████████████████████████| 9/9 [03:56<00:00, 26.33s/it]\n"
     ]
    },
    {
     "name": "stdout",
     "output_type": "stream",
     "text": [
      "| UsedTime:     237 | SavedDir: ./trained_models | Total Step: 2006\n",
      "======jim-ppo-recurrent-317-agent-24 Validation from:  2018-01-03 to  2018-07-03\n",
      "Max reward at validation for Reccurent PPO 125.0\n",
      "Model updated:  343583  times\n",
      "======Trading from:  2018-07-05 to  2019-01-04\n",
      "Using device:  cpu\n",
      "Saving to  results/account_value_trade_main_jim-ppo-recurrent-317-agent-24.csv\n",
      "previous_total_asset:1673006.3884948222\n",
      "end_total_asset:1609593.2893665493\n",
      "total_asset_change:-63413.09912827285\n",
      "Total cash is: 2.959517306235412$ and total holdings in stocks are 1609590.3298492432$\n",
      "Buy & Hold strategy with previous total asset:  1622490.329976507\n",
      "Total Cost:  1523.5314288406375\n",
      "Sum of rewards  -79791.54417374404\n",
      "Total trades:  222\n",
      "Total buy orders are 149 and total sell orders are 73\n",
      "Total days in turbulance:  0\n",
      "Sharpe:  -0.029779146638544658\n",
      "Test Finished!\n",
      "episode_return % 0.6095999999999999\n",
      "Calculating buy and hold\n",
      "Buy and Hold value is  1430972.9262496235\n",
      "============================================\n",
      "Agent:  24 / 25\n",
      "{'eval_time_gap': 256, 'batch_size': 64, 'gamma': 0.999, 'learning_rate': 0.03623, 'target_step': 84629, 'net_dimension': 256, 'episode': 9, 'seed': 31}\n",
      "======Model training from:  2010-01-01 to  2018-07-05\n",
      "| Remove cwd: ./trained_models\n",
      "Using device:  cpu\n",
      "################################################################################\n",
      "ID     Step    maxR |    avgR   stdR   avgS  stdS |    expR   objC   etc.\n"
     ]
    },
    {
     "name": "stderr",
     "output_type": "stream",
     "text": [
      "\r",
      "  0%|                                                                                            | 0/9 [00:00<?, ?it/s]"
     ]
    },
    {
     "name": "stdout",
     "output_type": "stream",
     "text": [
      "0  2.14e+03    0.22 |    0.22    1.7    125     0 |   -0.05   0.08   0.40  -0.46\n"
     ]
    },
    {
     "name": "stderr",
     "output_type": "stream",
     "text": [
      "\r",
      " 11%|█████████▎                                                                          | 1/9 [00:32<04:21, 32.68s/it]"
     ]
    },
    {
     "name": "stdout",
     "output_type": "stream",
     "text": [
      "0  4.28e+03    0.22 |   -0.98    0.0    125     0 |    0.00   0.25   0.30  -0.46\n"
     ]
    },
    {
     "name": "stderr",
     "output_type": "stream",
     "text": [
      "\r",
      " 22%|██████████████████▋                                                                 | 2/9 [00:57<03:14, 27.76s/it]"
     ]
    },
    {
     "name": "stdout",
     "output_type": "stream",
     "text": [
      "0  6.42e+03    0.22 |   -0.81    0.0    125     0 |   -0.01   0.49   0.28  -0.46\n"
     ]
    },
    {
     "name": "stderr",
     "output_type": "stream",
     "text": [
      "\r",
      " 33%|████████████████████████████                                                        | 3/9 [01:21<02:38, 26.39s/it]"
     ]
    },
    {
     "name": "stdout",
     "output_type": "stream",
     "text": [
      "0  8.55e+03    0.22 |   -0.97    0.0    125     0 |   -0.01   0.51   0.29  -0.46\n"
     ]
    },
    {
     "name": "stderr",
     "output_type": "stream",
     "text": [
      "\r",
      " 44%|█████████████████████████████████████▎                                              | 4/9 [01:47<02:10, 26.10s/it]"
     ]
    },
    {
     "name": "stdout",
     "output_type": "stream",
     "text": [
      "0  1.07e+04    0.22 |   -0.52    0.0    125     0 |   -0.01   0.51   0.29  -0.46\n"
     ]
    },
    {
     "name": "stderr",
     "output_type": "stream",
     "text": [
      "\r",
      " 56%|██████████████████████████████████████████████▋                                     | 5/9 [02:13<01:44, 26.07s/it]"
     ]
    },
    {
     "name": "stdout",
     "output_type": "stream",
     "text": [
      "0  1.28e+04    0.22 |   -0.56    0.0    125     0 |   -0.02   0.80   0.21  -0.46\n"
     ]
    },
    {
     "name": "stderr",
     "output_type": "stream",
     "text": [
      "\r",
      " 67%|████████████████████████████████████████████████████████                            | 6/9 [02:39<01:18, 26.07s/it]"
     ]
    },
    {
     "name": "stdout",
     "output_type": "stream",
     "text": [
      "0  1.50e+04    0.22 |   -0.76    0.0    125     0 |   -0.01   0.58   0.28  -0.46\n"
     ]
    },
    {
     "name": "stderr",
     "output_type": "stream",
     "text": [
      "\r",
      " 78%|█████████████████████████████████████████████████████████████████▎                  | 7/9 [03:05<00:52, 26.03s/it]"
     ]
    },
    {
     "name": "stdout",
     "output_type": "stream",
     "text": [
      "0  1.71e+04    0.22 |   -1.13    0.0    125     0 |   -0.01   0.66   0.36  -0.46\n"
     ]
    },
    {
     "name": "stderr",
     "output_type": "stream",
     "text": [
      "\r",
      " 89%|██████████████████████████████████████████████████████████████████████████▋         | 8/9 [03:32<00:26, 26.22s/it]"
     ]
    },
    {
     "name": "stdout",
     "output_type": "stream",
     "text": [
      "0  1.92e+04    0.22 |   -1.37    0.0    125     0 |   -0.02   0.71   0.31  -0.46\n"
     ]
    },
    {
     "name": "stderr",
     "output_type": "stream",
     "text": [
      "100%|████████████████████████████████████████████████████████████████████████████████████| 9/9 [03:58<00:00, 26.47s/it]\n"
     ]
    },
    {
     "name": "stdout",
     "output_type": "stream",
     "text": [
      "| UsedTime:     238 | SavedDir: ./trained_models | Total Step: 2132\n",
      "======jim-ppo-recurrent-317-agent-24 Validation from:  2018-07-05 to  2019-01-03\n",
      "Max reward at validation for Reccurent PPO 125.0\n",
      "Model updated:  345982  times\n",
      "======Trading from:  2019-01-04 to  2019-07-08\n",
      "Using device:  cpu\n",
      "Saving to  results/account_value_trade_main_jim-ppo-recurrent-317-agent-24.csv\n",
      "previous_total_asset:1609593.2893665493\n",
      "end_total_asset:1965582.8066923362\n",
      "total_asset_change:355989.5173257869\n",
      "Total cash is: 3.5859434349076764$ and total holdings in stocks are 1965579.2207489014$\n",
      "Buy & Hold strategy with previous total asset:  1867796.1955231263\n",
      "Total Cost:  4694.887142749783\n",
      "Sum of rewards  291690.389098553\n",
      "Total trades:  668\n",
      "Total buy orders are 377 and total sell orders are 291\n",
      "Total days in turbulance:  0\n",
      "Sharpe:  0.3348160672982185\n",
      "Test Finished!\n",
      "episode_return % 0.9656\n",
      "Calculating buy and hold\n",
      "Buy and Hold value is  1720448.0172379646\n",
      "============================================\n",
      "Agent:  24 / 25\n",
      "{'eval_time_gap': 256, 'batch_size': 64, 'gamma': 0.999, 'learning_rate': 0.03623, 'target_step': 84629, 'net_dimension': 256, 'episode': 9, 'seed': 31}\n",
      "======Model training from:  2010-01-01 to  2019-01-04\n",
      "| Remove cwd: ./trained_models\n",
      "Using device:  cpu\n",
      "################################################################################\n",
      "ID     Step    maxR |    avgR   stdR   avgS  stdS |    expR   objC   etc.\n"
     ]
    },
    {
     "name": "stderr",
     "output_type": "stream",
     "text": [
      "\r",
      "  0%|                                                                                            | 0/9 [00:00<?, ?it/s]"
     ]
    },
    {
     "name": "stdout",
     "output_type": "stream",
     "text": [
      "0  2.27e+03    7.07 |    7.07    1.1    125     0 |   -0.05   0.17   0.23  -0.53\n"
     ]
    },
    {
     "name": "stderr",
     "output_type": "stream",
     "text": [
      "\r",
      "  0%|                                                                                            | 0/9 [00:37<?, ?it/s]"
     ]
    },
    {
     "name": "stdout",
     "output_type": "stream",
     "text": [
      "Reached goals on 2266\n",
      "| UsedTime:      37 | SavedDir: ./trained_models | Total Step: 2266\n",
      "======jim-ppo-recurrent-317-agent-24 Validation from:  2019-01-04 to  2019-07-05\n",
      "Max reward at validation for Reccurent PPO 125.0\n",
      "Model updated:  346265  times\n",
      "======Trading from:  2019-07-08 to  2020-01-06\n",
      "Using device:  cpu\n"
     ]
    },
    {
     "name": "stderr",
     "output_type": "stream",
     "text": [
      "\n"
     ]
    },
    {
     "name": "stdout",
     "output_type": "stream",
     "text": [
      "Saving to  results/account_value_trade_main_jim-ppo-recurrent-317-agent-24.csv\n",
      "previous_total_asset:1965582.8066923362\n",
      "end_total_asset:2183298.612085515\n",
      "total_asset_change:217715.80539317895\n",
      "Total cash is: 15.018049413095923$ and total holdings in stocks are 2183283.5940361023$\n",
      "Buy & Hold strategy with previous total asset:  2101912.068833984\n",
      "Total Cost:  3114.846944849012\n",
      "Sum of rewards  227757.40626903344\n",
      "Total trades:  391\n",
      "Total buy orders are 242 and total sell orders are 149\n",
      "Total days in turbulance:  0\n",
      "Sharpe:  0.18462927048739552\n",
      "Test Finished!\n",
      "episode_return % 1.1833\n",
      "Calculating buy and hold\n",
      "Buy and Hold value is  1840102.579977516\n",
      "============================================\n",
      "Agent:  24 / 25\n",
      "{'eval_time_gap': 256, 'batch_size': 64, 'gamma': 0.999, 'learning_rate': 0.03623, 'target_step': 84629, 'net_dimension': 256, 'episode': 9, 'seed': 31}\n",
      "======Model training from:  2010-01-01 to  2019-07-08\n",
      "| Remove cwd: ./trained_models\n",
      "Using device:  cpu\n",
      "################################################################################\n",
      "ID     Step    maxR |    avgR   stdR   avgS  stdS |    expR   objC   etc.\n"
     ]
    },
    {
     "name": "stderr",
     "output_type": "stream",
     "text": [
      "\r",
      "  0%|                                                                                            | 0/9 [00:00<?, ?it/s]"
     ]
    },
    {
     "name": "stdout",
     "output_type": "stream",
     "text": [
      "0  2.39e+03   -1.75 |   -1.75    0.0    125     0 |   -0.04   0.04   0.23  -0.44\n"
     ]
    },
    {
     "name": "stderr",
     "output_type": "stream",
     "text": [
      "\r",
      " 11%|█████████▎                                                                          | 1/9 [00:38<05:05, 38.19s/it]"
     ]
    },
    {
     "name": "stdout",
     "output_type": "stream",
     "text": [
      "0  4.78e+03   -0.32 |   -0.32    0.0    125     0 |    0.01   0.63   0.36  -0.44\n"
     ]
    },
    {
     "name": "stderr",
     "output_type": "stream",
     "text": [
      "\r",
      " 22%|██████████████████▋                                                                 | 2/9 [01:18<04:34, 39.22s/it]"
     ]
    },
    {
     "name": "stdout",
     "output_type": "stream",
     "text": [
      "0  7.17e+03   -0.32 |   -1.69    0.0    125     0 |   -0.00   0.58   0.32  -0.44\n"
     ]
    },
    {
     "name": "stderr",
     "output_type": "stream",
     "text": [
      "\r",
      " 33%|████████████████████████████                                                        | 3/9 [01:49<03:32, 35.42s/it]"
     ]
    },
    {
     "name": "stdout",
     "output_type": "stream",
     "text": [
      "0  9.56e+03   -0.32 |   -1.70    0.0    125     0 |   -0.00   0.53   0.29  -0.44\n"
     ]
    },
    {
     "name": "stderr",
     "output_type": "stream",
     "text": [
      "\r",
      " 44%|█████████████████████████████████████▎                                              | 4/9 [02:20<02:49, 33.97s/it]"
     ]
    },
    {
     "name": "stdout",
     "output_type": "stream",
     "text": [
      "0  1.20e+04   -0.32 |   -1.51    0.0    125     0 |   -0.00   0.57   0.34  -0.44\n"
     ]
    },
    {
     "name": "stderr",
     "output_type": "stream",
     "text": [
      "\r",
      " 56%|██████████████████████████████████████████████▋                                     | 5/9 [02:52<02:13, 33.33s/it]"
     ]
    },
    {
     "name": "stdout",
     "output_type": "stream",
     "text": [
      "0  1.43e+04   -0.32 |   -1.50    0.0    125     0 |    0.01   0.63   0.25  -0.44\n"
     ]
    },
    {
     "name": "stderr",
     "output_type": "stream",
     "text": [
      "\r",
      " 67%|████████████████████████████████████████████████████████                            | 6/9 [03:24<01:38, 32.85s/it]"
     ]
    },
    {
     "name": "stdout",
     "output_type": "stream",
     "text": [
      "0  1.67e+04   -0.32 |   -1.50    0.0    125     0 |    0.01   0.62   0.33  -0.44\n"
     ]
    },
    {
     "name": "stderr",
     "output_type": "stream",
     "text": [
      "\r",
      " 78%|█████████████████████████████████████████████████████████████████▎                  | 7/9 [03:57<01:05, 32.86s/it]"
     ]
    },
    {
     "name": "stdout",
     "output_type": "stream",
     "text": [
      "0  1.91e+04   -0.32 |   -1.49    0.0    125     0 |    0.01   0.55   0.47  -0.44\n"
     ]
    },
    {
     "name": "stderr",
     "output_type": "stream",
     "text": [
      "\r",
      " 89%|██████████████████████████████████████████████████████████████████████████▋         | 8/9 [04:30<00:32, 32.88s/it]"
     ]
    },
    {
     "name": "stdout",
     "output_type": "stream",
     "text": [
      "0  2.15e+04   -0.32 |   -1.49    0.0    125     0 |    0.01   0.67   0.24  -0.44\n"
     ]
    },
    {
     "name": "stderr",
     "output_type": "stream",
     "text": [
      "100%|████████████████████████████████████████████████████████████████████████████████████| 9/9 [05:03<00:00, 33.69s/it]\n"
     ]
    },
    {
     "name": "stdout",
     "output_type": "stream",
     "text": [
      "| UsedTime:     303 | SavedDir: ./trained_models | Total Step: 2384\n",
      "======jim-ppo-recurrent-317-agent-24 Validation from:  2019-07-08 to  2020-01-03\n",
      "Max reward at validation for Reccurent PPO 125.0\n",
      "Model updated:  348948  times\n",
      "======Trading from:  2020-01-06 to  2020-07-07\n",
      "Using device:  cpu\n",
      "Saving to  results/account_value_trade_main_jim-ppo-recurrent-317-agent-24.csv\n",
      "previous_total_asset:2183298.612085515\n",
      "end_total_asset:1753097.9626505505\n",
      "total_asset_change:-430200.64943496464\n",
      "Total cash is: 11.34744287832359$ and total holdings in stocks are 1753086.6152076721$\n",
      "Buy & Hold strategy with previous total asset:  1989545.6844729704\n",
      "Total Cost:  3171.767822187422\n",
      "Sum of rewards  -433224.0264033484\n",
      "Total trades:  434\n",
      "Total buy orders are 229 and total sell orders are 205\n",
      "Total days in turbulance:  0\n",
      "Sharpe:  -0.07777831346313577\n",
      "Test Finished!\n",
      "episode_return % 0.7531000000000001\n",
      "Calculating buy and hold\n",
      "Buy and Hold value is  1723485.9539832785\n",
      "============================================\n",
      "Agent:  24 / 25\n",
      "{'eval_time_gap': 256, 'batch_size': 64, 'gamma': 0.999, 'learning_rate': 0.03623, 'target_step': 84629, 'net_dimension': 256, 'episode': 9, 'seed': 31}\n",
      "======Model training from:  2010-01-01 to  2020-01-06\n",
      "| Remove cwd: ./trained_models\n",
      "Using device:  cpu\n",
      "################################################################################\n",
      "ID     Step    maxR |    avgR   stdR   avgS  stdS |    expR   objC   etc.\n"
     ]
    },
    {
     "name": "stderr",
     "output_type": "stream",
     "text": [
      "\r",
      "  0%|                                                                                            | 0/9 [00:00<?, ?it/s]"
     ]
    },
    {
     "name": "stdout",
     "output_type": "stream",
     "text": [
      "0  2.52e+03    0.99 |    0.99    0.5    125     0 |   -0.04   0.05   0.19  -0.46\n"
     ]
    },
    {
     "name": "stderr",
     "output_type": "stream",
     "text": [
      "\r",
      " 11%|█████████▎                                                                          | 1/9 [00:40<05:20, 40.04s/it]"
     ]
    },
    {
     "name": "stdout",
     "output_type": "stream",
     "text": [
      "0  5.04e+03    1.59 |    1.59    0.1    125     0 |   -0.01   0.63   0.25  -0.46\n"
     ]
    },
    {
     "name": "stderr",
     "output_type": "stream",
     "text": [
      "\r",
      " 22%|██████████████████▋                                                                 | 2/9 [01:20<04:40, 40.03s/it]"
     ]
    },
    {
     "name": "stdout",
     "output_type": "stream",
     "text": [
      "0  7.55e+03    1.59 |    1.14    0.0    125     0 |   -0.00   0.49   0.33  -0.46\n"
     ]
    },
    {
     "name": "stderr",
     "output_type": "stream",
     "text": [
      "\r",
      " 33%|████████████████████████████                                                        | 3/9 [01:52<03:40, 36.73s/it]"
     ]
    },
    {
     "name": "stdout",
     "output_type": "stream",
     "text": [
      "0  1.01e+04    1.59 |    0.80    0.0    125     0 |   -0.01   0.63   0.24  -0.46\n"
     ]
    },
    {
     "name": "stderr",
     "output_type": "stream",
     "text": [
      "\r",
      " 44%|█████████████████████████████████████▎                                              | 4/9 [02:25<02:55, 35.13s/it]"
     ]
    },
    {
     "name": "stdout",
     "output_type": "stream",
     "text": [
      "0  1.26e+04    1.59 |    1.34    0.0    125     0 |   -0.01   0.53   0.39  -0.46\n"
     ]
    },
    {
     "name": "stderr",
     "output_type": "stream",
     "text": [
      "\r",
      " 56%|██████████████████████████████████████████████▋                                     | 5/9 [02:59<02:18, 34.55s/it]"
     ]
    },
    {
     "name": "stdout",
     "output_type": "stream",
     "text": [
      "0  1.51e+04    1.78 |    1.78    0.1    125     0 |   -0.01   0.45   0.33  -0.46\n"
     ]
    },
    {
     "name": "stderr",
     "output_type": "stream",
     "text": [
      "\r",
      " 67%|████████████████████████████████████████████████████████                            | 6/9 [03:41<01:51, 37.25s/it]"
     ]
    },
    {
     "name": "stdout",
     "output_type": "stream",
     "text": [
      "0  1.76e+04    1.78 |    1.25    0.0    125     0 |   -0.02   0.76   0.32  -0.46\n"
     ]
    },
    {
     "name": "stderr",
     "output_type": "stream",
     "text": [
      "\r",
      " 78%|█████████████████████████████████████████████████████████████████▎                  | 7/9 [04:15<01:12, 36.02s/it]"
     ]
    },
    {
     "name": "stdout",
     "output_type": "stream",
     "text": [
      "0  2.01e+04    2.24 |    2.24    0.0    125     0 |   -0.01   0.53   0.36  -0.46\n"
     ]
    },
    {
     "name": "stderr",
     "output_type": "stream",
     "text": [
      "\r",
      " 89%|██████████████████████████████████████████████████████████████████████████▋         | 8/9 [04:57<00:38, 38.10s/it]"
     ]
    },
    {
     "name": "stdout",
     "output_type": "stream",
     "text": [
      "0  2.26e+04    2.24 |    0.94    0.0    125     0 |   -0.01   0.69   0.28  -0.46\n"
     ]
    },
    {
     "name": "stderr",
     "output_type": "stream",
     "text": [
      "100%|████████████████████████████████████████████████████████████████████████████████████| 9/9 [05:31<00:00, 36.84s/it]\n"
     ]
    },
    {
     "name": "stdout",
     "output_type": "stream",
     "text": [
      "| UsedTime:     332 | SavedDir: ./trained_models | Total Step: 2510\n",
      "======jim-ppo-recurrent-317-agent-24 Validation from:  2020-01-06 to  2020-07-06\n",
      "Max reward at validation for Reccurent PPO 125.0\n",
      "Model updated:  351772  times\n",
      "======Trading from:  2020-07-07 to  2021-01-05\n",
      "Using device:  cpu\n",
      "Saving to  results/account_value_trade_main_jim-ppo-recurrent-317-agent-24.csv\n",
      "previous_total_asset:1753097.9626505505\n",
      "end_total_asset:2016777.7463477475\n",
      "total_asset_change:263679.783697197\n",
      "Total cash is: -0.9644180911527656$ and total holdings in stocks are 2016778.7107658386$\n",
      "Buy & Hold strategy with previous total asset:  2058856.1064043858\n",
      "Total Cost:  2218.461549690246\n",
      "Sum of rewards  297673.8235798569\n",
      "Total trades:  450\n",
      "Total buy orders are 287 and total sell orders are 163\n",
      "Total days in turbulance:  0\n",
      "Sharpe:  0.1732302082968543\n",
      "Test Finished!\n",
      "episode_return % 1.0168\n",
      "Calculating buy and hold\n",
      "Buy and Hold value is  2003044.5910200237\n",
      "============================================\n",
      "Agent:  24 / 25\n",
      "{'eval_time_gap': 256, 'batch_size': 64, 'gamma': 0.999, 'learning_rate': 0.03623, 'target_step': 84629, 'net_dimension': 256, 'episode': 9, 'seed': 31}\n",
      "======Model training from:  2010-01-01 to  2020-07-07\n",
      "| Remove cwd: ./trained_models\n",
      "Using device:  cpu\n",
      "################################################################################\n",
      "ID     Step    maxR |    avgR   stdR   avgS  stdS |    expR   objC   etc.\n"
     ]
    },
    {
     "name": "stderr",
     "output_type": "stream",
     "text": [
      "\r",
      "  0%|                                                                                            | 0/9 [00:00<?, ?it/s]"
     ]
    },
    {
     "name": "stdout",
     "output_type": "stream",
     "text": [
      "0  2.64e+03    0.35 |    0.35    1.0    125     0 |   -0.04   0.06   0.26  -0.49\n"
     ]
    },
    {
     "name": "stderr",
     "output_type": "stream",
     "text": [
      "\r",
      " 11%|█████████▎                                                                          | 1/9 [00:41<05:33, 41.67s/it]"
     ]
    },
    {
     "name": "stdout",
     "output_type": "stream",
     "text": [
      "0  5.29e+03    0.86 |    0.86    0.0    125     0 |   -0.01   0.39   0.19  -0.49\n"
     ]
    },
    {
     "name": "stderr",
     "output_type": "stream",
     "text": [
      "\r",
      " 22%|██████████████████▋                                                                 | 2/9 [01:24<04:54, 42.14s/it]"
     ]
    },
    {
     "name": "stdout",
     "output_type": "stream",
     "text": [
      "0  7.93e+03    0.86 |    0.79    0.0    125     0 |   -0.01   0.73   0.30  -0.49\n"
     ]
    },
    {
     "name": "stderr",
     "output_type": "stream",
     "text": [
      "\r",
      " 33%|████████████████████████████                                                        | 3/9 [01:58<03:51, 38.64s/it]"
     ]
    },
    {
     "name": "stdout",
     "output_type": "stream",
     "text": [
      "0  1.06e+04    0.86 |    0.80    0.0    125     0 |   -0.01   0.53   0.36  -0.49\n"
     ]
    },
    {
     "name": "stderr",
     "output_type": "stream",
     "text": [
      "\r",
      " 44%|█████████████████████████████████████▎                                              | 4/9 [02:33<03:06, 37.32s/it]"
     ]
    },
    {
     "name": "stdout",
     "output_type": "stream",
     "text": [
      "0  1.32e+04    0.86 |    0.81    0.0    125     0 |   -0.01   0.74   0.22  -0.49\n"
     ]
    },
    {
     "name": "stderr",
     "output_type": "stream",
     "text": [
      "\r",
      " 56%|██████████████████████████████████████████████▋                                     | 5/9 [03:09<02:26, 36.74s/it]"
     ]
    },
    {
     "name": "stdout",
     "output_type": "stream",
     "text": [
      "0  1.58e+04    0.86 |    0.81    0.0    125     0 |   -0.01   0.61   0.35  -0.49\n"
     ]
    },
    {
     "name": "stderr",
     "output_type": "stream",
     "text": [
      "\r",
      " 67%|████████████████████████████████████████████████████████                            | 6/9 [03:45<01:49, 36.41s/it]"
     ]
    },
    {
     "name": "stdout",
     "output_type": "stream",
     "text": [
      "0  1.85e+04    0.86 |    0.82    0.0    125     0 |   -0.01   0.58   0.37  -0.49\n"
     ]
    },
    {
     "name": "stderr",
     "output_type": "stream",
     "text": [
      "\r",
      " 78%|█████████████████████████████████████████████████████████████████▎                  | 7/9 [04:21<01:12, 36.23s/it]"
     ]
    },
    {
     "name": "stdout",
     "output_type": "stream",
     "text": [
      "0  2.11e+04    0.86 |    0.82    0.0    125     0 |   -0.01   0.60   0.32  -0.49\n"
     ]
    },
    {
     "name": "stderr",
     "output_type": "stream",
     "text": [
      "\r",
      " 89%|██████████████████████████████████████████████████████████████████████████▋         | 8/9 [04:56<00:36, 36.04s/it]"
     ]
    },
    {
     "name": "stdout",
     "output_type": "stream",
     "text": [
      "0  2.38e+04    0.86 |    0.83    0.0    125     0 |   -0.01   0.55   0.31  -0.49\n"
     ]
    },
    {
     "name": "stderr",
     "output_type": "stream",
     "text": [
      "100%|████████████████████████████████████████████████████████████████████████████████████| 9/9 [05:32<00:00, 36.96s/it]\n"
     ]
    },
    {
     "name": "stdout",
     "output_type": "stream",
     "text": [
      "| UsedTime:     333 | SavedDir: ./trained_models | Total Step: 2636\n",
      "======jim-ppo-recurrent-317-agent-24 Validation from:  2020-07-07 to  2021-01-04\n",
      "Max reward at validation for Reccurent PPO 125.0\n",
      "Model updated:  354738  times\n",
      "======Trading from:  2021-01-05 to  2021-07-07\n",
      "Using device:  cpu\n",
      "Saving to  results/account_value_trade_main_jim-ppo-recurrent-317-agent-24.csv\n",
      "previous_total_asset:2016777.7463477475\n",
      "end_total_asset:2439997.2164522815\n",
      "total_asset_change:423219.47010453395\n",
      "Total cash is: 4.627421062186841$ and total holdings in stocks are 2439992.5890312195$\n",
      "Buy & Hold strategy with previous total asset:  2324451.5253419997\n",
      "Total Cost:  1219.5280758552558\n",
      "Sum of rewards  382480.2158091848\n",
      "Total trades:  312\n",
      "Total buy orders are 207 and total sell orders are 105\n",
      "Total days in turbulance:  0\n",
      "Sharpe:  0.2945869661982768\n",
      "Test Finished!\n",
      "episode_return % 1.44\n",
      "Calculating buy and hold\n",
      "Buy and Hold value is  2314454.957596514\n",
      "Writing hparams:  {'eval_time_gap': 256, 'batch_size': 64, 'gamma': 0.999, 'learning_rate': 0.03623, 'target_step': 84629, 'net_dimension': 256, 'episode': 9, 'seed': 31}\n",
      "value should be one of int, float, str, bool, or torch.Tensor\n",
      "Could not write the haparms {'eval_time_gap': 256, 'batch_size': 64, 'gamma': 0.999, 'learning_rate': 0.03623, 'target_step': 84629, 'net_dimension': 256, 'episode': 9, 'seed': 31} with end total asset of  2439997.2164522815\n",
      "Best hyperparameters are  {'eval_time_gap': 256, 'batch_size': 64, 'gamma': 0.999, 'learning_rate': 0.03623, 'target_step': 84629, 'net_dimension': 256, 'episode': 9, 'seed': 31}\n",
      "Population Based Strategy took:  416.6310971498489  minutes\n"
     ]
    }
   ],
   "source": [
    "agent_builder.run_pbt_prediction()"
   ]
  },
  {
   "cell_type": "code",
   "execution_count": null,
   "id": "14ca9671",
   "metadata": {},
   "outputs": [],
   "source": []
  },
  {
   "cell_type": "raw",
   "id": "0fc55633",
   "metadata": {},
   "source": [
    "recurrent = {'eval_time_gap': 32, 'batch_size': 32, 'gamma': 0.99, 'learning_rate': 0.01844, 'target_step': 79485, 'net_dimension': 256, 'episode': 14, 'seed': 31}\n",
    "\n",
    "ppo = {'eval_time_gap': 2048, 'batch_size': 64, 'gamma': 0.999, 'learning_rate': {'start': 0.03786, 'end': 0.00079}, 'target_step': 48561, 'net_dimension': 128, 'episode': 7, 'seed': 31} : 2.5m ending\n",
    "\n",
    "{'eval_time_gap': 1024, 'batch_size': 32, 'gamma': 0.9999, 'learning_rate': 0.03811, 'target_step': 57978, 'net_dimension': 1026, 'episode': 13, 'seed': 69} : 2.7m ending\n",
    "\n",
    "{'eval_time_gap': 16, 'batch_size': 16, 'gamma': 0.95, 'learning_rate': 0.01659, 'target_step': 88406, 'net_dimension': 256, 'episode': 14, 'seed': 31} this beat the best until screw up\n",
    "\n",
    "{'eval_time_gap': 256, 'batch_size': 64, 'gamma': 0.999, 'learning_rate': 0.03623, 'target_step': 84629, 'net_dimension': 256, 'episode': 9, 'seed': 31} 2.5m"
   ]
  },
  {
   "cell_type": "code",
   "execution_count": 11,
   "id": "d8edf2fe",
   "metadata": {},
   "outputs": [
    {
     "data": {
      "text/plain": [
       "0.4"
      ]
     },
     "execution_count": 11,
     "metadata": {},
     "output_type": "execute_result"
    }
   ],
   "source": [
    "0  1.51e+03   -1.38 |   -1.38    1.6    125     0 |   -0.04   0.01   0.05  -0.51\n",
    "  4%|██▊                                                                             | 1/28 [04:24<1:59:10, 264.82s/it]\n",
    "0  3.02e+03    3.89 |    3.89    0.1    125     0 |   -0.01   0.00  -0.05  -0.51\n",
    "  7%|█████▋                                                                          | 2/28 [08:45<1:53:38, 262.26s/it]\n",
    "0  4.53e+03    3.89 |    1.62    0.0    125     0 |    0.00   0.00  -0.37  -0.51\n",
    " 11%|████████▌                                                                       | 3/28 [11:46<1:33:46, 225.08s/it]\n",
    "0  6.03e+03    3.89 |    1.20    0.3    125     0 |   -0.01   0.00   0.21  -0.51\n",
    " 14%|███████████▍                                                                    | 4/28 [14:53<1:24:04, 210.20s/it]\n",
    "0  7.54e+03    3.89 |    3.62    0.1    125     0 |    0.00   0.01   0.34  -0.51\n",
    " 18%|██████████████▎                                                                 | 5/28 [17:56<1:16:47, 200.31s/it]\n",
    "0  9.04e+03    3.89 |    2.40    0.0    125     0 |   -0.00   0.01   0.21  -0.51\n",
    " 21%|█████████████████▏                                                              | 6/28 [21:05<1:12:03, 196.53s/it]\n",
    "0  1.05e+04    3.89 |    1.96    0.0    125     0 |   -0.00   0.00   0.30  -0.51\n",
    " 25%|████████████████████                                                            | 7/28 [24:17<1:08:18, 195.15s/it]\n",
    "0  1.21e+04    3.89 |    0.28    0.0    125     0 |   -0.00   0.00   0.10  -0.51\n",
    " 29%|██████████████████████▊                                                         | 8/28 [27:24<1:04:10, 192.53s/it]\n",
    "0  1.36e+04    3.89 |    2.68    0.0    125     0 |   -0.00   0.00   0.26  -0.51"
   ]
  },
  {
   "cell_type": "code",
   "execution_count": null,
   "id": "8f413a7f",
   "metadata": {},
   "outputs": [],
   "source": [
    "last = {'eval_time_gap': 8, 'batch_size': 8, 'gamma': 0.98, 'learning_rate': 0.04085,\n",
    "        'target_step': 58902, 'net_dimension': 1026, 'episode': 11, 'seed': 31}"
   ]
  }
 ],
 "metadata": {
  "kernelspec": {
   "display_name": "Python 3 (ipykernel)",
   "language": "python",
   "name": "python3"
  },
  "language_info": {
   "codemirror_mode": {
    "name": "ipython",
    "version": 3
   },
   "file_extension": ".py",
   "mimetype": "text/x-python",
   "name": "python",
   "nbconvert_exporter": "python",
   "pygments_lexer": "ipython3",
   "version": "3.7.11"
  }
 },
 "nbformat": 4,
 "nbformat_minor": 5
}
