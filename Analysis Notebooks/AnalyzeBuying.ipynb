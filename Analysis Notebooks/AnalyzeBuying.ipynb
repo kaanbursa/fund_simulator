{
 "cells": [
  {
   "cell_type": "code",
   "execution_count": 5,
   "metadata": {},
   "outputs": [
    {
     "name": "stdout",
     "output_type": "stream",
     "text": [
      "The autoreload extension is already loaded. To reload it, use:\n",
      "  %reload_ext autoreload\n"
     ]
    }
   ],
   "source": [
    "import sys; sys.path.insert(0, '..')\n",
    "import pandas as pd\n",
    "import yfinance as yf\n",
    "import glob\n",
    "import re\n",
    "from datetime import datetime\n",
    "from data.preprocessing import get_price\n",
    "import os\n",
    "#from utils.utils_analyze import *\n",
    "import matplotlib.pyplot as plt\n",
    "%matplotlib inline\n",
    "%load_ext autoreload\n",
    "%autoreload 2"
   ]
  },
  {
   "cell_type": "code",
   "execution_count": 30,
   "metadata": {},
   "outputs": [
    {
     "data": {
      "text/html": [
       "<div>\n",
       "<style scoped>\n",
       "    .dataframe tbody tr th:only-of-type {\n",
       "        vertical-align: middle;\n",
       "    }\n",
       "\n",
       "    .dataframe tbody tr th {\n",
       "        vertical-align: top;\n",
       "    }\n",
       "\n",
       "    .dataframe thead th {\n",
       "        text-align: right;\n",
       "    }\n",
       "</style>\n",
       "<table border=\"1\" class=\"dataframe\">\n",
       "  <thead>\n",
       "    <tr style=\"text-align: right;\">\n",
       "      <th></th>\n",
       "      <th>ticker</th>\n",
       "      <th>amount</th>\n",
       "      <th>price</th>\n",
       "    </tr>\n",
       "    <tr>\n",
       "      <th>Date</th>\n",
       "      <th></th>\n",
       "      <th></th>\n",
       "      <th></th>\n",
       "    </tr>\n",
       "  </thead>\n",
       "  <tbody>\n",
       "    <tr>\n",
       "      <th>2006-05-15</th>\n",
       "      <td>CSCO</td>\n",
       "      <td>100.000000</td>\n",
       "      <td>17.916735</td>\n",
       "    </tr>\n",
       "    <tr>\n",
       "      <th>2006-05-15</th>\n",
       "      <td>CRM</td>\n",
       "      <td>49.961124</td>\n",
       "      <td>9.755000</td>\n",
       "    </tr>\n",
       "    <tr>\n",
       "      <th>2006-05-15</th>\n",
       "      <td>INTC</td>\n",
       "      <td>46.391281</td>\n",
       "      <td>13.872895</td>\n",
       "    </tr>\n",
       "    <tr>\n",
       "      <th>2006-05-15</th>\n",
       "      <td>BA</td>\n",
       "      <td>42.212708</td>\n",
       "      <td>57.477348</td>\n",
       "    </tr>\n",
       "    <tr>\n",
       "      <th>2006-05-15</th>\n",
       "      <td>ADBE</td>\n",
       "      <td>32.466648</td>\n",
       "      <td>38.250000</td>\n",
       "    </tr>\n",
       "  </tbody>\n",
       "</table>\n",
       "</div>"
      ],
      "text/plain": [
       "           ticker      amount      price\n",
       "Date                                    \n",
       "2006-05-15   CSCO  100.000000  17.916735\n",
       "2006-05-15    CRM   49.961124   9.755000\n",
       "2006-05-15   INTC   46.391281  13.872895\n",
       "2006-05-15     BA   42.212708  57.477348\n",
       "2006-05-15   ADBE   32.466648  38.250000"
      ]
     },
     "execution_count": 30,
     "metadata": {},
     "output_type": "execute_result"
    }
   ],
   "source": [
    "df = get_model_trade_history('a16z-v0-test')\n",
    "df.tail()"
   ]
  },
  {
   "cell_type": "markdown",
   "metadata": {},
   "source": [
    "# Compare different models"
   ]
  },
  {
   "cell_type": "code",
   "execution_count": 2,
   "metadata": {},
   "outputs": [
    {
     "ename": "NameError",
     "evalue": "name 'get_buy_and_hold' is not defined",
     "output_type": "error",
     "traceback": [
      "\u001b[1;31m---------------------------------------------------------------------------\u001b[0m",
      "\u001b[1;31mNameError\u001b[0m                                 Traceback (most recent call last)",
      "\u001b[1;32m~\\AppData\\Local\\Temp/ipykernel_19064/4247601053.py\u001b[0m in \u001b[0;36m<module>\u001b[1;34m\u001b[0m\n\u001b[1;32m----> 1\u001b[1;33m \u001b[0mbuy_and_hold\u001b[0m \u001b[1;33m=\u001b[0m \u001b[0mget_buy_and_hold\u001b[0m\u001b[1;33m(\u001b[0m\u001b[1;34m'./snp45-2000.csv'\u001b[0m\u001b[1;33m,\u001b[0m \u001b[0mstart_test\u001b[0m\u001b[1;33m,\u001b[0m \u001b[0mend_test\u001b[0m\u001b[1;33m)\u001b[0m\u001b[1;33m\u001b[0m\u001b[1;33m\u001b[0m\u001b[0m\n\u001b[0m",
      "\u001b[1;31mNameError\u001b[0m: name 'get_buy_and_hold' is not defined"
     ]
    }
   ],
   "source": [
    "buy_and_hold = get_buy_and_hold('./snp45-2000.csv', start_test, end_test)"
   ]
  },
  {
   "cell_type": "code",
   "execution_count": 10,
   "metadata": {},
   "outputs": [
    {
     "name": "stdout",
     "output_type": "stream",
     "text": [
      "1.1262157796930559\n",
      "1.1550428677132045\n"
     ]
    }
   ],
   "source": [
    "model_one = get_account_value('snp_40_stock_model', rebalance_window, validation_window, unique_trade_date, df_trade_date)\n",
    "model_two = get_account_value('warren-v0', rebalance_window, validation_window, unique_trade_date, df_trade_date)\n",
    "buy_and_hold_strategy = backtest_strat(buy_and_hold)"
   ]
  },
  {
   "cell_type": "code",
   "execution_count": 11,
   "metadata": {},
   "outputs": [
    {
     "data": {
      "text/plain": [
       "<matplotlib.legend.Legend at 0x2071c65ff08>"
      ]
     },
     "execution_count": 11,
     "metadata": {},
     "output_type": "execute_result"
    },
    {
     "data": {
      "image/png": "[encoded data removed]",
      "text/plain": [
       "<Figure size 432x288 with 1 Axes>"
      ]
     },
     "metadata": {
      "needs_background": "light"
     },
     "output_type": "display_data"
    }
   ],
   "source": [
    "model_one.set_index('datadate').account_value.plot(rot=70)\n",
    "model_two.set_index('datadate').account_value.plot(rot=70)\n",
    "plt.legend()"
   ]
  },
  {
   "cell_type": "code",
   "execution_count": 71,
   "metadata": {},
   "outputs": [],
   "source": [
    "agents = pd.read_csv('../agents_hparams.csv')"
   ]
  },
  {
   "cell_type": "code",
   "execution_count": 73,
   "metadata": {},
   "outputs": [
    {
     "data": {
      "text/html": [
       "<div>\n",
       "<style scoped>\n",
       "    .dataframe tbody tr th:only-of-type {\n",
       "        vertical-align: middle;\n",
       "    }\n",
       "\n",
       "    .dataframe tbody tr th {\n",
       "        vertical-align: top;\n",
       "    }\n",
       "\n",
       "    .dataframe thead th {\n",
       "        text-align: right;\n",
       "    }\n",
       "</style>\n",
       "<table border=\"1\" class=\"dataframe\">\n",
       "  <thead>\n",
       "    <tr style=\"text-align: right;\">\n",
       "      <th></th>\n",
       "      <th>model_name</th>\n",
       "      <th>model_type</th>\n",
       "      <th>total_reward</th>\n",
       "      <th>start_date</th>\n",
       "      <th>end_date</th>\n",
       "      <th>dataset_version</th>\n",
       "      <th>hparams</th>\n",
       "      <th>net_arch</th>\n",
       "      <th>sharpe</th>\n",
       "      <th>train-start</th>\n",
       "      <th>train-end</th>\n",
       "      <th>indicators</th>\n",
       "      <th>env_hparams</th>\n",
       "    </tr>\n",
       "  </thead>\n",
       "  <tbody>\n",
       "    <tr>\n",
       "      <th>1573</th>\n",
       "      <td>wb-v8</td>\n",
       "      <td>&lt;class 'stable_baselines3.ppo.ppo.PPO'&gt;</td>\n",
       "      <td>-100.0</td>\n",
       "      <td>2009-01-01</td>\n",
       "      <td>2021-11-08 19:41:18.362794</td>\n",
       "      <td>pretrainedTrial6</td>\n",
       "      <td>ent_coef:0.005</td>\n",
       "      <td>NaN</td>\n",
       "      <td>NaN</td>\n",
       "      <td>2009-01-01</td>\n",
       "      <td>2011-07-05 00:00:00</td>\n",
       "      <td>macd,tema,boll,boll_ub,boll_lb,wr_10,rsi_30,rs...</td>\n",
       "      <td>NaN</td>\n",
       "    </tr>\n",
       "    <tr>\n",
       "      <th>1574</th>\n",
       "      <td>wb-v8</td>\n",
       "      <td>&lt;class 'stable_baselines3.ppo.ppo.PPO'&gt;</td>\n",
       "      <td>-100.0</td>\n",
       "      <td>2009-01-01</td>\n",
       "      <td>2021-11-08 19:41:18.362794</td>\n",
       "      <td>pretrainedTrial6</td>\n",
       "      <td>ent_coef:0.005</td>\n",
       "      <td>NaN</td>\n",
       "      <td>NaN</td>\n",
       "      <td>2009-01-01</td>\n",
       "      <td>2011-10-03 00:00:00</td>\n",
       "      <td>macd,tema,boll,boll_ub,boll_lb,wr_10,rsi_30,rs...</td>\n",
       "      <td>NaN</td>\n",
       "    </tr>\n",
       "    <tr>\n",
       "      <th>1575</th>\n",
       "      <td>wb-v8</td>\n",
       "      <td>&lt;class 'stable_baselines3.ppo.ppo.PPO'&gt;</td>\n",
       "      <td>-100.0</td>\n",
       "      <td>2009-01-01</td>\n",
       "      <td>2021-11-08 19:41:18.362794</td>\n",
       "      <td>pretrainedTrial6</td>\n",
       "      <td>ent_coef:0.005</td>\n",
       "      <td>NaN</td>\n",
       "      <td>NaN</td>\n",
       "      <td>2009-01-01</td>\n",
       "      <td>2012-01-03 00:00:00</td>\n",
       "      <td>macd,tema,boll,boll_ub,boll_lb,wr_10,rsi_30,rs...</td>\n",
       "      <td>NaN</td>\n",
       "    </tr>\n",
       "    <tr>\n",
       "      <th>1576</th>\n",
       "      <td>wb-v8</td>\n",
       "      <td>&lt;class 'stable_baselines3.ppo.ppo.PPO'&gt;</td>\n",
       "      <td>-100.0</td>\n",
       "      <td>2009-01-01</td>\n",
       "      <td>2021-11-08 19:41:18.362794</td>\n",
       "      <td>pretrainedTrial6</td>\n",
       "      <td>ent_coef:0.005</td>\n",
       "      <td>NaN</td>\n",
       "      <td>NaN</td>\n",
       "      <td>2009-01-01</td>\n",
       "      <td>2012-04-03 00:00:00</td>\n",
       "      <td>macd,tema,boll,boll_ub,boll_lb,wr_10,rsi_30,rs...</td>\n",
       "      <td>NaN</td>\n",
       "    </tr>\n",
       "    <tr>\n",
       "      <th>1577</th>\n",
       "      <td>wb-v8</td>\n",
       "      <td>&lt;class 'stable_baselines3.ppo.ppo.PPO'&gt;</td>\n",
       "      <td>-100.0</td>\n",
       "      <td>2009-01-01</td>\n",
       "      <td>2021-11-08 19:41:18.362794</td>\n",
       "      <td>pretrainedTrial6</td>\n",
       "      <td>ent_coef:0.005</td>\n",
       "      <td>NaN</td>\n",
       "      <td>NaN</td>\n",
       "      <td>2009-01-01</td>\n",
       "      <td>2012-07-03 00:00:00</td>\n",
       "      <td>macd,tema,boll,boll_ub,boll_lb,wr_10,rsi_30,rs...</td>\n",
       "      <td>NaN</td>\n",
       "    </tr>\n",
       "  </tbody>\n",
       "</table>\n",
       "</div>"
      ],
      "text/plain": [
       "     model_name                               model_type  total_reward  \\\n",
       "1573      wb-v8  <class 'stable_baselines3.ppo.ppo.PPO'>        -100.0   \n",
       "1574      wb-v8  <class 'stable_baselines3.ppo.ppo.PPO'>        -100.0   \n",
       "1575      wb-v8  <class 'stable_baselines3.ppo.ppo.PPO'>        -100.0   \n",
       "1576      wb-v8  <class 'stable_baselines3.ppo.ppo.PPO'>        -100.0   \n",
       "1577      wb-v8  <class 'stable_baselines3.ppo.ppo.PPO'>        -100.0   \n",
       "\n",
       "      start_date                    end_date   dataset_version  \\\n",
       "1573  2009-01-01  2021-11-08 19:41:18.362794  pretrainedTrial6   \n",
       "1574  2009-01-01  2021-11-08 19:41:18.362794  pretrainedTrial6   \n",
       "1575  2009-01-01  2021-11-08 19:41:18.362794  pretrainedTrial6   \n",
       "1576  2009-01-01  2021-11-08 19:41:18.362794  pretrainedTrial6   \n",
       "1577  2009-01-01  2021-11-08 19:41:18.362794  pretrainedTrial6   \n",
       "\n",
       "             hparams  net_arch  sharpe train-start            train-end  \\\n",
       "1573  ent_coef:0.005       NaN     NaN  2009-01-01  2011-07-05 00:00:00   \n",
       "1574  ent_coef:0.005       NaN     NaN  2009-01-01  2011-10-03 00:00:00   \n",
       "1575  ent_coef:0.005       NaN     NaN  2009-01-01  2012-01-03 00:00:00   \n",
       "1576  ent_coef:0.005       NaN     NaN  2009-01-01  2012-04-03 00:00:00   \n",
       "1577  ent_coef:0.005       NaN     NaN  2009-01-01  2012-07-03 00:00:00   \n",
       "\n",
       "                                             indicators  env_hparams  \n",
       "1573  macd,tema,boll,boll_ub,boll_lb,wr_10,rsi_30,rs...          NaN  \n",
       "1574  macd,tema,boll,boll_ub,boll_lb,wr_10,rsi_30,rs...          NaN  \n",
       "1575  macd,tema,boll,boll_ub,boll_lb,wr_10,rsi_30,rs...          NaN  \n",
       "1576  macd,tema,boll,boll_ub,boll_lb,wr_10,rsi_30,rs...          NaN  \n",
       "1577  macd,tema,boll,boll_ub,boll_lb,wr_10,rsi_30,rs...          NaN  "
      ]
     },
     "execution_count": 73,
     "metadata": {},
     "output_type": "execute_result"
    }
   ],
   "source": [
    "agents.tail()"
   ]
  },
  {
   "cell_type": "code",
   "execution_count": 2,
   "metadata": {},
   "outputs": [],
   "source": [
    "trade_mem = pd.read_csv('../results/trade_memory_jim_sac-v14.csv')"
   ]
  },
  {
   "cell_type": "code",
   "execution_count": 3,
   "metadata": {},
   "outputs": [],
   "source": [
    "def plot_stock_holdings(ticker, trade_mem):\n",
    "    trade_mem.Date = pd.to_datetime(trade_mem.Date).dt.date\n",
    "    \n",
    "    start = trade_mem.Date.values[0]\n",
    "    end = trade_mem.Date.values[-1]\n",
    "\n",
    "    start = datetime.strptime(str(start), '%Y-%m-%d')\n",
    "    end = datetime.strptime(str(end), '%Y-%m-%d')\n",
    "\n",
    "    stock = get_price(ticker, start, end)\n",
    " \n",
    "    traded_stock = trade_mem[trade_mem.ticker == ticker]\n",
    "    n = calculate_holdings(traded_stock)\n",
    "    \n",
    "    ax1 =n.plot(x='Date', y='holdings', alpha=0.9\n",
    "            , color='r')\n",
    "    ax2=ax1.twinx()\n",
    "    ax2.plot(stock['Date'], stock['Adj Close'],color=\"blue\",marker=\"o\")\n",
    "    ax2.set_ylabel(\"Price\",color=\"blue\",fontsize=14)\n",
    "    #ax2.xticks(rotation=45)\n",
    "    \n",
    "    plt.title(ticker)\n",
    "    plt.show()\n",
    "    return ax2"
   ]
  },
  {
   "cell_type": "code",
   "execution_count": 4,
   "metadata": {},
   "outputs": [
    {
     "name": "stdout",
     "output_type": "stream",
     "text": [
      "[*********************100%***********************]  1 of 1 completed\n"
     ]
    },
    {
     "ename": "NameError",
     "evalue": "name 'calculate_holdings' is not defined",
     "output_type": "error",
     "traceback": [
      "\u001b[1;31m---------------------------------------------------------------------------\u001b[0m",
      "\u001b[1;31mNameError\u001b[0m                                 Traceback (most recent call last)",
      "\u001b[1;32m~\\AppData\\Local\\Temp/ipykernel_6904/1618662225.py\u001b[0m in \u001b[0;36m<module>\u001b[1;34m\u001b[0m\n\u001b[1;32m----> 1\u001b[1;33m \u001b[0mplot_stock_holdings\u001b[0m\u001b[1;33m(\u001b[0m\u001b[1;34m'AAPL'\u001b[0m\u001b[1;33m,\u001b[0m\u001b[0mtrade_mem\u001b[0m\u001b[1;33m)\u001b[0m\u001b[1;33m\u001b[0m\u001b[1;33m\u001b[0m\u001b[0m\n\u001b[0m",
      "\u001b[1;32m~\\AppData\\Local\\Temp/ipykernel_6904/1595967111.py\u001b[0m in \u001b[0;36mplot_stock_holdings\u001b[1;34m(ticker, trade_mem)\u001b[0m\n\u001b[0;32m     11\u001b[0m \u001b[1;33m\u001b[0m\u001b[0m\n\u001b[0;32m     12\u001b[0m     \u001b[0mtraded_stock\u001b[0m \u001b[1;33m=\u001b[0m \u001b[0mtrade_mem\u001b[0m\u001b[1;33m[\u001b[0m\u001b[0mtrade_mem\u001b[0m\u001b[1;33m.\u001b[0m\u001b[0mticker\u001b[0m \u001b[1;33m==\u001b[0m \u001b[0mticker\u001b[0m\u001b[1;33m]\u001b[0m\u001b[1;33m\u001b[0m\u001b[1;33m\u001b[0m\u001b[0m\n\u001b[1;32m---> 13\u001b[1;33m     \u001b[0mn\u001b[0m \u001b[1;33m=\u001b[0m \u001b[0mcalculate_holdings\u001b[0m\u001b[1;33m(\u001b[0m\u001b[0mtraded_stock\u001b[0m\u001b[1;33m)\u001b[0m\u001b[1;33m\u001b[0m\u001b[1;33m\u001b[0m\u001b[0m\n\u001b[0m\u001b[0;32m     14\u001b[0m \u001b[1;33m\u001b[0m\u001b[0m\n\u001b[0;32m     15\u001b[0m     ax1 =n.plot(x='Date', y='holdings', alpha=0.9\n",
      "\u001b[1;31mNameError\u001b[0m: name 'calculate_holdings' is not defined"
     ]
    }
   ],
   "source": [
    "plot_stock_holdings('AAPL',trade_mem)"
   ]
  },
  {
   "cell_type": "code",
   "execution_count": 6,
   "metadata": {},
   "outputs": [],
   "source": [
    "def display_buy_sell(ticker, trade_mem):\n",
    "    trade_mem.Date = pd.to_datetime(trade_mem.Date).dt.date\n",
    "    \n",
    "    start = trade_mem.Date.values[0]\n",
    "    end = trade_mem.Date.values[-1]\n",
    "\n",
    "    start = datetime.strptime(str(start), '%Y-%m-%d')\n",
    "    end = datetime.strptime(str(end), '%Y-%m-%d')\n",
    "    \n",
    "    stock = get_price(ticker, start, end)\n",
    "    print('Stock prices set')\n",
    "    stock = stock.set_index('Date')\n",
    "    stock_trades = trade_mem[trade_mem.ticker == ticker]\n",
    "    stock_trades['action'] = stock_trades.amount.apply(lambda x: -1 if x < 0 else 0 if x == 0 else 1)\n",
    "    sells = stock_trades[stock_trades.action < 0]\n",
    "    \n",
    "    buys = stock_trades[stock_trades.action > 0]\n",
    "\n",
    "    #ax = fig.add_subplot(111)\n",
    "    #plotting\n",
    "    #plt.style.use('fivethirtyeight')\n",
    "   \n",
    "    ax1 =sells.plot(kind='scatter', x='Date', y='price', alpha=0.6\n",
    "            ,marker='o', color='r')\n",
    "    ax2 = buys.plot(kind='scatter', x='Date', y='price',alpha=0.6,\n",
    "                marker='o', color='b', ax = ax1)\n",
    "    fig = stock['Adj Close'].plot(rot=70, alpha = 0.7, color='grey', figsize=(12,12))\n",
    "    plt.xticks( rotation='vertical')\n",
    "    ax2.set_xticks(ax2.get_xticks()[::2])\n",
    "    #plt.savefig('pos_neg.png', dpi=200)\n",
    "    plt.title(ticker)\n",
    "    #plt.show()\n",
    "    return fig\n",
    "    "
   ]
  },
  {
   "cell_type": "code",
   "execution_count": 8,
   "metadata": {},
   "outputs": [
    {
     "name": "stdout",
     "output_type": "stream",
     "text": [
      "[*********************100%***********************]  1 of 1 completed\n",
      "Stock prices set\n"
     ]
    },
    {
     "name": "stderr",
     "output_type": "stream",
     "text": [
      "C:\\Users\\kaanb\\Anaconda3\\envs\\pytorchgpu\\lib\\site-packages\\ipykernel_launcher.py:14: SettingWithCopyWarning: \n",
      "A value is trying to be set on a copy of a slice from a DataFrame.\n",
      "Try using .loc[row_indexer,col_indexer] = value instead\n",
      "\n",
      "See the caveats in the documentation: https://pandas.pydata.org/pandas-docs/stable/user_guide/indexing.html#returning-a-view-versus-a-copy\n",
      "  \n"
     ]
    },
    {
     "data": {
      "text/plain": [
       "<AxesSubplot:title={'center':'AAPL'}, xlabel='Date', ylabel='price'>"
      ]
     },
     "execution_count": 8,
     "metadata": {},
     "output_type": "execute_result"
    },
    {
     "data": {
      "image/png": "[encoded data removed]",
      "text/plain": [
       "<Figure size 864x864 with 1 Axes>"
      ]
     },
     "metadata": {
      "needs_background": "light"
     },
     "output_type": "display_data"
    }
   ],
   "source": [
    "display_buy_sell('AAPL', trade_mem)"
   ]
  },
  {
   "cell_type": "code",
   "execution_count": 247,
   "metadata": {},
   "outputs": [
    {
     "data": {
      "text/plain": [
       "<AxesSubplot:title={'center':'AAPL'}, xlabel='Date', ylabel='price'>"
      ]
     },
     "execution_count": 247,
     "metadata": {},
     "output_type": "execute_result"
    }
   ],
   "source": [
    "ax"
   ]
  },
  {
   "cell_type": "code",
   "execution_count": 214,
   "metadata": {},
   "outputs": [
    {
     "data": {
      "text/plain": [
       "array(['XOM', 'WMT', 'AXP', 'BA', 'CAT', 'CVX', 'DD', 'DIS', 'GS', 'HD',\n",
       "       'IBM', 'INTC', 'JNJ', 'JPM', 'KO', 'MMM', 'MRK', 'NKE', 'PFE',\n",
       "       'PG', 'RTX', 'TRV', 'UNH', 'VZ', 'WBA', 'AAPL', 'MCD', 'MSFT', 'V',\n",
       "       'CSCO'], dtype=object)"
      ]
     },
     "execution_count": 214,
     "metadata": {},
     "output_type": "execute_result"
    }
   ],
   "source": [
    "trade_mem.ticker.unique()"
   ]
  },
  {
   "cell_type": "code",
   "execution_count": 101,
   "metadata": {},
   "outputs": [
    {
     "name": "stderr",
     "output_type": "stream",
     "text": [
      "Exception in thread Thread-17:\n",
      "Traceback (most recent call last):\n",
      "  File \"C:\\Users\\kaanb\\Anaconda3\\envs\\pytorchgpu\\lib\\threading.py\", line 926, in _bootstrap_inner\n",
      "    self.run()\n",
      "  File \"C:\\Users\\kaanb\\Anaconda3\\envs\\pytorchgpu\\lib\\threading.py\", line 870, in run\n",
      "    self._target(*self._args, **self._kwargs)\n",
      "  File \"C:\\Users\\kaanb\\Anaconda3\\envs\\pytorchgpu\\lib\\site-packages\\multitasking\\__init__.py\", line 102, in _run_via_pool\n",
      "    return callee(*args, **kwargs)\n",
      "  File \"C:\\Users\\kaanb\\Anaconda3\\envs\\pytorchgpu\\lib\\site-packages\\yfinance\\multi.py\", line 170, in _download_one_threaded\n",
      "    actions, period, interval, prepost, proxy, rounding)\n",
      "  File \"C:\\Users\\kaanb\\Anaconda3\\envs\\pytorchgpu\\lib\\site-packages\\yfinance\\multi.py\", line 185, in _download_one\n",
      "    rounding=rounding, many=True)\n",
      "  File \"C:\\Users\\kaanb\\Anaconda3\\envs\\pytorchgpu\\lib\\site-packages\\yfinance\\base.py\", line 146, in history\n",
      "    end = int(_time.mktime(_time.strptime(str(end), '%Y-%m-%d')))\n",
      "  File \"C:\\Users\\kaanb\\Anaconda3\\envs\\pytorchgpu\\lib\\_strptime.py\", line 571, in _strptime_time\n",
      "    tt = _strptime(data_string, format)[0]\n",
      "  File \"C:\\Users\\kaanb\\Anaconda3\\envs\\pytorchgpu\\lib\\_strptime.py\", line 362, in _strptime\n",
      "    data_string[found.end():])\n",
      "ValueError: unconverted data remains:  00:00:00\n",
      "\n"
     ]
    },
    {
     "ename": "KeyboardInterrupt",
     "evalue": "",
     "output_type": "error",
     "traceback": [
      "\u001b[1;31m---------------------------------------------------------------------------\u001b[0m",
      "\u001b[1;31mKeyboardInterrupt\u001b[0m                         Traceback (most recent call last)",
      "\u001b[1;32m~\\AppData\\Local\\Temp/ipykernel_10356/2958431293.py\u001b[0m in \u001b[0;36m<module>\u001b[1;34m\u001b[0m\n\u001b[0;32m      1\u001b[0m \u001b[0mstart\u001b[0m \u001b[1;33m=\u001b[0m \u001b[0mtrade_mem\u001b[0m\u001b[1;33m.\u001b[0m\u001b[0mDate\u001b[0m\u001b[1;33m.\u001b[0m\u001b[0mvalues\u001b[0m\u001b[1;33m[\u001b[0m\u001b[1;36m0\u001b[0m\u001b[1;33m]\u001b[0m\u001b[1;33m\u001b[0m\u001b[1;33m\u001b[0m\u001b[0m\n\u001b[0;32m      2\u001b[0m \u001b[0mend\u001b[0m \u001b[1;33m=\u001b[0m \u001b[0mtrade_mem\u001b[0m\u001b[1;33m.\u001b[0m\u001b[0mDate\u001b[0m\u001b[1;33m.\u001b[0m\u001b[0mvalues\u001b[0m\u001b[1;33m[\u001b[0m\u001b[1;33m-\u001b[0m\u001b[1;36m1\u001b[0m\u001b[1;33m]\u001b[0m\u001b[1;33m\u001b[0m\u001b[1;33m\u001b[0m\u001b[0m\n\u001b[1;32m----> 3\u001b[1;33m \u001b[0mstock\u001b[0m \u001b[1;33m=\u001b[0m \u001b[0mget_price\u001b[0m\u001b[1;33m(\u001b[0m\u001b[1;34m'BA'\u001b[0m\u001b[1;33m,\u001b[0m \u001b[0mstart\u001b[0m\u001b[1;33m,\u001b[0m \u001b[0mend\u001b[0m\u001b[1;33m)\u001b[0m\u001b[1;33m\u001b[0m\u001b[1;33m\u001b[0m\u001b[0m\n\u001b[0m\u001b[0;32m      4\u001b[0m \u001b[1;33m\u001b[0m\u001b[0m\n\u001b[0;32m      5\u001b[0m \u001b[0mstock\u001b[0m \u001b[1;33m=\u001b[0m \u001b[0mstock\u001b[0m\u001b[1;33m.\u001b[0m\u001b[0mset_index\u001b[0m\u001b[1;33m(\u001b[0m\u001b[1;34m'Date'\u001b[0m\u001b[1;33m)\u001b[0m\u001b[1;33m\u001b[0m\u001b[1;33m\u001b[0m\u001b[0m\n",
      "\u001b[1;32m~\\Desktop\\Code\\Finance\\Bot\\FundSimulator\\data\\preprocessing.py\u001b[0m in \u001b[0;36mget_price\u001b[1;34m(ticker, start, end)\u001b[0m\n\u001b[0;32m     69\u001b[0m \u001b[1;33m\u001b[0m\u001b[0m\n\u001b[0;32m     70\u001b[0m \u001b[1;32mdef\u001b[0m \u001b[0mget_price\u001b[0m\u001b[1;33m(\u001b[0m\u001b[0mticker\u001b[0m\u001b[1;33m,\u001b[0m \u001b[0mstart\u001b[0m\u001b[1;33m,\u001b[0m \u001b[0mend\u001b[0m\u001b[1;33m=\u001b[0m\u001b[0mdatetime\u001b[0m\u001b[1;33m.\u001b[0m\u001b[0mnow\u001b[0m\u001b[1;33m(\u001b[0m\u001b[1;33m)\u001b[0m\u001b[1;33m)\u001b[0m\u001b[1;33m:\u001b[0m\u001b[1;33m\u001b[0m\u001b[1;33m\u001b[0m\u001b[0m\n\u001b[1;32m---> 71\u001b[1;33m     \u001b[0mdf\u001b[0m \u001b[1;33m=\u001b[0m \u001b[0myf\u001b[0m\u001b[1;33m.\u001b[0m\u001b[0mdownload\u001b[0m\u001b[1;33m(\u001b[0m\u001b[0mticker\u001b[0m\u001b[1;33m,\u001b[0m \u001b[0mstart\u001b[0m\u001b[1;33m=\u001b[0m\u001b[0mstart\u001b[0m\u001b[1;33m,\u001b[0m \u001b[0mend\u001b[0m\u001b[1;33m=\u001b[0m\u001b[0mend\u001b[0m\u001b[1;33m)\u001b[0m\u001b[1;33m.\u001b[0m\u001b[0mreset_index\u001b[0m\u001b[1;33m(\u001b[0m\u001b[1;33m)\u001b[0m\u001b[1;33m\u001b[0m\u001b[1;33m\u001b[0m\u001b[0m\n\u001b[0m\u001b[0;32m     72\u001b[0m     \u001b[1;31m#df = stock.history(start=start, end=end)\u001b[0m\u001b[1;33m\u001b[0m\u001b[1;33m\u001b[0m\u001b[1;33m\u001b[0m\u001b[0m\n\u001b[0;32m     73\u001b[0m     \u001b[1;31m#Calculate ADJ Close\u001b[0m\u001b[1;33m\u001b[0m\u001b[1;33m\u001b[0m\u001b[1;33m\u001b[0m\u001b[0m\n",
      "\u001b[1;32m~\\Anaconda3\\envs\\pytorchgpu\\lib\\site-packages\\yfinance\\multi.py\u001b[0m in \u001b[0;36mdownload\u001b[1;34m(tickers, start, end, actions, threads, group_by, auto_adjust, back_adjust, progress, period, show_errors, interval, prepost, proxy, rounding, **kwargs)\u001b[0m\n\u001b[0;32m     95\u001b[0m                                    rounding=rounding)\n\u001b[0;32m     96\u001b[0m         \u001b[1;32mwhile\u001b[0m \u001b[0mlen\u001b[0m\u001b[1;33m(\u001b[0m\u001b[0mshared\u001b[0m\u001b[1;33m.\u001b[0m\u001b[0m_DFS\u001b[0m\u001b[1;33m)\u001b[0m \u001b[1;33m<\u001b[0m \u001b[0mlen\u001b[0m\u001b[1;33m(\u001b[0m\u001b[0mtickers\u001b[0m\u001b[1;33m)\u001b[0m\u001b[1;33m:\u001b[0m\u001b[1;33m\u001b[0m\u001b[1;33m\u001b[0m\u001b[0m\n\u001b[1;32m---> 97\u001b[1;33m             \u001b[0m_time\u001b[0m\u001b[1;33m.\u001b[0m\u001b[0msleep\u001b[0m\u001b[1;33m(\u001b[0m\u001b[1;36m0.01\u001b[0m\u001b[1;33m)\u001b[0m\u001b[1;33m\u001b[0m\u001b[1;33m\u001b[0m\u001b[0m\n\u001b[0m\u001b[0;32m     98\u001b[0m \u001b[1;33m\u001b[0m\u001b[0m\n\u001b[0;32m     99\u001b[0m     \u001b[1;31m# download synchronously\u001b[0m\u001b[1;33m\u001b[0m\u001b[1;33m\u001b[0m\u001b[1;33m\u001b[0m\u001b[0m\n",
      "\u001b[1;31mKeyboardInterrupt\u001b[0m: "
     ]
    }
   ],
   "source": [
    "start = trade_mem.Date.values[0]\n",
    "end = trade_mem.Date.values[-1]\n",
    "stock = get_price('BA', start, end)\n",
    "\n",
    "stock = stock.set_index('Date')\n",
    "stock_trades = trade_mem[trade_mem.ticker == 'BA']\n",
    "stock['Adj Close'].plot(rot=70)"
   ]
  },
  {
   "cell_type": "code",
   "execution_count": 74,
   "metadata": {},
   "outputs": [],
   "source": [
    "ba = calculate_holdings(stock_trades)"
   ]
  },
  {
   "cell_type": "code",
   "execution_count": 75,
   "metadata": {},
   "outputs": [
    {
     "data": {
      "text/html": [
       "<div>\n",
       "<style scoped>\n",
       "    .dataframe tbody tr th:only-of-type {\n",
       "        vertical-align: middle;\n",
       "    }\n",
       "\n",
       "    .dataframe tbody tr th {\n",
       "        vertical-align: top;\n",
       "    }\n",
       "\n",
       "    .dataframe thead th {\n",
       "        text-align: right;\n",
       "    }\n",
       "</style>\n",
       "<table border=\"1\" class=\"dataframe\">\n",
       "  <thead>\n",
       "    <tr style=\"text-align: right;\">\n",
       "      <th></th>\n",
       "      <th>Date</th>\n",
       "      <th>ticker</th>\n",
       "      <th>amount</th>\n",
       "      <th>price</th>\n",
       "      <th>action</th>\n",
       "      <th>holdings</th>\n",
       "    </tr>\n",
       "  </thead>\n",
       "  <tbody>\n",
       "    <tr>\n",
       "      <th>0</th>\n",
       "      <td>2009-10-02</td>\n",
       "      <td>BA</td>\n",
       "      <td>100.0</td>\n",
       "      <td>39.703064</td>\n",
       "      <td>0</td>\n",
       "      <td>0</td>\n",
       "    </tr>\n",
       "    <tr>\n",
       "      <th>1</th>\n",
       "      <td>2009-10-05</td>\n",
       "      <td>BA</td>\n",
       "      <td>100.0</td>\n",
       "      <td>40.382790</td>\n",
       "      <td>100</td>\n",
       "      <td>0</td>\n",
       "    </tr>\n",
       "    <tr>\n",
       "      <th>2</th>\n",
       "      <td>2009-10-06</td>\n",
       "      <td>BA</td>\n",
       "      <td>100.0</td>\n",
       "      <td>40.390526</td>\n",
       "      <td>200</td>\n",
       "      <td>0</td>\n",
       "    </tr>\n",
       "    <tr>\n",
       "      <th>3</th>\n",
       "      <td>2009-10-07</td>\n",
       "      <td>BA</td>\n",
       "      <td>100.0</td>\n",
       "      <td>40.004322</td>\n",
       "      <td>300</td>\n",
       "      <td>0</td>\n",
       "    </tr>\n",
       "    <tr>\n",
       "      <th>4</th>\n",
       "      <td>2009-10-08</td>\n",
       "      <td>BA</td>\n",
       "      <td>100.0</td>\n",
       "      <td>40.398251</td>\n",
       "      <td>400</td>\n",
       "      <td>0</td>\n",
       "    </tr>\n",
       "    <tr>\n",
       "      <th>...</th>\n",
       "      <td>...</td>\n",
       "      <td>...</td>\n",
       "      <td>...</td>\n",
       "      <td>...</td>\n",
       "      <td>...</td>\n",
       "      <td>...</td>\n",
       "    </tr>\n",
       "    <tr>\n",
       "      <th>224</th>\n",
       "      <td>2010-11-16 00:00:00</td>\n",
       "      <td>BA</td>\n",
       "      <td>-100.0</td>\n",
       "      <td>50.143177</td>\n",
       "      <td>100</td>\n",
       "      <td>0</td>\n",
       "    </tr>\n",
       "    <tr>\n",
       "      <th>225</th>\n",
       "      <td>2010-11-26 00:00:00</td>\n",
       "      <td>BA</td>\n",
       "      <td>100.0</td>\n",
       "      <td>51.756588</td>\n",
       "      <td>0</td>\n",
       "      <td>0</td>\n",
       "    </tr>\n",
       "    <tr>\n",
       "      <th>226</th>\n",
       "      <td>2010-11-29 00:00:00</td>\n",
       "      <td>BA</td>\n",
       "      <td>-100.0</td>\n",
       "      <td>51.405144</td>\n",
       "      <td>100</td>\n",
       "      <td>0</td>\n",
       "    </tr>\n",
       "    <tr>\n",
       "      <th>227</th>\n",
       "      <td>2010-12-16 00:00:00</td>\n",
       "      <td>BA</td>\n",
       "      <td>100.0</td>\n",
       "      <td>51.437099</td>\n",
       "      <td>0</td>\n",
       "      <td>0</td>\n",
       "    </tr>\n",
       "    <tr>\n",
       "      <th>228</th>\n",
       "      <td>2010-12-17 00:00:00</td>\n",
       "      <td>BA</td>\n",
       "      <td>-100.0</td>\n",
       "      <td>51.940281</td>\n",
       "      <td>100</td>\n",
       "      <td>0</td>\n",
       "    </tr>\n",
       "  </tbody>\n",
       "</table>\n",
       "<p>229 rows × 6 columns</p>\n",
       "</div>"
      ],
      "text/plain": [
       "                    Date ticker  amount      price  action  holdings\n",
       "0             2009-10-02     BA   100.0  39.703064       0         0\n",
       "1             2009-10-05     BA   100.0  40.382790     100         0\n",
       "2             2009-10-06     BA   100.0  40.390526     200         0\n",
       "3             2009-10-07     BA   100.0  40.004322     300         0\n",
       "4             2009-10-08     BA   100.0  40.398251     400         0\n",
       "..                   ...    ...     ...        ...     ...       ...\n",
       "224  2010-11-16 00:00:00     BA  -100.0  50.143177     100         0\n",
       "225  2010-11-26 00:00:00     BA   100.0  51.756588       0         0\n",
       "226  2010-11-29 00:00:00     BA  -100.0  51.405144     100         0\n",
       "227  2010-12-16 00:00:00     BA   100.0  51.437099       0         0\n",
       "228  2010-12-17 00:00:00     BA  -100.0  51.940281     100         0\n",
       "\n",
       "[229 rows x 6 columns]"
      ]
     },
     "execution_count": 75,
     "metadata": {},
     "output_type": "execute_result"
    }
   ],
   "source": [
    "ba"
   ]
  },
  {
   "cell_type": "code",
   "execution_count": 33,
   "metadata": {},
   "outputs": [
    {
     "name": "stderr",
     "output_type": "stream",
     "text": [
      "C:\\Users\\kaanb\\Anaconda3\\envs\\pytorchgpu\\lib\\site-packages\\ipykernel_launcher.py:2: SettingWithCopyWarning: \n",
      "A value is trying to be set on a copy of a slice from a DataFrame.\n",
      "Try using .loc[row_indexer,col_indexer] = value instead\n",
      "\n",
      "See the caveats in the documentation: https://pandas.pydata.org/pandas-docs/stable/user_guide/indexing.html#returning-a-view-versus-a-copy\n",
      "  \n"
     ]
    },
    {
     "data": {
      "text/plain": [
       "<AxesSubplot:xlabel='Date'>"
      ]
     },
     "execution_count": 33,
     "metadata": {},
     "output_type": "execute_result"
    },
    {
     "data": {
      "image/png": "[encoded data removed]",
      "text/plain": [
       "<Figure size 432x288 with 1 Axes>"
      ]
     },
     "metadata": {
      "needs_background": "light"
     },
     "output_type": "display_data"
    }
   ],
   "source": [
    "stock_trades = trade_mem[trade_mem.ticker == 'BA']\n",
    "stock_trades['action'] = stock_trades.amount.apply(lambda x: -1 if x < 0 else 0 if x == 0 else 1)\n",
    "stock['Adj Close'].plot(rot=70)"
   ]
  },
  {
   "cell_type": "code",
   "execution_count": 85,
   "metadata": {},
   "outputs": [
    {
     "name": "stderr",
     "output_type": "stream",
     "text": [
      "C:\\Users\\kaanb\\Anaconda3\\envs\\pytorchgpu\\lib\\site-packages\\pandas\\core\\generic.py:5516: SettingWithCopyWarning: \n",
      "A value is trying to be set on a copy of a slice from a DataFrame.\n",
      "Try using .loc[row_indexer,col_indexer] = value instead\n",
      "\n",
      "See the caveats in the documentation: https://pandas.pydata.org/pandas-docs/stable/user_guide/indexing.html#returning-a-view-versus-a-copy\n",
      "  self[name] = value\n"
     ]
    }
   ],
   "source": [
    "stock_trades.Date = pd.to_datetime(stock_trades.Date)"
   ]
  },
  {
   "cell_type": "code",
   "execution_count": 154,
   "metadata": {},
   "outputs": [
    {
     "data": {
      "image/png": "[encoded data removed]",
      "text/plain": [
       "<Figure size 432x288 with 1 Axes>"
      ]
     },
     "metadata": {
      "needs_background": "light"
     },
     "output_type": "display_data"
    }
   ],
   "source": [
    "\n",
    "sells = stock_trades[stock_trades.action <= 0]\n",
    "buys = stock_trades[stock_trades.action > 0]\n",
    "\n",
    "ax = fig.add_subplot(111)\n",
    "#plotting\n",
    "#plt.style.use('fivethirtyeight')\n",
    "\n",
    "ax1 =sells.plot(kind='scatter', x='Date', y='price', alpha=0.6\n",
    "            ,marker='o', color='r')\n",
    "ax2 = buys.plot(kind='scatter', x='Date', y='price',alpha=0.6,\n",
    "            marker='o', color='b', ax = ax1)\n",
    "stock['Adj Close'].plot(rot=70, alpha = 0.7, color='grey')\n",
    "plt.xticks( rotation='vertical')\n",
    "ax2.set_xticks(ax.get_xticks()[::12])\n",
    "#plt.savefig('pos_neg.png', dpi=200)\n",
    "plt.show()\n"
   ]
  },
  {
   "cell_type": "code",
   "execution_count": 84,
   "metadata": {},
   "outputs": [
    {
     "data": {
      "text/html": [
       "<div>\n",
       "<style scoped>\n",
       "    .dataframe tbody tr th:only-of-type {\n",
       "        vertical-align: middle;\n",
       "    }\n",
       "\n",
       "    .dataframe tbody tr th {\n",
       "        vertical-align: top;\n",
       "    }\n",
       "\n",
       "    .dataframe thead th {\n",
       "        text-align: right;\n",
       "    }\n",
       "</style>\n",
       "<table border=\"1\" class=\"dataframe\">\n",
       "  <thead>\n",
       "    <tr style=\"text-align: right;\">\n",
       "      <th></th>\n",
       "      <th>Date</th>\n",
       "      <th>ticker</th>\n",
       "      <th>amount</th>\n",
       "      <th>price</th>\n",
       "      <th>action</th>\n",
       "    </tr>\n",
       "  </thead>\n",
       "  <tbody>\n",
       "    <tr>\n",
       "      <th>314</th>\n",
       "      <td>2009-11-12</td>\n",
       "      <td>BA</td>\n",
       "      <td>-100.0</td>\n",
       "      <td>39.180042</td>\n",
       "      <td>-1</td>\n",
       "    </tr>\n",
       "    <tr>\n",
       "      <th>640</th>\n",
       "      <td>2009-12-29</td>\n",
       "      <td>BA</td>\n",
       "      <td>-100.0</td>\n",
       "      <td>43.021694</td>\n",
       "      <td>-1</td>\n",
       "    </tr>\n",
       "    <tr>\n",
       "      <th>848</th>\n",
       "      <td>2010-01-22 00:00:00</td>\n",
       "      <td>BA</td>\n",
       "      <td>0.0</td>\n",
       "      <td>45.016537</td>\n",
       "      <td>0</td>\n",
       "    </tr>\n",
       "    <tr>\n",
       "      <th>904</th>\n",
       "      <td>2010-01-28 00:00:00</td>\n",
       "      <td>BA</td>\n",
       "      <td>0.0</td>\n",
       "      <td>48.749077</td>\n",
       "      <td>0</td>\n",
       "    </tr>\n",
       "    <tr>\n",
       "      <th>973</th>\n",
       "      <td>2010-02-04 00:00:00</td>\n",
       "      <td>BA</td>\n",
       "      <td>0.0</td>\n",
       "      <td>46.539932</td>\n",
       "      <td>0</td>\n",
       "    </tr>\n",
       "    <tr>\n",
       "      <th>...</th>\n",
       "      <td>...</td>\n",
       "      <td>...</td>\n",
       "      <td>...</td>\n",
       "      <td>...</td>\n",
       "      <td>...</td>\n",
       "    </tr>\n",
       "    <tr>\n",
       "      <th>3387</th>\n",
       "      <td>2010-10-21 00:00:00</td>\n",
       "      <td>BA</td>\n",
       "      <td>-100.0</td>\n",
       "      <td>56.764229</td>\n",
       "      <td>-1</td>\n",
       "    </tr>\n",
       "    <tr>\n",
       "      <th>3593</th>\n",
       "      <td>2010-11-08 00:00:00</td>\n",
       "      <td>BA</td>\n",
       "      <td>-100.0</td>\n",
       "      <td>56.077614</td>\n",
       "      <td>-1</td>\n",
       "    </tr>\n",
       "    <tr>\n",
       "      <th>3694</th>\n",
       "      <td>2010-11-16 00:00:00</td>\n",
       "      <td>BA</td>\n",
       "      <td>-100.0</td>\n",
       "      <td>50.143177</td>\n",
       "      <td>-1</td>\n",
       "    </tr>\n",
       "    <tr>\n",
       "      <th>3831</th>\n",
       "      <td>2010-11-29 00:00:00</td>\n",
       "      <td>BA</td>\n",
       "      <td>-100.0</td>\n",
       "      <td>51.405144</td>\n",
       "      <td>-1</td>\n",
       "    </tr>\n",
       "    <tr>\n",
       "      <th>4040</th>\n",
       "      <td>2010-12-17 00:00:00</td>\n",
       "      <td>BA</td>\n",
       "      <td>-100.0</td>\n",
       "      <td>51.940281</td>\n",
       "      <td>-1</td>\n",
       "    </tr>\n",
       "  </tbody>\n",
       "</table>\n",
       "<p>117 rows × 5 columns</p>\n",
       "</div>"
      ],
      "text/plain": [
       "                     Date ticker  amount      price  action\n",
       "314            2009-11-12     BA  -100.0  39.180042      -1\n",
       "640            2009-12-29     BA  -100.0  43.021694      -1\n",
       "848   2010-01-22 00:00:00     BA     0.0  45.016537       0\n",
       "904   2010-01-28 00:00:00     BA     0.0  48.749077       0\n",
       "973   2010-02-04 00:00:00     BA     0.0  46.539932       0\n",
       "...                   ...    ...     ...        ...     ...\n",
       "3387  2010-10-21 00:00:00     BA  -100.0  56.764229      -1\n",
       "3593  2010-11-08 00:00:00     BA  -100.0  56.077614      -1\n",
       "3694  2010-11-16 00:00:00     BA  -100.0  50.143177      -1\n",
       "3831  2010-11-29 00:00:00     BA  -100.0  51.405144      -1\n",
       "4040  2010-12-17 00:00:00     BA  -100.0  51.940281      -1\n",
       "\n",
       "[117 rows x 5 columns]"
      ]
     },
     "execution_count": 84,
     "metadata": {},
     "output_type": "execute_result"
    }
   ],
   "source": [
    "sells"
   ]
  },
  {
   "cell_type": "code",
   "execution_count": 83,
   "metadata": {},
   "outputs": [
    {
     "data": {
      "text/html": [
       "<div>\n",
       "<style scoped>\n",
       "    .dataframe tbody tr th:only-of-type {\n",
       "        vertical-align: middle;\n",
       "    }\n",
       "\n",
       "    .dataframe tbody tr th {\n",
       "        vertical-align: top;\n",
       "    }\n",
       "\n",
       "    .dataframe thead th {\n",
       "        text-align: right;\n",
       "    }\n",
       "</style>\n",
       "<table border=\"1\" class=\"dataframe\">\n",
       "  <thead>\n",
       "    <tr style=\"text-align: right;\">\n",
       "      <th></th>\n",
       "      <th>Date</th>\n",
       "      <th>ticker</th>\n",
       "      <th>amount</th>\n",
       "      <th>price</th>\n",
       "      <th>action</th>\n",
       "    </tr>\n",
       "  </thead>\n",
       "  <tbody>\n",
       "    <tr>\n",
       "      <th>2</th>\n",
       "      <td>2009-10-02</td>\n",
       "      <td>BA</td>\n",
       "      <td>100.0</td>\n",
       "      <td>39.703064</td>\n",
       "      <td>1</td>\n",
       "    </tr>\n",
       "    <tr>\n",
       "      <th>14</th>\n",
       "      <td>2009-10-05</td>\n",
       "      <td>BA</td>\n",
       "      <td>100.0</td>\n",
       "      <td>40.382790</td>\n",
       "      <td>1</td>\n",
       "    </tr>\n",
       "    <tr>\n",
       "      <th>24</th>\n",
       "      <td>2009-10-06</td>\n",
       "      <td>BA</td>\n",
       "      <td>100.0</td>\n",
       "      <td>40.390526</td>\n",
       "      <td>1</td>\n",
       "    </tr>\n",
       "    <tr>\n",
       "      <th>36</th>\n",
       "      <td>2009-10-07</td>\n",
       "      <td>BA</td>\n",
       "      <td>100.0</td>\n",
       "      <td>40.004322</td>\n",
       "      <td>1</td>\n",
       "    </tr>\n",
       "    <tr>\n",
       "      <th>45</th>\n",
       "      <td>2009-10-08</td>\n",
       "      <td>BA</td>\n",
       "      <td>100.0</td>\n",
       "      <td>40.398251</td>\n",
       "      <td>1</td>\n",
       "    </tr>\n",
       "    <tr>\n",
       "      <th>...</th>\n",
       "      <td>...</td>\n",
       "      <td>...</td>\n",
       "      <td>...</td>\n",
       "      <td>...</td>\n",
       "      <td>...</td>\n",
       "    </tr>\n",
       "    <tr>\n",
       "      <th>3378</th>\n",
       "      <td>2010-10-20 00:00:00</td>\n",
       "      <td>BA</td>\n",
       "      <td>100.0</td>\n",
       "      <td>56.653069</td>\n",
       "      <td>1</td>\n",
       "    </tr>\n",
       "    <tr>\n",
       "      <th>3580</th>\n",
       "      <td>2010-11-05 00:00:00</td>\n",
       "      <td>BA</td>\n",
       "      <td>100.0</td>\n",
       "      <td>56.924255</td>\n",
       "      <td>1</td>\n",
       "    </tr>\n",
       "    <tr>\n",
       "      <th>3682</th>\n",
       "      <td>2010-11-15 00:00:00</td>\n",
       "      <td>BA</td>\n",
       "      <td>100.0</td>\n",
       "      <td>50.806118</td>\n",
       "      <td>1</td>\n",
       "    </tr>\n",
       "    <tr>\n",
       "      <th>3824</th>\n",
       "      <td>2010-11-26 00:00:00</td>\n",
       "      <td>BA</td>\n",
       "      <td>100.0</td>\n",
       "      <td>51.756588</td>\n",
       "      <td>1</td>\n",
       "    </tr>\n",
       "    <tr>\n",
       "      <th>4029</th>\n",
       "      <td>2010-12-16 00:00:00</td>\n",
       "      <td>BA</td>\n",
       "      <td>100.0</td>\n",
       "      <td>51.437099</td>\n",
       "      <td>1</td>\n",
       "    </tr>\n",
       "  </tbody>\n",
       "</table>\n",
       "<p>112 rows × 5 columns</p>\n",
       "</div>"
      ],
      "text/plain": [
       "                     Date ticker  amount      price  action\n",
       "2              2009-10-02     BA   100.0  39.703064       1\n",
       "14             2009-10-05     BA   100.0  40.382790       1\n",
       "24             2009-10-06     BA   100.0  40.390526       1\n",
       "36             2009-10-07     BA   100.0  40.004322       1\n",
       "45             2009-10-08     BA   100.0  40.398251       1\n",
       "...                   ...    ...     ...        ...     ...\n",
       "3378  2010-10-20 00:00:00     BA   100.0  56.653069       1\n",
       "3580  2010-11-05 00:00:00     BA   100.0  56.924255       1\n",
       "3682  2010-11-15 00:00:00     BA   100.0  50.806118       1\n",
       "3824  2010-11-26 00:00:00     BA   100.0  51.756588       1\n",
       "4029  2010-12-16 00:00:00     BA   100.0  51.437099       1\n",
       "\n",
       "[112 rows x 5 columns]"
      ]
     },
     "execution_count": 83,
     "metadata": {},
     "output_type": "execute_result"
    }
   ],
   "source": [
    "buys"
   ]
  },
  {
   "cell_type": "code",
   "execution_count": 50,
   "metadata": {},
   "outputs": [
    {
     "data": {
      "text/plain": [
       "<matplotlib.collections.PathCollection at 0x27fa12850c8>"
      ]
     },
     "execution_count": 50,
     "metadata": {},
     "output_type": "execute_result"
    },
    {
     "data": {
      "image/png": "[encoded data removed]",
      "text/plain": [
       "<Figure size 432x288 with 1 Axes>"
      ]
     },
     "metadata": {},
     "output_type": "display_data"
    }
   ],
   "source": [
    "plt.scatter(stock_trades.Date.values,stock_trades.amount.values)"
   ]
  },
  {
   "cell_type": "code",
   "execution_count": 51,
   "metadata": {},
   "outputs": [
    {
     "data": {
      "text/html": [
       "<div>\n",
       "<style scoped>\n",
       "    .dataframe tbody tr th:only-of-type {\n",
       "        vertical-align: middle;\n",
       "    }\n",
       "\n",
       "    .dataframe tbody tr th {\n",
       "        vertical-align: top;\n",
       "    }\n",
       "\n",
       "    .dataframe thead th {\n",
       "        text-align: right;\n",
       "    }\n",
       "</style>\n",
       "<table border=\"1\" class=\"dataframe\">\n",
       "  <thead>\n",
       "    <tr style=\"text-align: right;\">\n",
       "      <th></th>\n",
       "      <th>Date</th>\n",
       "      <th>ticker</th>\n",
       "      <th>amount</th>\n",
       "      <th>price</th>\n",
       "      <th>action</th>\n",
       "    </tr>\n",
       "  </thead>\n",
       "  <tbody>\n",
       "    <tr>\n",
       "      <th>2</th>\n",
       "      <td>2009-10-02</td>\n",
       "      <td>BA</td>\n",
       "      <td>100.0</td>\n",
       "      <td>39.703064</td>\n",
       "      <td>1</td>\n",
       "    </tr>\n",
       "    <tr>\n",
       "      <th>14</th>\n",
       "      <td>2009-10-05</td>\n",
       "      <td>BA</td>\n",
       "      <td>100.0</td>\n",
       "      <td>40.382790</td>\n",
       "      <td>1</td>\n",
       "    </tr>\n",
       "    <tr>\n",
       "      <th>24</th>\n",
       "      <td>2009-10-06</td>\n",
       "      <td>BA</td>\n",
       "      <td>100.0</td>\n",
       "      <td>40.390526</td>\n",
       "      <td>1</td>\n",
       "    </tr>\n",
       "    <tr>\n",
       "      <th>36</th>\n",
       "      <td>2009-10-07</td>\n",
       "      <td>BA</td>\n",
       "      <td>100.0</td>\n",
       "      <td>40.004322</td>\n",
       "      <td>1</td>\n",
       "    </tr>\n",
       "    <tr>\n",
       "      <th>45</th>\n",
       "      <td>2009-10-08</td>\n",
       "      <td>BA</td>\n",
       "      <td>100.0</td>\n",
       "      <td>40.398251</td>\n",
       "      <td>1</td>\n",
       "    </tr>\n",
       "    <tr>\n",
       "      <th>...</th>\n",
       "      <td>...</td>\n",
       "      <td>...</td>\n",
       "      <td>...</td>\n",
       "      <td>...</td>\n",
       "      <td>...</td>\n",
       "    </tr>\n",
       "    <tr>\n",
       "      <th>3694</th>\n",
       "      <td>2010-11-16 00:00:00</td>\n",
       "      <td>BA</td>\n",
       "      <td>-100.0</td>\n",
       "      <td>50.143177</td>\n",
       "      <td>-1</td>\n",
       "    </tr>\n",
       "    <tr>\n",
       "      <th>3824</th>\n",
       "      <td>2010-11-26 00:00:00</td>\n",
       "      <td>BA</td>\n",
       "      <td>100.0</td>\n",
       "      <td>51.756588</td>\n",
       "      <td>1</td>\n",
       "    </tr>\n",
       "    <tr>\n",
       "      <th>3831</th>\n",
       "      <td>2010-11-29 00:00:00</td>\n",
       "      <td>BA</td>\n",
       "      <td>-100.0</td>\n",
       "      <td>51.405144</td>\n",
       "      <td>-1</td>\n",
       "    </tr>\n",
       "    <tr>\n",
       "      <th>4029</th>\n",
       "      <td>2010-12-16 00:00:00</td>\n",
       "      <td>BA</td>\n",
       "      <td>100.0</td>\n",
       "      <td>51.437099</td>\n",
       "      <td>1</td>\n",
       "    </tr>\n",
       "    <tr>\n",
       "      <th>4040</th>\n",
       "      <td>2010-12-17 00:00:00</td>\n",
       "      <td>BA</td>\n",
       "      <td>-100.0</td>\n",
       "      <td>51.940281</td>\n",
       "      <td>-1</td>\n",
       "    </tr>\n",
       "  </tbody>\n",
       "</table>\n",
       "<p>229 rows × 5 columns</p>\n",
       "</div>"
      ],
      "text/plain": [
       "                     Date ticker  amount      price  action\n",
       "2              2009-10-02     BA   100.0  39.703064       1\n",
       "14             2009-10-05     BA   100.0  40.382790       1\n",
       "24             2009-10-06     BA   100.0  40.390526       1\n",
       "36             2009-10-07     BA   100.0  40.004322       1\n",
       "45             2009-10-08     BA   100.0  40.398251       1\n",
       "...                   ...    ...     ...        ...     ...\n",
       "3694  2010-11-16 00:00:00     BA  -100.0  50.143177      -1\n",
       "3824  2010-11-26 00:00:00     BA   100.0  51.756588       1\n",
       "3831  2010-11-29 00:00:00     BA  -100.0  51.405144      -1\n",
       "4029  2010-12-16 00:00:00     BA   100.0  51.437099       1\n",
       "4040  2010-12-17 00:00:00     BA  -100.0  51.940281      -1\n",
       "\n",
       "[229 rows x 5 columns]"
      ]
     },
     "execution_count": 51,
     "metadata": {},
     "output_type": "execute_result"
    }
   ],
   "source": [
    "stock_trades"
   ]
  },
  {
   "cell_type": "code",
   "execution_count": null,
   "metadata": {},
   "outputs": [],
   "source": []
  }
 ],
 "metadata": {
  "kernelspec": {
   "display_name": "Python 3 (ipykernel)",
   "language": "python",
   "name": "python3"
  },
  "language_info": {
   "codemirror_mode": {
    "name": "ipython",
    "version": 3
   },
   "file_extension": ".py",
   "mimetype": "text/x-python",
   "name": "python",
   "nbconvert_exporter": "python",
   "pygments_lexer": "ipython3",
   "version": "3.7.11"
  }
 },
 "nbformat": 4,
 "nbformat_minor": 4
}
