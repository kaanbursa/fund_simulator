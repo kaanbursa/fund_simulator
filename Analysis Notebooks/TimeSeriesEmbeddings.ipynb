{
 "cells": [
  {
   "cell_type": "code",
   "execution_count": 1,
   "id": "256d5144",
   "metadata": {},
   "outputs": [],
   "source": [
    "# Create and embedding for searching through past for similar condition finding"
   ]
  },
  {
   "cell_type": "code",
   "execution_count": null,
   "id": "8dfaf63f",
   "metadata": {},
   "outputs": [],
   "source": []
  }
 ],
 "metadata": {
  "kernelspec": {
   "display_name": "Python 3 (ipykernel)",
   "language": "python",
   "name": "python3"
  },
  "language_info": {
   "codemirror_mode": {
    "name": "ipython",
    "version": 3
   },
   "file_extension": ".py",
   "mimetype": "text/x-python",
   "name": "python",
   "nbconvert_exporter": "python",
   "pygments_lexer": "ipython3",
   "version": "3.7.11"
  }
 },
 "nbformat": 4,
 "nbformat_minor": 5
}
