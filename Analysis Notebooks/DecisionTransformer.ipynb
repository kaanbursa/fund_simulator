{
 "cells": [
  {
   "cell_type": "code",
   "execution_count": 1,
   "id": "a19e3d7f",
   "metadata": {},
   "outputs": [],
   "source": [
    "import os,sys,inspect\n",
    "module_path = os.path.abspath(os.path.join('..'))\n",
    "if module_path not in sys.path:\n",
    "    sys.path.append(module_path)\n",
    "from datetime import datetime\n",
    "from agents.Base import deepagents, run\n",
    "from agents.BlueAgents import *\n",
    "from data.preprocessing import data_split, get_price, DataProcessor\n",
    "import pandas as pd\n",
    "import numpy as np\n",
    "from agents.wrappers.ObservationWrapper import NormalizedEnv\n",
    "from stable_baselines3.common.vec_env import DummyVecEnv, VecNormalize\n",
    "from env.BaseEnv import EnvConfig\n",
    "from env.EnvStock_train import StockEnvTrain\n",
    "from env.EnvStock_trade import StockEnvTrade\n",
    "from env.EnvStock_val import StockEnvValidation\n",
    "from env.crypto.SingleCryptoEnv import SingleCryptoEnv\n",
    "from env.crypto.SingleCryptoEnv import SingleCryptoEnv\n",
    "from env.BaseEnv import EnvConfig\n",
    "from agents.BlueAgents import TrainerConfig\n",
    "\n",
    "%matplotlib inline\n",
    "%load_ext autoreload\n",
    "%autoreload 2"
   ]
  },
  {
   "cell_type": "code",
   "execution_count": 2,
   "id": "cbfe8ca4",
   "metadata": {},
   "outputs": [],
   "source": [
    "class TrainDec():\n",
    "    def __init__(self, env):\n",
    "        self.env= env"
   ]
  },
  {
   "cell_type": "code",
   "execution_count": null,
   "id": "c2595c35",
   "metadata": {},
   "outputs": [],
   "source": []
  }
 ],
 "metadata": {
  "kernelspec": {
   "display_name": "Python 3 (ipykernel)",
   "language": "python",
   "name": "python3"
  },
  "language_info": {
   "codemirror_mode": {
    "name": "ipython",
    "version": 3
   },
   "file_extension": ".py",
   "mimetype": "text/x-python",
   "name": "python",
   "nbconvert_exporter": "python",
   "pygments_lexer": "ipython3",
   "version": "3.7.11"
  }
 },
 "nbformat": 4,
 "nbformat_minor": 5
}
