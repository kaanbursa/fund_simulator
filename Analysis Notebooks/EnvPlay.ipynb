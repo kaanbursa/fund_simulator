{
 "cells": [
  {
   "cell_type": "code",
   "execution_count": 1,
   "id": "f7a861a1",
   "metadata": {},
   "outputs": [],
   "source": [
    "import os,sys,inspect\n",
    "module_path = os.path.abspath(os.path.join('..'))\n",
    "if module_path not in sys.path:\n",
    "    sys.path.append(module_path)\n",
    "from datetime import datetime\n",
    "from agents.Base import deepagents, run\n",
    "from agents.BlueAgents import *\n",
    "from data.preprocessing import data_split, get_price, DataProcessor\n",
    "import pandas as pd\n",
    "import numpy as np\n",
    "from agents.wrappers.ObservationWrapper import NormalizedEnv\n",
    "from stable_baselines3.common.vec_env import DummyVecEnv, VecNormalize\n",
    "from env.BaseEnv import EnvConfig\n",
    "from env.EnvStock_train import StockEnvTrain\n",
    "from env.EnvStock_trade import StockEnvTrade\n",
    "from env.EnvStock_val import StockEnvValidation\n",
    "from env.crypto.SingleCryptoEnv import SingleCryptoEnv\n",
    "from env.crypto.SingleCryptoEnv import SingleCryptoEnv\n",
    "from env.BaseEnv import EnvConfig\n",
    "from agents.BlueAgents import TrainerConfig\n",
    "\n",
    "%matplotlib inline\n",
    "%load_ext autoreload\n",
    "%autoreload 2"
   ]
  },
  {
   "cell_type": "code",
   "execution_count": 2,
   "id": "168879b2",
   "metadata": {},
   "outputs": [],
   "source": [
    "df = pd.read_csv('../datasets/downew30.csv')\n",
    "cwd = '../AgentResult'"
   ]
  },
  {
   "cell_type": "code",
   "execution_count": 3,
   "id": "624553b5",
   "metadata": {},
   "outputs": [],
   "source": [
    "indata = data_split(df, '2010-01-01','2021-12-25')"
   ]
  },
  {
   "cell_type": "code",
   "execution_count": null,
   "id": "0911e834",
   "metadata": {},
   "outputs": [],
   "source": []
  },
  {
   "cell_type": "code",
   "execution_count": null,
   "id": "1f07a2f1",
   "metadata": {},
   "outputs": [],
   "source": []
  },
  {
   "cell_type": "code",
   "execution_count": 15,
   "id": "be0f81e7",
   "metadata": {},
   "outputs": [],
   "source": [
    "# Winner hparams with 3.1m ending\n",
    "# environment reward is grade 0\n",
    "last_winner ={'eval_time_gap': 32, 'batch_size': 32, \n",
    " 'gamma': 0.98, 'learning_rate': 0.03372, \n",
    " 'target_step': 86175, 'net_dimension': 1026, 'episode': 3, 'seed': 42069}"
   ]
  },
  {
   "cell_type": "markdown",
   "id": "e98b3e6a",
   "metadata": {},
   "source": [
    "# Own agent"
   ]
  },
  {
   "cell_type": "markdown",
   "id": "b4fab81e",
   "metadata": {},
   "source": [
    "1. Winner params\n",
    "'''\n",
    "    model_kwargs = {\n",
    "        'learning_rate':0.0027,\n",
    "        'batch_size':64,\n",
    "        'gamma':0.99,\n",
    "        'seed':42069,\n",
    "        'net_dimension':256, # Change this dimension to be more dynamic\n",
    "        'target_step':5000,\n",
    "        'eval_time_gap':10\n",
    "    }\n",
    "\n",
    "    model_name = 'jim-ppo-v2'\n",
    "    model_type = 'ppo'\n",
    "\n",
    "    with indicators without open high low close and without the episodic training\n",
    "    \n",
    "    rebalance_window = 63\n",
    "    validation_window = 63\n",
    "'''"
   ]
  },
  {
   "cell_type": "code",
   "execution_count": 19,
   "id": "3606712a",
   "metadata": {},
   "outputs": [],
   "source": [
    "\n",
    "model_kwargs = {\n",
    "    'learning_rate':0.0035,\n",
    "    'batch_size':16,\n",
    "    'gamma':0.99,\n",
    "    'seed':6931,\n",
    "    'net_dimension':1024, \n",
    "    'target_step':42500,\n",
    "    'eval_time_gap':11,\n",
    "    \"episode\":1 # NONE if you only want to give target step\n",
    "}\n",
    "\n",
    "second = {'eval_time_gap': 16, 'batch_size': 16, 'gamma': 0.999, 'learning_rate': 0.04498, \n",
    "          'target_step': 80242, 'net_dimension': 128, 'episode': 5, 'seed': 31} # This lost to bnh in crisis\n",
    "model_name = 'jim-ppo'\n",
    "model_type = 'ppo'\n",
    "env_config = EnvConfig(stock_first_state= False)\n",
    "tconfig = TrainerConfig(dataset_version = 'DOW30', population = 20, normalize_env=True, rebalance_window=126, validation_window=126)"
   ]
  },
  {
   "cell_type": "code",
   "execution_count": 20,
   "id": "630f0fb8",
   "metadata": {},
   "outputs": [],
   "source": [
    "agent_builder = DRLAgent(model_name ,model_type, StockEnvTrain, \n",
    "                         StockEnvValidation, \n",
    "                         StockEnvTrade, indata, model_kwargs, tconfig,config = env_config)\n"
   ]
  },
  {
   "cell_type": "code",
   "execution_count": 21,
   "id": "29d0b911",
   "metadata": {},
   "outputs": [],
   "source": [
    "#model = agent_builder.get_model('ppo', model_kwargs)"
   ]
  },
  {
   "cell_type": "markdown",
   "id": "489ca633",
   "metadata": {},
   "source": [
    "- [x] Change the timesteps version make sure it does reiterate with same agent\n",
    "- [x] Normalize Inputs for the model\n",
    "- [x] Normalize reward function\n",
    "- [ ] Vectorized paralel envs\n",
    "- [x] start trading from 2016\n",
    "- [x] Add PBT\n",
    "- [x] Change neet dimension problem here you cannot make it another than 160 \n",
    "- [x] Create summary write for tensorboard\n",
    "- [ ] Input dictionary\n",
    "- [ ] Auxilary Loss\n",
    "- [ ] LR Decay\n",
    "- [ ] Stock Randomization (Automatic Domain Randomization)\n",
    "- [ ] Implement shared layer and seperate networks for RNN's\n",
    "- [x] **CHANGE TRAINGIN PROCESS WHERE IT CREATES TRAJECTORIES WITH THE NEW UPDATED POLCIY**\n",
    "- [ ] Implement Early stopping\n",
    "- [ ] Add time-frame to data /check whats added\n",
    "- [x] Training with giving a stocks information together, not indicator based style\n",
    "- [ ] Decision Transformer\n",
    "- [ ] Win / Loss multi agent training\n",
    "- [ ] kelly criterion as auxilary task / optimize kelly main obj"
   ]
  },
  {
   "cell_type": "code",
   "execution_count": null,
   "id": "7c7d13c6",
   "metadata": {},
   "outputs": [
    {
     "name": "stdout",
     "output_type": "stream",
     "text": [
      "======Training Agents with the population of 20========\n",
      "============================================\n",
      "Agent:  0\n",
      "{'learning_rate': 0.0035, 'batch_size': 16, 'gamma': 0.99, 'seed': 6931, 'net_dimension': 1024, 'target_step': 42500, 'eval_time_gap': 11, 'episode': 1}\n",
      "======Model training from:  2010-01-01 to  2016-01-04\n",
      "| Remove cwd: ./trained_models\n",
      "Using device:  cpu\n",
      "################################################################################\n",
      "ID     Step    maxR |    avgR   stdR   avgS  stdS |    expR   objC   etc.\n"
     ]
    },
    {
     "name": "stderr",
     "output_type": "stream",
     "text": [
      "\r",
      "  0%|                                                                                            | 0/1 [00:00<?, ?it/s]"
     ]
    },
    {
     "name": "stdout",
     "output_type": "stream",
     "text": [
      "0  1.51e+03   -3.96 |   -3.96    0.0    125     0 |   -0.05   0.18   0.26  -0.50\n"
     ]
    },
    {
     "name": "stderr",
     "output_type": "stream",
     "text": [
      "100%|████████████████████████████████████████████████████████████████████████████████████| 1/1 [01:34<00:00, 94.46s/it]\n"
     ]
    },
    {
     "name": "stdout",
     "output_type": "stream",
     "text": [
      "| UsedTime:      94 | SavedDir: ./trained_models | Total Step: 1510\n",
      "======jim-ppo-82-agent-0 Validation from:  2016-01-04 to  2016-07-01\n",
      "Max reward at validation for Reccurent PPO 125.0\n",
      "======Trading from:  2016-07-05 to  2017-01-03\n",
      "Using device:  cpu\n",
      "previous_total_asset:1000000\n",
      "end_total_asset:1041434.6947627907\n",
      "total_asset_change:41434.69476279069\n",
      "Total cash is: 15.694503071606569$ and total holdings in stocks are 1041419.0002597191$\n",
      "Buy & Hold strategy with previous total asset:  1107583.5885027447\n",
      "Total Cost:  998.9853201767518\n",
      "Sum of rewards  -13477.882172202459\n",
      "Total trades:  141\n",
      "Total buy orders are 141 and total sell orders are 0\n",
      "Total days in turbulance:  0\n",
      "Sharpe:  0.12813917375959838\n",
      "Test Finished!\n",
      "episode_return % 0.0414000000000001\n",
      "============================================\n",
      "Agent:  0\n",
      "{'learning_rate': 0.0035, 'batch_size': 16, 'gamma': 0.99, 'seed': 6931, 'net_dimension': 1024, 'target_step': 42500, 'eval_time_gap': 11, 'episode': 1}\n",
      "======Model training from:  2010-01-01 to  2016-07-05\n",
      "| Remove cwd: ./trained_models\n",
      "Using device:  cpu\n",
      "################################################################################\n",
      "ID     Step    maxR |    avgR   stdR   avgS  stdS |    expR   objC   etc.\n"
     ]
    },
    {
     "name": "stderr",
     "output_type": "stream",
     "text": [
      "\r",
      "  0%|                                                                                            | 0/1 [00:00<?, ?it/s]"
     ]
    },
    {
     "name": "stdout",
     "output_type": "stream",
     "text": [
      "0  1.64e+03   -2.72 |   -2.72    0.4    125     0 |   -0.05   0.01   0.22  -0.49\n"
     ]
    },
    {
     "name": "stderr",
     "output_type": "stream",
     "text": [
      "100%|████████████████████████████████████████████████████████████████████████████████████| 1/1 [01:38<00:00, 98.49s/it]\n"
     ]
    },
    {
     "name": "stdout",
     "output_type": "stream",
     "text": [
      "| UsedTime:      98 | SavedDir: ./trained_models | Total Step: 1636\n",
      "======jim-ppo-82-agent-0 Validation from:  2016-07-05 to  2016-12-30\n",
      "Max reward at validation for Reccurent PPO 125.0\n",
      "======Trading from:  2017-01-03 to  2017-07-05\n",
      "Using device:  cpu\n",
      "Saving to  results/account_value_trade_main_jim-ppo-82-agent-0.csv\n",
      "previous_total_asset:1041434.6947627907\n",
      "end_total_asset:1102839.3152365976\n",
      "total_asset_change:61404.62047380686\n",
      "Total cash is: 3.5492079891509434$ and total holdings in stocks are 1102835.7660286084$\n",
      "Buy & Hold strategy with previous total asset:  1128423.8049979834\n",
      "Total Cost:  999.2524039776553\n",
      "Sum of rewards  -20500\n",
      "Total trades:  148\n",
      "Total buy orders are 91 and total sell orders are 57\n",
      "Total days in turbulance:  0\n",
      "Sharpe:  0.22533926448793057\n",
      "Test Finished!\n",
      "episode_return % 0.1028\n",
      "============================================\n",
      "Agent:  0\n",
      "{'learning_rate': 0.0035, 'batch_size': 16, 'gamma': 0.99, 'seed': 6931, 'net_dimension': 1024, 'target_step': 42500, 'eval_time_gap': 11, 'episode': 1}\n",
      "======Model training from:  2010-01-01 to  2017-01-03\n",
      "| Remove cwd: ./trained_models\n",
      "Using device:  cpu\n",
      "################################################################################\n",
      "ID     Step    maxR |    avgR   stdR   avgS  stdS |    expR   objC   etc.\n"
     ]
    },
    {
     "name": "stderr",
     "output_type": "stream",
     "text": [
      "\r",
      "  0%|                                                                                            | 0/1 [00:00<?, ?it/s]"
     ]
    },
    {
     "name": "stdout",
     "output_type": "stream",
     "text": [
      "0  1.76e+03   -4.63 |   -4.63    0.2    125     0 |   -0.05   0.07   0.09  -0.50\n"
     ]
    },
    {
     "name": "stderr",
     "output_type": "stream",
     "text": [
      "100%|███████████████████████████████████████████████████████████████████████████████████| 1/1 [01:46<00:00, 106.71s/it]\n"
     ]
    },
    {
     "name": "stdout",
     "output_type": "stream",
     "text": [
      "| UsedTime:     107 | SavedDir: ./trained_models | Total Step: 1762\n",
      "======jim-ppo-82-agent-0 Validation from:  2017-01-03 to  2017-07-03\n",
      "Max reward at validation for Reccurent PPO 125.0\n",
      "======Trading from:  2017-07-05 to  2018-01-03\n",
      "Using device:  cpu\n",
      "Saving to  results/account_value_trade_main_jim-ppo-82-agent-0.csv\n",
      "previous_total_asset:1102839.3152365976\n",
      "end_total_asset:1333997.6813393922\n",
      "total_asset_change:231158.36610279465\n",
      "Total cash is: 4.999967302115394$ and total holdings in stocks are 1333992.68137209$\n",
      "Buy & Hold strategy with previous total asset:  1282758.0186660264\n",
      "Total Cost:  1434.7431982531232\n",
      "Sum of rewards  -20500\n",
      "Total trades:  217\n",
      "Total buy orders are 114 and total sell orders are 103\n",
      "Total days in turbulance:  0\n",
      "Sharpe:  0.6416226628598979\n",
      "Test Finished!\n",
      "episode_return % 0.3340000000000001\n",
      "============================================\n",
      "Agent:  0\n",
      "{'learning_rate': 0.0035, 'batch_size': 16, 'gamma': 0.99, 'seed': 6931, 'net_dimension': 1024, 'target_step': 42500, 'eval_time_gap': 11, 'episode': 1}\n",
      "======Model training from:  2010-01-01 to  2017-07-05\n",
      "| Remove cwd: ./trained_models\n",
      "Using device:  cpu\n",
      "################################################################################\n",
      "ID     Step    maxR |    avgR   stdR   avgS  stdS |    expR   objC   etc.\n"
     ]
    },
    {
     "name": "stderr",
     "output_type": "stream",
     "text": [
      "\r",
      "  0%|                                                                                            | 0/1 [00:00<?, ?it/s]"
     ]
    },
    {
     "name": "stdout",
     "output_type": "stream",
     "text": [
      "0  1.89e+03   -2.94 |   -2.94    0.6    125     0 |   -0.05   0.04   0.14  -0.50\n"
     ]
    },
    {
     "name": "stderr",
     "output_type": "stream",
     "text": [
      "100%|███████████████████████████████████████████████████████████████████████████████████| 1/1 [01:55<00:00, 115.33s/it]\n"
     ]
    },
    {
     "name": "stdout",
     "output_type": "stream",
     "text": [
      "| UsedTime:     115 | SavedDir: ./trained_models | Total Step: 1888\n",
      "======jim-ppo-82-agent-0 Validation from:  2017-07-05 to  2018-01-02\n",
      "Max reward at validation for Reccurent PPO 125.0\n",
      "======Trading from:  2018-01-03 to  2018-07-05\n",
      "Using device:  cpu\n",
      "Saving to  results/account_value_trade_main_jim-ppo-82-agent-0.csv\n",
      "previous_total_asset:1333997.6813393922\n",
      "end_total_asset:1329000.0828289392\n",
      "total_asset_change:-4997.598510453012\n",
      "Total cash is: 2.1046370730059607$ and total holdings in stocks are 1328997.978191866$\n",
      "Buy & Hold strategy with previous total asset:  1317953.5720902495\n",
      "Total Cost:  2246.3144655326246\n",
      "Sum of rewards  -20500\n",
      "Total trades:  296\n",
      "Total buy orders are 153 and total sell orders are 143\n",
      "Total days in turbulance:  0\n",
      "Sharpe:  0.006188858573445274\n",
      "Test Finished!\n",
      "episode_return % 0.32899999999999996\n",
      "Calculating buy and hold\n",
      "Buy and hold value is  1475283.0604952318\n",
      "Buy and hold bigger than performances\n",
      "Writing hparams:  {'learning_rate': 0.0035, 'batch_size': 16, 'gamma': 0.99, 'seed': 6931, 'net_dimension': 1024, 'target_step': 42500, 'eval_time_gap': 11, 'episode': 1}\n",
      "============================================\n",
      "Agent:  1\n",
      "{'eval_time_gap': 1024, 'batch_size': 512, 'gamma': 0.999, 'learning_rate': 0.04538, 'target_step': 56458, 'net_dimension': 100, 'episode': 9, 'seed': 31}\n",
      "======Model training from:  2010-01-01 to  2016-01-04\n",
      "| Remove cwd: ./trained_models\n",
      "Using device:  cpu\n",
      "################################################################################\n",
      "ID     Step    maxR |    avgR   stdR   avgS  stdS |    expR   objC   etc.\n"
     ]
    },
    {
     "name": "stderr",
     "output_type": "stream",
     "text": [
      "\r",
      "  0%|                                                                                            | 0/9 [00:00<?, ?it/s]"
     ]
    },
    {
     "name": "stdout",
     "output_type": "stream",
     "text": [
      "0  1.51e+03   -2.35 |   -2.35    0.4    125     0 |   -0.05   0.67   0.31  -0.49\n"
     ]
    },
    {
     "name": "stderr",
     "output_type": "stream",
     "text": [
      "\r",
      " 11%|█████████▎                                                                          | 1/9 [00:29<03:58, 29.80s/it]"
     ]
    },
    {
     "name": "stdout",
     "output_type": "stream",
     "text": [
      "0  3.02e+03   -0.71 |   -0.71    0.2    125     0 |   -0.01   0.46   0.31  -0.49\n"
     ]
    },
    {
     "name": "stderr",
     "output_type": "stream",
     "text": [
      "\r",
      " 22%|██████████████████▋                                                                 | 2/9 [00:58<03:24, 29.22s/it]"
     ]
    },
    {
     "name": "stdout",
     "output_type": "stream",
     "text": [
      "0  4.53e+03   -0.71 |   -2.73    0.0    125     0 |   -0.02   0.30   0.30  -0.49\n"
     ]
    },
    {
     "name": "stderr",
     "output_type": "stream",
     "text": [
      "\r",
      " 33%|████████████████████████████                                                        | 3/9 [01:16<02:24, 24.13s/it]"
     ]
    },
    {
     "name": "stdout",
     "output_type": "stream",
     "text": [
      "0  6.03e+03   -0.71 |   -1.33    0.0    125     0 |   -0.01   0.34   0.31  -0.49\n"
     ]
    },
    {
     "name": "stderr",
     "output_type": "stream",
     "text": [
      "\r",
      " 44%|█████████████████████████████████████▎                                              | 4/9 [01:34<01:47, 21.56s/it]"
     ]
    },
    {
     "name": "stdout",
     "output_type": "stream",
     "text": [
      "0  7.54e+03   -0.71 |   -3.02    0.0    125     0 |   -0.01   0.51   0.29  -0.49\n"
     ]
    },
    {
     "name": "stderr",
     "output_type": "stream",
     "text": [
      "\r",
      " 56%|██████████████████████████████████████████████▋                                     | 5/9 [01:52<01:21, 20.27s/it]"
     ]
    },
    {
     "name": "stdout",
     "output_type": "stream",
     "text": [
      "0  9.04e+03    0.05 |    0.05    0.0    125     0 |   -0.02   0.59   0.31  -0.49\n"
     ]
    },
    {
     "name": "stderr",
     "output_type": "stream",
     "text": [
      "\r",
      " 67%|████████████████████████████████████████████████████████                            | 6/9 [02:20<01:09, 23.12s/it]"
     ]
    },
    {
     "name": "stdout",
     "output_type": "stream",
     "text": [
      "0  1.05e+04    0.05 |   -0.10    0.0    125     0 |   -0.01   0.55   0.37  -0.49\n"
     ]
    },
    {
     "name": "stderr",
     "output_type": "stream",
     "text": [
      "\r",
      " 78%|█████████████████████████████████████████████████████████████████▎                  | 7/9 [02:38<00:42, 21.43s/it]"
     ]
    },
    {
     "name": "stdout",
     "output_type": "stream",
     "text": [
      "0  1.21e+04    0.06 |    0.06    0.0    125     0 |   -0.00   0.53   0.34  -0.49\n"
     ]
    },
    {
     "name": "stderr",
     "output_type": "stream",
     "text": [
      "\r",
      " 89%|██████████████████████████████████████████████████████████████████████████▋         | 8/9 [03:07<00:23, 23.78s/it]"
     ]
    },
    {
     "name": "stdout",
     "output_type": "stream",
     "text": [
      "0  1.36e+04    0.06 |    0.01    0.0    125     0 |   -0.00   0.60   0.33  -0.49\n"
     ]
    },
    {
     "name": "stderr",
     "output_type": "stream",
     "text": [
      "100%|████████████████████████████████████████████████████████████████████████████████████| 9/9 [03:25<00:00, 22.83s/it]\n"
     ]
    },
    {
     "name": "stdout",
     "output_type": "stream",
     "text": [
      "| UsedTime:     205 | SavedDir: ./trained_models | Total Step: 1502\n",
      "======jim-ppo-82-agent-1 Validation from:  2016-01-04 to  2016-07-01\n",
      "Max reward at validation for Reccurent PPO 125.0\n",
      "======Trading from:  2016-07-05 to  2017-01-03\n",
      "Using device:  cpu\n",
      "previous_total_asset:1000000\n",
      "end_total_asset:1031409.8542761562\n",
      "total_asset_change:31409.85427615617\n",
      "Total cash is: 16.052220797234895$ and total holdings in stocks are 1031393.8020553589$\n",
      "Buy & Hold strategy with previous total asset:  1107583.5885027447\n",
      "Total Cost:  1139.9845242748258\n",
      "Sum of rewards  -13272.18922576867\n",
      "Total trades:  166\n",
      "Total buy orders are 158 and total sell orders are 8\n",
      "Total days in turbulance:  0\n",
      "Sharpe:  0.09605512276572789\n",
      "Test Finished!\n",
      "episode_return % 0.031400000000000095\n",
      "============================================\n",
      "Agent:  1\n",
      "{'eval_time_gap': 1024, 'batch_size': 512, 'gamma': 0.999, 'learning_rate': 0.04538, 'target_step': 56458, 'net_dimension': 100, 'episode': 9, 'seed': 31}\n",
      "======Model training from:  2010-01-01 to  2016-07-05\n",
      "| Remove cwd: ./trained_models\n",
      "Using device:  cpu\n",
      "################################################################################\n",
      "ID     Step    maxR |    avgR   stdR   avgS  stdS |    expR   objC   etc.\n"
     ]
    },
    {
     "name": "stderr",
     "output_type": "stream",
     "text": [
      "\r",
      "  0%|                                                                                            | 0/9 [00:00<?, ?it/s]"
     ]
    },
    {
     "name": "stdout",
     "output_type": "stream",
     "text": [
      "0  1.64e+03   -2.30 |   -2.30    0.2    125     0 |   -0.05   0.51   0.33  -0.52\n"
     ]
    },
    {
     "name": "stderr",
     "output_type": "stream",
     "text": [
      "\r",
      " 11%|█████████▎                                                                          | 1/9 [00:31<04:13, 31.68s/it]"
     ]
    },
    {
     "name": "stdout",
     "output_type": "stream",
     "text": [
      "0  3.27e+03   -2.30 |   -2.31    0.0    125     0 |   -0.01   0.45   0.24  -0.52\n"
     ]
    },
    {
     "name": "stderr",
     "output_type": "stream",
     "text": [
      "\r",
      " 22%|██████████████████▋                                                                 | 2/9 [01:01<03:34, 30.67s/it]"
     ]
    },
    {
     "name": "stdout",
     "output_type": "stream",
     "text": [
      "0  4.90e+03   -2.30 |   -2.48    0.3    125     0 |   -0.00   0.44   0.29  -0.52\n"
     ]
    },
    {
     "name": "stderr",
     "output_type": "stream",
     "text": [
      "\r",
      " 33%|████████████████████████████                                                        | 3/9 [01:32<03:03, 30.56s/it]"
     ]
    },
    {
     "name": "stdout",
     "output_type": "stream",
     "text": [
      "0  6.54e+03   -2.30 |   -2.49    0.1    125     0 |   -0.00   0.56   0.34  -0.52\n"
     ]
    },
    {
     "name": "stderr",
     "output_type": "stream",
     "text": [
      "\r",
      " 44%|█████████████████████████████████████▎                                              | 4/9 [01:51<02:10, 26.16s/it]"
     ]
    },
    {
     "name": "stdout",
     "output_type": "stream",
     "text": [
      "0  8.17e+03   -2.30 |   -2.47    0.0    125     0 |   -0.00   0.37   0.34  -0.52\n"
     ]
    },
    {
     "name": "stderr",
     "output_type": "stream",
     "text": [
      "\r",
      " 56%|██████████████████████████████████████████████▋                                     | 5/9 [02:10<01:34, 23.63s/it]"
     ]
    },
    {
     "name": "stdout",
     "output_type": "stream",
     "text": [
      "0  9.80e+03   -2.30 |   -3.37    0.0    125     0 |   -0.00   0.25   0.35  -0.52\n"
     ]
    },
    {
     "name": "stderr",
     "output_type": "stream",
     "text": [
      "\r",
      " 67%|████████████████████████████████████████████████████████                            | 6/9 [02:29<01:06, 22.12s/it]"
     ]
    },
    {
     "name": "stdout",
     "output_type": "stream",
     "text": [
      "0  1.14e+04   -2.30 |   -2.69    0.0    125     0 |   -0.01   0.70   0.31  -0.52\n"
     ]
    },
    {
     "name": "stderr",
     "output_type": "stream",
     "text": [
      "\r",
      " 78%|█████████████████████████████████████████████████████████████████▎                  | 7/9 [02:49<00:42, 21.18s/it]"
     ]
    },
    {
     "name": "stdout",
     "output_type": "stream",
     "text": [
      "0  1.31e+04   -2.30 |   -2.83    0.0    125     0 |    0.01   0.57   0.24  -0.52\n"
     ]
    },
    {
     "name": "stderr",
     "output_type": "stream",
     "text": [
      "\r",
      " 89%|██████████████████████████████████████████████████████████████████████████▋         | 8/9 [03:07<00:20, 20.46s/it]"
     ]
    },
    {
     "name": "stdout",
     "output_type": "stream",
     "text": [
      "0  1.47e+04   -2.30 |   -4.05    0.0    125     0 |   -0.00   0.54   0.31  -0.52\n"
     ]
    },
    {
     "name": "stderr",
     "output_type": "stream",
     "text": [
      "100%|████████████████████████████████████████████████████████████████████████████████████| 9/9 [03:27<00:00, 23.03s/it]\n"
     ]
    },
    {
     "name": "stdout",
     "output_type": "stream",
     "text": [
      "| UsedTime:     207 | SavedDir: ./trained_models | Total Step: 1628\n",
      "======jim-ppo-82-agent-1 Validation from:  2016-07-05 to  2016-12-30\n",
      "Max reward at validation for Reccurent PPO 125.0\n",
      "======Trading from:  2017-01-03 to  2017-07-05\n",
      "Using device:  cpu\n",
      "Saving to  results/account_value_trade_main_jim-ppo-82-agent-1.csv\n",
      "previous_total_asset:1031409.8542761562\n",
      "end_total_asset:1152532.4028006322\n",
      "total_asset_change:121122.548524476\n",
      "Total cash is: 3.203547549894509$ and total holdings in stocks are 1152529.1992530823$\n",
      "Buy & Hold strategy with previous total asset:  1117561.6081619137\n",
      "Total Cost:  1046.9894275012327\n",
      "Sum of rewards  -20500\n",
      "Total trades:  189\n",
      "Total buy orders are 100 and total sell orders are 89\n",
      "Total days in turbulance:  0\n",
      "Sharpe:  0.38649422261454364\n",
      "Test Finished!\n",
      "episode_return % 0.15250000000000008\n",
      "============================================\n",
      "Agent:  1\n",
      "{'eval_time_gap': 1024, 'batch_size': 512, 'gamma': 0.999, 'learning_rate': 0.04538, 'target_step': 56458, 'net_dimension': 100, 'episode': 9, 'seed': 31}\n",
      "======Model training from:  2010-01-01 to  2017-01-03\n",
      "| Remove cwd: ./trained_models\n",
      "Using device:  cpu\n",
      "################################################################################\n",
      "ID     Step    maxR |    avgR   stdR   avgS  stdS |    expR   objC   etc.\n"
     ]
    },
    {
     "name": "stderr",
     "output_type": "stream",
     "text": [
      "\r",
      "  0%|                                                                                            | 0/9 [00:00<?, ?it/s]"
     ]
    },
    {
     "name": "stdout",
     "output_type": "stream",
     "text": [
      "0  1.76e+03   -2.66 |   -2.66    0.2    125     0 |   -0.05   0.49   0.34  -0.47\n"
     ]
    },
    {
     "name": "stderr",
     "output_type": "stream",
     "text": [
      "\r",
      " 11%|█████████▎                                                                          | 1/9 [00:32<04:20, 32.62s/it]"
     ]
    },
    {
     "name": "stdout",
     "output_type": "stream",
     "text": [
      "0  3.52e+03   -2.66 |   -2.76    0.0    125     0 |   -0.01   0.63   0.25  -0.46\n"
     ]
    },
    {
     "name": "stderr",
     "output_type": "stream",
     "text": [
      "\r",
      " 22%|██████████████████▋                                                                 | 2/9 [00:53<02:59, 25.70s/it]"
     ]
    },
    {
     "name": "stdout",
     "output_type": "stream",
     "text": [
      "0  5.28e+03   -2.66 |   -3.94    0.0    125     0 |   -0.01   0.58   0.31  -0.46\n"
     ]
    },
    {
     "name": "stderr",
     "output_type": "stream",
     "text": [
      "\r",
      " 33%|████████████████████████████                                                        | 3/9 [01:13<02:18, 23.07s/it]"
     ]
    },
    {
     "name": "stdout",
     "output_type": "stream",
     "text": [
      "0  7.04e+03   -2.56 |   -2.56    0.0    125     0 |   -0.01   0.51   0.33  -0.46\n"
     ]
    },
    {
     "name": "stderr",
     "output_type": "stream",
     "text": [
      "\r",
      " 44%|█████████████████████████████████████▎                                              | 4/9 [01:42<02:07, 25.60s/it]"
     ]
    },
    {
     "name": "stdout",
     "output_type": "stream",
     "text": [
      "0  8.80e+03   -2.21 |   -2.21    0.0    125     0 |   -0.00   0.43   0.35  -0.46\n"
     ]
    },
    {
     "name": "stderr",
     "output_type": "stream",
     "text": [
      "\r",
      " 56%|██████████████████████████████████████████████▋                                     | 5/9 [02:11<01:46, 26.71s/it]"
     ]
    },
    {
     "name": "stdout",
     "output_type": "stream",
     "text": [
      "0  1.06e+04   -2.21 |   -3.49    0.0    125     0 |   -0.00   0.53   0.35  -0.46\n"
     ]
    },
    {
     "name": "stderr",
     "output_type": "stream",
     "text": [
      "\r",
      " 67%|████████████████████████████████████████████████████████                            | 6/9 [02:30<01:12, 24.03s/it]"
     ]
    },
    {
     "name": "stdout",
     "output_type": "stream",
     "text": [
      "0  1.23e+04   -2.21 |   -3.49    0.0    125     0 |   -0.00   0.47   0.31  -0.46\n"
     ]
    },
    {
     "name": "stderr",
     "output_type": "stream",
     "text": [
      "\r",
      " 78%|█████████████████████████████████████████████████████████████████▎                  | 7/9 [02:48<00:44, 22.17s/it]"
     ]
    }
   ],
   "source": [
    "agent_builder.run_pbt_prediction()"
   ]
  },
  {
   "cell_type": "code",
   "execution_count": 18,
   "id": "b931086d",
   "metadata": {},
   "outputs": [
    {
     "name": "stdout",
     "output_type": "stream",
     "text": [
      "============================================\n",
      "{'eval_time_gap': 32, 'batch_size': 32, 'gamma': 0.98, 'learning_rate': 0.03372, 'target_step': 86175, 'net_dimension': 1026, 'episode': 3, 'seed': 42069}\n",
      "======Model training from:  2010-01-01 to  2016-01-04\n",
      "| Remove cwd: ./trained_models\n",
      "Using device:  cpu\n",
      "################################################################################\n",
      "ID     Step    maxR |    avgR   stdR   avgS  stdS |    expR   objC   etc.\n"
     ]
    },
    {
     "name": "stderr",
     "output_type": "stream",
     "text": [
      "\r",
      "  0%|                                                                                            | 0/3 [00:00<?, ?it/s]"
     ]
    },
    {
     "name": "stdout",
     "output_type": "stream",
     "text": [
      "0  1.51e+03   -0.19 |   -0.19    0.2    125     0 |   -0.05   0.33   0.17  -0.46\n"
     ]
    },
    {
     "name": "stderr",
     "output_type": "stream",
     "text": [
      "\r",
      " 33%|████████████████████████████                                                        | 1/3 [00:55<01:50, 55.32s/it]"
     ]
    },
    {
     "name": "stdout",
     "output_type": "stream",
     "text": [
      "0  3.02e+03   -0.19 |   -1.43    0.0    125     0 |   -0.02   0.31   0.04  -0.46\n"
     ]
    },
    {
     "name": "stderr",
     "output_type": "stream",
     "text": [
      "\r",
      " 67%|████████████████████████████████████████████████████████                            | 2/3 [01:39<00:48, 48.94s/it]"
     ]
    },
    {
     "name": "stdout",
     "output_type": "stream",
     "text": [
      "0  4.53e+03   -0.08 |   -0.08    0.0    125     0 |   -0.01   0.17   0.03  -0.46\n"
     ]
    },
    {
     "name": "stderr",
     "output_type": "stream",
     "text": [
      "100%|████████████████████████████████████████████████████████████████████████████████████| 3/3 [02:40<00:00, 53.37s/it]\n"
     ]
    },
    {
     "name": "stdout",
     "output_type": "stream",
     "text": [
      "| UsedTime:     160 | SavedDir: ./trained_models | Total Step: 1508\n",
      "======jim-ppo Validation from:  2016-01-04 to  2016-07-01\n",
      "======Recurrent PPO Validation from:  2016-01-04 to  2016-07-05\n",
      "Total reward at validation for PPO 0\n",
      "================================================================================\n",
      "Best params,  {'eval_time_gap': 32, 'batch_size': 32, 'gamma': 0.98, 'learning_rate': 0.03372, 'target_step': 86175, 'net_dimension': 1026, 'episode': 3, 'seed': 42069}\n",
      "================================================================================\n",
      "======Trading from:  2016-07-05 to  2017-01-03\n",
      "Using device:  cpu\n",
      "Saving to  results/account_value_trade_main_jim-ppo.csv\n",
      "previous_total_asset:1000000\n",
      "end_total_asset:1151178.0005150186\n",
      "total_asset_change:151178.0005150186\n",
      "Total cash is: 20.03512958148076$ and total holdings in stocks are 1151157.965385437$\n",
      "Buy & Hold strategy with previous total asset:  1107583.5885027447\n",
      "Total Cost:  1079.472808803558\n",
      "Sum of rewards  -12420.435666465666\n",
      "Total trades:  144\n",
      "Total buy orders are 138 and total sell orders are 6\n",
      "Total days in turbulance:  0\n",
      "Sharpe:  0.37994171199320764\n",
      "Test Finished!\n",
      "episode_return % 0.1512\n",
      "Writing hparams:  {'eval_time_gap': 32, 'batch_size': 32, 'gamma': 0.98, 'learning_rate': 0.03372, 'target_step': 86175, 'net_dimension': 1026, 'episode': 3, 'seed': 42069}\n",
      "============================================\n",
      "{'eval_time_gap': 32, 'batch_size': 32, 'gamma': 0.98, 'learning_rate': 0.03372, 'target_step': 86175, 'net_dimension': 1026, 'episode': 3, 'seed': 42069}\n",
      "======Model training from:  2010-01-01 to  2016-07-05\n",
      "| Remove cwd: ./trained_models\n",
      "Using device:  cpu\n",
      "################################################################################\n",
      "ID     Step    maxR |    avgR   stdR   avgS  stdS |    expR   objC   etc.\n"
     ]
    },
    {
     "name": "stderr",
     "output_type": "stream",
     "text": [
      "\r",
      "  0%|                                                                                            | 0/3 [00:00<?, ?it/s]"
     ]
    },
    {
     "name": "stdout",
     "output_type": "stream",
     "text": [
      "0  1.64e+03   -3.37 |   -3.37    0.5    125     0 |   -0.05   0.29   0.16  -0.45\n"
     ]
    },
    {
     "name": "stderr",
     "output_type": "stream",
     "text": [
      "\r",
      " 33%|████████████████████████████                                                        | 1/3 [00:57<01:54, 57.02s/it]"
     ]
    },
    {
     "name": "stdout",
     "output_type": "stream",
     "text": [
      "0  3.27e+03   -3.37 |   -3.77    0.0    125     0 |    0.00   0.03   0.19  -0.45\n"
     ]
    },
    {
     "name": "stderr",
     "output_type": "stream",
     "text": [
      "\r",
      " 67%|████████████████████████████████████████████████████████                            | 2/3 [01:46<00:52, 52.40s/it]"
     ]
    },
    {
     "name": "stdout",
     "output_type": "stream",
     "text": [
      "0  4.90e+03   -3.37 |   -3.78    0.0    125     0 |   -0.00   0.14   0.26  -0.45\n"
     ]
    },
    {
     "name": "stderr",
     "output_type": "stream",
     "text": [
      "100%|████████████████████████████████████████████████████████████████████████████████████| 3/3 [02:42<00:00, 54.02s/it]\n"
     ]
    },
    {
     "name": "stdout",
     "output_type": "stream",
     "text": [
      "| UsedTime:     162 | SavedDir: ./trained_models | Total Step: 1634\n",
      "======jim-ppo Validation from:  2016-07-05 to  2016-12-30\n",
      "======Recurrent PPO Validation from:  2016-07-05 to  2017-01-03\n",
      "Total reward at validation for PPO 0\n",
      "================================================================================\n",
      "Best params,  {'eval_time_gap': 32, 'batch_size': 32, 'gamma': 0.98, 'learning_rate': 0.03372, 'target_step': 86175, 'net_dimension': 1026, 'episode': 3, 'seed': 42069}\n",
      "================================================================================\n",
      "======Trading from:  2017-01-03 to  2017-07-05\n",
      "Using device:  cpu\n",
      "Saving to  results/account_value_trade_main_jim-ppo.csv\n",
      "previous_total_asset:1151178.0005150186\n",
      "end_total_asset:1265566.3554865343\n",
      "total_asset_change:114388.35497151571\n",
      "Total cash is: 6.1656977159018425$ and total holdings in stocks are 1265560.1897888184$\n",
      "Buy & Hold strategy with previous total asset:  1247333.76572115\n",
      "Total Cost:  1449.8174413566594\n",
      "Sum of rewards  -20500\n",
      "Total trades:  164\n",
      "Total buy orders are 101 and total sell orders are 63\n",
      "Total days in turbulance:  0\n",
      "Sharpe:  0.3582011079681689\n",
      "Test Finished!\n",
      "episode_return % 0.26560000000000006\n",
      "Writing hparams:  {'eval_time_gap': 32, 'batch_size': 32, 'gamma': 0.98, 'learning_rate': 0.03372, 'target_step': 86175, 'net_dimension': 1026, 'episode': 3, 'seed': 42069}\n",
      "============================================\n",
      "{'eval_time_gap': 32, 'batch_size': 32, 'gamma': 0.98, 'learning_rate': 0.03372, 'target_step': 86175, 'net_dimension': 1026, 'episode': 3, 'seed': 42069}\n",
      "======Model training from:  2010-01-01 to  2017-01-03\n",
      "| Remove cwd: ./trained_models\n",
      "Using device:  cpu\n",
      "################################################################################\n",
      "ID     Step    maxR |    avgR   stdR   avgS  stdS |    expR   objC   etc.\n"
     ]
    },
    {
     "name": "stderr",
     "output_type": "stream",
     "text": [
      "\r",
      "  0%|                                                                                            | 0/3 [00:00<?, ?it/s]"
     ]
    },
    {
     "name": "stdout",
     "output_type": "stream",
     "text": [
      "0  1.76e+03   -3.93 |   -3.93    0.5    125     0 |   -0.05   0.59   0.11  -0.46\n"
     ]
    },
    {
     "name": "stderr",
     "output_type": "stream",
     "text": [
      "\r",
      " 33%|████████████████████████████                                                        | 1/3 [00:58<01:57, 58.55s/it]"
     ]
    },
    {
     "name": "stdout",
     "output_type": "stream",
     "text": [
      "0  3.52e+03   -3.93 |   -4.06    0.0    125     0 |   -0.01   0.16   0.17  -0.46\n"
     ]
    },
    {
     "name": "stderr",
     "output_type": "stream",
     "text": [
      "\r",
      " 67%|████████████████████████████████████████████████████████                            | 2/3 [01:49<00:54, 54.30s/it]"
     ]
    },
    {
     "name": "stdout",
     "output_type": "stream",
     "text": [
      "0  5.28e+03   -3.93 |   -4.08    0.0    125     0 |   -0.00   0.15   0.48  -0.46\n"
     ]
    },
    {
     "name": "stderr",
     "output_type": "stream",
     "text": [
      "100%|████████████████████████████████████████████████████████████████████████████████████| 3/3 [02:47<00:00, 55.83s/it]\n"
     ]
    },
    {
     "name": "stdout",
     "output_type": "stream",
     "text": [
      "| UsedTime:     168 | SavedDir: ./trained_models | Total Step: 1760\n",
      "======jim-ppo Validation from:  2017-01-03 to  2017-07-03\n",
      "======Recurrent PPO Validation from:  2017-01-03 to  2017-07-05\n",
      "Total reward at validation for PPO 0\n",
      "================================================================================\n",
      "Best params,  {'eval_time_gap': 32, 'batch_size': 32, 'gamma': 0.98, 'learning_rate': 0.03372, 'target_step': 86175, 'net_dimension': 1026, 'episode': 3, 'seed': 42069}\n",
      "================================================================================\n",
      "======Trading from:  2017-07-05 to  2018-01-03\n",
      "Using device:  cpu\n",
      "Saving to  results/account_value_trade_main_jim-ppo.csv\n",
      "previous_total_asset:1265566.3554865343\n",
      "end_total_asset:1564654.5584449638\n",
      "total_asset_change:299088.20295842947\n",
      "Total cash is: 8.328601824023735$ and total holdings in stocks are 1564646.2298431396$\n",
      "Buy & Hold strategy with previous total asset:  1472032.5692288291\n",
      "Total Cost:  1569.747742330551\n",
      "Sum of rewards  -20500\n",
      "Total trades:  211\n",
      "Total buy orders are 120 and total sell orders are 91\n",
      "Total days in turbulance:  0\n",
      "Sharpe:  0.634192354590422\n",
      "Test Finished!\n",
      "episode_return % 0.5647\n",
      "Writing hparams:  {'eval_time_gap': 32, 'batch_size': 32, 'gamma': 0.98, 'learning_rate': 0.03372, 'target_step': 86175, 'net_dimension': 1026, 'episode': 3, 'seed': 42069}\n",
      "============================================\n",
      "{'eval_time_gap': 32, 'batch_size': 32, 'gamma': 0.98, 'learning_rate': 0.03372, 'target_step': 86175, 'net_dimension': 1026, 'episode': 3, 'seed': 42069}\n",
      "======Model training from:  2010-01-01 to  2017-07-05\n",
      "| Remove cwd: ./trained_models\n",
      "Using device:  cpu\n",
      "################################################################################\n",
      "ID     Step    maxR |    avgR   stdR   avgS  stdS |    expR   objC   etc.\n"
     ]
    },
    {
     "name": "stderr",
     "output_type": "stream",
     "text": [
      "\r",
      "  0%|                                                                                            | 0/3 [00:00<?, ?it/s]"
     ]
    },
    {
     "name": "stdout",
     "output_type": "stream",
     "text": [
      "0  1.89e+03   -5.02 |   -5.02    1.7    125     0 |   -0.05   0.52   0.07  -0.42\n"
     ]
    },
    {
     "name": "stderr",
     "output_type": "stream",
     "text": [
      "\r",
      " 33%|████████████████████████████                                                        | 1/3 [01:05<02:10, 65.16s/it]"
     ]
    },
    {
     "name": "stdout",
     "output_type": "stream",
     "text": [
      "0  3.78e+03   -5.02 |   -5.61    0.0    125     0 |   -0.01   0.25   0.00  -0.42\n"
     ]
    },
    {
     "name": "stderr",
     "output_type": "stream",
     "text": [
      "\r",
      " 67%|████████████████████████████████████████████████████████                            | 2/3 [02:03<01:01, 61.35s/it]"
     ]
    },
    {
     "name": "stdout",
     "output_type": "stream",
     "text": [
      "0  5.66e+03   -5.02 |   -5.75    0.0    125     0 |   -0.00   0.07   0.31  -0.42\n"
     ]
    },
    {
     "name": "stderr",
     "output_type": "stream",
     "text": [
      "100%|████████████████████████████████████████████████████████████████████████████████████| 3/3 [03:10<00:00, 63.36s/it]\n"
     ]
    },
    {
     "name": "stdout",
     "output_type": "stream",
     "text": [
      "| UsedTime:     190 | SavedDir: ./trained_models | Total Step: 1886\n",
      "======jim-ppo Validation from:  2017-07-05 to  2018-01-02\n",
      "======Recurrent PPO Validation from:  2017-07-05 to  2018-01-03\n",
      "Total reward at validation for PPO 0\n",
      "================================================================================\n",
      "Best params,  {'eval_time_gap': 32, 'batch_size': 32, 'gamma': 0.98, 'learning_rate': 0.03372, 'target_step': 86175, 'net_dimension': 1026, 'episode': 3, 'seed': 42069}\n",
      "================================================================================\n",
      "======Trading from:  2018-01-03 to  2018-07-05\n",
      "Using device:  cpu\n",
      "Saving to  results/account_value_trade_main_jim-ppo.csv\n",
      "previous_total_asset:1564654.5584449638\n",
      "end_total_asset:1678956.816595751\n",
      "total_asset_change:114302.25815078733\n",
      "Total cash is: 4.452250200521426$ and total holdings in stocks are 1678952.3643455505$\n",
      "Buy & Hold strategy with previous total asset:  1545836.31833554\n",
      "Total Cost:  937.0172817993166\n",
      "Sum of rewards  -20500\n",
      "Total trades:  116\n",
      "Total buy orders are 83 and total sell orders are 33\n",
      "Total days in turbulance:  0\n",
      "Sharpe:  0.10084639354565626\n",
      "Test Finished!\n",
      "episode_return % 0.679\n",
      "Writing hparams:  {'eval_time_gap': 32, 'batch_size': 32, 'gamma': 0.98, 'learning_rate': 0.03372, 'target_step': 86175, 'net_dimension': 1026, 'episode': 3, 'seed': 42069}\n",
      "============================================\n",
      "{'eval_time_gap': 32, 'batch_size': 32, 'gamma': 0.98, 'learning_rate': 0.03372, 'target_step': 86175, 'net_dimension': 1026, 'episode': 3, 'seed': 42069}\n",
      "======Model training from:  2010-01-01 to  2018-01-03\n",
      "| Remove cwd: ./trained_models\n",
      "Using device:  cpu\n",
      "################################################################################\n",
      "ID     Step    maxR |    avgR   stdR   avgS  stdS |    expR   objC   etc.\n"
     ]
    },
    {
     "name": "stderr",
     "output_type": "stream",
     "text": [
      "\r",
      "  0%|                                                                                            | 0/3 [00:00<?, ?it/s]"
     ]
    },
    {
     "name": "stdout",
     "output_type": "stream",
     "text": [
      "0  2.01e+03    4.20 |    4.20    1.9    125     0 |   -0.05   0.40   0.17  -0.47\n"
     ]
    },
    {
     "name": "stderr",
     "output_type": "stream",
     "text": [
      "\r",
      "  0%|                                                                                            | 0/3 [01:05<?, ?it/s]"
     ]
    },
    {
     "name": "stdout",
     "output_type": "stream",
     "text": [
      "Reached goals on 2014\n",
      "| UsedTime:      65 | SavedDir: ./trained_models | Total Step: 2014\n",
      "======jim-ppo Validation from:  2018-01-03 to  2018-07-03\n",
      "======Recurrent PPO Validation from:  2018-01-03 to  2018-07-05\n",
      "Total reward at validation for PPO 0\n",
      "================================================================================\n",
      "Best params,  {'eval_time_gap': 32, 'batch_size': 32, 'gamma': 0.98, 'learning_rate': 0.03372, 'target_step': 86175, 'net_dimension': 1026, 'episode': 3, 'seed': 42069}\n",
      "================================================================================\n",
      "======Trading from:  2018-07-05 to  2019-01-04\n",
      "Using device:  cpu\n"
     ]
    },
    {
     "name": "stderr",
     "output_type": "stream",
     "text": [
      "\n"
     ]
    },
    {
     "name": "stdout",
     "output_type": "stream",
     "text": [
      "Saving to  results/account_value_trade_main_jim-ppo.csv\n",
      "previous_total_asset:1678956.816595751\n",
      "end_total_asset:1665511.1392027114\n",
      "total_asset_change:-13445.677393039688\n",
      "Total cash is: 29.87723982077364$ and total holdings in stocks are 1665481.2619628906$\n",
      "Buy & Hold strategy with previous total asset:  1628261.0862147205\n",
      "Total Cost:  975.614404758453\n",
      "Sum of rewards  -20500\n",
      "Total trades:  117\n",
      "Total buy orders are 68 and total sell orders are 49\n",
      "Total days in turbulance:  0\n",
      "Sharpe:  0.004657602302919096\n",
      "Test Finished!\n",
      "episode_return % 0.6655\n",
      "Writing hparams:  {'eval_time_gap': 32, 'batch_size': 32, 'gamma': 0.98, 'learning_rate': 0.03372, 'target_step': 86175, 'net_dimension': 1026, 'episode': 3, 'seed': 42069}\n",
      "============================================\n",
      "{'eval_time_gap': 32, 'batch_size': 32, 'gamma': 0.98, 'learning_rate': 0.03372, 'target_step': 86175, 'net_dimension': 1026, 'episode': 3, 'seed': 42069}\n",
      "======Model training from:  2010-01-01 to  2018-07-05\n",
      "| Remove cwd: ./trained_models\n",
      "Using device:  cpu\n",
      "################################################################################\n",
      "ID     Step    maxR |    avgR   stdR   avgS  stdS |    expR   objC   etc.\n"
     ]
    },
    {
     "name": "stderr",
     "output_type": "stream",
     "text": [
      "\r",
      "  0%|                                                                                            | 0/3 [00:00<?, ?it/s]"
     ]
    },
    {
     "name": "stdout",
     "output_type": "stream",
     "text": [
      "0  2.14e+03    0.98 |    0.98    1.2    125     0 |   -0.05   0.38   0.46  -0.51\n"
     ]
    },
    {
     "name": "stderr",
     "output_type": "stream",
     "text": [
      "\r",
      " 33%|████████████████████████████                                                        | 1/3 [01:11<02:23, 71.76s/it]"
     ]
    },
    {
     "name": "stdout",
     "output_type": "stream",
     "text": [
      "0  4.28e+03    3.77 |    3.77    0.1    125     0 |   -0.01   0.20   0.27  -0.51\n"
     ]
    },
    {
     "name": "stderr",
     "output_type": "stream",
     "text": [
      "\r",
      " 67%|████████████████████████████████████████████████████████                            | 2/3 [02:28<01:14, 74.52s/it]"
     ]
    },
    {
     "name": "stdout",
     "output_type": "stream",
     "text": [
      "0  6.42e+03    3.77 |    3.60    0.0    125     0 |   -0.01   0.13   0.30  -0.51\n"
     ]
    },
    {
     "name": "stderr",
     "output_type": "stream",
     "text": [
      "100%|████████████████████████████████████████████████████████████████████████████████████| 3/3 [03:40<00:00, 73.44s/it]\n"
     ]
    },
    {
     "name": "stdout",
     "output_type": "stream",
     "text": [
      "| UsedTime:     220 | SavedDir: ./trained_models | Total Step: 2138\n",
      "======jim-ppo Validation from:  2018-07-05 to  2019-01-03\n",
      "======Recurrent PPO Validation from:  2018-07-05 to  2019-01-04\n",
      "Total reward at validation for PPO 0\n",
      "================================================================================\n",
      "Best params,  {'eval_time_gap': 32, 'batch_size': 32, 'gamma': 0.98, 'learning_rate': 0.03372, 'target_step': 86175, 'net_dimension': 1026, 'episode': 3, 'seed': 42069}\n",
      "================================================================================\n",
      "======Trading from:  2019-01-04 to  2019-07-08\n",
      "Using device:  cpu\n",
      "Saving to  results/account_value_trade_main_jim-ppo.csv\n",
      "previous_total_asset:1665511.1392027114\n",
      "end_total_asset:1873977.2405514396\n",
      "total_asset_change:208466.10134872817\n",
      "Total cash is: 18.392403093694078$ and total holdings in stocks are 1873958.848148346$\n",
      "Buy & Hold strategy with previous total asset:  1932684.107193608\n",
      "Total Cost:  1619.2040101585399\n",
      "Sum of rewards  -28168.923412322765\n",
      "Total trades:  288\n",
      "Total buy orders are 170 and total sell orders are 118\n",
      "Total days in turbulance:  0\n",
      "Sharpe:  0.16949760882292372\n",
      "Test Finished!\n",
      "episode_return % 0.8740000000000001\n",
      "Writing hparams:  {'eval_time_gap': 32, 'batch_size': 32, 'gamma': 0.98, 'learning_rate': 0.03372, 'target_step': 86175, 'net_dimension': 1026, 'episode': 3, 'seed': 42069}\n",
      "============================================\n",
      "{'eval_time_gap': 32, 'batch_size': 32, 'gamma': 0.98, 'learning_rate': 0.03372, 'target_step': 86175, 'net_dimension': 1026, 'episode': 3, 'seed': 42069}\n",
      "======Model training from:  2010-01-01 to  2019-01-04\n",
      "| Remove cwd: ./trained_models\n",
      "Using device:  cpu\n",
      "################################################################################\n",
      "ID     Step    maxR |    avgR   stdR   avgS  stdS |    expR   objC   etc.\n"
     ]
    },
    {
     "name": "stderr",
     "output_type": "stream",
     "text": [
      "\r",
      "  0%|                                                                                            | 0/3 [00:00<?, ?it/s]"
     ]
    },
    {
     "name": "stdout",
     "output_type": "stream",
     "text": [
      "0  2.27e+03   -3.63 |   -3.63    0.8    125     0 |   -0.05   0.33   0.10  -0.49\n"
     ]
    },
    {
     "name": "stderr",
     "output_type": "stream",
     "text": [
      "\r",
      " 33%|████████████████████████████                                                        | 1/3 [01:14<02:29, 74.66s/it]"
     ]
    },
    {
     "name": "stdout",
     "output_type": "stream",
     "text": [
      "0  4.53e+03   -3.63 |   -6.00    0.3    125     0 |   -0.00   0.13   0.46  -0.49\n"
     ]
    },
    {
     "name": "stderr",
     "output_type": "stream",
     "text": [
      "\r",
      " 67%|████████████████████████████████████████████████████████                            | 2/3 [02:29<01:14, 74.72s/it]"
     ]
    },
    {
     "name": "stdout",
     "output_type": "stream",
     "text": [
      "0  6.80e+03   -3.63 |   -5.22    0.1    125     0 |   -0.01   0.11   0.25  -0.49\n"
     ]
    },
    {
     "name": "stderr",
     "output_type": "stream",
     "text": [
      "100%|████████████████████████████████████████████████████████████████████████████████████| 3/3 [03:49<00:00, 76.34s/it]\n"
     ]
    },
    {
     "name": "stdout",
     "output_type": "stream",
     "text": [
      "| UsedTime:     229 | SavedDir: ./trained_models | Total Step: 2264\n",
      "======jim-ppo Validation from:  2019-01-04 to  2019-07-05\n",
      "======Recurrent PPO Validation from:  2019-01-04 to  2019-07-08\n",
      "Total reward at validation for PPO 0\n",
      "================================================================================\n",
      "Best params,  {'eval_time_gap': 32, 'batch_size': 32, 'gamma': 0.98, 'learning_rate': 0.03372, 'target_step': 86175, 'net_dimension': 1026, 'episode': 3, 'seed': 42069}\n",
      "================================================================================\n",
      "======Trading from:  2019-07-08 to  2020-01-06\n",
      "Using device:  cpu\n",
      "Saving to  results/account_value_trade_main_jim-ppo.csv\n",
      "previous_total_asset:1873977.2405514396\n",
      "end_total_asset:2026095.5039778503\n",
      "total_asset_change:152118.26342641073\n",
      "Total cash is: -4.1592911925581575$ and total holdings in stocks are 2026099.663269043$\n",
      "Buy & Hold strategy with previous total asset:  2003952.9066006022\n",
      "Total Cost:  1410.38485087204\n",
      "Sum of rewards  -20500\n",
      "Total trades:  318\n",
      "Total buy orders are 202 and total sell orders are 116\n",
      "Total days in turbulance:  0\n",
      "Sharpe:  0.12050768613106173\n",
      "Test Finished!\n",
      "episode_return % 1.0261\n",
      "Writing hparams:  {'eval_time_gap': 32, 'batch_size': 32, 'gamma': 0.98, 'learning_rate': 0.03372, 'target_step': 86175, 'net_dimension': 1026, 'episode': 3, 'seed': 42069}\n",
      "============================================\n",
      "{'eval_time_gap': 32, 'batch_size': 32, 'gamma': 0.98, 'learning_rate': 0.03372, 'target_step': 86175, 'net_dimension': 1026, 'episode': 3, 'seed': 42069}\n",
      "======Model training from:  2010-01-01 to  2019-07-08\n",
      "| Remove cwd: ./trained_models\n",
      "Using device:  cpu\n",
      "################################################################################\n",
      "ID     Step    maxR |    avgR   stdR   avgS  stdS |    expR   objC   etc.\n"
     ]
    },
    {
     "name": "stderr",
     "output_type": "stream",
     "text": [
      "\r",
      "  0%|                                                                                            | 0/3 [00:00<?, ?it/s]"
     ]
    },
    {
     "name": "stdout",
     "output_type": "stream",
     "text": [
      "0  2.39e+03    1.77 |    1.77    0.3    125     0 |   -0.05   0.53   0.00  -0.51\n"
     ]
    },
    {
     "name": "stderr",
     "output_type": "stream",
     "text": [
      "\r",
      " 33%|████████████████████████████                                                        | 1/3 [01:17<02:35, 77.63s/it]"
     ]
    },
    {
     "name": "stdout",
     "output_type": "stream",
     "text": [
      "0  4.78e+03    1.77 |    1.60    0.0    125     0 |   -0.01   0.20   0.16  -0.51\n"
     ]
    },
    {
     "name": "stderr",
     "output_type": "stream",
     "text": [
      "\r",
      " 67%|████████████████████████████████████████████████████████                            | 2/3 [02:33<01:16, 76.73s/it]"
     ]
    },
    {
     "name": "stdout",
     "output_type": "stream",
     "text": [
      "0  7.17e+03    1.77 |    1.71    0.0    125     0 |   -0.01   0.19   0.00  -0.51\n"
     ]
    },
    {
     "name": "stderr",
     "output_type": "stream",
     "text": [
      "100%|████████████████████████████████████████████████████████████████████████████████████| 3/3 [03:55<00:00, 78.61s/it]\n"
     ]
    },
    {
     "name": "stdout",
     "output_type": "stream",
     "text": [
      "| UsedTime:     236 | SavedDir: ./trained_models | Total Step: 2390\n",
      "======jim-ppo Validation from:  2019-07-08 to  2020-01-03\n",
      "======Recurrent PPO Validation from:  2019-07-08 to  2020-01-06\n",
      "Total reward at validation for PPO 0\n",
      "================================================================================\n",
      "Best params,  {'eval_time_gap': 32, 'batch_size': 32, 'gamma': 0.98, 'learning_rate': 0.03372, 'target_step': 86175, 'net_dimension': 1026, 'episode': 3, 'seed': 42069}\n",
      "================================================================================\n",
      "======Trading from:  2020-01-06 to  2020-07-07\n",
      "Using device:  cpu\n",
      "Saving to  results/account_value_trade_main_jim-ppo.csv\n",
      "previous_total_asset:2026095.5039778503\n",
      "end_total_asset:2111370.1234714612\n",
      "total_asset_change:85274.61949361092\n",
      "Total cash is: 2.105763636367101$ and total holdings in stocks are 2111368.0177078247$\n",
      "Buy & Hold strategy with previous total asset:  1846293.2848286603\n",
      "Total Cost:  5327.427720897678\n",
      "Sum of rewards  -173080.62643563282\n",
      "Total trades:  489\n",
      "Total buy orders are 256 and total sell orders are 233\n",
      "Total days in turbulance:  0\n",
      "Sharpe:  0.05196884107869051\n",
      "Test Finished!\n",
      "episode_return % 1.1114000000000002\n",
      "Writing hparams:  {'eval_time_gap': 32, 'batch_size': 32, 'gamma': 0.98, 'learning_rate': 0.03372, 'target_step': 86175, 'net_dimension': 1026, 'episode': 3, 'seed': 42069}\n",
      "============================================\n",
      "{'eval_time_gap': 32, 'batch_size': 32, 'gamma': 0.98, 'learning_rate': 0.03372, 'target_step': 86175, 'net_dimension': 1026, 'episode': 3, 'seed': 42069}\n",
      "======Model training from:  2010-01-01 to  2020-01-06\n",
      "| Remove cwd: ./trained_models\n",
      "Using device:  cpu\n",
      "################################################################################\n",
      "ID     Step    maxR |    avgR   stdR   avgS  stdS |    expR   objC   etc.\n"
     ]
    },
    {
     "name": "stderr",
     "output_type": "stream",
     "text": [
      "\r",
      "  0%|                                                                                            | 0/3 [00:00<?, ?it/s]"
     ]
    },
    {
     "name": "stdout",
     "output_type": "stream",
     "text": [
      "0  2.52e+03   -3.20 |   -3.20    0.5    125     0 |   -0.04   0.36   0.09  -0.41\n"
     ]
    },
    {
     "name": "stderr",
     "output_type": "stream",
     "text": [
      "\r",
      " 33%|████████████████████████████                                                        | 1/3 [01:21<02:43, 81.53s/it]"
     ]
    },
    {
     "name": "stdout",
     "output_type": "stream",
     "text": [
      "0  5.04e+03   -3.20 |   -3.28    0.2    125     0 |   -0.01   0.20   0.27  -0.41\n"
     ]
    },
    {
     "name": "stderr",
     "output_type": "stream",
     "text": [
      "\r",
      " 67%|████████████████████████████████████████████████████████                            | 2/3 [02:46<01:23, 83.51s/it]"
     ]
    },
    {
     "name": "stdout",
     "output_type": "stream",
     "text": [
      "0  7.55e+03   -2.72 |   -2.72    0.1    125     0 |   -0.00   0.12   0.30  -0.41\n"
     ]
    },
    {
     "name": "stderr",
     "output_type": "stream",
     "text": [
      "100%|████████████████████████████████████████████████████████████████████████████████████| 3/3 [04:26<00:00, 88.90s/it]\n"
     ]
    },
    {
     "name": "stdout",
     "output_type": "stream",
     "text": [
      "| UsedTime:     267 | SavedDir: ./trained_models | Total Step: 2516\n",
      "======jim-ppo Validation from:  2020-01-06 to  2020-07-06\n",
      "======Recurrent PPO Validation from:  2020-01-06 to  2020-07-07\n",
      "Total reward at validation for PPO 0\n",
      "================================================================================\n",
      "Best params,  {'eval_time_gap': 32, 'batch_size': 32, 'gamma': 0.98, 'learning_rate': 0.03372, 'target_step': 86175, 'net_dimension': 1026, 'episode': 3, 'seed': 42069}\n",
      "================================================================================\n",
      "======Trading from:  2020-07-07 to  2021-01-05\n",
      "Using device:  cpu\n",
      "Saving to  results/account_value_trade_main_jim-ppo.csv\n",
      "previous_total_asset:2111370.1234714612\n",
      "end_total_asset:2409318.0974054174\n",
      "total_asset_change:297947.9739339561\n",
      "Total cash is: 3.2759561376127095$ and total holdings in stocks are 2409314.82144928$\n",
      "Buy & Hold strategy with previous total asset:  2479614.5818438213\n",
      "Total Cost:  2979.509392002105\n",
      "Sum of rewards  -20500\n",
      "Total trades:  321\n",
      "Total buy orders are 223 and total sell orders are 98\n",
      "Total days in turbulance:  0\n",
      "Sharpe:  0.16656517590191997\n",
      "Test Finished!\n",
      "episode_return % 1.4093\n",
      "Writing hparams:  {'eval_time_gap': 32, 'batch_size': 32, 'gamma': 0.98, 'learning_rate': 0.03372, 'target_step': 86175, 'net_dimension': 1026, 'episode': 3, 'seed': 42069}\n",
      "============================================\n",
      "{'eval_time_gap': 32, 'batch_size': 32, 'gamma': 0.98, 'learning_rate': 0.03372, 'target_step': 86175, 'net_dimension': 1026, 'episode': 3, 'seed': 42069}\n",
      "======Model training from:  2010-01-01 to  2020-07-07\n",
      "| Remove cwd: ./trained_models\n",
      "Using device:  cpu\n",
      "################################################################################\n",
      "ID     Step    maxR |    avgR   stdR   avgS  stdS |    expR   objC   etc.\n"
     ]
    },
    {
     "name": "stderr",
     "output_type": "stream",
     "text": [
      "\r",
      "  0%|                                                                                            | 0/3 [00:00<?, ?it/s]"
     ]
    },
    {
     "name": "stdout",
     "output_type": "stream",
     "text": [
      "0  2.64e+03    4.37 |    4.37    2.0    125     0 |   -0.04   0.39   0.03  -0.46\n"
     ]
    },
    {
     "name": "stderr",
     "output_type": "stream",
     "text": [
      "\r",
      "  0%|                                                                                            | 0/3 [01:24<?, ?it/s]"
     ]
    },
    {
     "name": "stdout",
     "output_type": "stream",
     "text": [
      "Reached goals on 2644\n",
      "| UsedTime:      85 | SavedDir: ./trained_models | Total Step: 2644\n",
      "======jim-ppo Validation from:  2020-07-07 to  2021-01-04\n",
      "======Recurrent PPO Validation from:  2020-07-07 to  2021-01-05\n",
      "Total reward at validation for PPO 0\n",
      "================================================================================\n",
      "Best params,  {'eval_time_gap': 32, 'batch_size': 32, 'gamma': 0.98, 'learning_rate': 0.03372, 'target_step': 86175, 'net_dimension': 1026, 'episode': 3, 'seed': 42069}\n",
      "================================================================================\n",
      "======Trading from:  2021-01-05 to  2021-07-07\n",
      "Using device:  cpu\n"
     ]
    },
    {
     "name": "stderr",
     "output_type": "stream",
     "text": [
      "\n"
     ]
    },
    {
     "name": "stdout",
     "output_type": "stream",
     "text": [
      "Saving to  results/account_value_trade_main_jim-ppo.csv\n",
      "previous_total_asset:2409318.0974054174\n",
      "end_total_asset:3151601.953663474\n",
      "total_asset_change:742283.8562580566\n",
      "Total cash is: 17.198990469983983$ and total holdings in stocks are 3151584.754673004$\n",
      "Buy & Hold strategy with previous total asset:  2776876.696844738\n",
      "Total Cost:  3053.8775638122547\n",
      "Sum of rewards  -20500\n",
      "Total trades:  275\n",
      "Total buy orders are 199 and total sell orders are 76\n",
      "Total days in turbulance:  0\n",
      "Sharpe:  0.3987433448745292\n",
      "Test Finished!\n",
      "episode_return % 2.1516\n",
      "Writing hparams:  {'eval_time_gap': 32, 'batch_size': 32, 'gamma': 0.98, 'learning_rate': 0.03372, 'target_step': 86175, 'net_dimension': 1026, 'episode': 3, 'seed': 42069}\n",
      "Ensemble Strategy took:  29.94176023801168  minutes\n"
     ]
    }
   ],
   "source": [
    "agent_builder.run_prediction(total_timesteps=1000)"
   ]
  },
  {
   "cell_type": "code",
   "execution_count": 20,
   "id": "015c02c3",
   "metadata": {},
   "outputs": [
    {
     "data": {
      "text/plain": [
       "160.0"
      ]
     },
     "execution_count": 20,
     "metadata": {},
     "output_type": "execute_result"
    }
   ],
   "source": [
    "previous_total_asset:1000000\n",
    "end_total_asset:1084048.8451789876"
   ]
  },
  {
   "cell_type": "code",
   "execution_count": 11,
   "id": "d8edf2fe",
   "metadata": {},
   "outputs": [
    {
     "data": {
      "text/plain": [
       "0.4"
      ]
     },
     "execution_count": 11,
     "metadata": {},
     "output_type": "execute_result"
    }
   ],
   "source": [
    "0  1.51e+03   -1.38 |   -1.38    1.6    125     0 |   -0.04   0.01   0.05  -0.51\n",
    "  4%|██▊                                                                             | 1/28 [04:24<1:59:10, 264.82s/it]\n",
    "0  3.02e+03    3.89 |    3.89    0.1    125     0 |   -0.01   0.00  -0.05  -0.51\n",
    "  7%|█████▋                                                                          | 2/28 [08:45<1:53:38, 262.26s/it]\n",
    "0  4.53e+03    3.89 |    1.62    0.0    125     0 |    0.00   0.00  -0.37  -0.51\n",
    " 11%|████████▌                                                                       | 3/28 [11:46<1:33:46, 225.08s/it]\n",
    "0  6.03e+03    3.89 |    1.20    0.3    125     0 |   -0.01   0.00   0.21  -0.51\n",
    " 14%|███████████▍                                                                    | 4/28 [14:53<1:24:04, 210.20s/it]\n",
    "0  7.54e+03    3.89 |    3.62    0.1    125     0 |    0.00   0.01   0.34  -0.51\n",
    " 18%|██████████████▎                                                                 | 5/28 [17:56<1:16:47, 200.31s/it]\n",
    "0  9.04e+03    3.89 |    2.40    0.0    125     0 |   -0.00   0.01   0.21  -0.51\n",
    " 21%|█████████████████▏                                                              | 6/28 [21:05<1:12:03, 196.53s/it]\n",
    "0  1.05e+04    3.89 |    1.96    0.0    125     0 |   -0.00   0.00   0.30  -0.51\n",
    " 25%|████████████████████                                                            | 7/28 [24:17<1:08:18, 195.15s/it]\n",
    "0  1.21e+04    3.89 |    0.28    0.0    125     0 |   -0.00   0.00   0.10  -0.51\n",
    " 29%|██████████████████████▊                                                         | 8/28 [27:24<1:04:10, 192.53s/it]\n",
    "0  1.36e+04    3.89 |    2.68    0.0    125     0 |   -0.00   0.00   0.26  -0.51"
   ]
  },
  {
   "cell_type": "code",
   "execution_count": null,
   "id": "8f413a7f",
   "metadata": {},
   "outputs": [],
   "source": []
  }
 ],
 "metadata": {
  "kernelspec": {
   "display_name": "Python 3 (ipykernel)",
   "language": "python",
   "name": "python3"
  },
  "language_info": {
   "codemirror_mode": {
    "name": "ipython",
    "version": 3
   },
   "file_extension": ".py",
   "mimetype": "text/x-python",
   "name": "python",
   "nbconvert_exporter": "python",
   "pygments_lexer": "ipython3",
   "version": "3.7.11"
  }
 },
 "nbformat": 4,
 "nbformat_minor": 5
}
