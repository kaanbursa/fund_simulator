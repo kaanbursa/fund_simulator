{
 "cells": [
  {
   "cell_type": "code",
   "execution_count": 1,
   "id": "f7a861a1",
   "metadata": {},
   "outputs": [
    {
     "data": {
      "text/plain": [
       "\"df = pd.read_csv('../datasets/downew30.csv')\\nindata = data_split(df, '2015-01-01','2015-05-05')\\ntarget_step =len(indata.Date.unique())\\ntarget_step\\ntrain_env = StockEnvTrain(indata, indata,stock_dim=30, config=EnvConfig)\\nagent_builder = DRLAgent(StockEnvTrain, indata, EnvConfig)\\nmodel_kwargs = {\\n    'learning_rate':0.002,\\n    'batch_size':8,\\n    'gamma':0.95,\\n    'seed':42,\\n    'net_dimension':160,\\n    'target_step':160,\\n    'eval_time_gap':10\\n}\\nmodel = agent_builder.get_model('ppo', model_kwargs)\\nagent_builder.train_model(model, './',total_timesteps=100)\""
      ]
     },
     "execution_count": 1,
     "metadata": {},
     "output_type": "execute_result"
    }
   ],
   "source": [
    "import os,sys,inspect\n",
    "module_path = os.path.abspath(os.path.join('..'))\n",
    "if module_path not in sys.path:\n",
    "    sys.path.append(module_path)\n",
    "from datetime import datetime\n",
    "from agents.Base import BaseAgent, run\n",
    "from agents.BlueAgents import *\n",
    "from data.preprocessing import data_split, get_price, DataProcessor\n",
    "import pandas as pd\n",
    "import numpy as np\n",
    "from agents.wrappers.ObservationWrapper import NormalizedEnv\n",
    "from stable_baselines3.common.vec_env import DummyVecEnv, VecNormalize\n",
    "from env.EnvStock_train import StockEnvTrain\n",
    "from env.EnvStock_trade import StockEnvTrade\n",
    "from env.EnvStock_val import StockEnvValidation\n",
    "from env.crypto.SingleCryptoEnv import SingleCryptoEnv\n",
    "from stable_baselines3 import A2C, PPO\n",
    "from env.crypto.SingleCryptoEnv import SingleCryptoEnv\n",
    "from env.BaseEnv import EnvConfig\n",
    "\n",
    "%matplotlib inline\n",
    "%load_ext autoreload\n",
    "%autoreload 2\n",
    "\"\"\"df = pd.read_csv('../datasets/downew30.csv')\n",
    "indata = data_split(df, '2015-01-01','2015-05-05')\n",
    "target_step =len(indata.Date.unique())\n",
    "target_step\n",
    "train_env = StockEnvTrain(indata, indata,stock_dim=30, config=EnvConfig)\n",
    "agent_builder = DRLAgent(StockEnvTrain, indata, EnvConfig)\n",
    "model_kwargs = {\n",
    "    'learning_rate':0.002,\n",
    "    'batch_size':8,\n",
    "    'gamma':0.95,\n",
    "    'seed':42,\n",
    "    'net_dimension':160,\n",
    "    'target_step':160,\n",
    "    'eval_time_gap':10\n",
    "}\n",
    "model = agent_builder.get_model('ppo', model_kwargs)\n",
    "agent_builder.train_model(model, './',total_timesteps=100)\"\"\""
   ]
  },
  {
   "cell_type": "code",
   "execution_count": 2,
   "id": "168879b2",
   "metadata": {},
   "outputs": [],
   "source": [
    "df = pd.read_csv('../datasets/downew30.csv')\n",
    "cwd = '../AgentResult'"
   ]
  },
  {
   "cell_type": "code",
   "execution_count": 3,
   "id": "624553b5",
   "metadata": {},
   "outputs": [],
   "source": [
    "indata = data_split(df, '2010-01-01','2019-04-05')\n",
    "indtwo = data_split(df, '2015-01-01','2015-01-03')"
   ]
  },
  {
   "cell_type": "code",
   "execution_count": 4,
   "id": "ab7d8ceb",
   "metadata": {},
   "outputs": [],
   "source": [
    "S = len(indata) // 4\n",
    "N = int(len(indata)/S)\n",
    "frames = [ indata.iloc[i*S:(i+1)*S].copy() for i in range(N+1) ]"
   ]
  },
  {
   "cell_type": "code",
   "execution_count": 5,
   "id": "e07386a9",
   "metadata": {},
   "outputs": [
    {
     "data": {
      "text/plain": [
       "2329"
      ]
     },
     "execution_count": 5,
     "metadata": {},
     "output_type": "execute_result"
    }
   ],
   "source": [
    "target_step =len(indata.Date.unique())\n",
    "target_step"
   ]
  },
  {
   "cell_type": "code",
   "execution_count": 6,
   "id": "1ad96ca1",
   "metadata": {},
   "outputs": [],
   "source": [
    "#dloader = DataProcessor('crypto',['btc'],'2019-01-01','2022-01-01')"
   ]
  },
  {
   "cell_type": "code",
   "execution_count": 28,
   "id": "c7d95a64",
   "metadata": {},
   "outputs": [],
   "source": [
    "#dataframe = dloader.get_crypto_price('btc_usdt_1d.csv', 'binance', 3, 'BTC/USDT', '1d', '2018-03-0200:00:00Z', 1000)"
   ]
  },
  {
   "cell_type": "code",
   "execution_count": 29,
   "id": "97ad7c52",
   "metadata": {},
   "outputs": [],
   "source": [
    "#btc = pd.read_csv('./data/raw/Binance/btc_usdt_1m.csv',names=['Date','open','high','low','close','volume'])"
   ]
  },
  {
   "cell_type": "code",
   "execution_count": 30,
   "id": "6ad06291",
   "metadata": {},
   "outputs": [],
   "source": [
    "indtwo.Date = pd.to_datetime(indtwo.Date)"
   ]
  },
  {
   "cell_type": "code",
   "execution_count": null,
   "id": "a88e0744",
   "metadata": {},
   "outputs": [],
   "source": []
  },
  {
   "cell_type": "code",
   "execution_count": 32,
   "id": "c87d628d",
   "metadata": {
    "collapsed": true
   },
   "outputs": [
    {
     "ename": "NameError",
     "evalue": "name 'state_trade' is not defined",
     "output_type": "error",
     "traceback": [
      "\u001b[1;31m---------------------------------------------------------------------------\u001b[0m",
      "\u001b[1;31mNameError\u001b[0m                                 Traceback (most recent call last)",
      "\u001b[1;32m~\\AppData\\Local\\Temp/ipykernel_10892/1639677074.py\u001b[0m in \u001b[0;36m<module>\u001b[1;34m\u001b[0m\n\u001b[0;32m      1\u001b[0m \u001b[0mtrain_env\u001b[0m \u001b[1;33m=\u001b[0m \u001b[0mVecNormalize\u001b[0m\u001b[1;33m(\u001b[0m\u001b[0mDummyVecEnv\u001b[0m\u001b[1;33m(\u001b[0m\u001b[1;33m[\u001b[0m\u001b[1;32mlambda\u001b[0m\u001b[1;33m:\u001b[0m \u001b[0mStockEnvTrain\u001b[0m\u001b[1;33m(\u001b[0m\u001b[0mindata\u001b[0m\u001b[1;33m,\u001b[0m \u001b[0mindata\u001b[0m\u001b[1;33m,\u001b[0m\u001b[0mstock_dim\u001b[0m\u001b[1;33m=\u001b[0m\u001b[1;36m30\u001b[0m\u001b[1;33m,\u001b[0m \u001b[0mconfig\u001b[0m\u001b[1;33m=\u001b[0m\u001b[0mEnvConfig\u001b[0m\u001b[1;33m)\u001b[0m\u001b[1;33m]\u001b[0m\u001b[1;33m)\u001b[0m\u001b[1;33m)\u001b[0m\u001b[1;33m\u001b[0m\u001b[1;33m\u001b[0m\u001b[0m\n\u001b[1;32m----> 2\u001b[1;33m train_envtwo = VecNormalize(DummyVecEnv([lambda: StockEnvTrade(df=indtwo, index_df=indtwo,\n\u001b[0m\u001b[0;32m      3\u001b[0m                                                                \u001b[0munique_trade_date\u001b[0m\u001b[1;33m=\u001b[0m\u001b[1;33m[\u001b[0m\u001b[0mdatetime\u001b[0m\u001b[1;33m.\u001b[0m\u001b[0mnow\u001b[0m\u001b[1;33m(\u001b[0m\u001b[1;33m)\u001b[0m\u001b[1;33m]\u001b[0m\u001b[1;33m,\u001b[0m\u001b[1;33m\u001b[0m\u001b[1;33m\u001b[0m\u001b[0m\n\u001b[0;32m      4\u001b[0m                                                                \u001b[0minitial\u001b[0m\u001b[1;33m=\u001b[0m\u001b[1;32mFalse\u001b[0m\u001b[1;33m,\u001b[0m\u001b[1;33m\u001b[0m\u001b[1;33m\u001b[0m\u001b[0m\n\u001b[0;32m      5\u001b[0m                                                                \u001b[0mstock_dim\u001b[0m\u001b[1;33m=\u001b[0m\u001b[1;36m30\u001b[0m\u001b[1;33m,\u001b[0m \u001b[0mconfig\u001b[0m\u001b[1;33m=\u001b[0m\u001b[0mEnvConfig\u001b[0m\u001b[1;33m,\u001b[0m\u001b[1;33m\u001b[0m\u001b[1;33m\u001b[0m\u001b[0m\n",
      "\u001b[1;32m~\\AppData\\Roaming\\Python\\Python37\\site-packages\\stable_baselines3\\common\\vec_env\\dummy_vec_env.py\u001b[0m in \u001b[0;36m__init__\u001b[1;34m(self, env_fns)\u001b[0m\n\u001b[0;32m     23\u001b[0m \u001b[1;33m\u001b[0m\u001b[0m\n\u001b[0;32m     24\u001b[0m     \u001b[1;32mdef\u001b[0m \u001b[0m__init__\u001b[0m\u001b[1;33m(\u001b[0m\u001b[0mself\u001b[0m\u001b[1;33m,\u001b[0m \u001b[0menv_fns\u001b[0m\u001b[1;33m:\u001b[0m \u001b[0mList\u001b[0m\u001b[1;33m[\u001b[0m\u001b[0mCallable\u001b[0m\u001b[1;33m[\u001b[0m\u001b[1;33m[\u001b[0m\u001b[1;33m]\u001b[0m\u001b[1;33m,\u001b[0m \u001b[0mgym\u001b[0m\u001b[1;33m.\u001b[0m\u001b[0mEnv\u001b[0m\u001b[1;33m]\u001b[0m\u001b[1;33m]\u001b[0m\u001b[1;33m)\u001b[0m\u001b[1;33m:\u001b[0m\u001b[1;33m\u001b[0m\u001b[1;33m\u001b[0m\u001b[0m\n\u001b[1;32m---> 25\u001b[1;33m         \u001b[0mself\u001b[0m\u001b[1;33m.\u001b[0m\u001b[0menvs\u001b[0m \u001b[1;33m=\u001b[0m \u001b[1;33m[\u001b[0m\u001b[0mfn\u001b[0m\u001b[1;33m(\u001b[0m\u001b[1;33m)\u001b[0m \u001b[1;32mfor\u001b[0m \u001b[0mfn\u001b[0m \u001b[1;32min\u001b[0m \u001b[0menv_fns\u001b[0m\u001b[1;33m]\u001b[0m\u001b[1;33m\u001b[0m\u001b[1;33m\u001b[0m\u001b[0m\n\u001b[0m\u001b[0;32m     26\u001b[0m         \u001b[0menv\u001b[0m \u001b[1;33m=\u001b[0m \u001b[0mself\u001b[0m\u001b[1;33m.\u001b[0m\u001b[0menvs\u001b[0m\u001b[1;33m[\u001b[0m\u001b[1;36m0\u001b[0m\u001b[1;33m]\u001b[0m\u001b[1;33m\u001b[0m\u001b[1;33m\u001b[0m\u001b[0m\n\u001b[0;32m     27\u001b[0m         \u001b[0mVecEnv\u001b[0m\u001b[1;33m.\u001b[0m\u001b[0m__init__\u001b[0m\u001b[1;33m(\u001b[0m\u001b[0mself\u001b[0m\u001b[1;33m,\u001b[0m \u001b[0mlen\u001b[0m\u001b[1;33m(\u001b[0m\u001b[0menv_fns\u001b[0m\u001b[1;33m)\u001b[0m\u001b[1;33m,\u001b[0m \u001b[0menv\u001b[0m\u001b[1;33m.\u001b[0m\u001b[0mobservation_space\u001b[0m\u001b[1;33m,\u001b[0m \u001b[0menv\u001b[0m\u001b[1;33m.\u001b[0m\u001b[0maction_space\u001b[0m\u001b[1;33m)\u001b[0m\u001b[1;33m\u001b[0m\u001b[1;33m\u001b[0m\u001b[0m\n",
      "\u001b[1;32m~\\AppData\\Roaming\\Python\\Python37\\site-packages\\stable_baselines3\\common\\vec_env\\dummy_vec_env.py\u001b[0m in \u001b[0;36m<listcomp>\u001b[1;34m(.0)\u001b[0m\n\u001b[0;32m     23\u001b[0m \u001b[1;33m\u001b[0m\u001b[0m\n\u001b[0;32m     24\u001b[0m     \u001b[1;32mdef\u001b[0m \u001b[0m__init__\u001b[0m\u001b[1;33m(\u001b[0m\u001b[0mself\u001b[0m\u001b[1;33m,\u001b[0m \u001b[0menv_fns\u001b[0m\u001b[1;33m:\u001b[0m \u001b[0mList\u001b[0m\u001b[1;33m[\u001b[0m\u001b[0mCallable\u001b[0m\u001b[1;33m[\u001b[0m\u001b[1;33m[\u001b[0m\u001b[1;33m]\u001b[0m\u001b[1;33m,\u001b[0m \u001b[0mgym\u001b[0m\u001b[1;33m.\u001b[0m\u001b[0mEnv\u001b[0m\u001b[1;33m]\u001b[0m\u001b[1;33m]\u001b[0m\u001b[1;33m)\u001b[0m\u001b[1;33m:\u001b[0m\u001b[1;33m\u001b[0m\u001b[1;33m\u001b[0m\u001b[0m\n\u001b[1;32m---> 25\u001b[1;33m         \u001b[0mself\u001b[0m\u001b[1;33m.\u001b[0m\u001b[0menvs\u001b[0m \u001b[1;33m=\u001b[0m \u001b[1;33m[\u001b[0m\u001b[0mfn\u001b[0m\u001b[1;33m(\u001b[0m\u001b[1;33m)\u001b[0m \u001b[1;32mfor\u001b[0m \u001b[0mfn\u001b[0m \u001b[1;32min\u001b[0m \u001b[0menv_fns\u001b[0m\u001b[1;33m]\u001b[0m\u001b[1;33m\u001b[0m\u001b[1;33m\u001b[0m\u001b[0m\n\u001b[0m\u001b[0;32m     26\u001b[0m         \u001b[0menv\u001b[0m \u001b[1;33m=\u001b[0m \u001b[0mself\u001b[0m\u001b[1;33m.\u001b[0m\u001b[0menvs\u001b[0m\u001b[1;33m[\u001b[0m\u001b[1;36m0\u001b[0m\u001b[1;33m]\u001b[0m\u001b[1;33m\u001b[0m\u001b[1;33m\u001b[0m\u001b[0m\n\u001b[0;32m     27\u001b[0m         \u001b[0mVecEnv\u001b[0m\u001b[1;33m.\u001b[0m\u001b[0m__init__\u001b[0m\u001b[1;33m(\u001b[0m\u001b[0mself\u001b[0m\u001b[1;33m,\u001b[0m \u001b[0mlen\u001b[0m\u001b[1;33m(\u001b[0m\u001b[0menv_fns\u001b[0m\u001b[1;33m)\u001b[0m\u001b[1;33m,\u001b[0m \u001b[0menv\u001b[0m\u001b[1;33m.\u001b[0m\u001b[0mobservation_space\u001b[0m\u001b[1;33m,\u001b[0m \u001b[0menv\u001b[0m\u001b[1;33m.\u001b[0m\u001b[0maction_space\u001b[0m\u001b[1;33m)\u001b[0m\u001b[1;33m\u001b[0m\u001b[1;33m\u001b[0m\u001b[0m\n",
      "\u001b[1;32m~\\AppData\\Local\\Temp/ipykernel_10892/1639677074.py\u001b[0m in \u001b[0;36m<lambda>\u001b[1;34m()\u001b[0m\n\u001b[0;32m      4\u001b[0m                                                                \u001b[0minitial\u001b[0m\u001b[1;33m=\u001b[0m\u001b[1;32mFalse\u001b[0m\u001b[1;33m,\u001b[0m\u001b[1;33m\u001b[0m\u001b[1;33m\u001b[0m\u001b[0m\n\u001b[0;32m      5\u001b[0m                                                                \u001b[0mstock_dim\u001b[0m\u001b[1;33m=\u001b[0m\u001b[1;36m30\u001b[0m\u001b[1;33m,\u001b[0m \u001b[0mconfig\u001b[0m\u001b[1;33m=\u001b[0m\u001b[0mEnvConfig\u001b[0m\u001b[1;33m,\u001b[0m\u001b[1;33m\u001b[0m\u001b[1;33m\u001b[0m\u001b[0m\n\u001b[1;32m----> 6\u001b[1;33m                                                                previous_state=state_trade)]),)\n\u001b[0m",
      "\u001b[1;31mNameError\u001b[0m: name 'state_trade' is not defined"
     ]
    }
   ],
   "source": [
    "train_env = VecNormalize(DummyVecEnv([lambda: StockEnvTrain(indata, indata,stock_dim=30, config=EnvConfig)]))\n",
    "train_envtwo = VecNormalize(DummyVecEnv([lambda: StockEnvTrade(df=indtwo, index_df=indtwo,\n",
    "                                                               unique_trade_date=[datetime.now()],\n",
    "                                                               initial=False,\n",
    "                                                               stock_dim=30, config=EnvConfig, \n",
    "                                                               previous_state=state_trade)]),)"
   ]
  },
  {
   "cell_type": "code",
   "execution_count": 10,
   "id": "e335840e",
   "metadata": {},
   "outputs": [],
   "source": [
    "a = [-1,1, 1]"
   ]
  },
  {
   "cell_type": "code",
   "execution_count": 11,
   "id": "7ddcd330",
   "metadata": {},
   "outputs": [
    {
     "data": {
      "text/plain": [
       "[-1, 1, 1]"
      ]
     },
     "execution_count": 11,
     "metadata": {},
     "output_type": "execute_result"
    }
   ],
   "source": [
    "sorted(a)"
   ]
  },
  {
   "cell_type": "code",
   "execution_count": 43,
   "id": "5f33fe49",
   "metadata": {},
   "outputs": [],
   "source": [
    "env = StockEnvTrain(indata, indata,stock_dim=30, config=EnvConfig)\n",
    "train_env = NormalizedEnv(env)\n"
   ]
  },
  {
   "cell_type": "code",
   "execution_count": 45,
   "id": "6d00c955",
   "metadata": {},
   "outputs": [
    {
     "data": {
      "text/plain": [
       "array([ 0.01      ,  0.00988554,  0.00999573,  0.00999739,  0.00999721,\n",
       "        0.00998474,  0.00999796,  0.00999441,  0.0099936 ,  0.00999976,\n",
       "        0.00998944,  0.00999931,  0.00997655,  0.00999761,  0.00999503,\n",
       "        0.00998727,  0.0099975 ,  0.00999863,  0.00999098,  0.00999129,\n",
       "        0.00997517,  0.00996233,  0.00999723,  0.00999569,  0.00999641,\n",
       "        0.00999283,  0.00998782,  0.00998416,  0.00999341,  0.00999704,\n",
       "        0.00999738,  0.        ,  0.        ,  0.        ,  0.        ,\n",
       "        0.        ,  0.        ,  0.        ,  0.        ,  0.        ,\n",
       "        0.        ,  0.        ,  0.        ,  0.        ,  0.        ,\n",
       "        0.        ,  0.        ,  0.        ,  0.        ,  0.        ,\n",
       "        0.        ,  0.        ,  0.        ,  0.        ,  0.        ,\n",
       "        0.        ,  0.        ,  0.        ,  0.        ,  0.        ,\n",
       "        0.        ,  0.00119355,  0.00288207,  0.00447922,  0.00080095,\n",
       "        0.00101948,  0.00092307,  0.00365592,  0.00466131, -0.00399284,\n",
       "        0.00309624,  0.00685025,  0.0016537 ,  0.00365148, -0.000769  ,\n",
       "        0.00055143,  0.0025661 ,  0.00732095,  0.00296676,  0.00343091,\n",
       "        0.00110531,  0.00098362, -0.00073339,  0.00386681, -0.00245245,\n",
       "        0.00491537,  0.00417749,  0.00240257, -0.00266701,  0.00143786,\n",
       "       -0.00605405,  0.00988526,  0.0099957 ,  0.00999733,  0.00999716,\n",
       "        0.00998452,  0.00999793,  0.00999427,  0.00999361,  0.00999976,\n",
       "        0.00998949,  0.00999931,  0.00997634,  0.00999761,  0.00999494,\n",
       "        0.00998728,  0.00999749,  0.00999863,  0.00999089,  0.00999122,\n",
       "        0.0099754 ,  0.0099614 ,  0.00999722,  0.00999561,  0.00999643,\n",
       "        0.00999263,  0.00998779,  0.00998414,  0.00999336,  0.00999703,\n",
       "        0.00999736,  0.00986935,  0.00999567,  0.00999729,  0.00999713,\n",
       "        0.00998366,  0.00999788,  0.00999365,  0.00999348,  0.00999974,\n",
       "        0.00998946,  0.00999928,  0.00997468,  0.00999761,  0.00999468,\n",
       "        0.00998758,  0.00999746,  0.00999857,  0.00999104,  0.00999095,\n",
       "        0.00997455,  0.00996014,  0.00999729,  0.00999542,  0.00999641,\n",
       "        0.00999245,  0.00998697,  0.00998411,  0.00999349,  0.009997  ,\n",
       "        0.00999744,  0.00988772,  0.00999596,  0.00999742,  0.00999726,\n",
       "        0.00998457,  0.00999794,  0.00999435,  0.00999404,  0.00999976,\n",
       "        0.00999019,  0.00999932,  0.00997665,  0.00999764,  0.00999495,\n",
       "        0.00998817,  0.0099976 ,  0.0099987 ,  0.00999154,  0.0099916 ,\n",
       "        0.00997626,  0.00996222,  0.00999739,  0.00999568,  0.00999663,\n",
       "        0.00999368,  0.00998866,  0.00998467,  0.0099939 ,  0.00999712,\n",
       "        0.00999773,  0.0098461 ,  0.00999535,  0.00999715,  0.00999699,\n",
       "        0.00998267,  0.00999782,  0.00999281,  0.00999283,  0.00999972,\n",
       "        0.00998864,  0.00999924,  0.00997245,  0.00999757,  0.0099944 ,\n",
       "        0.00998694,  0.0099973 ,  0.00999843,  0.0099905 ,  0.00999023,\n",
       "        0.00997266,  0.00995788,  0.00999718,  0.00999514,  0.00999617,\n",
       "        0.00999082,  0.00998489,  0.00998352,  0.00999304,  0.00999687,\n",
       "        0.0099971 ,  0.        ,  0.        ,  0.        ,  0.        ,\n",
       "        0.        ,  0.        ,  0.        ,  0.        ,  0.        ,\n",
       "        0.        ,  0.        ,  0.        ,  0.        ,  0.        ,\n",
       "        0.        ,  0.        ,  0.        ,  0.        ,  0.        ,\n",
       "        0.        ,  0.        ,  0.        ,  0.        ,  0.        ,\n",
       "        0.        ,  0.        ,  0.        ,  0.        ,  0.        ,\n",
       "        0.        ,  0.00986954,  0.00999571,  0.00999721,  0.00999715,\n",
       "        0.00998359,  0.00999789,  0.00999372,  0.00999323,  0.00999974,\n",
       "        0.00998916,  0.00999927,  0.00997411,  0.00999757,  0.00999475,\n",
       "        0.00998754,  0.00999748,  0.00999853,  0.00999086,  0.00999082,\n",
       "        0.00997454,  0.00996022,  0.00999731,  0.00999535,  0.00999652,\n",
       "        0.00999212,  0.00998653,  0.00998361,  0.00999365,  0.00999702,\n",
       "        0.00999757,  0.00986727,  0.00999526,  0.00999699,  0.0099971 ,\n",
       "        0.00998356,  0.00999785,  0.00999334,  0.00999264,  0.00999976,\n",
       "        0.00998837,  0.00999924,  0.00997384,  0.00999741,  0.00999506,\n",
       "        0.00998678,  0.00999735,  0.00999844,  0.00998969,  0.00999002,\n",
       "        0.00997432,  0.00995764,  0.00999717,  0.00999504,  0.00999651,\n",
       "        0.00999115,  0.00998532,  0.00998187,  0.00999383,  0.00999684,\n",
       "        0.00999759,  0.00999975,  0.00999997,  0.00999997,  0.00999999,\n",
       "        0.00999996,  0.01      ,  0.00999993,  0.00999997,  0.00999988,\n",
       "        0.00999999,  0.00999999,  0.00999995,  0.01      ,  0.00999997,\n",
       "        0.01      ,  0.00999999,  0.00999999,  0.00999999,  0.00999997,\n",
       "        0.00999997,  0.00999999,  0.01      ,  0.00999999,  0.00999998,\n",
       "        0.00999992,  0.00999989,  0.01      ,  0.00999997,  0.00999998,\n",
       "        0.01      ,  0.0099987 ,  0.00999845,  0.00999855,  0.00999836,\n",
       "        0.00999853,  0.00999849,  0.00999853,  0.00999863,  0.00999822,\n",
       "        0.00999842,  0.00999867,  0.00999854,  0.00999872,  0.00999815,\n",
       "        0.00999838,  0.00999843,  0.00999866,  0.0099986 ,  0.00999873,\n",
       "        0.00999837,  0.0099986 ,  0.00999825,  0.00999875,  0.00999796,\n",
       "        0.00999854,  0.0099988 ,  0.0099987 ,  0.00999792,  0.00999848,\n",
       "        0.00999748,  0.0099989 ,  0.00999827,  0.00999866,  0.00999831,\n",
       "        0.00999882,  0.0099986 ,  0.00999869,  0.00999859,  0.00999865,\n",
       "        0.00999828,  0.00999878,  0.00999879,  0.0099987 ,  0.00999851,\n",
       "        0.00999776,  0.00999827,  0.00999869,  0.00999839,  0.00999864,\n",
       "        0.00999833,  0.00999869,  0.0099976 ,  0.00999885,  0.00999771,\n",
       "        0.00999858,  0.00999885,  0.00999869,  0.00999762,  0.00999844,\n",
       "        0.009997  ,  0.00999982,  0.00770638,  0.00999924,  0.00999797,\n",
       "        0.00999988,  0.00999962,  0.0099997 ,  0.00999908,  0.0099998 ,\n",
       "        0.00999795,  0.00999979,  0.00999982,  0.00999816,  0.00999954,\n",
       "       -0.00999923,  0.00830897,  0.00999935,  0.00977392,  0.00999955,\n",
       "        0.00999932,  0.00999936, -0.00999966,  0.00999975, -0.00999726,\n",
       "        0.00999869,  0.00999947,  0.00999819, -0.00999921,  0.00997581,\n",
       "       -0.009999  ,  0.00999562,  0.00996264,  0.00995772,  0.00993204,\n",
       "        0.00999131,  0.00999245,  0.00998182,  0.00998231,  0.00998928,\n",
       "        0.00952014,  0.00997722,  0.00999519,  0.00998105,  0.00999073,\n",
       "        0.0099712 ,  0.00958762,  0.00999135,  0.0099711 ,  0.00998292,\n",
       "        0.00985869,  0.00998721,  0.00999513,  0.00998671,  0.00993791,\n",
       "        0.00998669,  0.00999663,  0.00998453,  0.00999508,  0.00983149,\n",
       "        0.00999545,  0.00999956,  0.00999971,  0.00999926,  0.00999966,\n",
       "        0.00999983,  0.0099998 ,  0.0099996 ,  0.00999979,  0.00999959,\n",
       "        0.00999965,  0.00999985,  0.00999973,  0.00999978,  0.00999929,\n",
       "        0.00999964,  0.00999944,  0.0099999 ,  0.00999942,  0.00999984,\n",
       "        0.00999947,  0.00999934,  0.00999921,  0.00999972,  0.00999859,\n",
       "        0.0099999 ,  0.00999996,  0.00999979,  0.00999847,  0.00999897,\n",
       "        0.0099959 ,  0.0074737 ,  0.00990076,  0.00996887,  0.00998194,\n",
       "        0.00988703,  0.00999431,  0.00996392,  0.00975727,  0.00999399,\n",
       "        0.00990433,  0.00999702,  0.00987516,  0.0099864 ,  0.00996149,\n",
       "        0.00993812,  0.00998539,  0.00999034,  0.00996593,  0.00990152,\n",
       "        0.00917461,  0.00988259,  0.00998641,  0.00995933,  0.00997104,\n",
       "        0.00983562,  0.00889808,  0.00997255,  0.00995183,  0.00997215,\n",
       "        0.00999286,  0.00196685,  0.00774678,  0.0088813 ,  0.00018068,\n",
       "        0.00154267,  0.00082225,  0.00672837,  0.0087611 , -0.00963384,\n",
       "        0.0077681 ,  0.00933523,  0.00378599,  0.00836559, -0.00458431,\n",
       "        0.00321351,  0.0065495 ,  0.00949571,  0.00815314,  0.00727753,\n",
       "        0.00249048,  0.00330461,  0.00052037,  0.00771137, -0.00752698,\n",
       "        0.00893332,  0.00804167,  0.00675413, -0.00684911,  0.00511821,\n",
       "       -0.00916766,  0.01      ,  0.01      ,  0.01      ,  0.01      ,\n",
       "        0.01      ,  0.01      ,  0.01      , -0.01      ,  0.01      ,\n",
       "        0.01      ,  0.01      ,  0.01      ,  0.01      ,  0.01      ,\n",
       "        0.01      ,  0.01      ,  0.01      ,  0.01      ,  0.01      ,\n",
       "        0.01      ,  0.01      ,  0.01      ,  0.01      ,  0.01      ,\n",
       "        0.01      ,  0.01      ,  0.01      ,  0.01      ,  0.01      ,\n",
       "        0.01      ,  0.01      ,  0.01      ,  0.01      ,  0.01      ,\n",
       "        0.01      ,  0.01      ,  0.01      ,  0.01      ,  0.01      ,\n",
       "        0.01      ,  0.01      ,  0.01      ,  0.01      ,  0.01      ,\n",
       "        0.01      ,  0.01      ,  0.01      ,  0.01      ,  0.01      ,\n",
       "        0.01      ,  0.01      ,  0.01      ,  0.01      ,  0.01      ,\n",
       "        0.01      ,  0.01      ,  0.01      ,  0.01      ,  0.01      ,\n",
       "        0.01      ,  0.00707071,  0.00970137])"
      ]
     },
     "execution_count": 45,
     "metadata": {},
     "output_type": "execute_result"
    }
   ],
   "source": [
    "train_env.reset()"
   ]
  },
  {
   "cell_type": "code",
   "execution_count": 12,
   "id": "3b79c08b",
   "metadata": {},
   "outputs": [
    {
     "ename": "NameError",
     "evalue": "name 'train_envtwo' is not defined",
     "output_type": "error",
     "traceback": [
      "\u001b[1;31m---------------------------------------------------------------------------\u001b[0m",
      "\u001b[1;31mNameError\u001b[0m                                 Traceback (most recent call last)",
      "\u001b[1;32m~\\AppData\\Local\\Temp/ipykernel_11584/1548692510.py\u001b[0m in \u001b[0;36m<module>\u001b[1;34m\u001b[0m\n\u001b[0;32m      1\u001b[0m \u001b[0ms\u001b[0m \u001b[1;33m=\u001b[0m \u001b[0mtrain_env\u001b[0m\u001b[1;33m.\u001b[0m\u001b[0mreset\u001b[0m\u001b[1;33m(\u001b[0m\u001b[1;33m)\u001b[0m\u001b[1;33m\u001b[0m\u001b[1;33m\u001b[0m\u001b[0m\n\u001b[1;32m----> 2\u001b[1;33m \u001b[0mt\u001b[0m \u001b[1;33m=\u001b[0m \u001b[0mtrain_envtwo\u001b[0m\u001b[1;33m.\u001b[0m\u001b[0mreset\u001b[0m\u001b[1;33m(\u001b[0m\u001b[1;33m)\u001b[0m\u001b[1;33m\u001b[0m\u001b[1;33m\u001b[0m\u001b[0m\n\u001b[0m",
      "\u001b[1;31mNameError\u001b[0m: name 'train_envtwo' is not defined"
     ]
    }
   ],
   "source": [
    "s = train_env.reset()\n",
    "t = train_envtwo.reset()"
   ]
  },
  {
   "cell_type": "code",
   "execution_count": 49,
   "id": "ec16fb0d",
   "metadata": {},
   "outputs": [
    {
     "ename": "TypeError",
     "evalue": "super(type, obj): obj must be an instance or subtype of type",
     "output_type": "error",
     "traceback": [
      "\u001b[1;31m---------------------------------------------------------------------------\u001b[0m",
      "\u001b[1;31mTypeError\u001b[0m                                 Traceback (most recent call last)",
      "\u001b[1;32m~\\AppData\\Local\\Temp/ipykernel_10892/2417795126.py\u001b[0m in \u001b[0;36m<module>\u001b[1;34m\u001b[0m\n\u001b[0;32m      1\u001b[0m \u001b[0menv\u001b[0m \u001b[1;33m=\u001b[0m \u001b[0mStockEnvTrain\u001b[0m\u001b[1;33m(\u001b[0m\u001b[0mindata\u001b[0m\u001b[1;33m,\u001b[0m \u001b[0mindata\u001b[0m\u001b[1;33m,\u001b[0m\u001b[0mstock_dim\u001b[0m\u001b[1;33m=\u001b[0m\u001b[1;36m30\u001b[0m\u001b[1;33m,\u001b[0m \u001b[0mconfig\u001b[0m\u001b[1;33m=\u001b[0m\u001b[0mEnvConfig\u001b[0m\u001b[1;33m)\u001b[0m\u001b[1;33m\u001b[0m\u001b[1;33m\u001b[0m\u001b[0m\n\u001b[1;32m----> 2\u001b[1;33m \u001b[0mtrain_env\u001b[0m \u001b[1;33m=\u001b[0m \u001b[0mNormalizedEnv\u001b[0m\u001b[1;33m(\u001b[0m\u001b[0menv\u001b[0m\u001b[1;33m)\u001b[0m\u001b[1;33m\u001b[0m\u001b[1;33m\u001b[0m\u001b[0m\n\u001b[0m",
      "\u001b[1;32m~\\Desktop\\Code\\Finance\\Bot\\FundSimulator\\agents\\wrappers\\ObservationWrapper.py\u001b[0m in \u001b[0;36m__init__\u001b[1;34m(self, env, ob, ret, clipob, cliprew, gamma, epsilon)\u001b[0m\n\u001b[0;32m     34\u001b[0m \u001b[1;32mclass\u001b[0m \u001b[0mNormalizedEnv\u001b[0m\u001b[1;33m(\u001b[0m\u001b[0mgym\u001b[0m\u001b[1;33m.\u001b[0m\u001b[0mcore\u001b[0m\u001b[1;33m.\u001b[0m\u001b[0mWrapper\u001b[0m\u001b[1;33m)\u001b[0m\u001b[1;33m:\u001b[0m\u001b[1;33m\u001b[0m\u001b[1;33m\u001b[0m\u001b[0m\n\u001b[0;32m     35\u001b[0m     \u001b[1;32mdef\u001b[0m \u001b[0m__init__\u001b[0m\u001b[1;33m(\u001b[0m\u001b[0mself\u001b[0m\u001b[1;33m,\u001b[0m \u001b[0menv\u001b[0m\u001b[1;33m,\u001b[0m \u001b[0mob\u001b[0m\u001b[1;33m=\u001b[0m\u001b[1;32mTrue\u001b[0m\u001b[1;33m,\u001b[0m \u001b[0mret\u001b[0m\u001b[1;33m=\u001b[0m\u001b[1;32mTrue\u001b[0m\u001b[1;33m,\u001b[0m \u001b[0mclipob\u001b[0m\u001b[1;33m=\u001b[0m\u001b[1;36m10.\u001b[0m\u001b[1;33m,\u001b[0m \u001b[0mcliprew\u001b[0m\u001b[1;33m=\u001b[0m\u001b[1;36m10.\u001b[0m\u001b[1;33m,\u001b[0m \u001b[0mgamma\u001b[0m\u001b[1;33m=\u001b[0m\u001b[1;36m0.99\u001b[0m\u001b[1;33m,\u001b[0m \u001b[0mepsilon\u001b[0m\u001b[1;33m=\u001b[0m\u001b[1;36m1e-8\u001b[0m\u001b[1;33m)\u001b[0m\u001b[1;33m:\u001b[0m\u001b[1;33m\u001b[0m\u001b[1;33m\u001b[0m\u001b[0m\n\u001b[1;32m---> 36\u001b[1;33m         \u001b[0msuper\u001b[0m\u001b[1;33m(\u001b[0m\u001b[0mNormalizedEnv\u001b[0m\u001b[1;33m,\u001b[0m \u001b[0mself\u001b[0m\u001b[1;33m)\u001b[0m\u001b[1;33m.\u001b[0m\u001b[0m__init__\u001b[0m\u001b[1;33m(\u001b[0m\u001b[0menv\u001b[0m\u001b[1;33m)\u001b[0m\u001b[1;33m\u001b[0m\u001b[1;33m\u001b[0m\u001b[0m\n\u001b[0m\u001b[0;32m     37\u001b[0m         \u001b[0mself\u001b[0m\u001b[1;33m.\u001b[0m\u001b[0mob_rms\u001b[0m \u001b[1;33m=\u001b[0m \u001b[0mRunningMeanStd\u001b[0m\u001b[1;33m(\u001b[0m\u001b[0mshape\u001b[0m\u001b[1;33m=\u001b[0m\u001b[0mself\u001b[0m\u001b[1;33m.\u001b[0m\u001b[0mobservation_space\u001b[0m\u001b[1;33m.\u001b[0m\u001b[0mshape\u001b[0m\u001b[1;33m)\u001b[0m \u001b[1;32mif\u001b[0m \u001b[0mob\u001b[0m \u001b[1;32melse\u001b[0m \u001b[1;32mNone\u001b[0m\u001b[1;33m\u001b[0m\u001b[1;33m\u001b[0m\u001b[0m\n\u001b[0;32m     38\u001b[0m         \u001b[0mself\u001b[0m\u001b[1;33m.\u001b[0m\u001b[0mret_rms\u001b[0m \u001b[1;33m=\u001b[0m \u001b[0mRunningMeanStd\u001b[0m\u001b[1;33m(\u001b[0m\u001b[0mshape\u001b[0m\u001b[1;33m=\u001b[0m\u001b[1;33m(\u001b[0m\u001b[1;36m1\u001b[0m\u001b[1;33m,\u001b[0m\u001b[1;33m)\u001b[0m\u001b[1;33m)\u001b[0m \u001b[1;32mif\u001b[0m \u001b[0mret\u001b[0m \u001b[1;32melse\u001b[0m \u001b[1;32mNone\u001b[0m\u001b[1;33m\u001b[0m\u001b[1;33m\u001b[0m\u001b[0m\n",
      "\u001b[1;31mTypeError\u001b[0m: super(type, obj): obj must be an instance or subtype of type"
     ]
    }
   ],
   "source": [
    "env = StockEnvTrain(indata, indata,stock_dim=30, config=EnvConfig)\n",
    "train_env = NormalizedEnv(env)"
   ]
  },
  {
   "cell_type": "code",
   "execution_count": 101,
   "id": "499f4df3",
   "metadata": {},
   "outputs": [],
   "source": [
    "trades = pd.read_csv('results/trade_memory_ppo.csv')"
   ]
  },
  {
   "cell_type": "markdown",
   "id": "e98b3e6a",
   "metadata": {},
   "source": [
    "# Own agent"
   ]
  },
  {
   "cell_type": "code",
   "execution_count": 16,
   "id": "3606712a",
   "metadata": {},
   "outputs": [],
   "source": [
    "model_kwargs = {\n",
    "    'learning_rate':0.0027,\n",
    "    'batch_size':64,\n",
    "    'gamma':0.99,\n",
    "    'seed':42069,\n",
    "    'net_dimension':256, # Change this dimension to be more dynamic\n",
    "    'target_step':69420,\n",
    "    'eval_time_gap':10\n",
    "}\n",
    "model_name = 'jim-ppo'\n",
    "model_type = 'ppo'"
   ]
  },
  {
   "cell_type": "code",
   "execution_count": 17,
   "id": "630f0fb8",
   "metadata": {},
   "outputs": [],
   "source": [
    "agent_builder = DRLAgent(model_name,model_type, StockEnvTrain, \n",
    "                         StockEnvValidation, \n",
    "                         StockEnvTrade, indata, EnvConfig)\n"
   ]
  },
  {
   "cell_type": "code",
   "execution_count": 18,
   "id": "29d0b911",
   "metadata": {},
   "outputs": [],
   "source": [
    "#model = agent_builder.get_model('ppo', model_kwargs)"
   ]
  },
  {
   "cell_type": "markdown",
   "id": "489ca633",
   "metadata": {},
   "source": [
    "- [ ] Change the timesteps version make sure it does reiterate with same agent\n",
    "- [x] Normalize Inputs for the model\n",
    "- [ ] Normalize reward function\n",
    "- [ ] Vectorized paralel envs\n",
    "- [x] start trading from 2016\n",
    "- [ ] Add PBT to evaluator\n",
    "- [ ] Change neet dimension problem here you cannot make it another than 160 "
   ]
  },
  {
   "cell_type": "code",
   "execution_count": null,
   "id": "22623614",
   "metadata": {},
   "outputs": [
    {
     "name": "stdout",
     "output_type": "stream",
     "text": [
      "============================================\n",
      "======Model training from:  2010-01-01 to  2016-01-04\n",
      "======Training Agents with the population of 1========\n",
      "| Remove cwd: ./trained_models\n",
      "Using device:  cpu\n",
      "################################################################################\n",
      "ID     Step    maxR |    avgR   stdR   avgS  stdS |    expR   objC   etc.\n",
      "Steps  69415\n",
      "Buf len 69415 Batch size:  64\n",
      "Update times 8676\n",
      "0  6.94e+04    1.60 |    1.60    2.1     62     0 |   -0.02   0.00  -0.14  -0.50\n",
      "| UsedTime:     629 | SavedDir: ./trained_models | Total Step: 69415\n",
      "======jim-ppo Validation from:  2016-01-04 to  2016-04-04\n",
      "======Recurrent PPO Validation from:  2016-01-04 to  2016-04-05\n",
      "Total reward at validation for Reccurent PPO 0\n",
      "================================================================================\n",
      "Best params,  {'learning_rate': 0.002, 'batch_size': 8, 'gamma': 0.95, 'seed': 42, 'net_dimension': 160, 'target_step': 160, 'eval_time_gap': 10}\n",
      "================================================================================\n",
      "======Trading from:  2016-04-05 to  2016-07-05\n",
      "Using device:  cpu\n",
      "Saving to  results/account_value_trade_main_jim-ppo.csv\n",
      "previous_total_asset:1000000\n",
      "end_total_asset:999730.3094469146\n",
      "total_asset_change:-269.69055308541283\n",
      "Total cash is: 13.74466027904553$ and total holdings in stocks are 999716.5647866356$\n",
      "Buy & Hold strategy with previous total asset:  1027898.381899113\n",
      "Total Cost:  1032.129064471957\n",
      "Sum of rewards  -803357.2624092394\n",
      "Total trades:  388\n",
      "Total buy orders are 262 and total sell orders are 126\n",
      "Total days in turbulance:  0\n",
      "Sharpe:  0.006982868657648126\n",
      "Test Finished!\n",
      "episode_return % -0.00029999999999996696\n",
      "============================================\n",
      "======Model training from:  2010-01-01 to  2016-04-05\n",
      "======Training Agents with the population of 1========\n",
      "| Remove cwd: ./trained_models\n",
      "Using device:  cpu\n",
      "################################################################################\n",
      "ID     Step    maxR |    avgR   stdR   avgS  stdS |    expR   objC   etc.\n",
      "Steps  69169\n",
      "Buf len 69169 Batch size:  64\n",
      "Update times 8646\n",
      "0  6.92e+04   -4.76 |   -4.76    2.3     62     0 |   -0.01   0.00  -0.08  -0.50\n",
      "| UsedTime:     619 | SavedDir: ./trained_models | Total Step: 69169\n",
      "======jim-ppo Validation from:  2016-04-05 to  2016-07-01\n",
      "======Recurrent PPO Validation from:  2016-04-05 to  2016-07-05\n",
      "Total reward at validation for Reccurent PPO 0\n",
      "================================================================================\n",
      "Best params,  {'learning_rate': 0.002, 'batch_size': 8, 'gamma': 0.95, 'seed': 42, 'net_dimension': 160, 'target_step': 160, 'eval_time_gap': 10}\n",
      "================================================================================\n",
      "======Trading from:  2016-07-05 to  2016-10-03\n",
      "Using device:  cpu\n",
      "Saving to  results/account_value_trade_main_jim-ppo.csv\n",
      "previous_total_asset:999730.3094469146\n",
      "end_total_asset:1021582.6188926673\n",
      "total_asset_change:21852.309445752762\n",
      "Total cash is: 4.583873737177623$ and total holdings in stocks are 1021578.0350189302$\n",
      "Buy & Hold strategy with previous total asset:  1037724.5990117203\n",
      "Total Cost:  788.5654282527479\n",
      "Sum of rewards  -731457.3778571596\n",
      "Total trades:  172\n",
      "Total buy orders are 95 and total sell orders are 77\n",
      "Total days in turbulance:  0\n",
      "Sharpe:  0.1263211432088994\n",
      "Test Finished!\n",
      "episode_return % 0.021600000000000064\n",
      "============================================\n",
      "======Model training from:  2010-01-01 to  2016-07-05\n",
      "======Training Agents with the population of 1========\n",
      "| Remove cwd: ./trained_models\n",
      "Using device:  cpu\n",
      "################################################################################\n",
      "ID     Step    maxR |    avgR   stdR   avgS  stdS |    expR   objC   etc.\n",
      "Steps  68671\n",
      "Buf len 68671 Batch size:  64\n",
      "Update times 8583\n",
      "0  6.87e+04   -4.95 |   -4.95    2.0     62     0 |   -0.02   0.00   0.00  -0.51\n",
      "| UsedTime:     645 | SavedDir: ./trained_models | Total Step: 68671\n",
      "======jim-ppo Validation from:  2016-07-05 to  2016-09-30\n",
      "======Recurrent PPO Validation from:  2016-07-05 to  2016-10-03\n",
      "Total reward at validation for Reccurent PPO 0\n",
      "================================================================================\n",
      "Best params,  {'learning_rate': 0.002, 'batch_size': 8, 'gamma': 0.95, 'seed': 42, 'net_dimension': 160, 'target_step': 160, 'eval_time_gap': 10}\n",
      "================================================================================\n",
      "======Trading from:  2016-10-03 to  2017-01-03\n",
      "Using device:  cpu\n",
      "Saving to  results/account_value_trade_main_jim-ppo.csv\n",
      "previous_total_asset:1021582.6188926673\n",
      "end_total_asset:1074398.202855934\n",
      "total_asset_change:52815.583963266574\n",
      "Total cash is: 17.409074073498076$ and total holdings in stocks are 1074380.7937818605$\n",
      "Buy & Hold strategy with previous total asset:  1091193.5977322485\n",
      "Total Cost:  2001.1642154289955\n",
      "Sum of rewards  -471989.2470109761\n",
      "Total trades:  560\n",
      "Total buy orders are 239 and total sell orders are 321\n",
      "Total days in turbulance:  0\n",
      "Sharpe:  0.30373666003825106\n",
      "Test Finished!\n",
      "episode_return % 0.07440000000000002\n",
      "============================================\n",
      "======Model training from:  2010-01-01 to  2016-10-03\n",
      "======Training Agents with the population of 1========\n",
      "| Remove cwd: ./trained_models\n",
      "Using device:  cpu\n",
      "################################################################################\n",
      "ID     Step    maxR |    avgR   stdR   avgS  stdS |    expR   objC   etc.\n",
      "Steps  67921\n",
      "Buf len 67921 Batch size:  64\n",
      "Update times 8490\n",
      "0  6.79e+04   -0.27 |   -0.27    2.3     62     0 |   -0.02   0.00  -0.18  -0.50\n",
      "| UsedTime:     678 | SavedDir: ./trained_models | Total Step: 67921\n",
      "======jim-ppo Validation from:  2016-10-03 to  2016-12-30\n",
      "======Recurrent PPO Validation from:  2016-10-03 to  2017-01-03\n",
      "Total reward at validation for Reccurent PPO 0\n",
      "================================================================================\n",
      "Best params,  {'learning_rate': 0.002, 'batch_size': 8, 'gamma': 0.95, 'seed': 42, 'net_dimension': 160, 'target_step': 160, 'eval_time_gap': 10}\n",
      "================================================================================\n",
      "======Trading from:  2017-01-03 to  2017-04-04\n",
      "Using device:  cpu\n",
      "Saving to  results/account_value_trade_main_jim-ppo.csv\n",
      "previous_total_asset:1074398.202855934\n",
      "end_total_asset:1149779.520548547\n",
      "total_asset_change:75381.317692613\n",
      "Total cash is: 9.416130885016173$ and total holdings in stocks are 1149770.104417662$\n",
      "Buy & Hold strategy with previous total asset:  1123163.541808803\n",
      "Total Cost:  734.7181466098498\n",
      "Sum of rewards  945327.8925928094\n",
      "Total trades:  192\n",
      "Total buy orders are 128 and total sell orders are 64\n",
      "Total days in turbulance:  0\n",
      "Sharpe:  0.37237661495705837\n",
      "Test Finished!\n",
      "episode_return % 0.14979999999999993\n",
      "============================================\n",
      "======Model training from:  2010-01-01 to  2017-01-03\n",
      "======Training Agents with the population of 1========\n",
      "| Remove cwd: ./trained_models\n",
      "Using device:  cpu\n",
      "################################################################################\n",
      "ID     Step    maxR |    avgR   stdR   avgS  stdS |    expR   objC   etc.\n",
      "Steps  68680\n",
      "Buf len 68680 Batch size:  64\n",
      "Update times 8585\n",
      "0  6.87e+04   -5.03 |   -5.03    3.3     62     0 |   -0.02   0.00   0.02  -0.50\n",
      "| UsedTime:     631 | SavedDir: ./trained_models | Total Step: 68680\n",
      "======jim-ppo Validation from:  2017-01-03 to  2017-04-03\n",
      "======Recurrent PPO Validation from:  2017-01-03 to  2017-04-04\n",
      "Total reward at validation for Reccurent PPO 0\n",
      "================================================================================\n",
      "Best params,  {'learning_rate': 0.002, 'batch_size': 8, 'gamma': 0.95, 'seed': 42, 'net_dimension': 160, 'target_step': 160, 'eval_time_gap': 10}\n",
      "================================================================================\n",
      "======Trading from:  2017-04-04 to  2017-07-05\n",
      "Using device:  cpu\n",
      "Saving to  results/account_value_trade_main_jim-ppo.csv\n",
      "previous_total_asset:1149779.520548547\n",
      "end_total_asset:1204909.540963814\n",
      "total_asset_change:55130.020415266976\n",
      "Total cash is: 5.623578536540023$ and total holdings in stocks are 1204903.9173852773$\n",
      "Buy & Hold strategy with previous total asset:  1188311.1464429954\n",
      "Total Cost:  752.2381089006248\n",
      "Sum of rewards  305782.4920896089\n",
      "Total trades:  164\n",
      "Total buy orders are 90 and total sell orders are 74\n",
      "Total days in turbulance:  0\n",
      "Sharpe:  0.22739396892499777\n",
      "Test Finished!\n",
      "episode_return % 0.20490000000000008\n",
      "============================================\n",
      "======Model training from:  2010-01-01 to  2017-04-04\n",
      "======Training Agents with the population of 1========\n",
      "| Remove cwd: ./trained_models\n",
      "Using device:  cpu\n",
      "################################################################################\n"
     ]
    },
    {
     "name": "stdout",
     "output_type": "stream",
     "text": [
      "ID     Step    maxR |    avgR   stdR   avgS  stdS |    expR   objC   etc.\n",
      "Steps  69313\n",
      "Buf len 69313 Batch size:  64\n",
      "Update times 8664\n",
      "0  6.93e+04   -1.01 |   -1.01    4.6     62     0 |   -0.02   0.00  -0.11  -0.50\n",
      "| UsedTime:     779 | SavedDir: ./trained_models | Total Step: 69313\n",
      "======jim-ppo Validation from:  2017-04-04 to  2017-07-03\n",
      "======Recurrent PPO Validation from:  2017-04-04 to  2017-07-05\n",
      "Total reward at validation for Reccurent PPO 0\n",
      "================================================================================\n",
      "Best params,  {'learning_rate': 0.002, 'batch_size': 8, 'gamma': 0.95, 'seed': 42, 'net_dimension': 160, 'target_step': 160, 'eval_time_gap': 10}\n",
      "================================================================================\n",
      "======Trading from:  2017-07-05 to  2017-10-03\n",
      "Using device:  cpu\n",
      "Saving to  results/account_value_trade_main_jim-ppo.csv\n",
      "previous_total_asset:1204909.540963814\n",
      "end_total_asset:1296931.684103397\n",
      "total_asset_change:92022.14313958306\n",
      "Total cash is: 27.26185782180619$ and total holdings in stocks are 1296904.422245575$\n",
      "Buy & Hold strategy with previous total asset:  1270428.5072610197\n",
      "Total Cost:  2421.5097029555177\n",
      "Sum of rewards  1049729.0639795857\n",
      "Total trades:  418\n",
      "Total buy orders are 231 and total sell orders are 187\n",
      "Total days in turbulance:  0\n",
      "Sharpe:  0.4770634542061681\n",
      "Test Finished!\n",
      "episode_return % 0.29689999999999994\n",
      "============================================\n",
      "======Model training from:  2010-01-01 to  2017-07-05\n",
      "======Training Agents with the population of 1========\n",
      "| Remove cwd: ./trained_models\n",
      "Using device:  cpu\n",
      "################################################################################\n",
      "ID     Step    maxR |    avgR   stdR   avgS  stdS |    expR   objC   etc.\n",
      "Steps  67933\n",
      "Buf len 67933 Batch size:  64\n",
      "Update times 8491\n",
      "0  6.79e+04   -4.51 |   -4.51    2.5     62     0 |   -0.02   0.00  -0.07  -0.50\n",
      "| UsedTime:     801 | SavedDir: ./trained_models | Total Step: 67933\n",
      "======jim-ppo Validation from:  2017-07-05 to  2017-10-02\n",
      "======Recurrent PPO Validation from:  2017-07-05 to  2017-10-03\n",
      "Total reward at validation for Reccurent PPO 0\n",
      "================================================================================\n",
      "Best params,  {'learning_rate': 0.002, 'batch_size': 8, 'gamma': 0.95, 'seed': 42, 'net_dimension': 160, 'target_step': 160, 'eval_time_gap': 10}\n",
      "================================================================================\n",
      "======Trading from:  2017-10-03 to  2018-01-03\n",
      "Using device:  cpu\n",
      "Saving to  results/account_value_trade_main_jim-ppo.csv\n",
      "previous_total_asset:1296931.684103397\n",
      "end_total_asset:1491565.0096032764\n",
      "total_asset_change:194633.32549987943\n",
      "Total cash is: 23373.991284207154$ and total holdings in stocks are 1468191.0183190692$\n",
      "Buy & Hold strategy with previous total asset:  1423610.8956533095\n",
      "Total Cost:  133.97258516353514\n",
      "Sum of rewards  1396754.1353066633\n",
      "Total trades:  1302\n",
      "Total buy orders are 744 and total sell orders are 558\n",
      "Total days in turbulance:  0\n",
      "Sharpe:  1.008364490756375\n",
      "Test Finished!\n",
      "episode_return % 0.49160000000000004\n",
      "============================================\n",
      "======Model training from:  2010-01-01 to  2017-10-03\n",
      "======Training Agents with the population of 1========\n",
      "| Remove cwd: ./trained_models\n",
      "Using device:  cpu\n",
      "################################################################################\n",
      "ID     Step    maxR |    avgR   stdR   avgS  stdS |    expR   objC   etc.\n",
      "Steps  68251\n",
      "Buf len 68251 Batch size:  64\n",
      "Update times 8531\n",
      "0  6.83e+04   -4.79 |   -4.79    3.4     62     0 |   -0.02   0.00  -0.00  -0.50\n",
      "| UsedTime:     644 | SavedDir: ./trained_models | Total Step: 68251\n",
      "======jim-ppo Validation from:  2017-10-03 to  2018-01-02\n",
      "======Recurrent PPO Validation from:  2017-10-03 to  2018-01-03\n",
      "Total reward at validation for Reccurent PPO 0\n",
      "================================================================================\n",
      "Best params,  {'learning_rate': 0.002, 'batch_size': 8, 'gamma': 0.95, 'seed': 42, 'net_dimension': 160, 'target_step': 160, 'eval_time_gap': 10}\n",
      "================================================================================\n",
      "======Trading from:  2018-01-03 to  2018-04-05\n",
      "Using device:  cpu\n",
      "Saving to  results/account_value_trade_main_jim-ppo.csv\n",
      "previous_total_asset:1491565.0096032764\n",
      "end_total_asset:1445211.7477765016\n",
      "total_asset_change:-46353.261826774804\n",
      "Total cash is: 29.658920033658852$ and total holdings in stocks are 1445182.088856468$\n",
      "Buy & Hold strategy with previous total asset:  1453218.6312758352\n",
      "Total Cost:  135.02177192933308\n",
      "Sum of rewards  -1340.3381814328022\n",
      "Total trades:  1019\n",
      "Total buy orders are 544 and total sell orders are 475\n",
      "Total days in turbulance:  0\n",
      "Sharpe:  -0.05321769071732101\n",
      "Test Finished!\n",
      "episode_return % 0.44520000000000004\n",
      "============================================\n",
      "======Model training from:  2010-01-01 to  2018-01-03\n",
      "======Training Agents with the population of 1========\n",
      "| Remove cwd: ./trained_models\n",
      "Using device:  cpu\n",
      "################################################################################\n",
      "ID     Step    maxR |    avgR   stdR   avgS  stdS |    expR   objC   etc.\n"
     ]
    }
   ],
   "source": [
    "agent_builder.run_prediction(model_kwargs, total_timesteps=1000)"
   ]
  },
  {
   "cell_type": "code",
   "execution_count": 117,
   "id": "26f13d44",
   "metadata": {},
   "outputs": [
    {
     "data": {
      "text/plain": [
       "640.0"
      ]
     },
     "execution_count": 117,
     "metadata": {},
     "output_type": "execute_result"
    }
   ],
   "source": [
    "2 ** 9 * 1.25"
   ]
  },
  {
   "cell_type": "code",
   "execution_count": null,
   "id": "015c02c3",
   "metadata": {},
   "outputs": [],
   "source": [
    "200 / 1.25"
   ]
  },
  {
   "cell_type": "code",
   "execution_count": 11,
   "id": "d8edf2fe",
   "metadata": {},
   "outputs": [
    {
     "data": {
      "text/plain": [
       "0.4"
      ]
     },
     "execution_count": 11,
     "metadata": {},
     "output_type": "execute_result"
    }
   ],
   "source": [
    "round(0.43,1)"
   ]
  },
  {
   "cell_type": "code",
   "execution_count": null,
   "id": "2be8a468",
   "metadata": {},
   "outputs": [],
   "source": []
  }
 ],
 "metadata": {
  "kernelspec": {
   "display_name": "Python 3 (ipykernel)",
   "language": "python",
   "name": "python3"
  },
  "language_info": {
   "codemirror_mode": {
    "name": "ipython",
    "version": 3
   },
   "file_extension": ".py",
   "mimetype": "text/x-python",
   "name": "python",
   "nbconvert_exporter": "python",
   "pygments_lexer": "ipython3",
   "version": "3.7.11"
  }
 },
 "nbformat": 4,
 "nbformat_minor": 5
}
