{
 "cells": [
  {
   "cell_type": "code",
   "execution_count": 86,
   "id": "f7a861a1",
   "metadata": {},
   "outputs": [
    {
     "name": "stdout",
     "output_type": "stream",
     "text": [
      "The autoreload extension is already loaded. To reload it, use:\n",
      "  %reload_ext autoreload\n"
     ]
    }
   ],
   "source": [
    "import os,sys,inspect\n",
    "module_path = os.path.abspath(os.path.join('..'))\n",
    "if module_path not in sys.path:\n",
    "    sys.path.append(module_path)\n",
    "from datetime import datetime\n",
    "from agents.Base import deepagents, run\n",
    "from agents.BlueAgents import *\n",
    "from data.preprocessing import data_split, get_price, DataProcessor\n",
    "import pandas as pd\n",
    "import numpy as np\n",
    "from agents.wrappers.ObservationWrapper import NormalizedEnv\n",
    "from stable_baselines3.common.vec_env import DummyVecEnv, VecNormalize\n",
    "from env.EnvStock_train import StockEnvTrain\n",
    "from env.EnvStock_trade import StockEnvTrade\n",
    "from env.EnvStock_val import StockEnvValidation\n",
    "from env.crypto.SingleCryptoEnv import SingleCryptoEnv\n",
    "from stable_baselines3 import A2C, PPO\n",
    "from env.crypto.SingleCryptoEnv import SingleCryptoEnv\n",
    "from env.BaseEnv import EnvConfig\n",
    "from agents.BlueAgents import TrainerConfig\n",
    "\n",
    "%matplotlib inline\n",
    "%load_ext autoreload\n",
    "%autoreload 2"
   ]
  },
  {
   "cell_type": "code",
   "execution_count": 87,
   "id": "168879b2",
   "metadata": {},
   "outputs": [],
   "source": [
    "df = pd.read_csv('../datasets/downew30.csv')\n",
    "cwd = '../AgentResult'"
   ]
  },
  {
   "cell_type": "code",
   "execution_count": 88,
   "id": "624553b5",
   "metadata": {},
   "outputs": [],
   "source": [
    "indata = data_split(df, '2010-01-01','2021-12-25')"
   ]
  },
  {
   "cell_type": "markdown",
   "id": "e98b3e6a",
   "metadata": {},
   "source": [
    "# Own agent"
   ]
  },
  {
   "cell_type": "markdown",
   "id": "b4fab81e",
   "metadata": {},
   "source": [
    "1. Winner params\n",
    "'''\n",
    "    model_kwargs = {\n",
    "        'learning_rate':0.0027,\n",
    "        'batch_size':64,\n",
    "        'gamma':0.99,\n",
    "        'seed':42069,\n",
    "        'net_dimension':256, # Change this dimension to be more dynamic\n",
    "        'target_step':5000,\n",
    "        'eval_time_gap':10\n",
    "    }\n",
    "\n",
    "    model_name = 'jim-ppo-v2'\n",
    "    model_type = 'ppo'\n",
    "\n",
    "    with indicators without open high low close and without the episodic training\n",
    "    \n",
    "    rebalance_window = 63\n",
    "    validation_window = 63\n",
    "'''"
   ]
  },
  {
   "cell_type": "code",
   "execution_count": 104,
   "id": "3606712a",
   "metadata": {},
   "outputs": [],
   "source": [
    "model_kwargs = {\n",
    "    'learning_rate':0.0005,\n",
    "    'batch_size':16,\n",
    "    'gamma':0.95,\n",
    "    'seed':6931,\n",
    "    'net_dimension':1024, \n",
    "    'target_step':42500,\n",
    "    'eval_time_gap':11,\n",
    "    \"episode\":5\n",
    "}\n",
    "model_name = 'jim-ppo'\n",
    "model_type = 'ppo'\n",
    "\n",
    "tconfig = TrainerConfig(dataset_version = 'DOW30', population = 5, normalize_env=True, rebalance_window=126, validation_window=126)"
   ]
  },
  {
   "cell_type": "code",
   "execution_count": 105,
   "id": "630f0fb8",
   "metadata": {},
   "outputs": [],
   "source": [
    "agent_builder = DRLAgent(model_name ,model_type, StockEnvTrain, \n",
    "                         StockEnvValidation, \n",
    "                         StockEnvTrade, indata, EnvConfig, model_kwargs, tconfig)\n"
   ]
  },
  {
   "cell_type": "code",
   "execution_count": 101,
   "id": "29d0b911",
   "metadata": {},
   "outputs": [],
   "source": [
    "#model = agent_builder.get_model('ppo', model_kwargs)"
   ]
  },
  {
   "cell_type": "markdown",
   "id": "489ca633",
   "metadata": {},
   "source": [
    "- [x] Change the timesteps version make sure it does reiterate with same agent\n",
    "- [x] Normalize Inputs for the model\n",
    "- [x] Normalize reward function\n",
    "- [ ] Vectorized paralel envs\n",
    "- [x] start trading from 2016\n",
    "- [x] Add PBT\n",
    "- [x] Change neet dimension problem here you cannot make it another than 160 \n",
    "- [x] Create summary write for tensorboard\n",
    "- [ ] Input dictionary\n",
    "- [ ] Auxilary Loss\n",
    "- [ ] LR Decay\n",
    "- [ ] Stock Randomization (Automatic Domain Randomization)\n",
    "- [ ] Implement shared layer and seperate networks for RNN's\n",
    "- [x] **CHANGE TRAINGIN PROCESS WHERE IT CREATES TRAJECTORIES WITH THE NEW UPDATED POLCIY**\n",
    "- [ ] Implement Early stopping\n",
    "- [ ] Add time-frame to data /check whats added\n",
    "- [ ] Training with giving a stocks information together not indicator based style\n",
    "- [ ] Decision Transformer"
   ]
  },
  {
   "cell_type": "code",
   "execution_count": 102,
   "id": "b931086d",
   "metadata": {},
   "outputs": [
    {
     "name": "stdout",
     "output_type": "stream",
     "text": [
      "============================================\n",
      "======Model training from:  2010-01-01 to  2016-01-04\n",
      "| Remove cwd: ./trained_models\n",
      "Using device:  cpu\n",
      "################################################################################\n",
      "ID     Step    maxR |    avgR   stdR   avgS  stdS |    expR   objC   etc.\n"
     ]
    },
    {
     "name": "stderr",
     "output_type": "stream",
     "text": [
      "\r",
      "  0%|                                                                                          | 0/266 [00:00<?, ?it/s]"
     ]
    },
    {
     "name": "stdout",
     "output_type": "stream",
     "text": [
      "0  1.51e+03    2.18 |    2.18    3.0    125     0 |   -0.04   0.03   0.06  -0.50\n"
     ]
    },
    {
     "name": "stderr",
     "output_type": "stream",
     "text": [
      "\r",
      "  0%|▎                                                                               | 1/266 [01:25<6:19:00, 85.81s/it]"
     ]
    },
    {
     "name": "stdout",
     "output_type": "stream",
     "text": [
      "0  3.02e+03    2.18 |   -1.74    0.1    125     0 |   -0.00   0.01   0.26  -0.50\n"
     ]
    },
    {
     "name": "stderr",
     "output_type": "stream",
     "text": [
      "\r",
      "  1%|▌                                                                               | 2/266 [02:48<6:10:22, 84.18s/it]"
     ]
    },
    {
     "name": "stdout",
     "output_type": "stream",
     "text": [
      "0  4.53e+03    2.18 |   -0.61    0.0    125     0 |   -0.01   0.00   0.46  -0.50\n"
     ]
    },
    {
     "name": "stderr",
     "output_type": "stream",
     "text": [
      "\r",
      "  1%|▉                                                                               | 3/266 [04:17<6:17:05, 86.03s/it]"
     ]
    },
    {
     "name": "stdout",
     "output_type": "stream",
     "text": [
      "0  6.03e+03    2.18 |   -0.04    0.0    125     0 |   -0.01   0.00   0.37  -0.50\n"
     ]
    },
    {
     "name": "stderr",
     "output_type": "stream",
     "text": [
      "\r",
      "  2%|█▏                                                                              | 4/266 [05:47<6:23:22, 87.80s/it]"
     ]
    },
    {
     "name": "stdout",
     "output_type": "stream",
     "text": [
      "0  7.54e+03    2.18 |   -6.20    0.7    125     0 |   -0.01   0.00   0.46  -0.50\n"
     ]
    },
    {
     "name": "stderr",
     "output_type": "stream",
     "text": [
      "\r",
      "  2%|█▌                                                                              | 5/266 [07:16<6:23:38, 88.20s/it]"
     ]
    },
    {
     "name": "stdout",
     "output_type": "stream",
     "text": [
      "0  9.04e+03    2.18 |    0.67    0.0    125     0 |   -0.02   0.00   0.36  -0.50\n"
     ]
    },
    {
     "name": "stderr",
     "output_type": "stream",
     "text": [
      "\r",
      "  2%|█▊                                                                              | 6/266 [08:45<6:24:06, 88.64s/it]"
     ]
    },
    {
     "name": "stdout",
     "output_type": "stream",
     "text": [
      "0  1.05e+04    2.18 |    1.12    0.0    125     0 |   -0.02   0.00   0.25  -0.50\n"
     ]
    },
    {
     "name": "stderr",
     "output_type": "stream",
     "text": [
      "\r",
      "  3%|██                                                                              | 7/266 [10:16<6:24:47, 89.14s/it]"
     ]
    },
    {
     "name": "stdout",
     "output_type": "stream",
     "text": [
      "0  1.21e+04    2.18 |    1.10    0.0    125     0 |   -0.02   0.00   0.37  -0.50\n"
     ]
    },
    {
     "name": "stderr",
     "output_type": "stream",
     "text": [
      "\r",
      "  3%|██▍                                                                             | 8/266 [11:46<6:25:05, 89.56s/it]"
     ]
    },
    {
     "name": "stdout",
     "output_type": "stream",
     "text": [
      "0  1.36e+04    2.18 |   -1.34    0.0    125     0 |   -0.02   0.00   0.13  -0.50\n"
     ]
    },
    {
     "name": "stderr",
     "output_type": "stream",
     "text": [
      "\r",
      "  3%|██▋                                                                             | 9/266 [13:16<6:23:56, 89.64s/it]"
     ]
    },
    {
     "name": "stdout",
     "output_type": "stream",
     "text": [
      "0  1.51e+04    2.18 |    1.39    0.0    125     0 |   -0.02   0.00   0.30  -0.50\n"
     ]
    },
    {
     "name": "stderr",
     "output_type": "stream",
     "text": [
      "\r",
      "  4%|██▉                                                                            | 10/266 [14:45<6:22:06, 89.56s/it]"
     ]
    },
    {
     "name": "stdout",
     "output_type": "stream",
     "text": [
      "0  1.66e+04    2.18 |   -0.68    0.0    125     0 |   -0.02   0.00   0.23  -0.50\n"
     ]
    },
    {
     "name": "stderr",
     "output_type": "stream",
     "text": [
      "\r",
      "  4%|███▎                                                                           | 11/266 [16:17<6:23:42, 90.28s/it]"
     ]
    },
    {
     "name": "stdout",
     "output_type": "stream",
     "text": [
      "0  1.81e+04    2.18 |    0.56    0.0    125     0 |   -0.02   0.00   0.20  -0.50\n"
     ]
    },
    {
     "name": "stderr",
     "output_type": "stream",
     "text": [
      "\r",
      "  5%|███▌                                                                           | 12/266 [17:48<6:22:50, 90.43s/it]"
     ]
    },
    {
     "name": "stdout",
     "output_type": "stream",
     "text": [
      "0  1.96e+04    2.18 |   -2.53    0.0    125     0 |   -0.02   0.00   0.41  -0.50\n"
     ]
    },
    {
     "name": "stderr",
     "output_type": "stream",
     "text": [
      "\r",
      "  5%|███▊                                                                           | 13/266 [19:18<6:20:37, 90.27s/it]"
     ]
    },
    {
     "name": "stdout",
     "output_type": "stream",
     "text": [
      "0  2.10e+04    2.18 |   -0.16    0.0    125     0 |   -0.02   0.00   0.43  -0.50\n"
     ]
    },
    {
     "name": "stderr",
     "output_type": "stream",
     "text": [
      "\r",
      "  5%|████▏                                                                          | 14/266 [20:47<6:17:51, 89.97s/it]"
     ]
    },
    {
     "name": "stdout",
     "output_type": "stream",
     "text": [
      "0  2.25e+04    2.18 |   -0.87    0.0    125     0 |   -0.02   0.00   0.28  -0.50\n"
     ]
    },
    {
     "name": "stderr",
     "output_type": "stream",
     "text": [
      "\r",
      "  6%|████▍                                                                          | 15/266 [22:18<6:17:09, 90.16s/it]"
     ]
    },
    {
     "name": "stdout",
     "output_type": "stream",
     "text": [
      "0  2.40e+04    3.53 |    3.53    0.1    125     0 |   -0.02   0.00   0.18  -0.50\n"
     ]
    },
    {
     "name": "stderr",
     "output_type": "stream",
     "text": [
      "\r",
      "  6%|████▊                                                                          | 16/266 [24:03<6:34:03, 94.57s/it]"
     ]
    },
    {
     "name": "stdout",
     "output_type": "stream",
     "text": [
      "0  2.55e+04    3.53 |   -0.66    0.0    125     0 |   -0.01   0.00   0.42  -0.50\n"
     ]
    },
    {
     "name": "stderr",
     "output_type": "stream",
     "text": [
      "\r",
      "  6%|█████                                                                          | 17/266 [25:32<6:26:10, 93.05s/it]"
     ]
    },
    {
     "name": "stdout",
     "output_type": "stream",
     "text": [
      "0  2.70e+04    3.53 |    1.94    0.0    125     0 |   -0.01   0.00   0.22  -0.50\n"
     ]
    },
    {
     "name": "stderr",
     "output_type": "stream",
     "text": [
      "\r",
      "  7%|█████▎                                                                         | 18/266 [27:02<6:20:12, 91.99s/it]"
     ]
    },
    {
     "name": "stdout",
     "output_type": "stream",
     "text": [
      "0  2.85e+04    3.53 |    3.37    0.0    125     0 |   -0.01   0.00   0.79  -0.50\n"
     ]
    },
    {
     "name": "stderr",
     "output_type": "stream",
     "text": [
      "\r",
      "  7%|█████▋                                                                         | 19/266 [28:31<6:15:31, 91.22s/it]"
     ]
    },
    {
     "name": "stdout",
     "output_type": "stream",
     "text": [
      "0  3.00e+04    3.53 |    1.93    0.0    125     0 |   -0.01   0.00   0.26  -0.50\n"
     ]
    },
    {
     "name": "stderr",
     "output_type": "stream",
     "text": [
      "\r",
      "  8%|█████▉                                                                         | 20/266 [30:00<6:11:44, 90.67s/it]"
     ]
    },
    {
     "name": "stdout",
     "output_type": "stream",
     "text": [
      "0  3.15e+04    4.35 |    4.35    0.1    125     0 |   -0.01   0.00   0.26  -0.50\n"
     ]
    },
    {
     "name": "stderr",
     "output_type": "stream",
     "text": [
      "\r",
      "  8%|██████▏                                                                        | 21/266 [31:42<6:23:55, 94.02s/it]"
     ]
    },
    {
     "name": "stdout",
     "output_type": "stream",
     "text": [
      "0  3.30e+04    4.35 |    0.10    0.0    125     0 |   -0.01   0.00   0.44  -0.50\n"
     ]
    },
    {
     "name": "stderr",
     "output_type": "stream",
     "text": [
      "\r",
      "  8%|██████▌                                                                        | 22/266 [33:11<6:15:50, 92.42s/it]"
     ]
    },
    {
     "name": "stdout",
     "output_type": "stream",
     "text": [
      "0  3.45e+04    4.35 |    0.27    0.0    125     0 |   -0.02   0.00   0.42  -0.50\n"
     ]
    },
    {
     "name": "stderr",
     "output_type": "stream",
     "text": [
      "\r",
      "  9%|██████▊                                                                        | 23/266 [34:39<6:08:55, 91.09s/it]"
     ]
    },
    {
     "name": "stdout",
     "output_type": "stream",
     "text": [
      "0  3.60e+04    4.35 |    0.95    0.0    125     0 |   -0.01   0.00   0.26  -0.50\n"
     ]
    },
    {
     "name": "stderr",
     "output_type": "stream",
     "text": [
      "\r",
      "  9%|███████▏                                                                       | 24/266 [36:09<6:06:41, 90.91s/it]"
     ]
    },
    {
     "name": "stdout",
     "output_type": "stream",
     "text": [
      "0  3.74e+04    4.35 |   -2.12    0.0    125     0 |   -0.01   0.00   0.57  -0.50\n"
     ]
    },
    {
     "name": "stderr",
     "output_type": "stream",
     "text": [
      "\r",
      "  9%|███████▍                                                                       | 25/266 [37:39<6:03:14, 90.43s/it]"
     ]
    },
    {
     "name": "stdout",
     "output_type": "stream",
     "text": [
      "0  3.89e+04    4.35 |    3.98    0.0    125     0 |   -0.01   0.00   0.37  -0.50\n"
     ]
    },
    {
     "name": "stderr",
     "output_type": "stream",
     "text": [
      "\r",
      " 10%|███████▋                                                                       | 26/266 [39:08<6:00:09, 90.04s/it]"
     ]
    },
    {
     "name": "stdout",
     "output_type": "stream",
     "text": [
      "0  4.04e+04    4.35 |    3.53    0.0    125     0 |   -0.02   0.00   0.37  -0.50\n"
     ]
    },
    {
     "name": "stderr",
     "output_type": "stream",
     "text": [
      "\r",
      " 10%|████████                                                                       | 27/266 [40:37<5:57:56, 89.86s/it]"
     ]
    },
    {
     "name": "stdout",
     "output_type": "stream",
     "text": [
      "0  4.19e+04    6.87 |    6.87    0.3    125     0 |   -0.02   0.00   0.25  -0.49\n"
     ]
    },
    {
     "name": "stderr",
     "output_type": "stream",
     "text": [
      "\r",
      " 11%|████████▎                                                                      | 28/266 [42:22<6:14:27, 94.40s/it]"
     ]
    },
    {
     "name": "stdout",
     "output_type": "stream",
     "text": [
      "0  4.34e+04    6.87 |    2.37    0.0    125     0 |   -0.02   0.00   0.39  -0.49\n"
     ]
    },
    {
     "name": "stderr",
     "output_type": "stream",
     "text": [
      "\r",
      " 11%|████████▌                                                                      | 29/266 [43:51<6:05:36, 92.56s/it]"
     ]
    },
    {
     "name": "stdout",
     "output_type": "stream",
     "text": [
      "0  4.49e+04    6.87 |   -1.38    0.0    125     0 |   -0.02   0.00   0.32  -0.49\n"
     ]
    },
    {
     "name": "stderr",
     "output_type": "stream",
     "text": [
      "\r",
      " 11%|████████▉                                                                      | 30/266 [45:21<6:01:55, 92.01s/it]"
     ]
    },
    {
     "name": "stdout",
     "output_type": "stream",
     "text": [
      "0  4.63e+04    6.87 |   -1.25    0.0    125     0 |   -0.01   0.00   0.29  -0.49\n"
     ]
    },
    {
     "name": "stderr",
     "output_type": "stream",
     "text": [
      "\r",
      " 12%|█████████▏                                                                     | 31/266 [46:49<5:55:49, 90.85s/it]"
     ]
    },
    {
     "name": "stdout",
     "output_type": "stream",
     "text": [
      "0  4.78e+04    6.87 |   -0.28    0.0    125     0 |   -0.01   0.00   0.34  -0.48\n"
     ]
    },
    {
     "name": "stderr",
     "output_type": "stream",
     "text": [
      "\r",
      " 12%|█████████▌                                                                     | 32/266 [48:19<5:53:00, 90.51s/it]"
     ]
    },
    {
     "name": "stdout",
     "output_type": "stream",
     "text": [
      "0  4.93e+04    6.87 |   -0.31    0.0    125     0 |   -0.01   0.00   0.29  -0.47\n"
     ]
    },
    {
     "name": "stderr",
     "output_type": "stream",
     "text": [
      "\r",
      " 12%|█████████▊                                                                     | 33/266 [49:48<5:49:25, 89.98s/it]"
     ]
    },
    {
     "name": "stdout",
     "output_type": "stream",
     "text": [
      "0  5.08e+04    6.87 |   -0.28    0.0    125     0 |   -0.01   0.00   0.59  -0.47\n"
     ]
    },
    {
     "name": "stderr",
     "output_type": "stream",
     "text": [
      "\r",
      " 13%|██████████                                                                     | 34/266 [51:16<5:46:04, 89.50s/it]"
     ]
    },
    {
     "name": "stdout",
     "output_type": "stream",
     "text": [
      "0  5.23e+04    6.87 |    1.54    0.0    125     0 |   -0.01   0.00   0.35  -0.47\n"
     ]
    },
    {
     "name": "stderr",
     "output_type": "stream",
     "text": [
      "\r",
      " 13%|██████████▍                                                                    | 35/266 [52:46<5:44:26, 89.46s/it]"
     ]
    },
    {
     "name": "stdout",
     "output_type": "stream",
     "text": [
      "0  5.37e+04    6.87 |    0.97    0.0    125     0 |   -0.01   0.00   0.31  -0.46\n"
     ]
    },
    {
     "name": "stderr",
     "output_type": "stream",
     "text": [
      "\r",
      " 14%|██████████▋                                                                    | 36/266 [54:14<5:41:11, 89.01s/it]"
     ]
    },
    {
     "name": "stdout",
     "output_type": "stream",
     "text": [
      "0  5.52e+04    6.87 |    1.29    0.0    125     0 |   -0.01   0.00   0.32  -0.47\n"
     ]
    },
    {
     "name": "stderr",
     "output_type": "stream",
     "text": [
      "\r",
      " 14%|██████████▉                                                                    | 37/266 [55:42<5:39:14, 88.89s/it]"
     ]
    },
    {
     "name": "stdout",
     "output_type": "stream",
     "text": [
      "0  5.67e+04    6.87 |    1.29    0.0    125     0 |   -0.01   0.00   0.62  -0.47\n"
     ]
    },
    {
     "name": "stderr",
     "output_type": "stream",
     "text": [
      "\r",
      " 14%|███████████▎                                                                   | 38/266 [57:11<5:37:31, 88.82s/it]"
     ]
    },
    {
     "name": "stdout",
     "output_type": "stream",
     "text": [
      "0  5.81e+04    6.87 |    0.46    0.0    125     0 |   -0.01   0.00   0.38  -0.47\n"
     ]
    },
    {
     "name": "stderr",
     "output_type": "stream",
     "text": [
      "\r",
      " 15%|███████████▌                                                                   | 39/266 [58:40<5:36:38, 88.98s/it]"
     ]
    },
    {
     "name": "stdout",
     "output_type": "stream",
     "text": [
      "0  5.96e+04    6.87 |   -1.84    0.0    125     0 |   -0.02   0.00   0.23  -0.49\n"
     ]
    },
    {
     "name": "stderr",
     "output_type": "stream",
     "text": [
      "\r",
      " 15%|███████████▌                                                                 | 40/266 [1:00:10<5:35:56, 89.19s/it]"
     ]
    },
    {
     "name": "stdout",
     "output_type": "stream",
     "text": [
      "0  6.11e+04    6.87 |    0.14    0.0    125     0 |   -0.01   0.00   0.61  -0.49\n"
     ]
    },
    {
     "name": "stderr",
     "output_type": "stream",
     "text": [
      "\r",
      " 15%|███████████▊                                                                 | 41/266 [1:01:39<5:34:28, 89.19s/it]"
     ]
    },
    {
     "name": "stdout",
     "output_type": "stream",
     "text": [
      "0  6.26e+04    6.87 |    2.92    0.0    125     0 |   -0.01   0.00   0.32  -0.49\n"
     ]
    },
    {
     "name": "stderr",
     "output_type": "stream",
     "text": [
      "\r",
      " 16%|████████████▏                                                                | 42/266 [1:03:07<5:31:15, 88.73s/it]"
     ]
    },
    {
     "name": "stdout",
     "output_type": "stream",
     "text": [
      "0  6.40e+04    6.87 |   -0.03    0.0    125     0 |   -0.01   0.00   0.18  -0.47\n"
     ]
    },
    {
     "name": "stderr",
     "output_type": "stream",
     "text": [
      "\r",
      " 16%|████████████▍                                                                | 43/266 [1:04:36<5:30:15, 88.86s/it]"
     ]
    },
    {
     "name": "stdout",
     "output_type": "stream",
     "text": [
      "0  6.55e+04    6.87 |    0.36    0.0    125     0 |   -0.01   0.00   0.44  -0.46\n"
     ]
    },
    {
     "name": "stderr",
     "output_type": "stream",
     "text": [
      "\r",
      " 17%|████████████▋                                                                | 44/266 [1:06:08<5:31:56, 89.71s/it]"
     ]
    },
    {
     "name": "stdout",
     "output_type": "stream",
     "text": [
      "0  6.70e+04    6.87 |    0.66    0.0    125     0 |   -0.01   0.00   0.32  -0.47\n"
     ]
    },
    {
     "name": "stderr",
     "output_type": "stream",
     "text": [
      "\r",
      " 17%|█████████████                                                                | 45/266 [1:07:37<5:29:55, 89.57s/it]"
     ]
    },
    {
     "name": "stdout",
     "output_type": "stream",
     "text": [
      "0  6.84e+04    6.87 |    0.66    0.0    125     0 |   -0.01   0.00   0.29  -0.46\n"
     ]
    },
    {
     "name": "stderr",
     "output_type": "stream",
     "text": [
      "\r",
      " 17%|█████████████▎                                                               | 46/266 [1:09:06<5:27:55, 89.44s/it]"
     ]
    },
    {
     "name": "stdout",
     "output_type": "stream",
     "text": [
      "0  6.99e+04    6.87 |   -0.50    0.0    125     0 |   -0.01   0.00   0.28  -0.45\n"
     ]
    },
    {
     "name": "stderr",
     "output_type": "stream",
     "text": [
      "\r",
      " 18%|█████████████▌                                                               | 47/266 [1:10:35<5:26:14, 89.38s/it]"
     ]
    },
    {
     "name": "stdout",
     "output_type": "stream",
     "text": [
      "0  7.14e+04    6.87 |    0.35    0.0    125     0 |   -0.01   0.00   0.44  -0.44\n"
     ]
    },
    {
     "name": "stderr",
     "output_type": "stream",
     "text": [
      "\r",
      " 18%|█████████████▉                                                               | 48/266 [1:12:04<5:24:20, 89.27s/it]"
     ]
    },
    {
     "name": "stdout",
     "output_type": "stream",
     "text": [
      "0  7.28e+04    6.87 |    0.62    0.0    125     0 |   -0.01   0.00   0.36  -0.45\n"
     ]
    },
    {
     "name": "stderr",
     "output_type": "stream",
     "text": [
      "\r",
      " 18%|██████████████▏                                                              | 49/266 [1:13:33<5:22:21, 89.13s/it]"
     ]
    },
    {
     "name": "stdout",
     "output_type": "stream",
     "text": [
      "0  7.43e+04    6.87 |    0.62    0.0    125     0 |   -0.01   0.00   0.51  -0.45\n"
     ]
    },
    {
     "name": "stderr",
     "output_type": "stream",
     "text": [
      "\r",
      " 19%|██████████████▍                                                              | 50/266 [1:15:03<5:21:18, 89.25s/it]"
     ]
    },
    {
     "name": "stdout",
     "output_type": "stream",
     "text": [
      "0  7.57e+04    6.87 |   -0.22    0.0    125     0 |   -0.01   0.00   0.33  -0.44\n"
     ]
    },
    {
     "name": "stderr",
     "output_type": "stream",
     "text": [
      "\r",
      " 19%|██████████████▊                                                              | 51/266 [1:16:32<5:19:33, 89.18s/it]"
     ]
    },
    {
     "name": "stdout",
     "output_type": "stream",
     "text": [
      "0  7.72e+04    6.87 |    1.59    0.0    125     0 |   -0.01   0.00   0.20  -0.44\n"
     ]
    },
    {
     "name": "stderr",
     "output_type": "stream",
     "text": [
      "\r",
      " 20%|███████████████                                                              | 52/266 [1:18:00<5:17:28, 89.01s/it]"
     ]
    },
    {
     "name": "stdout",
     "output_type": "stream",
     "text": [
      "0  7.87e+04    6.87 |    0.48    0.0    125     0 |   -0.01   0.00   0.26  -0.44\n"
     ]
    },
    {
     "name": "stderr",
     "output_type": "stream",
     "text": [
      "\r",
      " 20%|███████████████▎                                                             | 53/266 [1:19:30<5:16:53, 89.27s/it]"
     ]
    },
    {
     "name": "stdout",
     "output_type": "stream",
     "text": [
      "0  8.01e+04    6.87 |    1.14    0.0    125     0 |   -0.01   0.00   0.23  -0.41\n"
     ]
    },
    {
     "name": "stderr",
     "output_type": "stream",
     "text": [
      "\r",
      " 20%|███████████████▋                                                             | 54/266 [1:20:59<5:14:43, 89.07s/it]"
     ]
    },
    {
     "name": "stdout",
     "output_type": "stream",
     "text": [
      "0  8.16e+04    6.87 |    1.13    0.0    125     0 |   -0.01   0.00   0.27  -0.41\n"
     ]
    },
    {
     "name": "stderr",
     "output_type": "stream",
     "text": [
      "\r",
      " 21%|███████████████▉                                                             | 55/266 [1:22:28<5:13:33, 89.17s/it]"
     ]
    },
    {
     "name": "stdout",
     "output_type": "stream",
     "text": [
      "0  8.30e+04    6.87 |    0.65    0.0    125     0 |   -0.01   0.00   0.28  -0.41\n"
     ]
    },
    {
     "name": "stderr",
     "output_type": "stream",
     "text": [
      "\r",
      " 21%|████████████████▏                                                            | 56/266 [1:23:58<5:12:41, 89.34s/it]"
     ]
    },
    {
     "name": "stdout",
     "output_type": "stream",
     "text": [
      "0  8.45e+04    6.87 |    1.66    0.0    125     0 |   -0.01   0.00   0.25  -0.42\n"
     ]
    },
    {
     "name": "stderr",
     "output_type": "stream",
     "text": [
      "\r",
      " 21%|████████████████▌                                                            | 57/266 [1:25:27<5:11:11, 89.34s/it]"
     ]
    },
    {
     "name": "stdout",
     "output_type": "stream",
     "text": [
      "0  8.59e+04    6.87 |    2.70    0.0    125     0 |   -0.01   0.00   0.41  -0.41\n"
     ]
    },
    {
     "name": "stderr",
     "output_type": "stream",
     "text": [
      "\r",
      " 22%|████████████████▊                                                            | 58/266 [1:26:58<5:10:47, 89.65s/it]"
     ]
    },
    {
     "name": "stdout",
     "output_type": "stream",
     "text": [
      "0  8.74e+04    6.87 |    2.71    0.0    125     0 |   -0.01   0.00   0.22  -0.41\n"
     ]
    },
    {
     "name": "stderr",
     "output_type": "stream",
     "text": [
      "\r",
      " 22%|█████████████████                                                            | 59/266 [1:28:28<5:10:14, 89.92s/it]"
     ]
    },
    {
     "name": "stdout",
     "output_type": "stream",
     "text": [
      "0  8.88e+04    6.87 |    0.16    0.0    125     0 |   -0.01   0.00   0.36  -0.41\n"
     ]
    },
    {
     "name": "stderr",
     "output_type": "stream",
     "text": [
      "\r",
      " 23%|█████████████████▎                                                           | 60/266 [1:29:59<5:09:45, 90.22s/it]"
     ]
    },
    {
     "name": "stdout",
     "output_type": "stream",
     "text": [
      "0  9.03e+04    6.87 |    2.56    0.0    125     0 |   -0.01   0.00   0.25  -0.43\n"
     ]
    },
    {
     "name": "stderr",
     "output_type": "stream",
     "text": [
      "\r",
      " 23%|█████████████████▋                                                           | 61/266 [1:31:29<5:07:30, 90.00s/it]"
     ]
    },
    {
     "name": "stdout",
     "output_type": "stream",
     "text": [
      "0  9.17e+04    6.87 |    1.23    0.0    125     0 |   -0.01   0.00   0.42  -0.43\n"
     ]
    },
    {
     "name": "stderr",
     "output_type": "stream",
     "text": [
      "\r",
      " 23%|█████████████████▉                                                           | 62/266 [1:32:58<5:05:50, 89.96s/it]"
     ]
    },
    {
     "name": "stdout",
     "output_type": "stream",
     "text": [
      "0  9.32e+04    6.87 |   -0.91    0.0    125     0 |   -0.01   0.00   0.39  -0.44\n"
     ]
    },
    {
     "name": "stderr",
     "output_type": "stream",
     "text": [
      "\r",
      " 24%|██████████████████▏                                                          | 63/266 [1:34:30<5:05:52, 90.41s/it]"
     ]
    },
    {
     "name": "stdout",
     "output_type": "stream",
     "text": [
      "0  9.46e+04    6.87 |    1.93    0.0    125     0 |   -0.01   0.00   0.14  -0.44\n"
     ]
    },
    {
     "name": "stderr",
     "output_type": "stream",
     "text": [
      "\r",
      " 24%|██████████████████▌                                                          | 64/266 [1:36:02<5:06:09, 90.94s/it]"
     ]
    },
    {
     "name": "stdout",
     "output_type": "stream",
     "text": [
      "0  9.61e+04    6.87 |    1.94    0.0    125     0 |   -0.01   0.00   0.32  -0.44\n"
     ]
    },
    {
     "name": "stderr",
     "output_type": "stream",
     "text": [
      "\r",
      " 24%|██████████████████▊                                                          | 65/266 [1:37:33<5:04:45, 90.97s/it]"
     ]
    },
    {
     "name": "stdout",
     "output_type": "stream",
     "text": [
      "0  9.75e+04    6.87 |    1.61    0.0    125     0 |   -0.01   0.00   0.30  -0.42\n"
     ]
    },
    {
     "name": "stderr",
     "output_type": "stream",
     "text": [
      "\r",
      " 25%|███████████████████                                                          | 66/266 [1:39:04<5:03:33, 91.07s/it]"
     ]
    },
    {
     "name": "stdout",
     "output_type": "stream",
     "text": [
      "0  9.90e+04    6.87 |    0.61    0.0    125     0 |   -0.01   0.01   0.09  -0.44\n"
     ]
    },
    {
     "name": "stderr",
     "output_type": "stream",
     "text": [
      "\r",
      " 25%|███████████████████▍                                                         | 67/266 [1:40:36<5:03:06, 91.39s/it]"
     ]
    },
    {
     "name": "stdout",
     "output_type": "stream",
     "text": [
      "0  1.00e+05    6.87 |   -0.96    0.0    125     0 |   -0.01   0.00   0.32  -0.45\n"
     ]
    },
    {
     "name": "stderr",
     "output_type": "stream",
     "text": [
      "\r",
      " 26%|███████████████████▋                                                         | 68/266 [1:42:09<5:03:01, 91.83s/it]"
     ]
    },
    {
     "name": "stdout",
     "output_type": "stream",
     "text": [
      "0  1.02e+05    6.87 |   -0.24    0.0    125     0 |   -0.01   0.00   0.22  -0.45\n"
     ]
    },
    {
     "name": "stderr",
     "output_type": "stream",
     "text": [
      "\r",
      " 26%|███████████████████▉                                                         | 69/266 [1:43:42<5:02:09, 92.03s/it]"
     ]
    },
    {
     "name": "stdout",
     "output_type": "stream",
     "text": [
      "0  1.03e+05    6.87 |   -0.24    0.0    125     0 |   -0.01   0.00   0.22  -0.45\n"
     ]
    },
    {
     "name": "stderr",
     "output_type": "stream",
     "text": [
      "\r",
      " 26%|████████████████████▎                                                        | 70/266 [1:45:13<5:00:02, 91.85s/it]"
     ]
    },
    {
     "name": "stdout",
     "output_type": "stream",
     "text": [
      "0  1.05e+05    6.87 |   -0.24    0.0    125     0 |   -0.01   0.00   0.31  -0.45\n"
     ]
    },
    {
     "name": "stderr",
     "output_type": "stream",
     "text": [
      "\r",
      " 27%|████████████████████▌                                                        | 71/266 [1:46:46<4:59:45, 92.23s/it]"
     ]
    },
    {
     "name": "stdout",
     "output_type": "stream",
     "text": [
      "0  1.06e+05    6.87 |    0.71    0.0    125     0 |   -0.01   0.00   0.45  -0.46\n"
     ]
    },
    {
     "name": "stderr",
     "output_type": "stream",
     "text": [
      "\r",
      " 27%|████████████████████▊                                                        | 72/266 [1:48:19<4:58:33, 92.34s/it]"
     ]
    },
    {
     "name": "stdout",
     "output_type": "stream",
     "text": [
      "0  1.08e+05    6.87 |    0.62    0.0    125     0 |   -0.01   0.00   0.36  -0.46\n"
     ]
    },
    {
     "name": "stderr",
     "output_type": "stream",
     "text": [
      "\r",
      " 27%|█████████████████████▏                                                       | 73/266 [1:49:51<4:56:33, 92.19s/it]"
     ]
    },
    {
     "name": "stdout",
     "output_type": "stream",
     "text": [
      "0  1.09e+05    6.87 |   -1.49    0.0    125     0 |   -0.01   0.00   0.16  -0.46\n"
     ]
    },
    {
     "name": "stderr",
     "output_type": "stream",
     "text": [
      "\r",
      " 28%|█████████████████████▍                                                       | 74/266 [1:51:23<4:55:02, 92.20s/it]"
     ]
    },
    {
     "name": "stdout",
     "output_type": "stream",
     "text": [
      "0  1.10e+05    6.87 |   -1.48    0.0    125     0 |   -0.01   0.00   0.30  -0.46\n"
     ]
    },
    {
     "name": "stderr",
     "output_type": "stream",
     "text": [
      "\r",
      " 28%|█████████████████████▋                                                       | 75/266 [1:52:57<4:55:25, 92.81s/it]"
     ]
    },
    {
     "name": "stdout",
     "output_type": "stream",
     "text": [
      "0  1.12e+05    6.87 |   -1.48    0.0    125     0 |   -0.01   0.00   0.23  -0.46\n"
     ]
    },
    {
     "name": "stderr",
     "output_type": "stream",
     "text": [
      "\r",
      " 29%|██████████████████████                                                       | 76/266 [1:54:31<4:54:58, 93.15s/it]"
     ]
    },
    {
     "name": "stdout",
     "output_type": "stream",
     "text": [
      "0  1.13e+05    6.87 |   -1.65    0.0    125     0 |   -0.01   0.00   0.33  -0.48\n"
     ]
    },
    {
     "name": "stderr",
     "output_type": "stream",
     "text": [
      "\r",
      " 29%|██████████████████████▎                                                      | 77/266 [1:56:04<4:52:41, 92.92s/it]"
     ]
    },
    {
     "name": "stdout",
     "output_type": "stream",
     "text": [
      "0  1.15e+05    6.87 |   -0.02    0.0    125     0 |   -0.01   0.00   0.26  -0.47\n"
     ]
    },
    {
     "name": "stderr",
     "output_type": "stream",
     "text": [
      "\r",
      " 29%|██████████████████████▌                                                      | 78/266 [1:57:35<4:50:02, 92.57s/it]"
     ]
    },
    {
     "name": "stdout",
     "output_type": "stream",
     "text": [
      "0  1.16e+05    6.87 |   -0.09    0.0    125     0 |   -0.01   0.00   0.29  -0.46\n"
     ]
    },
    {
     "name": "stderr",
     "output_type": "stream",
     "text": [
      "\r",
      " 30%|██████████████████████▊                                                      | 79/266 [1:59:09<4:49:26, 92.87s/it]"
     ]
    },
    {
     "name": "stdout",
     "output_type": "stream",
     "text": [
      "0  1.18e+05    6.87 |   -0.02    0.0    125     0 |   -0.01   0.00   0.10  -0.45\n"
     ]
    },
    {
     "name": "stderr",
     "output_type": "stream",
     "text": [
      "\r",
      " 30%|███████████████████████▏                                                     | 80/266 [2:00:42<4:48:04, 92.93s/it]"
     ]
    },
    {
     "name": "stdout",
     "output_type": "stream",
     "text": [
      "0  1.19e+05    6.87 |   -0.02    0.0    125     0 |   -0.01   0.00   0.19  -0.47\n"
     ]
    },
    {
     "name": "stderr",
     "output_type": "stream",
     "text": [
      "\r",
      " 30%|███████████████████████▍                                                     | 81/266 [2:02:16<4:47:23, 93.21s/it]"
     ]
    },
    {
     "name": "stdout",
     "output_type": "stream",
     "text": [
      "0  1.20e+05    6.87 |   -1.55    0.0    125     0 |   -0.01   0.01   0.36  -0.47\n"
     ]
    },
    {
     "name": "stderr",
     "output_type": "stream",
     "text": [
      "\r",
      " 31%|███████████████████████▋                                                     | 82/266 [2:03:51<4:47:36, 93.79s/it]"
     ]
    },
    {
     "name": "stdout",
     "output_type": "stream",
     "text": [
      "0  1.22e+05    6.87 |   -0.02    0.0    125     0 |   -0.01   0.00   0.36  -0.47\n"
     ]
    },
    {
     "name": "stderr",
     "output_type": "stream",
     "text": [
      "\r",
      " 31%|████████████████████████                                                     | 83/266 [2:05:26<4:47:32, 94.28s/it]"
     ]
    },
    {
     "name": "stdout",
     "output_type": "stream",
     "text": [
      "0  1.23e+05    6.87 |   -0.02    0.0    125     0 |   -0.01   0.00   0.05  -0.47\n"
     ]
    },
    {
     "name": "stderr",
     "output_type": "stream",
     "text": [
      "\r",
      " 32%|████████████████████████▎                                                    | 84/266 [2:07:02<4:47:11, 94.68s/it]"
     ]
    },
    {
     "name": "stdout",
     "output_type": "stream",
     "text": [
      "0  1.25e+05    6.87 |   -0.02    0.0    125     0 |   -0.01   0.00   0.10  -0.47\n"
     ]
    },
    {
     "name": "stderr",
     "output_type": "stream",
     "text": [
      "\r",
      " 32%|████████████████████████▌                                                    | 85/266 [2:08:38<4:46:43, 95.04s/it]"
     ]
    },
    {
     "name": "stdout",
     "output_type": "stream",
     "text": [
      "0  1.26e+05    6.87 |   -0.02    0.0    125     0 |   -0.01   0.00   0.03  -0.46\n"
     ]
    },
    {
     "name": "stderr",
     "output_type": "stream",
     "text": [
      "\r",
      " 32%|████████████████████████▉                                                    | 86/266 [2:10:16<4:47:34, 95.86s/it]"
     ]
    },
    {
     "name": "stdout",
     "output_type": "stream",
     "text": [
      "0  1.28e+05    6.87 |   -0.02    0.0    125     0 |   -0.01   0.00   0.12  -0.45\n"
     ]
    },
    {
     "name": "stderr",
     "output_type": "stream",
     "text": [
      "\r",
      " 33%|█████████████████████████▏                                                   | 87/266 [2:11:54<4:48:15, 96.62s/it]"
     ]
    },
    {
     "name": "stdout",
     "output_type": "stream",
     "text": [
      "0  1.29e+05    6.87 |    1.01    0.0    125     0 |   -0.01   0.03   0.46  -0.44\n"
     ]
    },
    {
     "name": "stderr",
     "output_type": "stream",
     "text": [
      "\r",
      " 33%|█████████████████████████▍                                                   | 88/266 [2:13:34<4:49:25, 97.56s/it]"
     ]
    },
    {
     "name": "stdout",
     "output_type": "stream",
     "text": [
      "0  1.30e+05    6.87 |    1.02    0.0    125     0 |   -0.01   0.00   0.28  -0.46\n"
     ]
    },
    {
     "name": "stderr",
     "output_type": "stream",
     "text": [
      "\r",
      " 33%|█████████████████████████▊                                                   | 89/266 [2:15:13<4:49:25, 98.11s/it]"
     ]
    },
    {
     "name": "stdout",
     "output_type": "stream",
     "text": [
      "0  1.32e+05    6.87 |    1.02    0.0    125     0 |   -0.02   0.04   0.39  -0.46\n"
     ]
    },
    {
     "name": "stderr",
     "output_type": "stream",
     "text": [
      "\r",
      " 34%|██████████████████████████                                                   | 90/266 [2:16:55<4:50:46, 99.13s/it]"
     ]
    },
    {
     "name": "stdout",
     "output_type": "stream",
     "text": [
      "0  1.33e+05    6.87 |    1.03    0.0    125     0 |   -0.02   0.01   0.34  -0.46\n"
     ]
    },
    {
     "name": "stderr",
     "output_type": "stream",
     "text": [
      "\r",
      " 34%|██████████████████████████                                                  | 91/266 [2:18:38<4:52:47, 100.39s/it]"
     ]
    },
    {
     "name": "stdout",
     "output_type": "stream",
     "text": [
      "0  1.35e+05    6.87 |    1.03    0.0    125     0 |   -0.02   0.00   0.29  -0.46\n"
     ]
    },
    {
     "name": "stderr",
     "output_type": "stream",
     "text": [
      "\r",
      " 35%|██████████████████████████▎                                                 | 92/266 [2:20:20<4:52:42, 100.93s/it]"
     ]
    },
    {
     "name": "stdout",
     "output_type": "stream",
     "text": [
      "0  1.36e+05    6.87 |    1.97    0.0    125     0 |   -0.02   0.00   0.04  -0.47\n"
     ]
    },
    {
     "name": "stderr",
     "output_type": "stream",
     "text": [
      "\r",
      " 35%|██████████████████████████▌                                                 | 93/266 [2:22:04<4:53:26, 101.77s/it]"
     ]
    },
    {
     "name": "stdout",
     "output_type": "stream",
     "text": [
      "0  1.38e+05    6.87 |    1.98    0.0    125     0 |   -0.02   0.00   0.41  -0.47\n"
     ]
    },
    {
     "name": "stderr",
     "output_type": "stream",
     "text": [
      "\r",
      " 35%|██████████████████████████▊                                                 | 94/266 [2:23:50<4:55:26, 103.06s/it]"
     ]
    },
    {
     "name": "stdout",
     "output_type": "stream",
     "text": [
      "0  1.39e+05    6.87 |    1.99    0.0    125     0 |   -0.02   0.00   0.40  -0.47\n"
     ]
    },
    {
     "name": "stderr",
     "output_type": "stream",
     "text": [
      "\r",
      " 36%|███████████████████████████▏                                                | 95/266 [2:25:35<4:55:30, 103.69s/it]"
     ]
    },
    {
     "name": "stdout",
     "output_type": "stream",
     "text": [
      "0  1.40e+05    6.87 |    2.00    0.0    125     0 |   -0.02   0.00   0.12  -0.50\n"
     ]
    },
    {
     "name": "stderr",
     "output_type": "stream",
     "text": [
      "\r",
      " 36%|███████████████████████████▍                                                | 96/266 [2:27:21<4:55:38, 104.34s/it]"
     ]
    },
    {
     "name": "stdout",
     "output_type": "stream",
     "text": [
      "0  1.42e+05    6.87 |    2.00    0.0    125     0 |   -0.02   0.00   0.18  -0.49\n"
     ]
    },
    {
     "name": "stderr",
     "output_type": "stream",
     "text": [
      "\r",
      " 36%|███████████████████████████▋                                                | 97/266 [2:29:07<4:55:37, 104.96s/it]"
     ]
    },
    {
     "name": "stdout",
     "output_type": "stream",
     "text": [
      "0  1.43e+05    6.87 |    1.06    0.0    125     0 |   -0.02   0.03   0.45  -0.49\n"
     ]
    },
    {
     "name": "stderr",
     "output_type": "stream",
     "text": [
      "\r",
      " 37%|████████████████████████████                                                | 98/266 [2:30:57<4:57:32, 106.26s/it]"
     ]
    },
    {
     "name": "stdout",
     "output_type": "stream",
     "text": [
      "0  1.45e+05    6.87 |    1.07    0.0    125     0 |   -0.02   0.03   0.51  -0.49\n"
     ]
    },
    {
     "name": "stderr",
     "output_type": "stream",
     "text": [
      "\r",
      " 37%|████████████████████████████▎                                               | 99/266 [2:32:43<4:55:47, 106.27s/it]"
     ]
    },
    {
     "name": "stdout",
     "output_type": "stream",
     "text": [
      "0  1.46e+05    6.87 |    2.21    0.0    125     0 |   -0.02   0.03   0.24  -0.49\n"
     ]
    },
    {
     "name": "stderr",
     "output_type": "stream",
     "text": [
      "\r",
      " 38%|████████████████████████████▏                                              | 100/266 [2:34:29<4:54:05, 106.30s/it]"
     ]
    },
    {
     "name": "stdout",
     "output_type": "stream",
     "text": [
      "0  1.47e+05    6.87 |    1.97    0.0    125     0 |   -0.02   0.01   0.45  -0.49\n"
     ]
    },
    {
     "name": "stderr",
     "output_type": "stream",
     "text": [
      "\r",
      " 38%|████████████████████████████▍                                              | 101/266 [2:36:15<4:51:37, 106.05s/it]"
     ]
    },
    {
     "name": "stdout",
     "output_type": "stream",
     "text": [
      "0  1.49e+05    6.87 |    1.97    0.0    125     0 |   -0.02   0.00   0.06  -0.47\n"
     ]
    },
    {
     "name": "stderr",
     "output_type": "stream",
     "text": [
      "\r",
      " 38%|████████████████████████████▊                                              | 102/266 [2:38:01<4:49:50, 106.04s/it]"
     ]
    },
    {
     "name": "stdout",
     "output_type": "stream",
     "text": [
      "0  1.50e+05    6.87 |    1.98    0.0    125     0 |   -0.02   0.02   0.20  -0.47\n"
     ]
    },
    {
     "name": "stderr",
     "output_type": "stream",
     "text": [
      "\r",
      " 39%|█████████████████████████████                                              | 103/266 [2:39:48<4:49:17, 106.49s/it]"
     ]
    },
    {
     "name": "stdout",
     "output_type": "stream",
     "text": [
      "0  1.52e+05    6.87 |    1.67    0.0    125     0 |   -0.02   0.00   0.26  -0.47\n"
     ]
    },
    {
     "name": "stderr",
     "output_type": "stream",
     "text": [
      "\r",
      " 39%|█████████████████████████████▎                                             | 104/266 [2:41:35<4:47:43, 106.56s/it]"
     ]
    },
    {
     "name": "stdout",
     "output_type": "stream",
     "text": [
      "0  1.53e+05    6.87 |   -0.16    0.0    125     0 |   -0.02   0.00   0.48  -0.46\n"
     ]
    },
    {
     "name": "stderr",
     "output_type": "stream",
     "text": [
      "\r",
      " 39%|█████████████████████████████▌                                             | 105/266 [2:43:22<4:46:17, 106.69s/it]"
     ]
    },
    {
     "name": "stdout",
     "output_type": "stream",
     "text": [
      "0  1.54e+05    6.87 |   -0.24    0.0    125     0 |   -0.02   0.01   0.15  -0.43\n"
     ]
    },
    {
     "name": "stderr",
     "output_type": "stream",
     "text": [
      "\r",
      " 40%|█████████████████████████████▉                                             | 106/266 [2:45:08<4:43:39, 106.37s/it]"
     ]
    },
    {
     "name": "stdout",
     "output_type": "stream",
     "text": [
      "0  1.56e+05    6.87 |    1.65    0.0    125     0 |   -0.01   0.01   0.34  -0.43\n"
     ]
    },
    {
     "name": "stderr",
     "output_type": "stream",
     "text": [
      "\r",
      " 40%|██████████████████████████████▏                                            | 107/266 [2:46:54<4:41:35, 106.26s/it]"
     ]
    },
    {
     "name": "stdout",
     "output_type": "stream",
     "text": [
      "0  1.57e+05    6.87 |   -0.19    0.0    125     0 |   -0.01   0.01   0.39  -0.43\n"
     ]
    },
    {
     "name": "stderr",
     "output_type": "stream",
     "text": [
      "\r",
      " 41%|██████████████████████████████▍                                            | 108/266 [2:48:38<4:38:16, 105.67s/it]"
     ]
    },
    {
     "name": "stdout",
     "output_type": "stream",
     "text": [
      "0  1.59e+05    6.87 |   -1.01    0.0    125     0 |   -0.01   0.00   0.30  -0.43\n"
     ]
    },
    {
     "name": "stderr",
     "output_type": "stream",
     "text": [
      "\r",
      " 41%|██████████████████████████████▋                                            | 109/266 [2:50:24<4:36:40, 105.73s/it]"
     ]
    },
    {
     "name": "stdout",
     "output_type": "stream",
     "text": [
      "0  1.60e+05    6.87 |   -2.27    0.0    125     0 |   -0.01   0.00   0.21  -0.43\n"
     ]
    },
    {
     "name": "stderr",
     "output_type": "stream",
     "text": [
      "\r",
      " 41%|███████████████████████████████                                            | 110/266 [2:52:09<4:34:30, 105.58s/it]"
     ]
    },
    {
     "name": "stdout",
     "output_type": "stream",
     "text": [
      "0  1.62e+05    6.87 |   -1.60    0.0    125     0 |   -0.01   0.00   0.38  -0.42\n"
     ]
    },
    {
     "name": "stderr",
     "output_type": "stream",
     "text": [
      "\r",
      " 42%|███████████████████████████████▎                                           | 111/266 [2:53:56<4:33:23, 105.83s/it]"
     ]
    },
    {
     "name": "stdout",
     "output_type": "stream",
     "text": [
      "0  1.63e+05    6.87 |   -2.61    0.0    125     0 |   -0.01   0.00   0.40  -0.42\n"
     ]
    },
    {
     "name": "stderr",
     "output_type": "stream",
     "text": [
      "\r",
      " 42%|███████████████████████████████▌                                           | 112/266 [2:55:41<4:31:11, 105.66s/it]"
     ]
    },
    {
     "name": "stdout",
     "output_type": "stream",
     "text": [
      "0  1.64e+05    6.87 |   -2.55    0.0    125     0 |   -0.01   0.00   0.26  -0.39\n"
     ]
    },
    {
     "name": "stderr",
     "output_type": "stream",
     "text": [
      "\r",
      " 42%|███████████████████████████████▊                                           | 113/266 [2:57:27<4:29:24, 105.65s/it]"
     ]
    },
    {
     "name": "stdout",
     "output_type": "stream",
     "text": [
      "0  1.66e+05    6.87 |   -2.52    0.0    125     0 |   -0.01   0.00   0.41  -0.39\n"
     ]
    },
    {
     "name": "stderr",
     "output_type": "stream",
     "text": [
      "\r",
      " 43%|████████████████████████████████▏                                          | 114/266 [2:59:12<4:27:43, 105.68s/it]"
     ]
    },
    {
     "name": "stdout",
     "output_type": "stream",
     "text": [
      "0  1.67e+05    6.87 |   -2.37    0.0    125     0 |   -0.01   0.01   0.60  -0.39\n"
     ]
    },
    {
     "name": "stderr",
     "output_type": "stream",
     "text": [
      "\r",
      " 43%|████████████████████████████████▍                                          | 115/266 [3:00:57<4:25:28, 105.49s/it]"
     ]
    },
    {
     "name": "stdout",
     "output_type": "stream",
     "text": [
      "0  1.68e+05    6.87 |   -2.78    0.0    125     0 |   -0.01   0.00   0.17  -0.39\n"
     ]
    },
    {
     "name": "stderr",
     "output_type": "stream",
     "text": [
      "\r",
      " 44%|████████████████████████████████▋                                          | 116/266 [3:02:43<4:23:56, 105.58s/it]"
     ]
    },
    {
     "name": "stdout",
     "output_type": "stream",
     "text": [
      "0  1.70e+05    6.87 |   -2.34    0.0    125     0 |   -0.01   0.00   0.12  -0.39\n"
     ]
    },
    {
     "name": "stderr",
     "output_type": "stream",
     "text": [
      "\r",
      " 44%|████████████████████████████████▉                                          | 117/266 [3:04:30<4:23:22, 106.06s/it]"
     ]
    },
    {
     "name": "stdout",
     "output_type": "stream",
     "text": [
      "0  1.71e+05    6.87 |   -2.34    0.0    125     0 |   -0.01   0.00   0.33  -0.38\n"
     ]
    },
    {
     "name": "stderr",
     "output_type": "stream",
     "text": [
      "\r",
      " 44%|█████████████████████████████████▎                                         | 118/266 [3:06:13<4:18:48, 104.92s/it]"
     ]
    },
    {
     "name": "stdout",
     "output_type": "stream",
     "text": [
      "0  1.73e+05    6.87 |   -3.67    0.0    125     0 |   -0.01   0.00   0.20  -0.38\n"
     ]
    },
    {
     "name": "stderr",
     "output_type": "stream",
     "text": [
      "\r",
      " 45%|█████████████████████████████████▌                                         | 119/266 [3:07:55<4:15:14, 104.18s/it]"
     ]
    },
    {
     "name": "stdout",
     "output_type": "stream",
     "text": [
      "0  1.74e+05    6.87 |   -2.52    0.0    125     0 |   -0.01   0.00   0.26  -0.38\n"
     ]
    },
    {
     "name": "stderr",
     "output_type": "stream",
     "text": [
      "\r",
      " 45%|█████████████████████████████████▊                                         | 120/266 [3:09:43<4:16:16, 105.32s/it]"
     ]
    },
    {
     "name": "stdout",
     "output_type": "stream",
     "text": [
      "0  1.75e+05    6.87 |   -2.51    0.0    125     0 |   -0.01   0.00   0.26  -0.38\n"
     ]
    },
    {
     "name": "stderr",
     "output_type": "stream",
     "text": [
      "\r",
      " 45%|██████████████████████████████████                                         | 121/266 [3:11:27<4:13:25, 104.86s/it]"
     ]
    },
    {
     "name": "stdout",
     "output_type": "stream",
     "text": [
      "0  1.77e+05    6.87 |   -3.62    0.0    125     0 |   -0.01   0.00   0.13  -0.38\n"
     ]
    },
    {
     "name": "stderr",
     "output_type": "stream",
     "text": [
      "\r",
      " 46%|██████████████████████████████████▍                                        | 122/266 [3:13:08<4:08:52, 103.69s/it]"
     ]
    },
    {
     "name": "stdout",
     "output_type": "stream",
     "text": [
      "0  1.78e+05    6.87 |   -3.62    0.0    125     0 |   -0.01   0.01   0.37  -0.37\n"
     ]
    },
    {
     "name": "stderr",
     "output_type": "stream",
     "text": [
      "\r",
      " 46%|██████████████████████████████████▋                                        | 123/266 [3:14:52<4:07:12, 103.72s/it]"
     ]
    },
    {
     "name": "stdout",
     "output_type": "stream",
     "text": [
      "0  1.80e+05    6.87 |   -4.20    0.0    125     0 |   -0.01   0.00   0.45  -0.37\n"
     ]
    },
    {
     "name": "stderr",
     "output_type": "stream",
     "text": [
      "\r",
      " 47%|██████████████████████████████████▉                                        | 124/266 [3:16:37<4:06:35, 104.19s/it]"
     ]
    },
    {
     "name": "stdout",
     "output_type": "stream",
     "text": [
      "0  1.81e+05    6.87 |   -4.16    0.0    125     0 |   -0.01   0.01   0.18  -0.37\n"
     ]
    },
    {
     "name": "stderr",
     "output_type": "stream",
     "text": [
      "\r",
      " 47%|███████████████████████████████████▏                                       | 125/266 [3:18:20<4:04:26, 104.01s/it]"
     ]
    },
    {
     "name": "stdout",
     "output_type": "stream",
     "text": [
      "0  1.82e+05    6.87 |   -2.22    0.0    125     0 |   -0.01   0.00   0.07  -0.37\n"
     ]
    },
    {
     "name": "stderr",
     "output_type": "stream",
     "text": [
      "\r",
      " 47%|███████████████████████████████████▌                                       | 126/266 [3:20:05<4:02:59, 104.14s/it]"
     ]
    },
    {
     "name": "stdout",
     "output_type": "stream",
     "text": [
      "0  1.84e+05    6.87 |   -3.50    0.0    125     0 |   -0.01   0.00   0.15  -0.36\n"
     ]
    },
    {
     "name": "stderr",
     "output_type": "stream",
     "text": [
      "\r",
      " 48%|███████████████████████████████████▊                                       | 127/266 [3:22:16<4:19:53, 112.18s/it]"
     ]
    },
    {
     "name": "stdout",
     "output_type": "stream",
     "text": [
      "0  1.85e+05    6.87 |   -3.47    0.0    125     0 |   -0.01   0.01   0.23  -0.36\n"
     ]
    },
    {
     "name": "stderr",
     "output_type": "stream",
     "text": [
      "\r",
      " 48%|████████████████████████████████████                                       | 128/266 [3:24:24<4:29:18, 117.09s/it]"
     ]
    },
    {
     "name": "stdout",
     "output_type": "stream",
     "text": [
      "0  1.87e+05    6.87 |   -3.46    0.0    125     0 |   -0.01   0.00   0.04  -0.37\n"
     ]
    },
    {
     "name": "stderr",
     "output_type": "stream",
     "text": [
      "\r",
      " 48%|████████████████████████████████████▎                                      | 129/266 [3:26:37<4:38:14, 121.86s/it]"
     ]
    },
    {
     "name": "stdout",
     "output_type": "stream",
     "text": [
      "0  1.88e+05    6.87 |    0.53    0.0    125     0 |   -0.01   0.00   0.06  -0.37\n"
     ]
    },
    {
     "name": "stderr",
     "output_type": "stream",
     "text": [
      "\r",
      " 49%|████████████████████████████████████▋                                      | 130/266 [3:28:49<4:42:58, 124.84s/it]"
     ]
    },
    {
     "name": "stdout",
     "output_type": "stream",
     "text": [
      "0  1.89e+05    6.87 |   -3.45    0.0    125     0 |   -0.01   0.04   0.31  -0.39\n"
     ]
    },
    {
     "name": "stderr",
     "output_type": "stream",
     "text": [
      "\r",
      " 49%|████████████████████████████████████▉                                      | 131/266 [3:30:56<4:42:05, 125.38s/it]"
     ]
    },
    {
     "name": "stdout",
     "output_type": "stream",
     "text": [
      "0  1.91e+05    6.87 |    3.58    0.0    125     0 |   -0.02   0.03   0.46  -0.41\n"
     ]
    },
    {
     "name": "stderr",
     "output_type": "stream",
     "text": [
      "\r",
      " 50%|█████████████████████████████████████▏                                     | 132/266 [3:33:01<4:39:59, 125.37s/it]"
     ]
    },
    {
     "name": "stdout",
     "output_type": "stream",
     "text": [
      "0  1.92e+05    6.87 |    3.58    0.0    125     0 |   -0.01   0.01   0.20  -0.41\n"
     ]
    },
    {
     "name": "stderr",
     "output_type": "stream",
     "text": [
      "\r",
      " 50%|█████████████████████████████████████▌                                     | 133/266 [3:35:18<4:45:30, 128.80s/it]"
     ]
    },
    {
     "name": "stdout",
     "output_type": "stream",
     "text": [
      "0  1.93e+05    6.87 |   -3.43    0.0    125     0 |   -0.01   0.03   0.37  -0.40\n"
     ]
    },
    {
     "name": "stderr",
     "output_type": "stream",
     "text": [
      "\r",
      " 50%|█████████████████████████████████████▊                                     | 134/266 [3:37:37<4:50:02, 131.84s/it]"
     ]
    },
    {
     "name": "stdout",
     "output_type": "stream",
     "text": [
      "0  1.95e+05    6.87 |   -3.41    0.0    125     0 |   -0.01   0.02   0.43  -0.41\n"
     ]
    },
    {
     "name": "stderr",
     "output_type": "stream",
     "text": [
      "\r",
      " 51%|██████████████████████████████████████                                     | 135/266 [3:39:49<4:47:52, 131.85s/it]"
     ]
    },
    {
     "name": "stdout",
     "output_type": "stream",
     "text": [
      "0  1.96e+05    6.87 |   -3.39    0.0    125     0 |   -0.01   0.03   0.60  -0.41\n"
     ]
    },
    {
     "name": "stderr",
     "output_type": "stream",
     "text": [
      "\r",
      " 51%|██████████████████████████████████████▎                                    | 136/266 [3:42:02<4:46:25, 132.20s/it]"
     ]
    },
    {
     "name": "stdout",
     "output_type": "stream",
     "text": [
      "0  1.98e+05    6.87 |   -3.71    0.0    125     0 |   -0.01   0.01   0.14  -0.40\n"
     ]
    },
    {
     "name": "stderr",
     "output_type": "stream",
     "text": [
      "\r",
      " 52%|██████████████████████████████████████▋                                    | 137/266 [3:44:21<4:48:38, 134.25s/it]"
     ]
    },
    {
     "name": "stdout",
     "output_type": "stream",
     "text": [
      "0  1.99e+05    6.87 |   -3.58    0.0    125     0 |   -0.01   0.01   0.19  -0.40\n"
     ]
    },
    {
     "name": "stderr",
     "output_type": "stream",
     "text": [
      "\r",
      " 52%|██████████████████████████████████████▉                                    | 138/266 [3:46:37<4:47:34, 134.80s/it]"
     ]
    },
    {
     "name": "stdout",
     "output_type": "stream",
     "text": [
      "0  2.00e+05    6.87 |   -3.56    0.0    125     0 |   -0.01   0.03   0.33  -0.40\n"
     ]
    },
    {
     "name": "stderr",
     "output_type": "stream",
     "text": [
      "\r",
      " 52%|███████████████████████████████████████▏                                   | 139/266 [3:48:43<4:39:48, 132.19s/it]"
     ]
    },
    {
     "name": "stdout",
     "output_type": "stream",
     "text": [
      "0  2.02e+05    6.87 |   -3.53    0.0    125     0 |   -0.01   0.02   0.40  -0.40\n"
     ]
    },
    {
     "name": "stderr",
     "output_type": "stream",
     "text": [
      "\r",
      " 53%|███████████████████████████████████████▍                                   | 140/266 [3:50:52<4:35:40, 131.27s/it]"
     ]
    },
    {
     "name": "stdout",
     "output_type": "stream",
     "text": [
      "0  2.03e+05    6.87 |   -3.31    0.0    125     0 |   -0.01   0.03   0.13  -0.40\n"
     ]
    },
    {
     "name": "stderr",
     "output_type": "stream",
     "text": [
      "\r",
      " 53%|███████████████████████████████████████▊                                   | 141/266 [3:53:05<4:34:44, 131.87s/it]"
     ]
    },
    {
     "name": "stdout",
     "output_type": "stream",
     "text": [
      "0  2.04e+05    6.87 |   -2.09    0.0    125     0 |   -0.01   0.03   0.02  -0.40\n"
     ]
    },
    {
     "name": "stderr",
     "output_type": "stream",
     "text": [
      "\r",
      " 53%|████████████████████████████████████████                                   | 142/266 [3:55:23<4:35:52, 133.48s/it]"
     ]
    },
    {
     "name": "stdout",
     "output_type": "stream",
     "text": [
      "0  2.06e+05    6.87 |   -3.29    0.0    125     0 |   -0.01   0.00   0.34  -0.40\n"
     ]
    },
    {
     "name": "stderr",
     "output_type": "stream",
     "text": [
      "\r",
      " 54%|████████████████████████████████████████▎                                  | 143/266 [3:57:34<4:32:04, 132.72s/it]"
     ]
    },
    {
     "name": "stdout",
     "output_type": "stream",
     "text": [
      "0  2.07e+05    6.87 |   -3.28    0.0    125     0 |   -0.01   0.01   0.21  -0.40\n"
     ]
    },
    {
     "name": "stderr",
     "output_type": "stream",
     "text": [
      "\r",
      " 54%|████████████████████████████████████████▌                                  | 144/266 [3:59:43<4:28:10, 131.89s/it]"
     ]
    },
    {
     "name": "stdout",
     "output_type": "stream",
     "text": [
      "0  2.09e+05    6.87 |   -3.03    0.0    125     0 |   -0.01   0.01   0.58  -0.40\n"
     ]
    },
    {
     "name": "stderr",
     "output_type": "stream",
     "text": [
      "\r",
      " 55%|████████████████████████████████████████▉                                  | 145/266 [4:01:52<4:24:11, 131.00s/it]"
     ]
    },
    {
     "name": "stdout",
     "output_type": "stream",
     "text": [
      "0  2.10e+05    6.87 |   -3.26    0.0    125     0 |   -0.01   0.00   0.35  -0.39\n"
     ]
    },
    {
     "name": "stderr",
     "output_type": "stream",
     "text": [
      "\r",
      " 55%|█████████████████████████████████████████▏                                 | 146/266 [4:04:02<4:21:13, 130.61s/it]"
     ]
    },
    {
     "name": "stdout",
     "output_type": "stream",
     "text": [
      "0  2.11e+05    6.87 |   -4.32    0.0    125     0 |   -0.01   0.03   0.30  -0.39\n"
     ]
    },
    {
     "name": "stderr",
     "output_type": "stream",
     "text": [
      "\r",
      " 55%|█████████████████████████████████████████▍                                 | 147/266 [4:06:13<4:19:21, 130.77s/it]"
     ]
    },
    {
     "name": "stdout",
     "output_type": "stream",
     "text": [
      "0  2.13e+05    6.87 |   -4.29    0.0    125     0 |   -0.01   0.00   0.40  -0.39\n"
     ]
    },
    {
     "name": "stderr",
     "output_type": "stream",
     "text": [
      "\r",
      " 56%|█████████████████████████████████████████▋                                 | 148/266 [4:08:22<4:15:47, 130.06s/it]"
     ]
    },
    {
     "name": "stdout",
     "output_type": "stream",
     "text": [
      "0  2.14e+05    6.87 |   -4.26    0.0    125     0 |   -0.01   0.00   0.39  -0.39\n"
     ]
    },
    {
     "name": "stderr",
     "output_type": "stream",
     "text": [
      "\r",
      " 56%|██████████████████████████████████████████                                 | 149/266 [4:10:31<4:13:17, 129.89s/it]"
     ]
    },
    {
     "name": "stdout",
     "output_type": "stream",
     "text": [
      "0  2.15e+05    6.87 |   -4.23    0.0    125     0 |   -0.01   0.01   0.31  -0.39\n"
     ]
    },
    {
     "name": "stderr",
     "output_type": "stream",
     "text": [
      "\r",
      " 56%|██████████████████████████████████████████▎                                | 150/266 [4:12:43<4:12:28, 130.59s/it]"
     ]
    },
    {
     "name": "stdout",
     "output_type": "stream",
     "text": [
      "0  2.17e+05    6.87 |   -4.20    0.0    125     0 |   -0.01   0.00   0.40  -0.39\n"
     ]
    },
    {
     "name": "stderr",
     "output_type": "stream",
     "text": [
      "\r",
      " 57%|██████████████████████████████████████████▌                                | 151/266 [4:14:50<4:07:46, 129.27s/it]"
     ]
    },
    {
     "name": "stdout",
     "output_type": "stream",
     "text": [
      "0  2.18e+05    6.87 |   -4.18    0.0    125     0 |   -0.01   0.02   0.36  -0.39\n"
     ]
    },
    {
     "name": "stderr",
     "output_type": "stream",
     "text": [
      "\r",
      " 57%|██████████████████████████████████████████▊                                | 152/266 [4:17:00<4:06:24, 129.69s/it]"
     ]
    },
    {
     "name": "stdout",
     "output_type": "stream",
     "text": [
      "0  2.19e+05    6.87 |   -4.15    0.0    125     0 |   -0.01   0.00   0.34  -0.39\n"
     ]
    },
    {
     "name": "stderr",
     "output_type": "stream",
     "text": [
      "\r",
      " 58%|███████████████████████████████████████████▏                               | 153/266 [4:19:16<4:07:41, 131.52s/it]"
     ]
    },
    {
     "name": "stdout",
     "output_type": "stream",
     "text": [
      "0  2.21e+05    6.87 |   -4.16    0.0    125     0 |   -0.01   0.00   0.12  -0.39\n"
     ]
    },
    {
     "name": "stderr",
     "output_type": "stream",
     "text": [
      "\r",
      " 58%|███████████████████████████████████████████▍                               | 154/266 [4:21:24<4:03:46, 130.59s/it]"
     ]
    },
    {
     "name": "stdout",
     "output_type": "stream",
     "text": [
      "0  2.22e+05    6.87 |   -2.64    0.0    125     0 |   -0.01   0.01   0.28  -0.39\n"
     ]
    },
    {
     "name": "stderr",
     "output_type": "stream",
     "text": [
      "\r",
      " 58%|███████████████████████████████████████████▋                               | 155/266 [4:23:35<4:01:34, 130.58s/it]"
     ]
    },
    {
     "name": "stdout",
     "output_type": "stream",
     "text": [
      "0  2.23e+05    6.87 |   -2.64    0.0    125     0 |   -0.01   0.01   0.03  -0.39\n"
     ]
    },
    {
     "name": "stderr",
     "output_type": "stream",
     "text": [
      "\r",
      " 59%|███████████████████████████████████████████▉                               | 156/266 [4:25:44<3:58:16, 129.97s/it]"
     ]
    },
    {
     "name": "stdout",
     "output_type": "stream",
     "text": [
      "0  2.25e+05    6.87 |   -2.63    0.0    125     0 |   -0.01   0.00   0.49  -0.39\n"
     ]
    },
    {
     "name": "stderr",
     "output_type": "stream",
     "text": [
      "\r",
      " 59%|████████████████████████████████████████████▎                              | 157/266 [4:27:44<3:51:07, 127.22s/it]"
     ]
    },
    {
     "name": "stdout",
     "output_type": "stream",
     "text": [
      "0  2.26e+05    6.87 |   -2.63    0.0    125     0 |   -0.01   0.01   0.25  -0.39\n"
     ]
    },
    {
     "name": "stderr",
     "output_type": "stream",
     "text": [
      "\r",
      " 59%|████████████████████████████████████████████▌                              | 158/266 [4:29:45<3:45:18, 125.18s/it]"
     ]
    },
    {
     "name": "stdout",
     "output_type": "stream",
     "text": [
      "0  2.28e+05    6.87 |   -1.95    0.0    125     0 |   -0.01   0.00   0.37  -0.39\n"
     ]
    },
    {
     "name": "stderr",
     "output_type": "stream",
     "text": [
      "\r",
      " 60%|████████████████████████████████████████████▊                              | 159/266 [4:31:39<3:37:09, 121.77s/it]"
     ]
    },
    {
     "name": "stdout",
     "output_type": "stream",
     "text": [
      "0  2.29e+05    6.87 |   -1.95    0.0    125     0 |   -0.01   0.01   0.27  -0.39\n"
     ]
    },
    {
     "name": "stderr",
     "output_type": "stream",
     "text": [
      "\r",
      " 60%|█████████████████████████████████████████████                              | 160/266 [4:33:22<3:25:20, 116.23s/it]"
     ]
    },
    {
     "name": "stdout",
     "output_type": "stream",
     "text": [
      "0  2.30e+05    6.87 |   -1.95    0.0    125     0 |   -0.01   0.00   0.40  -0.39\n"
     ]
    },
    {
     "name": "stderr",
     "output_type": "stream",
     "text": [
      "\r",
      " 61%|█████████████████████████████████████████████▍                             | 161/266 [4:35:06<3:17:03, 112.61s/it]"
     ]
    },
    {
     "name": "stdout",
     "output_type": "stream",
     "text": [
      "0  2.32e+05    6.87 |   -1.95    0.0    125     0 |   -0.01   0.02   0.15  -0.39\n"
     ]
    },
    {
     "name": "stderr",
     "output_type": "stream",
     "text": [
      "\r",
      " 61%|█████████████████████████████████████████████▋                             | 162/266 [4:36:51<3:11:12, 110.31s/it]"
     ]
    },
    {
     "name": "stdout",
     "output_type": "stream",
     "text": [
      "0  2.33e+05    6.87 |   -1.95    0.0    125     0 |   -0.01   0.01   0.39  -0.39\n"
     ]
    },
    {
     "name": "stderr",
     "output_type": "stream",
     "text": [
      "\r",
      " 61%|█████████████████████████████████████████████▉                             | 163/266 [4:38:34<3:05:38, 108.14s/it]"
     ]
    },
    {
     "name": "stdout",
     "output_type": "stream",
     "text": [
      "0  2.34e+05    6.87 |   -1.95    0.0    125     0 |   -0.01   0.00   0.08  -0.39\n"
     ]
    },
    {
     "name": "stderr",
     "output_type": "stream",
     "text": [
      "\r",
      " 62%|██████████████████████████████████████████████▏                            | 164/266 [4:40:18<3:01:38, 106.85s/it]"
     ]
    },
    {
     "name": "stdout",
     "output_type": "stream",
     "text": [
      "0  2.36e+05    6.87 |   -1.95    0.0    125     0 |   -0.01   0.00   0.17  -0.39\n"
     ]
    },
    {
     "name": "stderr",
     "output_type": "stream",
     "text": [
      "\r",
      " 62%|██████████████████████████████████████████████▌                            | 165/266 [4:42:02<2:58:21, 105.96s/it]"
     ]
    },
    {
     "name": "stdout",
     "output_type": "stream",
     "text": [
      "0  2.37e+05    6.87 |   -1.95    0.0    125     0 |   -0.01   0.02   0.34  -0.39\n"
     ]
    },
    {
     "name": "stderr",
     "output_type": "stream",
     "text": [
      "\r",
      " 62%|██████████████████████████████████████████████▊                            | 166/266 [4:43:45<2:55:09, 105.09s/it]"
     ]
    },
    {
     "name": "stdout",
     "output_type": "stream",
     "text": [
      "0  2.38e+05    6.87 |   -1.95    0.0    125     0 |   -0.01   0.01   0.50  -0.39\n"
     ]
    },
    {
     "name": "stderr",
     "output_type": "stream",
     "text": [
      "\r",
      " 63%|███████████████████████████████████████████████                            | 167/266 [4:45:26<2:51:20, 103.84s/it]"
     ]
    },
    {
     "name": "stdout",
     "output_type": "stream",
     "text": [
      "0  2.40e+05    6.87 |   -1.95    0.0    125     0 |   -0.01   0.01   0.06  -0.39\n"
     ]
    },
    {
     "name": "stderr",
     "output_type": "stream",
     "text": [
      "\r",
      " 63%|███████████████████████████████████████████████▎                           | 168/266 [4:47:09<2:49:16, 103.64s/it]"
     ]
    },
    {
     "name": "stdout",
     "output_type": "stream",
     "text": [
      "0  2.41e+05    6.87 |   -1.95    0.0    125     0 |   -0.01   0.00   0.14  -0.39\n"
     ]
    },
    {
     "name": "stderr",
     "output_type": "stream",
     "text": [
      "\r",
      " 64%|███████████████████████████████████████████████▋                           | 169/266 [4:48:53<2:47:43, 103.75s/it]"
     ]
    },
    {
     "name": "stdout",
     "output_type": "stream",
     "text": [
      "0  2.42e+05    6.87 |   -1.95    0.0    125     0 |   -0.01   0.02   0.41  -0.39\n"
     ]
    },
    {
     "name": "stderr",
     "output_type": "stream",
     "text": [
      "\r",
      " 64%|███████████████████████████████████████████████▉                           | 170/266 [4:50:37<2:45:56, 103.72s/it]"
     ]
    },
    {
     "name": "stdout",
     "output_type": "stream",
     "text": [
      "0  2.44e+05    6.87 |   -1.95    0.0    125     0 |   -0.01   0.03   0.32  -0.39\n"
     ]
    },
    {
     "name": "stderr",
     "output_type": "stream",
     "text": [
      "\r",
      " 64%|████████████████████████████████████████████████▏                          | 171/266 [4:52:18<2:43:03, 102.99s/it]"
     ]
    },
    {
     "name": "stdout",
     "output_type": "stream",
     "text": [
      "0  2.45e+05    6.87 |   -1.95    0.0    125     0 |   -0.01   0.01   0.35  -0.39\n"
     ]
    },
    {
     "name": "stderr",
     "output_type": "stream",
     "text": [
      "\r",
      " 65%|████████████████████████████████████████████████▍                          | 172/266 [4:54:01<2:41:27, 103.06s/it]"
     ]
    },
    {
     "name": "stdout",
     "output_type": "stream",
     "text": [
      "0  2.46e+05    6.87 |   -1.76    0.0    125     0 |   -0.01   0.02   0.65  -0.39\n"
     ]
    },
    {
     "name": "stderr",
     "output_type": "stream",
     "text": [
      "\r",
      " 65%|████████████████████████████████████████████████▊                          | 173/266 [4:55:43<2:39:09, 102.68s/it]"
     ]
    },
    {
     "name": "stdout",
     "output_type": "stream",
     "text": [
      "0  2.48e+05    6.87 |   -1.76    0.0    125     0 |   -0.01   0.00   0.17  -0.39\n"
     ]
    },
    {
     "name": "stderr",
     "output_type": "stream",
     "text": [
      "\r",
      " 65%|█████████████████████████████████████████████████                          | 174/266 [4:57:24<2:36:52, 102.31s/it]"
     ]
    },
    {
     "name": "stdout",
     "output_type": "stream",
     "text": [
      "0  2.49e+05    6.87 |   -1.76    0.0    125     0 |   -0.01   0.00   0.20  -0.39\n"
     ]
    },
    {
     "name": "stderr",
     "output_type": "stream",
     "text": [
      "\r",
      " 66%|█████████████████████████████████████████████████▎                         | 175/266 [4:59:05<2:34:21, 101.77s/it]"
     ]
    },
    {
     "name": "stdout",
     "output_type": "stream",
     "text": [
      "0  2.50e+05    6.87 |   -1.76    0.0    125     0 |   -0.01   0.00   0.28  -0.39\n"
     ]
    },
    {
     "name": "stderr",
     "output_type": "stream",
     "text": [
      "\r",
      " 66%|█████████████████████████████████████████████████▌                         | 176/266 [5:00:46<2:32:32, 101.69s/it]"
     ]
    },
    {
     "name": "stdout",
     "output_type": "stream",
     "text": [
      "0  2.52e+05    6.87 |   -1.76    0.0    125     0 |   -0.01   0.00   0.34  -0.39\n"
     ]
    },
    {
     "name": "stderr",
     "output_type": "stream",
     "text": [
      "\r",
      " 67%|█████████████████████████████████████████████████▉                         | 177/266 [5:02:29<2:31:07, 101.88s/it]"
     ]
    },
    {
     "name": "stdout",
     "output_type": "stream",
     "text": [
      "0  2.53e+05    6.87 |   -1.76    0.0    125     0 |   -0.01   0.01   0.26  -0.39\n"
     ]
    },
    {
     "name": "stderr",
     "output_type": "stream",
     "text": [
      "\r",
      " 67%|██████████████████████████████████████████████████▏                        | 178/266 [5:04:09<2:28:50, 101.49s/it]"
     ]
    },
    {
     "name": "stdout",
     "output_type": "stream",
     "text": [
      "0  2.54e+05    6.87 |   -1.76    0.0    125     0 |   -0.01   0.01   0.17  -0.39\n"
     ]
    },
    {
     "name": "stderr",
     "output_type": "stream",
     "text": [
      "\r",
      " 67%|██████████████████████████████████████████████████▍                        | 179/266 [5:05:53<2:28:09, 102.18s/it]"
     ]
    },
    {
     "name": "stdout",
     "output_type": "stream",
     "text": [
      "0  2.56e+05    6.87 |   -1.76    0.0    125     0 |   -0.01   0.01   0.22  -0.39\n"
     ]
    },
    {
     "name": "stderr",
     "output_type": "stream",
     "text": [
      "\r",
      " 68%|██████████████████████████████████████████████████▊                        | 180/266 [5:07:37<2:27:12, 102.70s/it]"
     ]
    },
    {
     "name": "stdout",
     "output_type": "stream",
     "text": [
      "0  2.57e+05    6.87 |   -1.76    0.0    125     0 |   -0.01   0.01   0.20  -0.39\n"
     ]
    },
    {
     "name": "stderr",
     "output_type": "stream",
     "text": [
      "\r",
      " 68%|███████████████████████████████████████████████████                        | 181/266 [5:09:20<2:25:39, 102.81s/it]"
     ]
    },
    {
     "name": "stdout",
     "output_type": "stream",
     "text": [
      "0  2.58e+05    6.87 |   -1.77    0.0    125     0 |   -0.01   0.00   0.12  -0.39\n"
     ]
    },
    {
     "name": "stderr",
     "output_type": "stream",
     "text": [
      "\r",
      " 68%|███████████████████████████████████████████████████▎                       | 182/266 [5:11:03<2:23:51, 102.75s/it]"
     ]
    },
    {
     "name": "stdout",
     "output_type": "stream",
     "text": [
      "0  2.60e+05    6.87 |   -1.77    0.0    125     0 |   -0.01   0.02   0.09  -0.39\n"
     ]
    },
    {
     "name": "stderr",
     "output_type": "stream",
     "text": [
      "\r",
      " 69%|███████████████████████████████████████████████████▌                       | 183/266 [5:12:43<2:21:04, 101.98s/it]"
     ]
    },
    {
     "name": "stdout",
     "output_type": "stream",
     "text": [
      "0  2.61e+05    6.87 |   -1.77    0.0    125     0 |   -0.01   0.01   0.19  -0.39\n"
     ]
    },
    {
     "name": "stderr",
     "output_type": "stream",
     "text": [
      "\r",
      " 69%|███████████████████████████████████████████████████▉                       | 184/266 [5:14:28<2:20:32, 102.84s/it]"
     ]
    },
    {
     "name": "stdout",
     "output_type": "stream",
     "text": [
      "0  2.62e+05    6.87 |   -1.77    0.0    125     0 |   -0.01   0.06   0.03  -0.39\n"
     ]
    },
    {
     "name": "stderr",
     "output_type": "stream",
     "text": [
      "\r",
      " 70%|████████████████████████████████████████████████████▏                      | 185/266 [5:16:10<2:18:31, 102.61s/it]"
     ]
    },
    {
     "name": "stdout",
     "output_type": "stream",
     "text": [
      "0  2.64e+05    6.87 |   -1.77    0.0    125     0 |   -0.01   0.08   0.29  -0.39\n"
     ]
    },
    {
     "name": "stderr",
     "output_type": "stream",
     "text": [
      "\r",
      " 70%|████████████████████████████████████████████████████▍                      | 186/266 [5:17:50<2:16:01, 102.02s/it]"
     ]
    },
    {
     "name": "stdout",
     "output_type": "stream",
     "text": [
      "0  2.65e+05    6.87 |   -1.77    0.0    125     0 |   -0.01   0.08   0.24  -0.39\n"
     ]
    },
    {
     "name": "stderr",
     "output_type": "stream",
     "text": [
      "\r",
      " 70%|████████████████████████████████████████████████████▋                      | 187/266 [5:19:36<2:15:34, 102.97s/it]"
     ]
    },
    {
     "name": "stdout",
     "output_type": "stream",
     "text": [
      "0  2.66e+05    6.87 |   -1.75    0.0    125     0 |   -0.01   0.08   0.37  -0.40\n"
     ]
    },
    {
     "name": "stderr",
     "output_type": "stream",
     "text": [
      "\r",
      " 71%|█████████████████████████████████████████████████████                      | 188/266 [5:21:19<2:14:05, 103.15s/it]"
     ]
    },
    {
     "name": "stdout",
     "output_type": "stream",
     "text": [
      "0  2.68e+05    6.87 |   -1.75    0.0    125     0 |   -0.01   0.11   0.51  -0.40\n"
     ]
    },
    {
     "name": "stderr",
     "output_type": "stream",
     "text": [
      "\r",
      " 71%|█████████████████████████████████████████████████████▎                     | 189/266 [5:23:06<2:13:49, 104.29s/it]"
     ]
    },
    {
     "name": "stdout",
     "output_type": "stream",
     "text": [
      "0  2.69e+05    6.87 |   -1.75    0.0    125     0 |   -0.02   0.09   0.32  -0.40\n"
     ]
    },
    {
     "name": "stderr",
     "output_type": "stream",
     "text": [
      "\r",
      " 71%|█████████████████████████████████████████████████████▌                     | 190/266 [5:24:50<2:11:49, 104.08s/it]"
     ]
    },
    {
     "name": "stdout",
     "output_type": "stream",
     "text": [
      "0  2.70e+05    6.87 |   -1.75    0.0    125     0 |   -0.02   0.10   0.41  -0.40\n"
     ]
    },
    {
     "name": "stderr",
     "output_type": "stream",
     "text": [
      "\r",
      " 72%|█████████████████████████████████████████████████████▊                     | 191/266 [5:26:34<2:10:15, 104.20s/it]"
     ]
    },
    {
     "name": "stdout",
     "output_type": "stream",
     "text": [
      "0  2.72e+05    6.87 |   -1.75    0.0    125     0 |   -0.02   0.08   0.22  -0.40\n"
     ]
    },
    {
     "name": "stderr",
     "output_type": "stream",
     "text": [
      "\r",
      " 72%|██████████████████████████████████████████████████████▏                    | 192/266 [5:28:17<2:08:07, 103.88s/it]"
     ]
    },
    {
     "name": "stdout",
     "output_type": "stream",
     "text": [
      "0  2.73e+05    6.87 |   -1.93    0.0    125     0 |   -0.02   0.09   0.33  -0.39\n"
     ]
    },
    {
     "name": "stderr",
     "output_type": "stream",
     "text": [
      "\r",
      " 73%|██████████████████████████████████████████████████████▍                    | 193/266 [5:30:01<2:06:15, 103.78s/it]"
     ]
    },
    {
     "name": "stdout",
     "output_type": "stream",
     "text": [
      "0  2.74e+05    6.87 |   -2.25    0.0    125     0 |   -0.02   0.11   0.37  -0.39\n"
     ]
    },
    {
     "name": "stderr",
     "output_type": "stream",
     "text": [
      "\r",
      " 73%|██████████████████████████████████████████████████████▋                    | 194/266 [5:31:45<2:04:38, 103.87s/it]"
     ]
    },
    {
     "name": "stdout",
     "output_type": "stream",
     "text": [
      "0  2.76e+05    6.87 |   -2.25    0.0    125     0 |   -0.01   0.10   0.21  -0.39\n"
     ]
    },
    {
     "name": "stderr",
     "output_type": "stream",
     "text": [
      "\r",
      " 73%|██████████████████████████████████████████████████████▉                    | 195/266 [5:33:28<2:02:34, 103.59s/it]"
     ]
    },
    {
     "name": "stdout",
     "output_type": "stream",
     "text": [
      "0  2.77e+05    6.87 |   -2.25    0.0    125     0 |   -0.01   0.10   0.47  -0.39\n"
     ]
    },
    {
     "name": "stderr",
     "output_type": "stream",
     "text": [
      "\r",
      " 74%|███████████████████████████████████████████████████████▎                   | 196/266 [5:35:11<2:00:39, 103.43s/it]"
     ]
    },
    {
     "name": "stdout",
     "output_type": "stream",
     "text": [
      "0  2.78e+05    6.87 |   -2.58    0.0    125     0 |   -0.01   0.09   0.40  -0.39\n"
     ]
    },
    {
     "name": "stderr",
     "output_type": "stream",
     "text": [
      "\r",
      " 74%|███████████████████████████████████████████████████████▌                   | 197/266 [5:36:53<1:58:26, 102.99s/it]"
     ]
    },
    {
     "name": "stdout",
     "output_type": "stream",
     "text": [
      "0  2.79e+05    6.87 |   -2.58    0.0    125     0 |   -0.01   0.05   0.07  -0.39\n"
     ]
    },
    {
     "name": "stderr",
     "output_type": "stream",
     "text": [
      "\r",
      " 74%|███████████████████████████████████████████████████████▊                   | 198/266 [5:38:35<1:56:19, 102.64s/it]"
     ]
    },
    {
     "name": "stdout",
     "output_type": "stream",
     "text": [
      "0  2.81e+05    6.87 |   -2.58    0.0    125     0 |   -0.01   0.07   0.29  -0.39\n"
     ]
    },
    {
     "name": "stderr",
     "output_type": "stream",
     "text": [
      "\r",
      " 75%|████████████████████████████████████████████████████████                   | 199/266 [5:40:17<1:54:27, 102.50s/it]"
     ]
    },
    {
     "name": "stdout",
     "output_type": "stream",
     "text": [
      "0  2.82e+05    6.87 |   -2.58    0.0    125     0 |   -0.01   0.08   0.34  -0.39\n"
     ]
    },
    {
     "name": "stderr",
     "output_type": "stream",
     "text": [
      "\r",
      " 75%|████████████████████████████████████████████████████████▍                  | 200/266 [5:42:02<1:53:39, 103.32s/it]"
     ]
    },
    {
     "name": "stdout",
     "output_type": "stream",
     "text": [
      "0  2.83e+05    6.87 |   -2.58    0.0    125     0 |   -0.01   0.12   0.63  -0.39\n"
     ]
    },
    {
     "name": "stderr",
     "output_type": "stream",
     "text": [
      "\r",
      " 76%|████████████████████████████████████████████████████████▋                  | 201/266 [5:43:45<1:51:43, 103.12s/it]"
     ]
    },
    {
     "name": "stdout",
     "output_type": "stream",
     "text": [
      "0  2.85e+05    6.87 |   -2.57    0.0    125     0 |   -0.01   0.11   0.53  -0.39\n"
     ]
    },
    {
     "name": "stderr",
     "output_type": "stream",
     "text": [
      "\r",
      " 76%|████████████████████████████████████████████████████████▉                  | 202/266 [5:45:28<1:50:06, 103.22s/it]"
     ]
    },
    {
     "name": "stdout",
     "output_type": "stream",
     "text": [
      "0  2.86e+05    6.87 |   -2.57    0.0    125     0 |   -0.01   0.08   0.27  -0.39\n"
     ]
    },
    {
     "name": "stderr",
     "output_type": "stream",
     "text": [
      "\r",
      " 76%|█████████████████████████████████████████████████████████▏                 | 203/266 [5:47:10<1:47:57, 102.81s/it]"
     ]
    },
    {
     "name": "stdout",
     "output_type": "stream",
     "text": [
      "0  2.87e+05    6.87 |   -2.57    0.0    125     0 |   -0.01   0.09   0.38  -0.39\n"
     ]
    },
    {
     "name": "stderr",
     "output_type": "stream",
     "text": [
      "\r",
      " 77%|█████████████████████████████████████████████████████████▌                 | 204/266 [5:48:53<1:46:12, 102.78s/it]"
     ]
    },
    {
     "name": "stdout",
     "output_type": "stream",
     "text": [
      "0  2.89e+05    6.87 |   -2.57    0.0    125     0 |   -0.01   0.08   0.35  -0.39\n"
     ]
    },
    {
     "name": "stderr",
     "output_type": "stream",
     "text": [
      "\r",
      " 77%|█████████████████████████████████████████████████████████▊                 | 205/266 [5:50:36<1:44:42, 102.99s/it]"
     ]
    },
    {
     "name": "stdout",
     "output_type": "stream",
     "text": [
      "0  2.90e+05    6.87 |   -2.57    0.0    125     0 |   -0.01   0.09   0.45  -0.39\n"
     ]
    },
    {
     "name": "stderr",
     "output_type": "stream",
     "text": [
      "\r",
      " 77%|██████████████████████████████████████████████████████████                 | 206/266 [5:52:20<1:43:18, 103.32s/it]"
     ]
    },
    {
     "name": "stdout",
     "output_type": "stream",
     "text": [
      "0  2.91e+05    6.87 |   -2.57    0.0    125     0 |   -0.01   0.09   0.38  -0.39\n"
     ]
    },
    {
     "name": "stderr",
     "output_type": "stream",
     "text": [
      "\r",
      " 78%|██████████████████████████████████████████████████████████▎                | 207/266 [5:54:01<1:40:45, 102.47s/it]"
     ]
    },
    {
     "name": "stdout",
     "output_type": "stream",
     "text": [
      "0  2.93e+05    6.87 |   -2.57    0.0    125     0 |   -0.01   0.09   0.38  -0.39\n"
     ]
    },
    {
     "name": "stderr",
     "output_type": "stream",
     "text": [
      "\r",
      " 78%|██████████████████████████████████████████████████████████▋                | 208/266 [5:55:44<1:39:12, 102.63s/it]"
     ]
    },
    {
     "name": "stdout",
     "output_type": "stream",
     "text": [
      "0  2.94e+05    6.87 |   -2.57    0.0    125     0 |   -0.01   0.06   0.05  -0.39\n"
     ]
    },
    {
     "name": "stderr",
     "output_type": "stream",
     "text": [
      "\r",
      " 79%|██████████████████████████████████████████████████████████▉                | 209/266 [5:57:28<1:37:58, 103.14s/it]"
     ]
    },
    {
     "name": "stdout",
     "output_type": "stream",
     "text": [
      "0  2.95e+05    6.87 |   -2.56    0.0    125     0 |   -0.01   0.08   0.38  -0.39\n"
     ]
    },
    {
     "name": "stderr",
     "output_type": "stream",
     "text": [
      "\r",
      " 79%|███████████████████████████████████████████████████████████▏               | 210/266 [5:59:12<1:36:32, 103.43s/it]"
     ]
    },
    {
     "name": "stdout",
     "output_type": "stream",
     "text": [
      "0  2.96e+05    6.87 |   -2.56    0.0    125     0 |   -0.01   0.09   0.51  -0.39\n"
     ]
    },
    {
     "name": "stderr",
     "output_type": "stream",
     "text": [
      " 79%|███████████████████████████████████████████████████████████▍               | 211/266 [6:01:17<1:34:10, 102.74s/it]\n"
     ]
    },
    {
     "ename": "KeyboardInterrupt",
     "evalue": "",
     "output_type": "error",
     "traceback": [
      "\u001b[1;31m---------------------------------------------------------------------------\u001b[0m",
      "\u001b[1;31mKeyboardInterrupt\u001b[0m                         Traceback (most recent call last)",
      "\u001b[1;32m~\\AppData\\Local\\Temp/ipykernel_22644/571385744.py\u001b[0m in \u001b[0;36m<module>\u001b[1;34m\u001b[0m\n\u001b[1;32m----> 1\u001b[1;33m \u001b[0magent_builder\u001b[0m\u001b[1;33m.\u001b[0m\u001b[0mrun_prediction\u001b[0m\u001b[1;33m(\u001b[0m\u001b[0mtotal_timesteps\u001b[0m\u001b[1;33m=\u001b[0m\u001b[1;36m1000\u001b[0m\u001b[1;33m)\u001b[0m\u001b[1;33m\u001b[0m\u001b[1;33m\u001b[0m\u001b[0m\n\u001b[0m",
      "\u001b[1;32m~\\Desktop\\Code\\Finance\\Bot\\FundSimulator\\agents\\BlueAgents.py\u001b[0m in \u001b[0;36mrun_prediction\u001b[1;34m(self, total_timesteps, time_frame, load, model_to_load, normalize)\u001b[0m\n\u001b[0;32m    477\u001b[0m             print(\n\u001b[0;32m    478\u001b[0m                 \u001b[1;34mf\"======{self.model_name} Validation from: \"\u001b[0m\u001b[1;33m,\u001b[0m\u001b[1;33m\u001b[0m\u001b[1;33m\u001b[0m\u001b[0m\n\u001b[1;32m--> 479\u001b[1;33m                 \u001b[0mvalidation\u001b[0m\u001b[1;33m[\u001b[0m\u001b[1;34m'Date'\u001b[0m\u001b[1;33m]\u001b[0m\u001b[1;33m.\u001b[0m\u001b[0miloc\u001b[0m\u001b[1;33m[\u001b[0m\u001b[1;36m0\u001b[0m\u001b[1;33m]\u001b[0m\u001b[1;33m,\u001b[0m\u001b[1;33m\u001b[0m\u001b[1;33m\u001b[0m\u001b[0m\n\u001b[0m\u001b[0;32m    480\u001b[0m                 \u001b[1;34m\"to \"\u001b[0m\u001b[1;33m,\u001b[0m\u001b[1;33m\u001b[0m\u001b[1;33m\u001b[0m\u001b[0m\n\u001b[0;32m    481\u001b[0m                 \u001b[0mvalidation\u001b[0m\u001b[1;33m[\u001b[0m\u001b[1;34m'Date'\u001b[0m\u001b[1;33m]\u001b[0m\u001b[1;33m.\u001b[0m\u001b[0miloc\u001b[0m\u001b[1;33m[\u001b[0m\u001b[1;33m-\u001b[0m\u001b[1;36m1\u001b[0m\u001b[1;33m]\u001b[0m\u001b[1;33m,\u001b[0m\u001b[1;33m\u001b[0m\u001b[1;33m\u001b[0m\u001b[0m\n",
      "\u001b[1;32m~\\Desktop\\Code\\Finance\\Bot\\FundSimulator\\agents\\Base\\run.py\u001b[0m in \u001b[0;36mtrain_and_evaluate\u001b[1;34m(***failed resolving arguments***)\u001b[0m\n\u001b[0;32m    231\u001b[0m             \u001b[0msteps\u001b[0m\u001b[1;33m,\u001b[0m \u001b[0mr_exp\u001b[0m \u001b[1;33m=\u001b[0m \u001b[0mupdate_buffer\u001b[0m\u001b[1;33m(\u001b[0m\u001b[0mtraj_list\u001b[0m\u001b[1;33m)\u001b[0m\u001b[1;33m\u001b[0m\u001b[1;33m\u001b[0m\u001b[0m\n\u001b[0;32m    232\u001b[0m \u001b[1;33m\u001b[0m\u001b[0m\n\u001b[1;32m--> 233\u001b[1;33m         \u001b[0mlogging_tuple\u001b[0m \u001b[1;33m=\u001b[0m \u001b[0magent\u001b[0m\u001b[1;33m.\u001b[0m\u001b[0mupdate_net\u001b[0m\u001b[1;33m(\u001b[0m\u001b[0mbuffer\u001b[0m\u001b[1;33m,\u001b[0m \u001b[0mbatch_size\u001b[0m\u001b[1;33m,\u001b[0m \u001b[0mrepeat_times\u001b[0m\u001b[1;33m,\u001b[0m \u001b[0msoft_update_tau\u001b[0m\u001b[1;33m)\u001b[0m \u001b[1;31m# (Actor loss, Critic Loss, Action_std_log)\u001b[0m\u001b[1;33m\u001b[0m\u001b[1;33m\u001b[0m\u001b[0m\n\u001b[0m\u001b[0;32m    234\u001b[0m         \u001b[0mlogging_dict\u001b[0m \u001b[1;33m=\u001b[0m \u001b[0mdict\u001b[0m\u001b[1;33m(\u001b[0m\u001b[1;33m(\u001b[0m\u001b[0mx\u001b[0m\u001b[1;33m,\u001b[0m\u001b[0my\u001b[0m\u001b[1;33m)\u001b[0m \u001b[1;32mfor\u001b[0m \u001b[0mx\u001b[0m\u001b[1;33m,\u001b[0m\u001b[0my\u001b[0m \u001b[1;32min\u001b[0m \u001b[0mzip\u001b[0m\u001b[1;33m(\u001b[0m\u001b[1;33m(\u001b[0m\u001b[1;34m'actor_loss'\u001b[0m\u001b[1;33m,\u001b[0m\u001b[1;34m'critic_loss'\u001b[0m\u001b[1;33m,\u001b[0m\u001b[1;34m'Action_std_log'\u001b[0m\u001b[1;33m)\u001b[0m\u001b[1;33m,\u001b[0m \u001b[0mlogging_tuple\u001b[0m\u001b[1;33m)\u001b[0m\u001b[1;33m)\u001b[0m\u001b[1;33m\u001b[0m\u001b[1;33m\u001b[0m\u001b[0m\n\u001b[0;32m    235\u001b[0m \u001b[1;33m\u001b[0m\u001b[0m\n",
      "\u001b[1;32m~\\Desktop\\Code\\Finance\\Bot\\FundSimulator\\agents\\Base\\deepagents.py\u001b[0m in \u001b[0;36mupdate_net\u001b[1;34m(self, buffer, batch_size, repeat_times, soft_update_tau)\u001b[0m\n\u001b[0;32m    747\u001b[0m             \u001b[0mobj_critic\u001b[0m \u001b[1;33m=\u001b[0m \u001b[0mself\u001b[0m\u001b[1;33m.\u001b[0m\u001b[0mcriterion\u001b[0m\u001b[1;33m(\u001b[0m\u001b[0mvalue\u001b[0m\u001b[1;33m,\u001b[0m \u001b[0mr_sum\u001b[0m\u001b[1;33m)\u001b[0m \u001b[1;33m/\u001b[0m \u001b[1;33m(\u001b[0m\u001b[0mr_sum\u001b[0m\u001b[1;33m.\u001b[0m\u001b[0mstd\u001b[0m\u001b[1;33m(\u001b[0m\u001b[1;33m)\u001b[0m \u001b[1;33m+\u001b[0m \u001b[1;36m1e-6\u001b[0m\u001b[1;33m)\u001b[0m\u001b[1;33m\u001b[0m\u001b[1;33m\u001b[0m\u001b[0m\n\u001b[0;32m    748\u001b[0m \u001b[1;33m\u001b[0m\u001b[0m\n\u001b[1;32m--> 749\u001b[1;33m             \u001b[0mself\u001b[0m\u001b[1;33m.\u001b[0m\u001b[0moptim_update\u001b[0m\u001b[1;33m(\u001b[0m\u001b[0mself\u001b[0m\u001b[1;33m.\u001b[0m\u001b[0mcri_optim\u001b[0m\u001b[1;33m,\u001b[0m \u001b[0mobj_critic\u001b[0m\u001b[1;33m,\u001b[0m \u001b[0mself\u001b[0m\u001b[1;33m.\u001b[0m\u001b[0mcri\u001b[0m\u001b[1;33m.\u001b[0m\u001b[0mparameters\u001b[0m\u001b[1;33m(\u001b[0m\u001b[1;33m)\u001b[0m\u001b[1;33m)\u001b[0m\u001b[1;33m\u001b[0m\u001b[1;33m\u001b[0m\u001b[0m\n\u001b[0m\u001b[0;32m    750\u001b[0m             \u001b[0mself\u001b[0m\u001b[1;33m.\u001b[0m\u001b[0msoft_update\u001b[0m\u001b[1;33m(\u001b[0m\u001b[0mself\u001b[0m\u001b[1;33m.\u001b[0m\u001b[0mcri_target\u001b[0m\u001b[1;33m,\u001b[0m \u001b[0mself\u001b[0m\u001b[1;33m.\u001b[0m\u001b[0mcri\u001b[0m\u001b[1;33m,\u001b[0m \u001b[0msoft_update_tau\u001b[0m\u001b[1;33m)\u001b[0m \u001b[1;32mif\u001b[0m \u001b[0mself\u001b[0m\u001b[1;33m.\u001b[0m\u001b[0mcri_target\u001b[0m \u001b[1;32mis\u001b[0m \u001b[1;32mnot\u001b[0m \u001b[0mself\u001b[0m\u001b[1;33m.\u001b[0m\u001b[0mcri\u001b[0m \u001b[1;32melse\u001b[0m \u001b[1;32mNone\u001b[0m\u001b[1;33m\u001b[0m\u001b[1;33m\u001b[0m\u001b[0m\n\u001b[0;32m    751\u001b[0m \u001b[1;33m\u001b[0m\u001b[0m\n",
      "\u001b[1;32m~\\Desktop\\Code\\Finance\\Bot\\FundSimulator\\agents\\Base\\deepagents.py\u001b[0m in \u001b[0;36moptim_update\u001b[1;34m(self, optimizer, objective, params)\u001b[0m\n\u001b[0;32m    178\u001b[0m         \u001b[0mobjective\u001b[0m\u001b[1;33m.\u001b[0m\u001b[0mbackward\u001b[0m\u001b[1;33m(\u001b[0m\u001b[1;33m)\u001b[0m\u001b[1;33m\u001b[0m\u001b[1;33m\u001b[0m\u001b[0m\n\u001b[0;32m    179\u001b[0m         \u001b[0mclip_grad_norm_\u001b[0m\u001b[1;33m(\u001b[0m\u001b[0mparams\u001b[0m\u001b[1;33m,\u001b[0m \u001b[0mmax_norm\u001b[0m\u001b[1;33m=\u001b[0m\u001b[0mself\u001b[0m\u001b[1;33m.\u001b[0m\u001b[0mclip_grad_norm\u001b[0m\u001b[1;33m)\u001b[0m\u001b[1;33m\u001b[0m\u001b[1;33m\u001b[0m\u001b[0m\n\u001b[1;32m--> 180\u001b[1;33m         \u001b[0moptimizer\u001b[0m\u001b[1;33m.\u001b[0m\u001b[0mstep\u001b[0m\u001b[1;33m(\u001b[0m\u001b[1;33m)\u001b[0m\u001b[1;33m\u001b[0m\u001b[1;33m\u001b[0m\u001b[0m\n\u001b[0m\u001b[0;32m    181\u001b[0m \u001b[1;33m\u001b[0m\u001b[0m\n\u001b[0;32m    182\u001b[0m     \u001b[1;31m# def optim_update_amp(self, optimizer, objective):  # automatic mixed precision\u001b[0m\u001b[1;33m\u001b[0m\u001b[1;33m\u001b[0m\u001b[1;33m\u001b[0m\u001b[0m\n",
      "\u001b[1;32m~\\AppData\\Roaming\\Python\\Python37\\site-packages\\torch\\optim\\optimizer.py\u001b[0m in \u001b[0;36mwrapper\u001b[1;34m(*args, **kwargs)\u001b[0m\n\u001b[0;32m     86\u001b[0m                 \u001b[0mprofile_name\u001b[0m \u001b[1;33m=\u001b[0m \u001b[1;34m\"Optimizer.step#{}.step\"\u001b[0m\u001b[1;33m.\u001b[0m\u001b[0mformat\u001b[0m\u001b[1;33m(\u001b[0m\u001b[0mobj\u001b[0m\u001b[1;33m.\u001b[0m\u001b[0m__class__\u001b[0m\u001b[1;33m.\u001b[0m\u001b[0m__name__\u001b[0m\u001b[1;33m)\u001b[0m\u001b[1;33m\u001b[0m\u001b[1;33m\u001b[0m\u001b[0m\n\u001b[0;32m     87\u001b[0m                 \u001b[1;32mwith\u001b[0m \u001b[0mtorch\u001b[0m\u001b[1;33m.\u001b[0m\u001b[0mautograd\u001b[0m\u001b[1;33m.\u001b[0m\u001b[0mprofiler\u001b[0m\u001b[1;33m.\u001b[0m\u001b[0mrecord_function\u001b[0m\u001b[1;33m(\u001b[0m\u001b[0mprofile_name\u001b[0m\u001b[1;33m)\u001b[0m\u001b[1;33m:\u001b[0m\u001b[1;33m\u001b[0m\u001b[1;33m\u001b[0m\u001b[0m\n\u001b[1;32m---> 88\u001b[1;33m                     \u001b[1;32mreturn\u001b[0m \u001b[0mfunc\u001b[0m\u001b[1;33m(\u001b[0m\u001b[1;33m*\u001b[0m\u001b[0margs\u001b[0m\u001b[1;33m,\u001b[0m \u001b[1;33m**\u001b[0m\u001b[0mkwargs\u001b[0m\u001b[1;33m)\u001b[0m\u001b[1;33m\u001b[0m\u001b[1;33m\u001b[0m\u001b[0m\n\u001b[0m\u001b[0;32m     89\u001b[0m             \u001b[1;32mreturn\u001b[0m \u001b[0mwrapper\u001b[0m\u001b[1;33m\u001b[0m\u001b[1;33m\u001b[0m\u001b[0m\n\u001b[0;32m     90\u001b[0m \u001b[1;33m\u001b[0m\u001b[0m\n",
      "\u001b[1;32m~\\AppData\\Roaming\\Python\\Python37\\site-packages\\torch\\autograd\\grad_mode.py\u001b[0m in \u001b[0;36mdecorate_context\u001b[1;34m(*args, **kwargs)\u001b[0m\n\u001b[0;32m     26\u001b[0m         \u001b[1;32mdef\u001b[0m \u001b[0mdecorate_context\u001b[0m\u001b[1;33m(\u001b[0m\u001b[1;33m*\u001b[0m\u001b[0margs\u001b[0m\u001b[1;33m,\u001b[0m \u001b[1;33m**\u001b[0m\u001b[0mkwargs\u001b[0m\u001b[1;33m)\u001b[0m\u001b[1;33m:\u001b[0m\u001b[1;33m\u001b[0m\u001b[1;33m\u001b[0m\u001b[0m\n\u001b[0;32m     27\u001b[0m             \u001b[1;32mwith\u001b[0m \u001b[0mself\u001b[0m\u001b[1;33m.\u001b[0m\u001b[0m__class__\u001b[0m\u001b[1;33m(\u001b[0m\u001b[1;33m)\u001b[0m\u001b[1;33m:\u001b[0m\u001b[1;33m\u001b[0m\u001b[1;33m\u001b[0m\u001b[0m\n\u001b[1;32m---> 28\u001b[1;33m                 \u001b[1;32mreturn\u001b[0m \u001b[0mfunc\u001b[0m\u001b[1;33m(\u001b[0m\u001b[1;33m*\u001b[0m\u001b[0margs\u001b[0m\u001b[1;33m,\u001b[0m \u001b[1;33m**\u001b[0m\u001b[0mkwargs\u001b[0m\u001b[1;33m)\u001b[0m\u001b[1;33m\u001b[0m\u001b[1;33m\u001b[0m\u001b[0m\n\u001b[0m\u001b[0;32m     29\u001b[0m         \u001b[1;32mreturn\u001b[0m \u001b[0mcast\u001b[0m\u001b[1;33m(\u001b[0m\u001b[0mF\u001b[0m\u001b[1;33m,\u001b[0m \u001b[0mdecorate_context\u001b[0m\u001b[1;33m)\u001b[0m\u001b[1;33m\u001b[0m\u001b[1;33m\u001b[0m\u001b[0m\n\u001b[0;32m     30\u001b[0m \u001b[1;33m\u001b[0m\u001b[0m\n",
      "\u001b[1;32m~\\AppData\\Roaming\\Python\\Python37\\site-packages\\torch\\optim\\adam.py\u001b[0m in \u001b[0;36mstep\u001b[1;34m(self, closure)\u001b[0m\n\u001b[0;32m    142\u001b[0m                    \u001b[0mlr\u001b[0m\u001b[1;33m=\u001b[0m\u001b[0mgroup\u001b[0m\u001b[1;33m[\u001b[0m\u001b[1;34m'lr'\u001b[0m\u001b[1;33m]\u001b[0m\u001b[1;33m,\u001b[0m\u001b[1;33m\u001b[0m\u001b[1;33m\u001b[0m\u001b[0m\n\u001b[0;32m    143\u001b[0m                    \u001b[0mweight_decay\u001b[0m\u001b[1;33m=\u001b[0m\u001b[0mgroup\u001b[0m\u001b[1;33m[\u001b[0m\u001b[1;34m'weight_decay'\u001b[0m\u001b[1;33m]\u001b[0m\u001b[1;33m,\u001b[0m\u001b[1;33m\u001b[0m\u001b[1;33m\u001b[0m\u001b[0m\n\u001b[1;32m--> 144\u001b[1;33m                    eps=group['eps'])\n\u001b[0m\u001b[0;32m    145\u001b[0m         \u001b[1;32mreturn\u001b[0m \u001b[0mloss\u001b[0m\u001b[1;33m\u001b[0m\u001b[1;33m\u001b[0m\u001b[0m\n",
      "\u001b[1;32m~\\AppData\\Roaming\\Python\\Python37\\site-packages\\torch\\optim\\_functional.py\u001b[0m in \u001b[0;36madam\u001b[1;34m(params, grads, exp_avgs, exp_avg_sqs, max_exp_avg_sqs, state_steps, amsgrad, beta1, beta2, lr, weight_decay, eps)\u001b[0m\n\u001b[0;32m     92\u001b[0m             \u001b[0mdenom\u001b[0m \u001b[1;33m=\u001b[0m \u001b[1;33m(\u001b[0m\u001b[0mmax_exp_avg_sqs\u001b[0m\u001b[1;33m[\u001b[0m\u001b[0mi\u001b[0m\u001b[1;33m]\u001b[0m\u001b[1;33m.\u001b[0m\u001b[0msqrt\u001b[0m\u001b[1;33m(\u001b[0m\u001b[1;33m)\u001b[0m \u001b[1;33m/\u001b[0m \u001b[0mmath\u001b[0m\u001b[1;33m.\u001b[0m\u001b[0msqrt\u001b[0m\u001b[1;33m(\u001b[0m\u001b[0mbias_correction2\u001b[0m\u001b[1;33m)\u001b[0m\u001b[1;33m)\u001b[0m\u001b[1;33m.\u001b[0m\u001b[0madd_\u001b[0m\u001b[1;33m(\u001b[0m\u001b[0meps\u001b[0m\u001b[1;33m)\u001b[0m\u001b[1;33m\u001b[0m\u001b[1;33m\u001b[0m\u001b[0m\n\u001b[0;32m     93\u001b[0m         \u001b[1;32melse\u001b[0m\u001b[1;33m:\u001b[0m\u001b[1;33m\u001b[0m\u001b[1;33m\u001b[0m\u001b[0m\n\u001b[1;32m---> 94\u001b[1;33m             \u001b[0mdenom\u001b[0m \u001b[1;33m=\u001b[0m \u001b[1;33m(\u001b[0m\u001b[0mexp_avg_sq\u001b[0m\u001b[1;33m.\u001b[0m\u001b[0msqrt\u001b[0m\u001b[1;33m(\u001b[0m\u001b[1;33m)\u001b[0m \u001b[1;33m/\u001b[0m \u001b[0mmath\u001b[0m\u001b[1;33m.\u001b[0m\u001b[0msqrt\u001b[0m\u001b[1;33m(\u001b[0m\u001b[0mbias_correction2\u001b[0m\u001b[1;33m)\u001b[0m\u001b[1;33m)\u001b[0m\u001b[1;33m.\u001b[0m\u001b[0madd_\u001b[0m\u001b[1;33m(\u001b[0m\u001b[0meps\u001b[0m\u001b[1;33m)\u001b[0m\u001b[1;33m\u001b[0m\u001b[1;33m\u001b[0m\u001b[0m\n\u001b[0m\u001b[0;32m     95\u001b[0m \u001b[1;33m\u001b[0m\u001b[0m\n\u001b[0;32m     96\u001b[0m         \u001b[0mstep_size\u001b[0m \u001b[1;33m=\u001b[0m \u001b[0mlr\u001b[0m \u001b[1;33m/\u001b[0m \u001b[0mbias_correction1\u001b[0m\u001b[1;33m\u001b[0m\u001b[1;33m\u001b[0m\u001b[0m\n",
      "\u001b[1;31mKeyboardInterrupt\u001b[0m: "
     ]
    }
   ],
   "source": [
    "agent_builder.run_prediction(total_timesteps=1000)"
   ]
  },
  {
   "cell_type": "code",
   "execution_count": null,
   "id": "7c7d13c6",
   "metadata": {},
   "outputs": [
    {
     "name": "stdout",
     "output_type": "stream",
     "text": [
      "======Training Agents with the population of 5========\n",
      "============================================\n",
      "Agent:  0\n",
      "======Model training from:  2010-01-01 to  2016-01-04\n",
      "| Remove cwd: ./trained_models\n",
      "Using device:  cpu\n",
      "################################################################################\n",
      "ID     Step    maxR |    avgR   stdR   avgS  stdS |    expR   objC   etc.\n"
     ]
    },
    {
     "name": "stderr",
     "output_type": "stream",
     "text": [
      "\r",
      "  0%|                                                                                           | 0/28 [00:00<?, ?it/s]"
     ]
    },
    {
     "name": "stdout",
     "output_type": "stream",
     "text": [
      "0  1.51e+03    1.37 |    1.37    2.9    125     0 |   -0.04   0.01   0.04  -0.50\n"
     ]
    },
    {
     "name": "stderr",
     "output_type": "stream",
     "text": [
      "\r",
      "  4%|██▉                                                                                | 1/28 [01:29<40:21, 89.70s/it]"
     ]
    },
    {
     "name": "stdout",
     "output_type": "stream",
     "text": [
      "0  3.02e+03    3.74 |    3.74    0.2    125     0 |   -0.01   0.00  -0.13  -0.50\n"
     ]
    },
    {
     "name": "stderr",
     "output_type": "stream",
     "text": [
      "\r",
      "  7%|█████▉                                                                             | 2/28 [03:04<40:13, 92.81s/it]"
     ]
    },
    {
     "name": "stdout",
     "output_type": "stream",
     "text": [
      "0  4.53e+03    6.34 |    6.34    0.2    125     0 |   -0.01   0.00   0.35  -0.50\n"
     ]
    },
    {
     "name": "stderr",
     "output_type": "stream",
     "text": [
      "\r",
      " 11%|████████▉                                                                          | 3/28 [04:46<40:27, 97.10s/it]"
     ]
    },
    {
     "name": "stdout",
     "output_type": "stream",
     "text": [
      "0  6.03e+03    6.34 |    2.86    0.0    125     0 |    0.01   0.00   0.39  -0.50\n"
     ]
    },
    {
     "name": "stderr",
     "output_type": "stream",
     "text": [
      "\r",
      " 14%|███████████▊                                                                       | 4/28 [06:14<37:18, 93.29s/it]"
     ]
    },
    {
     "name": "stdout",
     "output_type": "stream",
     "text": [
      "0  7.54e+03    6.34 |    3.66    0.0    125     0 |   -0.00   0.00   0.32  -0.50\n"
     ]
    },
    {
     "name": "stderr",
     "output_type": "stream",
     "text": [
      "\r",
      " 18%|██████████████▊                                                                    | 5/28 [07:46<35:32, 92.72s/it]"
     ]
    },
    {
     "name": "stdout",
     "output_type": "stream",
     "text": [
      "0  9.04e+03    6.34 |    1.66    0.0    125     0 |   -0.01   0.00   0.19  -0.50\n"
     ]
    },
    {
     "name": "stderr",
     "output_type": "stream",
     "text": [
      "\r",
      " 21%|█████████████████▊                                                                 | 6/28 [09:15<33:36, 91.65s/it]"
     ]
    },
    {
     "name": "stdout",
     "output_type": "stream",
     "text": [
      "0  1.05e+04    6.34 |   -0.39    0.0    125     0 |   -0.01   0.00   0.22  -0.50\n"
     ]
    },
    {
     "name": "stderr",
     "output_type": "stream",
     "text": [
      "\r",
      " 25%|████████████████████▊                                                              | 7/28 [10:47<32:09, 91.86s/it]"
     ]
    },
    {
     "name": "stdout",
     "output_type": "stream",
     "text": [
      "0  1.21e+04    6.34 |   -0.22    0.0    125     0 |   -0.01   0.00   0.19  -0.50\n"
     ]
    },
    {
     "name": "stderr",
     "output_type": "stream",
     "text": [
      "\r",
      " 29%|███████████████████████▋                                                           | 8/28 [12:19<30:34, 91.75s/it]"
     ]
    },
    {
     "name": "stdout",
     "output_type": "stream",
     "text": [
      "0  1.36e+04    6.34 |    0.16    0.0    125     0 |   -0.01   0.00   0.38  -0.50\n"
     ]
    },
    {
     "name": "stderr",
     "output_type": "stream",
     "text": [
      "\r",
      " 32%|██████████████████████████▋                                                        | 9/28 [13:50<29:01, 91.68s/it]"
     ]
    },
    {
     "name": "stdout",
     "output_type": "stream",
     "text": [
      "0  1.51e+04    6.34 |   -1.60    0.0    125     0 |   -0.01   0.00   0.37  -0.50\n"
     ]
    },
    {
     "name": "stderr",
     "output_type": "stream",
     "text": [
      "\r",
      " 36%|█████████████████████████████▎                                                    | 10/28 [15:19<27:14, 90.83s/it]"
     ]
    },
    {
     "name": "stdout",
     "output_type": "stream",
     "text": [
      "0  1.66e+04    6.34 |    3.90    0.0    125     0 |   -0.02   0.00   0.20  -0.50\n"
     ]
    },
    {
     "name": "stderr",
     "output_type": "stream",
     "text": [
      "\r",
      " 39%|████████████████████████████████▏                                                 | 11/28 [16:50<25:44, 90.84s/it]"
     ]
    },
    {
     "name": "stdout",
     "output_type": "stream",
     "text": [
      "0  1.81e+04    6.34 |    5.75    0.0    125     0 |   -0.01   0.00   0.49  -0.50\n"
     ]
    },
    {
     "name": "stderr",
     "output_type": "stream",
     "text": [
      "\r",
      " 43%|███████████████████████████████████▏                                              | 12/28 [18:21<24:13, 90.84s/it]"
     ]
    },
    {
     "name": "stdout",
     "output_type": "stream",
     "text": [
      "0  1.96e+04    6.34 |    5.97    0.0    125     0 |   -0.01   0.00   0.37  -0.50\n"
     ]
    },
    {
     "name": "stderr",
     "output_type": "stream",
     "text": [
      "\r",
      " 46%|██████████████████████████████████████                                            | 13/28 [19:52<22:41, 90.75s/it]"
     ]
    },
    {
     "name": "stdout",
     "output_type": "stream",
     "text": [
      "0  2.10e+04    6.34 |    5.96    0.0    125     0 |   -0.01   0.00   0.25  -0.50\n"
     ]
    },
    {
     "name": "stderr",
     "output_type": "stream",
     "text": [
      "\r",
      " 50%|█████████████████████████████████████████                                         | 14/28 [21:20<21:00, 90.07s/it]"
     ]
    },
    {
     "name": "stdout",
     "output_type": "stream",
     "text": [
      "0  2.25e+04    6.34 |   -0.16    0.0    125     0 |   -0.00   0.00   0.07  -0.50\n"
     ]
    },
    {
     "name": "stderr",
     "output_type": "stream",
     "text": [
      "\r",
      " 54%|███████████████████████████████████████████▉                                      | 15/28 [22:50<19:28, 89.92s/it]"
     ]
    },
    {
     "name": "stdout",
     "output_type": "stream",
     "text": [
      "0  2.40e+04    6.34 |    0.40    0.0    125     0 |   -0.01   0.00   0.30  -0.50\n"
     ]
    },
    {
     "name": "stderr",
     "output_type": "stream",
     "text": [
      "\r",
      " 57%|██████████████████████████████████████████████▊                                   | 16/28 [24:18<17:54, 89.58s/it]"
     ]
    },
    {
     "name": "stdout",
     "output_type": "stream",
     "text": [
      "0  2.55e+04    6.34 |    0.43    0.0    125     0 |   -0.02   0.00   0.25  -0.50\n"
     ]
    },
    {
     "name": "stderr",
     "output_type": "stream",
     "text": [
      "\r",
      " 61%|█████████████████████████████████████████████████▊                                | 17/28 [25:50<16:31, 90.17s/it]"
     ]
    },
    {
     "name": "stdout",
     "output_type": "stream",
     "text": [
      "0  2.70e+04    6.34 |    2.61    0.0    125     0 |   -0.02   0.00   0.25  -0.50\n"
     ]
    },
    {
     "name": "stderr",
     "output_type": "stream",
     "text": [
      "\r",
      " 64%|████████████████████████████████████████████████████▋                             | 18/28 [27:21<15:03, 90.33s/it]"
     ]
    },
    {
     "name": "stdout",
     "output_type": "stream",
     "text": [
      "0  2.85e+04    6.34 |    2.51    0.0    125     0 |   -0.02   0.00   0.26  -0.50\n"
     ]
    },
    {
     "name": "stderr",
     "output_type": "stream",
     "text": [
      "\r",
      " 68%|███████████████████████████████████████████████████████▋                          | 19/28 [28:52<13:34, 90.50s/it]"
     ]
    },
    {
     "name": "stdout",
     "output_type": "stream",
     "text": [
      "0  3.00e+04    6.34 |    1.80    0.0    125     0 |   -0.02   0.00   0.35  -0.50\n"
     ]
    },
    {
     "name": "stderr",
     "output_type": "stream",
     "text": [
      "\r",
      " 71%|██████████████████████████████████████████████████████████▌                       | 20/28 [30:22<12:03, 90.43s/it]"
     ]
    },
    {
     "name": "stdout",
     "output_type": "stream",
     "text": [
      "0  3.15e+04    6.34 |    0.66    0.0    125     0 |   -0.02   0.00   0.12  -0.50\n"
     ]
    },
    {
     "name": "stderr",
     "output_type": "stream",
     "text": [
      "\r",
      " 75%|█████████████████████████████████████████████████████████████▌                    | 21/28 [31:50<10:27, 89.67s/it]"
     ]
    },
    {
     "name": "stdout",
     "output_type": "stream",
     "text": [
      "0  3.30e+04    6.34 |    0.55    0.0    125     0 |   -0.02   0.00   0.24  -0.50\n"
     ]
    },
    {
     "name": "stderr",
     "output_type": "stream",
     "text": [
      "\r",
      " 79%|████████████████████████████████████████████████████████████████▍                 | 22/28 [33:19<08:57, 89.59s/it]"
     ]
    },
    {
     "name": "stdout",
     "output_type": "stream",
     "text": [
      "0  3.45e+04    6.34 |    2.09    0.0    125     0 |   -0.02   0.00   0.31  -0.50\n"
     ]
    },
    {
     "name": "stderr",
     "output_type": "stream",
     "text": [
      "\r",
      " 82%|███████████████████████████████████████████████████████████████████▎              | 23/28 [34:49<07:28, 89.69s/it]"
     ]
    },
    {
     "name": "stdout",
     "output_type": "stream",
     "text": [
      "0  3.60e+04    6.34 |    0.43    0.0    125     0 |   -0.02   0.00   0.40  -0.50\n"
     ]
    },
    {
     "name": "stderr",
     "output_type": "stream",
     "text": [
      "\r",
      " 86%|██████████████████████████████████████████████████████████████████████▎           | 24/28 [36:17<05:56, 89.17s/it]"
     ]
    },
    {
     "name": "stdout",
     "output_type": "stream",
     "text": [
      "0  3.74e+04    6.34 |    0.96    0.0    125     0 |   -0.02   0.00   0.38  -0.50\n"
     ]
    },
    {
     "name": "stderr",
     "output_type": "stream",
     "text": [
      "\r",
      " 89%|█████████████████████████████████████████████████████████████████████████▏        | 25/28 [37:47<04:28, 89.48s/it]"
     ]
    },
    {
     "name": "stdout",
     "output_type": "stream",
     "text": [
      "0  3.89e+04    6.34 |   -0.05    0.0    125     0 |   -0.01   0.00   0.45  -0.50\n"
     ]
    },
    {
     "name": "stderr",
     "output_type": "stream",
     "text": [
      "\r",
      " 93%|████████████████████████████████████████████████████████████████████████████▏     | 26/28 [39:16<02:58, 89.24s/it]"
     ]
    },
    {
     "name": "stdout",
     "output_type": "stream",
     "text": [
      "0  4.04e+04    6.34 |   -0.05    0.0    125     0 |   -0.02   0.00   0.23  -0.50\n"
     ]
    },
    {
     "name": "stderr",
     "output_type": "stream",
     "text": [
      "\r",
      " 96%|███████████████████████████████████████████████████████████████████████████████   | 27/28 [40:44<01:28, 88.96s/it]"
     ]
    },
    {
     "name": "stdout",
     "output_type": "stream",
     "text": [
      "0  4.19e+04    6.34 |    1.46    0.0    125     0 |   -0.02   0.00   0.33  -0.50\n"
     ]
    },
    {
     "name": "stderr",
     "output_type": "stream",
     "text": [
      "100%|██████████████████████████████████████████████████████████████████████████████████| 28/28 [42:13<00:00, 90.50s/it]\n"
     ]
    },
    {
     "name": "stdout",
     "output_type": "stream",
     "text": [
      "| UsedTime:    2534 | SavedDir: ./trained_models | Total Step: 1483\n",
      "======jim-ppo-52-agent-0 Validation from:  2016-01-04 to  2016-07-01\n",
      "Max reward at validation for Reccurent PPO 125.0\n",
      "======Trading from:  2016-07-05 to  2017-01-03\n",
      "Using device:  cpu\n",
      "previous_total_asset:1000000\n",
      "end_total_asset:1116688.3615912443\n",
      "total_asset_change:116688.36159124435\n",
      "Total cash is: 23.65691403933073$ and total holdings in stocks are 1116664.704677205$\n",
      "Buy & Hold strategy with previous total asset:  1107583.5885027447\n",
      "Total Cost:  1114.7513350731067\n",
      "Sum of rewards  -1709824.2770537634\n",
      "Total trades:  154\n",
      "Total buy orders are 144 and total sell orders are 10\n",
      "Total days in turbulance:  0\n",
      "Sharpe:  0.3051857143371525\n",
      "Test Finished!\n",
      "episode_return % 0.11670000000000003\n",
      "============================================\n",
      "Agent:  0\n",
      "======Model training from:  2010-01-01 to  2016-07-05\n",
      "| Remove cwd: ./trained_models\n",
      "Using device:  cpu\n",
      "################################################################################\n",
      "ID     Step    maxR |    avgR   stdR   avgS  stdS |    expR   objC   etc.\n"
     ]
    },
    {
     "name": "stderr",
     "output_type": "stream",
     "text": [
      "\r",
      "  0%|                                                                                           | 0/25 [00:00<?, ?it/s]"
     ]
    },
    {
     "name": "stdout",
     "output_type": "stream",
     "text": [
      "0  1.64e+03   -6.26 |   -6.26    3.2    125     0 |   -0.04   0.00   0.12  -0.51\n"
     ]
    },
    {
     "name": "stderr",
     "output_type": "stream",
     "text": [
      "\r",
      "  4%|███▎                                                                               | 1/25 [01:36<38:47, 96.98s/it]"
     ]
    },
    {
     "name": "stdout",
     "output_type": "stream",
     "text": [
      "0  3.27e+03   -6.26 |   -6.31    0.2    125     0 |    0.00   0.00  -0.13  -0.51\n"
     ]
    },
    {
     "name": "stderr",
     "output_type": "stream",
     "text": [
      "\r",
      "  8%|██████▋                                                                            | 2/25 [03:06<35:29, 92.57s/it]"
     ]
    },
    {
     "name": "stdout",
     "output_type": "stream",
     "text": [
      "0  4.90e+03   -5.21 |   -5.21    0.0    125     0 |    0.00   0.00   0.28  -0.51\n"
     ]
    },
    {
     "name": "stderr",
     "output_type": "stream",
     "text": [
      "\r",
      " 12%|█████████▉                                                                         | 3/25 [04:55<36:37, 99.88s/it]"
     ]
    },
    {
     "name": "stdout",
     "output_type": "stream",
     "text": [
      "0  6.54e+03   -5.10 |   -5.10    0.0    125     0 |   -0.00   0.00   0.24  -0.51\n"
     ]
    },
    {
     "name": "stderr",
     "output_type": "stream",
     "text": [
      "\r",
      " 16%|█████████████                                                                     | 4/25 [06:43<36:04, 103.09s/it]"
     ]
    },
    {
     "name": "stdout",
     "output_type": "stream",
     "text": [
      "0  8.17e+03   -5.10 |   -6.76    0.1    125     0 |   -0.00   0.00   0.19  -0.51\n"
     ]
    },
    {
     "name": "stderr",
     "output_type": "stream",
     "text": [
      "\r",
      " 20%|████████████████▌                                                                  | 5/25 [08:16<33:09, 99.45s/it]"
     ]
    },
    {
     "name": "stdout",
     "output_type": "stream",
     "text": [
      "0  9.80e+03   -5.10 |   -5.74    0.2    125     0 |    0.00   0.00   0.30  -0.50\n"
     ]
    },
    {
     "name": "stderr",
     "output_type": "stream",
     "text": [
      "\r",
      " 24%|███████████████████▉                                                               | 6/25 [09:53<31:13, 98.61s/it]"
     ]
    },
    {
     "name": "stdout",
     "output_type": "stream",
     "text": [
      "0  1.14e+04   -4.86 |   -4.86    0.2    125     0 |    0.00   0.00   0.29  -0.50\n"
     ]
    },
    {
     "name": "stderr",
     "output_type": "stream",
     "text": [
      "\r",
      " 28%|██████████████████████▉                                                           | 7/25 [11:40<30:25, 101.39s/it]"
     ]
    },
    {
     "name": "stdout",
     "output_type": "stream",
     "text": [
      "0  1.31e+04   -1.95 |   -1.95    0.0    125     0 |   -0.01   0.00   0.18  -0.50\n"
     ]
    },
    {
     "name": "stderr",
     "output_type": "stream",
     "text": [
      "\r",
      " 32%|██████████████████████████▏                                                       | 8/25 [13:30<29:29, 104.11s/it]"
     ]
    },
    {
     "name": "stdout",
     "output_type": "stream",
     "text": [
      "0  1.47e+04   -1.95 |   -2.27    0.0    125     0 |   -0.01   0.00   0.20  -0.50\n"
     ]
    },
    {
     "name": "stderr",
     "output_type": "stream",
     "text": [
      "\r",
      " 36%|█████████████████████████████▌                                                    | 9/25 [15:07<27:10, 101.90s/it]"
     ]
    },
    {
     "name": "stdout",
     "output_type": "stream",
     "text": [
      "0  1.63e+04   -1.73 |   -1.73    0.0    125     0 |   -0.01   0.00   0.51  -0.50\n"
     ]
    },
    {
     "name": "stderr",
     "output_type": "stream",
     "text": [
      "\r",
      " 40%|████████████████████████████████▍                                                | 10/25 [16:57<26:07, 104.51s/it]"
     ]
    },
    {
     "name": "stdout",
     "output_type": "stream",
     "text": [
      "0  1.79e+04   -1.73 |   -1.98    0.0    125     0 |   -0.01   0.00   0.40  -0.50\n"
     ]
    },
    {
     "name": "stderr",
     "output_type": "stream",
     "text": [
      "\r",
      " 44%|███████████████████████████████████▋                                             | 11/25 [18:35<23:56, 102.60s/it]"
     ]
    },
    {
     "name": "stdout",
     "output_type": "stream",
     "text": [
      "0  1.96e+04   -1.26 |   -1.26    0.1    125     0 |   -0.01   0.00   0.35  -0.50\n"
     ]
    },
    {
     "name": "stderr",
     "output_type": "stream",
     "text": [
      "\r",
      " 48%|██████████████████████████████████████▉                                          | 12/25 [20:22<22:28, 103.73s/it]"
     ]
    },
    {
     "name": "stdout",
     "output_type": "stream",
     "text": [
      "0  2.12e+04   -1.26 |   -1.27    0.0    125     0 |   -0.00   0.00   0.37  -0.50\n"
     ]
    },
    {
     "name": "stderr",
     "output_type": "stream",
     "text": [
      "\r",
      " 52%|██████████████████████████████████████████                                       | 13/25 [21:59<20:22, 101.85s/it]"
     ]
    },
    {
     "name": "stdout",
     "output_type": "stream",
     "text": [
      "0  2.28e+04   -1.26 |   -3.36    0.0    125     0 |   -0.00   0.00   0.03  -0.50\n"
     ]
    },
    {
     "name": "stderr",
     "output_type": "stream",
     "text": [
      "\r",
      " 56%|█████████████████████████████████████████████▎                                   | 14/25 [23:37<18:27, 100.64s/it]"
     ]
    },
    {
     "name": "stdout",
     "output_type": "stream",
     "text": [
      "0  2.44e+04   -1.26 |   -3.46    0.0    125     0 |   -0.01   0.00   0.41  -0.50\n"
     ]
    },
    {
     "name": "stderr",
     "output_type": "stream",
     "text": [
      "\r",
      " 60%|█████████████████████████████████████████████████▏                                | 15/25 [25:14<16:34, 99.48s/it]"
     ]
    },
    {
     "name": "stdout",
     "output_type": "stream",
     "text": [
      "0  2.61e+04   -1.26 |   -1.82    0.0    125     0 |   -0.01   0.00   0.35  -0.50\n"
     ]
    },
    {
     "name": "stderr",
     "output_type": "stream",
     "text": [
      "\r",
      " 64%|████████████████████████████████████████████████████▍                             | 16/25 [26:49<14:45, 98.34s/it]"
     ]
    },
    {
     "name": "stdout",
     "output_type": "stream",
     "text": [
      "0  2.77e+04   -1.26 |   -2.25    0.0    125     0 |   -0.01   0.00   0.31  -0.50\n"
     ]
    },
    {
     "name": "stderr",
     "output_type": "stream",
     "text": [
      "\r",
      " 68%|███████████████████████████████████████████████████████▊                          | 17/25 [28:26<13:03, 97.95s/it]"
     ]
    },
    {
     "name": "stdout",
     "output_type": "stream",
     "text": [
      "0  2.93e+04   -1.26 |   -2.65    0.0    125     0 |   -0.01   0.00   0.28  -0.50\n"
     ]
    },
    {
     "name": "stderr",
     "output_type": "stream",
     "text": [
      "\r",
      " 72%|███████████████████████████████████████████████████████████                       | 18/25 [30:05<11:26, 98.02s/it]"
     ]
    },
    {
     "name": "stdout",
     "output_type": "stream",
     "text": [
      "0  3.09e+04   -1.26 |   -3.18    0.1    125     0 |   -0.01   0.00   0.24  -0.50\n"
     ]
    },
    {
     "name": "stderr",
     "output_type": "stream",
     "text": [
      "\r",
      " 76%|██████████████████████████████████████████████████████████████▎                   | 19/25 [31:43<09:48, 98.04s/it]"
     ]
    },
    {
     "name": "stdout",
     "output_type": "stream",
     "text": [
      "0  3.25e+04   -1.26 |   -3.46    0.1    125     0 |   -0.01   0.00   0.21  -0.50\n"
     ]
    },
    {
     "name": "stderr",
     "output_type": "stream",
     "text": [
      "\r",
      " 80%|█████████████████████████████████████████████████████████████████▌                | 20/25 [33:20<08:09, 97.85s/it]"
     ]
    },
    {
     "name": "stdout",
     "output_type": "stream",
     "text": [
      "0  3.41e+04   -1.26 |   -4.87    0.0    125     0 |   -0.01   0.00   0.33  -0.50\n"
     ]
    },
    {
     "name": "stderr",
     "output_type": "stream",
     "text": [
      "\r",
      " 84%|████████████████████████████████████████████████████████████████████▉             | 21/25 [34:57<06:30, 97.54s/it]"
     ]
    },
    {
     "name": "stdout",
     "output_type": "stream",
     "text": [
      "0  3.58e+04   -1.26 |   -5.50    0.0    125     0 |   -0.01   0.00   0.36  -0.50\n"
     ]
    },
    {
     "name": "stderr",
     "output_type": "stream",
     "text": [
      "\r",
      " 88%|████████████████████████████████████████████████████████████████████████▏         | 22/25 [36:36<04:54, 98.01s/it]"
     ]
    },
    {
     "name": "stdout",
     "output_type": "stream",
     "text": [
      "0  3.74e+04   -1.26 |   -8.35    0.1    125     0 |   -0.01   0.00   0.46  -0.50\n"
     ]
    },
    {
     "name": "stderr",
     "output_type": "stream",
     "text": [
      "\r",
      " 92%|███████████████████████████████████████████████████████████████████████████▍      | 23/25 [38:15<03:16, 98.31s/it]"
     ]
    },
    {
     "name": "stdout",
     "output_type": "stream",
     "text": [
      "0  3.90e+04   -1.26 |   -6.92    0.0    125     0 |   -0.01   0.00   0.33  -0.50\n"
     ]
    },
    {
     "name": "stderr",
     "output_type": "stream",
     "text": [
      "\r",
      " 96%|██████████████████████████████████████████████████████████████████████████████▋   | 24/25 [39:52<01:38, 98.01s/it]"
     ]
    },
    {
     "name": "stdout",
     "output_type": "stream",
     "text": [
      "0  4.06e+04   -1.26 |   -6.20    0.0    125     0 |   -0.01   0.00   0.33  -0.50\n"
     ]
    },
    {
     "name": "stderr",
     "output_type": "stream",
     "text": [
      "100%|██████████████████████████████████████████████████████████████████████████████████| 25/25 [41:30<00:00, 99.61s/it]\n"
     ]
    },
    {
     "name": "stdout",
     "output_type": "stream",
     "text": [
      "| UsedTime:    2490 | SavedDir: ./trained_models | Total Step: 1612\n",
      "======jim-ppo-52-agent-0 Validation from:  2016-07-05 to  2016-12-30\n",
      "Max reward at validation for Reccurent PPO 125.0\n",
      "======Trading from:  2017-01-03 to  2017-07-05\n",
      "Using device:  cpu\n",
      "Saving to  results/account_value_trade_main_jim-ppo-52-agent-0.csv\n",
      "previous_total_asset:1116688.3615912443\n",
      "end_total_asset:1231611.6631286114\n",
      "total_asset_change:114923.30153736705\n",
      "Total cash is: 1.2771379201197348$ and total holdings in stocks are 1231610.3859906914$\n",
      "Buy & Hold strategy with previous total asset:  1209963.271168694\n",
      "Total Cost:  1679.0176881375803\n",
      "Sum of rewards  441360.9539538964\n",
      "Total trades:  323\n",
      "Total buy orders are 183 and total sell orders are 140\n",
      "Total days in turbulance:  0\n",
      "Sharpe:  0.32719443452044344\n",
      "Test Finished!\n",
      "episode_return % 0.23160000000000003\n",
      "============================================\n",
      "Agent:  0\n",
      "======Model training from:  2010-01-01 to  2017-01-03\n",
      "| Remove cwd: ./trained_models\n",
      "Using device:  cpu\n",
      "################################################################################\n",
      "ID     Step    maxR |    avgR   stdR   avgS  stdS |    expR   objC   etc.\n"
     ]
    },
    {
     "name": "stderr",
     "output_type": "stream",
     "text": [
      "\r",
      "  0%|                                                                                           | 0/24 [00:00<?, ?it/s]"
     ]
    },
    {
     "name": "stdout",
     "output_type": "stream",
     "text": [
      "0  1.76e+03   -5.47 |   -5.47    4.4    125     0 |   -0.04   0.01   0.00  -0.50\n"
     ]
    },
    {
     "name": "stderr",
     "output_type": "stream",
     "text": [
      "\r",
      "  4%|███▍                                                                              | 1/24 [01:40<38:33, 100.60s/it]"
     ]
    },
    {
     "name": "stdout",
     "output_type": "stream",
     "text": [
      "0  3.52e+03   -1.69 |   -1.69    0.1    125     0 |   -0.01   0.00  -0.13  -0.51\n"
     ]
    },
    {
     "name": "stderr",
     "output_type": "stream",
     "text": [
      "\r",
      "  8%|██████▊                                                                           | 2/24 [03:30<38:47, 105.78s/it]"
     ]
    },
    {
     "name": "stdout",
     "output_type": "stream",
     "text": [
      "0  5.28e+03   -1.69 |   -3.30    0.1    125     0 |   -0.01   0.00   0.07  -0.50\n"
     ]
    },
    {
     "name": "stderr",
     "output_type": "stream",
     "text": [
      "\r",
      " 12%|██████████▎                                                                       | 3/24 [05:11<36:24, 104.03s/it]"
     ]
    },
    {
     "name": "stdout",
     "output_type": "stream",
     "text": [
      "0  7.04e+03   -1.69 |   -1.97    0.0    125     0 |   -0.01   0.00   0.30  -0.49\n"
     ]
    },
    {
     "name": "stderr",
     "output_type": "stream",
     "text": [
      "\r",
      " 17%|█████████████▋                                                                    | 4/24 [06:55<34:34, 103.73s/it]"
     ]
    },
    {
     "name": "stdout",
     "output_type": "stream",
     "text": [
      "0  8.80e+03   -1.69 |   -3.04    0.1    125     0 |   -0.01   0.00   0.22  -0.50\n"
     ]
    },
    {
     "name": "stderr",
     "output_type": "stream",
     "text": [
      "\r",
      " 21%|█████████████████                                                                 | 5/24 [08:40<33:04, 104.44s/it]"
     ]
    },
    {
     "name": "stdout",
     "output_type": "stream",
     "text": [
      "0  1.06e+04   -1.69 |   -3.44    0.1    125     0 |   -0.01   0.00   0.21  -0.49\n"
     ]
    },
    {
     "name": "stderr",
     "output_type": "stream",
     "text": [
      "\r",
      " 25%|████████████████████▌                                                             | 6/24 [10:23<31:06, 103.68s/it]"
     ]
    },
    {
     "name": "stdout",
     "output_type": "stream",
     "text": [
      "0  1.23e+04    1.72 |    1.72    0.1    125     0 |   -0.01   0.00   0.27  -0.49\n"
     ]
    },
    {
     "name": "stderr",
     "output_type": "stream",
     "text": [
      "\r",
      " 29%|███████████████████████▉                                                          | 7/24 [12:19<30:31, 107.75s/it]"
     ]
    },
    {
     "name": "stdout",
     "output_type": "stream",
     "text": [
      "0  1.41e+04    5.17 |    5.17    0.5    125     0 |    0.01   0.00  -0.09  -0.49\n"
     ]
    },
    {
     "name": "stderr",
     "output_type": "stream",
     "text": [
      "\r",
      " 33%|███████████████████████████▎                                                      | 8/24 [14:16<29:33, 110.82s/it]"
     ]
    },
    {
     "name": "stdout",
     "output_type": "stream",
     "text": [
      "0  1.58e+04    5.17 |    0.52    0.0    125     0 |    0.02   0.00  -0.19  -0.49\n"
     ]
    },
    {
     "name": "stderr",
     "output_type": "stream",
     "text": [
      "\r",
      " 38%|██████████████████████████████▊                                                   | 9/24 [16:04<27:26, 109.76s/it]"
     ]
    },
    {
     "name": "stdout",
     "output_type": "stream",
     "text": [
      "0  1.76e+04    5.17 |    4.59    0.0    125     0 |    0.00   0.00   0.44  -0.49\n"
     ]
    },
    {
     "name": "stderr",
     "output_type": "stream",
     "text": [
      "\r",
      " 42%|█████████████████████████████████▊                                               | 10/24 [17:50<25:20, 108.63s/it]"
     ]
    },
    {
     "name": "stdout",
     "output_type": "stream",
     "text": [
      "0  1.93e+04    5.17 |    2.75    0.0    125     0 |    0.01   0.00   0.54  -0.49\n"
     ]
    },
    {
     "name": "stderr",
     "output_type": "stream",
     "text": [
      "\r",
      " 46%|█████████████████████████████████████▏                                           | 11/24 [19:34<23:16, 107.42s/it]"
     ]
    },
    {
     "name": "stdout",
     "output_type": "stream",
     "text": [
      "0  2.11e+04    5.17 |    0.45    0.0    125     0 |    0.00   0.00   0.11  -0.49\n"
     ]
    },
    {
     "name": "stderr",
     "output_type": "stream",
     "text": [
      "\r",
      " 50%|████████████████████████████████████████▌                                        | 12/24 [21:20<21:20, 106.75s/it]"
     ]
    },
    {
     "name": "stdout",
     "output_type": "stream",
     "text": [
      "0  2.28e+04    5.17 |   -0.71    0.1    125     0 |   -0.01   0.00   0.26  -0.49\n"
     ]
    },
    {
     "name": "stderr",
     "output_type": "stream",
     "text": [
      "\r",
      " 54%|███████████████████████████████████████████▉                                     | 13/24 [23:04<19:28, 106.19s/it]"
     ]
    },
    {
     "name": "stdout",
     "output_type": "stream",
     "text": [
      "0  2.46e+04    5.17 |    2.73    0.0    125     0 |   -0.01   0.00   0.16  -0.49\n"
     ]
    },
    {
     "name": "stderr",
     "output_type": "stream",
     "text": [
      "\r",
      " 58%|███████████████████████████████████████████████▎                                 | 14/24 [24:51<17:41, 106.20s/it]"
     ]
    },
    {
     "name": "stdout",
     "output_type": "stream",
     "text": [
      "0  2.63e+04    5.17 |    0.70    0.0    125     0 |    0.00   0.00   0.48  -0.49\n"
     ]
    },
    {
     "name": "stderr",
     "output_type": "stream",
     "text": [
      "\r",
      " 62%|██████████████████████████████████████████████████▋                              | 15/24 [26:36<15:52, 105.78s/it]"
     ]
    },
    {
     "name": "stdout",
     "output_type": "stream",
     "text": [
      "0  2.81e+04    5.17 |    0.68    0.0    125     0 |   -0.00   0.00   0.37  -0.49\n"
     ]
    },
    {
     "name": "stderr",
     "output_type": "stream",
     "text": [
      "\r",
      " 67%|██████████████████████████████████████████████████████                           | 16/24 [28:22<14:09, 106.14s/it]"
     ]
    },
    {
     "name": "stdout",
     "output_type": "stream",
     "text": [
      "0  2.98e+04    5.17 |    0.18    0.0    125     0 |    0.00   0.00   0.45  -0.49\n"
     ]
    },
    {
     "name": "stderr",
     "output_type": "stream",
     "text": [
      "\r",
      " 71%|█████████████████████████████████████████████████████████▍                       | 17/24 [30:07<12:20, 105.72s/it]"
     ]
    },
    {
     "name": "stdout",
     "output_type": "stream",
     "text": [
      "0  3.16e+04    5.17 |   -2.63    0.0    125     0 |   -0.00   0.00   0.25  -0.49\n"
     ]
    },
    {
     "name": "stderr",
     "output_type": "stream",
     "text": [
      "\r",
      " 75%|████████████████████████████████████████████████████████████▊                    | 18/24 [31:49<10:27, 104.52s/it]"
     ]
    },
    {
     "name": "stdout",
     "output_type": "stream",
     "text": [
      "0  3.33e+04    5.17 |   -2.58    0.0    125     0 |    0.00   0.00   0.22  -0.49\n"
     ]
    },
    {
     "name": "stderr",
     "output_type": "stream",
     "text": [
      "\r",
      " 79%|████████████████████████████████████████████████████████████████▏                | 19/24 [33:33<08:42, 104.52s/it]"
     ]
    },
    {
     "name": "stdout",
     "output_type": "stream",
     "text": [
      "0  3.50e+04    5.17 |   -4.49    0.0    125     0 |   -0.00   0.00   0.25  -0.49\n"
     ]
    },
    {
     "name": "stderr",
     "output_type": "stream",
     "text": [
      "\r",
      " 83%|███████████████████████████████████████████████████████████████████▌             | 20/24 [35:20<07:00, 105.08s/it]"
     ]
    },
    {
     "name": "stdout",
     "output_type": "stream",
     "text": [
      "0  3.68e+04    5.17 |   -4.13    0.0    125     0 |   -0.01   0.00   0.40  -0.49\n"
     ]
    },
    {
     "name": "stderr",
     "output_type": "stream",
     "text": [
      "\r",
      " 88%|██████████████████████████████████████████████████████████████████████▉          | 21/24 [37:07<05:16, 105.56s/it]"
     ]
    },
    {
     "name": "stdout",
     "output_type": "stream",
     "text": [
      "0  3.85e+04    5.17 |   -4.09    0.0    125     0 |   -0.01   0.00   0.38  -0.49\n"
     ]
    },
    {
     "name": "stderr",
     "output_type": "stream",
     "text": [
      "\r",
      " 92%|██████████████████████████████████████████████████████████████████████████▎      | 22/24 [38:52<03:30, 105.41s/it]"
     ]
    },
    {
     "name": "stdout",
     "output_type": "stream",
     "text": [
      "0  4.03e+04    5.17 |   -4.50    0.0    125     0 |   -0.01   0.01   0.29  -0.49\n"
     ]
    },
    {
     "name": "stderr",
     "output_type": "stream",
     "text": [
      "\r",
      " 96%|█████████████████████████████████████████████████████████████████████████████▋   | 23/24 [40:36<01:45, 105.03s/it]"
     ]
    },
    {
     "name": "stdout",
     "output_type": "stream",
     "text": [
      "0  4.20e+04    5.17 |   -2.33    0.0    125     0 |   -0.01   0.01   0.25  -0.49\n"
     ]
    },
    {
     "name": "stderr",
     "output_type": "stream",
     "text": [
      "100%|█████████████████████████████████████████████████████████████████████████████████| 24/24 [42:20<00:00, 105.84s/it]\n"
     ]
    },
    {
     "name": "stdout",
     "output_type": "stream",
     "text": [
      "| UsedTime:    2540 | SavedDir: ./trained_models | Total Step: 1739\n",
      "======jim-ppo-52-agent-0 Validation from:  2017-01-03 to  2017-07-03\n",
      "Max reward at validation for Reccurent PPO 125.0\n",
      "======Trading from:  2017-07-05 to  2018-01-03\n",
      "Using device:  cpu\n",
      "Saving to  results/account_value_trade_main_jim-ppo-52-agent-0.csv\n",
      "previous_total_asset:1231611.6631286114\n",
      "end_total_asset:1435094.5722733273\n",
      "total_asset_change:203482.90914471587\n",
      "Total cash is: 15.044614624351901$ and total holdings in stocks are 1435079.5276587028$\n",
      "Buy & Hold strategy with previous total asset:  1432538.462252674\n",
      "Total Cost:  1952.3966443133713\n",
      "Sum of rewards  421120.6957200384\n",
      "Total trades:  246\n",
      "Total buy orders are 179 and total sell orders are 67\n",
      "Total days in turbulance:  0\n",
      "Sharpe:  0.5365983468392728\n",
      "Test Finished!\n",
      "episode_return % 0.43510000000000004\n",
      "============================================\n",
      "Agent:  0\n",
      "======Model training from:  2010-01-01 to  2017-07-05\n",
      "| Remove cwd: ./trained_models\n",
      "Using device:  cpu\n",
      "################################################################################\n",
      "ID     Step    maxR |    avgR   stdR   avgS  stdS |    expR   objC   etc.\n"
     ]
    },
    {
     "name": "stderr",
     "output_type": "stream",
     "text": [
      "\r",
      "  0%|                                                                                           | 0/22 [00:00<?, ?it/s]"
     ]
    },
    {
     "name": "stdout",
     "output_type": "stream",
     "text": [
      "0  1.89e+03   -5.73 |   -5.73    4.0    125     0 |   -0.04   0.02   0.09  -0.51\n"
     ]
    },
    {
     "name": "stderr",
     "output_type": "stream",
     "text": [
      "\r",
      "  5%|███▋                                                                              | 1/22 [01:45<36:58, 105.66s/it]"
     ]
    },
    {
     "name": "stdout",
     "output_type": "stream",
     "text": [
      "0  3.78e+03   -4.72 |   -4.72    0.1    125     0 |   -0.00   0.00  -0.21  -0.51\n"
     ]
    },
    {
     "name": "stderr",
     "output_type": "stream",
     "text": [
      "\r",
      "  9%|███████▍                                                                          | 2/22 [03:39<36:55, 110.76s/it]"
     ]
    },
    {
     "name": "stdout",
     "output_type": "stream",
     "text": [
      "0  5.66e+03   -4.72 |   -5.00    0.0    125     0 |   -0.00   0.00   0.04  -0.51\n"
     ]
    },
    {
     "name": "stderr",
     "output_type": "stream",
     "text": [
      "\r",
      " 14%|███████████▏                                                                      | 3/22 [05:27<34:35, 109.22s/it]"
     ]
    },
    {
     "name": "stdout",
     "output_type": "stream",
     "text": [
      "0  7.55e+03   -4.72 |   -5.27    0.0    125     0 |   -0.00   0.00   0.05  -0.51\n"
     ]
    },
    {
     "name": "stderr",
     "output_type": "stream",
     "text": [
      "\r",
      " 18%|██████████████▉                                                                   | 4/22 [07:15<32:35, 108.63s/it]"
     ]
    },
    {
     "name": "stdout",
     "output_type": "stream",
     "text": [
      "0  9.43e+03   -4.72 |   -4.98    0.0    125     0 |   -0.00   0.00   0.03  -0.52\n"
     ]
    },
    {
     "name": "stderr",
     "output_type": "stream",
     "text": [
      "\r",
      " 23%|██████████████████▋                                                               | 5/22 [09:02<30:40, 108.29s/it]"
     ]
    },
    {
     "name": "stdout",
     "output_type": "stream",
     "text": [
      "0  1.13e+04   -4.57 |   -4.57    0.0    125     0 |   -0.00   0.00   0.18  -0.52\n"
     ]
    },
    {
     "name": "stderr",
     "output_type": "stream",
     "text": [
      "\r",
      " 27%|██████████████████████▎                                                           | 6/22 [11:03<30:02, 112.66s/it]"
     ]
    },
    {
     "name": "stdout",
     "output_type": "stream",
     "text": [
      "0  1.32e+04   -3.12 |   -3.12    0.0    125     0 |   -0.00   0.00   0.37  -0.52\n"
     ]
    },
    {
     "name": "stderr",
     "output_type": "stream",
     "text": [
      "\r",
      " 32%|██████████████████████████                                                        | 7/22 [13:04<28:47, 115.16s/it]"
     ]
    },
    {
     "name": "stdout",
     "output_type": "stream",
     "text": [
      "0  1.51e+04   -2.36 |   -2.36    0.0    125     0 |    0.01   0.00   0.45  -0.52\n"
     ]
    },
    {
     "name": "stderr",
     "output_type": "stream",
     "text": [
      "\r",
      " 36%|█████████████████████████████▊                                                    | 8/22 [15:12<27:49, 119.22s/it]"
     ]
    },
    {
     "name": "stdout",
     "output_type": "stream",
     "text": [
      "0  1.70e+04   -2.36 |   -3.31    0.0    125     0 |    0.01   0.00   0.33  -0.52\n"
     ]
    },
    {
     "name": "stderr",
     "output_type": "stream",
     "text": [
      "\r",
      " 41%|█████████████████████████████████▌                                                | 9/22 [17:05<25:26, 117.39s/it]"
     ]
    },
    {
     "name": "stdout",
     "output_type": "stream",
     "text": [
      "0  1.88e+04   -2.36 |   -3.89    0.0    125     0 |    0.02   0.00   0.30  -0.52\n"
     ]
    },
    {
     "name": "stderr",
     "output_type": "stream",
     "text": [
      "\r",
      " 45%|████████████████████████████████████▊                                            | 10/22 [18:58<23:12, 116.01s/it]"
     ]
    },
    {
     "name": "stdout",
     "output_type": "stream",
     "text": [
      "0  2.07e+04   -2.36 |   -3.61    0.0    125     0 |    0.01   0.00   0.18  -0.52\n"
     ]
    },
    {
     "name": "stderr",
     "output_type": "stream",
     "text": [
      "\r",
      " 50%|████████████████████████████████████████▌                                        | 11/22 [20:48<20:56, 114.27s/it]"
     ]
    },
    {
     "name": "stdout",
     "output_type": "stream",
     "text": [
      "0  2.26e+04   -2.36 |   -3.68    0.0    125     0 |    0.01   0.00   0.26  -0.52\n"
     ]
    },
    {
     "name": "stderr",
     "output_type": "stream",
     "text": [
      "\r",
      " 55%|████████████████████████████████████████████▏                                    | 12/22 [22:43<19:03, 114.31s/it]"
     ]
    },
    {
     "name": "stdout",
     "output_type": "stream",
     "text": [
      "0  2.45e+04   -2.36 |   -3.03    0.0    125     0 |   -0.00   0.00   0.28  -0.52\n"
     ]
    },
    {
     "name": "stderr",
     "output_type": "stream",
     "text": [
      "\r",
      " 59%|███████████████████████████████████████████████▊                                 | 13/22 [24:34<17:00, 113.44s/it]"
     ]
    },
    {
     "name": "stdout",
     "output_type": "stream",
     "text": [
      "0  2.63e+04   -2.36 |   -3.67    0.0    125     0 |   -0.01   0.00   0.21  -0.52\n"
     ]
    },
    {
     "name": "stderr",
     "output_type": "stream",
     "text": [
      "\r",
      " 64%|███████████████████████████████████████████████████▌                             | 14/22 [26:28<15:08, 113.59s/it]"
     ]
    },
    {
     "name": "stdout",
     "output_type": "stream",
     "text": [
      "0  2.82e+04   -2.36 |   -3.41    0.0    125     0 |   -0.01   0.00   0.40  -0.52\n"
     ]
    },
    {
     "name": "stderr",
     "output_type": "stream",
     "text": [
      "\r",
      " 68%|███████████████████████████████████████████████████████▏                         | 15/22 [28:23<13:18, 114.02s/it]"
     ]
    },
    {
     "name": "stdout",
     "output_type": "stream",
     "text": [
      "0  3.01e+04   -2.36 |   -3.22    0.0    125     0 |   -0.01   0.00   0.37  -0.52\n"
     ]
    },
    {
     "name": "stderr",
     "output_type": "stream",
     "text": [
      "\r",
      " 73%|██████████████████████████████████████████████████████████▉                      | 16/22 [30:17<11:23, 113.87s/it]"
     ]
    },
    {
     "name": "stdout",
     "output_type": "stream",
     "text": [
      "0  3.20e+04   -2.36 |   -3.94    0.0    125     0 |   -0.01   0.00   0.30  -0.52\n"
     ]
    },
    {
     "name": "stderr",
     "output_type": "stream",
     "text": [
      "\r",
      " 77%|██████████████████████████████████████████████████████████████▌                  | 17/22 [32:08<09:25, 113.18s/it]"
     ]
    },
    {
     "name": "stdout",
     "output_type": "stream",
     "text": [
      "0  3.38e+04   -2.36 |   -3.46    0.0    125     0 |   -0.01   0.00   0.28  -0.52\n"
     ]
    },
    {
     "name": "stderr",
     "output_type": "stream",
     "text": [
      "\r",
      " 82%|██████████████████████████████████████████████████████████████████▎              | 18/22 [33:58<07:28, 112.24s/it]"
     ]
    },
    {
     "name": "stdout",
     "output_type": "stream",
     "text": [
      "0  3.57e+04   -2.36 |   -3.65    0.0    125     0 |   -0.01   0.00   0.22  -0.52\n"
     ]
    },
    {
     "name": "stderr",
     "output_type": "stream",
     "text": [
      "\r",
      " 86%|█████████████████████████████████████████████████████████████████████▉           | 19/22 [35:52<05:37, 112.64s/it]"
     ]
    },
    {
     "name": "stdout",
     "output_type": "stream",
     "text": [
      "0  3.76e+04   -2.36 |   -3.69    0.0    125     0 |   -0.01   0.00   0.34  -0.52\n"
     ]
    },
    {
     "name": "stderr",
     "output_type": "stream",
     "text": [
      "\r",
      " 91%|█████████████████████████████████████████████████████████████████████████▋       | 20/22 [37:41<03:42, 111.47s/it]"
     ]
    },
    {
     "name": "stdout",
     "output_type": "stream",
     "text": [
      "0  3.94e+04   -2.36 |   -2.98    0.0    125     0 |   -0.01   0.00   0.32  -0.52\n"
     ]
    },
    {
     "name": "stderr",
     "output_type": "stream",
     "text": [
      "\r",
      " 95%|█████████████████████████████████████████████████████████████████████████████▎   | 21/22 [39:32<01:51, 111.47s/it]"
     ]
    },
    {
     "name": "stdout",
     "output_type": "stream",
     "text": [
      "0  4.13e+04   -2.36 |   -4.11    0.0    125     0 |   -0.01   0.00   0.53  -0.52\n"
     ]
    },
    {
     "name": "stderr",
     "output_type": "stream",
     "text": [
      "100%|█████████████████████████████████████████████████████████████████████████████████| 22/22 [41:23<00:00, 112.88s/it]\n"
     ]
    },
    {
     "name": "stdout",
     "output_type": "stream",
     "text": [
      "| UsedTime:    2483 | SavedDir: ./trained_models | Total Step: 1867\n",
      "======jim-ppo-52-agent-0 Validation from:  2017-07-05 to  2018-01-02\n",
      "Max reward at validation for Reccurent PPO 125.0\n",
      "======Trading from:  2018-01-03 to  2018-07-05\n",
      "Using device:  cpu\n",
      "Saving to  results/account_value_trade_main_jim-ppo-52-agent-0.csv\n",
      "previous_total_asset:1435094.5722733273\n",
      "end_total_asset:1414014.2231742356\n",
      "total_asset_change:-21080.34909909172\n",
      "Total cash is: 10.710720321793783$ and total holdings in stocks are 1414003.5124539137$\n",
      "Buy & Hold strategy with previous total asset:  1417834.561688237\n",
      "Total Cost:  2672.722769310949\n",
      "Sum of rewards  -2836489.1196564264\n",
      "Total trades:  468\n",
      "Total buy orders are 259 and total sell orders are 209\n",
      "Total days in turbulance:  0\n",
      "Sharpe:  -0.010035654607957311\n",
      "Test Finished!\n",
      "episode_return % 0.4139999999999999\n",
      "============================================\n",
      "Agent:  0\n",
      "======Model training from:  2010-01-01 to  2018-01-03\n",
      "| Remove cwd: ./trained_models\n",
      "Using device:  cpu\n",
      "################################################################################\n",
      "ID     Step    maxR |    avgR   stdR   avgS  stdS |    expR   objC   etc.\n"
     ]
    },
    {
     "name": "stderr",
     "output_type": "stream",
     "text": [
      "\r",
      "  0%|                                                                                           | 0/21 [00:00<?, ?it/s]"
     ]
    },
    {
     "name": "stdout",
     "output_type": "stream",
     "text": [
      "0  2.01e+03    1.24 |    1.24    1.7    125     0 |   -0.04   0.00   0.11  -0.50\n"
     ]
    },
    {
     "name": "stderr",
     "output_type": "stream",
     "text": [
      "\r",
      "  5%|███▉                                                                              | 1/21 [01:50<36:53, 110.69s/it]"
     ]
    },
    {
     "name": "stdout",
     "output_type": "stream",
     "text": [
      "0  4.03e+03    2.50 |    2.50    0.1    125     0 |    0.01   0.00  -0.12  -0.51\n"
     ]
    },
    {
     "name": "stderr",
     "output_type": "stream",
     "text": [
      "\r",
      " 10%|███████▊                                                                          | 2/21 [03:52<37:12, 117.50s/it]"
     ]
    },
    {
     "name": "stdout",
     "output_type": "stream",
     "text": [
      "0  6.04e+03    2.50 |    0.78    0.0    125     0 |    0.00   0.00   0.22  -0.51\n"
     ]
    },
    {
     "name": "stderr",
     "output_type": "stream",
     "text": [
      "\r",
      " 14%|███████████▋                                                                      | 3/21 [05:50<35:12, 117.35s/it]"
     ]
    },
    {
     "name": "stdout",
     "output_type": "stream",
     "text": [
      "0  8.05e+03    2.50 |   -2.92    0.2    125     0 |    0.00   0.00  -0.05  -0.51\n"
     ]
    },
    {
     "name": "stderr",
     "output_type": "stream",
     "text": [
      "\r",
      " 19%|███████████████▌                                                                  | 4/21 [07:48<33:18, 117.57s/it]"
     ]
    },
    {
     "name": "stdout",
     "output_type": "stream",
     "text": [
      "0  1.01e+04    2.50 |   -4.17    0.1    125     0 |   -0.00   0.00   0.32  -0.51\n"
     ]
    },
    {
     "name": "stderr",
     "output_type": "stream",
     "text": [
      "\r",
      " 24%|███████████████████▌                                                              | 5/21 [09:42<31:04, 116.56s/it]"
     ]
    },
    {
     "name": "stdout",
     "output_type": "stream",
     "text": [
      "0  1.21e+04    2.50 |    1.38    0.3    125     0 |    0.00   0.00   0.33  -0.50\n"
     ]
    },
    {
     "name": "stderr",
     "output_type": "stream",
     "text": [
      "\r",
      " 29%|███████████████████████▍                                                          | 6/21 [11:40<29:11, 116.80s/it]"
     ]
    },
    {
     "name": "stdout",
     "output_type": "stream",
     "text": [
      "0  1.41e+04    2.50 |    0.13    0.1    125     0 |   -0.00   0.00   0.42  -0.51\n"
     ]
    },
    {
     "name": "stderr",
     "output_type": "stream",
     "text": [
      "\r",
      " 33%|███████████████████████████▎                                                      | 7/21 [13:39<27:25, 117.55s/it]"
     ]
    },
    {
     "name": "stdout",
     "output_type": "stream",
     "text": [
      "0  1.61e+04    2.50 |    1.41    0.1    125     0 |   -0.01   0.00   0.38  -0.50\n"
     ]
    },
    {
     "name": "stderr",
     "output_type": "stream",
     "text": [
      "\r",
      " 38%|███████████████████████████████▏                                                  | 8/21 [15:38<25:37, 118.24s/it]"
     ]
    },
    {
     "name": "stdout",
     "output_type": "stream",
     "text": [
      "0  1.81e+04    2.50 |   -0.99    0.0    125     0 |   -0.00   0.00   0.38  -0.50\n"
     ]
    },
    {
     "name": "stderr",
     "output_type": "stream",
     "text": [
      "\r",
      " 43%|███████████████████████████████████▏                                              | 9/21 [17:37<23:40, 118.34s/it]"
     ]
    },
    {
     "name": "stdout",
     "output_type": "stream",
     "text": [
      "0  2.01e+04    2.50 |   -0.45    0.0    125     0 |   -0.00   0.00   0.36  -0.50\n"
     ]
    },
    {
     "name": "stderr",
     "output_type": "stream",
     "text": [
      "\r",
      " 48%|██████████████████████████████████████▌                                          | 10/21 [19:37<21:46, 118.79s/it]"
     ]
    },
    {
     "name": "stdout",
     "output_type": "stream",
     "text": [
      "0  2.21e+04    2.50 |   -0.76    0.0    125     0 |    0.00   0.00   0.12  -0.50\n"
     ]
    },
    {
     "name": "stderr",
     "output_type": "stream",
     "text": [
      "\r",
      " 52%|██████████████████████████████████████████▍                                      | 11/21 [21:36<19:48, 118.81s/it]"
     ]
    },
    {
     "name": "stdout",
     "output_type": "stream",
     "text": [
      "0  2.41e+04    2.50 |   -0.21    0.0    125     0 |   -0.01   0.00   0.42  -0.50\n"
     ]
    },
    {
     "name": "stderr",
     "output_type": "stream",
     "text": [
      "\r",
      " 57%|██████████████████████████████████████████████▎                                  | 12/21 [23:38<17:58, 119.81s/it]"
     ]
    },
    {
     "name": "stdout",
     "output_type": "stream",
     "text": [
      "0  2.61e+04    2.50 |   -1.48    0.0    125     0 |   -0.00   0.00   0.36  -0.50\n"
     ]
    },
    {
     "name": "stderr",
     "output_type": "stream",
     "text": [
      "\r",
      " 62%|██████████████████████████████████████████████████▏                              | 13/21 [25:37<15:57, 119.64s/it]"
     ]
    },
    {
     "name": "stdout",
     "output_type": "stream",
     "text": [
      "0  2.81e+04    2.50 |   -2.80    0.0    125     0 |   -0.00   0.00   0.12  -0.50\n"
     ]
    },
    {
     "name": "stderr",
     "output_type": "stream",
     "text": [
      "\r",
      " 67%|██████████████████████████████████████████████████████                           | 14/21 [27:36<13:55, 119.32s/it]"
     ]
    },
    {
     "name": "stdout",
     "output_type": "stream",
     "text": [
      "0  3.01e+04    2.50 |   -2.64    0.0    125     0 |   -0.01   0.00   0.19  -0.50\n"
     ]
    },
    {
     "name": "stderr",
     "output_type": "stream",
     "text": [
      "\r",
      " 71%|█████████████████████████████████████████████████████████▊                       | 15/21 [29:35<11:56, 119.36s/it]"
     ]
    },
    {
     "name": "stdout",
     "output_type": "stream",
     "text": [
      "0  3.21e+04    2.50 |   -3.80    0.0    125     0 |   -0.01   0.00   0.16  -0.50\n"
     ]
    },
    {
     "name": "stderr",
     "output_type": "stream",
     "text": [
      "\r",
      " 76%|█████████████████████████████████████████████████████████████▋                   | 16/21 [31:34<09:56, 119.33s/it]"
     ]
    },
    {
     "name": "stdout",
     "output_type": "stream",
     "text": [
      "0  3.41e+04    2.50 |   -3.88    0.0    125     0 |   -0.01   0.00   0.48  -0.50\n"
     ]
    },
    {
     "name": "stderr",
     "output_type": "stream",
     "text": [
      "\r",
      " 81%|█████████████████████████████████████████████████████████████████▌               | 17/21 [33:32<07:55, 118.76s/it]"
     ]
    },
    {
     "name": "stdout",
     "output_type": "stream",
     "text": [
      "0  3.61e+04    2.50 |   -4.75    0.0    125     0 |   -0.01   0.00   0.30  -0.50\n"
     ]
    },
    {
     "name": "stderr",
     "output_type": "stream",
     "text": [
      "\r",
      " 86%|█████████████████████████████████████████████████████████████████████▍           | 18/21 [35:34<05:59, 119.76s/it]"
     ]
    },
    {
     "name": "stdout",
     "output_type": "stream",
     "text": [
      "0  3.81e+04    2.50 |   -2.96    0.0    125     0 |   -0.01   0.00   0.38  -0.50\n"
     ]
    },
    {
     "name": "stderr",
     "output_type": "stream",
     "text": [
      "\r",
      " 90%|█████████████████████████████████████████████████████████████████████████▎       | 19/21 [37:32<03:58, 119.42s/it]"
     ]
    },
    {
     "name": "stdout",
     "output_type": "stream",
     "text": [
      "0  4.01e+04    6.00 |    6.00    0.4    125     0 |   -0.01   0.00   0.32  -0.50\n"
     ]
    },
    {
     "name": "stderr",
     "output_type": "stream",
     "text": [
      "\r",
      " 95%|█████████████████████████████████████████████████████████████████████████████▏   | 20/21 [39:47<02:04, 124.09s/it]"
     ]
    },
    {
     "name": "stdout",
     "output_type": "stream",
     "text": [
      "0  4.21e+04    6.00 |    1.34    0.0    125     0 |    0.01   0.00   0.36  -0.50\n"
     ]
    },
    {
     "name": "stderr",
     "output_type": "stream",
     "text": [
      "100%|█████████████████████████████████████████████████████████████████████████████████| 21/21 [41:47<00:00, 119.41s/it]\n"
     ]
    },
    {
     "name": "stdout",
     "output_type": "stream",
     "text": [
      "| UsedTime:    2508 | SavedDir: ./trained_models | Total Step: 1994\n",
      "======jim-ppo-52-agent-0 Validation from:  2018-01-03 to  2018-07-03\n",
      "Max reward at validation for Reccurent PPO 125.0\n",
      "======Trading from:  2018-07-05 to  2019-01-04\n",
      "Using device:  cpu\n",
      "Saving to  results/account_value_trade_main_jim-ppo-52-agent-0.csv\n",
      "previous_total_asset:1414014.2231742356\n",
      "end_total_asset:1263185.0998560593\n",
      "total_asset_change:-150829.12331817625\n",
      "Total cash is: 22.86557089791222$ and total holdings in stocks are 1263162.2342851614$\n",
      "Buy & Hold strategy with previous total asset:  1371318.3759050185\n",
      "Total Cost:  2173.7366796196156\n",
      "Sum of rewards  -1486250.22447414\n",
      "Total trades:  480\n",
      "Total buy orders are 294 and total sell orders are 186\n",
      "Total days in turbulance:  0\n",
      "Sharpe:  -0.11981342563583672\n",
      "Test Finished!\n",
      "episode_return % 0.2632000000000001\n",
      "============================================\n",
      "Agent:  0\n",
      "======Model training from:  2010-01-01 to  2018-07-05\n",
      "| Remove cwd: ./trained_models\n",
      "Using device:  cpu\n",
      "################################################################################\n",
      "ID     Step    maxR |    avgR   stdR   avgS  stdS |    expR   objC   etc.\n"
     ]
    },
    {
     "name": "stderr",
     "output_type": "stream",
     "text": [
      "\r",
      "  0%|                                                                                           | 0/19 [00:00<?, ?it/s]"
     ]
    },
    {
     "name": "stdout",
     "output_type": "stream",
     "text": [
      "0  2.14e+03   -2.82 |   -2.82    3.7    125     0 |   -0.04   0.02   0.21  -0.51\n"
     ]
    },
    {
     "name": "stderr",
     "output_type": "stream",
     "text": [
      "\r",
      "  5%|████▎                                                                             | 1/19 [01:57<35:14, 117.48s/it]"
     ]
    },
    {
     "name": "stdout",
     "output_type": "stream",
     "text": [
      "0  4.28e+03    1.10 |    1.10    0.1    125     0 |   -0.00   0.00   0.03  -0.51\n"
     ]
    },
    {
     "name": "stderr",
     "output_type": "stream",
     "text": [
      "\r",
      " 11%|████████▋                                                                         | 2/19 [04:06<35:09, 124.11s/it]"
     ]
    },
    {
     "name": "stdout",
     "output_type": "stream",
     "text": [
      "0  6.42e+03    1.81 |    1.81    0.1    125     0 |   -0.00   0.00   0.12  -0.51\n"
     ]
    },
    {
     "name": "stderr",
     "output_type": "stream",
     "text": [
      "\r",
      " 16%|████████████▉                                                                     | 3/19 [06:22<34:35, 129.72s/it]"
     ]
    },
    {
     "name": "stdout",
     "output_type": "stream",
     "text": [
      "0  8.55e+03    3.28 |    3.28    0.1    125     0 |   -0.01   0.00   0.38  -0.50\n"
     ]
    },
    {
     "name": "stderr",
     "output_type": "stream",
     "text": [
      "\r",
      " 21%|█████████████████▎                                                                | 4/19 [08:41<33:20, 133.37s/it]"
     ]
    },
    {
     "name": "stdout",
     "output_type": "stream",
     "text": [
      "0  1.07e+04    3.28 |    0.94    0.0    125     0 |   -0.01   0.00   0.40  -0.51\n"
     ]
    },
    {
     "name": "stderr",
     "output_type": "stream",
     "text": [
      "\r",
      " 26%|█████████████████████▌                                                            | 5/19 [10:46<30:26, 130.45s/it]"
     ]
    },
    {
     "name": "stdout",
     "output_type": "stream",
     "text": [
      "0  1.28e+04    3.28 |   -1.02    0.0    125     0 |   -0.01   0.00  -0.21  -0.51\n"
     ]
    },
    {
     "name": "stderr",
     "output_type": "stream",
     "text": [
      "\r",
      " 32%|█████████████████████████▉                                                        | 6/19 [12:52<27:54, 128.79s/it]"
     ]
    },
    {
     "name": "stdout",
     "output_type": "stream",
     "text": [
      "0  1.50e+04    3.28 |    1.17    0.0    125     0 |   -0.00   0.00   0.40  -0.51\n"
     ]
    },
    {
     "name": "stderr",
     "output_type": "stream",
     "text": [
      "\r",
      " 37%|██████████████████████████████▏                                                   | 7/19 [14:55<25:23, 126.92s/it]"
     ]
    },
    {
     "name": "stdout",
     "output_type": "stream",
     "text": [
      "0  1.71e+04    3.28 |   -0.06    0.0    125     0 |   -0.00   0.00   0.47  -0.51\n"
     ]
    },
    {
     "name": "stderr",
     "output_type": "stream",
     "text": [
      "\r",
      " 42%|██████████████████████████████████▌                                               | 8/19 [17:01<23:11, 126.49s/it]"
     ]
    },
    {
     "name": "stdout",
     "output_type": "stream",
     "text": [
      "0  1.92e+04    3.28 |   -0.93    0.0    125     0 |   -0.01   0.00   0.44  -0.51\n"
     ]
    },
    {
     "name": "stderr",
     "output_type": "stream",
     "text": [
      "\r",
      " 47%|██████████████████████████████████████▊                                           | 9/19 [19:05<20:58, 125.88s/it]"
     ]
    },
    {
     "name": "stdout",
     "output_type": "stream",
     "text": [
      "0  2.14e+04    3.28 |    0.32    0.1    125     0 |   -0.00   0.00   0.35  -0.51\n"
     ]
    },
    {
     "name": "stderr",
     "output_type": "stream",
     "text": [
      "\r",
      " 53%|██████████████████████████████████████████▋                                      | 10/19 [21:12<18:54, 126.07s/it]"
     ]
    },
    {
     "name": "stdout",
     "output_type": "stream",
     "text": [
      "0  2.35e+04    3.28 |   -1.10    0.0    125     0 |    0.00   0.00   0.12  -0.51\n"
     ]
    },
    {
     "name": "stderr",
     "output_type": "stream",
     "text": [
      "\r",
      " 58%|██████████████████████████████████████████████▉                                  | 11/19 [23:18<16:49, 126.21s/it]"
     ]
    },
    {
     "name": "stdout",
     "output_type": "stream",
     "text": [
      "0  2.56e+04    3.28 |   -0.56    0.0    125     0 |    0.00   0.00   0.13  -0.51\n"
     ]
    },
    {
     "name": "stderr",
     "output_type": "stream",
     "text": [
      "\r",
      " 63%|███████████████████████████████████████████████████▏                             | 12/19 [25:22<14:39, 125.62s/it]"
     ]
    },
    {
     "name": "stdout",
     "output_type": "stream",
     "text": [
      "0  2.77e+04    3.28 |   -1.56    0.1    125     0 |    0.00   0.00   0.29  -0.51\n"
     ]
    },
    {
     "name": "stderr",
     "output_type": "stream",
     "text": [
      "\r",
      " 68%|███████████████████████████████████████████████████████▍                         | 13/19 [27:30<12:38, 126.37s/it]"
     ]
    },
    {
     "name": "stdout",
     "output_type": "stream",
     "text": [
      "0  2.99e+04    3.28 |    0.28    0.0    125     0 |   -0.01   0.00   0.34  -0.51\n"
     ]
    },
    {
     "name": "stderr",
     "output_type": "stream",
     "text": [
      "\r",
      " 74%|███████████████████████████████████████████████████████████▋                     | 14/19 [29:39<10:35, 127.01s/it]"
     ]
    },
    {
     "name": "stdout",
     "output_type": "stream",
     "text": [
      "0  3.20e+04    3.28 |    1.63    0.0    125     0 |   -0.01   0.00   0.26  -0.51\n"
     ]
    },
    {
     "name": "stderr",
     "output_type": "stream",
     "text": [
      "\r",
      " 79%|███████████████████████████████████████████████████████████████▉                 | 15/19 [31:47<08:29, 127.40s/it]"
     ]
    },
    {
     "name": "stdout",
     "output_type": "stream",
     "text": [
      "0  3.41e+04    3.28 |    0.39    0.0    125     0 |   -0.01   0.00   0.35  -0.51\n"
     ]
    },
    {
     "name": "stderr",
     "output_type": "stream",
     "text": [
      "\r",
      " 84%|████████████████████████████████████████████████████████████████████▏            | 16/19 [33:54<06:21, 127.05s/it]"
     ]
    },
    {
     "name": "stdout",
     "output_type": "stream",
     "text": [
      "0  3.62e+04    3.28 |   -1.15    0.0    125     0 |   -0.01   0.00   0.25  -0.51\n"
     ]
    },
    {
     "name": "stderr",
     "output_type": "stream",
     "text": [
      "\r",
      " 89%|████████████████████████████████████████████████████████████████████████▍        | 17/19 [36:01<04:14, 127.05s/it]"
     ]
    },
    {
     "name": "stdout",
     "output_type": "stream",
     "text": [
      "0  3.84e+04    3.28 |   -0.32    0.0    125     0 |   -0.01   0.00   0.57  -0.51\n"
     ]
    },
    {
     "name": "stderr",
     "output_type": "stream",
     "text": [
      "\r",
      " 95%|████████████████████████████████████████████████████████████████████████████▋    | 18/19 [38:07<02:06, 126.74s/it]"
     ]
    },
    {
     "name": "stdout",
     "output_type": "stream",
     "text": [
      "0  4.05e+04    3.28 |   -0.59    0.0    125     0 |   -0.01   0.00   0.26  -0.51\n"
     ]
    },
    {
     "name": "stderr",
     "output_type": "stream",
     "text": [
      "100%|█████████████████████████████████████████████████████████████████████████████████| 19/19 [40:13<00:00, 127.01s/it]\n"
     ]
    },
    {
     "name": "stdout",
     "output_type": "stream",
     "text": [
      "| UsedTime:    2413 | SavedDir: ./trained_models | Total Step: 2122\n",
      "======jim-ppo-52-agent-0 Validation from:  2018-07-05 to  2019-01-03\n",
      "Max reward at validation for Reccurent PPO 125.0\n",
      "======Trading from:  2019-01-04 to  2019-07-08\n",
      "Using device:  cpu\n",
      "Saving to  results/account_value_trade_main_jim-ppo-52-agent-0.csv\n",
      "previous_total_asset:1263185.0998560593\n",
      "end_total_asset:1579032.1495053372\n",
      "total_asset_change:315847.04964927793\n",
      "Total cash is: 11.422793606616324$ and total holdings in stocks are 1579020.7267117307$\n",
      "Buy & Hold strategy with previous total asset:  1465818.9365843912\n",
      "Total Cost:  3090.7381753388813\n",
      "Sum of rewards  5686136.222835485\n",
      "Total trades:  468\n",
      "Total buy orders are 272 and total sell orders are 196\n",
      "Total days in turbulance:  0\n",
      "Sharpe:  0.39303169693858664\n",
      "Test Finished!\n",
      "episode_return % 0.579\n",
      "============================================\n",
      "Agent:  0\n",
      "======Model training from:  2010-01-01 to  2019-01-04\n",
      "| Remove cwd: ./trained_models\n",
      "Using device:  cpu\n",
      "################################################################################\n",
      "ID     Step    maxR |    avgR   stdR   avgS  stdS |    expR   objC   etc.\n"
     ]
    },
    {
     "name": "stderr",
     "output_type": "stream",
     "text": [
      "\r",
      "  0%|                                                                                           | 0/18 [00:00<?, ?it/s]"
     ]
    },
    {
     "name": "stdout",
     "output_type": "stream",
     "text": [
      "0  2.27e+03   -6.11 |   -6.11    3.5    125     0 |   -0.04   0.00   0.15  -0.50\n"
     ]
    },
    {
     "name": "stderr",
     "output_type": "stream",
     "text": [
      "\r",
      "  6%|████▌                                                                             | 1/18 [02:05<35:34, 125.58s/it]"
     ]
    },
    {
     "name": "stdout",
     "output_type": "stream",
     "text": [
      "0  4.53e+03   -3.56 |   -3.56    0.1    125     0 |    0.00   0.00   0.46  -0.51\n"
     ]
    },
    {
     "name": "stderr",
     "output_type": "stream",
     "text": [
      "\r",
      " 11%|█████████                                                                         | 2/18 [04:24<35:39, 133.70s/it]"
     ]
    },
    {
     "name": "stdout",
     "output_type": "stream",
     "text": [
      "0  6.80e+03   -2.43 |   -2.43    0.0    125     0 |   -0.00   0.00   0.23  -0.51\n"
     ]
    },
    {
     "name": "stderr",
     "output_type": "stream",
     "text": [
      "\r",
      " 17%|█████████████▋                                                                    | 3/18 [06:50<34:49, 139.33s/it]"
     ]
    },
    {
     "name": "stdout",
     "output_type": "stream",
     "text": [
      "0  9.06e+03   -2.43 |   -2.44    0.1    125     0 |   -0.00   0.00   0.27  -0.51\n"
     ]
    },
    {
     "name": "stderr",
     "output_type": "stream",
     "text": [
      "\r",
      " 22%|██████████████████▏                                                               | 4/18 [09:19<33:22, 143.05s/it]"
     ]
    },
    {
     "name": "stdout",
     "output_type": "stream",
     "text": [
      "0  1.13e+04   -2.43 |   -2.46    0.0    125     0 |   -0.00   0.00   0.27  -0.51\n"
     ]
    },
    {
     "name": "stderr",
     "output_type": "stream",
     "text": [
      "\r",
      " 28%|██████████████████████▊                                                           | 5/18 [11:50<31:35, 145.82s/it]"
     ]
    },
    {
     "name": "stdout",
     "output_type": "stream",
     "text": [
      "0  1.36e+04   -2.43 |   -2.95    0.0    125     0 |   -0.01   0.00   0.47  -0.51\n"
     ]
    },
    {
     "name": "stderr",
     "output_type": "stream",
     "text": [
      "\r",
      " 33%|███████████████████████████▎                                                      | 6/18 [14:07<28:32, 142.75s/it]"
     ]
    },
    {
     "name": "stdout",
     "output_type": "stream",
     "text": [
      "0  1.58e+04   -2.43 |   -2.99    0.0    125     0 |    0.00   0.00   0.18  -0.51\n"
     ]
    },
    {
     "name": "stderr",
     "output_type": "stream",
     "text": [
      "\r",
      " 39%|███████████████████████████████▉                                                  | 7/18 [16:23<25:45, 140.51s/it]"
     ]
    }
   ],
   "source": [
    "agent_builder.run_pbt_prediction(total_timesteps=1000)"
   ]
  },
  {
   "cell_type": "code",
   "execution_count": 20,
   "id": "015c02c3",
   "metadata": {},
   "outputs": [
    {
     "data": {
      "text/plain": [
       "160.0"
      ]
     },
     "execution_count": 20,
     "metadata": {},
     "output_type": "execute_result"
    }
   ],
   "source": [
    "200 / 1.25"
   ]
  },
  {
   "cell_type": "code",
   "execution_count": 11,
   "id": "d8edf2fe",
   "metadata": {},
   "outputs": [
    {
     "data": {
      "text/plain": [
       "0.4"
      ]
     },
     "execution_count": 11,
     "metadata": {},
     "output_type": "execute_result"
    }
   ],
   "source": [
    "round(0.43,1)"
   ]
  },
  {
   "cell_type": "code",
   "execution_count": null,
   "id": "8f413a7f",
   "metadata": {},
   "outputs": [],
   "source": []
  }
 ],
 "metadata": {
  "kernelspec": {
   "display_name": "Python 3 (ipykernel)",
   "language": "python",
   "name": "python3"
  },
  "language_info": {
   "codemirror_mode": {
    "name": "ipython",
    "version": 3
   },
   "file_extension": ".py",
   "mimetype": "text/x-python",
   "name": "python",
   "nbconvert_exporter": "python",
   "pygments_lexer": "ipython3",
   "version": "3.7.11"
  }
 },
 "nbformat": 4,
 "nbformat_minor": 5
}
