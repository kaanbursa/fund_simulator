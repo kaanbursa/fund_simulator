{
 "cells": [
  {
   "cell_type": "code",
   "execution_count": 1,
   "id": "9c978f41",
   "metadata": {},
   "outputs": [],
   "source": [
    "import os,sys,inspect\n",
    "module_path = os.path.abspath(os.path.join('..'))\n",
    "if module_path not in sys.path:\n",
    "    sys.path.append(module_path)\n",
    "from datetime import datetime\n",
    "from agents.Base import deepagents, run\n",
    "from agents.BlueAgents import *\n",
    "from data.preprocessing import data_split, get_price, DataProcessor\n",
    "import pandas as pd\n",
    "import numpy as np\n",
    "from agents.wrappers.ObservationWrapper import NormalizedEnv\n",
    "from stable_baselines3.common.vec_env import DummyVecEnv, VecNormalize\n",
    "from env.BaseEnv import EnvConfig\n",
    "from env.EnvStock_train import StockEnvTrain\n",
    "from env.EnvStock_trade import StockEnvTrade\n",
    "from env.EnvStock_val import StockEnvValidation\n",
    "from env.crypto.SingleCryptoEnv import SingleCryptoEnv\n",
    "from env.crypto.SingleCryptoEnv import SingleCryptoEnv\n",
    "from env.BaseEnv import EnvConfig\n",
    "from agents.BlueAgents import TrainerConfig\n",
    "\n",
    "%matplotlib inline\n",
    "%load_ext autoreload\n",
    "%autoreload 2"
   ]
  },
  {
   "cell_type": "code",
   "execution_count": 2,
   "id": "afa23262",
   "metadata": {},
   "outputs": [],
   "source": [
    "eth_btc = pd.read_csv('btc_eth_1m.csv')"
   ]
  },
  {
   "cell_type": "code",
   "execution_count": 3,
   "id": "93882ca7",
   "metadata": {},
   "outputs": [],
   "source": [
    "btc = eth_btc[eth_btc.ticker == 'BTC']\n",
    "btc = btc.rename(columns = {'Close':'adjcp'})"
   ]
  },
  {
   "cell_type": "code",
   "execution_count": 4,
   "id": "431b1f92",
   "metadata": {},
   "outputs": [
    {
     "data": {
      "text/plain": [
       "[]"
      ]
     },
     "execution_count": 4,
     "metadata": {},
     "output_type": "execute_result"
    }
   ],
   "source": [
    "envconf = EnvConfig(INDICATORS = [], OBSERVATIONS = 3)\n",
    "envconf.INDICATORS"
   ]
  },
  {
   "cell_type": "code",
   "execution_count": 5,
   "id": "e26c7beb",
   "metadata": {},
   "outputs": [],
   "source": [
    "btc['turbulence'] = 0"
   ]
  },
  {
   "cell_type": "code",
   "execution_count": 6,
   "id": "a3f5ea78",
   "metadata": {},
   "outputs": [],
   "source": [
    "tconfig = TrainerConfig(dataset_version = 'shannon', \n",
    "                        population = 25, normalize_env=True, \n",
    "                        rebalance_window=126, validation_window=126)\n",
    "# For trading dolars in the environment set hmax normalize which is max dollar amount to buy in one order\n",
    "env_config_dollar_trade = EnvConfig(stock_first_state= False, INITIAL_ACCOUNT_BALANCE= 10000, HMAX_NORMALIZE=1, quantity_buying=False)"
   ]
  },
  {
   "cell_type": "code",
   "execution_count": 7,
   "id": "7d102ac1",
   "metadata": {},
   "outputs": [],
   "source": [
    "agent_builder = DRLAgent('shannon' ,'PPO', StockEnvTrain, \n",
    "                         StockEnvValidation, \n",
    "                         StockEnvTrade, btc, {}, tconfig, config = envconf)"
   ]
  },
  {
   "cell_type": "code",
   "execution_count": null,
   "id": "c19eedf2",
   "metadata": {},
   "outputs": [
    {
     "name": "stdout",
     "output_type": "stream",
     "text": [
      "         Unnamed: 0                Date      Open      High       Low  \\\n",
      "0                 0 2018-03-01 08:00:00  10549.96  10576.00  10549.96   \n",
      "1                 1 2018-03-01 08:01:00  10576.13  10615.00  10576.00   \n",
      "2                 2 2018-03-01 08:02:00  10609.99  10621.00  10601.11   \n",
      "3                 3 2018-03-01 08:03:00  10615.00  10626.92  10615.00   \n",
      "4                 4 2018-03-01 08:04:00  10625.00  10637.83  10620.01   \n",
      "...             ...                 ...       ...       ...       ...   \n",
      "2047756     2054994 2022-01-25 09:57:00  36481.68  36496.41  36450.00   \n",
      "2047757     2054995 2022-01-25 09:58:00  36455.04  36510.00  36453.99   \n",
      "2047758     2054996 2022-01-25 09:59:00  36454.00  36454.00  36392.37   \n",
      "2047759     2054997 2022-01-25 10:00:00  36409.42  36436.00  36393.28   \n",
      "2047760     2054998 2022-01-25 10:01:00  36415.01  36415.01  36376.57   \n",
      "\n",
      "            adjcp     volume ticker  turbulence  \n",
      "0        10576.00   8.371788    BTC           0  \n",
      "1        10600.00  42.663297    BTC           0  \n",
      "2        10615.00  50.963831    BTC           0  \n",
      "3        10620.01  28.245880    BTC           0  \n",
      "4        10632.57  37.049986    BTC           0  \n",
      "...           ...        ...    ...         ...  \n",
      "2047756  36455.03  16.482350    BTC           0  \n",
      "2047757  36453.99  55.273710    BTC           0  \n",
      "2047758  36409.42  23.275520    BTC           0  \n",
      "2047759  36415.00  28.056920    BTC           0  \n",
      "2047760  36380.38  27.995740    BTC           0  \n",
      "\n",
      "[2054999 rows x 9 columns]\n",
      "10576.0\n",
      "10576.0\n",
      "Dolar value of assets 1004535.8760000002\n",
      "Dolar value of assets 1008786.5560000001\n",
      "Dolar value of assets 1005087.6560000002\n",
      "Dolar value of assets 1017980.6960000002\n",
      "Dolar value of assets 1015314.8560000001\n",
      "Dolar value of assets 1024761.8560000001\n",
      "Dolar value of assets 1025513.8560000001\n",
      "Dolar value of assets 1040177.8560000001\n",
      "Dolar value of assets 1036041.8560000001\n",
      "Dolar value of assets 1040272.7960000002\n",
      "Dolar value of assets 1051269.8560000001\n",
      "Dolar value of assets 1049951.036\n",
      "Dolar value of assets 1037734.7960000002\n",
      "Dolar value of assets 1050139.036\n",
      "Dolar value of assets 1049201.8560000001\n",
      "Dolar value of assets 1023351.8560000001\n",
      "Dolar value of assets 1032289.3760000002\n",
      "Dolar value of assets 1035759.8560000001\n",
      "Dolar value of assets 1024533.4360000001\n",
      "Dolar value of assets 1029461.8560000001\n",
      "Dolar value of assets 1030400.9160000001\n",
      "Dolar value of assets 1040648.7960000002\n",
      "Dolar value of assets 1043561.8560000001\n",
      "Dolar value of assets 1042527.8560000001\n",
      "Dolar value of assets 1058696.796\n",
      "Dolar value of assets 1070351.8560000001\n",
      "Dolar value of assets 1073792.2560000003\n",
      "Dolar value of assets 1074859.1560000002\n",
      "Dolar value of assets 1066221.496\n",
      "Dolar value of assets 1069703.2560000003\n",
      "Dolar value of assets 1067254.556\n",
      "Dolar value of assets 1077916.036\n",
      "Dolar value of assets 1080363.796\n",
      "Dolar value of assets 1085202.9160000002\n",
      "Dolar value of assets 1087018.056\n",
      "Dolar value of assets 1086351.5960000001\n",
      "Dolar value of assets 1070069.8560000001\n",
      "Dolar value of assets 1078530.796\n",
      "Dolar value of assets 1073642.796\n",
      "Dolar value of assets 1068659.8560000001\n",
      "Dolar value of assets 1052397.8560000001\n",
      "Dolar value of assets 1060361.536\n",
      "Dolar value of assets 1045535.8560000001\n",
      "Dolar value of assets 1057849.8560000001\n",
      "Dolar value of assets 1052022.796\n",
      "Dolar value of assets 1055313.7360000003\n",
      "Dolar value of assets 1052867.8560000001\n",
      "Dolar value of assets 1052962.796\n",
      "Dolar value of assets 1051927.8560000001\n",
      "Dolar value of assets 1078624.796\n",
      "Dolar value of assets 1083802.316\n",
      "Dolar value of assets 1074581.8560000001\n",
      "Dolar value of assets 1082946.9160000002\n",
      "Dolar value of assets 1083887.8560000001\n",
      "Dolar value of assets 1089448.8960000002\n",
      "Dolar value of assets 1088869.8560000001\n",
      "Dolar value of assets 1090653.976\n",
      "Dolar value of assets 1082101.8560000001\n",
      "Dolar value of assets 1080409.8560000001\n",
      "Dolar value of assets 1087271.8560000001\n",
      "Dolar value of assets 1086519.8560000001\n",
      "Dolar value of assets 1084451.8560000001\n",
      "Dolar value of assets 1086824.4160000002\n",
      "Dolar value of assets 1093287.8560000001\n",
      "Dolar value of assets 1105319.8560000001\n",
      "Dolar value of assets 1093381.8560000001\n",
      "Dolar value of assets 1093750.3360000001\n",
      "Dolar value of assets 1061229.1560000002\n",
      "Dolar value of assets 1065436.5960000001\n",
      "Dolar value of assets 1068940.9160000002\n",
      "Dolar value of assets 1072232.796\n",
      "Dolar value of assets 1064241.8560000001\n",
      "Dolar value of assets 1066310.796\n",
      "Dolar value of assets 1032165.2960000002\n",
      "Dolar value of assets 1030683.8560000001\n",
      "Dolar value of assets 1036370.8560000001\n",
      "Dolar value of assets 1033033.8560000001\n",
      "Dolar value of assets 1017241.8560000001\n",
      "Dolar value of assets 1005065.096\n",
      "Dolar value of assets 1018647.1560000002\n",
      "Dolar value of assets 1018526.8360000001\n",
      "Dolar value of assets 1021001.8560000001\n",
      "Dolar value of assets 1023212.7360000001\n",
      "Dolar value of assets 1013010.9160000001\n",
      "Dolar value of assets 1012352.9160000001\n",
      "Dolar value of assets 991039.3560000001\n",
      "Dolar value of assets 994874.5560000001\n",
      "Dolar value of assets 990873.9160000001\n",
      "Dolar value of assets 999956.1960000002\n",
      "Dolar value of assets 993741.8560000001\n"
     ]
    }
   ],
   "source": [
    "df = agent_builder.shannons_demon(5)"
   ]
  },
  {
   "cell_type": "code",
   "execution_count": null,
   "id": "5c02e3f7",
   "metadata": {},
   "outputs": [],
   "source": []
  }
 ],
 "metadata": {
  "kernelspec": {
   "display_name": "Python 3 (ipykernel)",
   "language": "python",
   "name": "python3"
  },
  "language_info": {
   "codemirror_mode": {
    "name": "ipython",
    "version": 3
   },
   "file_extension": ".py",
   "mimetype": "text/x-python",
   "name": "python",
   "nbconvert_exporter": "python",
   "pygments_lexer": "ipython3",
   "version": "3.7.11"
  }
 },
 "nbformat": 4,
 "nbformat_minor": 5
}
