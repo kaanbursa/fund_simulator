{
 "cells": [
  {
   "cell_type": "code",
   "execution_count": 1,
   "metadata": {},
   "outputs": [],
   "source": [
    "import pandas as pd\n",
    "import torch as th\n",
    "import os\n",
    "import re\n",
    "import yfinance as yf\n",
    "import numpy as np\n",
    "import warnings\n",
    "from stable_baselines3.common.noise import NormalActionNoise, OrnsteinUhlenbeckActionNoise\n",
    "warnings.filterwarnings('ignore')\n",
    "            \n",
    "import sys; sys.path.insert(0, '..')\n",
    "from model.models import run_ensemble_strategy, TrainerConfig, Trainer\n",
    "import data.preprocessing as pp\n",
    "from utils.utils_analyze import get_price, check_index_dim\n",
    "from utils.indicators import indicator_list, indicators_stock_stats\n",
    "from env.BaseEnv import EnvConfig\n",
    "from env.EnvStock_val import StockEnvValidation\n",
    "from env.EnvStock_train import StockEnvTrain\n",
    "from env.EnvStock_trade import StockEnvTrade\n",
    "from policy.Policies import MlActorCriticPolicy\n",
    "from config.config import indexes, ticker_list, category_dict, ticker_list_with_dict, tech_tickers\n",
    "%matplotlib inline\n",
    "%load_ext autoreload\n",
    "%autoreload 2"
   ]
  },
  {
   "cell_type": "markdown",
   "metadata": {},
   "source": [
    "### Do not Run these two cell if you do not want to preprocess data from the begining"
   ]
  },
  {
   "cell_type": "code",
   "execution_count": 2,
   "metadata": {},
   "outputs": [],
   "source": [
    "START_DATE = '2011-01-01'\n",
    "SEED = 42069\n",
    "NORNAMLIZE = True"
   ]
  },
  {
   "cell_type": "markdown",
   "metadata": {},
   "source": [
    "###  Run these two cell if you do not want to preprocess data from the begining"
   ]
  },
  {
   "cell_type": "code",
   "execution_count": 175,
   "metadata": {},
   "outputs": [],
   "source": [
    "SAC_PARAMS = {'gamma':0.995,\n",
    "'learning_rate':0.016241092434986143,\n",
    "'batch_size':64,\n",
    "'buffer_size':1000000,\n",
    "'learning_starts':10000,\n",
    "'gradient_steps':8,\n",
    "'ent_coef':'auto',\n",
    "'tau':0.005,\n",
    "'target_entropy':'auto',\n",
    "'policy_kwargs':{'log_std_init': -3.3486909298160947,'net_arch': [256, 256] },\n",
    "'use_sde': False,\n",
    "'seed':42099,\n",
    "         \"device\":\"cuda\"}\n",
    "\n",
    "\n",
    "PPO_PARAMS =  {'n_steps': 512, 'batch_size': 64, 'gamma': 0.999, 'learning_rate': 0.03691157097485833, \n",
    "                                'ent_coef': 0.08932887565089782, \n",
    "                                'clip_range': 0.1, 'n_epochs': 5, \n",
    "                                'gae_lambda': 0.9, 'max_grad_norm': 0.8, 'vf_coef': 0.891060944163853, \n",
    "                                'policy_kwargs': {'net_arch': [{'pi': [256, 256], 'vf': [256, 256]}], \n",
    "              'activation_fn': th.nn.ReLU, 'ortho_init': False}, 'seed': 42069, \"device\":\"cuda\"}\n",
    "DATASET_VERSION = 'clusterTrain'\n",
    "model = 'PPO'\n",
    "MODEL_NAME = f'jim_clustered_{model}-v1'\n",
    "POPULATION = 10\n",
    "TIME_INTERVAL = 5\n",
    "START_TRADE = '2011-01-01'\n",
    "policy_kwargs = dict(activation_fn=th.nn.ReLU,\n",
    "                     net_arch=[dict(pi=[256, 128, 64], vf=[256, 128])])\n",
    "TIME_FRAME = 0"
   ]
  },
  {
   "cell_type": "code",
   "execution_count": 176,
   "metadata": {},
   "outputs": [],
   "source": [
    "winner_params = {'n_steps':8,'batch_size':8,'gamma':0.95,'learning_rate':0.027651081986547765,\n",
    " 'ent_coef':0.009004220378275581,'clip_range':0.3,'n_epochs':1,'gae_lambda':0.95,'max_grad_norm':0.9,'vf_coef':0.9311987337638572,\n",
    " 'policy_kwargs':{'net_arch': [{'pi': [256, 256], 'vf': [256, 256]}], 'activation_fn': th.nn.Tanh, 'ortho_init': False},'seed':42069,'device':'cuda'}"
   ]
  },
  {
   "cell_type": "code",
   "execution_count": 177,
   "metadata": {},
   "outputs": [],
   "source": [
    "params = {'SAC':SAC_PARAMS, 'PPO':PPO_PARAMS}"
   ]
  },
  {
   "cell_type": "code",
   "execution_count": 178,
   "metadata": {},
   "outputs": [],
   "source": [
    "tconfig = TrainerConfig(start_date=START_TRADE,\n",
    "                        rebalance_window = 242,\n",
    "                        validation_window = 242,\n",
    "                        **{'hparams':winner_params},\n",
    "                        timesteps=50000,\n",
    "                       policy_kwargs = policy_kwargs,\n",
    "                       index_list = indexes)"
   ]
  },
  {
   "cell_type": "code",
   "execution_count": 179,
   "metadata": {},
   "outputs": [
    {
     "name": "stdout",
     "output_type": "stream",
     "text": [
      "Total number of stocks:   469\n"
     ]
    }
   ],
   "source": [
    "trainer = Trainer(model, 'MlpPolicy', \n",
    "                  StockEnvTrain, StockEnvValidation, StockEnvTrade, \n",
    "                  dataset_version=DATASET_VERSION, population=10,\n",
    "                     config = tconfig, model_name= MODEL_NAME, debug=False)"
   ]
  },
  {
   "cell_type": "code",
   "execution_count": 181,
   "metadata": {},
   "outputs": [
    {
     "name": "stdout",
     "output_type": "stream",
     "text": [
      "The dataset has been made before starting training :)\n",
      "============================================\n",
      "Stocks trading this period is  ['AAPL' 'BMY' 'BSX' 'CF' 'CFG' 'COTY' 'CRM' 'CVS' 'EBAY' 'GILD' 'KEY' 'KO'\n",
      " 'MDT' 'MU' 'NKE' 'NVDA' 'STX' 'TGT' 'WMB' 'WY']\n",
      "======Model training from:  2011-01-01 to  2016-01-04T00:00:00.000000000\n",
      "======Recurrent PPO Training for a population of 10========\n",
      "Training time  jim_clustered_PPO-v1 :  6.101178658008576  minutes\n",
      "======jim_clustered_PPO-v1 Validation from:  2016-01-04 00:00:00 to  2016-12-15 00:00:00\n",
      "-----------------\n",
      "Total Reward:  -2.0010880364570767\n",
      "Total Trades:  3289\n",
      "End total asset for validation 1094655.3175395427\n",
      "Mean Reward: -4.224979552638979\n",
      "STD reward: 0.7174313488959476\n",
      "-----------------\n",
      "Reward for the period is -2.0010880364570767\n",
      "Agent #0 has better performance for the training period with total reward: 1094655.3175395427\n",
      "Training time  jim_clustered_PPO-v1 :  10.566005237897237  minutes\n",
      "======jim_clustered_PPO-v1 Validation from:  2016-01-04 00:00:00 to  2016-12-15 00:00:00\n",
      "-----------------\n",
      "Total Reward:  -6.360578395891935\n",
      "Total Trades:  4042\n",
      "End total asset for validation 1001394.9152931207\n",
      "Mean Reward: -2.1259300023375545\n",
      "STD reward: 0.12687430440522768\n",
      "-----------------\n",
      "Reward for the period is -6.360578395891935\n",
      "Training time  jim_clustered_PPO-v1 :  7.224518342812856  minutes\n",
      "======jim_clustered_PPO-v1 Validation from:  2016-01-04 00:00:00 to  2016-12-15 00:00:00\n",
      "-----------------\n",
      "Total Reward:  -4.810128894634545\n",
      "Total Trades:  4237\n",
      "End total asset for validation 1040045.9261572124\n",
      "Mean Reward: -3.316348356617527\n",
      "STD reward: 0.5362854409117074\n",
      "-----------------\n",
      "Reward for the period is -4.810128894634545\n",
      "Model destabilized with params:   Creating new params\n",
      "Model destabilized with params:   Creating new params\n",
      "Model destabilized with params:   Creating new params\n",
      "Training time  jim_clustered_PPO-v1 :  6.413012667496999  minutes\n",
      "======jim_clustered_PPO-v1 Validation from:  2016-01-04 00:00:00 to  2016-12-15 00:00:00\n",
      "-----------------\n",
      "Total Reward:  -3.1321519780904055\n",
      "Total Trades:  4364\n",
      "End total asset for validation 1154630.4791112223\n",
      "Mean Reward: -2.7352654995120247\n",
      "STD reward: 0.6718348244683261\n",
      "-----------------\n",
      "Reward for the period is -3.1321519780904055\n",
      "Agent #6 has better performance for the training period with total reward: 1154630.4791112223\n",
      "Model destabilized with params:   Creating new params\n",
      "Training time  jim_clustered_PPO-v1 :  5.887501112620035  minutes\n",
      "======jim_clustered_PPO-v1 Validation from:  2016-01-04 00:00:00 to  2016-12-15 00:00:00\n",
      "-----------------\n",
      "Total Reward:  -4.318452903069556\n",
      "Total Trades:  3507\n",
      "End total asset for validation 1111800.6573002976\n",
      "Mean Reward: -3.8938820615177976\n",
      "STD reward: 0.2309417730789945\n",
      "-----------------\n",
      "Reward for the period is -4.318452903069556\n",
      "Training time  jim_clustered_PPO-v1 :  6.046725471814473  minutes\n",
      "======jim_clustered_PPO-v1 Validation from:  2016-01-04 00:00:00 to  2016-12-15 00:00:00\n",
      "-----------------\n",
      "Total Reward:  -3.204319193959236\n",
      "Total Trades:  3573\n",
      "End total asset for validation 1167064.9926697635\n",
      "Mean Reward: -5.97587133878842\n",
      "STD reward: 0.1378159677577517\n",
      "-----------------\n",
      "Reward for the period is -3.204319193959236\n",
      "Agent #9 has better performance for the training period with total reward: 1167064.9926697635\n",
      "Training time  jim_clustered_PPO-v1 :  5.298685530821483  minutes\n",
      "======Recurrent PPO Validation from:  2016-01-04T00:00:00.000000000 to  2016-12-16T00:00:00.000000000\n",
      "-----------------\n",
      "Total Reward:  0.8934120610356331\n",
      "Total Trades:  3012\n",
      "End total asset for validation 1195415.861381861\n",
      "Mean Reward: -1.408367420869763\n",
      "STD reward: 0.12846377870589284\n",
      "-----------------\n",
      "Total reward at validation for Reccurent PPO 0.8934120610356331\n",
      "======Trading from:  2016-12-16T00:00:00.000000000 to  2017-12-05T00:00:00.000000000 Model is :  Rec_PPO\n",
      "==============================\n",
      "Previously traded stocks are ['AAL' 'AMAT' 'FB' 'FCX' 'KMI' 'LLY' 'M' 'MDLZ' 'MDT' 'MET' 'MS' 'NFLX'\n",
      " 'NKE' 'NRG' 'NVDA' 'SO' 'SYY' 'UAA' 'UAL' 'YUM']\n",
      "====Closing position changing stocks at day 2016-12-30 00:00:00====\n",
      "New stocks are ['AAPL' 'BMY' 'BSX' 'CF' 'CFG' 'COTY' 'CRM' 'CVS' 'EBAY' 'GILD' 'KEY' 'KO'\n",
      " 'MDT' 'MU' 'NKE' 'NVDA' 'STX' 'TGT' 'WMB' 'WY']\n",
      "Current dollar is 998010.5461397172\n",
      "==============================\n",
      "241\n",
      "Saving to  results/account_value_trade_main_jim_clustered_PPO-v1.csv\n",
      "previous_total_asset:1000000\n",
      "end_total_asset:1070815.9259928768\n",
      "total_asset_change:70815.92599287676\n",
      "Total cash is: 1.361157216939091$ and total holdings in stocks are 1070814.56483566$\n",
      "Buy & Hold strategy with previous total asset:  1109172.6374213928\n",
      "Total Cost:  9812.922266717678\n",
      "Sum of rewards  -33177048.011552382\n",
      "Total trades:  2525\n",
      "Total days in turbulance:  0\n",
      "Sharpe:  0.1002566857509088\n",
      "=============\n",
      "Total reward for the the window is -25.420643359422684\n",
      "=============\n"
     ]
    },
    {
     "data": {
      "text/html": [
       "\n",
       "                    Syncing run <strong><a href=\"https://wandb.ai/kaanb/FundSimulator/runs/ylbecnq7\" target=\"_blank\">helpful-bee-1022</a></strong> to <a href=\"https://wandb.ai/kaanb/FundSimulator\" target=\"_blank\">Weights & Biases</a> (<a href=\"https://docs.wandb.com/integrations/jupyter.html\" target=\"_blank\">docs</a>).<br/>\n",
       "\n",
       "                "
      ],
      "text/plain": [
       "<IPython.core.display.HTML object>"
      ]
     },
     "metadata": {},
     "output_type": "display_data"
    },
    {
     "data": {
      "text/html": [
       "<br/>Waiting for W&B process to finish, PID 8572... <strong style=\"color:green\">(success).</strong>"
      ],
      "text/plain": [
       "<IPython.core.display.HTML object>"
      ]
     },
     "metadata": {},
     "output_type": "display_data"
    },
    {
     "data": {
      "application/vnd.jupyter.widget-view+json": {
       "model_id": "",
       "version_major": 2,
       "version_minor": 0
      },
      "text/plain": [
       "VBox(children=(Label(value=' 0.00MB of 0.00MB uploaded (0.00MB deduped)\\r'), FloatProgress(value=1.0, max=1.0)…"
      ]
     },
     "metadata": {},
     "output_type": "display_data"
    },
    {
     "data": {
      "text/html": [
       "<style>\n",
       "    table.wandb td:nth-child(1) { padding: 0 10px; text-align: right }\n",
       "    .wandb-row { display: flex; flex-direction: row; flex-wrap: wrap; width: 100% }\n",
       "    .wandb-col { display: flex; flex-direction: column; flex-basis: 100%; flex: 1; padding: 10px; }\n",
       "    </style>\n",
       "<div class=\"wandb-row\"><div class=\"wandb-col\">\n",
       "<h3>Run history:</h3><br/><table class=\"wandb\"><tr><td>date</td><td>▁</td></tr><tr><td>end_total_asset</td><td>▁</td></tr><tr><td>trade_reward</td><td>▁</td></tr></table><br/></div><div class=\"wandb-col\">\n",
       "<h3>Run summary:</h3><br/><table class=\"wandb\"><tr><td>date</td><td>1512432000000000000</td></tr><tr><td>end_total_asset</td><td>1070815.92599</td></tr><tr><td>trade_reward</td><td>0.0</td></tr></table>\n",
       "</div></div>\n",
       "Synced 5 W&B file(s), 0 media file(s), 0 artifact file(s) and 0 other file(s)\n",
       "<br/>Synced <strong style=\"color:#cdcd00\">helpful-bee-1022</strong>: <a href=\"https://wandb.ai/kaanb/FundSimulator/runs/ylbecnq7\" target=\"_blank\">https://wandb.ai/kaanb/FundSimulator/runs/ylbecnq7</a><br/>\n",
       "Find logs at: <code>.\\wandb\\run-20220128_230456-ylbecnq7\\logs</code><br/>\n"
      ],
      "text/plain": [
       "<IPython.core.display.HTML object>"
      ]
     },
     "metadata": {},
     "output_type": "display_data"
    },
    {
     "name": "stdout",
     "output_type": "stream",
     "text": [
      "============================================\n",
      "Stocks trading this period is  ['ABBV' 'ATVI' 'BABA' 'EW' 'GE' 'GILD' 'GM' 'GPS' 'INTC' 'IPG' 'KR' 'MGM'\n",
      " 'MOS' 'MRK' 'NVDA' 'NWL' 'PYPL' 'RRC' 'SLB' 'TWX']\n",
      "======Model training from:  2011-01-01 to  2016-12-16T00:00:00.000000000\n",
      "======Recurrent PPO Training for a population of 10========\n",
      "Training time  jim_clustered_PPO-v1 :  5.346305000782013  minutes\n",
      "======jim_clustered_PPO-v1 Validation from:  2016-12-16 00:00:00 to  2017-12-04 00:00:00\n",
      "-----------------\n",
      "Total Reward:  -24.70571554452181\n",
      "Total Trades:  3768\n",
      "End total asset for validation 1155680.146302363\n",
      "Mean Reward: -9.118631633673795\n",
      "STD reward: 1.2724390817808864\n",
      "-----------------\n",
      "Reward for the period is -24.70571554452181\n",
      "Agent #0 has better performance for the training period with total reward: 1155680.146302363\n",
      "Training time  jim_clustered_PPO-v1 :  4.665276336669922  minutes\n",
      "======jim_clustered_PPO-v1 Validation from:  2016-12-16 00:00:00 to  2017-12-04 00:00:00\n",
      "-----------------\n",
      "Total Reward:  -24.06323904544115\n",
      "Total Trades:  4396\n",
      "End total asset for validation 1010828.4347841125\n",
      "Mean Reward: -6.3545404399745165\n",
      "STD reward: 0.7763473957041129\n",
      "-----------------\n",
      "Reward for the period is -24.06323904544115\n",
      "Training time  jim_clustered_PPO-v1 :  4.947942864894867  minutes\n",
      "======jim_clustered_PPO-v1 Validation from:  2016-12-16 00:00:00 to  2017-12-04 00:00:00\n",
      "-----------------\n",
      "Total Reward:  -24.639866828918457\n",
      "Total Trades:  4435\n",
      "End total asset for validation 934536.6143453256\n",
      "Mean Reward: -7.794860319327563\n",
      "STD reward: 0.28044120627301566\n",
      "-----------------\n",
      "Reward for the period is -24.639866828918457\n",
      "Training time  jim_clustered_PPO-v1 :  4.872405775388082  minutes\n",
      "======jim_clustered_PPO-v1 Validation from:  2016-12-16 00:00:00 to  2017-12-04 00:00:00\n",
      "-----------------\n",
      "Total Reward:  -24.874931186437607\n",
      "Total Trades:  4578\n",
      "End total asset for validation 1061577.4160182893\n",
      "Mean Reward: -9.19360823421739\n",
      "STD reward: 0.8025711348441488\n",
      "-----------------\n",
      "Reward for the period is -24.874931186437607\n",
      "Model destabilized with params:   Creating new params\n",
      "Training time  jim_clustered_PPO-v1 :  5.019833405812581  minutes\n",
      "======jim_clustered_PPO-v1 Validation from:  2016-12-16 00:00:00 to  2017-12-04 00:00:00\n",
      "-----------------\n",
      "Total Reward:  -24.835554644465446\n",
      "Total Trades:  4547\n",
      "End total asset for validation 1023916.9470692644\n",
      "Mean Reward: -5.677337197074666\n",
      "STD reward: 0.6943452775585958\n",
      "-----------------\n",
      "Reward for the period is -24.835554644465446\n",
      "Training time  jim_clustered_PPO-v1 :  4.940106681982676  minutes\n",
      "======jim_clustered_PPO-v1 Validation from:  2016-12-16 00:00:00 to  2017-12-04 00:00:00\n",
      "-----------------\n",
      "Total Reward:  -24.880434975028038\n",
      "Total Trades:  4517\n",
      "End total asset for validation 1016098.3492084558\n",
      "Mean Reward: -6.980661385925487\n",
      "STD reward: 0.7282994100089888\n",
      "-----------------\n",
      "Reward for the period is -24.880434975028038\n",
      "Training time  jim_clustered_PPO-v1 :  4.548056856791178  minutes\n",
      "======jim_clustered_PPO-v1 Validation from:  2016-12-16 00:00:00 to  2017-12-04 00:00:00\n",
      "-----------------\n",
      "Total Reward:  -24.887140095233917\n",
      "Total Trades:  3354\n",
      "End total asset for validation 995012.8732626429\n",
      "Mean Reward: -8.718327142624185\n",
      "STD reward: 0.18693350224686142\n",
      "-----------------\n",
      "Reward for the period is -24.887140095233917\n",
      "Model destabilized with params:   Creating new params\n",
      "Training time  jim_clustered_PPO-v1 :  4.5634153644243876  minutes\n",
      "======jim_clustered_PPO-v1 Validation from:  2016-12-16 00:00:00 to  2017-12-04 00:00:00\n",
      "-----------------\n",
      "Total Reward:  -24.15732754021883\n",
      "Total Trades:  1742\n",
      "End total asset for validation 1119697.9399179453\n",
      "Mean Reward: -9.215648113377393\n",
      "STD reward: 0.3775436649111183\n",
      "-----------------\n",
      "Reward for the period is -24.15732754021883\n",
      "Training time  jim_clustered_PPO-v1 :  5.446009353796641  minutes\n",
      "======Recurrent PPO Validation from:  2016-12-16T00:00:00.000000000 to  2017-12-05T00:00:00.000000000\n",
      "-----------------\n",
      "Total Reward:  -10.270294116111472\n",
      "Total Trades:  3566\n",
      "End total asset for validation 1025130.970872686\n",
      "Mean Reward: -9.304191484348848\n",
      "STD reward: 0.13473970649630415\n",
      "-----------------\n",
      "Total reward at validation for Reccurent PPO -10.270294116111472\n",
      "======Trading from:  2017-12-05T00:00:00.000000000 to  2018-11-21T00:00:00.000000000 Model is :  Rec_PPO\n",
      "==============================\n",
      "Previously traded stocks are ['AAPL' 'BMY' 'BSX' 'CF' 'CFG' 'COTY' 'CRM' 'CVS' 'EBAY' 'GILD' 'KEY' 'KO'\n",
      " 'MDT' 'MU' 'NKE' 'NVDA' 'STX' 'TGT' 'WMB' 'WY']\n",
      "====Closing position changing stocks at day 2017-12-28 00:00:00====\n",
      "New stocks are ['AAPL' 'BMY' 'BSX' 'CF' 'CFG' 'COTY' 'CRM' 'CVS' 'EBAY' 'GILD' 'KEY' 'KO'\n",
      " 'MDT' 'MU' 'NKE' 'NVDA' 'STX' 'TGT' 'WMB' 'WY']\n",
      "Current dollar is 1094014.5365149388\n",
      "==============================\n",
      "241\n",
      "Saving to  results/account_value_trade_main_jim_clustered_PPO-v1.csv\n",
      "previous_total_asset:1070815.9259928768\n",
      "end_total_asset:930664.3297956153\n",
      "total_asset_change:-140151.59619726148\n",
      "Total cash is: 5.103935019525991$ and total holdings in stocks are 930659.2258605957$\n",
      "Buy & Hold strategy with previous total asset:  1024772.6975903125\n",
      "Total Cost:  13149.40178911121\n",
      "Sum of rewards  -110581978.85245545\n",
      "Total trades:  2373\n",
      "Total days in turbulance:  0\n",
      "Sharpe:  -0.07057255795461795\n",
      "=============\n",
      "Total reward for the the window is -54.51075591146946\n",
      "=============\n"
     ]
    },
    {
     "data": {
      "text/html": [
       "\n",
       "                    Syncing run <strong><a href=\"https://wandb.ai/kaanb/FundSimulator/runs/35mysje5\" target=\"_blank\">polished-firebrand-1023</a></strong> to <a href=\"https://wandb.ai/kaanb/FundSimulator\" target=\"_blank\">Weights & Biases</a> (<a href=\"https://docs.wandb.com/integrations/jupyter.html\" target=\"_blank\">docs</a>).<br/>\n",
       "\n",
       "                "
      ],
      "text/plain": [
       "<IPython.core.display.HTML object>"
      ]
     },
     "metadata": {},
     "output_type": "display_data"
    },
    {
     "data": {
      "text/html": [
       "<br/>Waiting for W&B process to finish, PID 16944... <strong style=\"color:green\">(success).</strong>"
      ],
      "text/plain": [
       "<IPython.core.display.HTML object>"
      ]
     },
     "metadata": {},
     "output_type": "display_data"
    },
    {
     "data": {
      "application/vnd.jupyter.widget-view+json": {
       "model_id": "",
       "version_major": 2,
       "version_minor": 0
      },
      "text/plain": [
       "VBox(children=(Label(value=' 0.00MB of 0.00MB uploaded (0.00MB deduped)\\r'), FloatProgress(value=1.0, max=1.0)…"
      ]
     },
     "metadata": {},
     "output_type": "display_data"
    },
    {
     "data": {
      "text/html": [
       "<style>\n",
       "    table.wandb td:nth-child(1) { padding: 0 10px; text-align: right }\n",
       "    .wandb-row { display: flex; flex-direction: row; flex-wrap: wrap; width: 100% }\n",
       "    .wandb-col { display: flex; flex-direction: column; flex-basis: 100%; flex: 1; padding: 10px; }\n",
       "    </style>\n",
       "<div class=\"wandb-row\"><div class=\"wandb-col\">\n",
       "<h3>Run history:</h3><br/><table class=\"wandb\"><tr><td>date</td><td>▁</td></tr><tr><td>end_total_asset</td><td>▁</td></tr><tr><td>trade_reward</td><td>▁</td></tr></table><br/></div><div class=\"wandb-col\">\n",
       "<h3>Run summary:</h3><br/><table class=\"wandb\"><tr><td>date</td><td>1542758400000000000</td></tr><tr><td>end_total_asset</td><td>930664.3298</td></tr><tr><td>trade_reward</td><td>0.0</td></tr></table>\n",
       "</div></div>\n",
       "Synced 5 W&B file(s), 0 media file(s), 0 artifact file(s) and 0 other file(s)\n",
       "<br/>Synced <strong style=\"color:#cdcd00\">polished-firebrand-1023</strong>: <a href=\"https://wandb.ai/kaanb/FundSimulator/runs/35mysje5\" target=\"_blank\">https://wandb.ai/kaanb/FundSimulator/runs/35mysje5</a><br/>\n",
       "Find logs at: <code>.\\wandb\\run-20220128_235657-35mysje5\\logs</code><br/>\n"
      ],
      "text/plain": [
       "<IPython.core.display.HTML object>"
      ]
     },
     "metadata": {},
     "output_type": "display_data"
    },
    {
     "name": "stdout",
     "output_type": "stream",
     "text": [
      "============================================\n",
      "Stocks trading this period is  ['AAL' 'AMAT' 'AMD' 'BSX' 'CMCSA' 'CSX' 'CTRA' 'FCX' 'GIS' 'HBAN' 'INTC'\n",
      " 'KEY' 'MRK' 'NEM' 'PCG' 'PFE' 'RF' 'TJX' 'UAA' 'VZ']\n",
      "======Model training from:  2011-01-01 to  2017-12-05T00:00:00.000000000\n",
      "======Recurrent PPO Training for a population of 10========\n",
      "Training time  jim_clustered_PPO-v1 :  5.39120211203893  minutes\n",
      "======jim_clustered_PPO-v1 Validation from:  2017-12-05 00:00:00 to  2018-11-20 00:00:00\n",
      "-----------------\n",
      "Total Reward:  -27.053942263126373\n",
      "Total Trades:  3536\n",
      "End total asset for validation 937803.1027707446\n",
      "Mean Reward: -6.259399187704548\n",
      "STD reward: 0.5624339599531597\n",
      "-----------------\n",
      "Reward for the period is -27.053942263126373\n",
      "Agent #0 has better performance for the training period with total reward: 937803.1027707446\n",
      "Training time  jim_clustered_PPO-v1 :  4.718649808565775  minutes\n",
      "======jim_clustered_PPO-v1 Validation from:  2017-12-05 00:00:00 to  2018-11-20 00:00:00\n",
      "-----------------\n",
      "Total Reward:  -28.46925513446331\n",
      "Total Trades:  2093\n",
      "End total asset for validation 645385.0143746776\n",
      "Mean Reward: -7.1044027913128955\n",
      "STD reward: 0.10351983003486533\n",
      "-----------------\n",
      "Reward for the period is -28.46925513446331\n",
      "Training time  jim_clustered_PPO-v1 :  5.236831486225128  minutes\n",
      "======jim_clustered_PPO-v1 Validation from:  2017-12-05 00:00:00 to  2018-11-20 00:00:00\n",
      "-----------------\n",
      "Total Reward:  -26.676388770341873\n",
      "Total Trades:  2834\n",
      "End total asset for validation 937950.2446025055\n",
      "Mean Reward: -6.797549725323916\n",
      "STD reward: 0.476991957150538\n",
      "-----------------\n",
      "Reward for the period is -26.676388770341873\n",
      "Agent #2 has better performance for the training period with total reward: 937950.2446025055\n",
      "Training time  jim_clustered_PPO-v1 :  5.169311988353729  minutes\n",
      "======jim_clustered_PPO-v1 Validation from:  2017-12-05 00:00:00 to  2018-11-20 00:00:00\n",
      "-----------------\n",
      "Total Reward:  -27.1385490372777\n",
      "Total Trades:  4356\n",
      "End total asset for validation 791528.8983987308\n",
      "Mean Reward: -8.833495160960592\n",
      "STD reward: 0.25086289200534573\n",
      "-----------------\n",
      "Reward for the period is -27.1385490372777\n",
      "Model destabilized with params:   Creating new params\n",
      "Training time  jim_clustered_PPO-v1 :  5.497069009145101  minutes\n",
      "======jim_clustered_PPO-v1 Validation from:  2017-12-05 00:00:00 to  2018-11-20 00:00:00\n",
      "-----------------\n",
      "Total Reward:  -27.096098847687244\n",
      "Total Trades:  4027\n",
      "End total asset for validation 836693.742367161\n",
      "Mean Reward: -8.274951543915085\n",
      "STD reward: 0.8830396499958048\n",
      "-----------------\n",
      "Reward for the period is -27.096098847687244\n",
      "Model destabilized with params:   Creating new params\n",
      "Model destabilized with params:   Creating new params\n",
      "Training time  jim_clustered_PPO-v1 :  4.889958886305491  minutes\n",
      "======jim_clustered_PPO-v1 Validation from:  2017-12-05 00:00:00 to  2018-11-20 00:00:00\n",
      "-----------------\n",
      "Total Reward:  -27.127133302390575\n",
      "Total Trades:  4469\n",
      "End total asset for validation 867715.3745505643\n",
      "Mean Reward: -7.553093688236549\n",
      "STD reward: 0.15251404214092945\n",
      "-----------------\n",
      "Reward for the period is -27.127133302390575\n",
      "Training time  jim_clustered_PPO-v1 :  5.0370501518249515  minutes\n",
      "======jim_clustered_PPO-v1 Validation from:  2017-12-05 00:00:00 to  2018-11-20 00:00:00\n",
      "-----------------\n",
      "Total Reward:  -27.415345393121243\n",
      "Total Trades:  4407\n",
      "End total asset for validation 708747.0768233113\n",
      "Mean Reward: -7.715438188193366\n",
      "STD reward: 0.06158225184690729\n",
      "-----------------\n",
      "Reward for the period is -27.415345393121243\n",
      "Training time  jim_clustered_PPO-v1 :  5.527326567967733  minutes\n",
      "======Recurrent PPO Validation from:  2017-12-05T00:00:00.000000000 to  2018-11-21T00:00:00.000000000\n",
      "-----------------\n",
      "Total Reward:  -5.728077418054454\n",
      "Total Trades:  3273\n",
      "End total asset for validation 1043577.2055440159\n",
      "Mean Reward: -5.546167195867747\n",
      "STD reward: 0.10317377651917436\n",
      "-----------------\n",
      "Total reward at validation for Reccurent PPO -5.728077418054454\n",
      "======Trading from:  2018-11-21T00:00:00.000000000 to  2019-11-08T00:00:00.000000000 Model is :  Rec_PPO\n",
      "==============================\n",
      "Previously traded stocks are ['ABBV' 'ATVI' 'BABA' 'EW' 'GE' 'GILD' 'GM' 'GPS' 'INTC' 'IPG' 'KR' 'MGM'\n",
      " 'MOS' 'MRK' 'NVDA' 'NWL' 'PYPL' 'RRC' 'SLB' 'TWX']\n",
      "====Closing position changing stocks at day 2018-12-28 00:00:00====\n",
      "New stocks are ['ABBV' 'ATVI' 'BABA' 'EW' 'GE' 'GILD' 'GM' 'GPS' 'INTC' 'IPG' 'KR' 'MGM'\n",
      " 'MOS' 'MRK' 'NVDA' 'NWL' 'PYPL' 'RRC' 'SLB' 'TWX']\n",
      "Current dollar is 874956.5794733411\n",
      "==============================\n",
      "241\n",
      "Saving to  results/account_value_trade_main_jim_clustered_PPO-v1.csv\n",
      "previous_total_asset:930664.3297956153\n",
      "end_total_asset:995008.2541099965\n",
      "total_asset_change:64343.924314381205\n",
      "Total cash is: 2.763606872445493$ and total holdings in stocks are 995005.4905031241$\n",
      "Stock was not active TWX\n",
      "Buy & Hold strategy with previous total asset:  986615.6020079198\n",
      "Total Cost:  5156.83597496496\n",
      "Sum of rewards  -324305312.4764061\n",
      "Total trades:  1378\n",
      "Total days in turbulance:  0\n",
      "Sharpe:  0.06944726476776888\n",
      "=============\n",
      "Total reward for the the window is -70.61782389879227\n",
      "=============\n"
     ]
    },
    {
     "data": {
      "text/html": [
       "\n",
       "                    Syncing run <strong><a href=\"https://wandb.ai/kaanb/FundSimulator/runs/17wvch1u\" target=\"_blank\">royal-oath-1024</a></strong> to <a href=\"https://wandb.ai/kaanb/FundSimulator\" target=\"_blank\">Weights & Biases</a> (<a href=\"https://docs.wandb.com/integrations/jupyter.html\" target=\"_blank\">docs</a>).<br/>\n",
       "\n",
       "                "
      ],
      "text/plain": [
       "<IPython.core.display.HTML object>"
      ]
     },
     "metadata": {},
     "output_type": "display_data"
    },
    {
     "data": {
      "text/html": [
       "<br/>Waiting for W&B process to finish, PID 24384... <strong style=\"color:green\">(success).</strong>"
      ],
      "text/plain": [
       "<IPython.core.display.HTML object>"
      ]
     },
     "metadata": {},
     "output_type": "display_data"
    },
    {
     "data": {
      "application/vnd.jupyter.widget-view+json": {
       "model_id": "",
       "version_major": 2,
       "version_minor": 0
      },
      "text/plain": [
       "VBox(children=(Label(value=' 0.00MB of 0.00MB uploaded (0.00MB deduped)\\r'), FloatProgress(value=1.0, max=1.0)…"
      ]
     },
     "metadata": {},
     "output_type": "display_data"
    },
    {
     "data": {
      "text/html": [
       "<style>\n",
       "    table.wandb td:nth-child(1) { padding: 0 10px; text-align: right }\n",
       "    .wandb-row { display: flex; flex-direction: row; flex-wrap: wrap; width: 100% }\n",
       "    .wandb-col { display: flex; flex-direction: column; flex-basis: 100%; flex: 1; padding: 10px; }\n",
       "    </style>\n",
       "<div class=\"wandb-row\"><div class=\"wandb-col\">\n",
       "<h3>Run history:</h3><br/><table class=\"wandb\"><tr><td>date</td><td>▁</td></tr><tr><td>end_total_asset</td><td>▁</td></tr><tr><td>trade_reward</td><td>▁</td></tr></table><br/></div><div class=\"wandb-col\">\n",
       "<h3>Run summary:</h3><br/><table class=\"wandb\"><tr><td>date</td><td>1573171200000000000</td></tr><tr><td>end_total_asset</td><td>995008.25411</td></tr><tr><td>trade_reward</td><td>0.0</td></tr></table>\n",
       "</div></div>\n",
       "Synced 5 W&B file(s), 0 media file(s), 0 artifact file(s) and 0 other file(s)\n",
       "<br/>Synced <strong style=\"color:#cdcd00\">royal-oath-1024</strong>: <a href=\"https://wandb.ai/kaanb/FundSimulator/runs/17wvch1u\" target=\"_blank\">https://wandb.ai/kaanb/FundSimulator/runs/17wvch1u</a><br/>\n",
       "Find logs at: <code>.\\wandb\\run-20220129_004320-17wvch1u\\logs</code><br/>\n"
      ],
      "text/plain": [
       "<IPython.core.display.HTML object>"
      ]
     },
     "metadata": {},
     "output_type": "display_data"
    },
    {
     "name": "stdout",
     "output_type": "stream",
     "text": [
      "============================================\n",
      "Stocks trading this period is  ['BMY' 'CSCO' 'CTRA' 'CVS' 'EQT' 'FTI' 'GILD' 'HBI' 'KMI' 'KO' 'KR' 'MDLZ'\n",
      " 'MDT' 'NWL' 'OXY' 'PG' 'RRC' 'TGT' 'WMT' 'WU']\n",
      "======Model training from:  2011-01-01 to  2018-11-21T00:00:00.000000000\n",
      "======Recurrent PPO Training for a population of 10========\n",
      "Training time  jim_clustered_PPO-v1 :  5.45647702217102  minutes\n",
      "======jim_clustered_PPO-v1 Validation from:  2018-11-21 00:00:00 to  2019-11-07 00:00:00\n",
      "-----------------\n",
      "Total Reward:  -21.19313907623291\n",
      "Total Trades:  2769\n",
      "End total asset for validation 955791.1455459977\n",
      "Mean Reward: -7.6142420265082364\n",
      "STD reward: 0.269701867901767\n",
      "-----------------\n",
      "Reward for the period is -21.19313907623291\n",
      "Agent #0 has better performance for the training period with total reward: 955791.1455459977\n",
      "Training time  jim_clustered_PPO-v1 :  4.845827428499858  minutes\n",
      "======jim_clustered_PPO-v1 Validation from:  2018-11-21 00:00:00 to  2019-11-07 00:00:00\n",
      "-----------------\n",
      "Total Reward:  -21.8882935247384\n",
      "Total Trades:  4542\n",
      "End total asset for validation 928662.7311466867\n",
      "Mean Reward: -7.327758980695217\n",
      "STD reward: 0.06106538758572949\n",
      "-----------------\n",
      "Reward for the period is -21.8882935247384\n",
      "Training time  jim_clustered_PPO-v1 :  4.7462431708971655  minutes\n",
      "======jim_clustered_PPO-v1 Validation from:  2018-11-21 00:00:00 to  2019-11-07 00:00:00\n",
      "-----------------\n",
      "Total Reward:  -22.292668115580454\n",
      "Total Trades:  3178\n",
      "End total asset for validation 779160.3374535649\n",
      "Mean Reward: -7.302072534145554\n",
      "STD reward: 0.012116035278067747\n",
      "-----------------\n",
      "Reward for the period is -22.292668115580454\n",
      "Training time  jim_clustered_PPO-v1 :  14.60463031133016  minutes\n",
      "======jim_clustered_PPO-v1 Validation from:  2018-11-21 00:00:00 to  2019-11-07 00:00:00\n",
      "-----------------\n",
      "Total Reward:  -22.216714988462627\n",
      "Total Trades:  4519\n",
      "End total asset for validation 868664.3083791919\n",
      "Mean Reward: -7.040210496779037\n",
      "STD reward: 0.11900516478756222\n",
      "-----------------\n",
      "Reward for the period is -22.216714988462627\n",
      "Model destabilized with params:   Creating new params\n",
      "Training time  jim_clustered_PPO-v1 :  5.564322503407796  minutes\n",
      "======jim_clustered_PPO-v1 Validation from:  2018-11-21 00:00:00 to  2019-11-07 00:00:00\n",
      "-----------------\n",
      "Total Reward:  -21.33362067863345\n",
      "Total Trades:  4093\n",
      "End total asset for validation 990428.326271335\n",
      "Mean Reward: -7.575634269326111\n",
      "STD reward: 0.2371213093169654\n",
      "-----------------\n",
      "Reward for the period is -21.33362067863345\n",
      "Agent #5 has better performance for the training period with total reward: 990428.326271335\n",
      "Model destabilized with params:   Creating new params\n",
      "Model destabilized with params:   Creating new params\n",
      "Model destabilized with params:   Creating new params\n",
      "Training time  jim_clustered_PPO-v1 :  4.755186434586843  minutes\n",
      "======jim_clustered_PPO-v1 Validation from:  2018-11-21 00:00:00 to  2019-11-07 00:00:00\n",
      "-----------------\n",
      "Total Reward:  -21.6909923478961\n",
      "Total Trades:  2489\n",
      "End total asset for validation 757166.4614569712\n",
      "Mean Reward: -7.423667673873934\n",
      "STD reward: 0.09980454204443852\n",
      "-----------------\n",
      "Reward for the period is -21.6909923478961\n",
      "Training time  jim_clustered_PPO-v1 :  5.476025716463725  minutes\n",
      "======Recurrent PPO Validation from:  2018-11-21T00:00:00.000000000 to  2019-11-08T00:00:00.000000000\n",
      "-----------------\n",
      "Total Reward:  -6.450712962039688\n",
      "Total Trades:  3242\n",
      "End total asset for validation 1028056.2491003936\n",
      "Mean Reward: -6.7699325490335465\n",
      "STD reward: 0.07425647870906935\n",
      "-----------------\n",
      "Total reward at validation for Reccurent PPO -6.450712962039688\n",
      "======Trading from:  2019-11-08T00:00:00.000000000 to  2020-10-26T00:00:00.000000000 Model is :  Rec_PPO\n",
      "==============================\n",
      "Previously traded stocks are ['AAL' 'AMAT' 'AMD' 'BSX' 'CMCSA' 'CSX' 'CTRA' 'FCX' 'GIS' 'HBAN' 'INTC'\n",
      " 'KEY' 'MRK' 'NEM' 'PCG' 'PFE' 'RF' 'TJX' 'UAA' 'VZ']\n",
      "====Closing position changing stocks at day 2019-12-30 00:00:00====\n",
      "New stocks are ['BMY' 'CSCO' 'CTRA' 'CVS' 'EQT' 'FTI' 'GILD' 'HBI' 'KMI' 'KO' 'KR' 'MDLZ'\n",
      " 'MDT' 'NWL' 'OXY' 'PG' 'RRC' 'TGT' 'WMT' 'WU']\n",
      "Current dollar is 1041901.4813778289\n",
      "==============================\n",
      "241\n",
      "Saving to  results/account_value_trade_main_jim_clustered_PPO-v1.csv\n",
      "previous_total_asset:995008.2541099965\n",
      "end_total_asset:1079177.5419950848\n",
      "total_asset_change:84169.28788508836\n",
      "Total cash is: 1.0158679054956536$ and total holdings in stocks are 1079176.5261271794$\n",
      "Buy & Hold strategy with previous total asset:  1050397.6699648364\n",
      "Total Cost:  8762.58187954712\n",
      "Sum of rewards  -104411310.8293446\n",
      "Total trades:  2295\n",
      "Total days in turbulance:  0\n",
      "Sharpe:  0.057080217531526874\n",
      "=============\n",
      "Total reward for the the window is -97.04231369495392\n",
      "=============\n"
     ]
    },
    {
     "data": {
      "text/html": [
       "\n",
       "                    Syncing run <strong><a href=\"https://wandb.ai/kaanb/FundSimulator/runs/252s6rnr\" target=\"_blank\">hardy-resonance-1025</a></strong> to <a href=\"https://wandb.ai/kaanb/FundSimulator\" target=\"_blank\">Weights & Biases</a> (<a href=\"https://docs.wandb.com/integrations/jupyter.html\" target=\"_blank\">docs</a>).<br/>\n",
       "\n",
       "                "
      ],
      "text/plain": [
       "<IPython.core.display.HTML object>"
      ]
     },
     "metadata": {},
     "output_type": "display_data"
    },
    {
     "data": {
      "text/html": [
       "<br/>Waiting for W&B process to finish, PID 9300... <strong style=\"color:green\">(success).</strong>"
      ],
      "text/plain": [
       "<IPython.core.display.HTML object>"
      ]
     },
     "metadata": {},
     "output_type": "display_data"
    },
    {
     "data": {
      "application/vnd.jupyter.widget-view+json": {
       "model_id": "",
       "version_major": 2,
       "version_minor": 0
      },
      "text/plain": [
       "VBox(children=(Label(value=' 0.00MB of 0.00MB uploaded (0.00MB deduped)\\r'), FloatProgress(value=1.0, max=1.0)…"
      ]
     },
     "metadata": {},
     "output_type": "display_data"
    },
    {
     "data": {
      "text/html": [
       "<style>\n",
       "    table.wandb td:nth-child(1) { padding: 0 10px; text-align: right }\n",
       "    .wandb-row { display: flex; flex-direction: row; flex-wrap: wrap; width: 100% }\n",
       "    .wandb-col { display: flex; flex-direction: column; flex-basis: 100%; flex: 1; padding: 10px; }\n",
       "    </style>\n",
       "<div class=\"wandb-row\"><div class=\"wandb-col\">\n",
       "<h3>Run history:</h3><br/><table class=\"wandb\"><tr><td>date</td><td>▁</td></tr><tr><td>end_total_asset</td><td>▁</td></tr><tr><td>trade_reward</td><td>▁</td></tr></table><br/></div><div class=\"wandb-col\">\n",
       "<h3>Run summary:</h3><br/><table class=\"wandb\"><tr><td>date</td><td>1603670400000000000</td></tr><tr><td>end_total_asset</td><td>1079177.542</td></tr><tr><td>trade_reward</td><td>0.0</td></tr></table>\n",
       "</div></div>\n",
       "Synced 5 W&B file(s), 0 media file(s), 0 artifact file(s) and 0 other file(s)\n",
       "<br/>Synced <strong style=\"color:#cdcd00\">hardy-resonance-1025</strong>: <a href=\"https://wandb.ai/kaanb/FundSimulator/runs/252s6rnr\" target=\"_blank\">https://wandb.ai/kaanb/FundSimulator/runs/252s6rnr</a><br/>\n",
       "Find logs at: <code>.\\wandb\\run-20220129_014331-252s6rnr\\logs</code><br/>\n"
      ],
      "text/plain": [
       "<IPython.core.display.HTML object>"
      ]
     },
     "metadata": {},
     "output_type": "display_data"
    },
    {
     "name": "stdout",
     "output_type": "stream",
     "text": [
      "============================================\n",
      "Stocks trading this period is  ['AMD' 'EQT' 'FE' 'GILD' 'IVZ' 'JNJ' 'KHC' 'KR' 'LUV' 'MAC' 'MDLZ' 'NEM'\n",
      " 'NVDA' 'OXY' 'QCOM' 'RF' 'SCHW' 'TSLA' 'V' 'WFC']\n",
      "======Model training from:  2011-01-01 to  2019-11-08T00:00:00.000000000\n",
      "======Recurrent PPO Training for a population of 10========\n",
      "Training time  jim_clustered_PPO-v1 :  5.468295458952586  minutes\n",
      "======jim_clustered_PPO-v1 Validation from:  2019-11-08 00:00:00 to  2020-10-23 00:00:00\n",
      "-----------------\n",
      "Total Reward:  -31.076597690582275\n",
      "Total Trades:  3273\n",
      "End total asset for validation 936679.6548404315\n",
      "Mean Reward: -6.698402003681986\n",
      "STD reward: 0.19025128067607458\n",
      "-----------------\n",
      "Reward for the period is -31.076597690582275\n",
      "Agent #0 has better performance for the training period with total reward: 936679.6548404315\n",
      "Training time  jim_clustered_PPO-v1 :  5.19429524342219  minutes\n",
      "======jim_clustered_PPO-v1 Validation from:  2019-11-08 00:00:00 to  2020-10-23 00:00:00\n",
      "-----------------\n",
      "Total Reward:  -27.90204866975546\n",
      "Total Trades:  4167\n",
      "End total asset for validation 1569760.6145119462\n",
      "Mean Reward: -7.389123258541804\n",
      "STD reward: 0.14028955183538197\n",
      "-----------------\n",
      "Reward for the period is -27.90204866975546\n",
      "Agent #1 has better performance for the training period with total reward: 1569760.6145119462\n",
      "Training time  jim_clustered_PPO-v1 :  4.933592255910238  minutes\n",
      "======jim_clustered_PPO-v1 Validation from:  2019-11-08 00:00:00 to  2020-10-23 00:00:00\n",
      "-----------------\n",
      "Total Reward:  -29.921638570725918\n",
      "Total Trades:  3139\n",
      "End total asset for validation 1315765.7364049077\n",
      "Mean Reward: -7.002244660013821\n",
      "STD reward: 0.1576689634832145\n",
      "-----------------\n",
      "Reward for the period is -29.921638570725918\n",
      "Model destabilized with params:   Creating new params\n",
      "Training time  jim_clustered_PPO-v1 :  4.905395452181498  minutes\n",
      "======jim_clustered_PPO-v1 Validation from:  2019-11-08 00:00:00 to  2020-10-23 00:00:00\n",
      "-----------------\n",
      "Total Reward:  -30.363660603761673\n",
      "Total Trades:  4534\n",
      "End total asset for validation 1140044.713802673\n",
      "Mean Reward: -6.895726637577172\n",
      "STD reward: 0.17134318240310206\n",
      "-----------------\n",
      "Reward for the period is -30.363660603761673\n",
      "Training time  jim_clustered_PPO-v1 :  4.751379462083181  minutes\n",
      "======jim_clustered_PPO-v1 Validation from:  2019-11-08 00:00:00 to  2020-10-23 00:00:00\n",
      "-----------------\n",
      "Total Reward:  -30.739733934402466\n",
      "Total Trades:  3865\n",
      "End total asset for validation 1090869.8600586802\n",
      "Mean Reward: -4.366382201568922\n",
      "STD reward: 0.2765816009499559\n",
      "-----------------\n",
      "Reward for the period is -30.739733934402466\n",
      "Model destabilized with params:   Creating new params\n",
      "Training time  jim_clustered_PPO-v1 :  4.993674675623576  minutes\n",
      "======jim_clustered_PPO-v1 Validation from:  2019-11-08 00:00:00 to  2020-10-23 00:00:00\n",
      "-----------------\n",
      "Total Reward:  -29.94282728433609\n",
      "Total Trades:  2523\n",
      "End total asset for validation 1333017.1816445193\n",
      "Mean Reward: -7.605057188298088\n",
      "STD reward: 0.3290026208658317\n",
      "-----------------\n",
      "Reward for the period is -29.94282728433609\n",
      "Training time  jim_clustered_PPO-v1 :  5.489023860295614  minutes\n",
      "======jim_clustered_PPO-v1 Validation from:  2019-11-08 00:00:00 to  2020-10-23 00:00:00\n",
      "-----------------\n",
      "Total Reward:  -25.23559809103608\n",
      "Total Trades:  2724\n",
      "End total asset for validation 1779529.456391221\n",
      "Mean Reward: -6.945763939339668\n",
      "STD reward: 0.17928421184825816\n",
      "-----------------\n",
      "Reward for the period is -25.23559809103608\n",
      "Agent #8 has better performance for the training period with total reward: 1779529.456391221\n",
      "Training time  jim_clustered_PPO-v1 :  4.923951367537181  minutes\n",
      "======jim_clustered_PPO-v1 Validation from:  2019-11-08 00:00:00 to  2020-10-23 00:00:00\n",
      "-----------------\n",
      "Total Reward:  -25.891591027379036\n",
      "Total Trades:  3627\n",
      "End total asset for validation 1766231.540676113\n",
      "Mean Reward: -8.364490784076043\n",
      "STD reward: 1.4478449100309603\n",
      "-----------------\n",
      "Reward for the period is -25.891591027379036\n",
      "Training time  jim_clustered_PPO-v1 :  5.509834857781728  minutes\n",
      "======Recurrent PPO Validation from:  2019-11-08T00:00:00.000000000 to  2020-10-26T00:00:00.000000000\n",
      "-----------------\n",
      "Total Reward:  -17.84165052251774\n",
      "Total Trades:  3116\n",
      "End total asset for validation 808051.3482491104\n",
      "Mean Reward: -7.404153595946264\n",
      "STD reward: 0.23262658618816506\n",
      "-----------------\n",
      "Total reward at validation for Reccurent PPO -17.84165052251774\n",
      "======Trading from:  2020-10-26T00:00:00.000000000 to  2021-10-13T00:00:00.000000000 Model is :  Rec_PPO\n",
      "==============================\n",
      "Previously traded stocks are ['BMY' 'CSCO' 'CTRA' 'CVS' 'EQT' 'FTI' 'GILD' 'HBI' 'KMI' 'KO' 'KR' 'MDLZ'\n",
      " 'MDT' 'NWL' 'OXY' 'PG' 'RRC' 'TGT' 'WMT' 'WU']\n",
      "====Closing position changing stocks at day 2020-12-29 00:00:00====\n",
      "New stocks are ['AMD' 'EQT' 'FE' 'GILD' 'IVZ' 'JNJ' 'KHC' 'KR' 'LUV' 'MAC' 'MDLZ' 'NEM'\n",
      " 'NVDA' 'OXY' 'QCOM' 'RF' 'SCHW' 'TSLA' 'V' 'WFC']\n",
      "Current dollar is 1100533.6150769219\n",
      "==============================\n",
      "241\n",
      "Saving to  results/account_value_trade_main_jim_clustered_PPO-v1.csv\n",
      "previous_total_asset:1079177.5419950848\n",
      "end_total_asset:1257481.771708735\n",
      "total_asset_change:178304.2297136502\n",
      "Total cash is: 12.888493784543872$ and total holdings in stocks are 1257468.8832149506$\n",
      "Buy & Hold strategy with previous total asset:  1333986.8894501645\n",
      "Total Cost:  7280.625128453367\n",
      "Sum of rewards  -463126451.5570562\n",
      "Total trades:  1456\n",
      "Total days in turbulance:  0\n",
      "Sharpe:  0.14423921217606253\n",
      "=============\n",
      "Total reward for the the window is -132.84119229018688\n",
      "=============\n"
     ]
    },
    {
     "data": {
      "text/html": [
       "\n",
       "                    Syncing run <strong><a href=\"https://wandb.ai/kaanb/FundSimulator/runs/39i0kdin\" target=\"_blank\">upbeat-breeze-1026</a></strong> to <a href=\"https://wandb.ai/kaanb/FundSimulator\" target=\"_blank\">Weights & Biases</a> (<a href=\"https://docs.wandb.com/integrations/jupyter.html\" target=\"_blank\">docs</a>).<br/>\n",
       "\n",
       "                "
      ],
      "text/plain": [
       "<IPython.core.display.HTML object>"
      ]
     },
     "metadata": {},
     "output_type": "display_data"
    },
    {
     "data": {
      "text/html": [
       "<br/>Waiting for W&B process to finish, PID 8656... <strong style=\"color:green\">(success).</strong>"
      ],
      "text/plain": [
       "<IPython.core.display.HTML object>"
      ]
     },
     "metadata": {},
     "output_type": "display_data"
    },
    {
     "data": {
      "application/vnd.jupyter.widget-view+json": {
       "model_id": "",
       "version_major": 2,
       "version_minor": 0
      },
      "text/plain": [
       "VBox(children=(Label(value=' 0.00MB of 0.00MB uploaded (0.00MB deduped)\\r'), FloatProgress(value=1.0, max=1.0)…"
      ]
     },
     "metadata": {},
     "output_type": "display_data"
    },
    {
     "data": {
      "text/html": [
       "<style>\n",
       "    table.wandb td:nth-child(1) { padding: 0 10px; text-align: right }\n",
       "    .wandb-row { display: flex; flex-direction: row; flex-wrap: wrap; width: 100% }\n",
       "    .wandb-col { display: flex; flex-direction: column; flex-basis: 100%; flex: 1; padding: 10px; }\n",
       "    </style>\n",
       "<div class=\"wandb-row\"><div class=\"wandb-col\">\n",
       "<h3>Run history:</h3><br/><table class=\"wandb\"><tr><td>date</td><td>▁</td></tr><tr><td>end_total_asset</td><td>▁</td></tr><tr><td>trade_reward</td><td>▁</td></tr></table><br/></div><div class=\"wandb-col\">\n",
       "<h3>Run summary:</h3><br/><table class=\"wandb\"><tr><td>date</td><td>1634083200000000000</td></tr><tr><td>end_total_asset</td><td>1257481.77171</td></tr><tr><td>trade_reward</td><td>0.0</td></tr></table>\n",
       "</div></div>\n",
       "Synced 5 W&B file(s), 0 media file(s), 0 artifact file(s) and 0 other file(s)\n",
       "<br/>Synced <strong style=\"color:#cdcd00\">upbeat-breeze-1026</strong>: <a href=\"https://wandb.ai/kaanb/FundSimulator/runs/39i0kdin\" target=\"_blank\">https://wandb.ai/kaanb/FundSimulator/runs/39i0kdin</a><br/>\n",
       "Find logs at: <code>.\\wandb\\run-20220129_023636-39i0kdin\\logs</code><br/>\n"
      ],
      "text/plain": [
       "<IPython.core.display.HTML object>"
      ]
     },
     "metadata": {},
     "output_type": "display_data"
    },
    {
     "name": "stdout",
     "output_type": "stream",
     "text": [
      "Ensemble Strategy took:  266.65156384706495  minutes\n"
     ]
    }
   ],
   "source": [
    "trainer.cluster(normalize=True)"
   ]
  },
  {
   "cell_type": "code",
   "execution_count": 54,
   "metadata": {},
   "outputs": [
    {
     "data": {
      "text/plain": [
       "19"
      ]
     },
     "execution_count": 54,
     "metadata": {},
     "output_type": "execute_result"
    }
   ],
   "source": [
    "len(['AMD', 'CAT', 'CSCO', 'EW', 'GILD', 'GM', 'HIG', 'INTC', 'LLY', 'MDLZ', 'MNST',\n",
    " 'MRK', 'MRO' ,'NEE', 'NEM' ,'NFLX', 'TJX', 'WMT' ,'WU'])"
   ]
  },
  {
   "cell_type": "code",
   "execution_count": 124,
   "metadata": {},
   "outputs": [],
   "source": [
    "df = pd.read_csv('datasets/clusterTrain_processed.csv')"
   ]
  },
  {
   "cell_type": "code",
   "execution_count": 130,
   "metadata": {},
   "outputs": [
    {
     "name": "stdout",
     "output_type": "stream",
     "text": [
      "index\n"
     ]
    }
   ],
   "source": [
    "for col in df.columns:\n",
    "    if any(df[col].isna()):\n",
    "        print(col)"
   ]
  },
  {
   "cell_type": "code",
   "execution_count": 131,
   "metadata": {},
   "outputs": [
    {
     "data": {
      "text/html": [
       "<div>\n",
       "<style scoped>\n",
       "    .dataframe tbody tr th:only-of-type {\n",
       "        vertical-align: middle;\n",
       "    }\n",
       "\n",
       "    .dataframe tbody tr th {\n",
       "        vertical-align: top;\n",
       "    }\n",
       "\n",
       "    .dataframe thead th {\n",
       "        text-align: right;\n",
       "    }\n",
       "</style>\n",
       "<table border=\"1\" class=\"dataframe\">\n",
       "  <thead>\n",
       "    <tr style=\"text-align: right;\">\n",
       "      <th></th>\n",
       "      <th>Unnamed: 0</th>\n",
       "      <th>level_0</th>\n",
       "      <th>Date</th>\n",
       "      <th>Open</th>\n",
       "      <th>High</th>\n",
       "      <th>Low</th>\n",
       "      <th>Close</th>\n",
       "      <th>adjcp</th>\n",
       "      <th>volume</th>\n",
       "      <th>ticker</th>\n",
       "      <th>...</th>\n",
       "      <th>dx_30</th>\n",
       "      <th>vr</th>\n",
       "      <th>atr</th>\n",
       "      <th>dma</th>\n",
       "      <th>volume_delta</th>\n",
       "      <th>category</th>\n",
       "      <th>turbulence</th>\n",
       "      <th>month</th>\n",
       "      <th>day</th>\n",
       "      <th>index</th>\n",
       "    </tr>\n",
       "  </thead>\n",
       "  <tbody>\n",
       "    <tr>\n",
       "      <th>0</th>\n",
       "      <td>0</td>\n",
       "      <td>168</td>\n",
       "      <td>2012-01-03</td>\n",
       "      <td>23.770000</td>\n",
       "      <td>24.500000</td>\n",
       "      <td>23.730000</td>\n",
       "      <td>24.070000</td>\n",
       "      <td>19.945980</td>\n",
       "      <td>4221700.0</td>\n",
       "      <td>AIG</td>\n",
       "      <td>...</td>\n",
       "      <td>9.370646</td>\n",
       "      <td>195.323013</td>\n",
       "      <td>4.461909</td>\n",
       "      <td>0.206669</td>\n",
       "      <td>1955700.0</td>\n",
       "      <td>3.0</td>\n",
       "      <td>0.0</td>\n",
       "      <td>1</td>\n",
       "      <td>3</td>\n",
       "      <td>NaN</td>\n",
       "    </tr>\n",
       "    <tr>\n",
       "      <th>1</th>\n",
       "      <td>1</td>\n",
       "      <td>585</td>\n",
       "      <td>2012-01-03</td>\n",
       "      <td>3.116891</td>\n",
       "      <td>3.146220</td>\n",
       "      <td>3.072897</td>\n",
       "      <td>3.094227</td>\n",
       "      <td>1.725874</td>\n",
       "      <td>8963773.0</td>\n",
       "      <td>AIV</td>\n",
       "      <td>...</td>\n",
       "      <td>27.520050</td>\n",
       "      <td>150.817767</td>\n",
       "      <td>1.359578</td>\n",
       "      <td>0.015653</td>\n",
       "      <td>2527109.0</td>\n",
       "      <td>7.0</td>\n",
       "      <td>0.0</td>\n",
       "      <td>1</td>\n",
       "      <td>3</td>\n",
       "      <td>NaN</td>\n",
       "    </tr>\n",
       "    <tr>\n",
       "      <th>2</th>\n",
       "      <td>2</td>\n",
       "      <td>1002</td>\n",
       "      <td>2012-01-03</td>\n",
       "      <td>5.750000</td>\n",
       "      <td>5.890000</td>\n",
       "      <td>5.740000</td>\n",
       "      <td>5.800000</td>\n",
       "      <td>5.018795</td>\n",
       "      <td>246293200.0</td>\n",
       "      <td>BAC</td>\n",
       "      <td>...</td>\n",
       "      <td>9.254764</td>\n",
       "      <td>170.040108</td>\n",
       "      <td>0.884104</td>\n",
       "      <td>-0.380769</td>\n",
       "      <td>69852200.0</td>\n",
       "      <td>3.0</td>\n",
       "      <td>0.0</td>\n",
       "      <td>1</td>\n",
       "      <td>3</td>\n",
       "      <td>NaN</td>\n",
       "    </tr>\n",
       "    <tr>\n",
       "      <th>3</th>\n",
       "      <td>3</td>\n",
       "      <td>1419</td>\n",
       "      <td>2012-01-03</td>\n",
       "      <td>27.229767</td>\n",
       "      <td>27.577404</td>\n",
       "      <td>27.229767</td>\n",
       "      <td>27.452471</td>\n",
       "      <td>23.091703</td>\n",
       "      <td>6193308.0</td>\n",
       "      <td>BAX</td>\n",
       "      <td>...</td>\n",
       "      <td>3.335021</td>\n",
       "      <td>93.284261</td>\n",
       "      <td>4.624437</td>\n",
       "      <td>-0.841310</td>\n",
       "      <td>3463841.0</td>\n",
       "      <td>4.0</td>\n",
       "      <td>0.0</td>\n",
       "      <td>1</td>\n",
       "      <td>3</td>\n",
       "      <td>NaN</td>\n",
       "    </tr>\n",
       "    <tr>\n",
       "      <th>4</th>\n",
       "      <td>4</td>\n",
       "      <td>1836</td>\n",
       "      <td>2012-01-03</td>\n",
       "      <td>20.400000</td>\n",
       "      <td>20.760000</td>\n",
       "      <td>20.400000</td>\n",
       "      <td>20.510000</td>\n",
       "      <td>16.506168</td>\n",
       "      <td>5953100.0</td>\n",
       "      <td>BK</td>\n",
       "      <td>...</td>\n",
       "      <td>22.240598</td>\n",
       "      <td>148.917496</td>\n",
       "      <td>4.149062</td>\n",
       "      <td>-0.066494</td>\n",
       "      <td>2254200.0</td>\n",
       "      <td>3.0</td>\n",
       "      <td>0.0</td>\n",
       "      <td>1</td>\n",
       "      <td>3</td>\n",
       "      <td>NaN</td>\n",
       "    </tr>\n",
       "  </tbody>\n",
       "</table>\n",
       "<p>5 rows × 32 columns</p>\n",
       "</div>"
      ],
      "text/plain": [
       "   Unnamed: 0  level_0        Date       Open       High        Low  \\\n",
       "0           0      168  2012-01-03  23.770000  24.500000  23.730000   \n",
       "1           1      585  2012-01-03   3.116891   3.146220   3.072897   \n",
       "2           2     1002  2012-01-03   5.750000   5.890000   5.740000   \n",
       "3           3     1419  2012-01-03  27.229767  27.577404  27.229767   \n",
       "4           4     1836  2012-01-03  20.400000  20.760000  20.400000   \n",
       "\n",
       "       Close      adjcp       volume ticker  ...      dx_30          vr  \\\n",
       "0  24.070000  19.945980    4221700.0    AIG  ...   9.370646  195.323013   \n",
       "1   3.094227   1.725874    8963773.0    AIV  ...  27.520050  150.817767   \n",
       "2   5.800000   5.018795  246293200.0    BAC  ...   9.254764  170.040108   \n",
       "3  27.452471  23.091703    6193308.0    BAX  ...   3.335021   93.284261   \n",
       "4  20.510000  16.506168    5953100.0     BK  ...  22.240598  148.917496   \n",
       "\n",
       "        atr       dma  volume_delta  category  turbulence  month  day  index  \n",
       "0  4.461909  0.206669     1955700.0       3.0         0.0      1    3    NaN  \n",
       "1  1.359578  0.015653     2527109.0       7.0         0.0      1    3    NaN  \n",
       "2  0.884104 -0.380769    69852200.0       3.0         0.0      1    3    NaN  \n",
       "3  4.624437 -0.841310     3463841.0       4.0         0.0      1    3    NaN  \n",
       "4  4.149062 -0.066494     2254200.0       3.0         0.0      1    3    NaN  \n",
       "\n",
       "[5 rows x 32 columns]"
      ]
     },
     "execution_count": 131,
     "metadata": {},
     "output_type": "execute_result"
    }
   ],
   "source": [
    "df.head()"
   ]
  },
  {
   "cell_type": "code",
   "execution_count": null,
   "metadata": {},
   "outputs": [],
   "source": []
  }
 ],
 "metadata": {
  "kernelspec": {
   "display_name": "Python 3 (ipykernel)",
   "language": "python",
   "name": "python3"
  },
  "language_info": {
   "codemirror_mode": {
    "name": "ipython",
    "version": 3
   },
   "file_extension": ".py",
   "mimetype": "text/x-python",
   "name": "python",
   "nbconvert_exporter": "python",
   "pygments_lexer": "ipython3",
   "version": "3.8.12"
  }
 },
 "nbformat": 4,
 "nbformat_minor": 4
}
