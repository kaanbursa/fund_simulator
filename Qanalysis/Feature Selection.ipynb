{
 "cells": [
  {
   "cell_type": "markdown",
   "id": "1f45c603",
   "metadata": {},
   "source": [
    "### Filtering Features\n",
    "\n",
    "Data variance  [2], Pearson correlation coefficients  [10], Fisher score  [11], and the Kolmogorov–Smirnov test"
   ]
  },
  {
   "cell_type": "code",
   "execution_count": 12,
   "id": "4492581d",
   "metadata": {},
   "outputs": [],
   "source": [
    "import pandas as pd\n",
    "import numpy as np\n",
    "from sklearn.feature_selection import SelectKBest\n",
    "from sklearn.feature_selection import chi2\n",
    "import sys \n",
    "from finta import TA\n",
    "sys.path.append('..')"
   ]
  },
  {
   "cell_type": "code",
   "execution_count": 9,
   "id": "9926a7bc",
   "metadata": {},
   "outputs": [],
   "source": [
    "from data.preprocessing import data_split, get_price"
   ]
  },
  {
   "cell_type": "code",
   "execution_count": 11,
   "id": "d09de4db",
   "metadata": {},
   "outputs": [],
   "source": [
    "googl = get_price('GOOGL', '2016-05-05')"
   ]
  },
  {
   "cell_type": "code",
   "execution_count": null,
   "id": "46dcae2c",
   "metadata": {},
   "outputs": [],
   "source": []
  }
 ],
 "metadata": {
  "kernelspec": {
   "display_name": "Python 3",
   "language": "python",
   "name": "python3"
  },
  "language_info": {
   "codemirror_mode": {
    "name": "ipython",
    "version": 3
   },
   "file_extension": ".py",
   "mimetype": "text/x-python",
   "name": "python",
   "nbconvert_exporter": "python",
   "pygments_lexer": "ipython3",
   "version": "3.7.10"
  }
 },
 "nbformat": 4,
 "nbformat_minor": 5
}
