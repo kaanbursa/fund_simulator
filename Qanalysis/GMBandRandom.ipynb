{
 "cells": [
  {
   "cell_type": "code",
   "execution_count": 1,
   "id": "removed-walter",
   "metadata": {},
   "outputs": [],
   "source": [
    "def random_walk(startprice):\n",
    "    price = numpy.zeros(days)\n",
    "    shock = numpy.zeros(days)\n",
    "    price[0] = startprice\n",
    "    for i in range(1, days):\n",
    "        shock[i] = numpy.random.normal(loc=mu * dt, scale=sigma * numpy.sqrt(dt))\n",
    "        price[i] = max(0, price[i-1] + shock[i] * price[i-1])\n",
    "    return price"
   ]
  },
  {
   "cell_type": "code",
   "execution_count": null,
   "id": "specific-algebra",
   "metadata": {},
   "outputs": [],
   "source": []
  }
 ],
 "metadata": {
  "kernelspec": {
   "display_name": "Python 3",
   "language": "python",
   "name": "python3"
  },
  "language_info": {
   "codemirror_mode": {
    "name": "ipython",
    "version": 3
   },
   "file_extension": ".py",
   "mimetype": "text/x-python",
   "name": "python",
   "nbconvert_exporter": "python",
   "pygments_lexer": "ipython3",
   "version": "3.7.10"
  }
 },
 "nbformat": 4,
 "nbformat_minor": 5
}
